{
 "cells": [
  {
   "cell_type": "code",
   "execution_count": 105,
   "metadata": {},
   "outputs": [],
   "source": [
    "import pandas as pd\n",
    "import numpy as np\n",
    "import matplotlib.pyplot as plt\n",
    "import seaborn as sns\n",
    "%matplotlib inline"
   ]
  },
  {
   "cell_type": "code",
   "execution_count": 2,
   "metadata": {},
   "outputs": [],
   "source": [
    "df_rec_trei = pd.read_csv('desafio_train.csv')\n",
    "df_rec_test = pd.read_csv('desafio_test.csv')"
   ]
  },
  {
   "cell_type": "code",
   "execution_count": 3,
   "metadata": {},
   "outputs": [
    {
     "data": {
      "text/html": [
       "<div>\n",
       "<style scoped>\n",
       "    .dataframe tbody tr th:only-of-type {\n",
       "        vertical-align: middle;\n",
       "    }\n",
       "\n",
       "    .dataframe tbody tr th {\n",
       "        vertical-align: top;\n",
       "    }\n",
       "\n",
       "    .dataframe thead th {\n",
       "        text-align: right;\n",
       "    }\n",
       "</style>\n",
       "<table border=\"1\" class=\"dataframe\">\n",
       "  <thead>\n",
       "    <tr style=\"text-align: right;\">\n",
       "      <th></th>\n",
       "      <th>id</th>\n",
       "      <th>cnae2</th>\n",
       "      <th>rf2</th>\n",
       "      <th>md1</th>\n",
       "      <th>md2</th>\n",
       "      <th>md3</th>\n",
       "      <th>md4</th>\n",
       "      <th>md5</th>\n",
       "      <th>md6</th>\n",
       "      <th>md7</th>\n",
       "      <th>...</th>\n",
       "      <th>ind35</th>\n",
       "      <th>ind36</th>\n",
       "      <th>ind37</th>\n",
       "      <th>ind38</th>\n",
       "      <th>ind39</th>\n",
       "      <th>ind40</th>\n",
       "      <th>ind41</th>\n",
       "      <th>ind42</th>\n",
       "      <th>ind43</th>\n",
       "      <th>target</th>\n",
       "    </tr>\n",
       "  </thead>\n",
       "  <tbody>\n",
       "    <tr>\n",
       "      <th>0</th>\n",
       "      <td>0</td>\n",
       "      <td>86</td>\n",
       "      <td>i</td>\n",
       "      <td>0.090339</td>\n",
       "      <td>0.011256</td>\n",
       "      <td>0.111095</td>\n",
       "      <td>0.003233</td>\n",
       "      <td>0.003233</td>\n",
       "      <td>0.0</td>\n",
       "      <td>0.016366</td>\n",
       "      <td>...</td>\n",
       "      <td>1.0</td>\n",
       "      <td>1.0</td>\n",
       "      <td>1.0</td>\n",
       "      <td>0.0</td>\n",
       "      <td>0.0</td>\n",
       "      <td>0.0</td>\n",
       "      <td>0.0</td>\n",
       "      <td>0.0</td>\n",
       "      <td>0.0</td>\n",
       "      <td>True</td>\n",
       "    </tr>\n",
       "    <tr>\n",
       "      <th>1</th>\n",
       "      <td>1</td>\n",
       "      <td>18</td>\n",
       "      <td>z</td>\n",
       "      <td>0.005996</td>\n",
       "      <td>0.019476</td>\n",
       "      <td>0.124770</td>\n",
       "      <td>0.000000</td>\n",
       "      <td>0.038168</td>\n",
       "      <td>0.0</td>\n",
       "      <td>0.029214</td>\n",
       "      <td>...</td>\n",
       "      <td>0.0</td>\n",
       "      <td>1.0</td>\n",
       "      <td>0.0</td>\n",
       "      <td>0.0</td>\n",
       "      <td>0.0</td>\n",
       "      <td>0.0</td>\n",
       "      <td>0.0</td>\n",
       "      <td>0.0</td>\n",
       "      <td>0.0</td>\n",
       "      <td>False</td>\n",
       "    </tr>\n",
       "    <tr>\n",
       "      <th>2</th>\n",
       "      <td>2</td>\n",
       "      <td>74</td>\n",
       "      <td>z</td>\n",
       "      <td>0.000006</td>\n",
       "      <td>0.002902</td>\n",
       "      <td>0.110160</td>\n",
       "      <td>0.002274</td>\n",
       "      <td>0.002274</td>\n",
       "      <td>0.0</td>\n",
       "      <td>0.002902</td>\n",
       "      <td>...</td>\n",
       "      <td>1.0</td>\n",
       "      <td>1.0</td>\n",
       "      <td>1.0</td>\n",
       "      <td>0.0</td>\n",
       "      <td>0.0</td>\n",
       "      <td>0.0</td>\n",
       "      <td>0.0</td>\n",
       "      <td>0.0</td>\n",
       "      <td>0.0</td>\n",
       "      <td>False</td>\n",
       "    </tr>\n",
       "    <tr>\n",
       "      <th>3</th>\n",
       "      <td>3</td>\n",
       "      <td>49</td>\n",
       "      <td>q</td>\n",
       "      <td>0.000009</td>\n",
       "      <td>0.014526</td>\n",
       "      <td>0.120351</td>\n",
       "      <td>0.000000</td>\n",
       "      <td>0.000000</td>\n",
       "      <td>0.0</td>\n",
       "      <td>0.014526</td>\n",
       "      <td>...</td>\n",
       "      <td>1.0</td>\n",
       "      <td>0.0</td>\n",
       "      <td>1.0</td>\n",
       "      <td>0.0</td>\n",
       "      <td>0.0</td>\n",
       "      <td>0.0</td>\n",
       "      <td>0.0</td>\n",
       "      <td>0.0</td>\n",
       "      <td>0.0</td>\n",
       "      <td>False</td>\n",
       "    </tr>\n",
       "    <tr>\n",
       "      <th>4</th>\n",
       "      <td>4</td>\n",
       "      <td>47</td>\n",
       "      <td>i</td>\n",
       "      <td>0.000191</td>\n",
       "      <td>0.004042</td>\n",
       "      <td>0.111078</td>\n",
       "      <td>0.001121</td>\n",
       "      <td>0.001121</td>\n",
       "      <td>0.0</td>\n",
       "      <td>0.006063</td>\n",
       "      <td>...</td>\n",
       "      <td>1.0</td>\n",
       "      <td>0.0</td>\n",
       "      <td>0.0</td>\n",
       "      <td>0.0</td>\n",
       "      <td>1.0</td>\n",
       "      <td>0.0</td>\n",
       "      <td>0.0</td>\n",
       "      <td>1.0</td>\n",
       "      <td>0.5</td>\n",
       "      <td>False</td>\n",
       "    </tr>\n",
       "  </tbody>\n",
       "</table>\n",
       "<p>5 rows × 63 columns</p>\n",
       "</div>"
      ],
      "text/plain": [
       "   id  cnae2 rf2       md1       md2       md3       md4       md5  md6  \\\n",
       "0   0     86   i  0.090339  0.011256  0.111095  0.003233  0.003233  0.0   \n",
       "1   1     18   z  0.005996  0.019476  0.124770  0.000000  0.038168  0.0   \n",
       "2   2     74   z  0.000006  0.002902  0.110160  0.002274  0.002274  0.0   \n",
       "3   3     49   q  0.000009  0.014526  0.120351  0.000000  0.000000  0.0   \n",
       "4   4     47   i  0.000191  0.004042  0.111078  0.001121  0.001121  0.0   \n",
       "\n",
       "        md7  ...  ind35  ind36  ind37  ind38  ind39  ind40  ind41  ind42  \\\n",
       "0  0.016366  ...    1.0    1.0    1.0    0.0    0.0    0.0    0.0    0.0   \n",
       "1  0.029214  ...    0.0    1.0    0.0    0.0    0.0    0.0    0.0    0.0   \n",
       "2  0.002902  ...    1.0    1.0    1.0    0.0    0.0    0.0    0.0    0.0   \n",
       "3  0.014526  ...    1.0    0.0    1.0    0.0    0.0    0.0    0.0    0.0   \n",
       "4  0.006063  ...    1.0    0.0    0.0    0.0    1.0    0.0    0.0    1.0   \n",
       "\n",
       "   ind43  target  \n",
       "0    0.0    True  \n",
       "1    0.0   False  \n",
       "2    0.0   False  \n",
       "3    0.0   False  \n",
       "4    0.5   False  \n",
       "\n",
       "[5 rows x 63 columns]"
      ]
     },
     "execution_count": 3,
     "metadata": {},
     "output_type": "execute_result"
    }
   ],
   "source": [
    "df_rec_trei.head()"
   ]
  },
  {
   "cell_type": "code",
   "execution_count": 4,
   "metadata": {},
   "outputs": [
    {
     "data": {
      "text/html": [
       "<div>\n",
       "<style scoped>\n",
       "    .dataframe tbody tr th:only-of-type {\n",
       "        vertical-align: middle;\n",
       "    }\n",
       "\n",
       "    .dataframe tbody tr th {\n",
       "        vertical-align: top;\n",
       "    }\n",
       "\n",
       "    .dataframe thead th {\n",
       "        text-align: right;\n",
       "    }\n",
       "</style>\n",
       "<table border=\"1\" class=\"dataframe\">\n",
       "  <thead>\n",
       "    <tr style=\"text-align: right;\">\n",
       "      <th></th>\n",
       "      <th>id</th>\n",
       "      <th>cnae2</th>\n",
       "      <th>rf2</th>\n",
       "      <th>md1</th>\n",
       "      <th>md2</th>\n",
       "      <th>md3</th>\n",
       "      <th>md4</th>\n",
       "      <th>md5</th>\n",
       "      <th>md6</th>\n",
       "      <th>md7</th>\n",
       "      <th>...</th>\n",
       "      <th>ind34</th>\n",
       "      <th>ind35</th>\n",
       "      <th>ind36</th>\n",
       "      <th>ind37</th>\n",
       "      <th>ind38</th>\n",
       "      <th>ind39</th>\n",
       "      <th>ind40</th>\n",
       "      <th>ind41</th>\n",
       "      <th>ind42</th>\n",
       "      <th>ind43</th>\n",
       "    </tr>\n",
       "  </thead>\n",
       "  <tbody>\n",
       "    <tr>\n",
       "      <th>0</th>\n",
       "      <td>3411</td>\n",
       "      <td>71</td>\n",
       "      <td>s</td>\n",
       "      <td>0.017485</td>\n",
       "      <td>0.004743</td>\n",
       "      <td>0.111771</td>\n",
       "      <td>0.003121</td>\n",
       "      <td>0.003121</td>\n",
       "      <td>0.0</td>\n",
       "      <td>0.005432</td>\n",
       "      <td>...</td>\n",
       "      <td>0.0</td>\n",
       "      <td>1.0</td>\n",
       "      <td>1.0</td>\n",
       "      <td>0.0</td>\n",
       "      <td>0.0</td>\n",
       "      <td>0.0</td>\n",
       "      <td>0.0</td>\n",
       "      <td>0.0</td>\n",
       "      <td>0.0</td>\n",
       "      <td>0.0</td>\n",
       "    </tr>\n",
       "    <tr>\n",
       "      <th>1</th>\n",
       "      <td>2177</td>\n",
       "      <td>86</td>\n",
       "      <td>y</td>\n",
       "      <td>0.012269</td>\n",
       "      <td>0.005919</td>\n",
       "      <td>0.111803</td>\n",
       "      <td>0.001136</td>\n",
       "      <td>0.000000</td>\n",
       "      <td>0.0</td>\n",
       "      <td>0.006160</td>\n",
       "      <td>...</td>\n",
       "      <td>0.0</td>\n",
       "      <td>1.0</td>\n",
       "      <td>0.0</td>\n",
       "      <td>1.0</td>\n",
       "      <td>0.0</td>\n",
       "      <td>0.0</td>\n",
       "      <td>0.0</td>\n",
       "      <td>0.0</td>\n",
       "      <td>0.0</td>\n",
       "      <td>0.0</td>\n",
       "    </tr>\n",
       "    <tr>\n",
       "      <th>2</th>\n",
       "      <td>8400</td>\n",
       "      <td>41</td>\n",
       "      <td>z</td>\n",
       "      <td>0.002325</td>\n",
       "      <td>0.001882</td>\n",
       "      <td>0.109870</td>\n",
       "      <td>0.000000</td>\n",
       "      <td>0.000000</td>\n",
       "      <td>0.0</td>\n",
       "      <td>0.002823</td>\n",
       "      <td>...</td>\n",
       "      <td>1.0</td>\n",
       "      <td>1.0</td>\n",
       "      <td>1.0</td>\n",
       "      <td>1.0</td>\n",
       "      <td>0.0</td>\n",
       "      <td>0.0</td>\n",
       "      <td>0.0</td>\n",
       "      <td>0.0</td>\n",
       "      <td>0.0</td>\n",
       "      <td>0.0</td>\n",
       "    </tr>\n",
       "    <tr>\n",
       "      <th>3</th>\n",
       "      <td>464</td>\n",
       "      <td>58</td>\n",
       "      <td>z</td>\n",
       "      <td>0.022149</td>\n",
       "      <td>0.042115</td>\n",
       "      <td>0.143274</td>\n",
       "      <td>0.052107</td>\n",
       "      <td>0.005284</td>\n",
       "      <td>0.0</td>\n",
       "      <td>0.042115</td>\n",
       "      <td>...</td>\n",
       "      <td>0.0</td>\n",
       "      <td>1.0</td>\n",
       "      <td>0.0</td>\n",
       "      <td>0.0</td>\n",
       "      <td>0.0</td>\n",
       "      <td>0.0</td>\n",
       "      <td>0.0</td>\n",
       "      <td>0.0</td>\n",
       "      <td>0.0</td>\n",
       "      <td>0.0</td>\n",
       "    </tr>\n",
       "    <tr>\n",
       "      <th>4</th>\n",
       "      <td>6672</td>\n",
       "      <td>86</td>\n",
       "      <td>p</td>\n",
       "      <td>0.011190</td>\n",
       "      <td>0.004536</td>\n",
       "      <td>0.110678</td>\n",
       "      <td>0.002873</td>\n",
       "      <td>0.003131</td>\n",
       "      <td>0.0</td>\n",
       "      <td>0.004536</td>\n",
       "      <td>...</td>\n",
       "      <td>0.0</td>\n",
       "      <td>1.0</td>\n",
       "      <td>1.0</td>\n",
       "      <td>1.0</td>\n",
       "      <td>0.0</td>\n",
       "      <td>0.0</td>\n",
       "      <td>0.0</td>\n",
       "      <td>0.0</td>\n",
       "      <td>0.0</td>\n",
       "      <td>0.0</td>\n",
       "    </tr>\n",
       "  </tbody>\n",
       "</table>\n",
       "<p>5 rows × 62 columns</p>\n",
       "</div>"
      ],
      "text/plain": [
       "     id  cnae2 rf2       md1       md2       md3       md4       md5  md6  \\\n",
       "0  3411     71   s  0.017485  0.004743  0.111771  0.003121  0.003121  0.0   \n",
       "1  2177     86   y  0.012269  0.005919  0.111803  0.001136  0.000000  0.0   \n",
       "2  8400     41   z  0.002325  0.001882  0.109870  0.000000  0.000000  0.0   \n",
       "3   464     58   z  0.022149  0.042115  0.143274  0.052107  0.005284  0.0   \n",
       "4  6672     86   p  0.011190  0.004536  0.110678  0.002873  0.003131  0.0   \n",
       "\n",
       "        md7  ...  ind34  ind35  ind36  ind37  ind38  ind39  ind40  ind41  \\\n",
       "0  0.005432  ...    0.0    1.0    1.0    0.0    0.0    0.0    0.0    0.0   \n",
       "1  0.006160  ...    0.0    1.0    0.0    1.0    0.0    0.0    0.0    0.0   \n",
       "2  0.002823  ...    1.0    1.0    1.0    1.0    0.0    0.0    0.0    0.0   \n",
       "3  0.042115  ...    0.0    1.0    0.0    0.0    0.0    0.0    0.0    0.0   \n",
       "4  0.004536  ...    0.0    1.0    1.0    1.0    0.0    0.0    0.0    0.0   \n",
       "\n",
       "   ind42  ind43  \n",
       "0    0.0    0.0  \n",
       "1    0.0    0.0  \n",
       "2    0.0    0.0  \n",
       "3    0.0    0.0  \n",
       "4    0.0    0.0  \n",
       "\n",
       "[5 rows x 62 columns]"
      ]
     },
     "execution_count": 4,
     "metadata": {},
     "output_type": "execute_result"
    }
   ],
   "source": [
    "df_rec_test.head()"
   ]
  },
  {
   "cell_type": "code",
   "execution_count": 5,
   "metadata": {},
   "outputs": [
    {
     "data": {
      "text/plain": [
       "(11033, 63)"
      ]
     },
     "execution_count": 5,
     "metadata": {},
     "output_type": "execute_result"
    }
   ],
   "source": [
    "df_rec_trei.shape"
   ]
  },
  {
   "cell_type": "code",
   "execution_count": 6,
   "metadata": {},
   "outputs": [
    {
     "data": {
      "text/plain": [
       "(1000, 62)"
      ]
     },
     "execution_count": 6,
     "metadata": {},
     "output_type": "execute_result"
    }
   ],
   "source": [
    "df_rec_test.shape"
   ]
  },
  {
   "cell_type": "code",
   "execution_count": 7,
   "metadata": {},
   "outputs": [
    {
     "data": {
      "text/plain": [
       "target    11033\n",
       "dtype: int64"
      ]
     },
     "execution_count": 7,
     "metadata": {},
     "output_type": "execute_result"
    }
   ],
   "source": [
    "df_rec_trei[['target']].count()\n"
   ]
  },
  {
   "cell_type": "code",
   "execution_count": 8,
   "metadata": {},
   "outputs": [
    {
     "data": {
      "text/plain": [
       "id          int64\n",
       "cnae2       int64\n",
       "rf2        object\n",
       "md1       float64\n",
       "md2       float64\n",
       "           ...   \n",
       "ind40     float64\n",
       "ind41     float64\n",
       "ind42     float64\n",
       "ind43     float64\n",
       "target       bool\n",
       "Length: 63, dtype: object"
      ]
     },
     "execution_count": 8,
     "metadata": {},
     "output_type": "execute_result"
    }
   ],
   "source": [
    "#verificando os tipos\n",
    "df_rec_trei.dtypes"
   ]
  },
  {
   "cell_type": "code",
   "execution_count": 9,
   "metadata": {},
   "outputs": [
    {
     "data": {
      "text/plain": [
       "Index(['id', 'cnae2', 'rf2', 'md1', 'md2', 'md3', 'md4', 'md5', 'md6', 'md7',\n",
       "       'md8', 'md9', 'md10', 'md11', 'md12', 'mc1', 'mc2', 'mc3', 'mc4',\n",
       "       'ind01', 'ind02', 'ind03', 'ind04', 'ind05', 'ind06', 'ind07', 'ind08',\n",
       "       'ind09', 'ind10', 'ind11', 'ind12', 'ind13', 'ind14', 'ind15', 'ind16',\n",
       "       'ind17', 'ind18', 'ind19', 'ind20', 'ind21', 'ind22', 'ind23', 'ind24',\n",
       "       'ind25', 'ind26', 'ind27', 'ind28', 'ind29', 'ind30', 'ind31', 'ind32',\n",
       "       'ind33', 'ind34', 'ind35', 'ind36', 'ind37', 'ind38', 'ind39', 'ind40',\n",
       "       'ind41', 'ind42', 'ind43', 'target'],\n",
       "      dtype='object')"
      ]
     },
     "execution_count": 9,
     "metadata": {},
     "output_type": "execute_result"
    }
   ],
   "source": [
    "df_rec_trei.columns"
   ]
  },
  {
   "cell_type": "code",
   "execution_count": 10,
   "metadata": {},
   "outputs": [],
   "source": [
    "#função mostra isna\n",
    "\n",
    "def mostra_isna(df):\n",
    "    l_rec_trei = df.columns\n",
    "    d = 0\n",
    "    for i in l_rec_trei:\n",
    "        f = df[i].isna().sum()\n",
    "        g = df[i].dtypes\n",
    "        if f != 0:\n",
    "            d = d + 1\n",
    "            print('{} = {}: {}'.format(i, df[i].isna().sum(),g))\n",
    "    print('qt de colunas con isna:{}'.format(d))\n",
    "    \n",
    "    "
   ]
  },
  {
   "cell_type": "code",
   "execution_count": 11,
   "metadata": {},
   "outputs": [],
   "source": [
    "#função mostra sem isna\n",
    "def mostra_sem_isna(df):\n",
    "    l_rec_trei = df.columns\n",
    "    d = 0\n",
    "    for i in l_rec_trei:\n",
    "        f = df[i].isna().sum()\n",
    "        g = df[i].dtypes\n",
    "        if f == 0:\n",
    "            d = d + 1\n",
    "            print('{} = {}: {}'.format(i, df[i].isna().sum(), g))\n",
    "    print('qt de colunas con isna:{}'.format(d))\n",
    "    \n",
    "\n",
    "    "
   ]
  },
  {
   "cell_type": "markdown",
   "metadata": {},
   "source": [
    "check no df de teste"
   ]
  },
  {
   "cell_type": "code",
   "execution_count": 12,
   "metadata": {},
   "outputs": [
    {
     "name": "stdout",
     "output_type": "stream",
     "text": [
      "id = 0: int64\n",
      "cnae2 = 0: int64\n",
      "rf2 = 0: object\n",
      "md1 = 0: float64\n",
      "md2 = 0: float64\n",
      "md3 = 0: float64\n",
      "md4 = 0: float64\n",
      "md5 = 0: float64\n",
      "md6 = 0: float64\n",
      "md7 = 0: float64\n",
      "md8 = 0: float64\n",
      "md9 = 0: float64\n",
      "md10 = 0: float64\n",
      "md11 = 0: float64\n",
      "md12 = 0: float64\n",
      "mc4 = 0: float64\n",
      "qt de colunas con isna:16\n"
     ]
    }
   ],
   "source": [
    "mostra_sem_isna(df_rec_test)"
   ]
  },
  {
   "cell_type": "code",
   "execution_count": 13,
   "metadata": {},
   "outputs": [
    {
     "name": "stdout",
     "output_type": "stream",
     "text": [
      "mc1 = 45: float64\n",
      "mc2 = 45: float64\n",
      "mc3 = 45: float64\n",
      "ind01 = 4: float64\n",
      "ind02 = 4: float64\n",
      "ind03 = 4: float64\n",
      "ind04 = 4: float64\n",
      "ind05 = 4: float64\n",
      "ind06 = 4: float64\n",
      "ind07 = 4: float64\n",
      "ind08 = 4: float64\n",
      "ind09 = 4: float64\n",
      "ind10 = 4: float64\n",
      "ind11 = 4: float64\n",
      "ind12 = 4: float64\n",
      "ind13 = 4: float64\n",
      "ind14 = 4: float64\n",
      "ind15 = 4: float64\n",
      "ind16 = 4: float64\n",
      "ind17 = 4: float64\n",
      "ind18 = 4: float64\n",
      "ind19 = 4: float64\n",
      "ind20 = 4: float64\n",
      "ind21 = 43: float64\n",
      "ind22 = 43: float64\n",
      "ind23 = 43: float64\n",
      "ind24 = 43: float64\n",
      "ind25 = 43: float64\n",
      "ind26 = 43: float64\n",
      "ind27 = 43: float64\n",
      "ind28 = 4: float64\n",
      "ind29 = 4: float64\n",
      "ind30 = 4: float64\n",
      "ind31 = 4: float64\n",
      "ind32 = 4: float64\n",
      "ind33 = 4: float64\n",
      "ind34 = 4: float64\n",
      "ind35 = 4: float64\n",
      "ind36 = 4: float64\n",
      "ind37 = 4: float64\n",
      "ind38 = 43: float64\n",
      "ind39 = 43: float64\n",
      "ind40 = 4: float64\n",
      "ind41 = 4: float64\n",
      "ind42 = 43: float64\n",
      "ind43 = 43: float64\n",
      "qt de colunas con isna:46\n"
     ]
    }
   ],
   "source": [
    "mostra_isna(df_rec_test)"
   ]
  },
  {
   "cell_type": "markdown",
   "metadata": {},
   "source": [
    "Inicio do tratamento do df de treino"
   ]
  },
  {
   "cell_type": "code",
   "execution_count": 14,
   "metadata": {},
   "outputs": [
    {
     "name": "stdout",
     "output_type": "stream",
     "text": [
      "id = 0: int64\n",
      "cnae2 = 0: int64\n",
      "rf2 = 0: object\n",
      "md1 = 0: float64\n",
      "md2 = 0: float64\n",
      "md3 = 0: float64\n",
      "md4 = 0: float64\n",
      "md5 = 0: float64\n",
      "md6 = 0: float64\n",
      "md7 = 0: float64\n",
      "md8 = 0: float64\n",
      "md9 = 0: float64\n",
      "md10 = 0: float64\n",
      "md11 = 0: float64\n",
      "md12 = 0: float64\n",
      "mc4 = 0: float64\n",
      "target = 0: bool\n",
      "qt de colunas con isna:17\n"
     ]
    }
   ],
   "source": [
    "#16 coluna sem isna\n",
    "mostra_sem_isna(df_rec_trei)"
   ]
  },
  {
   "cell_type": "code",
   "execution_count": 15,
   "metadata": {},
   "outputs": [
    {
     "name": "stdout",
     "output_type": "stream",
     "text": [
      "mc1 = 602: float64\n",
      "mc2 = 602: float64\n",
      "mc3 = 602: float64\n",
      "ind01 = 34: float64\n",
      "ind02 = 34: float64\n",
      "ind03 = 34: float64\n",
      "ind04 = 34: float64\n",
      "ind05 = 34: float64\n",
      "ind06 = 34: float64\n",
      "ind07 = 34: float64\n",
      "ind08 = 34: float64\n",
      "ind09 = 34: float64\n",
      "ind10 = 34: float64\n",
      "ind11 = 34: float64\n",
      "ind12 = 34: float64\n",
      "ind13 = 34: float64\n",
      "ind14 = 34: float64\n",
      "ind15 = 34: float64\n",
      "ind16 = 34: float64\n",
      "ind17 = 34: float64\n",
      "ind18 = 34: float64\n",
      "ind19 = 34: float64\n",
      "ind20 = 34: float64\n",
      "ind21 = 599: float64\n",
      "ind22 = 599: float64\n",
      "ind23 = 599: float64\n",
      "ind24 = 599: float64\n",
      "ind25 = 599: float64\n",
      "ind26 = 599: float64\n",
      "ind27 = 599: float64\n",
      "ind28 = 34: float64\n",
      "ind29 = 34: float64\n",
      "ind30 = 34: float64\n",
      "ind31 = 34: float64\n",
      "ind32 = 34: float64\n",
      "ind33 = 34: float64\n",
      "ind34 = 34: float64\n",
      "ind35 = 34: float64\n",
      "ind36 = 34: float64\n",
      "ind37 = 34: float64\n",
      "ind38 = 599: float64\n",
      "ind39 = 599: float64\n",
      "ind40 = 34: float64\n",
      "ind41 = 34: float64\n",
      "ind42 = 599: float64\n",
      "ind43 = 599: float64\n",
      "qt de colunas con isna:46\n"
     ]
    }
   ],
   "source": [
    "#46 colunas com isna\n",
    "mostra_isna(df_rec_trei)"
   ]
  },
  {
   "cell_type": "code",
   "execution_count": 16,
   "metadata": {},
   "outputs": [],
   "source": [
    "#converte a target para True = 1 e False = 0\n",
    "df_rec_trei['target_c'] = df_rec_trei[['target']].astype(int)"
   ]
  },
  {
   "cell_type": "code",
   "execution_count": 39,
   "metadata": {},
   "outputs": [
    {
     "data": {
      "text/html": [
       "<div>\n",
       "<style scoped>\n",
       "    .dataframe tbody tr th:only-of-type {\n",
       "        vertical-align: middle;\n",
       "    }\n",
       "\n",
       "    .dataframe tbody tr th {\n",
       "        vertical-align: top;\n",
       "    }\n",
       "\n",
       "    .dataframe thead th {\n",
       "        text-align: right;\n",
       "    }\n",
       "</style>\n",
       "<table border=\"1\" class=\"dataframe\">\n",
       "  <thead>\n",
       "    <tr style=\"text-align: right;\">\n",
       "      <th></th>\n",
       "      <th>id</th>\n",
       "      <th>cnae2</th>\n",
       "      <th>rf2</th>\n",
       "      <th>md1</th>\n",
       "      <th>md2</th>\n",
       "      <th>md3</th>\n",
       "      <th>md4</th>\n",
       "      <th>md5</th>\n",
       "      <th>md6</th>\n",
       "      <th>md7</th>\n",
       "      <th>...</th>\n",
       "      <th>ind35</th>\n",
       "      <th>ind36</th>\n",
       "      <th>ind37</th>\n",
       "      <th>ind38</th>\n",
       "      <th>ind39</th>\n",
       "      <th>ind40</th>\n",
       "      <th>ind41</th>\n",
       "      <th>ind42</th>\n",
       "      <th>ind43</th>\n",
       "      <th>target_c</th>\n",
       "    </tr>\n",
       "  </thead>\n",
       "  <tbody>\n",
       "    <tr>\n",
       "      <th>0</th>\n",
       "      <td>0</td>\n",
       "      <td>86</td>\n",
       "      <td>i</td>\n",
       "      <td>0.090339</td>\n",
       "      <td>0.011256</td>\n",
       "      <td>0.111095</td>\n",
       "      <td>0.003233</td>\n",
       "      <td>0.003233</td>\n",
       "      <td>0.0</td>\n",
       "      <td>0.016366</td>\n",
       "      <td>...</td>\n",
       "      <td>1.0</td>\n",
       "      <td>1.0</td>\n",
       "      <td>1.0</td>\n",
       "      <td>0.0</td>\n",
       "      <td>0.0</td>\n",
       "      <td>0.0</td>\n",
       "      <td>0.0</td>\n",
       "      <td>0.0</td>\n",
       "      <td>0.0</td>\n",
       "      <td>1</td>\n",
       "    </tr>\n",
       "    <tr>\n",
       "      <th>1</th>\n",
       "      <td>1</td>\n",
       "      <td>18</td>\n",
       "      <td>z</td>\n",
       "      <td>0.005996</td>\n",
       "      <td>0.019476</td>\n",
       "      <td>0.124770</td>\n",
       "      <td>0.000000</td>\n",
       "      <td>0.038168</td>\n",
       "      <td>0.0</td>\n",
       "      <td>0.029214</td>\n",
       "      <td>...</td>\n",
       "      <td>0.0</td>\n",
       "      <td>1.0</td>\n",
       "      <td>0.0</td>\n",
       "      <td>0.0</td>\n",
       "      <td>0.0</td>\n",
       "      <td>0.0</td>\n",
       "      <td>0.0</td>\n",
       "      <td>0.0</td>\n",
       "      <td>0.0</td>\n",
       "      <td>0</td>\n",
       "    </tr>\n",
       "    <tr>\n",
       "      <th>2</th>\n",
       "      <td>2</td>\n",
       "      <td>74</td>\n",
       "      <td>z</td>\n",
       "      <td>0.000006</td>\n",
       "      <td>0.002902</td>\n",
       "      <td>0.110160</td>\n",
       "      <td>0.002274</td>\n",
       "      <td>0.002274</td>\n",
       "      <td>0.0</td>\n",
       "      <td>0.002902</td>\n",
       "      <td>...</td>\n",
       "      <td>1.0</td>\n",
       "      <td>1.0</td>\n",
       "      <td>1.0</td>\n",
       "      <td>0.0</td>\n",
       "      <td>0.0</td>\n",
       "      <td>0.0</td>\n",
       "      <td>0.0</td>\n",
       "      <td>0.0</td>\n",
       "      <td>0.0</td>\n",
       "      <td>0</td>\n",
       "    </tr>\n",
       "    <tr>\n",
       "      <th>3</th>\n",
       "      <td>3</td>\n",
       "      <td>49</td>\n",
       "      <td>q</td>\n",
       "      <td>0.000009</td>\n",
       "      <td>0.014526</td>\n",
       "      <td>0.120351</td>\n",
       "      <td>0.000000</td>\n",
       "      <td>0.000000</td>\n",
       "      <td>0.0</td>\n",
       "      <td>0.014526</td>\n",
       "      <td>...</td>\n",
       "      <td>1.0</td>\n",
       "      <td>0.0</td>\n",
       "      <td>1.0</td>\n",
       "      <td>0.0</td>\n",
       "      <td>0.0</td>\n",
       "      <td>0.0</td>\n",
       "      <td>0.0</td>\n",
       "      <td>0.0</td>\n",
       "      <td>0.0</td>\n",
       "      <td>0</td>\n",
       "    </tr>\n",
       "    <tr>\n",
       "      <th>4</th>\n",
       "      <td>4</td>\n",
       "      <td>47</td>\n",
       "      <td>i</td>\n",
       "      <td>0.000191</td>\n",
       "      <td>0.004042</td>\n",
       "      <td>0.111078</td>\n",
       "      <td>0.001121</td>\n",
       "      <td>0.001121</td>\n",
       "      <td>0.0</td>\n",
       "      <td>0.006063</td>\n",
       "      <td>...</td>\n",
       "      <td>1.0</td>\n",
       "      <td>0.0</td>\n",
       "      <td>0.0</td>\n",
       "      <td>0.0</td>\n",
       "      <td>1.0</td>\n",
       "      <td>0.0</td>\n",
       "      <td>0.0</td>\n",
       "      <td>1.0</td>\n",
       "      <td>0.5</td>\n",
       "      <td>0</td>\n",
       "    </tr>\n",
       "    <tr>\n",
       "      <th>...</th>\n",
       "      <td>...</td>\n",
       "      <td>...</td>\n",
       "      <td>...</td>\n",
       "      <td>...</td>\n",
       "      <td>...</td>\n",
       "      <td>...</td>\n",
       "      <td>...</td>\n",
       "      <td>...</td>\n",
       "      <td>...</td>\n",
       "      <td>...</td>\n",
       "      <td>...</td>\n",
       "      <td>...</td>\n",
       "      <td>...</td>\n",
       "      <td>...</td>\n",
       "      <td>...</td>\n",
       "      <td>...</td>\n",
       "      <td>...</td>\n",
       "      <td>...</td>\n",
       "      <td>...</td>\n",
       "      <td>...</td>\n",
       "      <td>...</td>\n",
       "    </tr>\n",
       "    <tr>\n",
       "      <th>11028</th>\n",
       "      <td>12026</td>\n",
       "      <td>23</td>\n",
       "      <td>s</td>\n",
       "      <td>0.000000</td>\n",
       "      <td>0.001208</td>\n",
       "      <td>0.109509</td>\n",
       "      <td>0.000000</td>\n",
       "      <td>0.000729</td>\n",
       "      <td>0.0</td>\n",
       "      <td>0.001812</td>\n",
       "      <td>...</td>\n",
       "      <td>1.0</td>\n",
       "      <td>1.0</td>\n",
       "      <td>0.0</td>\n",
       "      <td>0.0</td>\n",
       "      <td>0.0</td>\n",
       "      <td>0.0</td>\n",
       "      <td>0.0</td>\n",
       "      <td>0.0</td>\n",
       "      <td>0.0</td>\n",
       "      <td>0</td>\n",
       "    </tr>\n",
       "    <tr>\n",
       "      <th>11029</th>\n",
       "      <td>12027</td>\n",
       "      <td>49</td>\n",
       "      <td>v</td>\n",
       "      <td>0.000003</td>\n",
       "      <td>0.016780</td>\n",
       "      <td>0.122363</td>\n",
       "      <td>0.006032</td>\n",
       "      <td>0.006032</td>\n",
       "      <td>0.0</td>\n",
       "      <td>0.016780</td>\n",
       "      <td>...</td>\n",
       "      <td>1.0</td>\n",
       "      <td>0.0</td>\n",
       "      <td>0.0</td>\n",
       "      <td>0.0</td>\n",
       "      <td>0.0</td>\n",
       "      <td>0.0</td>\n",
       "      <td>0.0</td>\n",
       "      <td>0.0</td>\n",
       "      <td>0.0</td>\n",
       "      <td>0</td>\n",
       "    </tr>\n",
       "    <tr>\n",
       "      <th>11030</th>\n",
       "      <td>12030</td>\n",
       "      <td>47</td>\n",
       "      <td>y</td>\n",
       "      <td>0.000004</td>\n",
       "      <td>0.001179</td>\n",
       "      <td>0.109494</td>\n",
       "      <td>0.000000</td>\n",
       "      <td>0.000000</td>\n",
       "      <td>0.0</td>\n",
       "      <td>0.001531</td>\n",
       "      <td>...</td>\n",
       "      <td>0.0</td>\n",
       "      <td>1.0</td>\n",
       "      <td>0.0</td>\n",
       "      <td>0.0</td>\n",
       "      <td>0.0</td>\n",
       "      <td>0.0</td>\n",
       "      <td>0.0</td>\n",
       "      <td>0.0</td>\n",
       "      <td>0.0</td>\n",
       "      <td>1</td>\n",
       "    </tr>\n",
       "    <tr>\n",
       "      <th>11031</th>\n",
       "      <td>12031</td>\n",
       "      <td>47</td>\n",
       "      <td>p</td>\n",
       "      <td>0.000021</td>\n",
       "      <td>0.001821</td>\n",
       "      <td>0.109838</td>\n",
       "      <td>0.002524</td>\n",
       "      <td>0.002524</td>\n",
       "      <td>0.0</td>\n",
       "      <td>0.013650</td>\n",
       "      <td>...</td>\n",
       "      <td>1.0</td>\n",
       "      <td>0.0</td>\n",
       "      <td>0.0</td>\n",
       "      <td>0.0</td>\n",
       "      <td>0.0</td>\n",
       "      <td>0.0</td>\n",
       "      <td>0.0</td>\n",
       "      <td>0.0</td>\n",
       "      <td>0.0</td>\n",
       "      <td>0</td>\n",
       "    </tr>\n",
       "    <tr>\n",
       "      <th>11032</th>\n",
       "      <td>12032</td>\n",
       "      <td>47</td>\n",
       "      <td>y</td>\n",
       "      <td>0.000035</td>\n",
       "      <td>0.003683</td>\n",
       "      <td>0.110837</td>\n",
       "      <td>0.003272</td>\n",
       "      <td>0.003241</td>\n",
       "      <td>0.0</td>\n",
       "      <td>0.027569</td>\n",
       "      <td>...</td>\n",
       "      <td>1.0</td>\n",
       "      <td>0.0</td>\n",
       "      <td>1.0</td>\n",
       "      <td>0.0</td>\n",
       "      <td>0.0</td>\n",
       "      <td>0.0</td>\n",
       "      <td>0.0</td>\n",
       "      <td>0.0</td>\n",
       "      <td>0.0</td>\n",
       "      <td>1</td>\n",
       "    </tr>\n",
       "  </tbody>\n",
       "</table>\n",
       "<p>11033 rows × 63 columns</p>\n",
       "</div>"
      ],
      "text/plain": [
       "          id  cnae2 rf2       md1       md2       md3       md4       md5  \\\n",
       "0          0     86   i  0.090339  0.011256  0.111095  0.003233  0.003233   \n",
       "1          1     18   z  0.005996  0.019476  0.124770  0.000000  0.038168   \n",
       "2          2     74   z  0.000006  0.002902  0.110160  0.002274  0.002274   \n",
       "3          3     49   q  0.000009  0.014526  0.120351  0.000000  0.000000   \n",
       "4          4     47   i  0.000191  0.004042  0.111078  0.001121  0.001121   \n",
       "...      ...    ...  ..       ...       ...       ...       ...       ...   \n",
       "11028  12026     23   s  0.000000  0.001208  0.109509  0.000000  0.000729   \n",
       "11029  12027     49   v  0.000003  0.016780  0.122363  0.006032  0.006032   \n",
       "11030  12030     47   y  0.000004  0.001179  0.109494  0.000000  0.000000   \n",
       "11031  12031     47   p  0.000021  0.001821  0.109838  0.002524  0.002524   \n",
       "11032  12032     47   y  0.000035  0.003683  0.110837  0.003272  0.003241   \n",
       "\n",
       "       md6       md7  ...  ind35  ind36  ind37  ind38  ind39  ind40  ind41  \\\n",
       "0      0.0  0.016366  ...    1.0    1.0    1.0    0.0    0.0    0.0    0.0   \n",
       "1      0.0  0.029214  ...    0.0    1.0    0.0    0.0    0.0    0.0    0.0   \n",
       "2      0.0  0.002902  ...    1.0    1.0    1.0    0.0    0.0    0.0    0.0   \n",
       "3      0.0  0.014526  ...    1.0    0.0    1.0    0.0    0.0    0.0    0.0   \n",
       "4      0.0  0.006063  ...    1.0    0.0    0.0    0.0    1.0    0.0    0.0   \n",
       "...    ...       ...  ...    ...    ...    ...    ...    ...    ...    ...   \n",
       "11028  0.0  0.001812  ...    1.0    1.0    0.0    0.0    0.0    0.0    0.0   \n",
       "11029  0.0  0.016780  ...    1.0    0.0    0.0    0.0    0.0    0.0    0.0   \n",
       "11030  0.0  0.001531  ...    0.0    1.0    0.0    0.0    0.0    0.0    0.0   \n",
       "11031  0.0  0.013650  ...    1.0    0.0    0.0    0.0    0.0    0.0    0.0   \n",
       "11032  0.0  0.027569  ...    1.0    0.0    1.0    0.0    0.0    0.0    0.0   \n",
       "\n",
       "       ind42  ind43  target_c  \n",
       "0        0.0    0.0         1  \n",
       "1        0.0    0.0         0  \n",
       "2        0.0    0.0         0  \n",
       "3        0.0    0.0         0  \n",
       "4        1.0    0.5         0  \n",
       "...      ...    ...       ...  \n",
       "11028    0.0    0.0         0  \n",
       "11029    0.0    0.0         0  \n",
       "11030    0.0    0.0         1  \n",
       "11031    0.0    0.0         0  \n",
       "11032    0.0    0.0         1  \n",
       "\n",
       "[11033 rows x 63 columns]"
      ]
     },
     "execution_count": 39,
     "metadata": {},
     "output_type": "execute_result"
    }
   ],
   "source": [
    "df_rec_trei"
   ]
  },
  {
   "cell_type": "code",
   "execution_count": null,
   "metadata": {},
   "outputs": [],
   "source": []
  },
  {
   "cell_type": "code",
   "execution_count": 108,
   "metadata": {},
   "outputs": [],
   "source": [
    "df2 = df_rec_trei[['target_c']]"
   ]
  },
  {
   "cell_type": "code",
   "execution_count": 109,
   "metadata": {},
   "outputs": [
    {
     "data": {
      "text/plain": [
       "target_c\n",
       "0           8513\n",
       "1           2520\n",
       "dtype: int64"
      ]
     },
     "execution_count": 109,
     "metadata": {},
     "output_type": "execute_result"
    }
   ],
   "source": [
    "df2.value_counts()"
   ]
  },
  {
   "cell_type": "code",
   "execution_count": 110,
   "metadata": {},
   "outputs": [
    {
     "name": "stdout",
     "output_type": "stream",
     "text": [
      "Elementos:\n",
      "target_c\n",
      "0           8513\n",
      "1           2520\n",
      "dtype: int64, Qtd:\n",
      "11033, percentual:\n",
      "target_c\n",
      "0           0.771594\n",
      "dtype: float64, percentual:\n",
      "target_c\n",
      "1           0.228406\n",
      "dtype: float64\n"
     ]
    }
   ],
   "source": [
    "a = df2.value_counts()\n",
    "b = df2.value_counts()[0]/df2.shape[0]\n",
    "c = df2.value_counts()[1]/df2.shape[0]\n",
    "d = df2.shape[0]\n",
    "print('Elementos:\\n{}, Qtd:\\n{}, percentual:\\n{}, percentual:\\n{}'.format(a,d,b,c))\n",
    "\n",
    "\n"
   ]
  },
  {
   "cell_type": "code",
   "execution_count": 111,
   "metadata": {},
   "outputs": [
    {
     "data": {
      "text/plain": [
       "<matplotlib.axes._subplots.AxesSubplot at 0x25c86945eb8>"
      ]
     },
     "execution_count": 111,
     "metadata": {},
     "output_type": "execute_result"
    },
    {
     "data": {
      "image/png": "[encoded data removed]",
      "text/plain": [
       "<Figure size 432x288 with 1 Axes>"
      ]
     },
     "metadata": {
      "needs_background": "light"
     },
     "output_type": "display_data"
    }
   ],
   "source": [
    "sns.countplot( x = 'target_c', data = df2)"
   ]
  },
  {
   "cell_type": "code",
   "execution_count": 80,
   "metadata": {},
   "outputs": [
    {
     "data": {
      "text/plain": [
       "Index(['id', 'cnae2', 'rf2', 'md1', 'md2', 'md3', 'md4', 'md5', 'md6', 'md7',\n",
       "       'md8', 'md9', 'md10', 'md11', 'md12', 'mc1', 'mc2', 'mc3', 'mc4',\n",
       "       'ind01', 'ind02', 'ind03', 'ind04', 'ind05', 'ind06', 'ind07', 'ind08',\n",
       "       'ind09', 'ind10', 'ind11', 'ind12', 'ind13', 'ind14', 'ind15', 'ind16',\n",
       "       'ind17', 'ind18', 'ind19', 'ind20', 'ind21', 'ind22', 'ind23', 'ind24',\n",
       "       'ind25', 'ind26', 'ind27', 'ind28', 'ind29', 'ind30', 'ind31', 'ind32',\n",
       "       'ind33', 'ind34', 'ind35', 'ind36', 'ind37', 'ind38', 'ind39', 'ind40',\n",
       "       'ind41', 'ind42', 'ind43', 'target_c'],\n",
       "      dtype='object')"
      ]
     },
     "execution_count": 80,
     "metadata": {},
     "output_type": "execute_result"
    }
   ],
   "source": [
    "df_rec_trei.columns"
   ]
  },
  {
   "cell_type": "code",
   "execution_count": 141,
   "metadata": {},
   "outputs": [],
   "source": [
    "l_rec_trei_ind01_20 = ['ind01', 'ind02', 'ind03', 'ind04', 'ind05', 'ind06', 'ind07', 'ind08',\n",
    "       'ind09', 'ind10', 'ind11', 'ind12', 'ind13', 'ind14', 'ind15', 'ind16',\n",
    "       'ind17', 'ind18', 'ind19', 'ind20']\n",
    "l_rec_trei_ind21_43 =[ 'ind22']"
   ]
  },
  {
   "cell_type": "code",
   "execution_count": null,
   "metadata": {},
   "outputs": [],
   "source": []
  },
  {
   "cell_type": "code",
   "execution_count": 101,
   "metadata": {},
   "outputs": [],
   "source": [
    "l_2 =[ 'ind01']"
   ]
  },
  {
   "cell_type": "code",
   "execution_count": 82,
   "metadata": {},
   "outputs": [],
   "source": [
    "df3 = df_rec_trei[['ind01', 'ind02', 'ind03', 'ind04', 'ind05', 'ind06', 'ind07', 'ind08',\n",
    "       'ind09', 'ind10', 'ind11', 'ind12', 'ind13', 'ind14', 'ind15', 'ind16',\n",
    "       'ind17', 'ind18', 'ind19', 'ind20']]"
   ]
  },
  {
   "cell_type": "code",
   "execution_count": 84,
   "metadata": {},
   "outputs": [
    {
     "data": {
      "text/html": [
       "<div>\n",
       "<style scoped>\n",
       "    .dataframe tbody tr th:only-of-type {\n",
       "        vertical-align: middle;\n",
       "    }\n",
       "\n",
       "    .dataframe tbody tr th {\n",
       "        vertical-align: top;\n",
       "    }\n",
       "\n",
       "    .dataframe thead th {\n",
       "        text-align: right;\n",
       "    }\n",
       "</style>\n",
       "<table border=\"1\" class=\"dataframe\">\n",
       "  <thead>\n",
       "    <tr style=\"text-align: right;\">\n",
       "      <th></th>\n",
       "      <th>ind01</th>\n",
       "      <th>ind02</th>\n",
       "      <th>ind03</th>\n",
       "      <th>ind04</th>\n",
       "      <th>ind05</th>\n",
       "      <th>ind06</th>\n",
       "      <th>ind07</th>\n",
       "      <th>ind08</th>\n",
       "      <th>ind09</th>\n",
       "      <th>ind10</th>\n",
       "      <th>ind11</th>\n",
       "      <th>ind12</th>\n",
       "      <th>ind13</th>\n",
       "      <th>ind14</th>\n",
       "      <th>ind15</th>\n",
       "      <th>ind16</th>\n",
       "      <th>ind17</th>\n",
       "      <th>ind18</th>\n",
       "      <th>ind19</th>\n",
       "      <th>ind20</th>\n",
       "    </tr>\n",
       "  </thead>\n",
       "  <tbody>\n",
       "    <tr>\n",
       "      <th>count</th>\n",
       "      <td>10999.000000</td>\n",
       "      <td>10999.000000</td>\n",
       "      <td>10999.000000</td>\n",
       "      <td>10999.000000</td>\n",
       "      <td>10999.000000</td>\n",
       "      <td>10999.000000</td>\n",
       "      <td>10999.000000</td>\n",
       "      <td>10999.000000</td>\n",
       "      <td>10999.000000</td>\n",
       "      <td>10999.000000</td>\n",
       "      <td>10999.000000</td>\n",
       "      <td>10999.000000</td>\n",
       "      <td>10999.000000</td>\n",
       "      <td>10999.000000</td>\n",
       "      <td>10999.000000</td>\n",
       "      <td>10999.000000</td>\n",
       "      <td>10999.000000</td>\n",
       "      <td>10999.000000</td>\n",
       "      <td>10999.000000</td>\n",
       "      <td>10999.000000</td>\n",
       "    </tr>\n",
       "    <tr>\n",
       "      <th>mean</th>\n",
       "      <td>0.106722</td>\n",
       "      <td>0.157427</td>\n",
       "      <td>0.346646</td>\n",
       "      <td>0.364934</td>\n",
       "      <td>0.378858</td>\n",
       "      <td>0.397906</td>\n",
       "      <td>0.305112</td>\n",
       "      <td>0.355596</td>\n",
       "      <td>0.007454</td>\n",
       "      <td>0.001375</td>\n",
       "      <td>0.001093</td>\n",
       "      <td>0.141280</td>\n",
       "      <td>0.170552</td>\n",
       "      <td>0.034556</td>\n",
       "      <td>0.019556</td>\n",
       "      <td>0.003789</td>\n",
       "      <td>0.014774</td>\n",
       "      <td>0.004045</td>\n",
       "      <td>0.694791</td>\n",
       "      <td>0.700189</td>\n",
       "    </tr>\n",
       "    <tr>\n",
       "      <th>std</th>\n",
       "      <td>0.305922</td>\n",
       "      <td>0.315114</td>\n",
       "      <td>0.470182</td>\n",
       "      <td>0.451587</td>\n",
       "      <td>0.449015</td>\n",
       "      <td>0.473002</td>\n",
       "      <td>0.430549</td>\n",
       "      <td>0.440732</td>\n",
       "      <td>0.069064</td>\n",
       "      <td>0.031814</td>\n",
       "      <td>0.029262</td>\n",
       "      <td>0.312289</td>\n",
       "      <td>0.322844</td>\n",
       "      <td>0.161135</td>\n",
       "      <td>0.129848</td>\n",
       "      <td>0.059799</td>\n",
       "      <td>0.118014</td>\n",
       "      <td>0.062567</td>\n",
       "      <td>0.452090</td>\n",
       "      <td>0.450725</td>\n",
       "    </tr>\n",
       "    <tr>\n",
       "      <th>min</th>\n",
       "      <td>0.000000</td>\n",
       "      <td>0.000000</td>\n",
       "      <td>0.000000</td>\n",
       "      <td>0.000000</td>\n",
       "      <td>0.000000</td>\n",
       "      <td>0.000000</td>\n",
       "      <td>0.000000</td>\n",
       "      <td>0.000000</td>\n",
       "      <td>0.000000</td>\n",
       "      <td>0.000000</td>\n",
       "      <td>0.000000</td>\n",
       "      <td>0.000000</td>\n",
       "      <td>0.000000</td>\n",
       "      <td>0.000000</td>\n",
       "      <td>0.000000</td>\n",
       "      <td>0.000000</td>\n",
       "      <td>0.000000</td>\n",
       "      <td>0.000000</td>\n",
       "      <td>0.000000</td>\n",
       "      <td>0.000000</td>\n",
       "    </tr>\n",
       "    <tr>\n",
       "      <th>25%</th>\n",
       "      <td>0.000000</td>\n",
       "      <td>0.000000</td>\n",
       "      <td>0.000000</td>\n",
       "      <td>0.000000</td>\n",
       "      <td>0.000000</td>\n",
       "      <td>0.000000</td>\n",
       "      <td>0.000000</td>\n",
       "      <td>0.000000</td>\n",
       "      <td>0.000000</td>\n",
       "      <td>0.000000</td>\n",
       "      <td>0.000000</td>\n",
       "      <td>0.000000</td>\n",
       "      <td>0.000000</td>\n",
       "      <td>0.000000</td>\n",
       "      <td>0.000000</td>\n",
       "      <td>0.000000</td>\n",
       "      <td>0.000000</td>\n",
       "      <td>0.000000</td>\n",
       "      <td>0.000000</td>\n",
       "      <td>0.000000</td>\n",
       "    </tr>\n",
       "    <tr>\n",
       "      <th>50%</th>\n",
       "      <td>0.000000</td>\n",
       "      <td>0.000000</td>\n",
       "      <td>0.000000</td>\n",
       "      <td>0.000000</td>\n",
       "      <td>0.083300</td>\n",
       "      <td>0.021900</td>\n",
       "      <td>0.000000</td>\n",
       "      <td>0.000000</td>\n",
       "      <td>0.000000</td>\n",
       "      <td>0.000000</td>\n",
       "      <td>0.000000</td>\n",
       "      <td>0.000000</td>\n",
       "      <td>0.000000</td>\n",
       "      <td>0.000000</td>\n",
       "      <td>0.000000</td>\n",
       "      <td>0.000000</td>\n",
       "      <td>0.000000</td>\n",
       "      <td>0.000000</td>\n",
       "      <td>1.000000</td>\n",
       "      <td>1.000000</td>\n",
       "    </tr>\n",
       "    <tr>\n",
       "      <th>75%</th>\n",
       "      <td>0.000000</td>\n",
       "      <td>0.083300</td>\n",
       "      <td>1.000000</td>\n",
       "      <td>1.000000</td>\n",
       "      <td>1.000000</td>\n",
       "      <td>1.000000</td>\n",
       "      <td>0.862600</td>\n",
       "      <td>0.932700</td>\n",
       "      <td>0.000000</td>\n",
       "      <td>0.000000</td>\n",
       "      <td>0.000000</td>\n",
       "      <td>0.000000</td>\n",
       "      <td>0.140800</td>\n",
       "      <td>0.000000</td>\n",
       "      <td>0.000000</td>\n",
       "      <td>0.000000</td>\n",
       "      <td>0.000000</td>\n",
       "      <td>0.000000</td>\n",
       "      <td>1.000000</td>\n",
       "      <td>1.000000</td>\n",
       "    </tr>\n",
       "    <tr>\n",
       "      <th>max</th>\n",
       "      <td>1.000000</td>\n",
       "      <td>1.000000</td>\n",
       "      <td>1.000000</td>\n",
       "      <td>1.000000</td>\n",
       "      <td>1.000000</td>\n",
       "      <td>1.000000</td>\n",
       "      <td>1.000000</td>\n",
       "      <td>1.000000</td>\n",
       "      <td>1.000100</td>\n",
       "      <td>1.000000</td>\n",
       "      <td>1.000000</td>\n",
       "      <td>1.000000</td>\n",
       "      <td>1.000000</td>\n",
       "      <td>1.000000</td>\n",
       "      <td>1.000000</td>\n",
       "      <td>1.000000</td>\n",
       "      <td>1.000000</td>\n",
       "      <td>1.000000</td>\n",
       "      <td>1.000000</td>\n",
       "      <td>1.000000</td>\n",
       "    </tr>\n",
       "  </tbody>\n",
       "</table>\n",
       "</div>"
      ],
      "text/plain": [
       "              ind01         ind02         ind03         ind04         ind05  \\\n",
       "count  10999.000000  10999.000000  10999.000000  10999.000000  10999.000000   \n",
       "mean       0.106722      0.157427      0.346646      0.364934      0.378858   \n",
       "std        0.305922      0.315114      0.470182      0.451587      0.449015   \n",
       "min        0.000000      0.000000      0.000000      0.000000      0.000000   \n",
       "25%        0.000000      0.000000      0.000000      0.000000      0.000000   \n",
       "50%        0.000000      0.000000      0.000000      0.000000      0.083300   \n",
       "75%        0.000000      0.083300      1.000000      1.000000      1.000000   \n",
       "max        1.000000      1.000000      1.000000      1.000000      1.000000   \n",
       "\n",
       "              ind06         ind07         ind08         ind09         ind10  \\\n",
       "count  10999.000000  10999.000000  10999.000000  10999.000000  10999.000000   \n",
       "mean       0.397906      0.305112      0.355596      0.007454      0.001375   \n",
       "std        0.473002      0.430549      0.440732      0.069064      0.031814   \n",
       "min        0.000000      0.000000      0.000000      0.000000      0.000000   \n",
       "25%        0.000000      0.000000      0.000000      0.000000      0.000000   \n",
       "50%        0.021900      0.000000      0.000000      0.000000      0.000000   \n",
       "75%        1.000000      0.862600      0.932700      0.000000      0.000000   \n",
       "max        1.000000      1.000000      1.000000      1.000100      1.000000   \n",
       "\n",
       "              ind11         ind12         ind13         ind14         ind15  \\\n",
       "count  10999.000000  10999.000000  10999.000000  10999.000000  10999.000000   \n",
       "mean       0.001093      0.141280      0.170552      0.034556      0.019556   \n",
       "std        0.029262      0.312289      0.322844      0.161135      0.129848   \n",
       "min        0.000000      0.000000      0.000000      0.000000      0.000000   \n",
       "25%        0.000000      0.000000      0.000000      0.000000      0.000000   \n",
       "50%        0.000000      0.000000      0.000000      0.000000      0.000000   \n",
       "75%        0.000000      0.000000      0.140800      0.000000      0.000000   \n",
       "max        1.000000      1.000000      1.000000      1.000000      1.000000   \n",
       "\n",
       "              ind16         ind17         ind18         ind19         ind20  \n",
       "count  10999.000000  10999.000000  10999.000000  10999.000000  10999.000000  \n",
       "mean       0.003789      0.014774      0.004045      0.694791      0.700189  \n",
       "std        0.059799      0.118014      0.062567      0.452090      0.450725  \n",
       "min        0.000000      0.000000      0.000000      0.000000      0.000000  \n",
       "25%        0.000000      0.000000      0.000000      0.000000      0.000000  \n",
       "50%        0.000000      0.000000      0.000000      1.000000      1.000000  \n",
       "75%        0.000000      0.000000      0.000000      1.000000      1.000000  \n",
       "max        1.000000      1.000000      1.000000      1.000000      1.000000  "
      ]
     },
     "execution_count": 84,
     "metadata": {},
     "output_type": "execute_result"
    }
   ],
   "source": [
    "df3.describe()"
   ]
  },
  {
   "cell_type": "code",
   "execution_count": 134,
   "metadata": {},
   "outputs": [
    {
     "data": {
      "image/png": "[encoded data removed]",
      "text/plain": [
       "<Figure size 864x576 with 1 Axes>"
      ]
     },
     "metadata": {
      "needs_background": "light"
     },
     "output_type": "display_data"
    },
    {
     "data": {
      "image/png": "[encoded data removed]",
      "text/plain": [
       "<Figure size 864x576 with 1 Axes>"
      ]
     },
     "metadata": {
      "needs_background": "light"
     },
     "output_type": "display_data"
    },
    {
     "data": {
      "image/png": "[encoded data removed]",
      "text/plain": [
       "<Figure size 864x576 with 1 Axes>"
      ]
     },
     "metadata": {
      "needs_background": "light"
     },
     "output_type": "display_data"
    },
    {
     "data": {
      "image/png": "[encoded data removed]",
      "text/plain": [
       "<Figure size 864x576 with 1 Axes>"
      ]
     },
     "metadata": {
      "needs_background": "light"
     },
     "output_type": "display_data"
    },
    {
     "data": {
      "image/png": "[encoded data removed]",
      "text/plain": [
       "<Figure size 864x576 with 1 Axes>"
      ]
     },
     "metadata": {
      "needs_background": "light"
     },
     "output_type": "display_data"
    },
    {
     "data": {
      "image/png": "[encoded data removed]",
      "text/plain": [
       "<Figure size 864x576 with 1 Axes>"
      ]
     },
     "metadata": {
      "needs_background": "light"
     },
     "output_type": "display_data"
    },
    {
     "data": {
      "image/png": "[encoded data removed]",
      "text/plain": [
       "<Figure size 864x576 with 1 Axes>"
      ]
     },
     "metadata": {
      "needs_background": "light"
     },
     "output_type": "display_data"
    },
    {
     "data": {
      "image/png": "[encoded data removed]",
      "text/plain": [
       "<Figure size 864x576 with 1 Axes>"
      ]
     },
     "metadata": {
      "needs_background": "light"
     },
     "output_type": "display_data"
    },
    {
     "data": {
      "image/png": "[encoded data removed]",
      "text/plain": [
       "<Figure size 864x576 with 1 Axes>"
      ]
     },
     "metadata": {
      "needs_background": "light"
     },
     "output_type": "display_data"
    },
    {
     "data": {
      "image/png": "[encoded data removed]",
      "text/plain": [
       "<Figure size 864x576 with 1 Axes>"
      ]
     },
     "metadata": {
      "needs_background": "light"
     },
     "output_type": "display_data"
    },
    {
     "data": {
      "image/png": "[encoded data removed]",
      "text/plain": [
       "<Figure size 864x576 with 1 Axes>"
      ]
     },
     "metadata": {
      "needs_background": "light"
     },
     "output_type": "display_data"
    },
    {
     "data": {
      "image/png": "[encoded data removed]",
      "text/plain": [
       "<Figure size 864x576 with 1 Axes>"
      ]
     },
     "metadata": {
      "needs_background": "light"
     },
     "output_type": "display_data"
    },
    {
     "data": {
      "image/png": "[encoded data removed]",
      "text/plain": [
       "<Figure size 864x576 with 1 Axes>"
      ]
     },
     "metadata": {
      "needs_background": "light"
     },
     "output_type": "display_data"
    },
    {
     "data": {
      "image/png": "[encoded data removed]",
      "text/plain": [
       "<Figure size 864x576 with 1 Axes>"
      ]
     },
     "metadata": {
      "needs_background": "light"
     },
     "output_type": "display_data"
    },
    {
     "data": {
      "image/png": "[encoded data removed]",
      "text/plain": [
       "<Figure size 864x576 with 1 Axes>"
      ]
     },
     "metadata": {
      "needs_background": "light"
     },
     "output_type": "display_data"
    },
    {
     "data": {
      "image/png": "[encoded data removed]",
      "text/plain": [
       "<Figure size 864x576 with 1 Axes>"
      ]
     },
     "metadata": {
      "needs_background": "light"
     },
     "output_type": "display_data"
    },
    {
     "data": {
      "image/png": "[encoded data removed]",
      "text/plain": [
       "<Figure size 864x576 with 1 Axes>"
      ]
     },
     "metadata": {
      "needs_background": "light"
     },
     "output_type": "display_data"
    },
    {
     "data": {
      "image/png": "[encoded data removed]",
      "text/plain": [
       "<Figure size 864x576 with 1 Axes>"
      ]
     },
     "metadata": {
      "needs_background": "light"
     },
     "output_type": "display_data"
    },
    {
     "data": {
      "image/png": "[encoded data removed]",
      "text/plain": [
       "<Figure size 864x576 with 1 Axes>"
      ]
     },
     "metadata": {
      "needs_background": "light"
     },
     "output_type": "display_data"
    },
    {
     "data": {
      "image/png": "[encoded data removed]",
      "text/plain": [
       "<Figure size 864x576 with 1 Axes>"
      ]
     },
     "metadata": {
      "needs_background": "light"
     },
     "output_type": "display_data"
    }
   ],
   "source": [
    "#ANTES DE TRATAR missing\n",
    "#outliers dos ind01 a ind20\n",
    "for d in l_rec_trei_ind01_20:\n",
    "    df3[[d]].plot(kind = 'box',showmeans = True, meanline = True,\n",
    "                  grid = True, figsize = (12,8),vert = False, ylabel = d)"
   ]
  },
  {
   "cell_type": "code",
   "execution_count": 125,
   "metadata": {},
   "outputs": [
    {
     "name": "stdout",
     "output_type": "stream",
     "text": [
      "median:\n",
      "ind01    0.0000\n",
      "ind02    0.0000\n",
      "ind03    0.0000\n",
      "ind04    0.0000\n",
      "ind05    0.0833\n",
      "ind06    0.0219\n",
      "ind07    0.0000\n",
      "ind08    0.0000\n",
      "ind09    0.0000\n",
      "ind10    0.0000\n",
      "ind11    0.0000\n",
      "ind12    0.0000\n",
      "ind13    0.0000\n",
      "ind14    0.0000\n",
      "ind15    0.0000\n",
      "ind16    0.0000\n",
      "ind17    0.0000\n",
      "ind18    0.0000\n",
      "ind19    1.0000\n",
      "ind20    1.0000\n",
      "dtype: float64, \n",
      "mean:\n",
      "ind01    0.106722\n",
      "ind02    0.157427\n",
      "ind03    0.346646\n",
      "ind04    0.364934\n",
      "ind05    0.378858\n",
      "ind06    0.397906\n",
      "ind07    0.305112\n",
      "ind08    0.355596\n",
      "ind09    0.007454\n",
      "ind10    0.001375\n",
      "ind11    0.001093\n",
      "ind12    0.141280\n",
      "ind13    0.170552\n",
      "ind14    0.034556\n",
      "ind15    0.019556\n",
      "ind16    0.003789\n",
      "ind17    0.014774\n",
      "ind18    0.004045\n",
      "ind19    0.694791\n",
      "ind20    0.700189\n",
      "dtype: float64,\n",
      "median:\n",
      "   ind01  ind02  ind03  ind04  ind05  ind06  ind07  ind08  ind09  ind10  \\\n",
      "0    0.0    0.0    0.0    0.0    0.0    0.0    0.0    0.0    0.0    0.0   \n",
      "\n",
      "   ind11  ind12  ind13  ind14  ind15  ind16  ind17  ind18  ind19  ind20  \n",
      "0    0.0    0.0    0.0    0.0    0.0    0.0    0.0    0.0    1.0    1.0  ,\n",
      "std:\n",
      "ind01    0.305922\n",
      "ind02    0.315114\n",
      "ind03    0.470182\n",
      "ind04    0.451587\n",
      "ind05    0.449015\n",
      "ind06    0.473002\n",
      "ind07    0.430549\n",
      "ind08    0.440732\n",
      "ind09    0.069064\n",
      "ind10    0.031814\n",
      "ind11    0.029262\n",
      "ind12    0.312289\n",
      "ind13    0.322844\n",
      "ind14    0.161135\n",
      "ind15    0.129848\n",
      "ind16    0.059799\n",
      "ind17    0.118014\n",
      "ind18    0.062567\n",
      "ind19    0.452090\n",
      "ind20    0.450725\n",
      "dtype: float64\n"
     ]
    }
   ],
   "source": [
    "print('median:\\n{}, \\nmean:\\n{},\\nmedian:\\n{},\\nstd:\\n{}'.format(df3.median(), df3.mean(), df3.mode(), df3.std()))"
   ]
  },
  {
   "cell_type": "code",
   "execution_count": 143,
   "metadata": {},
   "outputs": [
    {
     "data": {
      "text/plain": [
       "SimpleImputer(copy=True, fill_value=None, missing_values=nan, strategy='mean',\n",
       "       verbose=0)"
      ]
     },
     "execution_count": 143,
     "metadata": {},
     "output_type": "execute_result"
    }
   ],
   "source": [
    "#missing values\n",
    "from sklearn.impute import SimpleImputer\n",
    "\n",
    "# fit()\n",
    "imputer_mv = SimpleImputer(strategy = 'mean')\n",
    "imputer_mv.fit(df3[['ind01', 'ind02', 'ind03', 'ind04', 'ind05', 'ind06', 'ind07', 'ind08',\n",
    "       'ind09', 'ind10', 'ind11', 'ind12', 'ind13', 'ind14', 'ind15', 'ind16',\n",
    "       'ind17', 'ind18', 'ind19', 'ind20']])"
   ]
  },
  {
   "cell_type": "code",
   "execution_count": 144,
   "metadata": {},
   "outputs": [
    {
     "data": {
      "image/png": "[encoded data removed]",
      "text/plain": [
       "<Figure size 864x576 with 1 Axes>"
      ]
     },
     "metadata": {
      "needs_background": "light"
     },
     "output_type": "display_data"
    },
    {
     "data": {
      "image/png": "[encoded data removed]",
      "text/plain": [
       "<Figure size 864x576 with 1 Axes>"
      ]
     },
     "metadata": {
      "needs_background": "light"
     },
     "output_type": "display_data"
    },
    {
     "data": {
      "image/png": "[encoded data removed]",
      "text/plain": [
       "<Figure size 864x576 with 1 Axes>"
      ]
     },
     "metadata": {
      "needs_background": "light"
     },
     "output_type": "display_data"
    },
    {
     "data": {
      "image/png": "[encoded data removed]",
      "text/plain": [
       "<Figure size 864x576 with 1 Axes>"
      ]
     },
     "metadata": {
      "needs_background": "light"
     },
     "output_type": "display_data"
    },
    {
     "data": {
      "image/png": "[encoded data removed]",
      "text/plain": [
       "<Figure size 864x576 with 1 Axes>"
      ]
     },
     "metadata": {
      "needs_background": "light"
     },
     "output_type": "display_data"
    },
    {
     "data": {
      "image/png": "[encoded data removed]",
      "text/plain": [
       "<Figure size 864x576 with 1 Axes>"
      ]
     },
     "metadata": {
      "needs_background": "light"
     },
     "output_type": "display_data"
    },
    {
     "data": {
      "image/png": "[encoded data removed]",
      "text/plain": [
       "<Figure size 864x576 with 1 Axes>"
      ]
     },
     "metadata": {
      "needs_background": "light"
     },
     "output_type": "display_data"
    },
    {
     "data": {
      "image/png": "[encoded data removed]",
      "text/plain": [
       "<Figure size 864x576 with 1 Axes>"
      ]
     },
     "metadata": {
      "needs_background": "light"
     },
     "output_type": "display_data"
    },
    {
     "data": {
      "image/png": "[encoded data removed]",
      "text/plain": [
       "<Figure size 864x576 with 1 Axes>"
      ]
     },
     "metadata": {
      "needs_background": "light"
     },
     "output_type": "display_data"
    },
    {
     "data": {
      "image/png": "[encoded data removed]",
      "text/plain": [
       "<Figure size 864x576 with 1 Axes>"
      ]
     },
     "metadata": {
      "needs_background": "light"
     },
     "output_type": "display_data"
    },
    {
     "data": {
      "image/png": "[encoded data removed]",
      "text/plain": [
       "<Figure size 864x576 with 1 Axes>"
      ]
     },
     "metadata": {
      "needs_background": "light"
     },
     "output_type": "display_data"
    },
    {
     "data": {
      "image/png": "[encoded data removed]",
      "text/plain": [
       "<Figure size 864x576 with 1 Axes>"
      ]
     },
     "metadata": {
      "needs_background": "light"
     },
     "output_type": "display_data"
    },
    {
     "data": {
      "image/png": "[encoded data removed]",
      "text/plain": [
       "<Figure size 864x576 with 1 Axes>"
      ]
     },
     "metadata": {
      "needs_background": "light"
     },
     "output_type": "display_data"
    },
    {
     "data": {
      "image/png": "[encoded data removed]",
      "text/plain": [
       "<Figure size 864x576 with 1 Axes>"
      ]
     },
     "metadata": {
      "needs_background": "light"
     },
     "output_type": "display_data"
    },
    {
     "data": {
      "image/png": "[encoded data removed]",
      "text/plain": [
       "<Figure size 864x576 with 1 Axes>"
      ]
     },
     "metadata": {
      "needs_background": "light"
     },
     "output_type": "display_data"
    },
    {
     "data": {
      "image/png": "[encoded data removed]",
      "text/plain": [
       "<Figure size 864x576 with 1 Axes>"
      ]
     },
     "metadata": {
      "needs_background": "light"
     },
     "output_type": "display_data"
    },
    {
     "data": {
      "image/png": "[encoded data removed]",
      "text/plain": [
       "<Figure size 864x576 with 1 Axes>"
      ]
     },
     "metadata": {
      "needs_background": "light"
     },
     "output_type": "display_data"
    },
    {
     "data": {
      "image/png": "[encoded data removed]",
      "text/plain": [
       "<Figure size 864x576 with 1 Axes>"
      ]
     },
     "metadata": {
      "needs_background": "light"
     },
     "output_type": "display_data"
    },
    {
     "data": {
      "image/png": "[encoded data removed]",
      "text/plain": [
       "<Figure size 864x576 with 1 Axes>"
      ]
     },
     "metadata": {
      "needs_background": "light"
     },
     "output_type": "display_data"
    },
    {
     "data": {
      "image/png": "[encoded data removed]",
      "text/plain": [
       "<Figure size 864x576 with 1 Axes>"
      ]
     },
     "metadata": {
      "needs_background": "light"
     },
     "output_type": "display_data"
    }
   ],
   "source": [
    "#DEPOIS DE TRATAR missing\n",
    "#outliers dos ind01 a ind20\n",
    "for d in l_rec_trei_ind01_20:\n",
    "    df3[[d]].plot(kind = 'box',showmeans = True, meanline = True,\n",
    "                  grid = True, figsize = (12,8),vert = False, ylabel = d)"
   ]
  },
  {
   "cell_type": "code",
   "execution_count": null,
   "metadata": {},
   "outputs": [],
   "source": []
  },
  {
   "cell_type": "code",
   "execution_count": null,
   "metadata": {},
   "outputs": [],
   "source": []
  },
  {
   "cell_type": "code",
   "execution_count": null,
   "metadata": {},
   "outputs": [],
   "source": []
  },
  {
   "cell_type": "code",
   "execution_count": null,
   "metadata": {},
   "outputs": [],
   "source": []
  },
  {
   "cell_type": "code",
   "execution_count": null,
   "metadata": {},
   "outputs": [],
   "source": []
  },
  {
   "cell_type": "code",
   "execution_count": null,
   "metadata": {},
   "outputs": [],
   "source": []
  },
  {
   "cell_type": "code",
   "execution_count": 104,
   "metadata": {},
   "outputs": [
    {
     "data": {
      "text/plain": [
       "count    10999.000000\n",
       "mean         0.157427\n",
       "std          0.315114\n",
       "min          0.000000\n",
       "25%          0.000000\n",
       "50%          0.000000\n",
       "75%          0.083300\n",
       "max          1.000000\n",
       "Name: ind02, dtype: float64"
      ]
     },
     "execution_count": 104,
     "metadata": {},
     "output_type": "execute_result"
    }
   ],
   "source": [
    "df2 = df_rec_trei['ind02']\n",
    "df2.describe()"
   ]
  },
  {
   "cell_type": "code",
   "execution_count": null,
   "metadata": {},
   "outputs": [],
   "source": [
    "df3"
   ]
  },
  {
   "cell_type": "code",
   "execution_count": null,
   "metadata": {},
   "outputs": [],
   "source": []
  },
  {
   "cell_type": "code",
   "execution_count": 38,
   "metadata": {},
   "outputs": [
    {
     "data": {
      "text/html": [
       "<div>\n",
       "<style scoped>\n",
       "    .dataframe tbody tr th:only-of-type {\n",
       "        vertical-align: middle;\n",
       "    }\n",
       "\n",
       "    .dataframe tbody tr th {\n",
       "        vertical-align: top;\n",
       "    }\n",
       "\n",
       "    .dataframe thead th {\n",
       "        text-align: right;\n",
       "    }\n",
       "</style>\n",
       "<table border=\"1\" class=\"dataframe\">\n",
       "  <thead>\n",
       "    <tr style=\"text-align: right;\">\n",
       "      <th></th>\n",
       "      <th>target_c</th>\n",
       "    </tr>\n",
       "  </thead>\n",
       "  <tbody>\n",
       "    <tr>\n",
       "      <th>count</th>\n",
       "      <td>11033.000000</td>\n",
       "    </tr>\n",
       "    <tr>\n",
       "      <th>mean</th>\n",
       "      <td>0.228406</td>\n",
       "    </tr>\n",
       "    <tr>\n",
       "      <th>std</th>\n",
       "      <td>0.419824</td>\n",
       "    </tr>\n",
       "    <tr>\n",
       "      <th>min</th>\n",
       "      <td>0.000000</td>\n",
       "    </tr>\n",
       "    <tr>\n",
       "      <th>25%</th>\n",
       "      <td>0.000000</td>\n",
       "    </tr>\n",
       "    <tr>\n",
       "      <th>50%</th>\n",
       "      <td>0.000000</td>\n",
       "    </tr>\n",
       "    <tr>\n",
       "      <th>75%</th>\n",
       "      <td>0.000000</td>\n",
       "    </tr>\n",
       "    <tr>\n",
       "      <th>max</th>\n",
       "      <td>1.000000</td>\n",
       "    </tr>\n",
       "  </tbody>\n",
       "</table>\n",
       "</div>"
      ],
      "text/plain": [
       "           target_c\n",
       "count  11033.000000\n",
       "mean       0.228406\n",
       "std        0.419824\n",
       "min        0.000000\n",
       "25%        0.000000\n",
       "50%        0.000000\n",
       "75%        0.000000\n",
       "max        1.000000"
      ]
     },
     "execution_count": 38,
     "metadata": {},
     "output_type": "execute_result"
    }
   ],
   "source": [
    "df2.describe()"
   ]
  },
  {
   "cell_type": "code",
   "execution_count": 60,
   "metadata": {},
   "outputs": [
    {
     "data": {
      "text/plain": [
       "11033"
      ]
     },
     "execution_count": 60,
     "metadata": {},
     "output_type": "execute_result"
    }
   ],
   "source": [
    "df2.shape[0]"
   ]
  },
  {
   "cell_type": "code",
   "execution_count": 18,
   "metadata": {},
   "outputs": [],
   "source": [
    "#drop da coluna targer (True e False)\n",
    "#tendo a coluna 'target_c' como resultado\n",
    "df_rec_trei.drop(columns = 'target', inplace = True)"
   ]
  },
  {
   "cell_type": "code",
   "execution_count": 19,
   "metadata": {},
   "outputs": [
    {
     "data": {
      "text/html": [
       "<div>\n",
       "<style scoped>\n",
       "    .dataframe tbody tr th:only-of-type {\n",
       "        vertical-align: middle;\n",
       "    }\n",
       "\n",
       "    .dataframe tbody tr th {\n",
       "        vertical-align: top;\n",
       "    }\n",
       "\n",
       "    .dataframe thead th {\n",
       "        text-align: right;\n",
       "    }\n",
       "</style>\n",
       "<table border=\"1\" class=\"dataframe\">\n",
       "  <thead>\n",
       "    <tr style=\"text-align: right;\">\n",
       "      <th></th>\n",
       "      <th>id</th>\n",
       "      <th>cnae2</th>\n",
       "      <th>rf2</th>\n",
       "      <th>md1</th>\n",
       "      <th>md2</th>\n",
       "      <th>md3</th>\n",
       "      <th>md4</th>\n",
       "      <th>md5</th>\n",
       "      <th>md6</th>\n",
       "      <th>md7</th>\n",
       "      <th>...</th>\n",
       "      <th>ind35</th>\n",
       "      <th>ind36</th>\n",
       "      <th>ind37</th>\n",
       "      <th>ind38</th>\n",
       "      <th>ind39</th>\n",
       "      <th>ind40</th>\n",
       "      <th>ind41</th>\n",
       "      <th>ind42</th>\n",
       "      <th>ind43</th>\n",
       "      <th>target_c</th>\n",
       "    </tr>\n",
       "  </thead>\n",
       "  <tbody>\n",
       "    <tr>\n",
       "      <th>0</th>\n",
       "      <td>0</td>\n",
       "      <td>86</td>\n",
       "      <td>i</td>\n",
       "      <td>0.090339</td>\n",
       "      <td>0.011256</td>\n",
       "      <td>0.111095</td>\n",
       "      <td>0.003233</td>\n",
       "      <td>0.003233</td>\n",
       "      <td>0.0</td>\n",
       "      <td>0.016366</td>\n",
       "      <td>...</td>\n",
       "      <td>1.0</td>\n",
       "      <td>1.0</td>\n",
       "      <td>1.0</td>\n",
       "      <td>0.0</td>\n",
       "      <td>0.0</td>\n",
       "      <td>0.0</td>\n",
       "      <td>0.0</td>\n",
       "      <td>0.0</td>\n",
       "      <td>0.0</td>\n",
       "      <td>1</td>\n",
       "    </tr>\n",
       "    <tr>\n",
       "      <th>1</th>\n",
       "      <td>1</td>\n",
       "      <td>18</td>\n",
       "      <td>z</td>\n",
       "      <td>0.005996</td>\n",
       "      <td>0.019476</td>\n",
       "      <td>0.124770</td>\n",
       "      <td>0.000000</td>\n",
       "      <td>0.038168</td>\n",
       "      <td>0.0</td>\n",
       "      <td>0.029214</td>\n",
       "      <td>...</td>\n",
       "      <td>0.0</td>\n",
       "      <td>1.0</td>\n",
       "      <td>0.0</td>\n",
       "      <td>0.0</td>\n",
       "      <td>0.0</td>\n",
       "      <td>0.0</td>\n",
       "      <td>0.0</td>\n",
       "      <td>0.0</td>\n",
       "      <td>0.0</td>\n",
       "      <td>0</td>\n",
       "    </tr>\n",
       "    <tr>\n",
       "      <th>2</th>\n",
       "      <td>2</td>\n",
       "      <td>74</td>\n",
       "      <td>z</td>\n",
       "      <td>0.000006</td>\n",
       "      <td>0.002902</td>\n",
       "      <td>0.110160</td>\n",
       "      <td>0.002274</td>\n",
       "      <td>0.002274</td>\n",
       "      <td>0.0</td>\n",
       "      <td>0.002902</td>\n",
       "      <td>...</td>\n",
       "      <td>1.0</td>\n",
       "      <td>1.0</td>\n",
       "      <td>1.0</td>\n",
       "      <td>0.0</td>\n",
       "      <td>0.0</td>\n",
       "      <td>0.0</td>\n",
       "      <td>0.0</td>\n",
       "      <td>0.0</td>\n",
       "      <td>0.0</td>\n",
       "      <td>0</td>\n",
       "    </tr>\n",
       "    <tr>\n",
       "      <th>3</th>\n",
       "      <td>3</td>\n",
       "      <td>49</td>\n",
       "      <td>q</td>\n",
       "      <td>0.000009</td>\n",
       "      <td>0.014526</td>\n",
       "      <td>0.120351</td>\n",
       "      <td>0.000000</td>\n",
       "      <td>0.000000</td>\n",
       "      <td>0.0</td>\n",
       "      <td>0.014526</td>\n",
       "      <td>...</td>\n",
       "      <td>1.0</td>\n",
       "      <td>0.0</td>\n",
       "      <td>1.0</td>\n",
       "      <td>0.0</td>\n",
       "      <td>0.0</td>\n",
       "      <td>0.0</td>\n",
       "      <td>0.0</td>\n",
       "      <td>0.0</td>\n",
       "      <td>0.0</td>\n",
       "      <td>0</td>\n",
       "    </tr>\n",
       "    <tr>\n",
       "      <th>4</th>\n",
       "      <td>4</td>\n",
       "      <td>47</td>\n",
       "      <td>i</td>\n",
       "      <td>0.000191</td>\n",
       "      <td>0.004042</td>\n",
       "      <td>0.111078</td>\n",
       "      <td>0.001121</td>\n",
       "      <td>0.001121</td>\n",
       "      <td>0.0</td>\n",
       "      <td>0.006063</td>\n",
       "      <td>...</td>\n",
       "      <td>1.0</td>\n",
       "      <td>0.0</td>\n",
       "      <td>0.0</td>\n",
       "      <td>0.0</td>\n",
       "      <td>1.0</td>\n",
       "      <td>0.0</td>\n",
       "      <td>0.0</td>\n",
       "      <td>1.0</td>\n",
       "      <td>0.5</td>\n",
       "      <td>0</td>\n",
       "    </tr>\n",
       "  </tbody>\n",
       "</table>\n",
       "<p>5 rows × 63 columns</p>\n",
       "</div>"
      ],
      "text/plain": [
       "   id  cnae2 rf2       md1       md2       md3       md4       md5  md6  \\\n",
       "0   0     86   i  0.090339  0.011256  0.111095  0.003233  0.003233  0.0   \n",
       "1   1     18   z  0.005996  0.019476  0.124770  0.000000  0.038168  0.0   \n",
       "2   2     74   z  0.000006  0.002902  0.110160  0.002274  0.002274  0.0   \n",
       "3   3     49   q  0.000009  0.014526  0.120351  0.000000  0.000000  0.0   \n",
       "4   4     47   i  0.000191  0.004042  0.111078  0.001121  0.001121  0.0   \n",
       "\n",
       "        md7  ...  ind35  ind36  ind37  ind38  ind39  ind40  ind41  ind42  \\\n",
       "0  0.016366  ...    1.0    1.0    1.0    0.0    0.0    0.0    0.0    0.0   \n",
       "1  0.029214  ...    0.0    1.0    0.0    0.0    0.0    0.0    0.0    0.0   \n",
       "2  0.002902  ...    1.0    1.0    1.0    0.0    0.0    0.0    0.0    0.0   \n",
       "3  0.014526  ...    1.0    0.0    1.0    0.0    0.0    0.0    0.0    0.0   \n",
       "4  0.006063  ...    1.0    0.0    0.0    0.0    1.0    0.0    0.0    1.0   \n",
       "\n",
       "   ind43  target_c  \n",
       "0    0.0         1  \n",
       "1    0.0         0  \n",
       "2    0.0         0  \n",
       "3    0.0         0  \n",
       "4    0.5         0  \n",
       "\n",
       "[5 rows x 63 columns]"
      ]
     },
     "execution_count": 19,
     "metadata": {},
     "output_type": "execute_result"
    }
   ],
   "source": [
    "df_rec_trei.head()"
   ]
  },
  {
   "cell_type": "code",
   "execution_count": 20,
   "metadata": {},
   "outputs": [],
   "source": [
    "l_rec_trei = df_rec_trei.columns\n",
    "l_col_isna_trei = []\n",
    "\n",
    "for i in l_rec_trei:\n",
    "    f = df_rec_trei[i].isna().sum()\n",
    "    if f != 0:\n",
    "        l_col_isna_trei.append(i)\n",
    "           "
   ]
  },
  {
   "cell_type": "code",
   "execution_count": 21,
   "metadata": {},
   "outputs": [
    {
     "data": {
      "text/plain": [
       "['mc1',\n",
       " 'mc2',\n",
       " 'mc3',\n",
       " 'ind01',\n",
       " 'ind02',\n",
       " 'ind03',\n",
       " 'ind04',\n",
       " 'ind05',\n",
       " 'ind06',\n",
       " 'ind07',\n",
       " 'ind08',\n",
       " 'ind09',\n",
       " 'ind10',\n",
       " 'ind11',\n",
       " 'ind12',\n",
       " 'ind13',\n",
       " 'ind14',\n",
       " 'ind15',\n",
       " 'ind16',\n",
       " 'ind17',\n",
       " 'ind18',\n",
       " 'ind19',\n",
       " 'ind20',\n",
       " 'ind21',\n",
       " 'ind22',\n",
       " 'ind23',\n",
       " 'ind24',\n",
       " 'ind25',\n",
       " 'ind26',\n",
       " 'ind27',\n",
       " 'ind28',\n",
       " 'ind29',\n",
       " 'ind30',\n",
       " 'ind31',\n",
       " 'ind32',\n",
       " 'ind33',\n",
       " 'ind34',\n",
       " 'ind35',\n",
       " 'ind36',\n",
       " 'ind37',\n",
       " 'ind38',\n",
       " 'ind39',\n",
       " 'ind40',\n",
       " 'ind41',\n",
       " 'ind42',\n",
       " 'ind43']"
      ]
     },
     "execution_count": 21,
     "metadata": {},
     "output_type": "execute_result"
    }
   ],
   "source": [
    "l_col_isna_trei"
   ]
  },
  {
   "cell_type": "code",
   "execution_count": 22,
   "metadata": {},
   "outputs": [
    {
     "data": {
      "text/plain": [
       "34"
      ]
     },
     "execution_count": 22,
     "metadata": {},
     "output_type": "execute_result"
    }
   ],
   "source": [
    "df_rec_trei['ind01'].isna().sum()"
   ]
  },
  {
   "cell_type": "code",
   "execution_count": 23,
   "metadata": {},
   "outputs": [
    {
     "data": {
      "text/plain": [
       "Int64Index([   64,   120,   259,   294,   552,   585,   647,   697,   730,\n",
       "              803,\n",
       "            ...\n",
       "            10397, 10503, 10681, 10706, 10725, 10740, 10760, 10887, 10906,\n",
       "            10996],\n",
       "           dtype='int64', length=173)"
      ]
     },
     "execution_count": 23,
     "metadata": {},
     "output_type": "execute_result"
    }
   ],
   "source": [
    "# 0- 9727; 1 - 1133; nan - 34; outros - 139 (173 = 139+34)\n",
    "\n",
    "df_rec_trei[(df_rec_trei['ind01']!= 1)&(df_rec_trei['ind01']!= 0)].index"
   ]
  },
  {
   "cell_type": "code",
   "execution_count": 24,
   "metadata": {},
   "outputs": [],
   "source": [
    "l_ind01 = list(df_rec_trei[(df_rec_trei['ind01']!= 1)&(df_rec_trei['ind01']!= 0)].index)"
   ]
  },
  {
   "cell_type": "code",
   "execution_count": 25,
   "metadata": {},
   "outputs": [
    {
     "name": "stdout",
     "output_type": "stream",
     "text": [
      "     ind01\n",
      "64  0.6667\n",
      "      ind01\n",
      "120  0.0833\n",
      "      ind01\n",
      "259  0.5833\n",
      "      ind01\n",
      "294  0.1667\n",
      "      ind01\n",
      "552  0.0833\n",
      "      ind01\n",
      "585  0.8333\n",
      "     ind01\n",
      "647   0.25\n",
      "      ind01\n",
      "697  0.5833\n",
      "     ind01\n",
      "730    NaN\n",
      "     ind01\n",
      "803    NaN\n",
      "      ind01\n",
      "832  0.1667\n",
      "     ind01\n",
      "920    NaN\n",
      "      ind01\n",
      "945  0.3333\n",
      "      ind01\n",
      "961  0.1667\n",
      "      ind01\n",
      "1011    NaN\n",
      "       ind01\n",
      "1056  0.0833\n",
      "       ind01\n",
      "1064  0.0833\n",
      "      ind01\n",
      "1159   0.75\n",
      "      ind01\n",
      "1213    NaN\n",
      "      ind01\n",
      "1224    NaN\n",
      "      ind01\n",
      "1303    NaN\n",
      "      ind01\n",
      "1308    0.5\n",
      "       ind01\n",
      "1423  0.9167\n",
      "       ind01\n",
      "1468  0.0833\n",
      "      ind01\n",
      "1472   0.25\n",
      "       ind01\n",
      "1556  0.0833\n",
      "       ind01\n",
      "1610  0.9167\n",
      "       ind01\n",
      "1653  0.0833\n",
      "      ind01\n",
      "1684    NaN\n",
      "       ind01\n",
      "1691  0.0833\n",
      "       ind01\n",
      "1774  0.1667\n",
      "       ind01\n",
      "1783  0.0833\n",
      "       ind01\n",
      "2032  0.1667\n",
      "      ind01\n",
      "2062    NaN\n",
      "       ind01\n",
      "2149  0.1667\n",
      "       ind01\n",
      "2259  0.0833\n",
      "       ind01\n",
      "2283  0.0833\n",
      "      ind01\n",
      "2312    NaN\n",
      "       ind01\n",
      "2334  0.0833\n",
      "      ind01\n",
      "2399   0.25\n",
      "      ind01\n",
      "2481    NaN\n",
      "      ind01\n",
      "2538    NaN\n",
      "       ind01\n",
      "2589  0.0833\n",
      "       ind01\n",
      "2612  0.9167\n",
      "       ind01\n",
      "2659  0.4167\n",
      "       ind01\n",
      "2753  0.1667\n",
      "      ind01\n",
      "2847    NaN\n",
      "      ind01\n",
      "2868   0.75\n",
      "       ind01\n",
      "2927  0.0833\n",
      "       ind01\n",
      "2940  0.0833\n",
      "       ind01\n",
      "2992  0.0833\n",
      "       ind01\n",
      "3019  0.0833\n",
      "       ind01\n",
      "3085  0.0833\n",
      "      ind01\n",
      "3202   0.75\n",
      "       ind01\n",
      "3220  0.0833\n",
      "       ind01\n",
      "3227  0.4167\n",
      "      ind01\n",
      "3233    NaN\n",
      "      ind01\n",
      "3325   0.25\n",
      "      ind01\n",
      "3408   0.25\n",
      "       ind01\n",
      "3410  0.0833\n",
      "       ind01\n",
      "3452  0.0833\n",
      "       ind01\n",
      "3483  0.1667\n",
      "       ind01\n",
      "3570  0.3333\n",
      "      ind01\n",
      "3625   0.75\n",
      "       ind01\n",
      "3657  0.0833\n",
      "       ind01\n",
      "3758  0.0833\n",
      "      ind01\n",
      "3772    NaN\n",
      "      ind01\n",
      "3883    NaN\n",
      "       ind01\n",
      "4227  0.6667\n",
      "      ind01\n",
      "4230   0.25\n",
      "       ind01\n",
      "4273  0.0833\n",
      "      ind01\n",
      "4297    NaN\n",
      "       ind01\n",
      "4343  0.0833\n",
      "       ind01\n",
      "4464  0.0833\n",
      "       ind01\n",
      "4530  0.0833\n",
      "       ind01\n",
      "4573  0.0833\n",
      "      ind01\n",
      "4636    0.5\n",
      "       ind01\n",
      "4672  0.1667\n",
      "      ind01\n",
      "4707    NaN\n",
      "       ind01\n",
      "4761  0.0833\n",
      "       ind01\n",
      "4786  0.4167\n",
      "       ind01\n",
      "4871  0.0833\n",
      "       ind01\n",
      "4971  0.9167\n",
      "       ind01\n",
      "5049  0.0833\n",
      "      ind01\n",
      "5148    NaN\n",
      "      ind01\n",
      "5180    NaN\n",
      "       ind01\n",
      "5193  0.0833\n",
      "       ind01\n",
      "5239  0.0833\n",
      "       ind01\n",
      "5242  0.3333\n",
      "       ind01\n",
      "5291  0.0833\n",
      "       ind01\n",
      "5304  0.0833\n",
      "      ind01\n",
      "5346    NaN\n",
      "       ind01\n",
      "5423  0.4167\n",
      "      ind01\n",
      "5426   0.75\n",
      "      ind01\n",
      "5492    NaN\n",
      "       ind01\n",
      "5655  0.8333\n",
      "       ind01\n",
      "5682  0.0833\n",
      "      ind01\n",
      "5689    NaN\n",
      "       ind01\n",
      "5722  0.0833\n",
      "      ind01\n",
      "5770   0.25\n",
      "      ind01\n",
      "5826    0.5\n",
      "       ind01\n",
      "5852  0.6667\n",
      "      ind01\n",
      "5939   0.25\n",
      "       ind01\n",
      "5943  0.0833\n",
      "      ind01\n",
      "5945   0.25\n",
      "       ind01\n",
      "5959  0.0833\n",
      "      ind01\n",
      "5972   0.25\n",
      "       ind01\n",
      "6095  0.1667\n",
      "      ind01\n",
      "6101    NaN\n",
      "       ind01\n",
      "6240  0.0833\n",
      "       ind01\n",
      "6258  0.0833\n",
      "       ind01\n",
      "6293  0.0833\n",
      "       ind01\n",
      "6426  0.9167\n",
      "       ind01\n",
      "6433  0.1667\n",
      "       ind01\n",
      "6571  0.0833\n",
      "       ind01\n",
      "6674  0.0833\n",
      "       ind01\n",
      "6702  0.5833\n",
      "       ind01\n",
      "6727  0.1667\n",
      "      ind01\n",
      "6823    NaN\n",
      "       ind01\n",
      "6918  0.1667\n",
      "       ind01\n",
      "6931  0.0833\n",
      "       ind01\n",
      "6992  0.1667\n",
      "       ind01\n",
      "7045  0.6667\n",
      "       ind01\n",
      "7102  0.3333\n",
      "      ind01\n",
      "7297    NaN\n",
      "       ind01\n",
      "7321  0.1667\n",
      "       ind01\n",
      "7355  0.4167\n",
      "      ind01\n",
      "7449   0.25\n",
      "       ind01\n",
      "7552  0.1667\n",
      "       ind01\n",
      "7782  0.0833\n",
      "       ind01\n",
      "7842  0.1667\n",
      "       ind01\n",
      "7845  0.1667\n",
      "      ind01\n",
      "7862    NaN\n",
      "       ind01\n",
      "7985  0.6667\n",
      "      ind01\n",
      "8045    0.5\n",
      "       ind01\n",
      "8048  0.4167\n",
      "       ind01\n",
      "8223  0.0833\n",
      "       ind01\n",
      "8327  0.1667\n",
      "       ind01\n",
      "8374  0.9167\n",
      "      ind01\n",
      "8388   0.25\n",
      "      ind01\n",
      "8618   0.25\n",
      "       ind01\n",
      "8690  0.9167\n",
      "       ind01\n",
      "8794  0.5833\n",
      "       ind01\n",
      "8824  0.3333\n",
      "      ind01\n",
      "8893    NaN\n",
      "       ind01\n",
      "8920  0.1667\n",
      "       ind01\n",
      "8973  0.0833\n",
      "       ind01\n",
      "8993  0.1667\n",
      "       ind01\n",
      "9204  0.0833\n",
      "       ind01\n",
      "9212  0.0833\n",
      "       ind01\n",
      "9311  0.4167\n",
      "      ind01\n",
      "9434    NaN\n",
      "      ind01\n",
      "9481   0.25\n",
      "       ind01\n",
      "9498  0.5833\n",
      "      ind01\n",
      "9660    0.5\n",
      "      ind01\n",
      "9800    NaN\n",
      "       ind01\n",
      "9862  0.6667\n",
      "        ind01\n",
      "10026  0.1667\n",
      "        ind01\n",
      "10183  0.0833\n",
      "       ind01\n",
      "10213    NaN\n",
      "       ind01\n",
      "10280    NaN\n",
      "       ind01\n",
      "10283    NaN\n",
      "       ind01\n",
      "10329    0.5\n",
      "        ind01\n",
      "10397  0.9167\n",
      "        ind01\n",
      "10503  0.0833\n",
      "        ind01\n",
      "10681  0.4167\n",
      "        ind01\n",
      "10706  0.0833\n",
      "       ind01\n",
      "10725   0.25\n",
      "        ind01\n",
      "10740  0.0833\n",
      "        ind01\n",
      "10760  0.1667\n",
      "       ind01\n",
      "10887    NaN\n",
      "        ind01\n",
      "10906  0.9167\n",
      "        ind01\n",
      "10996  0.1667\n"
     ]
    }
   ],
   "source": [
    "for c in l_ind01:\n",
    "    print(df_rec_trei[['ind01']].iloc[c:c+1,])"
   ]
  },
  {
   "cell_type": "code",
   "execution_count": null,
   "metadata": {},
   "outputs": [],
   "source": []
  },
  {
   "cell_type": "code",
   "execution_count": 26,
   "metadata": {},
   "outputs": [
    {
     "data": {
      "text/plain": [
       "Int64Index([  730,   803,   920,  1011,  1213,  1224,  1303,  1684,  2062,\n",
       "             2312,  2481,  2538,  2847,  3233,  3772,  3883,  4297,  4707,\n",
       "             5148,  5180,  5346,  5492,  5689,  6101,  6823,  7297,  7862,\n",
       "             8893,  9434,  9800, 10213, 10280, 10283, 10887],\n",
       "           dtype='int64')"
      ]
     },
     "execution_count": 26,
     "metadata": {},
     "output_type": "execute_result"
    }
   ],
   "source": [
    "df_rec_trei[df_rec_trei['ind01'].isna()].index"
   ]
  },
  {
   "cell_type": "code",
   "execution_count": 27,
   "metadata": {},
   "outputs": [
    {
     "data": {
      "text/plain": [
       "Int64Index([    0,     1,     2,     3,     4,     6,     7,     8,     9,\n",
       "               10,\n",
       "            ...\n",
       "            11020, 11021, 11023, 11024, 11025, 11026, 11027, 11029, 11031,\n",
       "            11032],\n",
       "           dtype='int64', length=9727)"
      ]
     },
     "execution_count": 27,
     "metadata": {},
     "output_type": "execute_result"
    }
   ],
   "source": [
    "df_rec_trei[df_rec_trei['ind01']== 0].index"
   ]
  },
  {
   "cell_type": "code",
   "execution_count": 28,
   "metadata": {},
   "outputs": [
    {
     "data": {
      "text/plain": [
       "Int64Index([    5,    11,    24,    27,    32,    37,    47,    87,    92,\n",
       "               97,\n",
       "            ...\n",
       "            10941, 10955, 10978, 10986, 10991, 11003, 11007, 11022, 11028,\n",
       "            11030],\n",
       "           dtype='int64', length=1133)"
      ]
     },
     "execution_count": 28,
     "metadata": {},
     "output_type": "execute_result"
    }
   ],
   "source": [
    "df_rec_trei[df_rec_trei['ind01']== 1].index"
   ]
  },
  {
   "cell_type": "code",
   "execution_count": 29,
   "metadata": {},
   "outputs": [
    {
     "data": {
      "text/html": [
       "<div>\n",
       "<style scoped>\n",
       "    .dataframe tbody tr th:only-of-type {\n",
       "        vertical-align: middle;\n",
       "    }\n",
       "\n",
       "    .dataframe tbody tr th {\n",
       "        vertical-align: top;\n",
       "    }\n",
       "\n",
       "    .dataframe thead th {\n",
       "        text-align: right;\n",
       "    }\n",
       "</style>\n",
       "<table border=\"1\" class=\"dataframe\">\n",
       "  <thead>\n",
       "    <tr style=\"text-align: right;\">\n",
       "      <th></th>\n",
       "      <th>ind01</th>\n",
       "    </tr>\n",
       "  </thead>\n",
       "  <tbody>\n",
       "    <tr>\n",
       "      <th>64</th>\n",
       "      <td>0.6667</td>\n",
       "    </tr>\n",
       "  </tbody>\n",
       "</table>\n",
       "</div>"
      ],
      "text/plain": [
       "     ind01\n",
       "64  0.6667"
      ]
     },
     "execution_count": 29,
     "metadata": {},
     "output_type": "execute_result"
    }
   ],
   "source": [
    "df_rec_trei[['ind01']].iloc[64:65,]"
   ]
  },
  {
   "cell_type": "code",
   "execution_count": 30,
   "metadata": {},
   "outputs": [],
   "source": [
    "df1 = df_rec_trei[['ind01']]"
   ]
  },
  {
   "cell_type": "code",
   "execution_count": 31,
   "metadata": {},
   "outputs": [
    {
     "data": {
      "text/html": [
       "<div>\n",
       "<style scoped>\n",
       "    .dataframe tbody tr th:only-of-type {\n",
       "        vertical-align: middle;\n",
       "    }\n",
       "\n",
       "    .dataframe tbody tr th {\n",
       "        vertical-align: top;\n",
       "    }\n",
       "\n",
       "    .dataframe thead th {\n",
       "        text-align: right;\n",
       "    }\n",
       "</style>\n",
       "<table border=\"1\" class=\"dataframe\">\n",
       "  <thead>\n",
       "    <tr style=\"text-align: right;\">\n",
       "      <th></th>\n",
       "      <th>ind01</th>\n",
       "    </tr>\n",
       "  </thead>\n",
       "  <tbody>\n",
       "    <tr>\n",
       "      <th>0</th>\n",
       "      <td>0.0</td>\n",
       "    </tr>\n",
       "    <tr>\n",
       "      <th>1</th>\n",
       "      <td>0.0</td>\n",
       "    </tr>\n",
       "    <tr>\n",
       "      <th>2</th>\n",
       "      <td>0.0</td>\n",
       "    </tr>\n",
       "    <tr>\n",
       "      <th>3</th>\n",
       "      <td>0.0</td>\n",
       "    </tr>\n",
       "    <tr>\n",
       "      <th>4</th>\n",
       "      <td>0.0</td>\n",
       "    </tr>\n",
       "    <tr>\n",
       "      <th>...</th>\n",
       "      <td>...</td>\n",
       "    </tr>\n",
       "    <tr>\n",
       "      <th>11028</th>\n",
       "      <td>1.0</td>\n",
       "    </tr>\n",
       "    <tr>\n",
       "      <th>11029</th>\n",
       "      <td>0.0</td>\n",
       "    </tr>\n",
       "    <tr>\n",
       "      <th>11030</th>\n",
       "      <td>1.0</td>\n",
       "    </tr>\n",
       "    <tr>\n",
       "      <th>11031</th>\n",
       "      <td>0.0</td>\n",
       "    </tr>\n",
       "    <tr>\n",
       "      <th>11032</th>\n",
       "      <td>0.0</td>\n",
       "    </tr>\n",
       "  </tbody>\n",
       "</table>\n",
       "<p>11033 rows × 1 columns</p>\n",
       "</div>"
      ],
      "text/plain": [
       "       ind01\n",
       "0        0.0\n",
       "1        0.0\n",
       "2        0.0\n",
       "3        0.0\n",
       "4        0.0\n",
       "...      ...\n",
       "11028    1.0\n",
       "11029    0.0\n",
       "11030    1.0\n",
       "11031    0.0\n",
       "11032    0.0\n",
       "\n",
       "[11033 rows x 1 columns]"
      ]
     },
     "execution_count": 31,
     "metadata": {},
     "output_type": "execute_result"
    }
   ],
   "source": [
    "df1"
   ]
  },
  {
   "cell_type": "code",
   "execution_count": 94,
   "metadata": {},
   "outputs": [
    {
     "name": "stdout",
     "output_type": "stream",
     "text": [
      "       Total  Percentual\n",
      "ind01     34         0.0\n"
     ]
    }
   ],
   "source": [
    "mostra_missing_value(df1)"
   ]
  },
  {
   "cell_type": "code",
   "execution_count": null,
   "metadata": {},
   "outputs": [],
   "source": []
  }
 ],
 "metadata": {
  "kernelspec": {
   "display_name": "Python 3",
   "language": "python",
   "name": "python3"
  },
  "language_info": {
   "codemirror_mode": {
    "name": "ipython",
    "version": 3
   },
   "file_extension": ".py",
   "mimetype": "text/x-python",
   "name": "python",
   "nbconvert_exporter": "python",
   "pygments_lexer": "ipython3",
   "version": "3.7.3"
  }
 },
 "nbformat": 4,
 "nbformat_minor": 2
}
