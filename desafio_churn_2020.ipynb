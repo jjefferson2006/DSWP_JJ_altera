{
  "nbformat": 4,
  "nbformat_minor": 0,
  "metadata": {
    "colab": {
      "name": "Untitled0.ipynb",
      "provenance": [],
      "authorship_tag": "ABX9TyOLe7mLCfegLhH0V9uEZJ0u",
      "include_colab_link": true
    },
    "kernelspec": {
      "name": "python3",
      "display_name": "Python 3"
    }
  },
  "cells": [
    {
      "cell_type": "markdown",
      "metadata": {
        "id": "view-in-github",
        "colab_type": "text"
      },
      "source": [
        "<a href=\"https://colab.research.google.com/github/jjefferson2006/DSWP_JJ_altera/blob/main/desafio_churn_2020.ipynb\" target=\"_parent\"><img src=\"https://colab.research.google.com/assets/colab-badge.svg\" alt=\"Open In Colab\"/></a>"
      ]
    },
    {
      "cell_type": "code",
      "metadata": {
        "id": "GHYJ8JpkWoUh"
      },
      "source": [
        "import pandas as pd\n",
        "import numpy as np\n",
        "import matplotlib.pyplot as plt\n",
        "import seaborn as sns\n",
        "%matplotlib inline\n",
        "\n",
        "import statsmodels.api as sm\n",
        "import statsmodels.formula.api as smf\n",
        "from sklearn.linear_model import LogisticRegression\n",
        "from sklearn.metrics import roc_auc_score, roc_curve, classification_report, accuracy_score, confusion_matrix\n"
      ],
      "execution_count": 99,
      "outputs": []
    },
    {
      "cell_type": "markdown",
      "metadata": {
        "id": "rFsRWmhDWuZQ"
      },
      "source": [
        "###carregar dados\n"
      ]
    },
    {
      "cell_type": "code",
      "metadata": {
        "id": "2cvG6B-zWsTb",
        "outputId": "48a76e02-dc4a-410f-b137-0b96e9d94ed9",
        "colab": {
          "base_uri": "https://localhost:8080/",
          "height": 573
        }
      },
      "source": [
        "url = 'https://raw.githubusercontent.com/jjefferson2006/DSWP_JJ_altera/main/train.csv'\n",
        "df_churn_train = pd.read_csv(url)\n",
        "df_churn_train"
      ],
      "execution_count": 100,
      "outputs": [
        {
          "output_type": "execute_result",
          "data": {
            "text/html": [
              "<div>\n",
              "<style scoped>\n",
              "    .dataframe tbody tr th:only-of-type {\n",
              "        vertical-align: middle;\n",
              "    }\n",
              "\n",
              "    .dataframe tbody tr th {\n",
              "        vertical-align: top;\n",
              "    }\n",
              "\n",
              "    .dataframe thead th {\n",
              "        text-align: right;\n",
              "    }\n",
              "</style>\n",
              "<table border=\"1\" class=\"dataframe\">\n",
              "  <thead>\n",
              "    <tr style=\"text-align: right;\">\n",
              "      <th></th>\n",
              "      <th>id</th>\n",
              "      <th>gender</th>\n",
              "      <th>SeniorCitizen</th>\n",
              "      <th>Partner</th>\n",
              "      <th>Dependents</th>\n",
              "      <th>tenure</th>\n",
              "      <th>PhoneService</th>\n",
              "      <th>MultipleLines</th>\n",
              "      <th>InternetService</th>\n",
              "      <th>OnlineSecurity</th>\n",
              "      <th>OnlineBackup</th>\n",
              "      <th>DeviceProtection</th>\n",
              "      <th>TechSupport</th>\n",
              "      <th>StreamingTV</th>\n",
              "      <th>StreamingMovies</th>\n",
              "      <th>Contract</th>\n",
              "      <th>PaperlessBilling</th>\n",
              "      <th>PaymentMethod</th>\n",
              "      <th>MonthlyCharges</th>\n",
              "      <th>TotalCharges</th>\n",
              "      <th>Churn</th>\n",
              "    </tr>\n",
              "  </thead>\n",
              "  <tbody>\n",
              "    <tr>\n",
              "      <th>0</th>\n",
              "      <td>4030</td>\n",
              "      <td>Female</td>\n",
              "      <td>0</td>\n",
              "      <td>No</td>\n",
              "      <td>No</td>\n",
              "      <td>56.0</td>\n",
              "      <td>No</td>\n",
              "      <td>No phone service</td>\n",
              "      <td>DSL</td>\n",
              "      <td>Yes</td>\n",
              "      <td>Yes</td>\n",
              "      <td>Yes</td>\n",
              "      <td>Yes</td>\n",
              "      <td>No</td>\n",
              "      <td>No</td>\n",
              "      <td>Two year</td>\n",
              "      <td>No</td>\n",
              "      <td>NaN</td>\n",
              "      <td>45.05</td>\n",
              "      <td>2560.1</td>\n",
              "      <td>0</td>\n",
              "    </tr>\n",
              "    <tr>\n",
              "      <th>1</th>\n",
              "      <td>6731</td>\n",
              "      <td>Male</td>\n",
              "      <td>0</td>\n",
              "      <td>Yes</td>\n",
              "      <td>Yes</td>\n",
              "      <td>NaN</td>\n",
              "      <td>Yes</td>\n",
              "      <td>No</td>\n",
              "      <td>No</td>\n",
              "      <td>No internet service</td>\n",
              "      <td>No internet service</td>\n",
              "      <td>No internet service</td>\n",
              "      <td>No internet service</td>\n",
              "      <td>No internet service</td>\n",
              "      <td>No internet service</td>\n",
              "      <td>One year</td>\n",
              "      <td>No</td>\n",
              "      <td>Mailed check</td>\n",
              "      <td>19.65</td>\n",
              "      <td>332.65</td>\n",
              "      <td>0</td>\n",
              "    </tr>\n",
              "    <tr>\n",
              "      <th>2</th>\n",
              "      <td>6479</td>\n",
              "      <td>Female</td>\n",
              "      <td>0</td>\n",
              "      <td>Yes</td>\n",
              "      <td>No</td>\n",
              "      <td>60.0</td>\n",
              "      <td>Yes</td>\n",
              "      <td>Yes</td>\n",
              "      <td>Fiber optic</td>\n",
              "      <td>No</td>\n",
              "      <td>Yes</td>\n",
              "      <td>Yes</td>\n",
              "      <td>Yes</td>\n",
              "      <td>Yes</td>\n",
              "      <td>Yes</td>\n",
              "      <td>Two year</td>\n",
              "      <td>Yes</td>\n",
              "      <td>Credit card (automatic)</td>\n",
              "      <td>110.80</td>\n",
              "      <td>6640.7</td>\n",
              "      <td>0</td>\n",
              "    </tr>\n",
              "    <tr>\n",
              "      <th>3</th>\n",
              "      <td>6861</td>\n",
              "      <td>Female</td>\n",
              "      <td>0</td>\n",
              "      <td>No</td>\n",
              "      <td>No</td>\n",
              "      <td>37.0</td>\n",
              "      <td>Yes</td>\n",
              "      <td>Yes</td>\n",
              "      <td>Fiber optic</td>\n",
              "      <td>No</td>\n",
              "      <td>Yes</td>\n",
              "      <td>Yes</td>\n",
              "      <td>No</td>\n",
              "      <td>Yes</td>\n",
              "      <td>Yes</td>\n",
              "      <td>Month-to-month</td>\n",
              "      <td>Yes</td>\n",
              "      <td>Bank transfer (automatic)</td>\n",
              "      <td>101.90</td>\n",
              "      <td>3545.35</td>\n",
              "      <td>1</td>\n",
              "    </tr>\n",
              "    <tr>\n",
              "      <th>4</th>\n",
              "      <td>3266</td>\n",
              "      <td>Male</td>\n",
              "      <td>0</td>\n",
              "      <td>Yes</td>\n",
              "      <td>Yes</td>\n",
              "      <td>29.0</td>\n",
              "      <td>Yes</td>\n",
              "      <td>No</td>\n",
              "      <td>Fiber optic</td>\n",
              "      <td>No</td>\n",
              "      <td>No</td>\n",
              "      <td>No</td>\n",
              "      <td>No</td>\n",
              "      <td>No</td>\n",
              "      <td>No</td>\n",
              "      <td>Month-to-month</td>\n",
              "      <td>Yes</td>\n",
              "      <td>Electronic check</td>\n",
              "      <td>70.75</td>\n",
              "      <td>1974.8</td>\n",
              "      <td>1</td>\n",
              "    </tr>\n",
              "    <tr>\n",
              "      <th>...</th>\n",
              "      <td>...</td>\n",
              "      <td>...</td>\n",
              "      <td>...</td>\n",
              "      <td>...</td>\n",
              "      <td>...</td>\n",
              "      <td>...</td>\n",
              "      <td>...</td>\n",
              "      <td>...</td>\n",
              "      <td>...</td>\n",
              "      <td>...</td>\n",
              "      <td>...</td>\n",
              "      <td>...</td>\n",
              "      <td>...</td>\n",
              "      <td>...</td>\n",
              "      <td>...</td>\n",
              "      <td>...</td>\n",
              "      <td>...</td>\n",
              "      <td>...</td>\n",
              "      <td>...</td>\n",
              "      <td>...</td>\n",
              "      <td>...</td>\n",
              "    </tr>\n",
              "    <tr>\n",
              "      <th>5629</th>\n",
              "      <td>6684</td>\n",
              "      <td>Male</td>\n",
              "      <td>0</td>\n",
              "      <td>No</td>\n",
              "      <td>No</td>\n",
              "      <td>43.0</td>\n",
              "      <td>No</td>\n",
              "      <td>No phone service</td>\n",
              "      <td>DSL</td>\n",
              "      <td>No</td>\n",
              "      <td>No</td>\n",
              "      <td>Yes</td>\n",
              "      <td>Yes</td>\n",
              "      <td>No</td>\n",
              "      <td>Yes</td>\n",
              "      <td>One year</td>\n",
              "      <td>No</td>\n",
              "      <td>Electronic check</td>\n",
              "      <td>44.15</td>\n",
              "      <td>1931.3</td>\n",
              "      <td>0</td>\n",
              "    </tr>\n",
              "    <tr>\n",
              "      <th>5630</th>\n",
              "      <td>604</td>\n",
              "      <td>Male</td>\n",
              "      <td>0</td>\n",
              "      <td>No</td>\n",
              "      <td>No</td>\n",
              "      <td>NaN</td>\n",
              "      <td>Yes</td>\n",
              "      <td>Yes</td>\n",
              "      <td>Fiber optic</td>\n",
              "      <td>No</td>\n",
              "      <td>Yes</td>\n",
              "      <td>Yes</td>\n",
              "      <td>Yes</td>\n",
              "      <td>Yes</td>\n",
              "      <td>Yes</td>\n",
              "      <td>Two year</td>\n",
              "      <td>No</td>\n",
              "      <td>Electronic check</td>\n",
              "      <td>108.65</td>\n",
              "      <td>4903.2</td>\n",
              "      <td>0</td>\n",
              "    </tr>\n",
              "    <tr>\n",
              "      <th>5631</th>\n",
              "      <td>4803</td>\n",
              "      <td>Female</td>\n",
              "      <td>0</td>\n",
              "      <td>No</td>\n",
              "      <td>No</td>\n",
              "      <td>28.0</td>\n",
              "      <td>Yes</td>\n",
              "      <td>No</td>\n",
              "      <td>DSL</td>\n",
              "      <td>No</td>\n",
              "      <td>Yes</td>\n",
              "      <td>No</td>\n",
              "      <td>Yes</td>\n",
              "      <td>No</td>\n",
              "      <td>No</td>\n",
              "      <td>Month-to-month</td>\n",
              "      <td>No</td>\n",
              "      <td>Bank transfer (automatic)</td>\n",
              "      <td>54.65</td>\n",
              "      <td>1517.5</td>\n",
              "      <td>0</td>\n",
              "    </tr>\n",
              "    <tr>\n",
              "      <th>5632</th>\n",
              "      <td>6317</td>\n",
              "      <td>Male</td>\n",
              "      <td>0</td>\n",
              "      <td>Yes</td>\n",
              "      <td>Yes</td>\n",
              "      <td>63.0</td>\n",
              "      <td>Yes</td>\n",
              "      <td>Yes</td>\n",
              "      <td>No</td>\n",
              "      <td>No internet service</td>\n",
              "      <td>No internet service</td>\n",
              "      <td>No internet service</td>\n",
              "      <td>No internet service</td>\n",
              "      <td>No internet service</td>\n",
              "      <td>No internet service</td>\n",
              "      <td>Two year</td>\n",
              "      <td>No</td>\n",
              "      <td>Mailed check</td>\n",
              "      <td>25.25</td>\n",
              "      <td>1573.05</td>\n",
              "      <td>0</td>\n",
              "    </tr>\n",
              "    <tr>\n",
              "      <th>5633</th>\n",
              "      <td>103</td>\n",
              "      <td>Male</td>\n",
              "      <td>0</td>\n",
              "      <td>No</td>\n",
              "      <td>No</td>\n",
              "      <td>38.0</td>\n",
              "      <td>Yes</td>\n",
              "      <td>Yes</td>\n",
              "      <td>Fiber optic</td>\n",
              "      <td>No</td>\n",
              "      <td>No</td>\n",
              "      <td>Yes</td>\n",
              "      <td>Yes</td>\n",
              "      <td>Yes</td>\n",
              "      <td>No</td>\n",
              "      <td>One year</td>\n",
              "      <td>No</td>\n",
              "      <td>Bank transfer (automatic)</td>\n",
              "      <td>95.00</td>\n",
              "      <td>3605.6</td>\n",
              "      <td>0</td>\n",
              "    </tr>\n",
              "  </tbody>\n",
              "</table>\n",
              "<p>5634 rows × 21 columns</p>\n",
              "</div>"
            ],
            "text/plain": [
              "        id  gender  SeniorCitizen  ... MonthlyCharges TotalCharges  Churn\n",
              "0     4030  Female              0  ...          45.05       2560.1      0\n",
              "1     6731    Male              0  ...          19.65       332.65      0\n",
              "2     6479  Female              0  ...         110.80       6640.7      0\n",
              "3     6861  Female              0  ...         101.90      3545.35      1\n",
              "4     3266    Male              0  ...          70.75       1974.8      1\n",
              "...    ...     ...            ...  ...            ...          ...    ...\n",
              "5629  6684    Male              0  ...          44.15       1931.3      0\n",
              "5630   604    Male              0  ...         108.65       4903.2      0\n",
              "5631  4803  Female              0  ...          54.65       1517.5      0\n",
              "5632  6317    Male              0  ...          25.25      1573.05      0\n",
              "5633   103    Male              0  ...          95.00       3605.6      0\n",
              "\n",
              "[5634 rows x 21 columns]"
            ]
          },
          "metadata": {
            "tags": []
          },
          "execution_count": 100
        }
      ]
    },
    {
      "cell_type": "code",
      "metadata": {
        "id": "r9n78QM-tW6m"
      },
      "source": [
        "#fazendo uma copy do original\n",
        "df_churn_train_copy = df_churn_train.copy()"
      ],
      "execution_count": 101,
      "outputs": []
    },
    {
      "cell_type": "code",
      "metadata": {
        "id": "gO2BTONGu8jk",
        "outputId": "a73e0147-d59c-487f-97a1-f35d99079212",
        "colab": {
          "base_uri": "https://localhost:8080/",
          "height": 573
        }
      },
      "source": [
        "df_churn_train_copy"
      ],
      "execution_count": 102,
      "outputs": [
        {
          "output_type": "execute_result",
          "data": {
            "text/html": [
              "<div>\n",
              "<style scoped>\n",
              "    .dataframe tbody tr th:only-of-type {\n",
              "        vertical-align: middle;\n",
              "    }\n",
              "\n",
              "    .dataframe tbody tr th {\n",
              "        vertical-align: top;\n",
              "    }\n",
              "\n",
              "    .dataframe thead th {\n",
              "        text-align: right;\n",
              "    }\n",
              "</style>\n",
              "<table border=\"1\" class=\"dataframe\">\n",
              "  <thead>\n",
              "    <tr style=\"text-align: right;\">\n",
              "      <th></th>\n",
              "      <th>id</th>\n",
              "      <th>gender</th>\n",
              "      <th>SeniorCitizen</th>\n",
              "      <th>Partner</th>\n",
              "      <th>Dependents</th>\n",
              "      <th>tenure</th>\n",
              "      <th>PhoneService</th>\n",
              "      <th>MultipleLines</th>\n",
              "      <th>InternetService</th>\n",
              "      <th>OnlineSecurity</th>\n",
              "      <th>OnlineBackup</th>\n",
              "      <th>DeviceProtection</th>\n",
              "      <th>TechSupport</th>\n",
              "      <th>StreamingTV</th>\n",
              "      <th>StreamingMovies</th>\n",
              "      <th>Contract</th>\n",
              "      <th>PaperlessBilling</th>\n",
              "      <th>PaymentMethod</th>\n",
              "      <th>MonthlyCharges</th>\n",
              "      <th>TotalCharges</th>\n",
              "      <th>Churn</th>\n",
              "    </tr>\n",
              "  </thead>\n",
              "  <tbody>\n",
              "    <tr>\n",
              "      <th>0</th>\n",
              "      <td>4030</td>\n",
              "      <td>Female</td>\n",
              "      <td>0</td>\n",
              "      <td>No</td>\n",
              "      <td>No</td>\n",
              "      <td>56.0</td>\n",
              "      <td>No</td>\n",
              "      <td>No phone service</td>\n",
              "      <td>DSL</td>\n",
              "      <td>Yes</td>\n",
              "      <td>Yes</td>\n",
              "      <td>Yes</td>\n",
              "      <td>Yes</td>\n",
              "      <td>No</td>\n",
              "      <td>No</td>\n",
              "      <td>Two year</td>\n",
              "      <td>No</td>\n",
              "      <td>NaN</td>\n",
              "      <td>45.05</td>\n",
              "      <td>2560.1</td>\n",
              "      <td>0</td>\n",
              "    </tr>\n",
              "    <tr>\n",
              "      <th>1</th>\n",
              "      <td>6731</td>\n",
              "      <td>Male</td>\n",
              "      <td>0</td>\n",
              "      <td>Yes</td>\n",
              "      <td>Yes</td>\n",
              "      <td>NaN</td>\n",
              "      <td>Yes</td>\n",
              "      <td>No</td>\n",
              "      <td>No</td>\n",
              "      <td>No internet service</td>\n",
              "      <td>No internet service</td>\n",
              "      <td>No internet service</td>\n",
              "      <td>No internet service</td>\n",
              "      <td>No internet service</td>\n",
              "      <td>No internet service</td>\n",
              "      <td>One year</td>\n",
              "      <td>No</td>\n",
              "      <td>Mailed check</td>\n",
              "      <td>19.65</td>\n",
              "      <td>332.65</td>\n",
              "      <td>0</td>\n",
              "    </tr>\n",
              "    <tr>\n",
              "      <th>2</th>\n",
              "      <td>6479</td>\n",
              "      <td>Female</td>\n",
              "      <td>0</td>\n",
              "      <td>Yes</td>\n",
              "      <td>No</td>\n",
              "      <td>60.0</td>\n",
              "      <td>Yes</td>\n",
              "      <td>Yes</td>\n",
              "      <td>Fiber optic</td>\n",
              "      <td>No</td>\n",
              "      <td>Yes</td>\n",
              "      <td>Yes</td>\n",
              "      <td>Yes</td>\n",
              "      <td>Yes</td>\n",
              "      <td>Yes</td>\n",
              "      <td>Two year</td>\n",
              "      <td>Yes</td>\n",
              "      <td>Credit card (automatic)</td>\n",
              "      <td>110.80</td>\n",
              "      <td>6640.7</td>\n",
              "      <td>0</td>\n",
              "    </tr>\n",
              "    <tr>\n",
              "      <th>3</th>\n",
              "      <td>6861</td>\n",
              "      <td>Female</td>\n",
              "      <td>0</td>\n",
              "      <td>No</td>\n",
              "      <td>No</td>\n",
              "      <td>37.0</td>\n",
              "      <td>Yes</td>\n",
              "      <td>Yes</td>\n",
              "      <td>Fiber optic</td>\n",
              "      <td>No</td>\n",
              "      <td>Yes</td>\n",
              "      <td>Yes</td>\n",
              "      <td>No</td>\n",
              "      <td>Yes</td>\n",
              "      <td>Yes</td>\n",
              "      <td>Month-to-month</td>\n",
              "      <td>Yes</td>\n",
              "      <td>Bank transfer (automatic)</td>\n",
              "      <td>101.90</td>\n",
              "      <td>3545.35</td>\n",
              "      <td>1</td>\n",
              "    </tr>\n",
              "    <tr>\n",
              "      <th>4</th>\n",
              "      <td>3266</td>\n",
              "      <td>Male</td>\n",
              "      <td>0</td>\n",
              "      <td>Yes</td>\n",
              "      <td>Yes</td>\n",
              "      <td>29.0</td>\n",
              "      <td>Yes</td>\n",
              "      <td>No</td>\n",
              "      <td>Fiber optic</td>\n",
              "      <td>No</td>\n",
              "      <td>No</td>\n",
              "      <td>No</td>\n",
              "      <td>No</td>\n",
              "      <td>No</td>\n",
              "      <td>No</td>\n",
              "      <td>Month-to-month</td>\n",
              "      <td>Yes</td>\n",
              "      <td>Electronic check</td>\n",
              "      <td>70.75</td>\n",
              "      <td>1974.8</td>\n",
              "      <td>1</td>\n",
              "    </tr>\n",
              "    <tr>\n",
              "      <th>...</th>\n",
              "      <td>...</td>\n",
              "      <td>...</td>\n",
              "      <td>...</td>\n",
              "      <td>...</td>\n",
              "      <td>...</td>\n",
              "      <td>...</td>\n",
              "      <td>...</td>\n",
              "      <td>...</td>\n",
              "      <td>...</td>\n",
              "      <td>...</td>\n",
              "      <td>...</td>\n",
              "      <td>...</td>\n",
              "      <td>...</td>\n",
              "      <td>...</td>\n",
              "      <td>...</td>\n",
              "      <td>...</td>\n",
              "      <td>...</td>\n",
              "      <td>...</td>\n",
              "      <td>...</td>\n",
              "      <td>...</td>\n",
              "      <td>...</td>\n",
              "    </tr>\n",
              "    <tr>\n",
              "      <th>5629</th>\n",
              "      <td>6684</td>\n",
              "      <td>Male</td>\n",
              "      <td>0</td>\n",
              "      <td>No</td>\n",
              "      <td>No</td>\n",
              "      <td>43.0</td>\n",
              "      <td>No</td>\n",
              "      <td>No phone service</td>\n",
              "      <td>DSL</td>\n",
              "      <td>No</td>\n",
              "      <td>No</td>\n",
              "      <td>Yes</td>\n",
              "      <td>Yes</td>\n",
              "      <td>No</td>\n",
              "      <td>Yes</td>\n",
              "      <td>One year</td>\n",
              "      <td>No</td>\n",
              "      <td>Electronic check</td>\n",
              "      <td>44.15</td>\n",
              "      <td>1931.3</td>\n",
              "      <td>0</td>\n",
              "    </tr>\n",
              "    <tr>\n",
              "      <th>5630</th>\n",
              "      <td>604</td>\n",
              "      <td>Male</td>\n",
              "      <td>0</td>\n",
              "      <td>No</td>\n",
              "      <td>No</td>\n",
              "      <td>NaN</td>\n",
              "      <td>Yes</td>\n",
              "      <td>Yes</td>\n",
              "      <td>Fiber optic</td>\n",
              "      <td>No</td>\n",
              "      <td>Yes</td>\n",
              "      <td>Yes</td>\n",
              "      <td>Yes</td>\n",
              "      <td>Yes</td>\n",
              "      <td>Yes</td>\n",
              "      <td>Two year</td>\n",
              "      <td>No</td>\n",
              "      <td>Electronic check</td>\n",
              "      <td>108.65</td>\n",
              "      <td>4903.2</td>\n",
              "      <td>0</td>\n",
              "    </tr>\n",
              "    <tr>\n",
              "      <th>5631</th>\n",
              "      <td>4803</td>\n",
              "      <td>Female</td>\n",
              "      <td>0</td>\n",
              "      <td>No</td>\n",
              "      <td>No</td>\n",
              "      <td>28.0</td>\n",
              "      <td>Yes</td>\n",
              "      <td>No</td>\n",
              "      <td>DSL</td>\n",
              "      <td>No</td>\n",
              "      <td>Yes</td>\n",
              "      <td>No</td>\n",
              "      <td>Yes</td>\n",
              "      <td>No</td>\n",
              "      <td>No</td>\n",
              "      <td>Month-to-month</td>\n",
              "      <td>No</td>\n",
              "      <td>Bank transfer (automatic)</td>\n",
              "      <td>54.65</td>\n",
              "      <td>1517.5</td>\n",
              "      <td>0</td>\n",
              "    </tr>\n",
              "    <tr>\n",
              "      <th>5632</th>\n",
              "      <td>6317</td>\n",
              "      <td>Male</td>\n",
              "      <td>0</td>\n",
              "      <td>Yes</td>\n",
              "      <td>Yes</td>\n",
              "      <td>63.0</td>\n",
              "      <td>Yes</td>\n",
              "      <td>Yes</td>\n",
              "      <td>No</td>\n",
              "      <td>No internet service</td>\n",
              "      <td>No internet service</td>\n",
              "      <td>No internet service</td>\n",
              "      <td>No internet service</td>\n",
              "      <td>No internet service</td>\n",
              "      <td>No internet service</td>\n",
              "      <td>Two year</td>\n",
              "      <td>No</td>\n",
              "      <td>Mailed check</td>\n",
              "      <td>25.25</td>\n",
              "      <td>1573.05</td>\n",
              "      <td>0</td>\n",
              "    </tr>\n",
              "    <tr>\n",
              "      <th>5633</th>\n",
              "      <td>103</td>\n",
              "      <td>Male</td>\n",
              "      <td>0</td>\n",
              "      <td>No</td>\n",
              "      <td>No</td>\n",
              "      <td>38.0</td>\n",
              "      <td>Yes</td>\n",
              "      <td>Yes</td>\n",
              "      <td>Fiber optic</td>\n",
              "      <td>No</td>\n",
              "      <td>No</td>\n",
              "      <td>Yes</td>\n",
              "      <td>Yes</td>\n",
              "      <td>Yes</td>\n",
              "      <td>No</td>\n",
              "      <td>One year</td>\n",
              "      <td>No</td>\n",
              "      <td>Bank transfer (automatic)</td>\n",
              "      <td>95.00</td>\n",
              "      <td>3605.6</td>\n",
              "      <td>0</td>\n",
              "    </tr>\n",
              "  </tbody>\n",
              "</table>\n",
              "<p>5634 rows × 21 columns</p>\n",
              "</div>"
            ],
            "text/plain": [
              "        id  gender  SeniorCitizen  ... MonthlyCharges TotalCharges  Churn\n",
              "0     4030  Female              0  ...          45.05       2560.1      0\n",
              "1     6731    Male              0  ...          19.65       332.65      0\n",
              "2     6479  Female              0  ...         110.80       6640.7      0\n",
              "3     6861  Female              0  ...         101.90      3545.35      1\n",
              "4     3266    Male              0  ...          70.75       1974.8      1\n",
              "...    ...     ...            ...  ...            ...          ...    ...\n",
              "5629  6684    Male              0  ...          44.15       1931.3      0\n",
              "5630   604    Male              0  ...         108.65       4903.2      0\n",
              "5631  4803  Female              0  ...          54.65       1517.5      0\n",
              "5632  6317    Male              0  ...          25.25      1573.05      0\n",
              "5633   103    Male              0  ...          95.00       3605.6      0\n",
              "\n",
              "[5634 rows x 21 columns]"
            ]
          },
          "metadata": {
            "tags": []
          },
          "execution_count": 102
        }
      ]
    },
    {
      "cell_type": "code",
      "metadata": {
        "id": "c7M4yeRvb2fk",
        "outputId": "d49e8968-4605-49bc-f955-b9a14a4fdced",
        "colab": {
          "base_uri": "https://localhost:8080/",
          "height": 292
        }
      },
      "source": [
        "#Normalizar as colunas\n",
        "df_churn_train.columns = [col.lower() for col in df_churn_train.columns]\n",
        "df_churn_train.head()"
      ],
      "execution_count": 103,
      "outputs": [
        {
          "output_type": "execute_result",
          "data": {
            "text/html": [
              "<div>\n",
              "<style scoped>\n",
              "    .dataframe tbody tr th:only-of-type {\n",
              "        vertical-align: middle;\n",
              "    }\n",
              "\n",
              "    .dataframe tbody tr th {\n",
              "        vertical-align: top;\n",
              "    }\n",
              "\n",
              "    .dataframe thead th {\n",
              "        text-align: right;\n",
              "    }\n",
              "</style>\n",
              "<table border=\"1\" class=\"dataframe\">\n",
              "  <thead>\n",
              "    <tr style=\"text-align: right;\">\n",
              "      <th></th>\n",
              "      <th>id</th>\n",
              "      <th>gender</th>\n",
              "      <th>seniorcitizen</th>\n",
              "      <th>partner</th>\n",
              "      <th>dependents</th>\n",
              "      <th>tenure</th>\n",
              "      <th>phoneservice</th>\n",
              "      <th>multiplelines</th>\n",
              "      <th>internetservice</th>\n",
              "      <th>onlinesecurity</th>\n",
              "      <th>onlinebackup</th>\n",
              "      <th>deviceprotection</th>\n",
              "      <th>techsupport</th>\n",
              "      <th>streamingtv</th>\n",
              "      <th>streamingmovies</th>\n",
              "      <th>contract</th>\n",
              "      <th>paperlessbilling</th>\n",
              "      <th>paymentmethod</th>\n",
              "      <th>monthlycharges</th>\n",
              "      <th>totalcharges</th>\n",
              "      <th>churn</th>\n",
              "    </tr>\n",
              "  </thead>\n",
              "  <tbody>\n",
              "    <tr>\n",
              "      <th>0</th>\n",
              "      <td>4030</td>\n",
              "      <td>Female</td>\n",
              "      <td>0</td>\n",
              "      <td>No</td>\n",
              "      <td>No</td>\n",
              "      <td>56.0</td>\n",
              "      <td>No</td>\n",
              "      <td>No phone service</td>\n",
              "      <td>DSL</td>\n",
              "      <td>Yes</td>\n",
              "      <td>Yes</td>\n",
              "      <td>Yes</td>\n",
              "      <td>Yes</td>\n",
              "      <td>No</td>\n",
              "      <td>No</td>\n",
              "      <td>Two year</td>\n",
              "      <td>No</td>\n",
              "      <td>NaN</td>\n",
              "      <td>45.05</td>\n",
              "      <td>2560.1</td>\n",
              "      <td>0</td>\n",
              "    </tr>\n",
              "    <tr>\n",
              "      <th>1</th>\n",
              "      <td>6731</td>\n",
              "      <td>Male</td>\n",
              "      <td>0</td>\n",
              "      <td>Yes</td>\n",
              "      <td>Yes</td>\n",
              "      <td>NaN</td>\n",
              "      <td>Yes</td>\n",
              "      <td>No</td>\n",
              "      <td>No</td>\n",
              "      <td>No internet service</td>\n",
              "      <td>No internet service</td>\n",
              "      <td>No internet service</td>\n",
              "      <td>No internet service</td>\n",
              "      <td>No internet service</td>\n",
              "      <td>No internet service</td>\n",
              "      <td>One year</td>\n",
              "      <td>No</td>\n",
              "      <td>Mailed check</td>\n",
              "      <td>19.65</td>\n",
              "      <td>332.65</td>\n",
              "      <td>0</td>\n",
              "    </tr>\n",
              "    <tr>\n",
              "      <th>2</th>\n",
              "      <td>6479</td>\n",
              "      <td>Female</td>\n",
              "      <td>0</td>\n",
              "      <td>Yes</td>\n",
              "      <td>No</td>\n",
              "      <td>60.0</td>\n",
              "      <td>Yes</td>\n",
              "      <td>Yes</td>\n",
              "      <td>Fiber optic</td>\n",
              "      <td>No</td>\n",
              "      <td>Yes</td>\n",
              "      <td>Yes</td>\n",
              "      <td>Yes</td>\n",
              "      <td>Yes</td>\n",
              "      <td>Yes</td>\n",
              "      <td>Two year</td>\n",
              "      <td>Yes</td>\n",
              "      <td>Credit card (automatic)</td>\n",
              "      <td>110.80</td>\n",
              "      <td>6640.7</td>\n",
              "      <td>0</td>\n",
              "    </tr>\n",
              "    <tr>\n",
              "      <th>3</th>\n",
              "      <td>6861</td>\n",
              "      <td>Female</td>\n",
              "      <td>0</td>\n",
              "      <td>No</td>\n",
              "      <td>No</td>\n",
              "      <td>37.0</td>\n",
              "      <td>Yes</td>\n",
              "      <td>Yes</td>\n",
              "      <td>Fiber optic</td>\n",
              "      <td>No</td>\n",
              "      <td>Yes</td>\n",
              "      <td>Yes</td>\n",
              "      <td>No</td>\n",
              "      <td>Yes</td>\n",
              "      <td>Yes</td>\n",
              "      <td>Month-to-month</td>\n",
              "      <td>Yes</td>\n",
              "      <td>Bank transfer (automatic)</td>\n",
              "      <td>101.90</td>\n",
              "      <td>3545.35</td>\n",
              "      <td>1</td>\n",
              "    </tr>\n",
              "    <tr>\n",
              "      <th>4</th>\n",
              "      <td>3266</td>\n",
              "      <td>Male</td>\n",
              "      <td>0</td>\n",
              "      <td>Yes</td>\n",
              "      <td>Yes</td>\n",
              "      <td>29.0</td>\n",
              "      <td>Yes</td>\n",
              "      <td>No</td>\n",
              "      <td>Fiber optic</td>\n",
              "      <td>No</td>\n",
              "      <td>No</td>\n",
              "      <td>No</td>\n",
              "      <td>No</td>\n",
              "      <td>No</td>\n",
              "      <td>No</td>\n",
              "      <td>Month-to-month</td>\n",
              "      <td>Yes</td>\n",
              "      <td>Electronic check</td>\n",
              "      <td>70.75</td>\n",
              "      <td>1974.8</td>\n",
              "      <td>1</td>\n",
              "    </tr>\n",
              "  </tbody>\n",
              "</table>\n",
              "</div>"
            ],
            "text/plain": [
              "     id  gender  seniorcitizen  ... monthlycharges totalcharges  churn\n",
              "0  4030  Female              0  ...          45.05       2560.1      0\n",
              "1  6731    Male              0  ...          19.65       332.65      0\n",
              "2  6479  Female              0  ...         110.80       6640.7      0\n",
              "3  6861  Female              0  ...         101.90      3545.35      1\n",
              "4  3266    Male              0  ...          70.75       1974.8      1\n",
              "\n",
              "[5 rows x 21 columns]"
            ]
          },
          "metadata": {
            "tags": []
          },
          "execution_count": 103
        }
      ]
    },
    {
      "cell_type": "markdown",
      "metadata": {
        "id": "b5jcJpHqY1wl"
      },
      "source": [
        " **'id':'id',     'gender':'genero',    'SeniorCitizen':'Idoso', \n",
        " \n",
        "  'Partner':'TemParceiro',      'Dependents':'TemDependentes',\n",
        "\n",
        "  'tenure':'MesesNaCompanhia',     'PhoneService':'TemTelefone',\n",
        "\n",
        "   'MultipleLines':'MaisLinhas',    'InternetService':'TemInternet',\n",
        "\n",
        "    'OnlineSecurity':'ServicoSegurancaOnline',   \n",
        "\n",
        "    'OnlineBackup':'ServicoBackupOnline',\n",
        "\n",
        "    'DeviceProtection':'ServicoProtecaoOnline',\n",
        "\n",
        "    'TechSupport':'ServicoSuporteOnline',\n",
        "\n",
        "    'StreamingTV':'ServicoTV',\n",
        "\n",
        "    'StreamingMovies':'ServicoPctFilmes',\n",
        "\n",
        "    'Contract':'Contrato',\n",
        "\n",
        "    'PaperlessBilling':'ContaOnline',\n",
        "\n",
        "    'PaymentMethod':'MetodoPagamento',\n",
        "\n",
        "    'MonthlyCharges':'CobrancaMensal',\n",
        "\n",
        "    'TotalCharges':'CobrancaTotal',\n",
        "\n",
        "    'Churn':'Churn'**\n"
      ]
    },
    {
      "cell_type": "code",
      "metadata": {
        "id": "w7I678lkWsdK",
        "outputId": "f8daad9c-8936-4dd0-8d9f-9092c1f72fc4",
        "colab": {
          "base_uri": "https://localhost:8080/"
        }
      },
      "source": [
        "#contar a variavel target\n",
        "df_churn_train['churn'].value_counts()"
      ],
      "execution_count": 104,
      "outputs": [
        {
          "output_type": "execute_result",
          "data": {
            "text/plain": [
              "0    4139\n",
              "1    1495\n",
              "Name: churn, dtype: int64"
            ]
          },
          "metadata": {
            "tags": []
          },
          "execution_count": 104
        }
      ]
    },
    {
      "cell_type": "code",
      "metadata": {
        "id": "Yn3DsH1HxXBn",
        "outputId": "f9b818b9-fdaf-476c-c675-5dd7b69519de",
        "colab": {
          "base_uri": "https://localhost:8080/"
        }
      },
      "source": [
        "df_churn_train['churn'].shape"
      ],
      "execution_count": 105,
      "outputs": [
        {
          "output_type": "execute_result",
          "data": {
            "text/plain": [
              "(5634,)"
            ]
          },
          "metadata": {
            "tags": []
          },
          "execution_count": 105
        }
      ]
    },
    {
      "cell_type": "code",
      "metadata": {
        "id": "82X_fE4mamKn",
        "outputId": "173bcd7b-74ee-4dfb-f5b0-e57b1bfb2809",
        "colab": {
          "base_uri": "https://localhost:8080/",
          "height": 295
        }
      },
      "source": [
        "sns.countplot( x ='churn', data = df_churn_train)"
      ],
      "execution_count": 106,
      "outputs": [
        {
          "output_type": "execute_result",
          "data": {
            "text/plain": [
              "<matplotlib.axes._subplots.AxesSubplot at 0x7f51d91e4eb8>"
            ]
          },
          "metadata": {
            "tags": []
          },
          "execution_count": 106
        },
        {
          "output_type": "display_data",
          "data": {
            "image/png": "[encoded data removed]",
            "text/plain": [
              "<Figure size 432x288 with 1 Axes>"
            ]
          },
          "metadata": {
            "tags": [],
            "needs_background": "light"
          }
        }
      ]
    },
    {
      "cell_type": "code",
      "metadata": {
        "id": "yZbnxy8RaZ3K",
        "outputId": "de9ad765-668c-4321-eb83-087adef0eeb0",
        "colab": {
          "base_uri": "https://localhost:8080/"
        }
      },
      "source": [
        "#percentagem de 0 e 1 da variavel target\n",
        "df_churn_train['churn'].value_counts()/df_churn_train.shape[0]*100"
      ],
      "execution_count": 107,
      "outputs": [
        {
          "output_type": "execute_result",
          "data": {
            "text/plain": [
              "0    73.464679\n",
              "1    26.535321\n",
              "Name: churn, dtype: float64"
            ]
          },
          "metadata": {
            "tags": []
          },
          "execution_count": 107
        }
      ]
    },
    {
      "cell_type": "code",
      "metadata": {
        "id": "7VUG8_QQcsJW",
        "outputId": "f9eb68e4-e866-4556-c310-e8874cb5f730",
        "colab": {
          "base_uri": "https://localhost:8080/"
        }
      },
      "source": [
        "#(linhas, colunas) do df\n",
        "df_churn_train.shape\n"
      ],
      "execution_count": 108,
      "outputs": [
        {
          "output_type": "execute_result",
          "data": {
            "text/plain": [
              "(5634, 21)"
            ]
          },
          "metadata": {
            "tags": []
          },
          "execution_count": 108
        }
      ]
    },
    {
      "cell_type": "markdown",
      "metadata": {
        "id": "vClsNYtLdP7D"
      },
      "source": [
        "### Missing Values"
      ]
    },
    {
      "cell_type": "code",
      "metadata": {
        "id": "HUCbVyLFWsgx",
        "outputId": "ffda6644-c8cb-44ec-ad13-e918abb14d98",
        "colab": {
          "base_uri": "https://localhost:8080/"
        }
      },
      "source": [
        "df_churn_train.isna().sum()"
      ],
      "execution_count": 109,
      "outputs": [
        {
          "output_type": "execute_result",
          "data": {
            "text/plain": [
              "id                    0\n",
              "gender                0\n",
              "seniorcitizen         0\n",
              "partner               0\n",
              "dependents          218\n",
              "tenure              461\n",
              "phoneservice          0\n",
              "multiplelines         0\n",
              "internetservice       0\n",
              "onlinesecurity        0\n",
              "onlinebackup          0\n",
              "deviceprotection      0\n",
              "techsupport           0\n",
              "streamingtv           0\n",
              "streamingmovies       0\n",
              "contract              0\n",
              "paperlessbilling      0\n",
              "paymentmethod        99\n",
              "monthlycharges        0\n",
              "totalcharges          0\n",
              "churn                 0\n",
              "dtype: int64"
            ]
          },
          "metadata": {
            "tags": []
          },
          "execution_count": 109
        }
      ]
    },
    {
      "cell_type": "code",
      "metadata": {
        "id": "1ijIyAxrgYcd",
        "outputId": "88be6f35-5054-41d3-de24-eedd49e6fd54",
        "colab": {
          "base_uri": "https://localhost:8080/"
        }
      },
      "source": [
        "#identificando os tipos de variaveis missing\n",
        "df_churn_train[['dependents','tenure','paymentmethod']].dtypes"
      ],
      "execution_count": 110,
      "outputs": [
        {
          "output_type": "execute_result",
          "data": {
            "text/plain": [
              "dependents        object\n",
              "tenure           float64\n",
              "paymentmethod     object\n",
              "dtype: object"
            ]
          },
          "metadata": {
            "tags": []
          },
          "execution_count": 110
        }
      ]
    },
    {
      "cell_type": "code",
      "metadata": {
        "id": "bxNjnDM0g000"
      },
      "source": [
        ""
      ],
      "execution_count": null,
      "outputs": []
    },
    {
      "cell_type": "markdown",
      "metadata": {
        "id": "El6tsKj6heeG"
      },
      "source": [
        "###Analise da tenure"
      ]
    },
    {
      "cell_type": "code",
      "metadata": {
        "id": "1dcpubdXWskA",
        "outputId": "cb094904-8fa1-44de-80bf-2a168936cb65",
        "colab": {
          "base_uri": "https://localhost:8080/",
          "height": 311
        }
      },
      "source": [
        "#plota usando o Seaborn, somente tenure é float\n",
        "\n",
        "plt.subplot(1,1, 1)\n",
        "fig = sns.boxplot(x = 'tenure', data = df_churn_train, orient= 'h', color = 'b')\n",
        "fig.set_xlabel('valores tenure')\n",
        "fig.set_title('box tenure')\n",
        "\n"
      ],
      "execution_count": 111,
      "outputs": [
        {
          "output_type": "execute_result",
          "data": {
            "text/plain": [
              "Text(0.5, 1.0, 'box tenure')"
            ]
          },
          "metadata": {
            "tags": []
          },
          "execution_count": 111
        },
        {
          "output_type": "display_data",
          "data": {
            "image/png": "[encoded data removed]",
            "text/plain": [
              "<Figure size 432x288 with 1 Axes>"
            ]
          },
          "metadata": {
            "tags": [],
            "needs_background": "light"
          }
        }
      ]
    },
    {
      "cell_type": "code",
      "metadata": {
        "id": "MF5tTFCZimfi",
        "outputId": "5c8eb442-2826-41a1-c10c-c4a17f552f17",
        "colab": {
          "base_uri": "https://localhost:8080/",
          "height": 498
        }
      },
      "source": [
        "#tenure não tem outliers \n",
        "df_churn_train[['tenure']].plot(kind = 'box', showmeans = True, meanline = True, grid = True, figsize = (12,8), vert = False, ylabel = 'Features')"
      ],
      "execution_count": 112,
      "outputs": [
        {
          "output_type": "execute_result",
          "data": {
            "text/plain": [
              "<matplotlib.axes._subplots.AxesSubplot at 0x7f51d9125e80>"
            ]
          },
          "metadata": {
            "tags": []
          },
          "execution_count": 112
        },
        {
          "output_type": "display_data",
          "data": {
            "image/png": "[encoded data removed]",
            "text/plain": [
              "<Figure size 864x576 with 1 Axes>"
            ]
          },
          "metadata": {
            "tags": [],
            "needs_background": "light"
          }
        }
      ]
    },
    {
      "cell_type": "code",
      "metadata": {
        "id": "j6WVRCvdh_uT",
        "outputId": "e3546075-c0f0-4d2b-d84a-dcd3d849028b",
        "colab": {
          "base_uri": "https://localhost:8080/",
          "height": 391
        }
      },
      "source": [
        "#\n",
        "df_churn_train[['tenure']]"
      ],
      "execution_count": 113,
      "outputs": [
        {
          "output_type": "execute_result",
          "data": {
            "text/html": [
              "<div>\n",
              "<style scoped>\n",
              "    .dataframe tbody tr th:only-of-type {\n",
              "        vertical-align: middle;\n",
              "    }\n",
              "\n",
              "    .dataframe tbody tr th {\n",
              "        vertical-align: top;\n",
              "    }\n",
              "\n",
              "    .dataframe thead th {\n",
              "        text-align: right;\n",
              "    }\n",
              "</style>\n",
              "<table border=\"1\" class=\"dataframe\">\n",
              "  <thead>\n",
              "    <tr style=\"text-align: right;\">\n",
              "      <th></th>\n",
              "      <th>tenure</th>\n",
              "    </tr>\n",
              "  </thead>\n",
              "  <tbody>\n",
              "    <tr>\n",
              "      <th>0</th>\n",
              "      <td>56.0</td>\n",
              "    </tr>\n",
              "    <tr>\n",
              "      <th>1</th>\n",
              "      <td>NaN</td>\n",
              "    </tr>\n",
              "    <tr>\n",
              "      <th>2</th>\n",
              "      <td>60.0</td>\n",
              "    </tr>\n",
              "    <tr>\n",
              "      <th>3</th>\n",
              "      <td>37.0</td>\n",
              "    </tr>\n",
              "    <tr>\n",
              "      <th>4</th>\n",
              "      <td>29.0</td>\n",
              "    </tr>\n",
              "    <tr>\n",
              "      <th>...</th>\n",
              "      <td>...</td>\n",
              "    </tr>\n",
              "    <tr>\n",
              "      <th>5629</th>\n",
              "      <td>43.0</td>\n",
              "    </tr>\n",
              "    <tr>\n",
              "      <th>5630</th>\n",
              "      <td>NaN</td>\n",
              "    </tr>\n",
              "    <tr>\n",
              "      <th>5631</th>\n",
              "      <td>28.0</td>\n",
              "    </tr>\n",
              "    <tr>\n",
              "      <th>5632</th>\n",
              "      <td>63.0</td>\n",
              "    </tr>\n",
              "    <tr>\n",
              "      <th>5633</th>\n",
              "      <td>38.0</td>\n",
              "    </tr>\n",
              "  </tbody>\n",
              "</table>\n",
              "<p>5634 rows × 1 columns</p>\n",
              "</div>"
            ],
            "text/plain": [
              "      tenure\n",
              "0       56.0\n",
              "1        NaN\n",
              "2       60.0\n",
              "3       37.0\n",
              "4       29.0\n",
              "...      ...\n",
              "5629    43.0\n",
              "5630     NaN\n",
              "5631    28.0\n",
              "5632    63.0\n",
              "5633    38.0\n",
              "\n",
              "[5634 rows x 1 columns]"
            ]
          },
          "metadata": {
            "tags": []
          },
          "execution_count": 113
        }
      ]
    },
    {
      "cell_type": "code",
      "metadata": {
        "id": "O92L6fkYjQBG",
        "outputId": "cdd4cef9-a8a3-4d0e-f281-fa69e0e8131f",
        "colab": {
          "base_uri": "https://localhost:8080/"
        }
      },
      "source": [
        "#isna para serie e df\n",
        "#no df é mais detalhada\n",
        "df_churn_train[['tenure']].isna().sum()"
      ],
      "execution_count": 114,
      "outputs": [
        {
          "output_type": "execute_result",
          "data": {
            "text/plain": [
              "tenure    461\n",
              "dtype: int64"
            ]
          },
          "metadata": {
            "tags": []
          },
          "execution_count": 114
        }
      ]
    },
    {
      "cell_type": "code",
      "metadata": {
        "id": "SoESwJ0UWviu",
        "outputId": "e2a38745-cd34-4c07-d2cd-3f191e28e798",
        "colab": {
          "base_uri": "https://localhost:8080/"
        }
      },
      "source": [
        "#isna para serie e df\n",
        "df_churn_train['tenure'].isna().sum()"
      ],
      "execution_count": 115,
      "outputs": [
        {
          "output_type": "execute_result",
          "data": {
            "text/plain": [
              "461"
            ]
          },
          "metadata": {
            "tags": []
          },
          "execution_count": 115
        }
      ]
    },
    {
      "cell_type": "code",
      "metadata": {
        "id": "pTjDZXw7jcs0",
        "outputId": "40f03a5c-891d-48da-ef28-c0f93ebae3af",
        "colab": {
          "base_uri": "https://localhost:8080/"
        }
      },
      "source": [
        "#os isna na tenure 8,18%, substiuir pela mean()\n",
        "df_churn_train['tenure'].isna().sum()/df_churn_train.shape[0]*100"
      ],
      "execution_count": 116,
      "outputs": [
        {
          "output_type": "execute_result",
          "data": {
            "text/plain": [
              "8.182463613773518"
            ]
          },
          "metadata": {
            "tags": []
          },
          "execution_count": 116
        }
      ]
    },
    {
      "cell_type": "code",
      "metadata": {
        "id": "0tix-K7hkH5x",
        "outputId": "78e1b37e-50ff-4183-d131-c813bdd6deac",
        "colab": {
          "base_uri": "https://localhost:8080/"
        }
      },
      "source": [
        "df_churn_train['tenure'].mean()"
      ],
      "execution_count": 117,
      "outputs": [
        {
          "output_type": "execute_result",
          "data": {
            "text/plain": [
              "32.332882273342356"
            ]
          },
          "metadata": {
            "tags": []
          },
          "execution_count": 117
        }
      ]
    },
    {
      "cell_type": "code",
      "metadata": {
        "id": "y_rytYWDkTEX",
        "outputId": "b2042d0b-4d64-4fa0-d53c-a0689da7a62e",
        "colab": {
          "base_uri": "https://localhost:8080/",
          "height": 277
        }
      },
      "source": [
        "df_churn_train[['tenure']].describe()"
      ],
      "execution_count": 118,
      "outputs": [
        {
          "output_type": "execute_result",
          "data": {
            "text/html": [
              "<div>\n",
              "<style scoped>\n",
              "    .dataframe tbody tr th:only-of-type {\n",
              "        vertical-align: middle;\n",
              "    }\n",
              "\n",
              "    .dataframe tbody tr th {\n",
              "        vertical-align: top;\n",
              "    }\n",
              "\n",
              "    .dataframe thead th {\n",
              "        text-align: right;\n",
              "    }\n",
              "</style>\n",
              "<table border=\"1\" class=\"dataframe\">\n",
              "  <thead>\n",
              "    <tr style=\"text-align: right;\">\n",
              "      <th></th>\n",
              "      <th>tenure</th>\n",
              "    </tr>\n",
              "  </thead>\n",
              "  <tbody>\n",
              "    <tr>\n",
              "      <th>count</th>\n",
              "      <td>5173.000000</td>\n",
              "    </tr>\n",
              "    <tr>\n",
              "      <th>mean</th>\n",
              "      <td>32.332882</td>\n",
              "    </tr>\n",
              "    <tr>\n",
              "      <th>std</th>\n",
              "      <td>24.463607</td>\n",
              "    </tr>\n",
              "    <tr>\n",
              "      <th>min</th>\n",
              "      <td>0.000000</td>\n",
              "    </tr>\n",
              "    <tr>\n",
              "      <th>25%</th>\n",
              "      <td>9.000000</td>\n",
              "    </tr>\n",
              "    <tr>\n",
              "      <th>50%</th>\n",
              "      <td>29.000000</td>\n",
              "    </tr>\n",
              "    <tr>\n",
              "      <th>75%</th>\n",
              "      <td>55.000000</td>\n",
              "    </tr>\n",
              "    <tr>\n",
              "      <th>max</th>\n",
              "      <td>72.000000</td>\n",
              "    </tr>\n",
              "  </tbody>\n",
              "</table>\n",
              "</div>"
            ],
            "text/plain": [
              "            tenure\n",
              "count  5173.000000\n",
              "mean     32.332882\n",
              "std      24.463607\n",
              "min       0.000000\n",
              "25%       9.000000\n",
              "50%      29.000000\n",
              "75%      55.000000\n",
              "max      72.000000"
            ]
          },
          "metadata": {
            "tags": []
          },
          "execution_count": 118
        }
      ]
    },
    {
      "cell_type": "code",
      "metadata": {
        "id": "rxnf5tYZsMcC",
        "outputId": "3dc5622d-84b4-4c72-c028-53d036ff88f7",
        "colab": {
          "base_uri": "https://localhost:8080/"
        }
      },
      "source": [
        "#29(53); 9 (81); 55(48), substutir por 27\n",
        "mp_q = (9*81+29*53+55*48)/(53+81+48)\n",
        "mp_q\n",
        "                    "
      ],
      "execution_count": 119,
      "outputs": [
        {
          "output_type": "execute_result",
          "data": {
            "text/plain": [
              "26.956043956043956"
            ]
          },
          "metadata": {
            "tags": []
          },
          "execution_count": 119
        }
      ]
    },
    {
      "cell_type": "code",
      "metadata": {
        "id": "AGIZg0jQqgmd",
        "outputId": "0d395b32-dc9d-4dbd-daa5-b55dd3b97a70",
        "colab": {
          "base_uri": "https://localhost:8080/"
        }
      },
      "source": [
        "df_churn_train[df_churn_train['tenure']==55].count()"
      ],
      "execution_count": 120,
      "outputs": [
        {
          "output_type": "execute_result",
          "data": {
            "text/plain": [
              "id                  48\n",
              "gender              48\n",
              "seniorcitizen       48\n",
              "partner             48\n",
              "dependents          46\n",
              "tenure              48\n",
              "phoneservice        48\n",
              "multiplelines       48\n",
              "internetservice     48\n",
              "onlinesecurity      48\n",
              "onlinebackup        48\n",
              "deviceprotection    48\n",
              "techsupport         48\n",
              "streamingtv         48\n",
              "streamingmovies     48\n",
              "contract            48\n",
              "paperlessbilling    48\n",
              "paymentmethod       48\n",
              "monthlycharges      48\n",
              "totalcharges        48\n",
              "churn               48\n",
              "dtype: int64"
            ]
          },
          "metadata": {
            "tags": []
          },
          "execution_count": 120
        }
      ]
    },
    {
      "cell_type": "code",
      "metadata": {
        "id": "9lISjhqmnQEr"
      },
      "source": [
        "#substituição dos na por mp_q = 27\n",
        "df_churn_train['tenure'].fillna(27, inplace = True)"
      ],
      "execution_count": 121,
      "outputs": []
    },
    {
      "cell_type": "code",
      "metadata": {
        "id": "Ugfe_36pg0gl",
        "outputId": "ffada6fb-e9e1-4efa-88fa-c08124588a38",
        "colab": {
          "base_uri": "https://localhost:8080/",
          "height": 67
        }
      },
      "source": [
        "df_churn_train[df_churn_train['tenure'].isna()]"
      ],
      "execution_count": 122,
      "outputs": [
        {
          "output_type": "execute_result",
          "data": {
            "text/html": [
              "<div>\n",
              "<style scoped>\n",
              "    .dataframe tbody tr th:only-of-type {\n",
              "        vertical-align: middle;\n",
              "    }\n",
              "\n",
              "    .dataframe tbody tr th {\n",
              "        vertical-align: top;\n",
              "    }\n",
              "\n",
              "    .dataframe thead th {\n",
              "        text-align: right;\n",
              "    }\n",
              "</style>\n",
              "<table border=\"1\" class=\"dataframe\">\n",
              "  <thead>\n",
              "    <tr style=\"text-align: right;\">\n",
              "      <th></th>\n",
              "      <th>id</th>\n",
              "      <th>gender</th>\n",
              "      <th>seniorcitizen</th>\n",
              "      <th>partner</th>\n",
              "      <th>dependents</th>\n",
              "      <th>tenure</th>\n",
              "      <th>phoneservice</th>\n",
              "      <th>multiplelines</th>\n",
              "      <th>internetservice</th>\n",
              "      <th>onlinesecurity</th>\n",
              "      <th>onlinebackup</th>\n",
              "      <th>deviceprotection</th>\n",
              "      <th>techsupport</th>\n",
              "      <th>streamingtv</th>\n",
              "      <th>streamingmovies</th>\n",
              "      <th>contract</th>\n",
              "      <th>paperlessbilling</th>\n",
              "      <th>paymentmethod</th>\n",
              "      <th>monthlycharges</th>\n",
              "      <th>totalcharges</th>\n",
              "      <th>churn</th>\n",
              "    </tr>\n",
              "  </thead>\n",
              "  <tbody>\n",
              "  </tbody>\n",
              "</table>\n",
              "</div>"
            ],
            "text/plain": [
              "Empty DataFrame\n",
              "Columns: [id, gender, seniorcitizen, partner, dependents, tenure, phoneservice, multiplelines, internetservice, onlinesecurity, onlinebackup, deviceprotection, techsupport, streamingtv, streamingmovies, contract, paperlessbilling, paymentmethod, monthlycharges, totalcharges, churn]\n",
              "Index: []"
            ]
          },
          "metadata": {
            "tags": []
          },
          "execution_count": 122
        }
      ]
    },
    {
      "cell_type": "code",
      "metadata": {
        "id": "JE_4L3rQg0qb",
        "outputId": "7a7db2c1-2916-4afa-ed02-decd3de52b01",
        "colab": {
          "base_uri": "https://localhost:8080/",
          "height": 277
        }
      },
      "source": [
        "#checa o describe apos o trata na\n",
        "df_churn_train[['tenure']].describe()"
      ],
      "execution_count": 123,
      "outputs": [
        {
          "output_type": "execute_result",
          "data": {
            "text/html": [
              "<div>\n",
              "<style scoped>\n",
              "    .dataframe tbody tr th:only-of-type {\n",
              "        vertical-align: middle;\n",
              "    }\n",
              "\n",
              "    .dataframe tbody tr th {\n",
              "        vertical-align: top;\n",
              "    }\n",
              "\n",
              "    .dataframe thead th {\n",
              "        text-align: right;\n",
              "    }\n",
              "</style>\n",
              "<table border=\"1\" class=\"dataframe\">\n",
              "  <thead>\n",
              "    <tr style=\"text-align: right;\">\n",
              "      <th></th>\n",
              "      <th>tenure</th>\n",
              "    </tr>\n",
              "  </thead>\n",
              "  <tbody>\n",
              "    <tr>\n",
              "      <th>count</th>\n",
              "      <td>5634.000000</td>\n",
              "    </tr>\n",
              "    <tr>\n",
              "      <th>mean</th>\n",
              "      <td>31.896521</td>\n",
              "    </tr>\n",
              "    <tr>\n",
              "      <th>std</th>\n",
              "      <td>23.486740</td>\n",
              "    </tr>\n",
              "    <tr>\n",
              "      <th>min</th>\n",
              "      <td>0.000000</td>\n",
              "    </tr>\n",
              "    <tr>\n",
              "      <th>25%</th>\n",
              "      <td>10.000000</td>\n",
              "    </tr>\n",
              "    <tr>\n",
              "      <th>50%</th>\n",
              "      <td>27.000000</td>\n",
              "    </tr>\n",
              "    <tr>\n",
              "      <th>75%</th>\n",
              "      <td>53.000000</td>\n",
              "    </tr>\n",
              "    <tr>\n",
              "      <th>max</th>\n",
              "      <td>72.000000</td>\n",
              "    </tr>\n",
              "  </tbody>\n",
              "</table>\n",
              "</div>"
            ],
            "text/plain": [
              "            tenure\n",
              "count  5634.000000\n",
              "mean     31.896521\n",
              "std      23.486740\n",
              "min       0.000000\n",
              "25%      10.000000\n",
              "50%      27.000000\n",
              "75%      53.000000\n",
              "max      72.000000"
            ]
          },
          "metadata": {
            "tags": []
          },
          "execution_count": 123
        }
      ]
    },
    {
      "cell_type": "code",
      "metadata": {
        "id": "BYBseOhmWsnJ"
      },
      "source": [
        ""
      ],
      "execution_count": null,
      "outputs": []
    },
    {
      "cell_type": "markdown",
      "metadata": {
        "id": "PhW2FJ1muZPX"
      },
      "source": [
        "**tratar os dependentes**"
      ]
    },
    {
      "cell_type": "code",
      "metadata": {
        "id": "dKOD15BjWsqc",
        "outputId": "d54ffc21-437b-4a78-f827-b2f74e0e239f",
        "colab": {
          "base_uri": "https://localhost:8080/",
          "height": 391
        }
      },
      "source": [
        "df_churn_train[['dependents']]"
      ],
      "execution_count": 124,
      "outputs": [
        {
          "output_type": "execute_result",
          "data": {
            "text/html": [
              "<div>\n",
              "<style scoped>\n",
              "    .dataframe tbody tr th:only-of-type {\n",
              "        vertical-align: middle;\n",
              "    }\n",
              "\n",
              "    .dataframe tbody tr th {\n",
              "        vertical-align: top;\n",
              "    }\n",
              "\n",
              "    .dataframe thead th {\n",
              "        text-align: right;\n",
              "    }\n",
              "</style>\n",
              "<table border=\"1\" class=\"dataframe\">\n",
              "  <thead>\n",
              "    <tr style=\"text-align: right;\">\n",
              "      <th></th>\n",
              "      <th>dependents</th>\n",
              "    </tr>\n",
              "  </thead>\n",
              "  <tbody>\n",
              "    <tr>\n",
              "      <th>0</th>\n",
              "      <td>No</td>\n",
              "    </tr>\n",
              "    <tr>\n",
              "      <th>1</th>\n",
              "      <td>Yes</td>\n",
              "    </tr>\n",
              "    <tr>\n",
              "      <th>2</th>\n",
              "      <td>No</td>\n",
              "    </tr>\n",
              "    <tr>\n",
              "      <th>3</th>\n",
              "      <td>No</td>\n",
              "    </tr>\n",
              "    <tr>\n",
              "      <th>4</th>\n",
              "      <td>Yes</td>\n",
              "    </tr>\n",
              "    <tr>\n",
              "      <th>...</th>\n",
              "      <td>...</td>\n",
              "    </tr>\n",
              "    <tr>\n",
              "      <th>5629</th>\n",
              "      <td>No</td>\n",
              "    </tr>\n",
              "    <tr>\n",
              "      <th>5630</th>\n",
              "      <td>No</td>\n",
              "    </tr>\n",
              "    <tr>\n",
              "      <th>5631</th>\n",
              "      <td>No</td>\n",
              "    </tr>\n",
              "    <tr>\n",
              "      <th>5632</th>\n",
              "      <td>Yes</td>\n",
              "    </tr>\n",
              "    <tr>\n",
              "      <th>5633</th>\n",
              "      <td>No</td>\n",
              "    </tr>\n",
              "  </tbody>\n",
              "</table>\n",
              "<p>5634 rows × 1 columns</p>\n",
              "</div>"
            ],
            "text/plain": [
              "     dependents\n",
              "0            No\n",
              "1           Yes\n",
              "2            No\n",
              "3            No\n",
              "4           Yes\n",
              "...         ...\n",
              "5629         No\n",
              "5630         No\n",
              "5631         No\n",
              "5632        Yes\n",
              "5633         No\n",
              "\n",
              "[5634 rows x 1 columns]"
            ]
          },
          "metadata": {
            "tags": []
          },
          "execution_count": 124
        }
      ]
    },
    {
      "cell_type": "code",
      "metadata": {
        "id": "IDzBp70twFlU",
        "outputId": "6861c9e6-702e-4a0c-a133-e5742adb09a1",
        "colab": {
          "base_uri": "https://localhost:8080/"
        }
      },
      "source": [
        "#conta os No e Yes\n",
        "df_churn_train[['dependents']].value_counts()"
      ],
      "execution_count": 125,
      "outputs": [
        {
          "output_type": "execute_result",
          "data": {
            "text/plain": [
              "dependents\n",
              "No            3793\n",
              "Yes           1623\n",
              "dtype: int64"
            ]
          },
          "metadata": {
            "tags": []
          },
          "execution_count": 125
        }
      ]
    },
    {
      "cell_type": "code",
      "metadata": {
        "id": "3-pyTWIwWstw",
        "outputId": "6970b2fb-3b59-4159-d669-84fea276cf14",
        "colab": {
          "base_uri": "https://localhost:8080/"
        }
      },
      "source": [
        "dependents_na = df_churn_train['dependents'].isna().sum()\n",
        "dependents_na"
      ],
      "execution_count": 126,
      "outputs": [
        {
          "output_type": "execute_result",
          "data": {
            "text/plain": [
              "218"
            ]
          },
          "metadata": {
            "tags": []
          },
          "execution_count": 126
        }
      ]
    },
    {
      "cell_type": "code",
      "metadata": {
        "id": "VsSdnAawyG_c",
        "outputId": "7fc3abf0-6a78-4431-943e-8486eced5b8c",
        "colab": {
          "base_uri": "https://localhost:8080/"
        }
      },
      "source": [
        "#calcula a % excluindo os na\n",
        "df_churn_train[['dependents']].value_counts()/(df_churn_train.shape[0]-dependents_na)*100"
      ],
      "execution_count": 127,
      "outputs": [
        {
          "output_type": "execute_result",
          "data": {
            "text/plain": [
              "dependents\n",
              "No            70.033235\n",
              "Yes           29.966765\n",
              "dtype: float64"
            ]
          },
          "metadata": {
            "tags": []
          },
          "execution_count": 127
        }
      ]
    },
    {
      "cell_type": "code",
      "metadata": {
        "id": "gb4P1_Ug6Fvm",
        "outputId": "3d74a4aa-8fac-4b1c-e6c1-3e4c0f05148f",
        "colab": {
          "base_uri": "https://localhost:8080/"
        }
      },
      "source": [
        "dependents_na/df_churn_train.shape[0]*100"
      ],
      "execution_count": 128,
      "outputs": [
        {
          "output_type": "execute_result",
          "data": {
            "text/plain": [
              "3.8693645722399714"
            ]
          },
          "metadata": {
            "tags": []
          },
          "execution_count": 128
        }
      ]
    },
    {
      "cell_type": "code",
      "metadata": {
        "id": "Dc6Xy7K-0sV8",
        "outputId": "20102a3f-19a4-4701-c9bf-7dbbec4ee866",
        "colab": {
          "base_uri": "https://localhost:8080/"
        }
      },
      "source": [
        "na_70_no = dependents_na*0.7\n",
        "na_70_no"
      ],
      "execution_count": 129,
      "outputs": [
        {
          "output_type": "execute_result",
          "data": {
            "text/plain": [
              "152.6"
            ]
          },
          "metadata": {
            "tags": []
          },
          "execution_count": 129
        }
      ]
    },
    {
      "cell_type": "code",
      "metadata": {
        "id": "pup9QWsE1Baa",
        "outputId": "b537aa83-8e01-4edd-a837-ffed5c3f1beb",
        "colab": {
          "base_uri": "https://localhost:8080/"
        }
      },
      "source": [
        "na_30_yes = dependents_na*0.3\n",
        "na_30_yes"
      ],
      "execution_count": 130,
      "outputs": [
        {
          "output_type": "execute_result",
          "data": {
            "text/plain": [
              "65.39999999999999"
            ]
          },
          "metadata": {
            "tags": []
          },
          "execution_count": 130
        }
      ]
    },
    {
      "cell_type": "code",
      "metadata": {
        "id": "pgPYUdDa5HDm",
        "outputId": "917d9e7d-0d67-4d7b-f61c-042fb9354e0b",
        "colab": {
          "base_uri": "https://localhost:8080/",
          "height": 391
        }
      },
      "source": [
        "#fazendo uam copia do df, feature 'dependents para tratar\n",
        "df_dependents_trat_na = df_churn_train[['dependents']].copy()\n",
        "df_dependents_trat_na"
      ],
      "execution_count": 131,
      "outputs": [
        {
          "output_type": "execute_result",
          "data": {
            "text/html": [
              "<div>\n",
              "<style scoped>\n",
              "    .dataframe tbody tr th:only-of-type {\n",
              "        vertical-align: middle;\n",
              "    }\n",
              "\n",
              "    .dataframe tbody tr th {\n",
              "        vertical-align: top;\n",
              "    }\n",
              "\n",
              "    .dataframe thead th {\n",
              "        text-align: right;\n",
              "    }\n",
              "</style>\n",
              "<table border=\"1\" class=\"dataframe\">\n",
              "  <thead>\n",
              "    <tr style=\"text-align: right;\">\n",
              "      <th></th>\n",
              "      <th>dependents</th>\n",
              "    </tr>\n",
              "  </thead>\n",
              "  <tbody>\n",
              "    <tr>\n",
              "      <th>0</th>\n",
              "      <td>No</td>\n",
              "    </tr>\n",
              "    <tr>\n",
              "      <th>1</th>\n",
              "      <td>Yes</td>\n",
              "    </tr>\n",
              "    <tr>\n",
              "      <th>2</th>\n",
              "      <td>No</td>\n",
              "    </tr>\n",
              "    <tr>\n",
              "      <th>3</th>\n",
              "      <td>No</td>\n",
              "    </tr>\n",
              "    <tr>\n",
              "      <th>4</th>\n",
              "      <td>Yes</td>\n",
              "    </tr>\n",
              "    <tr>\n",
              "      <th>...</th>\n",
              "      <td>...</td>\n",
              "    </tr>\n",
              "    <tr>\n",
              "      <th>5629</th>\n",
              "      <td>No</td>\n",
              "    </tr>\n",
              "    <tr>\n",
              "      <th>5630</th>\n",
              "      <td>No</td>\n",
              "    </tr>\n",
              "    <tr>\n",
              "      <th>5631</th>\n",
              "      <td>No</td>\n",
              "    </tr>\n",
              "    <tr>\n",
              "      <th>5632</th>\n",
              "      <td>Yes</td>\n",
              "    </tr>\n",
              "    <tr>\n",
              "      <th>5633</th>\n",
              "      <td>No</td>\n",
              "    </tr>\n",
              "  </tbody>\n",
              "</table>\n",
              "<p>5634 rows × 1 columns</p>\n",
              "</div>"
            ],
            "text/plain": [
              "     dependents\n",
              "0            No\n",
              "1           Yes\n",
              "2            No\n",
              "3            No\n",
              "4           Yes\n",
              "...         ...\n",
              "5629         No\n",
              "5630         No\n",
              "5631         No\n",
              "5632        Yes\n",
              "5633         No\n",
              "\n",
              "[5634 rows x 1 columns]"
            ]
          },
          "metadata": {
            "tags": []
          },
          "execution_count": 131
        }
      ]
    },
    {
      "cell_type": "code",
      "metadata": {
        "id": "j5DMtevIzuC9",
        "outputId": "5efbfcb1-ab6f-403c-ff29-7585df97ad80",
        "colab": {
          "base_uri": "https://localhost:8080/",
          "height": 391
        }
      },
      "source": [
        "df_dependents_trat_na1 = df_dependents_trat_na[df_dependents_trat_na['dependents'].isna()]\n",
        "df_dependents_trat_na1"
      ],
      "execution_count": 132,
      "outputs": [
        {
          "output_type": "execute_result",
          "data": {
            "text/html": [
              "<div>\n",
              "<style scoped>\n",
              "    .dataframe tbody tr th:only-of-type {\n",
              "        vertical-align: middle;\n",
              "    }\n",
              "\n",
              "    .dataframe tbody tr th {\n",
              "        vertical-align: top;\n",
              "    }\n",
              "\n",
              "    .dataframe thead th {\n",
              "        text-align: right;\n",
              "    }\n",
              "</style>\n",
              "<table border=\"1\" class=\"dataframe\">\n",
              "  <thead>\n",
              "    <tr style=\"text-align: right;\">\n",
              "      <th></th>\n",
              "      <th>dependents</th>\n",
              "    </tr>\n",
              "  </thead>\n",
              "  <tbody>\n",
              "    <tr>\n",
              "      <th>73</th>\n",
              "      <td>NaN</td>\n",
              "    </tr>\n",
              "    <tr>\n",
              "      <th>89</th>\n",
              "      <td>NaN</td>\n",
              "    </tr>\n",
              "    <tr>\n",
              "      <th>110</th>\n",
              "      <td>NaN</td>\n",
              "    </tr>\n",
              "    <tr>\n",
              "      <th>156</th>\n",
              "      <td>NaN</td>\n",
              "    </tr>\n",
              "    <tr>\n",
              "      <th>179</th>\n",
              "      <td>NaN</td>\n",
              "    </tr>\n",
              "    <tr>\n",
              "      <th>...</th>\n",
              "      <td>...</td>\n",
              "    </tr>\n",
              "    <tr>\n",
              "      <th>5512</th>\n",
              "      <td>NaN</td>\n",
              "    </tr>\n",
              "    <tr>\n",
              "      <th>5522</th>\n",
              "      <td>NaN</td>\n",
              "    </tr>\n",
              "    <tr>\n",
              "      <th>5541</th>\n",
              "      <td>NaN</td>\n",
              "    </tr>\n",
              "    <tr>\n",
              "      <th>5558</th>\n",
              "      <td>NaN</td>\n",
              "    </tr>\n",
              "    <tr>\n",
              "      <th>5616</th>\n",
              "      <td>NaN</td>\n",
              "    </tr>\n",
              "  </tbody>\n",
              "</table>\n",
              "<p>218 rows × 1 columns</p>\n",
              "</div>"
            ],
            "text/plain": [
              "     dependents\n",
              "73          NaN\n",
              "89          NaN\n",
              "110         NaN\n",
              "156         NaN\n",
              "179         NaN\n",
              "...         ...\n",
              "5512        NaN\n",
              "5522        NaN\n",
              "5541        NaN\n",
              "5558        NaN\n",
              "5616        NaN\n",
              "\n",
              "[218 rows x 1 columns]"
            ]
          },
          "metadata": {
            "tags": []
          },
          "execution_count": 132
        }
      ]
    },
    {
      "cell_type": "code",
      "metadata": {
        "id": "6t9JNKtD6nIa",
        "outputId": "4c7c4ef5-2b9f-4e91-eee9-bbe9e650b67d",
        "colab": {
          "base_uri": "https://localhost:8080/"
        }
      },
      "source": [
        "df_dependents_trat_na1['dependents'][73]"
      ],
      "execution_count": 133,
      "outputs": [
        {
          "output_type": "execute_result",
          "data": {
            "text/plain": [
              "nan"
            ]
          },
          "metadata": {
            "tags": []
          },
          "execution_count": 133
        }
      ]
    },
    {
      "cell_type": "markdown",
      "metadata": {
        "id": "-uPMIN28_W2c"
      },
      "source": [
        "###testando o prenchimento do NaN na coluna dependents"
      ]
    },
    {
      "cell_type": "code",
      "metadata": {
        "id": "wYIscn687DNf",
        "outputId": "921f058a-dd5c-4d17-e20a-08add9e6a6bd",
        "colab": {
          "base_uri": "https://localhost:8080/"
        }
      },
      "source": [
        "#criar uma lista dos index nan na feature dependents\n",
        "l_index_na_dep = list(df_dependents_trat_na1[df_dependents_trat_na1['dependents'].isna()].index)\n",
        "l_index_na_dep"
      ],
      "execution_count": 134,
      "outputs": [
        {
          "output_type": "execute_result",
          "data": {
            "text/plain": [
              "[73,\n",
              " 89,\n",
              " 110,\n",
              " 156,\n",
              " 179,\n",
              " 222,\n",
              " 287,\n",
              " 293,\n",
              " 301,\n",
              " 324,\n",
              " 335,\n",
              " 337,\n",
              " 394,\n",
              " 492,\n",
              " 496,\n",
              " 522,\n",
              " 545,\n",
              " 546,\n",
              " 574,\n",
              " 636,\n",
              " 698,\n",
              " 726,\n",
              " 807,\n",
              " 815,\n",
              " 835,\n",
              " 845,\n",
              " 879,\n",
              " 898,\n",
              " 901,\n",
              " 978,\n",
              " 980,\n",
              " 991,\n",
              " 1000,\n",
              " 1017,\n",
              " 1047,\n",
              " 1056,\n",
              " 1061,\n",
              " 1063,\n",
              " 1096,\n",
              " 1104,\n",
              " 1183,\n",
              " 1188,\n",
              " 1208,\n",
              " 1222,\n",
              " 1315,\n",
              " 1318,\n",
              " 1367,\n",
              " 1393,\n",
              " 1427,\n",
              " 1446,\n",
              " 1461,\n",
              " 1473,\n",
              " 1483,\n",
              " 1507,\n",
              " 1512,\n",
              " 1545,\n",
              " 1572,\n",
              " 1576,\n",
              " 1578,\n",
              " 1618,\n",
              " 1649,\n",
              " 1670,\n",
              " 1694,\n",
              " 1755,\n",
              " 1757,\n",
              " 1769,\n",
              " 1801,\n",
              " 1851,\n",
              " 1864,\n",
              " 1990,\n",
              " 1997,\n",
              " 1998,\n",
              " 2019,\n",
              " 2028,\n",
              " 2046,\n",
              " 2057,\n",
              " 2095,\n",
              " 2097,\n",
              " 2098,\n",
              " 2102,\n",
              " 2116,\n",
              " 2123,\n",
              " 2128,\n",
              " 2156,\n",
              " 2169,\n",
              " 2197,\n",
              " 2213,\n",
              " 2268,\n",
              " 2311,\n",
              " 2316,\n",
              " 2335,\n",
              " 2339,\n",
              " 2386,\n",
              " 2394,\n",
              " 2446,\n",
              " 2448,\n",
              " 2458,\n",
              " 2462,\n",
              " 2484,\n",
              " 2487,\n",
              " 2503,\n",
              " 2507,\n",
              " 2510,\n",
              " 2553,\n",
              " 2575,\n",
              " 2620,\n",
              " 2648,\n",
              " 2687,\n",
              " 2694,\n",
              " 2727,\n",
              " 2733,\n",
              " 2734,\n",
              " 2736,\n",
              " 2752,\n",
              " 2754,\n",
              " 2758,\n",
              " 2763,\n",
              " 2785,\n",
              " 2832,\n",
              " 2833,\n",
              " 2839,\n",
              " 2840,\n",
              " 2889,\n",
              " 2920,\n",
              " 2933,\n",
              " 2964,\n",
              " 3056,\n",
              " 3115,\n",
              " 3127,\n",
              " 3144,\n",
              " 3164,\n",
              " 3166,\n",
              " 3184,\n",
              " 3199,\n",
              " 3252,\n",
              " 3266,\n",
              " 3284,\n",
              " 3286,\n",
              " 3288,\n",
              " 3414,\n",
              " 3419,\n",
              " 3440,\n",
              " 3458,\n",
              " 3526,\n",
              " 3556,\n",
              " 3584,\n",
              " 3587,\n",
              " 3600,\n",
              " 3654,\n",
              " 3657,\n",
              " 3699,\n",
              " 3701,\n",
              " 3703,\n",
              " 3704,\n",
              " 3705,\n",
              " 3726,\n",
              " 3745,\n",
              " 3761,\n",
              " 3764,\n",
              " 3786,\n",
              " 3813,\n",
              " 3814,\n",
              " 3839,\n",
              " 3910,\n",
              " 3969,\n",
              " 3971,\n",
              " 3980,\n",
              " 4041,\n",
              " 4052,\n",
              " 4068,\n",
              " 4081,\n",
              " 4082,\n",
              " 4093,\n",
              " 4179,\n",
              " 4263,\n",
              " 4336,\n",
              " 4348,\n",
              " 4360,\n",
              " 4379,\n",
              " 4411,\n",
              " 4511,\n",
              " 4640,\n",
              " 4670,\n",
              " 4682,\n",
              " 4688,\n",
              " 4711,\n",
              " 4808,\n",
              " 4815,\n",
              " 4825,\n",
              " 4945,\n",
              " 4948,\n",
              " 4986,\n",
              " 4998,\n",
              " 5018,\n",
              " 5139,\n",
              " 5156,\n",
              " 5161,\n",
              " 5162,\n",
              " 5212,\n",
              " 5226,\n",
              " 5261,\n",
              " 5267,\n",
              " 5305,\n",
              " 5321,\n",
              " 5354,\n",
              " 5370,\n",
              " 5442,\n",
              " 5445,\n",
              " 5458,\n",
              " 5468,\n",
              " 5472,\n",
              " 5479,\n",
              " 5491,\n",
              " 5512,\n",
              " 5522,\n",
              " 5541,\n",
              " 5558,\n",
              " 5616]"
            ]
          },
          "metadata": {
            "tags": []
          },
          "execution_count": 134
        }
      ]
    },
    {
      "cell_type": "code",
      "metadata": {
        "id": "pSZqqRsW7t-_",
        "outputId": "2bfc2a7b-59db-4fd6-c31f-493383b0068f",
        "colab": {
          "base_uri": "https://localhost:8080/"
        }
      },
      "source": [
        "len(l_index_na_dep)"
      ],
      "execution_count": 135,
      "outputs": [
        {
          "output_type": "execute_result",
          "data": {
            "text/plain": [
              "218"
            ]
          },
          "metadata": {
            "tags": []
          },
          "execution_count": 135
        }
      ]
    },
    {
      "cell_type": "code",
      "metadata": {
        "id": "4UnVXlCY82v-",
        "outputId": "4a216c62-7343-44f3-8f23-25484923053e",
        "colab": {
          "base_uri": "https://localhost:8080/"
        }
      },
      "source": [
        "#tratamento da feature dependents\n",
        "s = 0\n",
        "for c in l_index_na_dep:\n",
        "    s = s + 1  \n",
        "    if s < 65:\n",
        "        df_dependents_trat_na1['dependents'][c] = 'Yes'\n",
        "    else:\n",
        "        df_dependents_trat_na1['dependents'][c] = 'No'"
      ],
      "execution_count": 136,
      "outputs": [
        {
          "output_type": "stream",
          "text": [
            "/usr/local/lib/python3.6/dist-packages/IPython/core/interactiveshell.py:2882: SettingWithCopyWarning: \n",
            "A value is trying to be set on a copy of a slice from a DataFrame\n",
            "\n",
            "See the caveats in the documentation: https://pandas.pydata.org/pandas-docs/stable/user_guide/indexing.html#returning-a-view-versus-a-copy\n",
            "  exec(code_obj, self.user_global_ns, self.user_ns)\n"
          ],
          "name": "stderr"
        }
      ]
    },
    {
      "cell_type": "code",
      "metadata": {
        "id": "jln4SNtt-gst",
        "outputId": "f473bfb4-49bc-4c81-f01e-4b83a0aae35c",
        "colab": {
          "base_uri": "https://localhost:8080/"
        }
      },
      "source": [
        "df_dependents_trat_na1.isna().sum()"
      ],
      "execution_count": 137,
      "outputs": [
        {
          "output_type": "execute_result",
          "data": {
            "text/plain": [
              "dependents    0\n",
              "dtype: int64"
            ]
          },
          "metadata": {
            "tags": []
          },
          "execution_count": 137
        }
      ]
    },
    {
      "cell_type": "code",
      "metadata": {
        "id": "W9ZOBaXnEvgv"
      },
      "source": [
        ""
      ],
      "execution_count": null,
      "outputs": []
    },
    {
      "cell_type": "code",
      "metadata": {
        "id": "DH8sYxDO-w6t",
        "outputId": "6c64786d-2099-4c41-cf89-e74990aed3fd",
        "colab": {
          "base_uri": "https://localhost:8080/"
        }
      },
      "source": [
        "df_dependents_trat_na1[['dependents']].value_counts()/df_dependents_trat_na1.shape[0]"
      ],
      "execution_count": 138,
      "outputs": [
        {
          "output_type": "execute_result",
          "data": {
            "text/plain": [
              "dependents\n",
              "No            0.706422\n",
              "Yes           0.293578\n",
              "dtype: float64"
            ]
          },
          "metadata": {
            "tags": []
          },
          "execution_count": 138
        }
      ]
    },
    {
      "cell_type": "code",
      "metadata": {
        "id": "BwHxgsPvAyPW"
      },
      "source": [
        "#df_churn_train['tenure'].fillna(mp_q, inplace = True)\n",
        "#df_churn_train['dependents'].replace(df_dependents_trat_na1['dependents'], inplace = True)"
      ],
      "execution_count": null,
      "outputs": []
    },
    {
      "cell_type": "code",
      "metadata": {
        "id": "gNScS8yx_4hK"
      },
      "source": [
        ""
      ],
      "execution_count": null,
      "outputs": []
    },
    {
      "cell_type": "code",
      "metadata": {
        "id": "79I4_O8X74R9",
        "outputId": "040f32f5-e90b-4ef5-e5e4-a2515d429ed8",
        "colab": {
          "base_uri": "https://localhost:8080/"
        }
      },
      "source": [
        "#df_churn_train\n",
        "l_index_churn_na_dep = list(df_churn_train[df_churn_train['dependents'].isna()].index)\n",
        "l_index_churn_na_dep"
      ],
      "execution_count": 139,
      "outputs": [
        {
          "output_type": "execute_result",
          "data": {
            "text/plain": [
              "[73,\n",
              " 89,\n",
              " 110,\n",
              " 156,\n",
              " 179,\n",
              " 222,\n",
              " 287,\n",
              " 293,\n",
              " 301,\n",
              " 324,\n",
              " 335,\n",
              " 337,\n",
              " 394,\n",
              " 492,\n",
              " 496,\n",
              " 522,\n",
              " 545,\n",
              " 546,\n",
              " 574,\n",
              " 636,\n",
              " 698,\n",
              " 726,\n",
              " 807,\n",
              " 815,\n",
              " 835,\n",
              " 845,\n",
              " 879,\n",
              " 898,\n",
              " 901,\n",
              " 978,\n",
              " 980,\n",
              " 991,\n",
              " 1000,\n",
              " 1017,\n",
              " 1047,\n",
              " 1056,\n",
              " 1061,\n",
              " 1063,\n",
              " 1096,\n",
              " 1104,\n",
              " 1183,\n",
              " 1188,\n",
              " 1208,\n",
              " 1222,\n",
              " 1315,\n",
              " 1318,\n",
              " 1367,\n",
              " 1393,\n",
              " 1427,\n",
              " 1446,\n",
              " 1461,\n",
              " 1473,\n",
              " 1483,\n",
              " 1507,\n",
              " 1512,\n",
              " 1545,\n",
              " 1572,\n",
              " 1576,\n",
              " 1578,\n",
              " 1618,\n",
              " 1649,\n",
              " 1670,\n",
              " 1694,\n",
              " 1755,\n",
              " 1757,\n",
              " 1769,\n",
              " 1801,\n",
              " 1851,\n",
              " 1864,\n",
              " 1990,\n",
              " 1997,\n",
              " 1998,\n",
              " 2019,\n",
              " 2028,\n",
              " 2046,\n",
              " 2057,\n",
              " 2095,\n",
              " 2097,\n",
              " 2098,\n",
              " 2102,\n",
              " 2116,\n",
              " 2123,\n",
              " 2128,\n",
              " 2156,\n",
              " 2169,\n",
              " 2197,\n",
              " 2213,\n",
              " 2268,\n",
              " 2311,\n",
              " 2316,\n",
              " 2335,\n",
              " 2339,\n",
              " 2386,\n",
              " 2394,\n",
              " 2446,\n",
              " 2448,\n",
              " 2458,\n",
              " 2462,\n",
              " 2484,\n",
              " 2487,\n",
              " 2503,\n",
              " 2507,\n",
              " 2510,\n",
              " 2553,\n",
              " 2575,\n",
              " 2620,\n",
              " 2648,\n",
              " 2687,\n",
              " 2694,\n",
              " 2727,\n",
              " 2733,\n",
              " 2734,\n",
              " 2736,\n",
              " 2752,\n",
              " 2754,\n",
              " 2758,\n",
              " 2763,\n",
              " 2785,\n",
              " 2832,\n",
              " 2833,\n",
              " 2839,\n",
              " 2840,\n",
              " 2889,\n",
              " 2920,\n",
              " 2933,\n",
              " 2964,\n",
              " 3056,\n",
              " 3115,\n",
              " 3127,\n",
              " 3144,\n",
              " 3164,\n",
              " 3166,\n",
              " 3184,\n",
              " 3199,\n",
              " 3252,\n",
              " 3266,\n",
              " 3284,\n",
              " 3286,\n",
              " 3288,\n",
              " 3414,\n",
              " 3419,\n",
              " 3440,\n",
              " 3458,\n",
              " 3526,\n",
              " 3556,\n",
              " 3584,\n",
              " 3587,\n",
              " 3600,\n",
              " 3654,\n",
              " 3657,\n",
              " 3699,\n",
              " 3701,\n",
              " 3703,\n",
              " 3704,\n",
              " 3705,\n",
              " 3726,\n",
              " 3745,\n",
              " 3761,\n",
              " 3764,\n",
              " 3786,\n",
              " 3813,\n",
              " 3814,\n",
              " 3839,\n",
              " 3910,\n",
              " 3969,\n",
              " 3971,\n",
              " 3980,\n",
              " 4041,\n",
              " 4052,\n",
              " 4068,\n",
              " 4081,\n",
              " 4082,\n",
              " 4093,\n",
              " 4179,\n",
              " 4263,\n",
              " 4336,\n",
              " 4348,\n",
              " 4360,\n",
              " 4379,\n",
              " 4411,\n",
              " 4511,\n",
              " 4640,\n",
              " 4670,\n",
              " 4682,\n",
              " 4688,\n",
              " 4711,\n",
              " 4808,\n",
              " 4815,\n",
              " 4825,\n",
              " 4945,\n",
              " 4948,\n",
              " 4986,\n",
              " 4998,\n",
              " 5018,\n",
              " 5139,\n",
              " 5156,\n",
              " 5161,\n",
              " 5162,\n",
              " 5212,\n",
              " 5226,\n",
              " 5261,\n",
              " 5267,\n",
              " 5305,\n",
              " 5321,\n",
              " 5354,\n",
              " 5370,\n",
              " 5442,\n",
              " 5445,\n",
              " 5458,\n",
              " 5468,\n",
              " 5472,\n",
              " 5479,\n",
              " 5491,\n",
              " 5512,\n",
              " 5522,\n",
              " 5541,\n",
              " 5558,\n",
              " 5616]"
            ]
          },
          "metadata": {
            "tags": []
          },
          "execution_count": 139
        }
      ]
    },
    {
      "cell_type": "code",
      "metadata": {
        "id": "5HYvvkf674Gz",
        "outputId": "d622773c-6b17-435c-f858-9d5f8d4ffdf0",
        "colab": {
          "base_uri": "https://localhost:8080/"
        }
      },
      "source": [
        "len(l_index_churn_na_dep)"
      ],
      "execution_count": 140,
      "outputs": [
        {
          "output_type": "execute_result",
          "data": {
            "text/plain": [
              "218"
            ]
          },
          "metadata": {
            "tags": []
          },
          "execution_count": 140
        }
      ]
    },
    {
      "cell_type": "code",
      "metadata": {
        "id": "2F4MgduBBNWW",
        "outputId": "213db986-33f5-4367-ff5a-3b7e59518b30",
        "colab": {
          "base_uri": "https://localhost:8080/"
        }
      },
      "source": [
        "#tratamento da feature dependents no df_churn_train\n",
        "s = 0\n",
        "for c in l_index_churn_na_dep:\n",
        "    s = s + 1  \n",
        "    if s < 65:\n",
        "        df_churn_train['dependents'][c] = 'Yes'\n",
        "    else:\n",
        "        df_churn_train['dependents'][c] = 'No'"
      ],
      "execution_count": 141,
      "outputs": [
        {
          "output_type": "stream",
          "text": [
            "/usr/local/lib/python3.6/dist-packages/ipykernel_launcher.py:6: SettingWithCopyWarning: \n",
            "A value is trying to be set on a copy of a slice from a DataFrame\n",
            "\n",
            "See the caveats in the documentation: https://pandas.pydata.org/pandas-docs/stable/user_guide/indexing.html#returning-a-view-versus-a-copy\n",
            "  \n",
            "/usr/local/lib/python3.6/dist-packages/ipykernel_launcher.py:8: SettingWithCopyWarning: \n",
            "A value is trying to be set on a copy of a slice from a DataFrame\n",
            "\n",
            "See the caveats in the documentation: https://pandas.pydata.org/pandas-docs/stable/user_guide/indexing.html#returning-a-view-versus-a-copy\n",
            "  \n"
          ],
          "name": "stderr"
        }
      ]
    },
    {
      "cell_type": "code",
      "metadata": {
        "id": "w0HBABglBNcv",
        "outputId": "e26053de-21da-48c3-fce7-137b200bfc4f",
        "colab": {
          "base_uri": "https://localhost:8080/"
        }
      },
      "source": [
        "df_churn_train.isna().sum()"
      ],
      "execution_count": 142,
      "outputs": [
        {
          "output_type": "execute_result",
          "data": {
            "text/plain": [
              "id                   0\n",
              "gender               0\n",
              "seniorcitizen        0\n",
              "partner              0\n",
              "dependents           0\n",
              "tenure               0\n",
              "phoneservice         0\n",
              "multiplelines        0\n",
              "internetservice      0\n",
              "onlinesecurity       0\n",
              "onlinebackup         0\n",
              "deviceprotection     0\n",
              "techsupport          0\n",
              "streamingtv          0\n",
              "streamingmovies      0\n",
              "contract             0\n",
              "paperlessbilling     0\n",
              "paymentmethod       99\n",
              "monthlycharges       0\n",
              "totalcharges         0\n",
              "churn                0\n",
              "dtype: int64"
            ]
          },
          "metadata": {
            "tags": []
          },
          "execution_count": 142
        }
      ]
    },
    {
      "cell_type": "code",
      "metadata": {
        "id": "4J3Z_RrZBNg0",
        "outputId": "a1e31bd8-b19b-4b8e-f4f7-f8e5bd79fc2f",
        "colab": {
          "base_uri": "https://localhost:8080/",
          "height": 67
        }
      },
      "source": [
        "df_churn_train[df_churn_train['dependents'].isna()]"
      ],
      "execution_count": 143,
      "outputs": [
        {
          "output_type": "execute_result",
          "data": {
            "text/html": [
              "<div>\n",
              "<style scoped>\n",
              "    .dataframe tbody tr th:only-of-type {\n",
              "        vertical-align: middle;\n",
              "    }\n",
              "\n",
              "    .dataframe tbody tr th {\n",
              "        vertical-align: top;\n",
              "    }\n",
              "\n",
              "    .dataframe thead th {\n",
              "        text-align: right;\n",
              "    }\n",
              "</style>\n",
              "<table border=\"1\" class=\"dataframe\">\n",
              "  <thead>\n",
              "    <tr style=\"text-align: right;\">\n",
              "      <th></th>\n",
              "      <th>id</th>\n",
              "      <th>gender</th>\n",
              "      <th>seniorcitizen</th>\n",
              "      <th>partner</th>\n",
              "      <th>dependents</th>\n",
              "      <th>tenure</th>\n",
              "      <th>phoneservice</th>\n",
              "      <th>multiplelines</th>\n",
              "      <th>internetservice</th>\n",
              "      <th>onlinesecurity</th>\n",
              "      <th>onlinebackup</th>\n",
              "      <th>deviceprotection</th>\n",
              "      <th>techsupport</th>\n",
              "      <th>streamingtv</th>\n",
              "      <th>streamingmovies</th>\n",
              "      <th>contract</th>\n",
              "      <th>paperlessbilling</th>\n",
              "      <th>paymentmethod</th>\n",
              "      <th>monthlycharges</th>\n",
              "      <th>totalcharges</th>\n",
              "      <th>churn</th>\n",
              "    </tr>\n",
              "  </thead>\n",
              "  <tbody>\n",
              "  </tbody>\n",
              "</table>\n",
              "</div>"
            ],
            "text/plain": [
              "Empty DataFrame\n",
              "Columns: [id, gender, seniorcitizen, partner, dependents, tenure, phoneservice, multiplelines, internetservice, onlinesecurity, onlinebackup, deviceprotection, techsupport, streamingtv, streamingmovies, contract, paperlessbilling, paymentmethod, monthlycharges, totalcharges, churn]\n",
              "Index: []"
            ]
          },
          "metadata": {
            "tags": []
          },
          "execution_count": 143
        }
      ]
    },
    {
      "cell_type": "code",
      "metadata": {
        "id": "8lW59dKHBNTl"
      },
      "source": [
        ""
      ],
      "execution_count": null,
      "outputs": []
    },
    {
      "cell_type": "markdown",
      "metadata": {
        "id": "JWIE8n65A5pz"
      },
      "source": [
        "###tratamento da paymentmethod"
      ]
    },
    {
      "cell_type": "code",
      "metadata": {
        "id": "HVbabSscAyUc",
        "outputId": "e501747a-7a56-4540-a758-ce0c36b681de",
        "colab": {
          "base_uri": "https://localhost:8080/"
        }
      },
      "source": [
        "#conta a feature\n",
        "df_churn_train[['paymentmethod']].value_counts()"
      ],
      "execution_count": 144,
      "outputs": [
        {
          "output_type": "execute_result",
          "data": {
            "text/plain": [
              "paymentmethod            \n",
              "Electronic check             1887\n",
              "Mailed check                 1272\n",
              "Bank transfer (automatic)    1212\n",
              "Credit card (automatic)      1164\n",
              "dtype: int64"
            ]
          },
          "metadata": {
            "tags": []
          },
          "execution_count": 144
        }
      ]
    },
    {
      "cell_type": "code",
      "metadata": {
        "id": "MvpN9JqWAyhc",
        "outputId": "1f3d5ea7-207a-494a-d6e2-af2984f1629a",
        "colab": {
          "base_uri": "https://localhost:8080/"
        }
      },
      "source": [
        "#conta os Nan na feature\n",
        "df_churn_train['paymentmethod'].isna().sum()"
      ],
      "execution_count": 145,
      "outputs": [
        {
          "output_type": "execute_result",
          "data": {
            "text/plain": [
              "99"
            ]
          },
          "metadata": {
            "tags": []
          },
          "execution_count": 145
        }
      ]
    },
    {
      "cell_type": "code",
      "metadata": {
        "id": "N6cwlYPEBr44",
        "outputId": "c5fd4ac7-50f0-42e7-f4af-cbc0e4ad1c9a",
        "colab": {
          "base_uri": "https://localhost:8080/"
        }
      },
      "source": [
        "df_churn_train['paymentmethod'].shape[0]"
      ],
      "execution_count": 146,
      "outputs": [
        {
          "output_type": "execute_result",
          "data": {
            "text/plain": [
              "5634"
            ]
          },
          "metadata": {
            "tags": []
          },
          "execution_count": 146
        }
      ]
    },
    {
      "cell_type": "code",
      "metadata": {
        "id": "Yd3Ny_PxCEeQ",
        "outputId": "3db5a6b0-dacf-4dd0-96cf-893906f1134e",
        "colab": {
          "base_uri": "https://localhost:8080/"
        }
      },
      "source": [
        "#calcula as % para cada forma de pay, excluindo os missing\n",
        "df_churn_train[['paymentmethod']].value_counts()/(df_churn_train['paymentmethod'].shape[0]-99)*100"
      ],
      "execution_count": 147,
      "outputs": [
        {
          "output_type": "execute_result",
          "data": {
            "text/plain": [
              "paymentmethod            \n",
              "Electronic check             34.092141\n",
              "Mailed check                 22.981030\n",
              "Bank transfer (automatic)    21.897019\n",
              "Credit card (automatic)      21.029810\n",
              "dtype: float64"
            ]
          },
          "metadata": {
            "tags": []
          },
          "execution_count": 147
        }
      ]
    },
    {
      "cell_type": "code",
      "metadata": {
        "id": "V9EpgXuLBy91",
        "outputId": "f02bc324-bc19-4ec6-df76-a23d751729f7",
        "colab": {
          "base_uri": "https://localhost:8080/"
        }
      },
      "source": [
        "#% de quanto os missing estão em pay\n",
        "99/5634*100"
      ],
      "execution_count": 148,
      "outputs": [
        {
          "output_type": "execute_result",
          "data": {
            "text/plain": [
              "1.7571884984025559"
            ]
          },
          "metadata": {
            "tags": []
          },
          "execution_count": 148
        }
      ]
    },
    {
      "cell_type": "code",
      "metadata": {
        "id": "ivYLfWO-BzA7",
        "outputId": "f6f6c147-3999-41a0-8aca-fb07e335e59f",
        "colab": {
          "base_uri": "https://localhost:8080/"
        }
      },
      "source": [
        "#elect = 32 (16 - M e 16 - f)\n",
        "99*0.34"
      ],
      "execution_count": 149,
      "outputs": [
        {
          "output_type": "execute_result",
          "data": {
            "text/plain": [
              "33.660000000000004"
            ]
          },
          "metadata": {
            "tags": []
          },
          "execution_count": 149
        }
      ]
    },
    {
      "cell_type": "code",
      "metadata": {
        "id": "oGqmDXWpBzEh",
        "outputId": "64cf5324-5c8e-4446-9807-2e6df17b4aea",
        "colab": {
          "base_uri": "https://localhost:8080/"
        }
      },
      "source": [
        "#mail = 22(11- M 11 - f)\n",
        "99*0.2298"
      ],
      "execution_count": 150,
      "outputs": [
        {
          "output_type": "execute_result",
          "data": {
            "text/plain": [
              "22.7502"
            ]
          },
          "metadata": {
            "tags": []
          },
          "execution_count": 150
        }
      ]
    },
    {
      "cell_type": "code",
      "metadata": {
        "id": "ePT_NxtQBzHv",
        "outputId": "ef0c39c5-0c1e-4c33-b2d1-374669259407",
        "colab": {
          "base_uri": "https://localhost:8080/"
        }
      },
      "source": [
        "#bank = 22\n",
        "99*0.2189"
      ],
      "execution_count": 151,
      "outputs": [
        {
          "output_type": "execute_result",
          "data": {
            "text/plain": [
              "21.671100000000003"
            ]
          },
          "metadata": {
            "tags": []
          },
          "execution_count": 151
        }
      ]
    },
    {
      "cell_type": "code",
      "metadata": {
        "id": "WSWyl13mDOB5",
        "outputId": "10ee052e-0dbe-4b86-e1a3-1adafc6e30cd",
        "colab": {
          "base_uri": "https://localhost:8080/"
        }
      },
      "source": [
        "#cc = 23(12H 11M)\n",
        "99*0.21\n"
      ],
      "execution_count": 152,
      "outputs": [
        {
          "output_type": "execute_result",
          "data": {
            "text/plain": [
              "20.79"
            ]
          },
          "metadata": {
            "tags": []
          },
          "execution_count": 152
        }
      ]
    },
    {
      "cell_type": "code",
      "metadata": {
        "id": "N5ztT2kMZHOr",
        "outputId": "b73249e3-d66a-4804-f864-a5378fb1982b",
        "colab": {
          "base_uri": "https://localhost:8080/",
          "height": 557
        }
      },
      "source": [
        "#df na feature 'paymentmethod' que tem NaN\n",
        "df_churn_train[df_churn_train['paymentmethod'].isna()]"
      ],
      "execution_count": 153,
      "outputs": [
        {
          "output_type": "execute_result",
          "data": {
            "text/html": [
              "<div>\n",
              "<style scoped>\n",
              "    .dataframe tbody tr th:only-of-type {\n",
              "        vertical-align: middle;\n",
              "    }\n",
              "\n",
              "    .dataframe tbody tr th {\n",
              "        vertical-align: top;\n",
              "    }\n",
              "\n",
              "    .dataframe thead th {\n",
              "        text-align: right;\n",
              "    }\n",
              "</style>\n",
              "<table border=\"1\" class=\"dataframe\">\n",
              "  <thead>\n",
              "    <tr style=\"text-align: right;\">\n",
              "      <th></th>\n",
              "      <th>id</th>\n",
              "      <th>gender</th>\n",
              "      <th>seniorcitizen</th>\n",
              "      <th>partner</th>\n",
              "      <th>dependents</th>\n",
              "      <th>tenure</th>\n",
              "      <th>phoneservice</th>\n",
              "      <th>multiplelines</th>\n",
              "      <th>internetservice</th>\n",
              "      <th>onlinesecurity</th>\n",
              "      <th>onlinebackup</th>\n",
              "      <th>deviceprotection</th>\n",
              "      <th>techsupport</th>\n",
              "      <th>streamingtv</th>\n",
              "      <th>streamingmovies</th>\n",
              "      <th>contract</th>\n",
              "      <th>paperlessbilling</th>\n",
              "      <th>paymentmethod</th>\n",
              "      <th>monthlycharges</th>\n",
              "      <th>totalcharges</th>\n",
              "      <th>churn</th>\n",
              "    </tr>\n",
              "  </thead>\n",
              "  <tbody>\n",
              "    <tr>\n",
              "      <th>0</th>\n",
              "      <td>4030</td>\n",
              "      <td>Female</td>\n",
              "      <td>0</td>\n",
              "      <td>No</td>\n",
              "      <td>No</td>\n",
              "      <td>56.0</td>\n",
              "      <td>No</td>\n",
              "      <td>No phone service</td>\n",
              "      <td>DSL</td>\n",
              "      <td>Yes</td>\n",
              "      <td>Yes</td>\n",
              "      <td>Yes</td>\n",
              "      <td>Yes</td>\n",
              "      <td>No</td>\n",
              "      <td>No</td>\n",
              "      <td>Two year</td>\n",
              "      <td>No</td>\n",
              "      <td>NaN</td>\n",
              "      <td>45.05</td>\n",
              "      <td>2560.1</td>\n",
              "      <td>0</td>\n",
              "    </tr>\n",
              "    <tr>\n",
              "      <th>59</th>\n",
              "      <td>5899</td>\n",
              "      <td>Female</td>\n",
              "      <td>0</td>\n",
              "      <td>Yes</td>\n",
              "      <td>Yes</td>\n",
              "      <td>33.0</td>\n",
              "      <td>Yes</td>\n",
              "      <td>Yes</td>\n",
              "      <td>No</td>\n",
              "      <td>No internet service</td>\n",
              "      <td>No internet service</td>\n",
              "      <td>No internet service</td>\n",
              "      <td>No internet service</td>\n",
              "      <td>No internet service</td>\n",
              "      <td>No internet service</td>\n",
              "      <td>One year</td>\n",
              "      <td>No</td>\n",
              "      <td>NaN</td>\n",
              "      <td>24.15</td>\n",
              "      <td>800.3</td>\n",
              "      <td>0</td>\n",
              "    </tr>\n",
              "    <tr>\n",
              "      <th>196</th>\n",
              "      <td>5036</td>\n",
              "      <td>Male</td>\n",
              "      <td>0</td>\n",
              "      <td>No</td>\n",
              "      <td>No</td>\n",
              "      <td>20.0</td>\n",
              "      <td>Yes</td>\n",
              "      <td>No</td>\n",
              "      <td>Fiber optic</td>\n",
              "      <td>No</td>\n",
              "      <td>No</td>\n",
              "      <td>No</td>\n",
              "      <td>No</td>\n",
              "      <td>Yes</td>\n",
              "      <td>No</td>\n",
              "      <td>Month-to-month</td>\n",
              "      <td>No</td>\n",
              "      <td>NaN</td>\n",
              "      <td>78.80</td>\n",
              "      <td>1641.3</td>\n",
              "      <td>0</td>\n",
              "    </tr>\n",
              "    <tr>\n",
              "      <th>247</th>\n",
              "      <td>704</td>\n",
              "      <td>Female</td>\n",
              "      <td>0</td>\n",
              "      <td>No</td>\n",
              "      <td>No</td>\n",
              "      <td>27.0</td>\n",
              "      <td>Yes</td>\n",
              "      <td>No</td>\n",
              "      <td>No</td>\n",
              "      <td>No internet service</td>\n",
              "      <td>No internet service</td>\n",
              "      <td>No internet service</td>\n",
              "      <td>No internet service</td>\n",
              "      <td>No internet service</td>\n",
              "      <td>No internet service</td>\n",
              "      <td>Month-to-month</td>\n",
              "      <td>Yes</td>\n",
              "      <td>NaN</td>\n",
              "      <td>20.55</td>\n",
              "      <td>33.6</td>\n",
              "      <td>0</td>\n",
              "    </tr>\n",
              "    <tr>\n",
              "      <th>337</th>\n",
              "      <td>5747</td>\n",
              "      <td>Female</td>\n",
              "      <td>0</td>\n",
              "      <td>No</td>\n",
              "      <td>Yes</td>\n",
              "      <td>10.0</td>\n",
              "      <td>Yes</td>\n",
              "      <td>Yes</td>\n",
              "      <td>Fiber optic</td>\n",
              "      <td>No</td>\n",
              "      <td>Yes</td>\n",
              "      <td>No</td>\n",
              "      <td>No</td>\n",
              "      <td>No</td>\n",
              "      <td>No</td>\n",
              "      <td>Month-to-month</td>\n",
              "      <td>Yes</td>\n",
              "      <td>NaN</td>\n",
              "      <td>81.00</td>\n",
              "      <td>818.05</td>\n",
              "      <td>1</td>\n",
              "    </tr>\n",
              "    <tr>\n",
              "      <th>...</th>\n",
              "      <td>...</td>\n",
              "      <td>...</td>\n",
              "      <td>...</td>\n",
              "      <td>...</td>\n",
              "      <td>...</td>\n",
              "      <td>...</td>\n",
              "      <td>...</td>\n",
              "      <td>...</td>\n",
              "      <td>...</td>\n",
              "      <td>...</td>\n",
              "      <td>...</td>\n",
              "      <td>...</td>\n",
              "      <td>...</td>\n",
              "      <td>...</td>\n",
              "      <td>...</td>\n",
              "      <td>...</td>\n",
              "      <td>...</td>\n",
              "      <td>...</td>\n",
              "      <td>...</td>\n",
              "      <td>...</td>\n",
              "      <td>...</td>\n",
              "    </tr>\n",
              "    <tr>\n",
              "      <th>5325</th>\n",
              "      <td>5150</td>\n",
              "      <td>Female</td>\n",
              "      <td>0</td>\n",
              "      <td>No</td>\n",
              "      <td>No</td>\n",
              "      <td>62.0</td>\n",
              "      <td>Yes</td>\n",
              "      <td>No</td>\n",
              "      <td>No</td>\n",
              "      <td>No internet service</td>\n",
              "      <td>No internet service</td>\n",
              "      <td>No internet service</td>\n",
              "      <td>No internet service</td>\n",
              "      <td>No internet service</td>\n",
              "      <td>No internet service</td>\n",
              "      <td>Two year</td>\n",
              "      <td>Yes</td>\n",
              "      <td>NaN</td>\n",
              "      <td>19.20</td>\n",
              "      <td>1123.65</td>\n",
              "      <td>0</td>\n",
              "    </tr>\n",
              "    <tr>\n",
              "      <th>5398</th>\n",
              "      <td>6004</td>\n",
              "      <td>Female</td>\n",
              "      <td>0</td>\n",
              "      <td>Yes</td>\n",
              "      <td>No</td>\n",
              "      <td>71.0</td>\n",
              "      <td>Yes</td>\n",
              "      <td>Yes</td>\n",
              "      <td>DSL</td>\n",
              "      <td>Yes</td>\n",
              "      <td>Yes</td>\n",
              "      <td>Yes</td>\n",
              "      <td>Yes</td>\n",
              "      <td>Yes</td>\n",
              "      <td>Yes</td>\n",
              "      <td>Two year</td>\n",
              "      <td>No</td>\n",
              "      <td>NaN</td>\n",
              "      <td>93.20</td>\n",
              "      <td>6506.15</td>\n",
              "      <td>0</td>\n",
              "    </tr>\n",
              "    <tr>\n",
              "      <th>5470</th>\n",
              "      <td>2276</td>\n",
              "      <td>Male</td>\n",
              "      <td>0</td>\n",
              "      <td>Yes</td>\n",
              "      <td>Yes</td>\n",
              "      <td>1.0</td>\n",
              "      <td>Yes</td>\n",
              "      <td>Yes</td>\n",
              "      <td>Fiber optic</td>\n",
              "      <td>No</td>\n",
              "      <td>No</td>\n",
              "      <td>No</td>\n",
              "      <td>No</td>\n",
              "      <td>No</td>\n",
              "      <td>No</td>\n",
              "      <td>Month-to-month</td>\n",
              "      <td>Yes</td>\n",
              "      <td>NaN</td>\n",
              "      <td>74.50</td>\n",
              "      <td>74.5</td>\n",
              "      <td>1</td>\n",
              "    </tr>\n",
              "    <tr>\n",
              "      <th>5484</th>\n",
              "      <td>6869</td>\n",
              "      <td>Male</td>\n",
              "      <td>0</td>\n",
              "      <td>No</td>\n",
              "      <td>No</td>\n",
              "      <td>13.0</td>\n",
              "      <td>Yes</td>\n",
              "      <td>No</td>\n",
              "      <td>Fiber optic</td>\n",
              "      <td>No</td>\n",
              "      <td>No</td>\n",
              "      <td>No</td>\n",
              "      <td>No</td>\n",
              "      <td>Yes</td>\n",
              "      <td>Yes</td>\n",
              "      <td>Month-to-month</td>\n",
              "      <td>Yes</td>\n",
              "      <td>NaN</td>\n",
              "      <td>91.10</td>\n",
              "      <td>1135.7</td>\n",
              "      <td>1</td>\n",
              "    </tr>\n",
              "    <tr>\n",
              "      <th>5542</th>\n",
              "      <td>1067</td>\n",
              "      <td>Male</td>\n",
              "      <td>0</td>\n",
              "      <td>Yes</td>\n",
              "      <td>No</td>\n",
              "      <td>47.0</td>\n",
              "      <td>Yes</td>\n",
              "      <td>No</td>\n",
              "      <td>No</td>\n",
              "      <td>No internet service</td>\n",
              "      <td>No internet service</td>\n",
              "      <td>No internet service</td>\n",
              "      <td>No internet service</td>\n",
              "      <td>No internet service</td>\n",
              "      <td>No internet service</td>\n",
              "      <td>Two year</td>\n",
              "      <td>No</td>\n",
              "      <td>NaN</td>\n",
              "      <td>19.65</td>\n",
              "      <td>973.1</td>\n",
              "      <td>0</td>\n",
              "    </tr>\n",
              "  </tbody>\n",
              "</table>\n",
              "<p>99 rows × 21 columns</p>\n",
              "</div>"
            ],
            "text/plain": [
              "        id  gender  seniorcitizen  ... monthlycharges totalcharges  churn\n",
              "0     4030  Female              0  ...          45.05       2560.1      0\n",
              "59    5899  Female              0  ...          24.15        800.3      0\n",
              "196   5036    Male              0  ...          78.80       1641.3      0\n",
              "247    704  Female              0  ...          20.55         33.6      0\n",
              "337   5747  Female              0  ...          81.00       818.05      1\n",
              "...    ...     ...            ...  ...            ...          ...    ...\n",
              "5325  5150  Female              0  ...          19.20      1123.65      0\n",
              "5398  6004  Female              0  ...          93.20      6506.15      0\n",
              "5470  2276    Male              0  ...          74.50         74.5      1\n",
              "5484  6869    Male              0  ...          91.10       1135.7      1\n",
              "5542  1067    Male              0  ...          19.65        973.1      0\n",
              "\n",
              "[99 rows x 21 columns]"
            ]
          },
          "metadata": {
            "tags": []
          },
          "execution_count": 153
        }
      ]
    },
    {
      "cell_type": "code",
      "metadata": {
        "id": "XtSrE8Z2EIsr",
        "outputId": "5f8e608a-6f1d-49c9-9ad1-8fc2715e627a",
        "colab": {
          "base_uri": "https://localhost:8080/"
        }
      },
      "source": [
        "#captura os index dos NaN numa lista\n",
        "l_index_na_pay = list(df_churn_train[df_churn_train['paymentmethod'].isna()].index)\n",
        "l_index_na_pay"
      ],
      "execution_count": 154,
      "outputs": [
        {
          "output_type": "execute_result",
          "data": {
            "text/plain": [
              "[0,\n",
              " 59,\n",
              " 196,\n",
              " 247,\n",
              " 337,\n",
              " 358,\n",
              " 390,\n",
              " 445,\n",
              " 486,\n",
              " 493,\n",
              " 529,\n",
              " 632,\n",
              " 658,\n",
              " 688,\n",
              " 689,\n",
              " 827,\n",
              " 1023,\n",
              " 1115,\n",
              " 1122,\n",
              " 1133,\n",
              " 1160,\n",
              " 1179,\n",
              " 1185,\n",
              " 1253,\n",
              " 1336,\n",
              " 1343,\n",
              " 1429,\n",
              " 1517,\n",
              " 1545,\n",
              " 1598,\n",
              " 1604,\n",
              " 1712,\n",
              " 1728,\n",
              " 1733,\n",
              " 1833,\n",
              " 1850,\n",
              " 1858,\n",
              " 1863,\n",
              " 1954,\n",
              " 2023,\n",
              " 2091,\n",
              " 2140,\n",
              " 2160,\n",
              " 2220,\n",
              " 2285,\n",
              " 2321,\n",
              " 2392,\n",
              " 2395,\n",
              " 2473,\n",
              " 2525,\n",
              " 2681,\n",
              " 2704,\n",
              " 2904,\n",
              " 2983,\n",
              " 3001,\n",
              " 3074,\n",
              " 3084,\n",
              " 3099,\n",
              " 3108,\n",
              " 3139,\n",
              " 3193,\n",
              " 3218,\n",
              " 3236,\n",
              " 3386,\n",
              " 3494,\n",
              " 3569,\n",
              " 3585,\n",
              " 3642,\n",
              " 3761,\n",
              " 3801,\n",
              " 3880,\n",
              " 3922,\n",
              " 4003,\n",
              " 4006,\n",
              " 4066,\n",
              " 4106,\n",
              " 4131,\n",
              " 4138,\n",
              " 4238,\n",
              " 4539,\n",
              " 4543,\n",
              " 4575,\n",
              " 4600,\n",
              " 4666,\n",
              " 4813,\n",
              " 4856,\n",
              " 4898,\n",
              " 4954,\n",
              " 5029,\n",
              " 5044,\n",
              " 5049,\n",
              " 5172,\n",
              " 5278,\n",
              " 5317,\n",
              " 5325,\n",
              " 5398,\n",
              " 5470,\n",
              " 5484,\n",
              " 5542]"
            ]
          },
          "metadata": {
            "tags": []
          },
          "execution_count": 154
        }
      ]
    },
    {
      "cell_type": "code",
      "metadata": {
        "id": "smzDDBT5GhcP",
        "outputId": "dc2cf86c-47da-43fd-9d63-680cad9b195f",
        "colab": {
          "base_uri": "https://localhost:8080/"
        }
      },
      "source": [
        "df_churn_train[['paymentmethod']].value_counts()"
      ],
      "execution_count": 155,
      "outputs": [
        {
          "output_type": "execute_result",
          "data": {
            "text/plain": [
              "paymentmethod            \n",
              "Electronic check             1887\n",
              "Mailed check                 1272\n",
              "Bank transfer (automatic)    1212\n",
              "Credit card (automatic)      1164\n",
              "dtype: int64"
            ]
          },
          "metadata": {
            "tags": []
          },
          "execution_count": 155
        }
      ]
    },
    {
      "cell_type": "code",
      "metadata": {
        "id": "sfVccuBmG14X",
        "outputId": "a54af150-2369-4d81-ee04-453bd406f040",
        "colab": {
          "base_uri": "https://localhost:8080/"
        }
      },
      "source": [
        "#paymentmethod com o gender\n",
        "df_churn_train[['paymentmethod', 'gender']].value_counts()"
      ],
      "execution_count": 156,
      "outputs": [
        {
          "output_type": "execute_result",
          "data": {
            "text/plain": [
              "paymentmethod              gender\n",
              "Electronic check           Male      963\n",
              "                           Female    924\n",
              "Mailed check               Male      657\n",
              "Bank transfer (automatic)  Female    637\n",
              "Mailed check               Female    615\n",
              "Credit card (automatic)    Male      605\n",
              "Bank transfer (automatic)  Male      575\n",
              "Credit card (automatic)    Female    559\n",
              "dtype: int64"
            ]
          },
          "metadata": {
            "tags": []
          },
          "execution_count": 156
        }
      ]
    },
    {
      "cell_type": "code",
      "metadata": {
        "id": "xIInE2MS09M8",
        "outputId": "bf5506d5-7fd3-40b0-d842-eaba277e986c",
        "colab": {
          "base_uri": "https://localhost:8080/"
        }
      },
      "source": [
        "605/(605+559)"
      ],
      "execution_count": 157,
      "outputs": [
        {
          "output_type": "execute_result",
          "data": {
            "text/plain": [
              "0.5197594501718213"
            ]
          },
          "metadata": {
            "tags": []
          },
          "execution_count": 157
        }
      ]
    },
    {
      "cell_type": "code",
      "metadata": {
        "id": "l_Fy-2aNGkBc",
        "outputId": "353ad9ea-229f-45ec-9bdf-e6c0802c4c21",
        "colab": {
          "base_uri": "https://localhost:8080/",
          "height": 391
        }
      },
      "source": [
        "#df de teste para tratar missing\n",
        "df_pay_trat_na = df_churn_train[['paymentmethod', 'gender']].copy()\n",
        "df_pay_trat_na\n"
      ],
      "execution_count": 158,
      "outputs": [
        {
          "output_type": "execute_result",
          "data": {
            "text/html": [
              "<div>\n",
              "<style scoped>\n",
              "    .dataframe tbody tr th:only-of-type {\n",
              "        vertical-align: middle;\n",
              "    }\n",
              "\n",
              "    .dataframe tbody tr th {\n",
              "        vertical-align: top;\n",
              "    }\n",
              "\n",
              "    .dataframe thead th {\n",
              "        text-align: right;\n",
              "    }\n",
              "</style>\n",
              "<table border=\"1\" class=\"dataframe\">\n",
              "  <thead>\n",
              "    <tr style=\"text-align: right;\">\n",
              "      <th></th>\n",
              "      <th>paymentmethod</th>\n",
              "      <th>gender</th>\n",
              "    </tr>\n",
              "  </thead>\n",
              "  <tbody>\n",
              "    <tr>\n",
              "      <th>0</th>\n",
              "      <td>NaN</td>\n",
              "      <td>Female</td>\n",
              "    </tr>\n",
              "    <tr>\n",
              "      <th>1</th>\n",
              "      <td>Mailed check</td>\n",
              "      <td>Male</td>\n",
              "    </tr>\n",
              "    <tr>\n",
              "      <th>2</th>\n",
              "      <td>Credit card (automatic)</td>\n",
              "      <td>Female</td>\n",
              "    </tr>\n",
              "    <tr>\n",
              "      <th>3</th>\n",
              "      <td>Bank transfer (automatic)</td>\n",
              "      <td>Female</td>\n",
              "    </tr>\n",
              "    <tr>\n",
              "      <th>4</th>\n",
              "      <td>Electronic check</td>\n",
              "      <td>Male</td>\n",
              "    </tr>\n",
              "    <tr>\n",
              "      <th>...</th>\n",
              "      <td>...</td>\n",
              "      <td>...</td>\n",
              "    </tr>\n",
              "    <tr>\n",
              "      <th>5629</th>\n",
              "      <td>Electronic check</td>\n",
              "      <td>Male</td>\n",
              "    </tr>\n",
              "    <tr>\n",
              "      <th>5630</th>\n",
              "      <td>Electronic check</td>\n",
              "      <td>Male</td>\n",
              "    </tr>\n",
              "    <tr>\n",
              "      <th>5631</th>\n",
              "      <td>Bank transfer (automatic)</td>\n",
              "      <td>Female</td>\n",
              "    </tr>\n",
              "    <tr>\n",
              "      <th>5632</th>\n",
              "      <td>Mailed check</td>\n",
              "      <td>Male</td>\n",
              "    </tr>\n",
              "    <tr>\n",
              "      <th>5633</th>\n",
              "      <td>Bank transfer (automatic)</td>\n",
              "      <td>Male</td>\n",
              "    </tr>\n",
              "  </tbody>\n",
              "</table>\n",
              "<p>5634 rows × 2 columns</p>\n",
              "</div>"
            ],
            "text/plain": [
              "                  paymentmethod  gender\n",
              "0                           NaN  Female\n",
              "1                  Mailed check    Male\n",
              "2       Credit card (automatic)  Female\n",
              "3     Bank transfer (automatic)  Female\n",
              "4              Electronic check    Male\n",
              "...                         ...     ...\n",
              "5629           Electronic check    Male\n",
              "5630           Electronic check    Male\n",
              "5631  Bank transfer (automatic)  Female\n",
              "5632               Mailed check    Male\n",
              "5633  Bank transfer (automatic)    Male\n",
              "\n",
              "[5634 rows x 2 columns]"
            ]
          },
          "metadata": {
            "tags": []
          },
          "execution_count": 158
        }
      ]
    },
    {
      "cell_type": "code",
      "metadata": {
        "id": "DDXT29__H88s",
        "outputId": "627c5a43-0c1c-4a7b-e83d-3715fc6f5281",
        "colab": {
          "base_uri": "https://localhost:8080/"
        }
      },
      "source": [
        "l_index_pay = list(df_pay_trat_na[df_pay_trat_na['paymentmethod'].isna()].index)\n",
        "l_index_pay"
      ],
      "execution_count": 159,
      "outputs": [
        {
          "output_type": "execute_result",
          "data": {
            "text/plain": [
              "[0,\n",
              " 59,\n",
              " 196,\n",
              " 247,\n",
              " 337,\n",
              " 358,\n",
              " 390,\n",
              " 445,\n",
              " 486,\n",
              " 493,\n",
              " 529,\n",
              " 632,\n",
              " 658,\n",
              " 688,\n",
              " 689,\n",
              " 827,\n",
              " 1023,\n",
              " 1115,\n",
              " 1122,\n",
              " 1133,\n",
              " 1160,\n",
              " 1179,\n",
              " 1185,\n",
              " 1253,\n",
              " 1336,\n",
              " 1343,\n",
              " 1429,\n",
              " 1517,\n",
              " 1545,\n",
              " 1598,\n",
              " 1604,\n",
              " 1712,\n",
              " 1728,\n",
              " 1733,\n",
              " 1833,\n",
              " 1850,\n",
              " 1858,\n",
              " 1863,\n",
              " 1954,\n",
              " 2023,\n",
              " 2091,\n",
              " 2140,\n",
              " 2160,\n",
              " 2220,\n",
              " 2285,\n",
              " 2321,\n",
              " 2392,\n",
              " 2395,\n",
              " 2473,\n",
              " 2525,\n",
              " 2681,\n",
              " 2704,\n",
              " 2904,\n",
              " 2983,\n",
              " 3001,\n",
              " 3074,\n",
              " 3084,\n",
              " 3099,\n",
              " 3108,\n",
              " 3139,\n",
              " 3193,\n",
              " 3218,\n",
              " 3236,\n",
              " 3386,\n",
              " 3494,\n",
              " 3569,\n",
              " 3585,\n",
              " 3642,\n",
              " 3761,\n",
              " 3801,\n",
              " 3880,\n",
              " 3922,\n",
              " 4003,\n",
              " 4006,\n",
              " 4066,\n",
              " 4106,\n",
              " 4131,\n",
              " 4138,\n",
              " 4238,\n",
              " 4539,\n",
              " 4543,\n",
              " 4575,\n",
              " 4600,\n",
              " 4666,\n",
              " 4813,\n",
              " 4856,\n",
              " 4898,\n",
              " 4954,\n",
              " 5029,\n",
              " 5044,\n",
              " 5049,\n",
              " 5172,\n",
              " 5278,\n",
              " 5317,\n",
              " 5325,\n",
              " 5398,\n",
              " 5470,\n",
              " 5484,\n",
              " 5542]"
            ]
          },
          "metadata": {
            "tags": []
          },
          "execution_count": 159
        }
      ]
    },
    {
      "cell_type": "code",
      "metadata": {
        "id": "pvMiszhrQ0Pf",
        "outputId": "509d18cc-155b-46c3-8203-0aee1891f91f",
        "colab": {
          "base_uri": "https://localhost:8080/",
          "height": 391
        }
      },
      "source": [
        "df_pay_trat_na[df_pay_trat_na['paymentmethod'].isna()]"
      ],
      "execution_count": 160,
      "outputs": [
        {
          "output_type": "execute_result",
          "data": {
            "text/html": [
              "<div>\n",
              "<style scoped>\n",
              "    .dataframe tbody tr th:only-of-type {\n",
              "        vertical-align: middle;\n",
              "    }\n",
              "\n",
              "    .dataframe tbody tr th {\n",
              "        vertical-align: top;\n",
              "    }\n",
              "\n",
              "    .dataframe thead th {\n",
              "        text-align: right;\n",
              "    }\n",
              "</style>\n",
              "<table border=\"1\" class=\"dataframe\">\n",
              "  <thead>\n",
              "    <tr style=\"text-align: right;\">\n",
              "      <th></th>\n",
              "      <th>paymentmethod</th>\n",
              "      <th>gender</th>\n",
              "    </tr>\n",
              "  </thead>\n",
              "  <tbody>\n",
              "    <tr>\n",
              "      <th>0</th>\n",
              "      <td>NaN</td>\n",
              "      <td>Female</td>\n",
              "    </tr>\n",
              "    <tr>\n",
              "      <th>59</th>\n",
              "      <td>NaN</td>\n",
              "      <td>Female</td>\n",
              "    </tr>\n",
              "    <tr>\n",
              "      <th>196</th>\n",
              "      <td>NaN</td>\n",
              "      <td>Male</td>\n",
              "    </tr>\n",
              "    <tr>\n",
              "      <th>247</th>\n",
              "      <td>NaN</td>\n",
              "      <td>Female</td>\n",
              "    </tr>\n",
              "    <tr>\n",
              "      <th>337</th>\n",
              "      <td>NaN</td>\n",
              "      <td>Female</td>\n",
              "    </tr>\n",
              "    <tr>\n",
              "      <th>...</th>\n",
              "      <td>...</td>\n",
              "      <td>...</td>\n",
              "    </tr>\n",
              "    <tr>\n",
              "      <th>5325</th>\n",
              "      <td>NaN</td>\n",
              "      <td>Female</td>\n",
              "    </tr>\n",
              "    <tr>\n",
              "      <th>5398</th>\n",
              "      <td>NaN</td>\n",
              "      <td>Female</td>\n",
              "    </tr>\n",
              "    <tr>\n",
              "      <th>5470</th>\n",
              "      <td>NaN</td>\n",
              "      <td>Male</td>\n",
              "    </tr>\n",
              "    <tr>\n",
              "      <th>5484</th>\n",
              "      <td>NaN</td>\n",
              "      <td>Male</td>\n",
              "    </tr>\n",
              "    <tr>\n",
              "      <th>5542</th>\n",
              "      <td>NaN</td>\n",
              "      <td>Male</td>\n",
              "    </tr>\n",
              "  </tbody>\n",
              "</table>\n",
              "<p>99 rows × 2 columns</p>\n",
              "</div>"
            ],
            "text/plain": [
              "     paymentmethod  gender\n",
              "0              NaN  Female\n",
              "59             NaN  Female\n",
              "196            NaN    Male\n",
              "247            NaN  Female\n",
              "337            NaN  Female\n",
              "...            ...     ...\n",
              "5325           NaN  Female\n",
              "5398           NaN  Female\n",
              "5470           NaN    Male\n",
              "5484           NaN    Male\n",
              "5542           NaN    Male\n",
              "\n",
              "[99 rows x 2 columns]"
            ]
          },
          "metadata": {
            "tags": []
          },
          "execution_count": 160
        }
      ]
    },
    {
      "cell_type": "code",
      "metadata": {
        "id": "F4yhov5OSPh0",
        "outputId": "9a6e4012-b9b6-47fb-e12c-12d0654e5bbb",
        "colab": {
          "base_uri": "https://localhost:8080/",
          "height": 35
        }
      },
      "source": [
        "df_pay_trat_na['gender'][1]"
      ],
      "execution_count": 161,
      "outputs": [
        {
          "output_type": "execute_result",
          "data": {
            "application/vnd.google.colaboratory.intrinsic+json": {
              "type": "string"
            },
            "text/plain": [
              "'Male'"
            ]
          },
          "metadata": {
            "tags": []
          },
          "execution_count": 161
        }
      ]
    },
    {
      "cell_type": "code",
      "metadata": {
        "id": "MIIYOBdFXrB2",
        "outputId": "dcf14dec-d35c-42b8-da71-ac9df6698271",
        "colab": {
          "base_uri": "https://localhost:8080/",
          "height": 35
        }
      },
      "source": [
        "df_pay_trat_na['paymentmethod'][1]"
      ],
      "execution_count": 162,
      "outputs": [
        {
          "output_type": "execute_result",
          "data": {
            "application/vnd.google.colaboratory.intrinsic+json": {
              "type": "string"
            },
            "text/plain": [
              "'Mailed check'"
            ]
          },
          "metadata": {
            "tags": []
          },
          "execution_count": 162
        }
      ]
    },
    {
      "cell_type": "code",
      "metadata": {
        "id": "MCDqz6SjFU_v",
        "outputId": "571d5978-65a1-4615-fa1b-7af743eed423",
        "colab": {
          "base_uri": "https://localhost:8080/"
        }
      },
      "source": [
        "df_pay_trat_na['paymentmethod'][0]"
      ],
      "execution_count": 163,
      "outputs": [
        {
          "output_type": "execute_result",
          "data": {
            "text/plain": [
              "nan"
            ]
          },
          "metadata": {
            "tags": []
          },
          "execution_count": 163
        }
      ]
    },
    {
      "cell_type": "code",
      "metadata": {
        "id": "XXMOHUiWeAI8"
      },
      "source": [
        ""
      ],
      "execution_count": null,
      "outputs": []
    },
    {
      "cell_type": "code",
      "metadata": {
        "id": "pGS_757BeAS4",
        "outputId": "5a4dd670-26a9-4bbb-8099-dccd658aa164",
        "colab": {
          "base_uri": "https://localhost:8080/"
        }
      },
      "source": [
        "#lista isna df_churn_train\n",
        "l_index_pay_c = list(df_churn_train[df_churn_train['paymentmethod'].isna()].index)\n",
        "l_index_pay_c"
      ],
      "execution_count": 164,
      "outputs": [
        {
          "output_type": "execute_result",
          "data": {
            "text/plain": [
              "[0,\n",
              " 59,\n",
              " 196,\n",
              " 247,\n",
              " 337,\n",
              " 358,\n",
              " 390,\n",
              " 445,\n",
              " 486,\n",
              " 493,\n",
              " 529,\n",
              " 632,\n",
              " 658,\n",
              " 688,\n",
              " 689,\n",
              " 827,\n",
              " 1023,\n",
              " 1115,\n",
              " 1122,\n",
              " 1133,\n",
              " 1160,\n",
              " 1179,\n",
              " 1185,\n",
              " 1253,\n",
              " 1336,\n",
              " 1343,\n",
              " 1429,\n",
              " 1517,\n",
              " 1545,\n",
              " 1598,\n",
              " 1604,\n",
              " 1712,\n",
              " 1728,\n",
              " 1733,\n",
              " 1833,\n",
              " 1850,\n",
              " 1858,\n",
              " 1863,\n",
              " 1954,\n",
              " 2023,\n",
              " 2091,\n",
              " 2140,\n",
              " 2160,\n",
              " 2220,\n",
              " 2285,\n",
              " 2321,\n",
              " 2392,\n",
              " 2395,\n",
              " 2473,\n",
              " 2525,\n",
              " 2681,\n",
              " 2704,\n",
              " 2904,\n",
              " 2983,\n",
              " 3001,\n",
              " 3074,\n",
              " 3084,\n",
              " 3099,\n",
              " 3108,\n",
              " 3139,\n",
              " 3193,\n",
              " 3218,\n",
              " 3236,\n",
              " 3386,\n",
              " 3494,\n",
              " 3569,\n",
              " 3585,\n",
              " 3642,\n",
              " 3761,\n",
              " 3801,\n",
              " 3880,\n",
              " 3922,\n",
              " 4003,\n",
              " 4006,\n",
              " 4066,\n",
              " 4106,\n",
              " 4131,\n",
              " 4138,\n",
              " 4238,\n",
              " 4539,\n",
              " 4543,\n",
              " 4575,\n",
              " 4600,\n",
              " 4666,\n",
              " 4813,\n",
              " 4856,\n",
              " 4898,\n",
              " 4954,\n",
              " 5029,\n",
              " 5044,\n",
              " 5049,\n",
              " 5172,\n",
              " 5278,\n",
              " 5317,\n",
              " 5325,\n",
              " 5398,\n",
              " 5470,\n",
              " 5484,\n",
              " 5542]"
            ]
          },
          "metadata": {
            "tags": []
          },
          "execution_count": 164
        }
      ]
    },
    {
      "cell_type": "code",
      "metadata": {
        "id": "98aEn-_peAQM"
      },
      "source": [
        ""
      ],
      "execution_count": null,
      "outputs": []
    },
    {
      "cell_type": "code",
      "metadata": {
        "id": "kVbDT-iseANA",
        "outputId": "5f309e8d-7286-4b0d-97bb-30df6bad2fad",
        "colab": {
          "base_uri": "https://localhost:8080/"
        }
      },
      "source": [
        "df_pay_trat_na[['paymentmethod', 'gender']].value_counts()"
      ],
      "execution_count": 165,
      "outputs": [
        {
          "output_type": "execute_result",
          "data": {
            "text/plain": [
              "paymentmethod              gender\n",
              "Electronic check           Male      963\n",
              "                           Female    924\n",
              "Mailed check               Male      657\n",
              "Bank transfer (automatic)  Female    637\n",
              "Mailed check               Female    615\n",
              "Credit card (automatic)    Male      605\n",
              "Bank transfer (automatic)  Male      575\n",
              "Credit card (automatic)    Female    559\n",
              "dtype: int64"
            ]
          },
          "metadata": {
            "tags": []
          },
          "execution_count": 165
        }
      ]
    },
    {
      "cell_type": "code",
      "metadata": {
        "id": "Nv2Tba4DH9F6"
      },
      "source": [
        "#tratamento da feature dependents no df_pay_trat_na\n",
        "b = 0\n",
        "for c in l_index_pay:\n",
        "    b = b + 1  \n",
        "    if b <= 32:\n",
        "        if df_pay_trat_na['gender'][c] == 'Female':\n",
        "            df_pay_trat_na['paymentmethod'][c] = 'Electronic check'\n",
        "        else:\n",
        "            df_pay_trat_na['paymentmethod'][c] = 'Electronic check'\n",
        "    if b <= 54:\n",
        "         if df_pay_trat_na['gender'][c] == 'Female':\n",
        "            df_pay_trat_na['paymentmethod'][c] = 'Mailed check'\n",
        "         else:\n",
        "            df_pay_trat_na['paymentmethod'][c] = 'Mailed check'\n",
        "    if b <= 77:\n",
        "         if df_pay_trat_na['gender'][c] == 'Female':\n",
        "            df_pay_trat_na['paymentmethod'][c] = 'Credit card (automatic)'\n",
        "         else:\n",
        "            df_pay_trat_na['paymentmethod'][c] = 'Credit card (automatic)'\n",
        "    if b <= 99:\n",
        "         if df_pay_trat_na['gender'][c] == 'Female':\n",
        "            df_pay_trat_na['paymentmethod'][c] = 'Bank transfer (automatic)'\n",
        "         else:\n",
        "            df_pay_trat_na['paymentmethod'][c] = 'Bank transfer (automatic)'\n",
        "\n",
        "\n",
        "   "
      ],
      "execution_count": 166,
      "outputs": []
    },
    {
      "cell_type": "code",
      "metadata": {
        "id": "ubgqOK3pm3u4",
        "outputId": "65c8e41a-020a-43ce-a89e-8411d29d13ff",
        "colab": {
          "base_uri": "https://localhost:8080/"
        }
      },
      "source": [
        "df_pay_trat_na[['paymentmethod', 'gender']].value_counts()"
      ],
      "execution_count": 167,
      "outputs": [
        {
          "output_type": "execute_result",
          "data": {
            "text/plain": [
              "paymentmethod              gender\n",
              "Electronic check           Male      963\n",
              "                           Female    924\n",
              "Bank transfer (automatic)  Female    687\n",
              "Mailed check               Male      657\n",
              "Bank transfer (automatic)  Male      624\n",
              "Mailed check               Female    615\n",
              "Credit card (automatic)    Male      605\n",
              "                           Female    559\n",
              "dtype: int64"
            ]
          },
          "metadata": {
            "tags": []
          },
          "execution_count": 167
        }
      ]
    },
    {
      "cell_type": "code",
      "metadata": {
        "id": "ePRU3d-1oClH",
        "outputId": "e16a07fc-3eb9-4132-c252-18e5b99e88e0",
        "colab": {
          "base_uri": "https://localhost:8080/"
        }
      },
      "source": [
        "l_index_pay_c1 = list(df_churn_train[df_churn_train['paymentmethod'].isna()].index)\n",
        "l_index_pay_c1"
      ],
      "execution_count": 168,
      "outputs": [
        {
          "output_type": "execute_result",
          "data": {
            "text/plain": [
              "[0,\n",
              " 59,\n",
              " 196,\n",
              " 247,\n",
              " 337,\n",
              " 358,\n",
              " 390,\n",
              " 445,\n",
              " 486,\n",
              " 493,\n",
              " 529,\n",
              " 632,\n",
              " 658,\n",
              " 688,\n",
              " 689,\n",
              " 827,\n",
              " 1023,\n",
              " 1115,\n",
              " 1122,\n",
              " 1133,\n",
              " 1160,\n",
              " 1179,\n",
              " 1185,\n",
              " 1253,\n",
              " 1336,\n",
              " 1343,\n",
              " 1429,\n",
              " 1517,\n",
              " 1545,\n",
              " 1598,\n",
              " 1604,\n",
              " 1712,\n",
              " 1728,\n",
              " 1733,\n",
              " 1833,\n",
              " 1850,\n",
              " 1858,\n",
              " 1863,\n",
              " 1954,\n",
              " 2023,\n",
              " 2091,\n",
              " 2140,\n",
              " 2160,\n",
              " 2220,\n",
              " 2285,\n",
              " 2321,\n",
              " 2392,\n",
              " 2395,\n",
              " 2473,\n",
              " 2525,\n",
              " 2681,\n",
              " 2704,\n",
              " 2904,\n",
              " 2983,\n",
              " 3001,\n",
              " 3074,\n",
              " 3084,\n",
              " 3099,\n",
              " 3108,\n",
              " 3139,\n",
              " 3193,\n",
              " 3218,\n",
              " 3236,\n",
              " 3386,\n",
              " 3494,\n",
              " 3569,\n",
              " 3585,\n",
              " 3642,\n",
              " 3761,\n",
              " 3801,\n",
              " 3880,\n",
              " 3922,\n",
              " 4003,\n",
              " 4006,\n",
              " 4066,\n",
              " 4106,\n",
              " 4131,\n",
              " 4138,\n",
              " 4238,\n",
              " 4539,\n",
              " 4543,\n",
              " 4575,\n",
              " 4600,\n",
              " 4666,\n",
              " 4813,\n",
              " 4856,\n",
              " 4898,\n",
              " 4954,\n",
              " 5029,\n",
              " 5044,\n",
              " 5049,\n",
              " 5172,\n",
              " 5278,\n",
              " 5317,\n",
              " 5325,\n",
              " 5398,\n",
              " 5470,\n",
              " 5484,\n",
              " 5542]"
            ]
          },
          "metadata": {
            "tags": []
          },
          "execution_count": 168
        }
      ]
    },
    {
      "cell_type": "code",
      "metadata": {
        "id": "sW-aO7mkokQv",
        "outputId": "2bbd20dd-99a6-4b98-809f-862eea6f42ff",
        "colab": {
          "base_uri": "https://localhost:8080/",
          "height": 391
        }
      },
      "source": [
        "df_churn_train[['paymentmethod', 'gender']].tail(94)"
      ],
      "execution_count": 169,
      "outputs": [
        {
          "output_type": "execute_result",
          "data": {
            "text/html": [
              "<div>\n",
              "<style scoped>\n",
              "    .dataframe tbody tr th:only-of-type {\n",
              "        vertical-align: middle;\n",
              "    }\n",
              "\n",
              "    .dataframe tbody tr th {\n",
              "        vertical-align: top;\n",
              "    }\n",
              "\n",
              "    .dataframe thead th {\n",
              "        text-align: right;\n",
              "    }\n",
              "</style>\n",
              "<table border=\"1\" class=\"dataframe\">\n",
              "  <thead>\n",
              "    <tr style=\"text-align: right;\">\n",
              "      <th></th>\n",
              "      <th>paymentmethod</th>\n",
              "      <th>gender</th>\n",
              "    </tr>\n",
              "  </thead>\n",
              "  <tbody>\n",
              "    <tr>\n",
              "      <th>5540</th>\n",
              "      <td>Bank transfer (automatic)</td>\n",
              "      <td>Female</td>\n",
              "    </tr>\n",
              "    <tr>\n",
              "      <th>5541</th>\n",
              "      <td>Credit card (automatic)</td>\n",
              "      <td>Female</td>\n",
              "    </tr>\n",
              "    <tr>\n",
              "      <th>5542</th>\n",
              "      <td>NaN</td>\n",
              "      <td>Male</td>\n",
              "    </tr>\n",
              "    <tr>\n",
              "      <th>5543</th>\n",
              "      <td>Credit card (automatic)</td>\n",
              "      <td>Female</td>\n",
              "    </tr>\n",
              "    <tr>\n",
              "      <th>5544</th>\n",
              "      <td>Bank transfer (automatic)</td>\n",
              "      <td>Male</td>\n",
              "    </tr>\n",
              "    <tr>\n",
              "      <th>...</th>\n",
              "      <td>...</td>\n",
              "      <td>...</td>\n",
              "    </tr>\n",
              "    <tr>\n",
              "      <th>5629</th>\n",
              "      <td>Electronic check</td>\n",
              "      <td>Male</td>\n",
              "    </tr>\n",
              "    <tr>\n",
              "      <th>5630</th>\n",
              "      <td>Electronic check</td>\n",
              "      <td>Male</td>\n",
              "    </tr>\n",
              "    <tr>\n",
              "      <th>5631</th>\n",
              "      <td>Bank transfer (automatic)</td>\n",
              "      <td>Female</td>\n",
              "    </tr>\n",
              "    <tr>\n",
              "      <th>5632</th>\n",
              "      <td>Mailed check</td>\n",
              "      <td>Male</td>\n",
              "    </tr>\n",
              "    <tr>\n",
              "      <th>5633</th>\n",
              "      <td>Bank transfer (automatic)</td>\n",
              "      <td>Male</td>\n",
              "    </tr>\n",
              "  </tbody>\n",
              "</table>\n",
              "<p>94 rows × 2 columns</p>\n",
              "</div>"
            ],
            "text/plain": [
              "                  paymentmethod  gender\n",
              "5540  Bank transfer (automatic)  Female\n",
              "5541    Credit card (automatic)  Female\n",
              "5542                        NaN    Male\n",
              "5543    Credit card (automatic)  Female\n",
              "5544  Bank transfer (automatic)    Male\n",
              "...                         ...     ...\n",
              "5629           Electronic check    Male\n",
              "5630           Electronic check    Male\n",
              "5631  Bank transfer (automatic)  Female\n",
              "5632               Mailed check    Male\n",
              "5633  Bank transfer (automatic)    Male\n",
              "\n",
              "[94 rows x 2 columns]"
            ]
          },
          "metadata": {
            "tags": []
          },
          "execution_count": 169
        }
      ]
    },
    {
      "cell_type": "code",
      "metadata": {
        "id": "hnokA3q8atbh",
        "outputId": "30734858-3be6-4e2b-f19c-52b2babc316a",
        "colab": {
          "base_uri": "https://localhost:8080/"
        }
      },
      "source": [
        "#resultado do preenchimento\n",
        "df_pay_trat_na.isna().sum()"
      ],
      "execution_count": 170,
      "outputs": [
        {
          "output_type": "execute_result",
          "data": {
            "text/plain": [
              "paymentmethod    0\n",
              "gender           0\n",
              "dtype: int64"
            ]
          },
          "metadata": {
            "tags": []
          },
          "execution_count": 170
        }
      ]
    },
    {
      "cell_type": "code",
      "metadata": {
        "id": "p-2t_-0vedko",
        "outputId": "f6ae23fa-88f9-4097-a91e-0086c7aee6bf",
        "colab": {
          "base_uri": "https://localhost:8080/"
        }
      },
      "source": [
        "df_churn_train.isna().sum()"
      ],
      "execution_count": 171,
      "outputs": [
        {
          "output_type": "execute_result",
          "data": {
            "text/plain": [
              "id                   0\n",
              "gender               0\n",
              "seniorcitizen        0\n",
              "partner              0\n",
              "dependents           0\n",
              "tenure               0\n",
              "phoneservice         0\n",
              "multiplelines        0\n",
              "internetservice      0\n",
              "onlinesecurity       0\n",
              "onlinebackup         0\n",
              "deviceprotection     0\n",
              "techsupport          0\n",
              "streamingtv          0\n",
              "streamingmovies      0\n",
              "contract             0\n",
              "paperlessbilling     0\n",
              "paymentmethod       99\n",
              "monthlycharges       0\n",
              "totalcharges         0\n",
              "churn                0\n",
              "dtype: int64"
            ]
          },
          "metadata": {
            "tags": []
          },
          "execution_count": 171
        }
      ]
    },
    {
      "cell_type": "code",
      "metadata": {
        "id": "6l8nmen7eds_"
      },
      "source": [
        ""
      ],
      "execution_count": null,
      "outputs": []
    },
    {
      "cell_type": "code",
      "metadata": {
        "id": "csxRIAyped3n"
      },
      "source": [
        ""
      ],
      "execution_count": null,
      "outputs": []
    },
    {
      "cell_type": "code",
      "metadata": {
        "id": "Jesf_RpLH9J9",
        "outputId": "f3fab071-6d73-45ef-f880-2c132d7f4602",
        "colab": {
          "base_uri": "https://localhost:8080/",
          "height": 35
        }
      },
      "source": [
        "df_pay_trat_na['paymentmethod'][0]"
      ],
      "execution_count": 172,
      "outputs": [
        {
          "output_type": "execute_result",
          "data": {
            "application/vnd.google.colaboratory.intrinsic+json": {
              "type": "string"
            },
            "text/plain": [
              "'Bank transfer (automatic)'"
            ]
          },
          "metadata": {
            "tags": []
          },
          "execution_count": 172
        }
      ]
    },
    {
      "cell_type": "code",
      "metadata": {
        "id": "jtyE9SN4H9NN",
        "outputId": "9bd7297f-85d1-4471-dbd5-01019f9ee0eb",
        "colab": {
          "base_uri": "https://localhost:8080/",
          "height": 47
        }
      },
      "source": [
        "df_pay_trat_na[df_pay_trat_na['paymentmethod'].isna()]"
      ],
      "execution_count": 173,
      "outputs": [
        {
          "output_type": "execute_result",
          "data": {
            "text/html": [
              "<div>\n",
              "<style scoped>\n",
              "    .dataframe tbody tr th:only-of-type {\n",
              "        vertical-align: middle;\n",
              "    }\n",
              "\n",
              "    .dataframe tbody tr th {\n",
              "        vertical-align: top;\n",
              "    }\n",
              "\n",
              "    .dataframe thead th {\n",
              "        text-align: right;\n",
              "    }\n",
              "</style>\n",
              "<table border=\"1\" class=\"dataframe\">\n",
              "  <thead>\n",
              "    <tr style=\"text-align: right;\">\n",
              "      <th></th>\n",
              "      <th>paymentmethod</th>\n",
              "      <th>gender</th>\n",
              "    </tr>\n",
              "  </thead>\n",
              "  <tbody>\n",
              "  </tbody>\n",
              "</table>\n",
              "</div>"
            ],
            "text/plain": [
              "Empty DataFrame\n",
              "Columns: [paymentmethod, gender]\n",
              "Index: []"
            ]
          },
          "metadata": {
            "tags": []
          },
          "execution_count": 173
        }
      ]
    },
    {
      "cell_type": "code",
      "metadata": {
        "id": "iJ-QIA1pCXJL",
        "outputId": "b60157b2-00de-4b0b-94f1-a9d89bb970af",
        "colab": {
          "base_uri": "https://localhost:8080/"
        }
      },
      "source": [
        "df_pay_trat_na.value_counts()"
      ],
      "execution_count": 174,
      "outputs": [
        {
          "output_type": "execute_result",
          "data": {
            "text/plain": [
              "paymentmethod              gender\n",
              "Electronic check           Male      963\n",
              "                           Female    924\n",
              "Bank transfer (automatic)  Female    687\n",
              "Mailed check               Male      657\n",
              "Bank transfer (automatic)  Male      624\n",
              "Mailed check               Female    615\n",
              "Credit card (automatic)    Male      605\n",
              "                           Female    559\n",
              "dtype: int64"
            ]
          },
          "metadata": {
            "tags": []
          },
          "execution_count": 174
        }
      ]
    },
    {
      "cell_type": "code",
      "metadata": {
        "id": "hAr9nBA4dAfc",
        "outputId": "34344962-2072-4a56-e421-95ddb0834039",
        "colab": {
          "base_uri": "https://localhost:8080/"
        }
      },
      "source": [
        "df_churn_train.isna().sum()"
      ],
      "execution_count": 175,
      "outputs": [
        {
          "output_type": "execute_result",
          "data": {
            "text/plain": [
              "id                   0\n",
              "gender               0\n",
              "seniorcitizen        0\n",
              "partner              0\n",
              "dependents           0\n",
              "tenure               0\n",
              "phoneservice         0\n",
              "multiplelines        0\n",
              "internetservice      0\n",
              "onlinesecurity       0\n",
              "onlinebackup         0\n",
              "deviceprotection     0\n",
              "techsupport          0\n",
              "streamingtv          0\n",
              "streamingmovies      0\n",
              "contract             0\n",
              "paperlessbilling     0\n",
              "paymentmethod       99\n",
              "monthlycharges       0\n",
              "totalcharges         0\n",
              "churn                0\n",
              "dtype: int64"
            ]
          },
          "metadata": {
            "tags": []
          },
          "execution_count": 175
        }
      ]
    },
    {
      "cell_type": "code",
      "metadata": {
        "id": "FQ03kYlYdAlx"
      },
      "source": [
        ""
      ],
      "execution_count": null,
      "outputs": []
    },
    {
      "cell_type": "code",
      "metadata": {
        "id": "8wt2iryAdAjn",
        "outputId": "a6345ca4-41da-4fa1-b906-bcaab02838b6",
        "colab": {
          "base_uri": "https://localhost:8080/"
        }
      },
      "source": [
        "#lista isna df_churn_train\n",
        "l_index_pay_c = list(df_churn_train[df_churn_train['paymentmethod'].isna()].index)\n",
        "l_index_pay_c"
      ],
      "execution_count": 176,
      "outputs": [
        {
          "output_type": "execute_result",
          "data": {
            "text/plain": [
              "[0,\n",
              " 59,\n",
              " 196,\n",
              " 247,\n",
              " 337,\n",
              " 358,\n",
              " 390,\n",
              " 445,\n",
              " 486,\n",
              " 493,\n",
              " 529,\n",
              " 632,\n",
              " 658,\n",
              " 688,\n",
              " 689,\n",
              " 827,\n",
              " 1023,\n",
              " 1115,\n",
              " 1122,\n",
              " 1133,\n",
              " 1160,\n",
              " 1179,\n",
              " 1185,\n",
              " 1253,\n",
              " 1336,\n",
              " 1343,\n",
              " 1429,\n",
              " 1517,\n",
              " 1545,\n",
              " 1598,\n",
              " 1604,\n",
              " 1712,\n",
              " 1728,\n",
              " 1733,\n",
              " 1833,\n",
              " 1850,\n",
              " 1858,\n",
              " 1863,\n",
              " 1954,\n",
              " 2023,\n",
              " 2091,\n",
              " 2140,\n",
              " 2160,\n",
              " 2220,\n",
              " 2285,\n",
              " 2321,\n",
              " 2392,\n",
              " 2395,\n",
              " 2473,\n",
              " 2525,\n",
              " 2681,\n",
              " 2704,\n",
              " 2904,\n",
              " 2983,\n",
              " 3001,\n",
              " 3074,\n",
              " 3084,\n",
              " 3099,\n",
              " 3108,\n",
              " 3139,\n",
              " 3193,\n",
              " 3218,\n",
              " 3236,\n",
              " 3386,\n",
              " 3494,\n",
              " 3569,\n",
              " 3585,\n",
              " 3642,\n",
              " 3761,\n",
              " 3801,\n",
              " 3880,\n",
              " 3922,\n",
              " 4003,\n",
              " 4006,\n",
              " 4066,\n",
              " 4106,\n",
              " 4131,\n",
              " 4138,\n",
              " 4238,\n",
              " 4539,\n",
              " 4543,\n",
              " 4575,\n",
              " 4600,\n",
              " 4666,\n",
              " 4813,\n",
              " 4856,\n",
              " 4898,\n",
              " 4954,\n",
              " 5029,\n",
              " 5044,\n",
              " 5049,\n",
              " 5172,\n",
              " 5278,\n",
              " 5317,\n",
              " 5325,\n",
              " 5398,\n",
              " 5470,\n",
              " 5484,\n",
              " 5542]"
            ]
          },
          "metadata": {
            "tags": []
          },
          "execution_count": 176
        }
      ]
    },
    {
      "cell_type": "code",
      "metadata": {
        "id": "gM_yLcr7H9Rq",
        "outputId": "ef87b7a6-bbf3-419d-ed1c-e0e3a74f0578",
        "colab": {
          "base_uri": "https://localhost:8080/"
        }
      },
      "source": [
        "#tratamento da feature dependents no df_churn_train\n",
        "b = 0\n",
        "for c in l_index_pay_c:\n",
        "    b = b + 1  \n",
        "    if b <= 32:\n",
        "        if df_churn_train['gender'][c] == 'Female':\n",
        "            df_churn_train['paymentmethod'][c] = 'Electronic check'\n",
        "        else:\n",
        "            df_churn_train['paymentmethod'][c] = 'Electronic check'\n",
        "    if b <= 54:\n",
        "         if df_churn_train['gender'][c] == 'Female':\n",
        "            df_churn_train['paymentmethod'][c] = 'Mailed check'\n",
        "         else:\n",
        "            df_churn_train['paymentmethod'][c] = 'Mailed check'\n",
        "    if b <= 77:\n",
        "         if df_churn_train['gender'][c] == 'Female':\n",
        "            df_churn_train['paymentmethod'][c] = 'Credit card (automatic)'\n",
        "         else:\n",
        "            df_churn_train['paymentmethod'][c] = 'Credit card (automatic)'\n",
        "    if b <= 99:\n",
        "         if df_churn_train['gender'][c] == 'Female':\n",
        "            df_churn_train['paymentmethod'][c] = 'Bank transfer (automatic)'\n",
        "         else:\n",
        "            df_churn_train['paymentmethod'][c] = 'Bank transfer (automatic)'\n",
        "\n",
        "\n"
      ],
      "execution_count": 177,
      "outputs": [
        {
          "output_type": "stream",
          "text": [
            "/usr/local/lib/python3.6/dist-packages/ipykernel_launcher.py:7: SettingWithCopyWarning: \n",
            "A value is trying to be set on a copy of a slice from a DataFrame\n",
            "\n",
            "See the caveats in the documentation: https://pandas.pydata.org/pandas-docs/stable/user_guide/indexing.html#returning-a-view-versus-a-copy\n",
            "  import sys\n",
            "/usr/local/lib/python3.6/dist-packages/ipykernel_launcher.py:12: SettingWithCopyWarning: \n",
            "A value is trying to be set on a copy of a slice from a DataFrame\n",
            "\n",
            "See the caveats in the documentation: https://pandas.pydata.org/pandas-docs/stable/user_guide/indexing.html#returning-a-view-versus-a-copy\n",
            "  if sys.path[0] == '':\n",
            "/usr/local/lib/python3.6/dist-packages/ipykernel_launcher.py:17: SettingWithCopyWarning: \n",
            "A value is trying to be set on a copy of a slice from a DataFrame\n",
            "\n",
            "See the caveats in the documentation: https://pandas.pydata.org/pandas-docs/stable/user_guide/indexing.html#returning-a-view-versus-a-copy\n",
            "/usr/local/lib/python3.6/dist-packages/ipykernel_launcher.py:22: SettingWithCopyWarning: \n",
            "A value is trying to be set on a copy of a slice from a DataFrame\n",
            "\n",
            "See the caveats in the documentation: https://pandas.pydata.org/pandas-docs/stable/user_guide/indexing.html#returning-a-view-versus-a-copy\n",
            "/usr/local/lib/python3.6/dist-packages/ipykernel_launcher.py:9: SettingWithCopyWarning: \n",
            "A value is trying to be set on a copy of a slice from a DataFrame\n",
            "\n",
            "See the caveats in the documentation: https://pandas.pydata.org/pandas-docs/stable/user_guide/indexing.html#returning-a-view-versus-a-copy\n",
            "  if __name__ == '__main__':\n",
            "/usr/local/lib/python3.6/dist-packages/ipykernel_launcher.py:14: SettingWithCopyWarning: \n",
            "A value is trying to be set on a copy of a slice from a DataFrame\n",
            "\n",
            "See the caveats in the documentation: https://pandas.pydata.org/pandas-docs/stable/user_guide/indexing.html#returning-a-view-versus-a-copy\n",
            "  \n",
            "/usr/local/lib/python3.6/dist-packages/ipykernel_launcher.py:19: SettingWithCopyWarning: \n",
            "A value is trying to be set on a copy of a slice from a DataFrame\n",
            "\n",
            "See the caveats in the documentation: https://pandas.pydata.org/pandas-docs/stable/user_guide/indexing.html#returning-a-view-versus-a-copy\n",
            "/usr/local/lib/python3.6/dist-packages/ipykernel_launcher.py:24: SettingWithCopyWarning: \n",
            "A value is trying to be set on a copy of a slice from a DataFrame\n",
            "\n",
            "See the caveats in the documentation: https://pandas.pydata.org/pandas-docs/stable/user_guide/indexing.html#returning-a-view-versus-a-copy\n"
          ],
          "name": "stderr"
        }
      ]
    },
    {
      "cell_type": "code",
      "metadata": {
        "id": "xOjMwg-ynfrs",
        "outputId": "a1645533-bdba-4bd4-85d1-0775fe1d545e",
        "colab": {
          "base_uri": "https://localhost:8080/"
        }
      },
      "source": [
        "df_churn_train['paymentmethod'].value_counts()"
      ],
      "execution_count": 178,
      "outputs": [
        {
          "output_type": "execute_result",
          "data": {
            "text/plain": [
              "Electronic check              1887\n",
              "Mailed check                  1272\n",
              "Bank transfer (automatic)     1262\n",
              "Credit card (automatic)       1164\n",
              "Bank transfer (automatic)r      49\n",
              "Name: paymentmethod, dtype: int64"
            ]
          },
          "metadata": {
            "tags": []
          },
          "execution_count": 178
        }
      ]
    },
    {
      "cell_type": "code",
      "metadata": {
        "id": "BVXKyLrcf_5K",
        "outputId": "d03dfc51-2d37-46d7-a0d3-6bfa021efc95",
        "colab": {
          "base_uri": "https://localhost:8080/"
        }
      },
      "source": [
        "df_churn_train.isna().sum()"
      ],
      "execution_count": null,
      "outputs": [
        {
          "output_type": "execute_result",
          "data": {
            "text/plain": [
              "id                  0\n",
              "gender              0\n",
              "seniorcitizen       0\n",
              "partner             0\n",
              "dependents          0\n",
              "tenure              0\n",
              "phoneservice        0\n",
              "multiplelines       0\n",
              "internetservice     0\n",
              "onlinesecurity      0\n",
              "onlinebackup        0\n",
              "deviceprotection    0\n",
              "techsupport         0\n",
              "streamingtv         0\n",
              "streamingmovies     0\n",
              "contract            0\n",
              "paperlessbilling    0\n",
              "paymentmethod       0\n",
              "monthlycharges      0\n",
              "totalcharges        0\n",
              "churn               0\n",
              "dtype: int64"
            ]
          },
          "metadata": {
            "tags": []
          },
          "execution_count": 83
        }
      ]
    },
    {
      "cell_type": "markdown",
      "metadata": {
        "id": "t6T1WEjYbMs0"
      },
      "source": [
        ""
      ]
    },
    {
      "cell_type": "code",
      "metadata": {
        "id": "WEGfRg_agAeM",
        "outputId": "d0314ee9-1ce8-40a8-93ef-c494e9883c48",
        "colab": {
          "base_uri": "https://localhost:8080/",
          "height": 573
        }
      },
      "source": [
        "df_churn_train"
      ],
      "execution_count": null,
      "outputs": [
        {
          "output_type": "execute_result",
          "data": {
            "text/html": [
              "<div>\n",
              "<style scoped>\n",
              "    .dataframe tbody tr th:only-of-type {\n",
              "        vertical-align: middle;\n",
              "    }\n",
              "\n",
              "    .dataframe tbody tr th {\n",
              "        vertical-align: top;\n",
              "    }\n",
              "\n",
              "    .dataframe thead th {\n",
              "        text-align: right;\n",
              "    }\n",
              "</style>\n",
              "<table border=\"1\" class=\"dataframe\">\n",
              "  <thead>\n",
              "    <tr style=\"text-align: right;\">\n",
              "      <th></th>\n",
              "      <th>id</th>\n",
              "      <th>gender</th>\n",
              "      <th>seniorcitizen</th>\n",
              "      <th>partner</th>\n",
              "      <th>dependents</th>\n",
              "      <th>tenure</th>\n",
              "      <th>phoneservice</th>\n",
              "      <th>multiplelines</th>\n",
              "      <th>internetservice</th>\n",
              "      <th>onlinesecurity</th>\n",
              "      <th>onlinebackup</th>\n",
              "      <th>deviceprotection</th>\n",
              "      <th>techsupport</th>\n",
              "      <th>streamingtv</th>\n",
              "      <th>streamingmovies</th>\n",
              "      <th>contract</th>\n",
              "      <th>paperlessbilling</th>\n",
              "      <th>paymentmethod</th>\n",
              "      <th>monthlycharges</th>\n",
              "      <th>totalcharges</th>\n",
              "      <th>churn</th>\n",
              "    </tr>\n",
              "  </thead>\n",
              "  <tbody>\n",
              "    <tr>\n",
              "      <th>0</th>\n",
              "      <td>4030</td>\n",
              "      <td>Female</td>\n",
              "      <td>0</td>\n",
              "      <td>No</td>\n",
              "      <td>No</td>\n",
              "      <td>56.0</td>\n",
              "      <td>No</td>\n",
              "      <td>No phone service</td>\n",
              "      <td>DSL</td>\n",
              "      <td>Yes</td>\n",
              "      <td>Yes</td>\n",
              "      <td>Yes</td>\n",
              "      <td>Yes</td>\n",
              "      <td>No</td>\n",
              "      <td>No</td>\n",
              "      <td>Two year</td>\n",
              "      <td>No</td>\n",
              "      <td>Banck transfer</td>\n",
              "      <td>45.05</td>\n",
              "      <td>2560.1</td>\n",
              "      <td>0</td>\n",
              "    </tr>\n",
              "    <tr>\n",
              "      <th>1</th>\n",
              "      <td>6731</td>\n",
              "      <td>Male</td>\n",
              "      <td>0</td>\n",
              "      <td>Yes</td>\n",
              "      <td>Yes</td>\n",
              "      <td>27.0</td>\n",
              "      <td>Yes</td>\n",
              "      <td>No</td>\n",
              "      <td>No</td>\n",
              "      <td>No internet service</td>\n",
              "      <td>No internet service</td>\n",
              "      <td>No internet service</td>\n",
              "      <td>No internet service</td>\n",
              "      <td>No internet service</td>\n",
              "      <td>No internet service</td>\n",
              "      <td>One year</td>\n",
              "      <td>No</td>\n",
              "      <td>Mailed check</td>\n",
              "      <td>19.65</td>\n",
              "      <td>332.65</td>\n",
              "      <td>0</td>\n",
              "    </tr>\n",
              "    <tr>\n",
              "      <th>2</th>\n",
              "      <td>6479</td>\n",
              "      <td>Female</td>\n",
              "      <td>0</td>\n",
              "      <td>Yes</td>\n",
              "      <td>No</td>\n",
              "      <td>60.0</td>\n",
              "      <td>Yes</td>\n",
              "      <td>Yes</td>\n",
              "      <td>Fiber optic</td>\n",
              "      <td>No</td>\n",
              "      <td>Yes</td>\n",
              "      <td>Yes</td>\n",
              "      <td>Yes</td>\n",
              "      <td>Yes</td>\n",
              "      <td>Yes</td>\n",
              "      <td>Two year</td>\n",
              "      <td>Yes</td>\n",
              "      <td>Credit card (automatic)</td>\n",
              "      <td>110.80</td>\n",
              "      <td>6640.7</td>\n",
              "      <td>0</td>\n",
              "    </tr>\n",
              "    <tr>\n",
              "      <th>3</th>\n",
              "      <td>6861</td>\n",
              "      <td>Female</td>\n",
              "      <td>0</td>\n",
              "      <td>No</td>\n",
              "      <td>No</td>\n",
              "      <td>37.0</td>\n",
              "      <td>Yes</td>\n",
              "      <td>Yes</td>\n",
              "      <td>Fiber optic</td>\n",
              "      <td>No</td>\n",
              "      <td>Yes</td>\n",
              "      <td>Yes</td>\n",
              "      <td>No</td>\n",
              "      <td>Yes</td>\n",
              "      <td>Yes</td>\n",
              "      <td>Month-to-month</td>\n",
              "      <td>Yes</td>\n",
              "      <td>Bank transfer (automatic)</td>\n",
              "      <td>101.90</td>\n",
              "      <td>3545.35</td>\n",
              "      <td>1</td>\n",
              "    </tr>\n",
              "    <tr>\n",
              "      <th>4</th>\n",
              "      <td>3266</td>\n",
              "      <td>Male</td>\n",
              "      <td>0</td>\n",
              "      <td>Yes</td>\n",
              "      <td>Yes</td>\n",
              "      <td>29.0</td>\n",
              "      <td>Yes</td>\n",
              "      <td>No</td>\n",
              "      <td>Fiber optic</td>\n",
              "      <td>No</td>\n",
              "      <td>No</td>\n",
              "      <td>No</td>\n",
              "      <td>No</td>\n",
              "      <td>No</td>\n",
              "      <td>No</td>\n",
              "      <td>Month-to-month</td>\n",
              "      <td>Yes</td>\n",
              "      <td>Electronic check</td>\n",
              "      <td>70.75</td>\n",
              "      <td>1974.8</td>\n",
              "      <td>1</td>\n",
              "    </tr>\n",
              "    <tr>\n",
              "      <th>...</th>\n",
              "      <td>...</td>\n",
              "      <td>...</td>\n",
              "      <td>...</td>\n",
              "      <td>...</td>\n",
              "      <td>...</td>\n",
              "      <td>...</td>\n",
              "      <td>...</td>\n",
              "      <td>...</td>\n",
              "      <td>...</td>\n",
              "      <td>...</td>\n",
              "      <td>...</td>\n",
              "      <td>...</td>\n",
              "      <td>...</td>\n",
              "      <td>...</td>\n",
              "      <td>...</td>\n",
              "      <td>...</td>\n",
              "      <td>...</td>\n",
              "      <td>...</td>\n",
              "      <td>...</td>\n",
              "      <td>...</td>\n",
              "      <td>...</td>\n",
              "    </tr>\n",
              "    <tr>\n",
              "      <th>5629</th>\n",
              "      <td>6684</td>\n",
              "      <td>Male</td>\n",
              "      <td>0</td>\n",
              "      <td>No</td>\n",
              "      <td>No</td>\n",
              "      <td>43.0</td>\n",
              "      <td>No</td>\n",
              "      <td>No phone service</td>\n",
              "      <td>DSL</td>\n",
              "      <td>No</td>\n",
              "      <td>No</td>\n",
              "      <td>Yes</td>\n",
              "      <td>Yes</td>\n",
              "      <td>No</td>\n",
              "      <td>Yes</td>\n",
              "      <td>One year</td>\n",
              "      <td>No</td>\n",
              "      <td>Electronic check</td>\n",
              "      <td>44.15</td>\n",
              "      <td>1931.3</td>\n",
              "      <td>0</td>\n",
              "    </tr>\n",
              "    <tr>\n",
              "      <th>5630</th>\n",
              "      <td>604</td>\n",
              "      <td>Male</td>\n",
              "      <td>0</td>\n",
              "      <td>No</td>\n",
              "      <td>No</td>\n",
              "      <td>27.0</td>\n",
              "      <td>Yes</td>\n",
              "      <td>Yes</td>\n",
              "      <td>Fiber optic</td>\n",
              "      <td>No</td>\n",
              "      <td>Yes</td>\n",
              "      <td>Yes</td>\n",
              "      <td>Yes</td>\n",
              "      <td>Yes</td>\n",
              "      <td>Yes</td>\n",
              "      <td>Two year</td>\n",
              "      <td>No</td>\n",
              "      <td>Electronic check</td>\n",
              "      <td>108.65</td>\n",
              "      <td>4903.2</td>\n",
              "      <td>0</td>\n",
              "    </tr>\n",
              "    <tr>\n",
              "      <th>5631</th>\n",
              "      <td>4803</td>\n",
              "      <td>Female</td>\n",
              "      <td>0</td>\n",
              "      <td>No</td>\n",
              "      <td>No</td>\n",
              "      <td>28.0</td>\n",
              "      <td>Yes</td>\n",
              "      <td>No</td>\n",
              "      <td>DSL</td>\n",
              "      <td>No</td>\n",
              "      <td>Yes</td>\n",
              "      <td>No</td>\n",
              "      <td>Yes</td>\n",
              "      <td>No</td>\n",
              "      <td>No</td>\n",
              "      <td>Month-to-month</td>\n",
              "      <td>No</td>\n",
              "      <td>Bank transfer (automatic)</td>\n",
              "      <td>54.65</td>\n",
              "      <td>1517.5</td>\n",
              "      <td>0</td>\n",
              "    </tr>\n",
              "    <tr>\n",
              "      <th>5632</th>\n",
              "      <td>6317</td>\n",
              "      <td>Male</td>\n",
              "      <td>0</td>\n",
              "      <td>Yes</td>\n",
              "      <td>Yes</td>\n",
              "      <td>63.0</td>\n",
              "      <td>Yes</td>\n",
              "      <td>Yes</td>\n",
              "      <td>No</td>\n",
              "      <td>No internet service</td>\n",
              "      <td>No internet service</td>\n",
              "      <td>No internet service</td>\n",
              "      <td>No internet service</td>\n",
              "      <td>No internet service</td>\n",
              "      <td>No internet service</td>\n",
              "      <td>Two year</td>\n",
              "      <td>No</td>\n",
              "      <td>Mailed check</td>\n",
              "      <td>25.25</td>\n",
              "      <td>1573.05</td>\n",
              "      <td>0</td>\n",
              "    </tr>\n",
              "    <tr>\n",
              "      <th>5633</th>\n",
              "      <td>103</td>\n",
              "      <td>Male</td>\n",
              "      <td>0</td>\n",
              "      <td>No</td>\n",
              "      <td>No</td>\n",
              "      <td>38.0</td>\n",
              "      <td>Yes</td>\n",
              "      <td>Yes</td>\n",
              "      <td>Fiber optic</td>\n",
              "      <td>No</td>\n",
              "      <td>No</td>\n",
              "      <td>Yes</td>\n",
              "      <td>Yes</td>\n",
              "      <td>Yes</td>\n",
              "      <td>No</td>\n",
              "      <td>One year</td>\n",
              "      <td>No</td>\n",
              "      <td>Bank transfer (automatic)</td>\n",
              "      <td>95.00</td>\n",
              "      <td>3605.6</td>\n",
              "      <td>0</td>\n",
              "    </tr>\n",
              "  </tbody>\n",
              "</table>\n",
              "<p>5634 rows × 21 columns</p>\n",
              "</div>"
            ],
            "text/plain": [
              "        id  gender  seniorcitizen  ... monthlycharges totalcharges  churn\n",
              "0     4030  Female              0  ...          45.05       2560.1      0\n",
              "1     6731    Male              0  ...          19.65       332.65      0\n",
              "2     6479  Female              0  ...         110.80       6640.7      0\n",
              "3     6861  Female              0  ...         101.90      3545.35      1\n",
              "4     3266    Male              0  ...          70.75       1974.8      1\n",
              "...    ...     ...            ...  ...            ...          ...    ...\n",
              "5629  6684    Male              0  ...          44.15       1931.3      0\n",
              "5630   604    Male              0  ...         108.65       4903.2      0\n",
              "5631  4803  Female              0  ...          54.65       1517.5      0\n",
              "5632  6317    Male              0  ...          25.25      1573.05      0\n",
              "5633   103    Male              0  ...          95.00       3605.6      0\n",
              "\n",
              "[5634 rows x 21 columns]"
            ]
          },
          "metadata": {
            "tags": []
          },
          "execution_count": 84
        }
      ]
    },
    {
      "cell_type": "code",
      "metadata": {
        "id": "R77VQmq9d0OS",
        "outputId": "14e88ea9-878d-4ef2-ea8e-8b08109eff92",
        "colab": {
          "base_uri": "https://localhost:8080/"
        }
      },
      "source": [
        "df_churn_train.dtypes"
      ],
      "execution_count": null,
      "outputs": [
        {
          "output_type": "execute_result",
          "data": {
            "text/plain": [
              "id                    int64\n",
              "gender               object\n",
              "seniorcitizen         int64\n",
              "partner              object\n",
              "dependents           object\n",
              "tenure              float64\n",
              "phoneservice         object\n",
              "multiplelines        object\n",
              "internetservice      object\n",
              "onlinesecurity       object\n",
              "onlinebackup         object\n",
              "deviceprotection     object\n",
              "techsupport          object\n",
              "streamingtv          object\n",
              "streamingmovies      object\n",
              "contract             object\n",
              "paperlessbilling     object\n",
              "paymentmethod        object\n",
              "monthlycharges      float64\n",
              "totalcharges         object\n",
              "churn                 int64\n",
              "dtype: object"
            ]
          },
          "metadata": {
            "tags": []
          },
          "execution_count": 85
        }
      ]
    },
    {
      "cell_type": "code",
      "metadata": {
        "id": "7iPisNB-fW5A",
        "outputId": "06c31e26-67b9-4b6e-de98-da9da3b40821",
        "colab": {
          "base_uri": "https://localhost:8080/",
          "height": 391
        }
      },
      "source": [
        "df_churn_train[['totalcharges']]\n"
      ],
      "execution_count": null,
      "outputs": [
        {
          "output_type": "execute_result",
          "data": {
            "text/html": [
              "<div>\n",
              "<style scoped>\n",
              "    .dataframe tbody tr th:only-of-type {\n",
              "        vertical-align: middle;\n",
              "    }\n",
              "\n",
              "    .dataframe tbody tr th {\n",
              "        vertical-align: top;\n",
              "    }\n",
              "\n",
              "    .dataframe thead th {\n",
              "        text-align: right;\n",
              "    }\n",
              "</style>\n",
              "<table border=\"1\" class=\"dataframe\">\n",
              "  <thead>\n",
              "    <tr style=\"text-align: right;\">\n",
              "      <th></th>\n",
              "      <th>totalcharges</th>\n",
              "    </tr>\n",
              "  </thead>\n",
              "  <tbody>\n",
              "    <tr>\n",
              "      <th>0</th>\n",
              "      <td>2560.1</td>\n",
              "    </tr>\n",
              "    <tr>\n",
              "      <th>1</th>\n",
              "      <td>332.65</td>\n",
              "    </tr>\n",
              "    <tr>\n",
              "      <th>2</th>\n",
              "      <td>6640.7</td>\n",
              "    </tr>\n",
              "    <tr>\n",
              "      <th>3</th>\n",
              "      <td>3545.35</td>\n",
              "    </tr>\n",
              "    <tr>\n",
              "      <th>4</th>\n",
              "      <td>1974.8</td>\n",
              "    </tr>\n",
              "    <tr>\n",
              "      <th>...</th>\n",
              "      <td>...</td>\n",
              "    </tr>\n",
              "    <tr>\n",
              "      <th>5629</th>\n",
              "      <td>1931.3</td>\n",
              "    </tr>\n",
              "    <tr>\n",
              "      <th>5630</th>\n",
              "      <td>4903.2</td>\n",
              "    </tr>\n",
              "    <tr>\n",
              "      <th>5631</th>\n",
              "      <td>1517.5</td>\n",
              "    </tr>\n",
              "    <tr>\n",
              "      <th>5632</th>\n",
              "      <td>1573.05</td>\n",
              "    </tr>\n",
              "    <tr>\n",
              "      <th>5633</th>\n",
              "      <td>3605.6</td>\n",
              "    </tr>\n",
              "  </tbody>\n",
              "</table>\n",
              "<p>5634 rows × 1 columns</p>\n",
              "</div>"
            ],
            "text/plain": [
              "     totalcharges\n",
              "0          2560.1\n",
              "1          332.65\n",
              "2          6640.7\n",
              "3         3545.35\n",
              "4          1974.8\n",
              "...           ...\n",
              "5629       1931.3\n",
              "5630       4903.2\n",
              "5631       1517.5\n",
              "5632      1573.05\n",
              "5633       3605.6\n",
              "\n",
              "[5634 rows x 1 columns]"
            ]
          },
          "metadata": {
            "tags": []
          },
          "execution_count": 86
        }
      ]
    },
    {
      "cell_type": "code",
      "metadata": {
        "id": "RyHJ-Qi64TJX"
      },
      "source": [
        "df_to_trat = df_churn_train[['tenure', 'totalcharges']].copy()"
      ],
      "execution_count": null,
      "outputs": []
    },
    {
      "cell_type": "code",
      "metadata": {
        "id": "Zux5cJIQ5tqk",
        "outputId": "8e182b8b-72e3-41f0-e8de-36b528302ebd",
        "colab": {
          "base_uri": "https://localhost:8080/",
          "height": 391
        }
      },
      "source": [
        "df_to_trat"
      ],
      "execution_count": null,
      "outputs": [
        {
          "output_type": "execute_result",
          "data": {
            "text/html": [
              "<div>\n",
              "<style scoped>\n",
              "    .dataframe tbody tr th:only-of-type {\n",
              "        vertical-align: middle;\n",
              "    }\n",
              "\n",
              "    .dataframe tbody tr th {\n",
              "        vertical-align: top;\n",
              "    }\n",
              "\n",
              "    .dataframe thead th {\n",
              "        text-align: right;\n",
              "    }\n",
              "</style>\n",
              "<table border=\"1\" class=\"dataframe\">\n",
              "  <thead>\n",
              "    <tr style=\"text-align: right;\">\n",
              "      <th></th>\n",
              "      <th>tenure</th>\n",
              "      <th>totalcharges</th>\n",
              "    </tr>\n",
              "  </thead>\n",
              "  <tbody>\n",
              "    <tr>\n",
              "      <th>0</th>\n",
              "      <td>56.0</td>\n",
              "      <td>2560.1</td>\n",
              "    </tr>\n",
              "    <tr>\n",
              "      <th>1</th>\n",
              "      <td>27.0</td>\n",
              "      <td>332.65</td>\n",
              "    </tr>\n",
              "    <tr>\n",
              "      <th>2</th>\n",
              "      <td>60.0</td>\n",
              "      <td>6640.7</td>\n",
              "    </tr>\n",
              "    <tr>\n",
              "      <th>3</th>\n",
              "      <td>37.0</td>\n",
              "      <td>3545.35</td>\n",
              "    </tr>\n",
              "    <tr>\n",
              "      <th>4</th>\n",
              "      <td>29.0</td>\n",
              "      <td>1974.8</td>\n",
              "    </tr>\n",
              "    <tr>\n",
              "      <th>...</th>\n",
              "      <td>...</td>\n",
              "      <td>...</td>\n",
              "    </tr>\n",
              "    <tr>\n",
              "      <th>5629</th>\n",
              "      <td>43.0</td>\n",
              "      <td>1931.3</td>\n",
              "    </tr>\n",
              "    <tr>\n",
              "      <th>5630</th>\n",
              "      <td>27.0</td>\n",
              "      <td>4903.2</td>\n",
              "    </tr>\n",
              "    <tr>\n",
              "      <th>5631</th>\n",
              "      <td>28.0</td>\n",
              "      <td>1517.5</td>\n",
              "    </tr>\n",
              "    <tr>\n",
              "      <th>5632</th>\n",
              "      <td>63.0</td>\n",
              "      <td>1573.05</td>\n",
              "    </tr>\n",
              "    <tr>\n",
              "      <th>5633</th>\n",
              "      <td>38.0</td>\n",
              "      <td>3605.6</td>\n",
              "    </tr>\n",
              "  </tbody>\n",
              "</table>\n",
              "<p>5634 rows × 2 columns</p>\n",
              "</div>"
            ],
            "text/plain": [
              "      tenure totalcharges\n",
              "0       56.0       2560.1\n",
              "1       27.0       332.65\n",
              "2       60.0       6640.7\n",
              "3       37.0      3545.35\n",
              "4       29.0       1974.8\n",
              "...      ...          ...\n",
              "5629    43.0       1931.3\n",
              "5630    27.0       4903.2\n",
              "5631    28.0       1517.5\n",
              "5632    63.0      1573.05\n",
              "5633    38.0       3605.6\n",
              "\n",
              "[5634 rows x 2 columns]"
            ]
          },
          "metadata": {
            "tags": []
          },
          "execution_count": 88
        }
      ]
    },
    {
      "cell_type": "code",
      "metadata": {
        "id": "qMTiZ4_W4TNm"
      },
      "source": [
        "df_to_trat['totalcharges'] = df_to_trat['totalcharges'].str.replace(',', '.')\n"
      ],
      "execution_count": null,
      "outputs": []
    },
    {
      "cell_type": "code",
      "metadata": {
        "id": "DwCDGa-94TGc",
        "outputId": "d0315382-5f28-4325-d156-fbf84f0cd4c4",
        "colab": {
          "base_uri": "https://localhost:8080/",
          "height": 391
        }
      },
      "source": [
        "df_to_trat"
      ],
      "execution_count": null,
      "outputs": [
        {
          "output_type": "execute_result",
          "data": {
            "text/html": [
              "<div>\n",
              "<style scoped>\n",
              "    .dataframe tbody tr th:only-of-type {\n",
              "        vertical-align: middle;\n",
              "    }\n",
              "\n",
              "    .dataframe tbody tr th {\n",
              "        vertical-align: top;\n",
              "    }\n",
              "\n",
              "    .dataframe thead th {\n",
              "        text-align: right;\n",
              "    }\n",
              "</style>\n",
              "<table border=\"1\" class=\"dataframe\">\n",
              "  <thead>\n",
              "    <tr style=\"text-align: right;\">\n",
              "      <th></th>\n",
              "      <th>tenure</th>\n",
              "      <th>totalcharges</th>\n",
              "    </tr>\n",
              "  </thead>\n",
              "  <tbody>\n",
              "    <tr>\n",
              "      <th>0</th>\n",
              "      <td>56.0</td>\n",
              "      <td>2560.1</td>\n",
              "    </tr>\n",
              "    <tr>\n",
              "      <th>1</th>\n",
              "      <td>27.0</td>\n",
              "      <td>332.65</td>\n",
              "    </tr>\n",
              "    <tr>\n",
              "      <th>2</th>\n",
              "      <td>60.0</td>\n",
              "      <td>6640.7</td>\n",
              "    </tr>\n",
              "    <tr>\n",
              "      <th>3</th>\n",
              "      <td>37.0</td>\n",
              "      <td>3545.35</td>\n",
              "    </tr>\n",
              "    <tr>\n",
              "      <th>4</th>\n",
              "      <td>29.0</td>\n",
              "      <td>1974.8</td>\n",
              "    </tr>\n",
              "    <tr>\n",
              "      <th>...</th>\n",
              "      <td>...</td>\n",
              "      <td>...</td>\n",
              "    </tr>\n",
              "    <tr>\n",
              "      <th>5629</th>\n",
              "      <td>43.0</td>\n",
              "      <td>1931.3</td>\n",
              "    </tr>\n",
              "    <tr>\n",
              "      <th>5630</th>\n",
              "      <td>27.0</td>\n",
              "      <td>4903.2</td>\n",
              "    </tr>\n",
              "    <tr>\n",
              "      <th>5631</th>\n",
              "      <td>28.0</td>\n",
              "      <td>1517.5</td>\n",
              "    </tr>\n",
              "    <tr>\n",
              "      <th>5632</th>\n",
              "      <td>63.0</td>\n",
              "      <td>1573.05</td>\n",
              "    </tr>\n",
              "    <tr>\n",
              "      <th>5633</th>\n",
              "      <td>38.0</td>\n",
              "      <td>3605.6</td>\n",
              "    </tr>\n",
              "  </tbody>\n",
              "</table>\n",
              "<p>5634 rows × 2 columns</p>\n",
              "</div>"
            ],
            "text/plain": [
              "      tenure totalcharges\n",
              "0       56.0       2560.1\n",
              "1       27.0       332.65\n",
              "2       60.0       6640.7\n",
              "3       37.0      3545.35\n",
              "4       29.0       1974.8\n",
              "...      ...          ...\n",
              "5629    43.0       1931.3\n",
              "5630    27.0       4903.2\n",
              "5631    28.0       1517.5\n",
              "5632    63.0      1573.05\n",
              "5633    38.0       3605.6\n",
              "\n",
              "[5634 rows x 2 columns]"
            ]
          },
          "metadata": {
            "tags": []
          },
          "execution_count": 90
        }
      ]
    },
    {
      "cell_type": "code",
      "metadata": {
        "id": "xLQghOZN79Yz"
      },
      "source": [
        "df_to_trat['totalcharges'] = pd.to_numeric(df_to_trat['totalcharges'], errors= 'coerce')"
      ],
      "execution_count": null,
      "outputs": []
    },
    {
      "cell_type": "code",
      "metadata": {
        "id": "1Q1K6pi97ZCf",
        "outputId": "2260345a-815e-4c84-a2e1-b5f2be404f53",
        "colab": {
          "base_uri": "https://localhost:8080/",
          "height": 498
        }
      },
      "source": [
        "df_to_trat[['tenure','totalcharges']].plot(kind = 'box', showmeans = True, meanline = True, grid = True, figsize = (12,8), vert = False, ylabel = 'Features')"
      ],
      "execution_count": null,
      "outputs": [
        {
          "output_type": "execute_result",
          "data": {
            "text/plain": [
              "<matplotlib.axes._subplots.AxesSubplot at 0x7f51d93a5780>"
            ]
          },
          "metadata": {
            "tags": []
          },
          "execution_count": 92
        },
        {
          "output_type": "display_data",
          "data": {
            "image/png": "[encoded data removed]",
            "text/plain": [
              "<Figure size 864x576 with 1 Axes>"
            ]
          },
          "metadata": {
            "tags": [],
            "needs_background": "light"
          }
        }
      ]
    },
    {
      "cell_type": "code",
      "metadata": {
        "id": "hQ9nkYhl7ZGw"
      },
      "source": [
        "df_churn_train['totalcharges'] = df_churn_train['totalcharges'].str.replace(',', '.')\n",
        "df_churn_train['totalcharges'] = pd.to_numeric(df_churn_train['totalcharges'], errors= 'coerce')"
      ],
      "execution_count": null,
      "outputs": []
    },
    {
      "cell_type": "code",
      "metadata": {
        "id": "_q9IM_Kh7Y_w",
        "outputId": "50fb4bce-11e5-4239-d739-4efb0b5f62e4",
        "colab": {
          "base_uri": "https://localhost:8080/",
          "height": 292
        }
      },
      "source": [
        "df_churn_train.head()"
      ],
      "execution_count": null,
      "outputs": [
        {
          "output_type": "execute_result",
          "data": {
            "text/html": [
              "<div>\n",
              "<style scoped>\n",
              "    .dataframe tbody tr th:only-of-type {\n",
              "        vertical-align: middle;\n",
              "    }\n",
              "\n",
              "    .dataframe tbody tr th {\n",
              "        vertical-align: top;\n",
              "    }\n",
              "\n",
              "    .dataframe thead th {\n",
              "        text-align: right;\n",
              "    }\n",
              "</style>\n",
              "<table border=\"1\" class=\"dataframe\">\n",
              "  <thead>\n",
              "    <tr style=\"text-align: right;\">\n",
              "      <th></th>\n",
              "      <th>id</th>\n",
              "      <th>gender</th>\n",
              "      <th>seniorcitizen</th>\n",
              "      <th>partner</th>\n",
              "      <th>dependents</th>\n",
              "      <th>tenure</th>\n",
              "      <th>phoneservice</th>\n",
              "      <th>multiplelines</th>\n",
              "      <th>internetservice</th>\n",
              "      <th>onlinesecurity</th>\n",
              "      <th>onlinebackup</th>\n",
              "      <th>deviceprotection</th>\n",
              "      <th>techsupport</th>\n",
              "      <th>streamingtv</th>\n",
              "      <th>streamingmovies</th>\n",
              "      <th>contract</th>\n",
              "      <th>paperlessbilling</th>\n",
              "      <th>paymentmethod</th>\n",
              "      <th>monthlycharges</th>\n",
              "      <th>totalcharges</th>\n",
              "      <th>churn</th>\n",
              "    </tr>\n",
              "  </thead>\n",
              "  <tbody>\n",
              "    <tr>\n",
              "      <th>0</th>\n",
              "      <td>4030</td>\n",
              "      <td>Female</td>\n",
              "      <td>0</td>\n",
              "      <td>No</td>\n",
              "      <td>No</td>\n",
              "      <td>56.0</td>\n",
              "      <td>No</td>\n",
              "      <td>No phone service</td>\n",
              "      <td>DSL</td>\n",
              "      <td>Yes</td>\n",
              "      <td>Yes</td>\n",
              "      <td>Yes</td>\n",
              "      <td>Yes</td>\n",
              "      <td>No</td>\n",
              "      <td>No</td>\n",
              "      <td>Two year</td>\n",
              "      <td>No</td>\n",
              "      <td>Banck transfer</td>\n",
              "      <td>45.05</td>\n",
              "      <td>2560.10</td>\n",
              "      <td>0</td>\n",
              "    </tr>\n",
              "    <tr>\n",
              "      <th>1</th>\n",
              "      <td>6731</td>\n",
              "      <td>Male</td>\n",
              "      <td>0</td>\n",
              "      <td>Yes</td>\n",
              "      <td>Yes</td>\n",
              "      <td>27.0</td>\n",
              "      <td>Yes</td>\n",
              "      <td>No</td>\n",
              "      <td>No</td>\n",
              "      <td>No internet service</td>\n",
              "      <td>No internet service</td>\n",
              "      <td>No internet service</td>\n",
              "      <td>No internet service</td>\n",
              "      <td>No internet service</td>\n",
              "      <td>No internet service</td>\n",
              "      <td>One year</td>\n",
              "      <td>No</td>\n",
              "      <td>Mailed check</td>\n",
              "      <td>19.65</td>\n",
              "      <td>332.65</td>\n",
              "      <td>0</td>\n",
              "    </tr>\n",
              "    <tr>\n",
              "      <th>2</th>\n",
              "      <td>6479</td>\n",
              "      <td>Female</td>\n",
              "      <td>0</td>\n",
              "      <td>Yes</td>\n",
              "      <td>No</td>\n",
              "      <td>60.0</td>\n",
              "      <td>Yes</td>\n",
              "      <td>Yes</td>\n",
              "      <td>Fiber optic</td>\n",
              "      <td>No</td>\n",
              "      <td>Yes</td>\n",
              "      <td>Yes</td>\n",
              "      <td>Yes</td>\n",
              "      <td>Yes</td>\n",
              "      <td>Yes</td>\n",
              "      <td>Two year</td>\n",
              "      <td>Yes</td>\n",
              "      <td>Credit card (automatic)</td>\n",
              "      <td>110.80</td>\n",
              "      <td>6640.70</td>\n",
              "      <td>0</td>\n",
              "    </tr>\n",
              "    <tr>\n",
              "      <th>3</th>\n",
              "      <td>6861</td>\n",
              "      <td>Female</td>\n",
              "      <td>0</td>\n",
              "      <td>No</td>\n",
              "      <td>No</td>\n",
              "      <td>37.0</td>\n",
              "      <td>Yes</td>\n",
              "      <td>Yes</td>\n",
              "      <td>Fiber optic</td>\n",
              "      <td>No</td>\n",
              "      <td>Yes</td>\n",
              "      <td>Yes</td>\n",
              "      <td>No</td>\n",
              "      <td>Yes</td>\n",
              "      <td>Yes</td>\n",
              "      <td>Month-to-month</td>\n",
              "      <td>Yes</td>\n",
              "      <td>Bank transfer (automatic)</td>\n",
              "      <td>101.90</td>\n",
              "      <td>3545.35</td>\n",
              "      <td>1</td>\n",
              "    </tr>\n",
              "    <tr>\n",
              "      <th>4</th>\n",
              "      <td>3266</td>\n",
              "      <td>Male</td>\n",
              "      <td>0</td>\n",
              "      <td>Yes</td>\n",
              "      <td>Yes</td>\n",
              "      <td>29.0</td>\n",
              "      <td>Yes</td>\n",
              "      <td>No</td>\n",
              "      <td>Fiber optic</td>\n",
              "      <td>No</td>\n",
              "      <td>No</td>\n",
              "      <td>No</td>\n",
              "      <td>No</td>\n",
              "      <td>No</td>\n",
              "      <td>No</td>\n",
              "      <td>Month-to-month</td>\n",
              "      <td>Yes</td>\n",
              "      <td>Electronic check</td>\n",
              "      <td>70.75</td>\n",
              "      <td>1974.80</td>\n",
              "      <td>1</td>\n",
              "    </tr>\n",
              "  </tbody>\n",
              "</table>\n",
              "</div>"
            ],
            "text/plain": [
              "     id  gender  seniorcitizen  ... monthlycharges totalcharges  churn\n",
              "0  4030  Female              0  ...          45.05      2560.10      0\n",
              "1  6731    Male              0  ...          19.65       332.65      0\n",
              "2  6479  Female              0  ...         110.80      6640.70      0\n",
              "3  6861  Female              0  ...         101.90      3545.35      1\n",
              "4  3266    Male              0  ...          70.75      1974.80      1\n",
              "\n",
              "[5 rows x 21 columns]"
            ]
          },
          "metadata": {
            "tags": []
          },
          "execution_count": 116
        }
      ]
    },
    {
      "cell_type": "code",
      "metadata": {
        "id": "99-hcWdKecy3"
      },
      "source": [
        ""
      ],
      "execution_count": null,
      "outputs": []
    },
    {
      "cell_type": "code",
      "metadata": {
        "id": "Q9auKiKwbDWF",
        "outputId": "75705ddc-9d98-416a-fc29-6a4ea3815ad2",
        "colab": {
          "base_uri": "https://localhost:8080/",
          "height": 498
        }
      },
      "source": [
        "df_churn_train[['tenure','monthlycharges']].plot(kind = 'box', showmeans = True,\n",
        "                                                                meanline = True, grid = True, figsize = (12,8), vert = False, ylabel = 'Features')"
      ],
      "execution_count": null,
      "outputs": [
        {
          "output_type": "execute_result",
          "data": {
            "text/plain": [
              "<matplotlib.axes._subplots.AxesSubplot at 0x7f51d93271d0>"
            ]
          },
          "metadata": {
            "tags": []
          },
          "execution_count": 94
        },
        {
          "output_type": "display_data",
          "data": {
            "image/png": "[encoded data removed]",
            "text/plain": [
              "<Figure size 864x576 with 1 Axes>"
            ]
          },
          "metadata": {
            "tags": [],
            "needs_background": "light"
          }
        }
      ]
    },
    {
      "cell_type": "code",
      "metadata": {
        "id": "b_DWWkWbbDpd",
        "outputId": "169a0695-b978-4952-e5fe-0e90b456ab15",
        "colab": {
          "base_uri": "https://localhost:8080/",
          "height": 498
        }
      },
      "source": [
        "df_churn_train[['totalcharges']].plot(kind = 'box', showmeans = True,\n",
        "                                                                meanline = True, grid = True, figsize = (12,8), vert = False, ylabel = 'Features')"
      ],
      "execution_count": null,
      "outputs": [
        {
          "output_type": "execute_result",
          "data": {
            "text/plain": [
              "<matplotlib.axes._subplots.AxesSubplot at 0x7f51d92abda0>"
            ]
          },
          "metadata": {
            "tags": []
          },
          "execution_count": 95
        },
        {
          "output_type": "display_data",
          "data": {
            "image/png": "[encoded data removed]",
            "text/plain": [
              "<Figure size 864x576 with 1 Axes>"
            ]
          },
          "metadata": {
            "tags": [],
            "needs_background": "light"
          }
        }
      ]
    },
    {
      "cell_type": "code",
      "metadata": {
        "id": "WajhewGkbDnO",
        "outputId": "f0d516bc-e6d3-48f4-9424-90716413137c",
        "colab": {
          "base_uri": "https://localhost:8080/",
          "height": 573
        }
      },
      "source": [
        "df_churn_train"
      ],
      "execution_count": null,
      "outputs": [
        {
          "output_type": "execute_result",
          "data": {
            "text/html": [
              "<div>\n",
              "<style scoped>\n",
              "    .dataframe tbody tr th:only-of-type {\n",
              "        vertical-align: middle;\n",
              "    }\n",
              "\n",
              "    .dataframe tbody tr th {\n",
              "        vertical-align: top;\n",
              "    }\n",
              "\n",
              "    .dataframe thead th {\n",
              "        text-align: right;\n",
              "    }\n",
              "</style>\n",
              "<table border=\"1\" class=\"dataframe\">\n",
              "  <thead>\n",
              "    <tr style=\"text-align: right;\">\n",
              "      <th></th>\n",
              "      <th>id</th>\n",
              "      <th>gender</th>\n",
              "      <th>seniorcitizen</th>\n",
              "      <th>partner</th>\n",
              "      <th>dependents</th>\n",
              "      <th>tenure</th>\n",
              "      <th>phoneservice</th>\n",
              "      <th>multiplelines</th>\n",
              "      <th>internetservice</th>\n",
              "      <th>onlinesecurity</th>\n",
              "      <th>onlinebackup</th>\n",
              "      <th>deviceprotection</th>\n",
              "      <th>techsupport</th>\n",
              "      <th>streamingtv</th>\n",
              "      <th>streamingmovies</th>\n",
              "      <th>contract</th>\n",
              "      <th>paperlessbilling</th>\n",
              "      <th>paymentmethod</th>\n",
              "      <th>monthlycharges</th>\n",
              "      <th>totalcharges</th>\n",
              "      <th>churn</th>\n",
              "    </tr>\n",
              "  </thead>\n",
              "  <tbody>\n",
              "    <tr>\n",
              "      <th>0</th>\n",
              "      <td>4030</td>\n",
              "      <td>Female</td>\n",
              "      <td>0</td>\n",
              "      <td>No</td>\n",
              "      <td>No</td>\n",
              "      <td>56.0</td>\n",
              "      <td>No</td>\n",
              "      <td>No phone service</td>\n",
              "      <td>DSL</td>\n",
              "      <td>Yes</td>\n",
              "      <td>Yes</td>\n",
              "      <td>Yes</td>\n",
              "      <td>Yes</td>\n",
              "      <td>No</td>\n",
              "      <td>No</td>\n",
              "      <td>Two year</td>\n",
              "      <td>No</td>\n",
              "      <td>Banck transfer</td>\n",
              "      <td>45.05</td>\n",
              "      <td>2560.10</td>\n",
              "      <td>0</td>\n",
              "    </tr>\n",
              "    <tr>\n",
              "      <th>1</th>\n",
              "      <td>6731</td>\n",
              "      <td>Male</td>\n",
              "      <td>0</td>\n",
              "      <td>Yes</td>\n",
              "      <td>Yes</td>\n",
              "      <td>27.0</td>\n",
              "      <td>Yes</td>\n",
              "      <td>No</td>\n",
              "      <td>No</td>\n",
              "      <td>No internet service</td>\n",
              "      <td>No internet service</td>\n",
              "      <td>No internet service</td>\n",
              "      <td>No internet service</td>\n",
              "      <td>No internet service</td>\n",
              "      <td>No internet service</td>\n",
              "      <td>One year</td>\n",
              "      <td>No</td>\n",
              "      <td>Mailed check</td>\n",
              "      <td>19.65</td>\n",
              "      <td>332.65</td>\n",
              "      <td>0</td>\n",
              "    </tr>\n",
              "    <tr>\n",
              "      <th>2</th>\n",
              "      <td>6479</td>\n",
              "      <td>Female</td>\n",
              "      <td>0</td>\n",
              "      <td>Yes</td>\n",
              "      <td>No</td>\n",
              "      <td>60.0</td>\n",
              "      <td>Yes</td>\n",
              "      <td>Yes</td>\n",
              "      <td>Fiber optic</td>\n",
              "      <td>No</td>\n",
              "      <td>Yes</td>\n",
              "      <td>Yes</td>\n",
              "      <td>Yes</td>\n",
              "      <td>Yes</td>\n",
              "      <td>Yes</td>\n",
              "      <td>Two year</td>\n",
              "      <td>Yes</td>\n",
              "      <td>Credit card (automatic)</td>\n",
              "      <td>110.80</td>\n",
              "      <td>6640.70</td>\n",
              "      <td>0</td>\n",
              "    </tr>\n",
              "    <tr>\n",
              "      <th>3</th>\n",
              "      <td>6861</td>\n",
              "      <td>Female</td>\n",
              "      <td>0</td>\n",
              "      <td>No</td>\n",
              "      <td>No</td>\n",
              "      <td>37.0</td>\n",
              "      <td>Yes</td>\n",
              "      <td>Yes</td>\n",
              "      <td>Fiber optic</td>\n",
              "      <td>No</td>\n",
              "      <td>Yes</td>\n",
              "      <td>Yes</td>\n",
              "      <td>No</td>\n",
              "      <td>Yes</td>\n",
              "      <td>Yes</td>\n",
              "      <td>Month-to-month</td>\n",
              "      <td>Yes</td>\n",
              "      <td>Bank transfer (automatic)</td>\n",
              "      <td>101.90</td>\n",
              "      <td>3545.35</td>\n",
              "      <td>1</td>\n",
              "    </tr>\n",
              "    <tr>\n",
              "      <th>4</th>\n",
              "      <td>3266</td>\n",
              "      <td>Male</td>\n",
              "      <td>0</td>\n",
              "      <td>Yes</td>\n",
              "      <td>Yes</td>\n",
              "      <td>29.0</td>\n",
              "      <td>Yes</td>\n",
              "      <td>No</td>\n",
              "      <td>Fiber optic</td>\n",
              "      <td>No</td>\n",
              "      <td>No</td>\n",
              "      <td>No</td>\n",
              "      <td>No</td>\n",
              "      <td>No</td>\n",
              "      <td>No</td>\n",
              "      <td>Month-to-month</td>\n",
              "      <td>Yes</td>\n",
              "      <td>Electronic check</td>\n",
              "      <td>70.75</td>\n",
              "      <td>1974.80</td>\n",
              "      <td>1</td>\n",
              "    </tr>\n",
              "    <tr>\n",
              "      <th>...</th>\n",
              "      <td>...</td>\n",
              "      <td>...</td>\n",
              "      <td>...</td>\n",
              "      <td>...</td>\n",
              "      <td>...</td>\n",
              "      <td>...</td>\n",
              "      <td>...</td>\n",
              "      <td>...</td>\n",
              "      <td>...</td>\n",
              "      <td>...</td>\n",
              "      <td>...</td>\n",
              "      <td>...</td>\n",
              "      <td>...</td>\n",
              "      <td>...</td>\n",
              "      <td>...</td>\n",
              "      <td>...</td>\n",
              "      <td>...</td>\n",
              "      <td>...</td>\n",
              "      <td>...</td>\n",
              "      <td>...</td>\n",
              "      <td>...</td>\n",
              "    </tr>\n",
              "    <tr>\n",
              "      <th>5629</th>\n",
              "      <td>6684</td>\n",
              "      <td>Male</td>\n",
              "      <td>0</td>\n",
              "      <td>No</td>\n",
              "      <td>No</td>\n",
              "      <td>43.0</td>\n",
              "      <td>No</td>\n",
              "      <td>No phone service</td>\n",
              "      <td>DSL</td>\n",
              "      <td>No</td>\n",
              "      <td>No</td>\n",
              "      <td>Yes</td>\n",
              "      <td>Yes</td>\n",
              "      <td>No</td>\n",
              "      <td>Yes</td>\n",
              "      <td>One year</td>\n",
              "      <td>No</td>\n",
              "      <td>Electronic check</td>\n",
              "      <td>44.15</td>\n",
              "      <td>1931.30</td>\n",
              "      <td>0</td>\n",
              "    </tr>\n",
              "    <tr>\n",
              "      <th>5630</th>\n",
              "      <td>604</td>\n",
              "      <td>Male</td>\n",
              "      <td>0</td>\n",
              "      <td>No</td>\n",
              "      <td>No</td>\n",
              "      <td>27.0</td>\n",
              "      <td>Yes</td>\n",
              "      <td>Yes</td>\n",
              "      <td>Fiber optic</td>\n",
              "      <td>No</td>\n",
              "      <td>Yes</td>\n",
              "      <td>Yes</td>\n",
              "      <td>Yes</td>\n",
              "      <td>Yes</td>\n",
              "      <td>Yes</td>\n",
              "      <td>Two year</td>\n",
              "      <td>No</td>\n",
              "      <td>Electronic check</td>\n",
              "      <td>108.65</td>\n",
              "      <td>4903.20</td>\n",
              "      <td>0</td>\n",
              "    </tr>\n",
              "    <tr>\n",
              "      <th>5631</th>\n",
              "      <td>4803</td>\n",
              "      <td>Female</td>\n",
              "      <td>0</td>\n",
              "      <td>No</td>\n",
              "      <td>No</td>\n",
              "      <td>28.0</td>\n",
              "      <td>Yes</td>\n",
              "      <td>No</td>\n",
              "      <td>DSL</td>\n",
              "      <td>No</td>\n",
              "      <td>Yes</td>\n",
              "      <td>No</td>\n",
              "      <td>Yes</td>\n",
              "      <td>No</td>\n",
              "      <td>No</td>\n",
              "      <td>Month-to-month</td>\n",
              "      <td>No</td>\n",
              "      <td>Bank transfer (automatic)</td>\n",
              "      <td>54.65</td>\n",
              "      <td>1517.50</td>\n",
              "      <td>0</td>\n",
              "    </tr>\n",
              "    <tr>\n",
              "      <th>5632</th>\n",
              "      <td>6317</td>\n",
              "      <td>Male</td>\n",
              "      <td>0</td>\n",
              "      <td>Yes</td>\n",
              "      <td>Yes</td>\n",
              "      <td>63.0</td>\n",
              "      <td>Yes</td>\n",
              "      <td>Yes</td>\n",
              "      <td>No</td>\n",
              "      <td>No internet service</td>\n",
              "      <td>No internet service</td>\n",
              "      <td>No internet service</td>\n",
              "      <td>No internet service</td>\n",
              "      <td>No internet service</td>\n",
              "      <td>No internet service</td>\n",
              "      <td>Two year</td>\n",
              "      <td>No</td>\n",
              "      <td>Mailed check</td>\n",
              "      <td>25.25</td>\n",
              "      <td>1573.05</td>\n",
              "      <td>0</td>\n",
              "    </tr>\n",
              "    <tr>\n",
              "      <th>5633</th>\n",
              "      <td>103</td>\n",
              "      <td>Male</td>\n",
              "      <td>0</td>\n",
              "      <td>No</td>\n",
              "      <td>No</td>\n",
              "      <td>38.0</td>\n",
              "      <td>Yes</td>\n",
              "      <td>Yes</td>\n",
              "      <td>Fiber optic</td>\n",
              "      <td>No</td>\n",
              "      <td>No</td>\n",
              "      <td>Yes</td>\n",
              "      <td>Yes</td>\n",
              "      <td>Yes</td>\n",
              "      <td>No</td>\n",
              "      <td>One year</td>\n",
              "      <td>No</td>\n",
              "      <td>Bank transfer (automatic)</td>\n",
              "      <td>95.00</td>\n",
              "      <td>3605.60</td>\n",
              "      <td>0</td>\n",
              "    </tr>\n",
              "  </tbody>\n",
              "</table>\n",
              "<p>5634 rows × 21 columns</p>\n",
              "</div>"
            ],
            "text/plain": [
              "        id  gender  seniorcitizen  ... monthlycharges totalcharges  churn\n",
              "0     4030  Female              0  ...          45.05      2560.10      0\n",
              "1     6731    Male              0  ...          19.65       332.65      0\n",
              "2     6479  Female              0  ...         110.80      6640.70      0\n",
              "3     6861  Female              0  ...         101.90      3545.35      1\n",
              "4     3266    Male              0  ...          70.75      1974.80      1\n",
              "...    ...     ...            ...  ...            ...          ...    ...\n",
              "5629  6684    Male              0  ...          44.15      1931.30      0\n",
              "5630   604    Male              0  ...         108.65      4903.20      0\n",
              "5631  4803  Female              0  ...          54.65      1517.50      0\n",
              "5632  6317    Male              0  ...          25.25      1573.05      0\n",
              "5633   103    Male              0  ...          95.00      3605.60      0\n",
              "\n",
              "[5634 rows x 21 columns]"
            ]
          },
          "metadata": {
            "tags": []
          },
          "execution_count": 96
        }
      ]
    },
    {
      "cell_type": "code",
      "metadata": {
        "id": "6O6OKznkbDl0",
        "outputId": "c792a22d-e897-4624-e760-e56e41e4acca",
        "colab": {
          "base_uri": "https://localhost:8080/"
        }
      },
      "source": [
        "df_churn_train[['gender']].value_counts()"
      ],
      "execution_count": null,
      "outputs": [
        {
          "output_type": "execute_result",
          "data": {
            "text/plain": [
              "gender\n",
              "Male      2849\n",
              "Female    2785\n",
              "dtype: int64"
            ]
          },
          "metadata": {
            "tags": []
          },
          "execution_count": 97
        }
      ]
    },
    {
      "cell_type": "code",
      "metadata": {
        "id": "6u8zC1kPbDdR",
        "outputId": "f1d25674-3939-425e-a0c8-561066f6fc1d",
        "colab": {
          "base_uri": "https://localhost:8080/"
        }
      },
      "source": [
        "df_churn_train[['paymentmethod']].value_counts()"
      ],
      "execution_count": null,
      "outputs": [
        {
          "output_type": "execute_result",
          "data": {
            "text/plain": [
              "paymentmethod            \n",
              "Electronic check             1887\n",
              "Mailed check                 1272\n",
              "Bank transfer (automatic)    1212\n",
              "Credit card (automatic)      1164\n",
              "Banck transfer                 99\n",
              "dtype: int64"
            ]
          },
          "metadata": {
            "tags": []
          },
          "execution_count": 98
        }
      ]
    },
    {
      "cell_type": "code",
      "metadata": {
        "id": "JgzFZ2gNbDan"
      },
      "source": [
        ""
      ],
      "execution_count": null,
      "outputs": []
    },
    {
      "cell_type": "code",
      "metadata": {
        "id": "MkFLTgvpbDTS"
      },
      "source": [
        ""
      ],
      "execution_count": null,
      "outputs": []
    },
    {
      "cell_type": "code",
      "metadata": {
        "id": "7PyCUezMbDQi"
      },
      "source": [
        ""
      ],
      "execution_count": null,
      "outputs": []
    }
  ]
}