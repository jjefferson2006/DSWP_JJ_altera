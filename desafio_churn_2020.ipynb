{
  "nbformat": 4,
  "nbformat_minor": 0,
  "metadata": {
    "colab": {
      "name": "Untitled0.ipynb",
      "provenance": [],
      "authorship_tag": "ABX9TyNKbAq/2iITwhjpyeRYIk2j",
      "include_colab_link": true
    },
    "kernelspec": {
      "name": "python3",
      "display_name": "Python 3"
    }
  },
  "cells": [
    {
      "cell_type": "markdown",
      "metadata": {
        "id": "view-in-github",
        "colab_type": "text"
      },
      "source": [
        "<a href=\"https://colab.research.google.com/github/jjefferson2006/DSWP_JJ_altera/blob/main/desafio_churn_2020.ipynb\" target=\"_parent\"><img src=\"https://colab.research.google.com/assets/colab-badge.svg\" alt=\"Open In Colab\"/></a>"
      ]
    },
    {
      "cell_type": "code",
      "metadata": {
        "id": "GHYJ8JpkWoUh",
        "outputId": "dda2c5aa-b42f-4467-ac68-fc763b78aa69",
        "colab": {
          "base_uri": "https://localhost:8080/"
        }
      },
      "source": [
        "import pandas as pd\n",
        "import numpy as np\n",
        "import matplotlib.pyplot as plt\n",
        "import seaborn as sns\n",
        "%matplotlib inline\n",
        "\n",
        "import statsmodels.api as sm\n",
        "import statsmodels.formula.api as smf\n",
        "from sklearn.linear_model import LogisticRegression\n",
        "from sklearn.metrics import roc_auc_score, roc_curve, classification_report, accuracy_score, confusion_matrix\n"
      ],
      "execution_count": 1,
      "outputs": [
        {
          "output_type": "stream",
          "text": [
            "/usr/local/lib/python3.6/dist-packages/statsmodels/tools/_testing.py:19: FutureWarning: pandas.util.testing is deprecated. Use the functions in the public API at pandas.testing instead.\n",
            "  import pandas.util.testing as tm\n"
          ],
          "name": "stderr"
        }
      ]
    },
    {
      "cell_type": "markdown",
      "metadata": {
        "id": "rFsRWmhDWuZQ"
      },
      "source": [
        "###carregar dados\n"
      ]
    },
    {
      "cell_type": "code",
      "metadata": {
        "id": "2cvG6B-zWsTb",
        "outputId": "ab3cd81a-5485-4831-8054-182d50ca7ac0",
        "colab": {
          "base_uri": "https://localhost:8080/",
          "height": 593
        }
      },
      "source": [
        "url = 'https://raw.githubusercontent.com/jjefferson2006/DSWP_JJ_altera/main/train.csv'\n",
        "df_churn_train = pd.read_csv(url)\n",
        "df_churn_train"
      ],
      "execution_count": 2,
      "outputs": [
        {
          "output_type": "execute_result",
          "data": {
            "text/html": [
              "<div>\n",
              "<style scoped>\n",
              "    .dataframe tbody tr th:only-of-type {\n",
              "        vertical-align: middle;\n",
              "    }\n",
              "\n",
              "    .dataframe tbody tr th {\n",
              "        vertical-align: top;\n",
              "    }\n",
              "\n",
              "    .dataframe thead th {\n",
              "        text-align: right;\n",
              "    }\n",
              "</style>\n",
              "<table border=\"1\" class=\"dataframe\">\n",
              "  <thead>\n",
              "    <tr style=\"text-align: right;\">\n",
              "      <th></th>\n",
              "      <th>id</th>\n",
              "      <th>gender</th>\n",
              "      <th>SeniorCitizen</th>\n",
              "      <th>Partner</th>\n",
              "      <th>Dependents</th>\n",
              "      <th>tenure</th>\n",
              "      <th>PhoneService</th>\n",
              "      <th>MultipleLines</th>\n",
              "      <th>InternetService</th>\n",
              "      <th>OnlineSecurity</th>\n",
              "      <th>OnlineBackup</th>\n",
              "      <th>DeviceProtection</th>\n",
              "      <th>TechSupport</th>\n",
              "      <th>StreamingTV</th>\n",
              "      <th>StreamingMovies</th>\n",
              "      <th>Contract</th>\n",
              "      <th>PaperlessBilling</th>\n",
              "      <th>PaymentMethod</th>\n",
              "      <th>MonthlyCharges</th>\n",
              "      <th>TotalCharges</th>\n",
              "      <th>Churn</th>\n",
              "    </tr>\n",
              "  </thead>\n",
              "  <tbody>\n",
              "    <tr>\n",
              "      <th>0</th>\n",
              "      <td>4030</td>\n",
              "      <td>Female</td>\n",
              "      <td>0</td>\n",
              "      <td>No</td>\n",
              "      <td>No</td>\n",
              "      <td>56.0</td>\n",
              "      <td>No</td>\n",
              "      <td>No phone service</td>\n",
              "      <td>DSL</td>\n",
              "      <td>Yes</td>\n",
              "      <td>Yes</td>\n",
              "      <td>Yes</td>\n",
              "      <td>Yes</td>\n",
              "      <td>No</td>\n",
              "      <td>No</td>\n",
              "      <td>Two year</td>\n",
              "      <td>No</td>\n",
              "      <td>NaN</td>\n",
              "      <td>45.05</td>\n",
              "      <td>2560.1</td>\n",
              "      <td>0</td>\n",
              "    </tr>\n",
              "    <tr>\n",
              "      <th>1</th>\n",
              "      <td>6731</td>\n",
              "      <td>Male</td>\n",
              "      <td>0</td>\n",
              "      <td>Yes</td>\n",
              "      <td>Yes</td>\n",
              "      <td>NaN</td>\n",
              "      <td>Yes</td>\n",
              "      <td>No</td>\n",
              "      <td>No</td>\n",
              "      <td>No internet service</td>\n",
              "      <td>No internet service</td>\n",
              "      <td>No internet service</td>\n",
              "      <td>No internet service</td>\n",
              "      <td>No internet service</td>\n",
              "      <td>No internet service</td>\n",
              "      <td>One year</td>\n",
              "      <td>No</td>\n",
              "      <td>Mailed check</td>\n",
              "      <td>19.65</td>\n",
              "      <td>332.65</td>\n",
              "      <td>0</td>\n",
              "    </tr>\n",
              "    <tr>\n",
              "      <th>2</th>\n",
              "      <td>6479</td>\n",
              "      <td>Female</td>\n",
              "      <td>0</td>\n",
              "      <td>Yes</td>\n",
              "      <td>No</td>\n",
              "      <td>60.0</td>\n",
              "      <td>Yes</td>\n",
              "      <td>Yes</td>\n",
              "      <td>Fiber optic</td>\n",
              "      <td>No</td>\n",
              "      <td>Yes</td>\n",
              "      <td>Yes</td>\n",
              "      <td>Yes</td>\n",
              "      <td>Yes</td>\n",
              "      <td>Yes</td>\n",
              "      <td>Two year</td>\n",
              "      <td>Yes</td>\n",
              "      <td>Credit card (automatic)</td>\n",
              "      <td>110.80</td>\n",
              "      <td>6640.7</td>\n",
              "      <td>0</td>\n",
              "    </tr>\n",
              "    <tr>\n",
              "      <th>3</th>\n",
              "      <td>6861</td>\n",
              "      <td>Female</td>\n",
              "      <td>0</td>\n",
              "      <td>No</td>\n",
              "      <td>No</td>\n",
              "      <td>37.0</td>\n",
              "      <td>Yes</td>\n",
              "      <td>Yes</td>\n",
              "      <td>Fiber optic</td>\n",
              "      <td>No</td>\n",
              "      <td>Yes</td>\n",
              "      <td>Yes</td>\n",
              "      <td>No</td>\n",
              "      <td>Yes</td>\n",
              "      <td>Yes</td>\n",
              "      <td>Month-to-month</td>\n",
              "      <td>Yes</td>\n",
              "      <td>Bank transfer (automatic)</td>\n",
              "      <td>101.90</td>\n",
              "      <td>3545.35</td>\n",
              "      <td>1</td>\n",
              "    </tr>\n",
              "    <tr>\n",
              "      <th>4</th>\n",
              "      <td>3266</td>\n",
              "      <td>Male</td>\n",
              "      <td>0</td>\n",
              "      <td>Yes</td>\n",
              "      <td>Yes</td>\n",
              "      <td>29.0</td>\n",
              "      <td>Yes</td>\n",
              "      <td>No</td>\n",
              "      <td>Fiber optic</td>\n",
              "      <td>No</td>\n",
              "      <td>No</td>\n",
              "      <td>No</td>\n",
              "      <td>No</td>\n",
              "      <td>No</td>\n",
              "      <td>No</td>\n",
              "      <td>Month-to-month</td>\n",
              "      <td>Yes</td>\n",
              "      <td>Electronic check</td>\n",
              "      <td>70.75</td>\n",
              "      <td>1974.8</td>\n",
              "      <td>1</td>\n",
              "    </tr>\n",
              "    <tr>\n",
              "      <th>...</th>\n",
              "      <td>...</td>\n",
              "      <td>...</td>\n",
              "      <td>...</td>\n",
              "      <td>...</td>\n",
              "      <td>...</td>\n",
              "      <td>...</td>\n",
              "      <td>...</td>\n",
              "      <td>...</td>\n",
              "      <td>...</td>\n",
              "      <td>...</td>\n",
              "      <td>...</td>\n",
              "      <td>...</td>\n",
              "      <td>...</td>\n",
              "      <td>...</td>\n",
              "      <td>...</td>\n",
              "      <td>...</td>\n",
              "      <td>...</td>\n",
              "      <td>...</td>\n",
              "      <td>...</td>\n",
              "      <td>...</td>\n",
              "      <td>...</td>\n",
              "    </tr>\n",
              "    <tr>\n",
              "      <th>5629</th>\n",
              "      <td>6684</td>\n",
              "      <td>Male</td>\n",
              "      <td>0</td>\n",
              "      <td>No</td>\n",
              "      <td>No</td>\n",
              "      <td>43.0</td>\n",
              "      <td>No</td>\n",
              "      <td>No phone service</td>\n",
              "      <td>DSL</td>\n",
              "      <td>No</td>\n",
              "      <td>No</td>\n",
              "      <td>Yes</td>\n",
              "      <td>Yes</td>\n",
              "      <td>No</td>\n",
              "      <td>Yes</td>\n",
              "      <td>One year</td>\n",
              "      <td>No</td>\n",
              "      <td>Electronic check</td>\n",
              "      <td>44.15</td>\n",
              "      <td>1931.3</td>\n",
              "      <td>0</td>\n",
              "    </tr>\n",
              "    <tr>\n",
              "      <th>5630</th>\n",
              "      <td>604</td>\n",
              "      <td>Male</td>\n",
              "      <td>0</td>\n",
              "      <td>No</td>\n",
              "      <td>No</td>\n",
              "      <td>NaN</td>\n",
              "      <td>Yes</td>\n",
              "      <td>Yes</td>\n",
              "      <td>Fiber optic</td>\n",
              "      <td>No</td>\n",
              "      <td>Yes</td>\n",
              "      <td>Yes</td>\n",
              "      <td>Yes</td>\n",
              "      <td>Yes</td>\n",
              "      <td>Yes</td>\n",
              "      <td>Two year</td>\n",
              "      <td>No</td>\n",
              "      <td>Electronic check</td>\n",
              "      <td>108.65</td>\n",
              "      <td>4903.2</td>\n",
              "      <td>0</td>\n",
              "    </tr>\n",
              "    <tr>\n",
              "      <th>5631</th>\n",
              "      <td>4803</td>\n",
              "      <td>Female</td>\n",
              "      <td>0</td>\n",
              "      <td>No</td>\n",
              "      <td>No</td>\n",
              "      <td>28.0</td>\n",
              "      <td>Yes</td>\n",
              "      <td>No</td>\n",
              "      <td>DSL</td>\n",
              "      <td>No</td>\n",
              "      <td>Yes</td>\n",
              "      <td>No</td>\n",
              "      <td>Yes</td>\n",
              "      <td>No</td>\n",
              "      <td>No</td>\n",
              "      <td>Month-to-month</td>\n",
              "      <td>No</td>\n",
              "      <td>Bank transfer (automatic)</td>\n",
              "      <td>54.65</td>\n",
              "      <td>1517.5</td>\n",
              "      <td>0</td>\n",
              "    </tr>\n",
              "    <tr>\n",
              "      <th>5632</th>\n",
              "      <td>6317</td>\n",
              "      <td>Male</td>\n",
              "      <td>0</td>\n",
              "      <td>Yes</td>\n",
              "      <td>Yes</td>\n",
              "      <td>63.0</td>\n",
              "      <td>Yes</td>\n",
              "      <td>Yes</td>\n",
              "      <td>No</td>\n",
              "      <td>No internet service</td>\n",
              "      <td>No internet service</td>\n",
              "      <td>No internet service</td>\n",
              "      <td>No internet service</td>\n",
              "      <td>No internet service</td>\n",
              "      <td>No internet service</td>\n",
              "      <td>Two year</td>\n",
              "      <td>No</td>\n",
              "      <td>Mailed check</td>\n",
              "      <td>25.25</td>\n",
              "      <td>1573.05</td>\n",
              "      <td>0</td>\n",
              "    </tr>\n",
              "    <tr>\n",
              "      <th>5633</th>\n",
              "      <td>103</td>\n",
              "      <td>Male</td>\n",
              "      <td>0</td>\n",
              "      <td>No</td>\n",
              "      <td>No</td>\n",
              "      <td>38.0</td>\n",
              "      <td>Yes</td>\n",
              "      <td>Yes</td>\n",
              "      <td>Fiber optic</td>\n",
              "      <td>No</td>\n",
              "      <td>No</td>\n",
              "      <td>Yes</td>\n",
              "      <td>Yes</td>\n",
              "      <td>Yes</td>\n",
              "      <td>No</td>\n",
              "      <td>One year</td>\n",
              "      <td>No</td>\n",
              "      <td>Bank transfer (automatic)</td>\n",
              "      <td>95.00</td>\n",
              "      <td>3605.6</td>\n",
              "      <td>0</td>\n",
              "    </tr>\n",
              "  </tbody>\n",
              "</table>\n",
              "<p>5634 rows × 21 columns</p>\n",
              "</div>"
            ],
            "text/plain": [
              "        id  gender  SeniorCitizen  ... MonthlyCharges TotalCharges  Churn\n",
              "0     4030  Female              0  ...          45.05       2560.1      0\n",
              "1     6731    Male              0  ...          19.65       332.65      0\n",
              "2     6479  Female              0  ...         110.80       6640.7      0\n",
              "3     6861  Female              0  ...         101.90      3545.35      1\n",
              "4     3266    Male              0  ...          70.75       1974.8      1\n",
              "...    ...     ...            ...  ...            ...          ...    ...\n",
              "5629  6684    Male              0  ...          44.15       1931.3      0\n",
              "5630   604    Male              0  ...         108.65       4903.2      0\n",
              "5631  4803  Female              0  ...          54.65       1517.5      0\n",
              "5632  6317    Male              0  ...          25.25      1573.05      0\n",
              "5633   103    Male              0  ...          95.00       3605.6      0\n",
              "\n",
              "[5634 rows x 21 columns]"
            ]
          },
          "metadata": {
            "tags": []
          },
          "execution_count": 2
        }
      ]
    },
    {
      "cell_type": "code",
      "metadata": {
        "id": "r9n78QM-tW6m"
      },
      "source": [
        "df_churn_train_copy = df_churn_train.copy()"
      ],
      "execution_count": 3,
      "outputs": []
    },
    {
      "cell_type": "code",
      "metadata": {
        "id": "gO2BTONGu8jk",
        "outputId": "2606487d-c016-4bc2-88b3-e981f4967a9f",
        "colab": {
          "base_uri": "https://localhost:8080/",
          "height": 593
        }
      },
      "source": [
        "df_churn_train_copy"
      ],
      "execution_count": 4,
      "outputs": [
        {
          "output_type": "execute_result",
          "data": {
            "text/html": [
              "<div>\n",
              "<style scoped>\n",
              "    .dataframe tbody tr th:only-of-type {\n",
              "        vertical-align: middle;\n",
              "    }\n",
              "\n",
              "    .dataframe tbody tr th {\n",
              "        vertical-align: top;\n",
              "    }\n",
              "\n",
              "    .dataframe thead th {\n",
              "        text-align: right;\n",
              "    }\n",
              "</style>\n",
              "<table border=\"1\" class=\"dataframe\">\n",
              "  <thead>\n",
              "    <tr style=\"text-align: right;\">\n",
              "      <th></th>\n",
              "      <th>id</th>\n",
              "      <th>gender</th>\n",
              "      <th>SeniorCitizen</th>\n",
              "      <th>Partner</th>\n",
              "      <th>Dependents</th>\n",
              "      <th>tenure</th>\n",
              "      <th>PhoneService</th>\n",
              "      <th>MultipleLines</th>\n",
              "      <th>InternetService</th>\n",
              "      <th>OnlineSecurity</th>\n",
              "      <th>OnlineBackup</th>\n",
              "      <th>DeviceProtection</th>\n",
              "      <th>TechSupport</th>\n",
              "      <th>StreamingTV</th>\n",
              "      <th>StreamingMovies</th>\n",
              "      <th>Contract</th>\n",
              "      <th>PaperlessBilling</th>\n",
              "      <th>PaymentMethod</th>\n",
              "      <th>MonthlyCharges</th>\n",
              "      <th>TotalCharges</th>\n",
              "      <th>Churn</th>\n",
              "    </tr>\n",
              "  </thead>\n",
              "  <tbody>\n",
              "    <tr>\n",
              "      <th>0</th>\n",
              "      <td>4030</td>\n",
              "      <td>Female</td>\n",
              "      <td>0</td>\n",
              "      <td>No</td>\n",
              "      <td>No</td>\n",
              "      <td>56.0</td>\n",
              "      <td>No</td>\n",
              "      <td>No phone service</td>\n",
              "      <td>DSL</td>\n",
              "      <td>Yes</td>\n",
              "      <td>Yes</td>\n",
              "      <td>Yes</td>\n",
              "      <td>Yes</td>\n",
              "      <td>No</td>\n",
              "      <td>No</td>\n",
              "      <td>Two year</td>\n",
              "      <td>No</td>\n",
              "      <td>NaN</td>\n",
              "      <td>45.05</td>\n",
              "      <td>2560.1</td>\n",
              "      <td>0</td>\n",
              "    </tr>\n",
              "    <tr>\n",
              "      <th>1</th>\n",
              "      <td>6731</td>\n",
              "      <td>Male</td>\n",
              "      <td>0</td>\n",
              "      <td>Yes</td>\n",
              "      <td>Yes</td>\n",
              "      <td>NaN</td>\n",
              "      <td>Yes</td>\n",
              "      <td>No</td>\n",
              "      <td>No</td>\n",
              "      <td>No internet service</td>\n",
              "      <td>No internet service</td>\n",
              "      <td>No internet service</td>\n",
              "      <td>No internet service</td>\n",
              "      <td>No internet service</td>\n",
              "      <td>No internet service</td>\n",
              "      <td>One year</td>\n",
              "      <td>No</td>\n",
              "      <td>Mailed check</td>\n",
              "      <td>19.65</td>\n",
              "      <td>332.65</td>\n",
              "      <td>0</td>\n",
              "    </tr>\n",
              "    <tr>\n",
              "      <th>2</th>\n",
              "      <td>6479</td>\n",
              "      <td>Female</td>\n",
              "      <td>0</td>\n",
              "      <td>Yes</td>\n",
              "      <td>No</td>\n",
              "      <td>60.0</td>\n",
              "      <td>Yes</td>\n",
              "      <td>Yes</td>\n",
              "      <td>Fiber optic</td>\n",
              "      <td>No</td>\n",
              "      <td>Yes</td>\n",
              "      <td>Yes</td>\n",
              "      <td>Yes</td>\n",
              "      <td>Yes</td>\n",
              "      <td>Yes</td>\n",
              "      <td>Two year</td>\n",
              "      <td>Yes</td>\n",
              "      <td>Credit card (automatic)</td>\n",
              "      <td>110.80</td>\n",
              "      <td>6640.7</td>\n",
              "      <td>0</td>\n",
              "    </tr>\n",
              "    <tr>\n",
              "      <th>3</th>\n",
              "      <td>6861</td>\n",
              "      <td>Female</td>\n",
              "      <td>0</td>\n",
              "      <td>No</td>\n",
              "      <td>No</td>\n",
              "      <td>37.0</td>\n",
              "      <td>Yes</td>\n",
              "      <td>Yes</td>\n",
              "      <td>Fiber optic</td>\n",
              "      <td>No</td>\n",
              "      <td>Yes</td>\n",
              "      <td>Yes</td>\n",
              "      <td>No</td>\n",
              "      <td>Yes</td>\n",
              "      <td>Yes</td>\n",
              "      <td>Month-to-month</td>\n",
              "      <td>Yes</td>\n",
              "      <td>Bank transfer (automatic)</td>\n",
              "      <td>101.90</td>\n",
              "      <td>3545.35</td>\n",
              "      <td>1</td>\n",
              "    </tr>\n",
              "    <tr>\n",
              "      <th>4</th>\n",
              "      <td>3266</td>\n",
              "      <td>Male</td>\n",
              "      <td>0</td>\n",
              "      <td>Yes</td>\n",
              "      <td>Yes</td>\n",
              "      <td>29.0</td>\n",
              "      <td>Yes</td>\n",
              "      <td>No</td>\n",
              "      <td>Fiber optic</td>\n",
              "      <td>No</td>\n",
              "      <td>No</td>\n",
              "      <td>No</td>\n",
              "      <td>No</td>\n",
              "      <td>No</td>\n",
              "      <td>No</td>\n",
              "      <td>Month-to-month</td>\n",
              "      <td>Yes</td>\n",
              "      <td>Electronic check</td>\n",
              "      <td>70.75</td>\n",
              "      <td>1974.8</td>\n",
              "      <td>1</td>\n",
              "    </tr>\n",
              "    <tr>\n",
              "      <th>...</th>\n",
              "      <td>...</td>\n",
              "      <td>...</td>\n",
              "      <td>...</td>\n",
              "      <td>...</td>\n",
              "      <td>...</td>\n",
              "      <td>...</td>\n",
              "      <td>...</td>\n",
              "      <td>...</td>\n",
              "      <td>...</td>\n",
              "      <td>...</td>\n",
              "      <td>...</td>\n",
              "      <td>...</td>\n",
              "      <td>...</td>\n",
              "      <td>...</td>\n",
              "      <td>...</td>\n",
              "      <td>...</td>\n",
              "      <td>...</td>\n",
              "      <td>...</td>\n",
              "      <td>...</td>\n",
              "      <td>...</td>\n",
              "      <td>...</td>\n",
              "    </tr>\n",
              "    <tr>\n",
              "      <th>5629</th>\n",
              "      <td>6684</td>\n",
              "      <td>Male</td>\n",
              "      <td>0</td>\n",
              "      <td>No</td>\n",
              "      <td>No</td>\n",
              "      <td>43.0</td>\n",
              "      <td>No</td>\n",
              "      <td>No phone service</td>\n",
              "      <td>DSL</td>\n",
              "      <td>No</td>\n",
              "      <td>No</td>\n",
              "      <td>Yes</td>\n",
              "      <td>Yes</td>\n",
              "      <td>No</td>\n",
              "      <td>Yes</td>\n",
              "      <td>One year</td>\n",
              "      <td>No</td>\n",
              "      <td>Electronic check</td>\n",
              "      <td>44.15</td>\n",
              "      <td>1931.3</td>\n",
              "      <td>0</td>\n",
              "    </tr>\n",
              "    <tr>\n",
              "      <th>5630</th>\n",
              "      <td>604</td>\n",
              "      <td>Male</td>\n",
              "      <td>0</td>\n",
              "      <td>No</td>\n",
              "      <td>No</td>\n",
              "      <td>NaN</td>\n",
              "      <td>Yes</td>\n",
              "      <td>Yes</td>\n",
              "      <td>Fiber optic</td>\n",
              "      <td>No</td>\n",
              "      <td>Yes</td>\n",
              "      <td>Yes</td>\n",
              "      <td>Yes</td>\n",
              "      <td>Yes</td>\n",
              "      <td>Yes</td>\n",
              "      <td>Two year</td>\n",
              "      <td>No</td>\n",
              "      <td>Electronic check</td>\n",
              "      <td>108.65</td>\n",
              "      <td>4903.2</td>\n",
              "      <td>0</td>\n",
              "    </tr>\n",
              "    <tr>\n",
              "      <th>5631</th>\n",
              "      <td>4803</td>\n",
              "      <td>Female</td>\n",
              "      <td>0</td>\n",
              "      <td>No</td>\n",
              "      <td>No</td>\n",
              "      <td>28.0</td>\n",
              "      <td>Yes</td>\n",
              "      <td>No</td>\n",
              "      <td>DSL</td>\n",
              "      <td>No</td>\n",
              "      <td>Yes</td>\n",
              "      <td>No</td>\n",
              "      <td>Yes</td>\n",
              "      <td>No</td>\n",
              "      <td>No</td>\n",
              "      <td>Month-to-month</td>\n",
              "      <td>No</td>\n",
              "      <td>Bank transfer (automatic)</td>\n",
              "      <td>54.65</td>\n",
              "      <td>1517.5</td>\n",
              "      <td>0</td>\n",
              "    </tr>\n",
              "    <tr>\n",
              "      <th>5632</th>\n",
              "      <td>6317</td>\n",
              "      <td>Male</td>\n",
              "      <td>0</td>\n",
              "      <td>Yes</td>\n",
              "      <td>Yes</td>\n",
              "      <td>63.0</td>\n",
              "      <td>Yes</td>\n",
              "      <td>Yes</td>\n",
              "      <td>No</td>\n",
              "      <td>No internet service</td>\n",
              "      <td>No internet service</td>\n",
              "      <td>No internet service</td>\n",
              "      <td>No internet service</td>\n",
              "      <td>No internet service</td>\n",
              "      <td>No internet service</td>\n",
              "      <td>Two year</td>\n",
              "      <td>No</td>\n",
              "      <td>Mailed check</td>\n",
              "      <td>25.25</td>\n",
              "      <td>1573.05</td>\n",
              "      <td>0</td>\n",
              "    </tr>\n",
              "    <tr>\n",
              "      <th>5633</th>\n",
              "      <td>103</td>\n",
              "      <td>Male</td>\n",
              "      <td>0</td>\n",
              "      <td>No</td>\n",
              "      <td>No</td>\n",
              "      <td>38.0</td>\n",
              "      <td>Yes</td>\n",
              "      <td>Yes</td>\n",
              "      <td>Fiber optic</td>\n",
              "      <td>No</td>\n",
              "      <td>No</td>\n",
              "      <td>Yes</td>\n",
              "      <td>Yes</td>\n",
              "      <td>Yes</td>\n",
              "      <td>No</td>\n",
              "      <td>One year</td>\n",
              "      <td>No</td>\n",
              "      <td>Bank transfer (automatic)</td>\n",
              "      <td>95.00</td>\n",
              "      <td>3605.6</td>\n",
              "      <td>0</td>\n",
              "    </tr>\n",
              "  </tbody>\n",
              "</table>\n",
              "<p>5634 rows × 21 columns</p>\n",
              "</div>"
            ],
            "text/plain": [
              "        id  gender  SeniorCitizen  ... MonthlyCharges TotalCharges  Churn\n",
              "0     4030  Female              0  ...          45.05       2560.1      0\n",
              "1     6731    Male              0  ...          19.65       332.65      0\n",
              "2     6479  Female              0  ...         110.80       6640.7      0\n",
              "3     6861  Female              0  ...         101.90      3545.35      1\n",
              "4     3266    Male              0  ...          70.75       1974.8      1\n",
              "...    ...     ...            ...  ...            ...          ...    ...\n",
              "5629  6684    Male              0  ...          44.15       1931.3      0\n",
              "5630   604    Male              0  ...         108.65       4903.2      0\n",
              "5631  4803  Female              0  ...          54.65       1517.5      0\n",
              "5632  6317    Male              0  ...          25.25      1573.05      0\n",
              "5633   103    Male              0  ...          95.00       3605.6      0\n",
              "\n",
              "[5634 rows x 21 columns]"
            ]
          },
          "metadata": {
            "tags": []
          },
          "execution_count": 4
        }
      ]
    },
    {
      "cell_type": "code",
      "metadata": {
        "id": "c7M4yeRvb2fk",
        "outputId": "a2b499c0-ebfe-486c-e86f-a1babfed24b7",
        "colab": {
          "base_uri": "https://localhost:8080/",
          "height": 301
        }
      },
      "source": [
        "#Normalizar as colunas\n",
        "df_churn_train.columns = [col.lower() for col in df_churn_train.columns]\n",
        "df_churn_train.head()"
      ],
      "execution_count": 5,
      "outputs": [
        {
          "output_type": "execute_result",
          "data": {
            "text/html": [
              "<div>\n",
              "<style scoped>\n",
              "    .dataframe tbody tr th:only-of-type {\n",
              "        vertical-align: middle;\n",
              "    }\n",
              "\n",
              "    .dataframe tbody tr th {\n",
              "        vertical-align: top;\n",
              "    }\n",
              "\n",
              "    .dataframe thead th {\n",
              "        text-align: right;\n",
              "    }\n",
              "</style>\n",
              "<table border=\"1\" class=\"dataframe\">\n",
              "  <thead>\n",
              "    <tr style=\"text-align: right;\">\n",
              "      <th></th>\n",
              "      <th>id</th>\n",
              "      <th>gender</th>\n",
              "      <th>seniorcitizen</th>\n",
              "      <th>partner</th>\n",
              "      <th>dependents</th>\n",
              "      <th>tenure</th>\n",
              "      <th>phoneservice</th>\n",
              "      <th>multiplelines</th>\n",
              "      <th>internetservice</th>\n",
              "      <th>onlinesecurity</th>\n",
              "      <th>onlinebackup</th>\n",
              "      <th>deviceprotection</th>\n",
              "      <th>techsupport</th>\n",
              "      <th>streamingtv</th>\n",
              "      <th>streamingmovies</th>\n",
              "      <th>contract</th>\n",
              "      <th>paperlessbilling</th>\n",
              "      <th>paymentmethod</th>\n",
              "      <th>monthlycharges</th>\n",
              "      <th>totalcharges</th>\n",
              "      <th>churn</th>\n",
              "    </tr>\n",
              "  </thead>\n",
              "  <tbody>\n",
              "    <tr>\n",
              "      <th>0</th>\n",
              "      <td>4030</td>\n",
              "      <td>Female</td>\n",
              "      <td>0</td>\n",
              "      <td>No</td>\n",
              "      <td>No</td>\n",
              "      <td>56.0</td>\n",
              "      <td>No</td>\n",
              "      <td>No phone service</td>\n",
              "      <td>DSL</td>\n",
              "      <td>Yes</td>\n",
              "      <td>Yes</td>\n",
              "      <td>Yes</td>\n",
              "      <td>Yes</td>\n",
              "      <td>No</td>\n",
              "      <td>No</td>\n",
              "      <td>Two year</td>\n",
              "      <td>No</td>\n",
              "      <td>NaN</td>\n",
              "      <td>45.05</td>\n",
              "      <td>2560.1</td>\n",
              "      <td>0</td>\n",
              "    </tr>\n",
              "    <tr>\n",
              "      <th>1</th>\n",
              "      <td>6731</td>\n",
              "      <td>Male</td>\n",
              "      <td>0</td>\n",
              "      <td>Yes</td>\n",
              "      <td>Yes</td>\n",
              "      <td>NaN</td>\n",
              "      <td>Yes</td>\n",
              "      <td>No</td>\n",
              "      <td>No</td>\n",
              "      <td>No internet service</td>\n",
              "      <td>No internet service</td>\n",
              "      <td>No internet service</td>\n",
              "      <td>No internet service</td>\n",
              "      <td>No internet service</td>\n",
              "      <td>No internet service</td>\n",
              "      <td>One year</td>\n",
              "      <td>No</td>\n",
              "      <td>Mailed check</td>\n",
              "      <td>19.65</td>\n",
              "      <td>332.65</td>\n",
              "      <td>0</td>\n",
              "    </tr>\n",
              "    <tr>\n",
              "      <th>2</th>\n",
              "      <td>6479</td>\n",
              "      <td>Female</td>\n",
              "      <td>0</td>\n",
              "      <td>Yes</td>\n",
              "      <td>No</td>\n",
              "      <td>60.0</td>\n",
              "      <td>Yes</td>\n",
              "      <td>Yes</td>\n",
              "      <td>Fiber optic</td>\n",
              "      <td>No</td>\n",
              "      <td>Yes</td>\n",
              "      <td>Yes</td>\n",
              "      <td>Yes</td>\n",
              "      <td>Yes</td>\n",
              "      <td>Yes</td>\n",
              "      <td>Two year</td>\n",
              "      <td>Yes</td>\n",
              "      <td>Credit card (automatic)</td>\n",
              "      <td>110.80</td>\n",
              "      <td>6640.7</td>\n",
              "      <td>0</td>\n",
              "    </tr>\n",
              "    <tr>\n",
              "      <th>3</th>\n",
              "      <td>6861</td>\n",
              "      <td>Female</td>\n",
              "      <td>0</td>\n",
              "      <td>No</td>\n",
              "      <td>No</td>\n",
              "      <td>37.0</td>\n",
              "      <td>Yes</td>\n",
              "      <td>Yes</td>\n",
              "      <td>Fiber optic</td>\n",
              "      <td>No</td>\n",
              "      <td>Yes</td>\n",
              "      <td>Yes</td>\n",
              "      <td>No</td>\n",
              "      <td>Yes</td>\n",
              "      <td>Yes</td>\n",
              "      <td>Month-to-month</td>\n",
              "      <td>Yes</td>\n",
              "      <td>Bank transfer (automatic)</td>\n",
              "      <td>101.90</td>\n",
              "      <td>3545.35</td>\n",
              "      <td>1</td>\n",
              "    </tr>\n",
              "    <tr>\n",
              "      <th>4</th>\n",
              "      <td>3266</td>\n",
              "      <td>Male</td>\n",
              "      <td>0</td>\n",
              "      <td>Yes</td>\n",
              "      <td>Yes</td>\n",
              "      <td>29.0</td>\n",
              "      <td>Yes</td>\n",
              "      <td>No</td>\n",
              "      <td>Fiber optic</td>\n",
              "      <td>No</td>\n",
              "      <td>No</td>\n",
              "      <td>No</td>\n",
              "      <td>No</td>\n",
              "      <td>No</td>\n",
              "      <td>No</td>\n",
              "      <td>Month-to-month</td>\n",
              "      <td>Yes</td>\n",
              "      <td>Electronic check</td>\n",
              "      <td>70.75</td>\n",
              "      <td>1974.8</td>\n",
              "      <td>1</td>\n",
              "    </tr>\n",
              "  </tbody>\n",
              "</table>\n",
              "</div>"
            ],
            "text/plain": [
              "     id  gender  seniorcitizen  ... monthlycharges totalcharges  churn\n",
              "0  4030  Female              0  ...          45.05       2560.1      0\n",
              "1  6731    Male              0  ...          19.65       332.65      0\n",
              "2  6479  Female              0  ...         110.80       6640.7      0\n",
              "3  6861  Female              0  ...         101.90      3545.35      1\n",
              "4  3266    Male              0  ...          70.75       1974.8      1\n",
              "\n",
              "[5 rows x 21 columns]"
            ]
          },
          "metadata": {
            "tags": []
          },
          "execution_count": 5
        }
      ]
    },
    {
      "cell_type": "markdown",
      "metadata": {
        "id": "b5jcJpHqY1wl"
      },
      "source": [
        " **'id':'id',     'gender':'genero',    'SeniorCitizen':'Idoso', \n",
        " \n",
        "  'Partner':'TemParceiro',      'Dependents':'TemDependentes',\n",
        "\n",
        "  'tenure':'MesesNaCompanhia',     'PhoneService':'TemTelefone',\n",
        "\n",
        "   'MultipleLines':'MaisLinhas',    'InternetService':'TemInternet',\n",
        "\n",
        "    'OnlineSecurity':'ServicoSegurancaOnline',   \n",
        "\n",
        "    'OnlineBackup':'ServicoBackupOnline',\n",
        "\n",
        "    'DeviceProtection':'ServicoProtecaoOnline',\n",
        "\n",
        "    'TechSupport':'ServicoSuporteOnline',\n",
        "\n",
        "    'StreamingTV':'ServicoTV',\n",
        "\n",
        "    'StreamingMovies':'ServicoPctFilmes',\n",
        "\n",
        "    'Contract':'Contrato',\n",
        "\n",
        "    'PaperlessBilling':'ContaOnline',\n",
        "\n",
        "    'PaymentMethod':'MetodoPagamento',\n",
        "\n",
        "    'MonthlyCharges':'CobrancaMensal',\n",
        "\n",
        "    'TotalCharges':'CobrancaTotal',\n",
        "\n",
        "    'Churn':'Churn'**\n"
      ]
    },
    {
      "cell_type": "code",
      "metadata": {
        "id": "w7I678lkWsdK",
        "outputId": "472f6e17-278b-46fa-dae9-7ff3844604f9",
        "colab": {
          "base_uri": "https://localhost:8080/"
        }
      },
      "source": [
        "#contar a variavel target\n",
        "df_churn_train['churn'].value_counts()"
      ],
      "execution_count": 6,
      "outputs": [
        {
          "output_type": "execute_result",
          "data": {
            "text/plain": [
              "0    4139\n",
              "1    1495\n",
              "Name: churn, dtype: int64"
            ]
          },
          "metadata": {
            "tags": []
          },
          "execution_count": 6
        }
      ]
    },
    {
      "cell_type": "code",
      "metadata": {
        "id": "82X_fE4mamKn",
        "outputId": "8a3440c6-47db-4bf6-c0ac-7abb87012d16",
        "colab": {
          "base_uri": "https://localhost:8080/",
          "height": 296
        }
      },
      "source": [
        "sns.countplot( x ='churn', data = df_churn_train)"
      ],
      "execution_count": 7,
      "outputs": [
        {
          "output_type": "execute_result",
          "data": {
            "text/plain": [
              "<matplotlib.axes._subplots.AxesSubplot at 0x7ff549776208>"
            ]
          },
          "metadata": {
            "tags": []
          },
          "execution_count": 7
        },
        {
          "output_type": "display_data",
          "data": {
            "image/png": "[encoded data removed]",
            "text/plain": [
              "<Figure size 432x288 with 1 Axes>"
            ]
          },
          "metadata": {
            "tags": [],
            "needs_background": "light"
          }
        }
      ]
    },
    {
      "cell_type": "code",
      "metadata": {
        "id": "yZbnxy8RaZ3K",
        "outputId": "34bb1140-fca7-49c7-ced2-5e2cc53cbeec",
        "colab": {
          "base_uri": "https://localhost:8080/"
        }
      },
      "source": [
        "#percentagem de 0 e 1 da variavel target\n",
        "df_churn_train['churn'].value_counts()/df_churn_train.shape[0]*100"
      ],
      "execution_count": 8,
      "outputs": [
        {
          "output_type": "execute_result",
          "data": {
            "text/plain": [
              "0    73.464679\n",
              "1    26.535321\n",
              "Name: churn, dtype: float64"
            ]
          },
          "metadata": {
            "tags": []
          },
          "execution_count": 8
        }
      ]
    },
    {
      "cell_type": "code",
      "metadata": {
        "id": "7VUG8_QQcsJW",
        "outputId": "c7a49768-bbcf-4d3b-8434-7044781ede86",
        "colab": {
          "base_uri": "https://localhost:8080/"
        }
      },
      "source": [
        "#(linhas, colunas) do df\n",
        "df_churn_train.shape\n"
      ],
      "execution_count": 9,
      "outputs": [
        {
          "output_type": "execute_result",
          "data": {
            "text/plain": [
              "(5634, 21)"
            ]
          },
          "metadata": {
            "tags": []
          },
          "execution_count": 9
        }
      ]
    },
    {
      "cell_type": "markdown",
      "metadata": {
        "id": "vClsNYtLdP7D"
      },
      "source": [
        "### Missing Values"
      ]
    },
    {
      "cell_type": "code",
      "metadata": {
        "id": "HUCbVyLFWsgx",
        "outputId": "0b68b8c7-a024-42ea-9cdc-f53a498fb3da",
        "colab": {
          "base_uri": "https://localhost:8080/"
        }
      },
      "source": [
        "df_churn_train.isna().sum()"
      ],
      "execution_count": 10,
      "outputs": [
        {
          "output_type": "execute_result",
          "data": {
            "text/plain": [
              "id                    0\n",
              "gender                0\n",
              "seniorcitizen         0\n",
              "partner               0\n",
              "dependents          218\n",
              "tenure              461\n",
              "phoneservice          0\n",
              "multiplelines         0\n",
              "internetservice       0\n",
              "onlinesecurity        0\n",
              "onlinebackup          0\n",
              "deviceprotection      0\n",
              "techsupport           0\n",
              "streamingtv           0\n",
              "streamingmovies       0\n",
              "contract              0\n",
              "paperlessbilling      0\n",
              "paymentmethod        99\n",
              "monthlycharges        0\n",
              "totalcharges          0\n",
              "churn                 0\n",
              "dtype: int64"
            ]
          },
          "metadata": {
            "tags": []
          },
          "execution_count": 10
        }
      ]
    },
    {
      "cell_type": "code",
      "metadata": {
        "id": "1ijIyAxrgYcd",
        "outputId": "80691f7d-ba28-4bda-f230-780a4ff1db22",
        "colab": {
          "base_uri": "https://localhost:8080/"
        }
      },
      "source": [
        "df_churn_train.dtypes"
      ],
      "execution_count": 11,
      "outputs": [
        {
          "output_type": "execute_result",
          "data": {
            "text/plain": [
              "id                    int64\n",
              "gender               object\n",
              "seniorcitizen         int64\n",
              "partner              object\n",
              "dependents           object\n",
              "tenure              float64\n",
              "phoneservice         object\n",
              "multiplelines        object\n",
              "internetservice      object\n",
              "onlinesecurity       object\n",
              "onlinebackup         object\n",
              "deviceprotection     object\n",
              "techsupport          object\n",
              "streamingtv          object\n",
              "streamingmovies      object\n",
              "contract             object\n",
              "paperlessbilling     object\n",
              "paymentmethod        object\n",
              "monthlycharges      float64\n",
              "totalcharges         object\n",
              "churn                 int64\n",
              "dtype: object"
            ]
          },
          "metadata": {
            "tags": []
          },
          "execution_count": 11
        }
      ]
    },
    {
      "cell_type": "code",
      "metadata": {
        "id": "bxNjnDM0g000"
      },
      "source": [
        ""
      ],
      "execution_count": null,
      "outputs": []
    },
    {
      "cell_type": "markdown",
      "metadata": {
        "id": "El6tsKj6heeG"
      },
      "source": [
        "###Analise da tenure"
      ]
    },
    {
      "cell_type": "code",
      "metadata": {
        "id": "1dcpubdXWskA",
        "outputId": "fab71aa4-da8d-46b8-85e0-6594e1d7e787",
        "colab": {
          "base_uri": "https://localhost:8080/",
          "height": 312
        }
      },
      "source": [
        "#plota usando o Seaborn, dod 3 missing somente tenure é float\n",
        "\n",
        "plt.subplot(1,1, 1)\n",
        "fig = sns.boxplot(x = 'tenure', data = df_churn_train, orient= 'h', color = 'b')\n",
        "fig.set_xlabel('valores tenure')\n",
        "fig.set_title('box tenure')\n",
        "\n"
      ],
      "execution_count": 12,
      "outputs": [
        {
          "output_type": "execute_result",
          "data": {
            "text/plain": [
              "Text(0.5, 1.0, 'box tenure')"
            ]
          },
          "metadata": {
            "tags": []
          },
          "execution_count": 12
        },
        {
          "output_type": "display_data",
          "data": {
            "image/png": "[encoded data removed]",
            "text/plain": [
              "<Figure size 432x288 with 1 Axes>"
            ]
          },
          "metadata": {
            "tags": [],
            "needs_background": "light"
          }
        }
      ]
    },
    {
      "cell_type": "code",
      "metadata": {
        "id": "MF5tTFCZimfi",
        "outputId": "cea3968d-e709-4f48-bcee-fa81b041f108",
        "colab": {
          "base_uri": "https://localhost:8080/",
          "height": 501
        }
      },
      "source": [
        "#tenure não tem outliers \n",
        "df_churn_train[['tenure']].plot(kind = 'box', showmeans = True, meanline = True, grid = True, figsize = (12,8), vert = False, ylabel = 'Features')"
      ],
      "execution_count": 13,
      "outputs": [
        {
          "output_type": "execute_result",
          "data": {
            "text/plain": [
              "<matplotlib.axes._subplots.AxesSubplot at 0x7ff54872a198>"
            ]
          },
          "metadata": {
            "tags": []
          },
          "execution_count": 13
        },
        {
          "output_type": "display_data",
          "data": {
            "image/png": "[encoded data removed]",
            "text/plain": [
              "<Figure size 864x576 with 1 Axes>"
            ]
          },
          "metadata": {
            "tags": [],
            "needs_background": "light"
          }
        }
      ]
    },
    {
      "cell_type": "code",
      "metadata": {
        "id": "j6WVRCvdh_uT",
        "outputId": "4cd4aa9b-57f4-42fe-9e0f-b0c7298828b4",
        "colab": {
          "base_uri": "https://localhost:8080/"
        }
      },
      "source": [
        "df_churn_train['tenure']"
      ],
      "execution_count": 14,
      "outputs": [
        {
          "output_type": "execute_result",
          "data": {
            "text/plain": [
              "0       56.0\n",
              "1        NaN\n",
              "2       60.0\n",
              "3       37.0\n",
              "4       29.0\n",
              "        ... \n",
              "5629    43.0\n",
              "5630     NaN\n",
              "5631    28.0\n",
              "5632    63.0\n",
              "5633    38.0\n",
              "Name: tenure, Length: 5634, dtype: float64"
            ]
          },
          "metadata": {
            "tags": []
          },
          "execution_count": 14
        }
      ]
    },
    {
      "cell_type": "code",
      "metadata": {
        "id": "O92L6fkYjQBG",
        "outputId": "2b03031e-adc1-4d96-dcf9-d23872ec9a72",
        "colab": {
          "base_uri": "https://localhost:8080/"
        }
      },
      "source": [
        "df_churn_train['tenure'].isna().sum()"
      ],
      "execution_count": 15,
      "outputs": [
        {
          "output_type": "execute_result",
          "data": {
            "text/plain": [
              "461"
            ]
          },
          "metadata": {
            "tags": []
          },
          "execution_count": 15
        }
      ]
    },
    {
      "cell_type": "code",
      "metadata": {
        "id": "pTjDZXw7jcs0",
        "outputId": "4864334d-4e9e-444c-c118-1f2a59eebab2",
        "colab": {
          "base_uri": "https://localhost:8080/"
        }
      },
      "source": [
        "#os isna na tenure 8,18%, substiuir pela mean()\n",
        "df_churn_train['tenure'].isna().sum()/df_churn_train.shape[0]*100"
      ],
      "execution_count": 16,
      "outputs": [
        {
          "output_type": "execute_result",
          "data": {
            "text/plain": [
              "8.182463613773518"
            ]
          },
          "metadata": {
            "tags": []
          },
          "execution_count": 16
        }
      ]
    },
    {
      "cell_type": "code",
      "metadata": {
        "id": "0tix-K7hkH5x",
        "outputId": "bb064769-6c41-4c06-cf77-710ddc7f01b0",
        "colab": {
          "base_uri": "https://localhost:8080/"
        }
      },
      "source": [
        "df_churn_train['tenure'].mean()"
      ],
      "execution_count": 17,
      "outputs": [
        {
          "output_type": "execute_result",
          "data": {
            "text/plain": [
              "32.332882273342356"
            ]
          },
          "metadata": {
            "tags": []
          },
          "execution_count": 17
        }
      ]
    },
    {
      "cell_type": "code",
      "metadata": {
        "id": "y_rytYWDkTEX",
        "outputId": "4e9a6d01-4869-4e73-b79d-a7d134df61a6",
        "colab": {
          "base_uri": "https://localhost:8080/",
          "height": 287
        }
      },
      "source": [
        "df_churn_train[['tenure']].describe()"
      ],
      "execution_count": 18,
      "outputs": [
        {
          "output_type": "execute_result",
          "data": {
            "text/html": [
              "<div>\n",
              "<style scoped>\n",
              "    .dataframe tbody tr th:only-of-type {\n",
              "        vertical-align: middle;\n",
              "    }\n",
              "\n",
              "    .dataframe tbody tr th {\n",
              "        vertical-align: top;\n",
              "    }\n",
              "\n",
              "    .dataframe thead th {\n",
              "        text-align: right;\n",
              "    }\n",
              "</style>\n",
              "<table border=\"1\" class=\"dataframe\">\n",
              "  <thead>\n",
              "    <tr style=\"text-align: right;\">\n",
              "      <th></th>\n",
              "      <th>tenure</th>\n",
              "    </tr>\n",
              "  </thead>\n",
              "  <tbody>\n",
              "    <tr>\n",
              "      <th>count</th>\n",
              "      <td>5173.000000</td>\n",
              "    </tr>\n",
              "    <tr>\n",
              "      <th>mean</th>\n",
              "      <td>32.332882</td>\n",
              "    </tr>\n",
              "    <tr>\n",
              "      <th>std</th>\n",
              "      <td>24.463607</td>\n",
              "    </tr>\n",
              "    <tr>\n",
              "      <th>min</th>\n",
              "      <td>0.000000</td>\n",
              "    </tr>\n",
              "    <tr>\n",
              "      <th>25%</th>\n",
              "      <td>9.000000</td>\n",
              "    </tr>\n",
              "    <tr>\n",
              "      <th>50%</th>\n",
              "      <td>29.000000</td>\n",
              "    </tr>\n",
              "    <tr>\n",
              "      <th>75%</th>\n",
              "      <td>55.000000</td>\n",
              "    </tr>\n",
              "    <tr>\n",
              "      <th>max</th>\n",
              "      <td>72.000000</td>\n",
              "    </tr>\n",
              "  </tbody>\n",
              "</table>\n",
              "</div>"
            ],
            "text/plain": [
              "            tenure\n",
              "count  5173.000000\n",
              "mean     32.332882\n",
              "std      24.463607\n",
              "min       0.000000\n",
              "25%       9.000000\n",
              "50%      29.000000\n",
              "75%      55.000000\n",
              "max      72.000000"
            ]
          },
          "metadata": {
            "tags": []
          },
          "execution_count": 18
        }
      ]
    },
    {
      "cell_type": "code",
      "metadata": {
        "id": "rxnf5tYZsMcC",
        "outputId": "64619861-e5f1-4ec1-f8f3-32c99477c07a",
        "colab": {
          "base_uri": "https://localhost:8080/"
        }
      },
      "source": [
        "#29(53); 9 (81); 55(48), substutir por 27\n",
        "mp_q = (9*81+29*53+55*48)/(53+81+48)\n",
        "mp_q\n",
        "                    "
      ],
      "execution_count": 19,
      "outputs": [
        {
          "output_type": "execute_result",
          "data": {
            "text/plain": [
              "26.956043956043956"
            ]
          },
          "metadata": {
            "tags": []
          },
          "execution_count": 19
        }
      ]
    },
    {
      "cell_type": "code",
      "metadata": {
        "id": "AGIZg0jQqgmd",
        "outputId": "f2166d45-6ef9-43fb-efad-244e5853235a",
        "colab": {
          "base_uri": "https://localhost:8080/"
        }
      },
      "source": [
        "df_churn_train[df_churn_train['tenure']==55].count()"
      ],
      "execution_count": 20,
      "outputs": [
        {
          "output_type": "execute_result",
          "data": {
            "text/plain": [
              "id                  48\n",
              "gender              48\n",
              "seniorcitizen       48\n",
              "partner             48\n",
              "dependents          46\n",
              "tenure              48\n",
              "phoneservice        48\n",
              "multiplelines       48\n",
              "internetservice     48\n",
              "onlinesecurity      48\n",
              "onlinebackup        48\n",
              "deviceprotection    48\n",
              "techsupport         48\n",
              "streamingtv         48\n",
              "streamingmovies     48\n",
              "contract            48\n",
              "paperlessbilling    48\n",
              "paymentmethod       48\n",
              "monthlycharges      48\n",
              "totalcharges        48\n",
              "churn               48\n",
              "dtype: int64"
            ]
          },
          "metadata": {
            "tags": []
          },
          "execution_count": 20
        }
      ]
    },
    {
      "cell_type": "code",
      "metadata": {
        "id": "9lISjhqmnQEr"
      },
      "source": [
        "#substituição dos na por mp-q\n",
        "df_churn_train['tenure'].fillna(mp_q, inplace = True)"
      ],
      "execution_count": 21,
      "outputs": []
    },
    {
      "cell_type": "code",
      "metadata": {
        "id": "Ugfe_36pg0gl",
        "outputId": "1e2c51aa-d101-47f0-b664-7453496af9a8",
        "colab": {
          "base_uri": "https://localhost:8080/",
          "height": 67
        }
      },
      "source": [
        "df_churn_train[df_churn_train['tenure'].isna()]"
      ],
      "execution_count": 22,
      "outputs": [
        {
          "output_type": "execute_result",
          "data": {
            "text/html": [
              "<div>\n",
              "<style scoped>\n",
              "    .dataframe tbody tr th:only-of-type {\n",
              "        vertical-align: middle;\n",
              "    }\n",
              "\n",
              "    .dataframe tbody tr th {\n",
              "        vertical-align: top;\n",
              "    }\n",
              "\n",
              "    .dataframe thead th {\n",
              "        text-align: right;\n",
              "    }\n",
              "</style>\n",
              "<table border=\"1\" class=\"dataframe\">\n",
              "  <thead>\n",
              "    <tr style=\"text-align: right;\">\n",
              "      <th></th>\n",
              "      <th>id</th>\n",
              "      <th>gender</th>\n",
              "      <th>seniorcitizen</th>\n",
              "      <th>partner</th>\n",
              "      <th>dependents</th>\n",
              "      <th>tenure</th>\n",
              "      <th>phoneservice</th>\n",
              "      <th>multiplelines</th>\n",
              "      <th>internetservice</th>\n",
              "      <th>onlinesecurity</th>\n",
              "      <th>onlinebackup</th>\n",
              "      <th>deviceprotection</th>\n",
              "      <th>techsupport</th>\n",
              "      <th>streamingtv</th>\n",
              "      <th>streamingmovies</th>\n",
              "      <th>contract</th>\n",
              "      <th>paperlessbilling</th>\n",
              "      <th>paymentmethod</th>\n",
              "      <th>monthlycharges</th>\n",
              "      <th>totalcharges</th>\n",
              "      <th>churn</th>\n",
              "    </tr>\n",
              "  </thead>\n",
              "  <tbody>\n",
              "  </tbody>\n",
              "</table>\n",
              "</div>"
            ],
            "text/plain": [
              "Empty DataFrame\n",
              "Columns: [id, gender, seniorcitizen, partner, dependents, tenure, phoneservice, multiplelines, internetservice, onlinesecurity, onlinebackup, deviceprotection, techsupport, streamingtv, streamingmovies, contract, paperlessbilling, paymentmethod, monthlycharges, totalcharges, churn]\n",
              "Index: []"
            ]
          },
          "metadata": {
            "tags": []
          },
          "execution_count": 22
        }
      ]
    },
    {
      "cell_type": "code",
      "metadata": {
        "id": "JE_4L3rQg0qb",
        "outputId": "3814b9d3-71c9-4c51-d015-117b0edf2ffb",
        "colab": {
          "base_uri": "https://localhost:8080/",
          "height": 287
        }
      },
      "source": [
        "#checa o describe apos o trata na\n",
        "df_churn_train[['tenure']].describe()"
      ],
      "execution_count": 23,
      "outputs": [
        {
          "output_type": "execute_result",
          "data": {
            "text/html": [
              "<div>\n",
              "<style scoped>\n",
              "    .dataframe tbody tr th:only-of-type {\n",
              "        vertical-align: middle;\n",
              "    }\n",
              "\n",
              "    .dataframe tbody tr th {\n",
              "        vertical-align: top;\n",
              "    }\n",
              "\n",
              "    .dataframe thead th {\n",
              "        text-align: right;\n",
              "    }\n",
              "</style>\n",
              "<table border=\"1\" class=\"dataframe\">\n",
              "  <thead>\n",
              "    <tr style=\"text-align: right;\">\n",
              "      <th></th>\n",
              "      <th>tenure</th>\n",
              "    </tr>\n",
              "  </thead>\n",
              "  <tbody>\n",
              "    <tr>\n",
              "      <th>count</th>\n",
              "      <td>5634.000000</td>\n",
              "    </tr>\n",
              "    <tr>\n",
              "      <th>mean</th>\n",
              "      <td>31.892924</td>\n",
              "    </tr>\n",
              "    <tr>\n",
              "      <th>std</th>\n",
              "      <td>23.487493</td>\n",
              "    </tr>\n",
              "    <tr>\n",
              "      <th>min</th>\n",
              "      <td>0.000000</td>\n",
              "    </tr>\n",
              "    <tr>\n",
              "      <th>25%</th>\n",
              "      <td>10.000000</td>\n",
              "    </tr>\n",
              "    <tr>\n",
              "      <th>50%</th>\n",
              "      <td>26.956044</td>\n",
              "    </tr>\n",
              "    <tr>\n",
              "      <th>75%</th>\n",
              "      <td>53.000000</td>\n",
              "    </tr>\n",
              "    <tr>\n",
              "      <th>max</th>\n",
              "      <td>72.000000</td>\n",
              "    </tr>\n",
              "  </tbody>\n",
              "</table>\n",
              "</div>"
            ],
            "text/plain": [
              "            tenure\n",
              "count  5634.000000\n",
              "mean     31.892924\n",
              "std      23.487493\n",
              "min       0.000000\n",
              "25%      10.000000\n",
              "50%      26.956044\n",
              "75%      53.000000\n",
              "max      72.000000"
            ]
          },
          "metadata": {
            "tags": []
          },
          "execution_count": 23
        }
      ]
    },
    {
      "cell_type": "code",
      "metadata": {
        "id": "BYBseOhmWsnJ"
      },
      "source": [
        ""
      ],
      "execution_count": null,
      "outputs": []
    },
    {
      "cell_type": "markdown",
      "metadata": {
        "id": "PhW2FJ1muZPX"
      },
      "source": [
        "**tratar os dependentes**"
      ]
    },
    {
      "cell_type": "code",
      "metadata": {
        "id": "dKOD15BjWsqc",
        "outputId": "eb7582b3-336c-4be6-d7b2-8617d2c9b86b",
        "colab": {
          "base_uri": "https://localhost:8080/",
          "height": 406
        }
      },
      "source": [
        "df_churn_train[['dependents']]"
      ],
      "execution_count": 41,
      "outputs": [
        {
          "output_type": "execute_result",
          "data": {
            "text/html": [
              "<div>\n",
              "<style scoped>\n",
              "    .dataframe tbody tr th:only-of-type {\n",
              "        vertical-align: middle;\n",
              "    }\n",
              "\n",
              "    .dataframe tbody tr th {\n",
              "        vertical-align: top;\n",
              "    }\n",
              "\n",
              "    .dataframe thead th {\n",
              "        text-align: right;\n",
              "    }\n",
              "</style>\n",
              "<table border=\"1\" class=\"dataframe\">\n",
              "  <thead>\n",
              "    <tr style=\"text-align: right;\">\n",
              "      <th></th>\n",
              "      <th>dependents</th>\n",
              "    </tr>\n",
              "  </thead>\n",
              "  <tbody>\n",
              "    <tr>\n",
              "      <th>0</th>\n",
              "      <td>No</td>\n",
              "    </tr>\n",
              "    <tr>\n",
              "      <th>1</th>\n",
              "      <td>Yes</td>\n",
              "    </tr>\n",
              "    <tr>\n",
              "      <th>2</th>\n",
              "      <td>No</td>\n",
              "    </tr>\n",
              "    <tr>\n",
              "      <th>3</th>\n",
              "      <td>No</td>\n",
              "    </tr>\n",
              "    <tr>\n",
              "      <th>4</th>\n",
              "      <td>Yes</td>\n",
              "    </tr>\n",
              "    <tr>\n",
              "      <th>...</th>\n",
              "      <td>...</td>\n",
              "    </tr>\n",
              "    <tr>\n",
              "      <th>5629</th>\n",
              "      <td>No</td>\n",
              "    </tr>\n",
              "    <tr>\n",
              "      <th>5630</th>\n",
              "      <td>No</td>\n",
              "    </tr>\n",
              "    <tr>\n",
              "      <th>5631</th>\n",
              "      <td>No</td>\n",
              "    </tr>\n",
              "    <tr>\n",
              "      <th>5632</th>\n",
              "      <td>Yes</td>\n",
              "    </tr>\n",
              "    <tr>\n",
              "      <th>5633</th>\n",
              "      <td>No</td>\n",
              "    </tr>\n",
              "  </tbody>\n",
              "</table>\n",
              "<p>5634 rows × 1 columns</p>\n",
              "</div>"
            ],
            "text/plain": [
              "     dependents\n",
              "0            No\n",
              "1           Yes\n",
              "2            No\n",
              "3            No\n",
              "4           Yes\n",
              "...         ...\n",
              "5629         No\n",
              "5630         No\n",
              "5631         No\n",
              "5632        Yes\n",
              "5633         No\n",
              "\n",
              "[5634 rows x 1 columns]"
            ]
          },
          "metadata": {
            "tags": []
          },
          "execution_count": 41
        }
      ]
    },
    {
      "cell_type": "code",
      "metadata": {
        "id": "IDzBp70twFlU",
        "outputId": "94c13912-4059-444f-d9ba-aa5a41489e16",
        "colab": {
          "base_uri": "https://localhost:8080/"
        }
      },
      "source": [
        "#conta os No e Yes\n",
        "df_churn_train[['dependents']].value_counts()"
      ],
      "execution_count": 46,
      "outputs": [
        {
          "output_type": "execute_result",
          "data": {
            "text/plain": [
              "dependents\n",
              "No            3793\n",
              "Yes           1623\n",
              "dtype: int64"
            ]
          },
          "metadata": {
            "tags": []
          },
          "execution_count": 46
        }
      ]
    },
    {
      "cell_type": "code",
      "metadata": {
        "id": "VsSdnAawyG_c",
        "outputId": "506ac5d9-fcd2-4f1a-ed22-48253882c8e2",
        "colab": {
          "base_uri": "https://localhost:8080/"
        }
      },
      "source": [
        "#calcula a % excluindo os na\n",
        "df_churn_train[['dependents']].value_counts()/(df_churn_train.shape[0]-218)*100"
      ],
      "execution_count": 49,
      "outputs": [
        {
          "output_type": "execute_result",
          "data": {
            "text/plain": [
              "dependents\n",
              "No            70.033235\n",
              "Yes           29.966765\n",
              "dtype: float64"
            ]
          },
          "metadata": {
            "tags": []
          },
          "execution_count": 49
        }
      ]
    },
    {
      "cell_type": "code",
      "metadata": {
        "id": "3-pyTWIwWstw",
        "outputId": "5b22d2c9-6b60-4a04-cdde-635fd83ac5b5",
        "colab": {
          "base_uri": "https://localhost:8080/"
        }
      },
      "source": [
        "dependents_na = df_churn_train['dependents'].isna().sum()\n",
        "dependents_na"
      ],
      "execution_count": 61,
      "outputs": [
        {
          "output_type": "execute_result",
          "data": {
            "text/plain": [
              "218"
            ]
          },
          "metadata": {
            "tags": []
          },
          "execution_count": 61
        }
      ]
    },
    {
      "cell_type": "code",
      "metadata": {
        "id": "gb4P1_Ug6Fvm",
        "outputId": "2457c999-43f9-4a72-8a14-3512a7668d77",
        "colab": {
          "base_uri": "https://localhost:8080/"
        }
      },
      "source": [
        "dependents_na/df_churn_train.shape[0]*100"
      ],
      "execution_count": 75,
      "outputs": [
        {
          "output_type": "execute_result",
          "data": {
            "text/plain": [
              "3.8693645722399714"
            ]
          },
          "metadata": {
            "tags": []
          },
          "execution_count": 75
        }
      ]
    },
    {
      "cell_type": "code",
      "metadata": {
        "id": "Dc6Xy7K-0sV8",
        "outputId": "f1a226a2-48c3-4097-ddc0-897083a26d2c",
        "colab": {
          "base_uri": "https://localhost:8080/"
        }
      },
      "source": [
        "na_70_no = dependents_na*0.7\n",
        "na_70_no"
      ],
      "execution_count": 58,
      "outputs": [
        {
          "output_type": "execute_result",
          "data": {
            "text/plain": [
              "152.6"
            ]
          },
          "metadata": {
            "tags": []
          },
          "execution_count": 58
        }
      ]
    },
    {
      "cell_type": "code",
      "metadata": {
        "id": "pup9QWsE1Baa",
        "outputId": "16fd0613-b980-4ddc-ef7b-34aa39e91aa8",
        "colab": {
          "base_uri": "https://localhost:8080/"
        }
      },
      "source": [
        "na_30_yes = dependents_na*0.3\n",
        "na_30_yes"
      ],
      "execution_count": 60,
      "outputs": [
        {
          "output_type": "execute_result",
          "data": {
            "text/plain": [
              "65.39999999999999"
            ]
          },
          "metadata": {
            "tags": []
          },
          "execution_count": 60
        }
      ]
    },
    {
      "cell_type": "code",
      "metadata": {
        "id": "j5DMtevIzuC9",
        "outputId": "07d01208-841d-47c0-e4f5-114434b64187",
        "colab": {
          "base_uri": "https://localhost:8080/",
          "height": 593
        }
      },
      "source": [
        "dependents_NaN = df_churn_train[df_churn_train['dependents'].isna()]\n",
        "dependents_NaN"
      ],
      "execution_count": 55,
      "outputs": [
        {
          "output_type": "execute_result",
          "data": {
            "text/html": [
              "<div>\n",
              "<style scoped>\n",
              "    .dataframe tbody tr th:only-of-type {\n",
              "        vertical-align: middle;\n",
              "    }\n",
              "\n",
              "    .dataframe tbody tr th {\n",
              "        vertical-align: top;\n",
              "    }\n",
              "\n",
              "    .dataframe thead th {\n",
              "        text-align: right;\n",
              "    }\n",
              "</style>\n",
              "<table border=\"1\" class=\"dataframe\">\n",
              "  <thead>\n",
              "    <tr style=\"text-align: right;\">\n",
              "      <th></th>\n",
              "      <th>id</th>\n",
              "      <th>gender</th>\n",
              "      <th>seniorcitizen</th>\n",
              "      <th>partner</th>\n",
              "      <th>dependents</th>\n",
              "      <th>tenure</th>\n",
              "      <th>phoneservice</th>\n",
              "      <th>multiplelines</th>\n",
              "      <th>internetservice</th>\n",
              "      <th>onlinesecurity</th>\n",
              "      <th>onlinebackup</th>\n",
              "      <th>deviceprotection</th>\n",
              "      <th>techsupport</th>\n",
              "      <th>streamingtv</th>\n",
              "      <th>streamingmovies</th>\n",
              "      <th>contract</th>\n",
              "      <th>paperlessbilling</th>\n",
              "      <th>paymentmethod</th>\n",
              "      <th>monthlycharges</th>\n",
              "      <th>totalcharges</th>\n",
              "      <th>churn</th>\n",
              "    </tr>\n",
              "  </thead>\n",
              "  <tbody>\n",
              "    <tr>\n",
              "      <th>73</th>\n",
              "      <td>139</td>\n",
              "      <td>Male</td>\n",
              "      <td>0</td>\n",
              "      <td>No</td>\n",
              "      <td>NaN</td>\n",
              "      <td>57.0</td>\n",
              "      <td>Yes</td>\n",
              "      <td>No</td>\n",
              "      <td>No</td>\n",
              "      <td>No internet service</td>\n",
              "      <td>No internet service</td>\n",
              "      <td>No internet service</td>\n",
              "      <td>No internet service</td>\n",
              "      <td>No internet service</td>\n",
              "      <td>No internet service</td>\n",
              "      <td>Two year</td>\n",
              "      <td>Yes</td>\n",
              "      <td>Mailed check</td>\n",
              "      <td>19.60</td>\n",
              "      <td>1170.55</td>\n",
              "      <td>0</td>\n",
              "    </tr>\n",
              "    <tr>\n",
              "      <th>89</th>\n",
              "      <td>3485</td>\n",
              "      <td>Female</td>\n",
              "      <td>1</td>\n",
              "      <td>Yes</td>\n",
              "      <td>NaN</td>\n",
              "      <td>38.0</td>\n",
              "      <td>Yes</td>\n",
              "      <td>No</td>\n",
              "      <td>Fiber optic</td>\n",
              "      <td>Yes</td>\n",
              "      <td>No</td>\n",
              "      <td>No</td>\n",
              "      <td>No</td>\n",
              "      <td>No</td>\n",
              "      <td>Yes</td>\n",
              "      <td>Month-to-month</td>\n",
              "      <td>Yes</td>\n",
              "      <td>Electronic check</td>\n",
              "      <td>83.45</td>\n",
              "      <td>3147.15</td>\n",
              "      <td>0</td>\n",
              "    </tr>\n",
              "    <tr>\n",
              "      <th>110</th>\n",
              "      <td>5091</td>\n",
              "      <td>Male</td>\n",
              "      <td>1</td>\n",
              "      <td>Yes</td>\n",
              "      <td>NaN</td>\n",
              "      <td>7.0</td>\n",
              "      <td>Yes</td>\n",
              "      <td>Yes</td>\n",
              "      <td>Fiber optic</td>\n",
              "      <td>Yes</td>\n",
              "      <td>Yes</td>\n",
              "      <td>No</td>\n",
              "      <td>No</td>\n",
              "      <td>No</td>\n",
              "      <td>Yes</td>\n",
              "      <td>Month-to-month</td>\n",
              "      <td>Yes</td>\n",
              "      <td>Credit card (automatic)</td>\n",
              "      <td>94.70</td>\n",
              "      <td>673.1</td>\n",
              "      <td>1</td>\n",
              "    </tr>\n",
              "    <tr>\n",
              "      <th>156</th>\n",
              "      <td>6188</td>\n",
              "      <td>Male</td>\n",
              "      <td>0</td>\n",
              "      <td>Yes</td>\n",
              "      <td>NaN</td>\n",
              "      <td>8.0</td>\n",
              "      <td>Yes</td>\n",
              "      <td>No</td>\n",
              "      <td>No</td>\n",
              "      <td>No internet service</td>\n",
              "      <td>No internet service</td>\n",
              "      <td>No internet service</td>\n",
              "      <td>No internet service</td>\n",
              "      <td>No internet service</td>\n",
              "      <td>No internet service</td>\n",
              "      <td>Two year</td>\n",
              "      <td>No</td>\n",
              "      <td>Mailed check</td>\n",
              "      <td>20.15</td>\n",
              "      <td>165.5</td>\n",
              "      <td>0</td>\n",
              "    </tr>\n",
              "    <tr>\n",
              "      <th>179</th>\n",
              "      <td>806</td>\n",
              "      <td>Female</td>\n",
              "      <td>0</td>\n",
              "      <td>Yes</td>\n",
              "      <td>NaN</td>\n",
              "      <td>72.0</td>\n",
              "      <td>Yes</td>\n",
              "      <td>Yes</td>\n",
              "      <td>DSL</td>\n",
              "      <td>No</td>\n",
              "      <td>No</td>\n",
              "      <td>Yes</td>\n",
              "      <td>No</td>\n",
              "      <td>Yes</td>\n",
              "      <td>Yes</td>\n",
              "      <td>Two year</td>\n",
              "      <td>Yes</td>\n",
              "      <td>Bank transfer (automatic)</td>\n",
              "      <td>76.80</td>\n",
              "      <td>5468.45</td>\n",
              "      <td>0</td>\n",
              "    </tr>\n",
              "    <tr>\n",
              "      <th>...</th>\n",
              "      <td>...</td>\n",
              "      <td>...</td>\n",
              "      <td>...</td>\n",
              "      <td>...</td>\n",
              "      <td>...</td>\n",
              "      <td>...</td>\n",
              "      <td>...</td>\n",
              "      <td>...</td>\n",
              "      <td>...</td>\n",
              "      <td>...</td>\n",
              "      <td>...</td>\n",
              "      <td>...</td>\n",
              "      <td>...</td>\n",
              "      <td>...</td>\n",
              "      <td>...</td>\n",
              "      <td>...</td>\n",
              "      <td>...</td>\n",
              "      <td>...</td>\n",
              "      <td>...</td>\n",
              "      <td>...</td>\n",
              "      <td>...</td>\n",
              "    </tr>\n",
              "    <tr>\n",
              "      <th>5512</th>\n",
              "      <td>981</td>\n",
              "      <td>Female</td>\n",
              "      <td>0</td>\n",
              "      <td>No</td>\n",
              "      <td>NaN</td>\n",
              "      <td>20.0</td>\n",
              "      <td>Yes</td>\n",
              "      <td>No</td>\n",
              "      <td>No</td>\n",
              "      <td>No internet service</td>\n",
              "      <td>No internet service</td>\n",
              "      <td>No internet service</td>\n",
              "      <td>No internet service</td>\n",
              "      <td>No internet service</td>\n",
              "      <td>No internet service</td>\n",
              "      <td>Month-to-month</td>\n",
              "      <td>Yes</td>\n",
              "      <td>Bank transfer (automatic)</td>\n",
              "      <td>19.50</td>\n",
              "      <td>413</td>\n",
              "      <td>0</td>\n",
              "    </tr>\n",
              "    <tr>\n",
              "      <th>5522</th>\n",
              "      <td>3761</td>\n",
              "      <td>Male</td>\n",
              "      <td>0</td>\n",
              "      <td>No</td>\n",
              "      <td>NaN</td>\n",
              "      <td>3.0</td>\n",
              "      <td>Yes</td>\n",
              "      <td>No</td>\n",
              "      <td>Fiber optic</td>\n",
              "      <td>No</td>\n",
              "      <td>No</td>\n",
              "      <td>Yes</td>\n",
              "      <td>No</td>\n",
              "      <td>No</td>\n",
              "      <td>No</td>\n",
              "      <td>Month-to-month</td>\n",
              "      <td>Yes</td>\n",
              "      <td>Credit card (automatic)</td>\n",
              "      <td>73.60</td>\n",
              "      <td>232.5</td>\n",
              "      <td>0</td>\n",
              "    </tr>\n",
              "    <tr>\n",
              "      <th>5541</th>\n",
              "      <td>795</td>\n",
              "      <td>Female</td>\n",
              "      <td>0</td>\n",
              "      <td>No</td>\n",
              "      <td>NaN</td>\n",
              "      <td>6.0</td>\n",
              "      <td>No</td>\n",
              "      <td>No phone service</td>\n",
              "      <td>DSL</td>\n",
              "      <td>No</td>\n",
              "      <td>No</td>\n",
              "      <td>No</td>\n",
              "      <td>No</td>\n",
              "      <td>Yes</td>\n",
              "      <td>Yes</td>\n",
              "      <td>Month-to-month</td>\n",
              "      <td>No</td>\n",
              "      <td>Credit card (automatic)</td>\n",
              "      <td>45.00</td>\n",
              "      <td>298.7</td>\n",
              "      <td>0</td>\n",
              "    </tr>\n",
              "    <tr>\n",
              "      <th>5558</th>\n",
              "      <td>4154</td>\n",
              "      <td>Male</td>\n",
              "      <td>0</td>\n",
              "      <td>No</td>\n",
              "      <td>NaN</td>\n",
              "      <td>27.0</td>\n",
              "      <td>Yes</td>\n",
              "      <td>No</td>\n",
              "      <td>No</td>\n",
              "      <td>No internet service</td>\n",
              "      <td>No internet service</td>\n",
              "      <td>No internet service</td>\n",
              "      <td>No internet service</td>\n",
              "      <td>No internet service</td>\n",
              "      <td>No internet service</td>\n",
              "      <td>One year</td>\n",
              "      <td>No</td>\n",
              "      <td>Mailed check</td>\n",
              "      <td>20.30</td>\n",
              "      <td>595.05</td>\n",
              "      <td>0</td>\n",
              "    </tr>\n",
              "    <tr>\n",
              "      <th>5616</th>\n",
              "      <td>1188</td>\n",
              "      <td>Female</td>\n",
              "      <td>1</td>\n",
              "      <td>No</td>\n",
              "      <td>NaN</td>\n",
              "      <td>71.0</td>\n",
              "      <td>Yes</td>\n",
              "      <td>Yes</td>\n",
              "      <td>Fiber optic</td>\n",
              "      <td>No</td>\n",
              "      <td>No</td>\n",
              "      <td>Yes</td>\n",
              "      <td>No</td>\n",
              "      <td>Yes</td>\n",
              "      <td>Yes</td>\n",
              "      <td>Two year</td>\n",
              "      <td>No</td>\n",
              "      <td>Bank transfer (automatic)</td>\n",
              "      <td>104.05</td>\n",
              "      <td>7413.55</td>\n",
              "      <td>0</td>\n",
              "    </tr>\n",
              "  </tbody>\n",
              "</table>\n",
              "<p>218 rows × 21 columns</p>\n",
              "</div>"
            ],
            "text/plain": [
              "        id  gender  seniorcitizen  ... monthlycharges totalcharges  churn\n",
              "73     139    Male              0  ...          19.60      1170.55      0\n",
              "89    3485  Female              1  ...          83.45      3147.15      0\n",
              "110   5091    Male              1  ...          94.70        673.1      1\n",
              "156   6188    Male              0  ...          20.15        165.5      0\n",
              "179    806  Female              0  ...          76.80      5468.45      0\n",
              "...    ...     ...            ...  ...            ...          ...    ...\n",
              "5512   981  Female              0  ...          19.50          413      0\n",
              "5522  3761    Male              0  ...          73.60        232.5      0\n",
              "5541   795  Female              0  ...          45.00        298.7      0\n",
              "5558  4154    Male              0  ...          20.30       595.05      0\n",
              "5616  1188  Female              1  ...         104.05      7413.55      0\n",
              "\n",
              "[218 rows x 21 columns]"
            ]
          },
          "metadata": {
            "tags": []
          },
          "execution_count": 55
        }
      ]
    },
    {
      "cell_type": "code",
      "metadata": {
        "id": "6t9JNKtD6nIa",
        "outputId": "e6273cd2-d246-459e-e320-794c28b59bb4",
        "colab": {
          "base_uri": "https://localhost:8080/"
        }
      },
      "source": [
        "df_churn_train['dependents'][73]"
      ],
      "execution_count": 77,
      "outputs": [
        {
          "output_type": "execute_result",
          "data": {
            "text/plain": [
              "nan"
            ]
          },
          "metadata": {
            "tags": []
          },
          "execution_count": 77
        }
      ]
    },
    {
      "cell_type": "markdown",
      "metadata": {
        "id": "-uPMIN28_W2c"
      },
      "source": [
        "###testando o prenchimento do NaN na coluna dependents"
      ]
    },
    {
      "cell_type": "code",
      "metadata": {
        "id": "wYIscn687DNf",
        "outputId": "4d08853f-bae6-4223-e26e-846f715df744",
        "colab": {
          "base_uri": "https://localhost:8080/"
        }
      },
      "source": [
        "#criar uma lista dos index nan na feature dependents\n",
        "l_index_na_dep = list(df_churn_train[df_churn_train['dependents'].isna()].index)\n",
        "l_index_na_dep"
      ],
      "execution_count": 83,
      "outputs": [
        {
          "output_type": "execute_result",
          "data": {
            "text/plain": [
              "[73,\n",
              " 89,\n",
              " 110,\n",
              " 156,\n",
              " 179,\n",
              " 222,\n",
              " 287,\n",
              " 293,\n",
              " 301,\n",
              " 324,\n",
              " 335,\n",
              " 337,\n",
              " 394,\n",
              " 492,\n",
              " 496,\n",
              " 522,\n",
              " 545,\n",
              " 546,\n",
              " 574,\n",
              " 636,\n",
              " 698,\n",
              " 726,\n",
              " 807,\n",
              " 815,\n",
              " 835,\n",
              " 845,\n",
              " 879,\n",
              " 898,\n",
              " 901,\n",
              " 978,\n",
              " 980,\n",
              " 991,\n",
              " 1000,\n",
              " 1017,\n",
              " 1047,\n",
              " 1056,\n",
              " 1061,\n",
              " 1063,\n",
              " 1096,\n",
              " 1104,\n",
              " 1183,\n",
              " 1188,\n",
              " 1208,\n",
              " 1222,\n",
              " 1315,\n",
              " 1318,\n",
              " 1367,\n",
              " 1393,\n",
              " 1427,\n",
              " 1446,\n",
              " 1461,\n",
              " 1473,\n",
              " 1483,\n",
              " 1507,\n",
              " 1512,\n",
              " 1545,\n",
              " 1572,\n",
              " 1576,\n",
              " 1578,\n",
              " 1618,\n",
              " 1649,\n",
              " 1670,\n",
              " 1694,\n",
              " 1755,\n",
              " 1757,\n",
              " 1769,\n",
              " 1801,\n",
              " 1851,\n",
              " 1864,\n",
              " 1990,\n",
              " 1997,\n",
              " 1998,\n",
              " 2019,\n",
              " 2028,\n",
              " 2046,\n",
              " 2057,\n",
              " 2095,\n",
              " 2097,\n",
              " 2098,\n",
              " 2102,\n",
              " 2116,\n",
              " 2123,\n",
              " 2128,\n",
              " 2156,\n",
              " 2169,\n",
              " 2197,\n",
              " 2213,\n",
              " 2268,\n",
              " 2311,\n",
              " 2316,\n",
              " 2335,\n",
              " 2339,\n",
              " 2386,\n",
              " 2394,\n",
              " 2446,\n",
              " 2448,\n",
              " 2458,\n",
              " 2462,\n",
              " 2484,\n",
              " 2487,\n",
              " 2503,\n",
              " 2507,\n",
              " 2510,\n",
              " 2553,\n",
              " 2575,\n",
              " 2620,\n",
              " 2648,\n",
              " 2687,\n",
              " 2694,\n",
              " 2727,\n",
              " 2733,\n",
              " 2734,\n",
              " 2736,\n",
              " 2752,\n",
              " 2754,\n",
              " 2758,\n",
              " 2763,\n",
              " 2785,\n",
              " 2832,\n",
              " 2833,\n",
              " 2839,\n",
              " 2840,\n",
              " 2889,\n",
              " 2920,\n",
              " 2933,\n",
              " 2964,\n",
              " 3056,\n",
              " 3115,\n",
              " 3127,\n",
              " 3144,\n",
              " 3164,\n",
              " 3166,\n",
              " 3184,\n",
              " 3199,\n",
              " 3252,\n",
              " 3266,\n",
              " 3284,\n",
              " 3286,\n",
              " 3288,\n",
              " 3414,\n",
              " 3419,\n",
              " 3440,\n",
              " 3458,\n",
              " 3526,\n",
              " 3556,\n",
              " 3584,\n",
              " 3587,\n",
              " 3600,\n",
              " 3654,\n",
              " 3657,\n",
              " 3699,\n",
              " 3701,\n",
              " 3703,\n",
              " 3704,\n",
              " 3705,\n",
              " 3726,\n",
              " 3745,\n",
              " 3761,\n",
              " 3764,\n",
              " 3786,\n",
              " 3813,\n",
              " 3814,\n",
              " 3839,\n",
              " 3910,\n",
              " 3969,\n",
              " 3971,\n",
              " 3980,\n",
              " 4041,\n",
              " 4052,\n",
              " 4068,\n",
              " 4081,\n",
              " 4082,\n",
              " 4093,\n",
              " 4179,\n",
              " 4263,\n",
              " 4336,\n",
              " 4348,\n",
              " 4360,\n",
              " 4379,\n",
              " 4411,\n",
              " 4511,\n",
              " 4640,\n",
              " 4670,\n",
              " 4682,\n",
              " 4688,\n",
              " 4711,\n",
              " 4808,\n",
              " 4815,\n",
              " 4825,\n",
              " 4945,\n",
              " 4948,\n",
              " 4986,\n",
              " 4998,\n",
              " 5018,\n",
              " 5139,\n",
              " 5156,\n",
              " 5161,\n",
              " 5162,\n",
              " 5212,\n",
              " 5226,\n",
              " 5261,\n",
              " 5267,\n",
              " 5305,\n",
              " 5321,\n",
              " 5354,\n",
              " 5370,\n",
              " 5442,\n",
              " 5445,\n",
              " 5458,\n",
              " 5468,\n",
              " 5472,\n",
              " 5479,\n",
              " 5491,\n",
              " 5512,\n",
              " 5522,\n",
              " 5541,\n",
              " 5558,\n",
              " 5616]"
            ]
          },
          "metadata": {
            "tags": []
          },
          "execution_count": 83
        }
      ]
    },
    {
      "cell_type": "code",
      "metadata": {
        "id": "pSZqqRsW7t-_",
        "outputId": "dd38e6c6-259c-440f-de2d-ffaf175a2e08",
        "colab": {
          "base_uri": "https://localhost:8080/"
        }
      },
      "source": [
        "len(l_index_na_dep)"
      ],
      "execution_count": 87,
      "outputs": [
        {
          "output_type": "execute_result",
          "data": {
            "text/plain": [
              "218"
            ]
          },
          "metadata": {
            "tags": []
          },
          "execution_count": 87
        }
      ]
    },
    {
      "cell_type": "code",
      "metadata": {
        "id": "f-6pyz4w8eQC",
        "outputId": "075cef69-266d-42f4-dd50-0ff71b04e65e",
        "colab": {
          "base_uri": "https://localhost:8080/",
          "height": 406
        }
      },
      "source": [
        "df_dep_tra = df_churn_train[['dependents']].copy()\n",
        "df_dep_tra"
      ],
      "execution_count": 89,
      "outputs": [
        {
          "output_type": "execute_result",
          "data": {
            "text/html": [
              "<div>\n",
              "<style scoped>\n",
              "    .dataframe tbody tr th:only-of-type {\n",
              "        vertical-align: middle;\n",
              "    }\n",
              "\n",
              "    .dataframe tbody tr th {\n",
              "        vertical-align: top;\n",
              "    }\n",
              "\n",
              "    .dataframe thead th {\n",
              "        text-align: right;\n",
              "    }\n",
              "</style>\n",
              "<table border=\"1\" class=\"dataframe\">\n",
              "  <thead>\n",
              "    <tr style=\"text-align: right;\">\n",
              "      <th></th>\n",
              "      <th>dependents</th>\n",
              "    </tr>\n",
              "  </thead>\n",
              "  <tbody>\n",
              "    <tr>\n",
              "      <th>0</th>\n",
              "      <td>No</td>\n",
              "    </tr>\n",
              "    <tr>\n",
              "      <th>1</th>\n",
              "      <td>Yes</td>\n",
              "    </tr>\n",
              "    <tr>\n",
              "      <th>2</th>\n",
              "      <td>No</td>\n",
              "    </tr>\n",
              "    <tr>\n",
              "      <th>3</th>\n",
              "      <td>No</td>\n",
              "    </tr>\n",
              "    <tr>\n",
              "      <th>4</th>\n",
              "      <td>Yes</td>\n",
              "    </tr>\n",
              "    <tr>\n",
              "      <th>...</th>\n",
              "      <td>...</td>\n",
              "    </tr>\n",
              "    <tr>\n",
              "      <th>5629</th>\n",
              "      <td>No</td>\n",
              "    </tr>\n",
              "    <tr>\n",
              "      <th>5630</th>\n",
              "      <td>No</td>\n",
              "    </tr>\n",
              "    <tr>\n",
              "      <th>5631</th>\n",
              "      <td>No</td>\n",
              "    </tr>\n",
              "    <tr>\n",
              "      <th>5632</th>\n",
              "      <td>Yes</td>\n",
              "    </tr>\n",
              "    <tr>\n",
              "      <th>5633</th>\n",
              "      <td>No</td>\n",
              "    </tr>\n",
              "  </tbody>\n",
              "</table>\n",
              "<p>5634 rows × 1 columns</p>\n",
              "</div>"
            ],
            "text/plain": [
              "     dependents\n",
              "0            No\n",
              "1           Yes\n",
              "2            No\n",
              "3            No\n",
              "4           Yes\n",
              "...         ...\n",
              "5629         No\n",
              "5630         No\n",
              "5631         No\n",
              "5632        Yes\n",
              "5633         No\n",
              "\n",
              "[5634 rows x 1 columns]"
            ]
          },
          "metadata": {
            "tags": []
          },
          "execution_count": 89
        }
      ]
    },
    {
      "cell_type": "code",
      "metadata": {
        "id": "4UnVXlCY82v-"
      },
      "source": [
        "d = 0\n",
        "for c in l_index_na_dep:\n",
        "    df_dep_tra['dependents'][c] = 'No'\n",
        "    d = d + 1\n",
        "    if  d >= 153:\n",
        "       df_dep_tra['dependents'][c] = 'Yes'  \n"
      ],
      "execution_count": 92,
      "outputs": []
    },
    {
      "cell_type": "code",
      "metadata": {
        "id": "jln4SNtt-gst",
        "outputId": "008e3381-afa1-4bac-9077-4908b9917491",
        "colab": {
          "base_uri": "https://localhost:8080/"
        }
      },
      "source": [
        "df_dep_tra.isna().sum()"
      ],
      "execution_count": 94,
      "outputs": [
        {
          "output_type": "execute_result",
          "data": {
            "text/plain": [
              "dependents    0\n",
              "dtype: int64"
            ]
          },
          "metadata": {
            "tags": []
          },
          "execution_count": 94
        }
      ]
    },
    {
      "cell_type": "code",
      "metadata": {
        "id": "DH8sYxDO-w6t",
        "outputId": "3cae0cb1-c1a9-4265-ee00-fd6ed5669258",
        "colab": {
          "base_uri": "https://localhost:8080/"
        }
      },
      "source": [
        "df_dep_tra[['dependents']].value_counts()/df_dep_tra.shape[0]"
      ],
      "execution_count": 96,
      "outputs": [
        {
          "output_type": "execute_result",
          "data": {
            "text/plain": [
              "dependents\n",
              "No            0.700213\n",
              "Yes           0.299787\n",
              "dtype: float64"
            ]
          },
          "metadata": {
            "tags": []
          },
          "execution_count": 96
        }
      ]
    },
    {
      "cell_type": "code",
      "metadata": {
        "id": "pVZGaz9xzOcB",
        "outputId": "06473eb7-aafe-4d8d-c0a4-33bcfb6d028a",
        "colab": {
          "base_uri": "https://localhost:8080/"
        }
      },
      "source": [
        "#ajuste No em 70% e Yes em 30%\n",
        "df_churn_train['dependents'].isna()\n"
      ],
      "execution_count": 56,
      "outputs": [
        {
          "output_type": "execute_result",
          "data": {
            "text/plain": [
              "0       False\n",
              "1       False\n",
              "2       False\n",
              "3       False\n",
              "4       False\n",
              "        ...  \n",
              "5629    False\n",
              "5630    False\n",
              "5631    False\n",
              "5632    False\n",
              "5633    False\n",
              "Name: dependents, Length: 5634, dtype: bool"
            ]
          },
          "metadata": {
            "tags": []
          },
          "execution_count": 56
        }
      ]
    },
    {
      "cell_type": "code",
      "metadata": {
        "id": "k1Ks_BQz5Vzh",
        "outputId": "01c7bdaa-dd10-4801-cf0a-b63fd84d6383",
        "colab": {
          "base_uri": "https://localhost:8080/"
        }
      },
      "source": [
        "#tratamento da feature dependents\n",
        "s = 0\n",
        "for c in l_index_na_dep:\n",
        "    df_churn_train['dependents'][c] = 'No'\n",
        "    s = s + 1\n",
        "    if  s >= 153:\n",
        "       df_dep_tra['dependents'][c] = 'Yes'  \n"
      ],
      "execution_count": 97,
      "outputs": [
        {
          "output_type": "stream",
          "text": [
            "/usr/local/lib/python3.6/dist-packages/ipykernel_launcher.py:3: SettingWithCopyWarning: \n",
            "A value is trying to be set on a copy of a slice from a DataFrame\n",
            "\n",
            "See the caveats in the documentation: https://pandas.pydata.org/pandas-docs/stable/user_guide/indexing.html#returning-a-view-versus-a-copy\n",
            "  This is separate from the ipykernel package so we can avoid doing imports until\n"
          ],
          "name": "stderr"
        }
      ]
    },
    {
      "cell_type": "code",
      "metadata": {
        "id": "g1KJuargAiUe",
        "outputId": "d2f132d1-91b4-40a6-86f8-14a676fc66b8",
        "colab": {
          "base_uri": "https://localhost:8080/"
        }
      },
      "source": [
        "df_churn_train.isna().sum()"
      ],
      "execution_count": 98,
      "outputs": [
        {
          "output_type": "execute_result",
          "data": {
            "text/plain": [
              "id                   0\n",
              "gender               0\n",
              "seniorcitizen        0\n",
              "partner              0\n",
              "dependents           0\n",
              "tenure               0\n",
              "phoneservice         0\n",
              "multiplelines        0\n",
              "internetservice      0\n",
              "onlinesecurity       0\n",
              "onlinebackup         0\n",
              "deviceprotection     0\n",
              "techsupport          0\n",
              "streamingtv          0\n",
              "streamingmovies      0\n",
              "contract             0\n",
              "paperlessbilling     0\n",
              "paymentmethod       99\n",
              "monthlycharges       0\n",
              "totalcharges         0\n",
              "churn                0\n",
              "dtype: int64"
            ]
          },
          "metadata": {
            "tags": []
          },
          "execution_count": 98
        }
      ]
    },
    {
      "cell_type": "code",
      "metadata": {
        "id": "BwHxgsPvAyPW"
      },
      "source": [
        ""
      ],
      "execution_count": null,
      "outputs": []
    },
    {
      "cell_type": "markdown",
      "metadata": {
        "id": "JWIE8n65A5pz"
      },
      "source": [
        "###tratamento da paymentmethod"
      ]
    },
    {
      "cell_type": "code",
      "metadata": {
        "id": "HVbabSscAyUc",
        "outputId": "0703e156-24d6-49bb-a73e-bb58413f8099",
        "colab": {
          "base_uri": "https://localhost:8080/"
        }
      },
      "source": [
        "df_churn_train[['paymentmethod']].value_counts()"
      ],
      "execution_count": 100,
      "outputs": [
        {
          "output_type": "execute_result",
          "data": {
            "text/plain": [
              "paymentmethod            \n",
              "Electronic check             1887\n",
              "Mailed check                 1272\n",
              "Bank transfer (automatic)    1212\n",
              "Credit card (automatic)      1164\n",
              "dtype: int64"
            ]
          },
          "metadata": {
            "tags": []
          },
          "execution_count": 100
        }
      ]
    },
    {
      "cell_type": "code",
      "metadata": {
        "id": "MvpN9JqWAyhc",
        "outputId": "595ed44c-539d-407d-e7b8-35c0dc157b03",
        "colab": {
          "base_uri": "https://localhost:8080/"
        }
      },
      "source": [
        "df_churn_train['paymentmethod'].isna().sum()"
      ],
      "execution_count": 101,
      "outputs": [
        {
          "output_type": "execute_result",
          "data": {
            "text/plain": [
              "99"
            ]
          },
          "metadata": {
            "tags": []
          },
          "execution_count": 101
        }
      ]
    },
    {
      "cell_type": "code",
      "metadata": {
        "id": "N6cwlYPEBr44",
        "outputId": "588d1ba5-784e-445e-c245-46a5ab4f2aaa",
        "colab": {
          "base_uri": "https://localhost:8080/"
        }
      },
      "source": [
        "df_churn_train['paymentmethod'].shape[0]"
      ],
      "execution_count": 102,
      "outputs": [
        {
          "output_type": "execute_result",
          "data": {
            "text/plain": [
              "5634"
            ]
          },
          "metadata": {
            "tags": []
          },
          "execution_count": 102
        }
      ]
    },
    {
      "cell_type": "code",
      "metadata": {
        "id": "Yd3Ny_PxCEeQ",
        "outputId": "8b82354a-73b7-46b6-a86b-e9b803de6991",
        "colab": {
          "base_uri": "https://localhost:8080/"
        }
      },
      "source": [
        "df_churn_train[['paymentmethod']].value_counts()/(df_churn_train['paymentmethod'].shape[0]-99)*100"
      ],
      "execution_count": 107,
      "outputs": [
        {
          "output_type": "execute_result",
          "data": {
            "text/plain": [
              "paymentmethod            \n",
              "Electronic check             34.092141\n",
              "Mailed check                 22.981030\n",
              "Bank transfer (automatic)    21.897019\n",
              "Credit card (automatic)      21.029810\n",
              "dtype: float64"
            ]
          },
          "metadata": {
            "tags": []
          },
          "execution_count": 107
        }
      ]
    },
    {
      "cell_type": "code",
      "metadata": {
        "id": "V9EpgXuLBy91",
        "outputId": "c15067d8-07c7-48e2-dea2-62881ccc05af",
        "colab": {
          "base_uri": "https://localhost:8080/"
        }
      },
      "source": [
        "99/5634*100"
      ],
      "execution_count": 104,
      "outputs": [
        {
          "output_type": "execute_result",
          "data": {
            "text/plain": [
              "1.7571884984025559"
            ]
          },
          "metadata": {
            "tags": []
          },
          "execution_count": 104
        }
      ]
    },
    {
      "cell_type": "code",
      "metadata": {
        "id": "ivYLfWO-BzA7",
        "outputId": "28dab35c-002b-4079-cff1-55189007c6c0",
        "colab": {
          "base_uri": "https://localhost:8080/"
        }
      },
      "source": [
        "#elect = 33\n",
        "99*0.34"
      ],
      "execution_count": 111,
      "outputs": [
        {
          "output_type": "execute_result",
          "data": {
            "text/plain": [
              "33.660000000000004"
            ]
          },
          "metadata": {
            "tags": []
          },
          "execution_count": 111
        }
      ]
    },
    {
      "cell_type": "code",
      "metadata": {
        "id": "oGqmDXWpBzEh",
        "outputId": "97e7763f-66cc-452a-da16-79a1270daf6f",
        "colab": {
          "base_uri": "https://localhost:8080/"
        }
      },
      "source": [
        "#mail = 23\n",
        "99*0.2298"
      ],
      "execution_count": 113,
      "outputs": [
        {
          "output_type": "execute_result",
          "data": {
            "text/plain": [
              "22.7502"
            ]
          },
          "metadata": {
            "tags": []
          },
          "execution_count": 113
        }
      ]
    },
    {
      "cell_type": "code",
      "metadata": {
        "id": "ePT_NxtQBzHv",
        "outputId": "22665cb1-cdb5-44ae-f9f0-e1fe991585e2",
        "colab": {
          "base_uri": "https://localhost:8080/"
        }
      },
      "source": [
        "#bank = 22\n",
        "99*0.2189"
      ],
      "execution_count": 114,
      "outputs": [
        {
          "output_type": "execute_result",
          "data": {
            "text/plain": [
              "21.671100000000003"
            ]
          },
          "metadata": {
            "tags": []
          },
          "execution_count": 114
        }
      ]
    },
    {
      "cell_type": "code",
      "metadata": {
        "id": "WSWyl13mDOB5",
        "outputId": "a056cdcf-1414-424c-9edd-f4623132ddff",
        "colab": {
          "base_uri": "https://localhost:8080/"
        }
      },
      "source": [
        "#cc = 21\n",
        "99*0.21\n"
      ],
      "execution_count": 116,
      "outputs": [
        {
          "output_type": "execute_result",
          "data": {
            "text/plain": [
              "20.79"
            ]
          },
          "metadata": {
            "tags": []
          },
          "execution_count": 116
        }
      ]
    },
    {
      "cell_type": "code",
      "metadata": {
        "id": "XtSrE8Z2EIsr",
        "outputId": "fc35b391-2a1f-4432-b2cc-4ba296472ab9",
        "colab": {
          "base_uri": "https://localhost:8080/"
        }
      },
      "source": [
        "l_index_na_pay = list(df_churn_train[df_churn_train['paymentmethod'].isna()].index)\n",
        "l_index_na_pay"
      ],
      "execution_count": 117,
      "outputs": [
        {
          "output_type": "execute_result",
          "data": {
            "text/plain": [
              "[0,\n",
              " 59,\n",
              " 196,\n",
              " 247,\n",
              " 337,\n",
              " 358,\n",
              " 390,\n",
              " 445,\n",
              " 486,\n",
              " 493,\n",
              " 529,\n",
              " 632,\n",
              " 658,\n",
              " 688,\n",
              " 689,\n",
              " 827,\n",
              " 1023,\n",
              " 1115,\n",
              " 1122,\n",
              " 1133,\n",
              " 1160,\n",
              " 1179,\n",
              " 1185,\n",
              " 1253,\n",
              " 1336,\n",
              " 1343,\n",
              " 1429,\n",
              " 1517,\n",
              " 1545,\n",
              " 1598,\n",
              " 1604,\n",
              " 1712,\n",
              " 1728,\n",
              " 1733,\n",
              " 1833,\n",
              " 1850,\n",
              " 1858,\n",
              " 1863,\n",
              " 1954,\n",
              " 2023,\n",
              " 2091,\n",
              " 2140,\n",
              " 2160,\n",
              " 2220,\n",
              " 2285,\n",
              " 2321,\n",
              " 2392,\n",
              " 2395,\n",
              " 2473,\n",
              " 2525,\n",
              " 2681,\n",
              " 2704,\n",
              " 2904,\n",
              " 2983,\n",
              " 3001,\n",
              " 3074,\n",
              " 3084,\n",
              " 3099,\n",
              " 3108,\n",
              " 3139,\n",
              " 3193,\n",
              " 3218,\n",
              " 3236,\n",
              " 3386,\n",
              " 3494,\n",
              " 3569,\n",
              " 3585,\n",
              " 3642,\n",
              " 3761,\n",
              " 3801,\n",
              " 3880,\n",
              " 3922,\n",
              " 4003,\n",
              " 4006,\n",
              " 4066,\n",
              " 4106,\n",
              " 4131,\n",
              " 4138,\n",
              " 4238,\n",
              " 4539,\n",
              " 4543,\n",
              " 4575,\n",
              " 4600,\n",
              " 4666,\n",
              " 4813,\n",
              " 4856,\n",
              " 4898,\n",
              " 4954,\n",
              " 5029,\n",
              " 5044,\n",
              " 5049,\n",
              " 5172,\n",
              " 5278,\n",
              " 5317,\n",
              " 5325,\n",
              " 5398,\n",
              " 5470,\n",
              " 5484,\n",
              " 5542]"
            ]
          },
          "metadata": {
            "tags": []
          },
          "execution_count": 117
        }
      ]
    },
    {
      "cell_type": "code",
      "metadata": {
        "id": "QkahOZ_OEuUV",
        "outputId": "0a294d55-3f72-404b-e96a-59af64618f47",
        "colab": {
          "base_uri": "https://localhost:8080/"
        }
      },
      "source": [
        "df_churn_train['paymentmethod']"
      ],
      "execution_count": 132,
      "outputs": [
        {
          "output_type": "execute_result",
          "data": {
            "text/plain": [
              "0                             NaN\n",
              "1                    Mailed check\n",
              "2         Credit card (automatic)\n",
              "3       Bank transfer (automatic)\n",
              "4                Electronic check\n",
              "                  ...            \n",
              "5629             Electronic check\n",
              "5630             Electronic check\n",
              "5631    Bank transfer (automatic)\n",
              "5632                 Mailed check\n",
              "5633    Bank transfer (automatic)\n",
              "Name: paymentmethod, Length: 5634, dtype: object"
            ]
          },
          "metadata": {
            "tags": []
          },
          "execution_count": 132
        }
      ]
    },
    {
      "cell_type": "code",
      "metadata": {
        "id": "smzDDBT5GhcP",
        "outputId": "29c1b774-f73c-48fa-c61c-e5095a6f0664",
        "colab": {
          "base_uri": "https://localhost:8080/"
        }
      },
      "source": [
        "df_churn_train[['paymentmethod']].value_counts()"
      ],
      "execution_count": 134,
      "outputs": [
        {
          "output_type": "execute_result",
          "data": {
            "text/plain": [
              "paymentmethod            \n",
              "Electronic check             1887\n",
              "Mailed check                 1272\n",
              "Bank transfer (automatic)    1212\n",
              "Credit card (automatic)      1164\n",
              "dtype: int64"
            ]
          },
          "metadata": {
            "tags": []
          },
          "execution_count": 134
        }
      ]
    },
    {
      "cell_type": "code",
      "metadata": {
        "id": "sfVccuBmG14X",
        "outputId": "f4fc432b-ddfa-4f24-b698-0d981a9b40e4",
        "colab": {
          "base_uri": "https://localhost:8080/"
        }
      },
      "source": [
        "df_churn_train[['paymentmethod', 'gender']].value_counts()"
      ],
      "execution_count": 135,
      "outputs": [
        {
          "output_type": "execute_result",
          "data": {
            "text/plain": [
              "paymentmethod              gender\n",
              "Electronic check           Male      963\n",
              "                           Female    924\n",
              "Mailed check               Male      657\n",
              "Bank transfer (automatic)  Female    637\n",
              "Mailed check               Female    615\n",
              "Credit card (automatic)    Male      605\n",
              "Bank transfer (automatic)  Male      575\n",
              "Credit card (automatic)    Female    559\n",
              "dtype: int64"
            ]
          },
          "metadata": {
            "tags": []
          },
          "execution_count": 135
        }
      ]
    },
    {
      "cell_type": "code",
      "metadata": {
        "id": "l_Fy-2aNGkBc",
        "outputId": "60183a3b-624f-48f9-de34-40fb94746772",
        "colab": {
          "base_uri": "https://localhost:8080/",
          "height": 576
        }
      },
      "source": [
        "df_tra_pay = df_churn_train[df_churn_train['paymentmethod'].isna()]\n",
        "df_tra_pay"
      ],
      "execution_count": 150,
      "outputs": [
        {
          "output_type": "execute_result",
          "data": {
            "text/html": [
              "<div>\n",
              "<style scoped>\n",
              "    .dataframe tbody tr th:only-of-type {\n",
              "        vertical-align: middle;\n",
              "    }\n",
              "\n",
              "    .dataframe tbody tr th {\n",
              "        vertical-align: top;\n",
              "    }\n",
              "\n",
              "    .dataframe thead th {\n",
              "        text-align: right;\n",
              "    }\n",
              "</style>\n",
              "<table border=\"1\" class=\"dataframe\">\n",
              "  <thead>\n",
              "    <tr style=\"text-align: right;\">\n",
              "      <th></th>\n",
              "      <th>id</th>\n",
              "      <th>gender</th>\n",
              "      <th>seniorcitizen</th>\n",
              "      <th>partner</th>\n",
              "      <th>dependents</th>\n",
              "      <th>tenure</th>\n",
              "      <th>phoneservice</th>\n",
              "      <th>multiplelines</th>\n",
              "      <th>internetservice</th>\n",
              "      <th>onlinesecurity</th>\n",
              "      <th>onlinebackup</th>\n",
              "      <th>deviceprotection</th>\n",
              "      <th>techsupport</th>\n",
              "      <th>streamingtv</th>\n",
              "      <th>streamingmovies</th>\n",
              "      <th>contract</th>\n",
              "      <th>paperlessbilling</th>\n",
              "      <th>paymentmethod</th>\n",
              "      <th>monthlycharges</th>\n",
              "      <th>totalcharges</th>\n",
              "      <th>churn</th>\n",
              "    </tr>\n",
              "  </thead>\n",
              "  <tbody>\n",
              "    <tr>\n",
              "      <th>0</th>\n",
              "      <td>4030</td>\n",
              "      <td>Female</td>\n",
              "      <td>0</td>\n",
              "      <td>No</td>\n",
              "      <td>No</td>\n",
              "      <td>56.000000</td>\n",
              "      <td>No</td>\n",
              "      <td>No phone service</td>\n",
              "      <td>DSL</td>\n",
              "      <td>Yes</td>\n",
              "      <td>Yes</td>\n",
              "      <td>Yes</td>\n",
              "      <td>Yes</td>\n",
              "      <td>No</td>\n",
              "      <td>No</td>\n",
              "      <td>Two year</td>\n",
              "      <td>No</td>\n",
              "      <td>NaN</td>\n",
              "      <td>45.05</td>\n",
              "      <td>2560.1</td>\n",
              "      <td>0</td>\n",
              "    </tr>\n",
              "    <tr>\n",
              "      <th>59</th>\n",
              "      <td>5899</td>\n",
              "      <td>Female</td>\n",
              "      <td>0</td>\n",
              "      <td>Yes</td>\n",
              "      <td>Yes</td>\n",
              "      <td>33.000000</td>\n",
              "      <td>Yes</td>\n",
              "      <td>Yes</td>\n",
              "      <td>No</td>\n",
              "      <td>No internet service</td>\n",
              "      <td>No internet service</td>\n",
              "      <td>No internet service</td>\n",
              "      <td>No internet service</td>\n",
              "      <td>No internet service</td>\n",
              "      <td>No internet service</td>\n",
              "      <td>One year</td>\n",
              "      <td>No</td>\n",
              "      <td>NaN</td>\n",
              "      <td>24.15</td>\n",
              "      <td>800.3</td>\n",
              "      <td>0</td>\n",
              "    </tr>\n",
              "    <tr>\n",
              "      <th>196</th>\n",
              "      <td>5036</td>\n",
              "      <td>Male</td>\n",
              "      <td>0</td>\n",
              "      <td>No</td>\n",
              "      <td>No</td>\n",
              "      <td>20.000000</td>\n",
              "      <td>Yes</td>\n",
              "      <td>No</td>\n",
              "      <td>Fiber optic</td>\n",
              "      <td>No</td>\n",
              "      <td>No</td>\n",
              "      <td>No</td>\n",
              "      <td>No</td>\n",
              "      <td>Yes</td>\n",
              "      <td>No</td>\n",
              "      <td>Month-to-month</td>\n",
              "      <td>No</td>\n",
              "      <td>NaN</td>\n",
              "      <td>78.80</td>\n",
              "      <td>1641.3</td>\n",
              "      <td>0</td>\n",
              "    </tr>\n",
              "    <tr>\n",
              "      <th>247</th>\n",
              "      <td>704</td>\n",
              "      <td>Female</td>\n",
              "      <td>0</td>\n",
              "      <td>No</td>\n",
              "      <td>No</td>\n",
              "      <td>26.956044</td>\n",
              "      <td>Yes</td>\n",
              "      <td>No</td>\n",
              "      <td>No</td>\n",
              "      <td>No internet service</td>\n",
              "      <td>No internet service</td>\n",
              "      <td>No internet service</td>\n",
              "      <td>No internet service</td>\n",
              "      <td>No internet service</td>\n",
              "      <td>No internet service</td>\n",
              "      <td>Month-to-month</td>\n",
              "      <td>Yes</td>\n",
              "      <td>NaN</td>\n",
              "      <td>20.55</td>\n",
              "      <td>33.6</td>\n",
              "      <td>0</td>\n",
              "    </tr>\n",
              "    <tr>\n",
              "      <th>337</th>\n",
              "      <td>5747</td>\n",
              "      <td>Female</td>\n",
              "      <td>0</td>\n",
              "      <td>No</td>\n",
              "      <td>No</td>\n",
              "      <td>10.000000</td>\n",
              "      <td>Yes</td>\n",
              "      <td>Yes</td>\n",
              "      <td>Fiber optic</td>\n",
              "      <td>No</td>\n",
              "      <td>Yes</td>\n",
              "      <td>No</td>\n",
              "      <td>No</td>\n",
              "      <td>No</td>\n",
              "      <td>No</td>\n",
              "      <td>Month-to-month</td>\n",
              "      <td>Yes</td>\n",
              "      <td>NaN</td>\n",
              "      <td>81.00</td>\n",
              "      <td>818.05</td>\n",
              "      <td>1</td>\n",
              "    </tr>\n",
              "    <tr>\n",
              "      <th>...</th>\n",
              "      <td>...</td>\n",
              "      <td>...</td>\n",
              "      <td>...</td>\n",
              "      <td>...</td>\n",
              "      <td>...</td>\n",
              "      <td>...</td>\n",
              "      <td>...</td>\n",
              "      <td>...</td>\n",
              "      <td>...</td>\n",
              "      <td>...</td>\n",
              "      <td>...</td>\n",
              "      <td>...</td>\n",
              "      <td>...</td>\n",
              "      <td>...</td>\n",
              "      <td>...</td>\n",
              "      <td>...</td>\n",
              "      <td>...</td>\n",
              "      <td>...</td>\n",
              "      <td>...</td>\n",
              "      <td>...</td>\n",
              "      <td>...</td>\n",
              "    </tr>\n",
              "    <tr>\n",
              "      <th>5325</th>\n",
              "      <td>5150</td>\n",
              "      <td>Female</td>\n",
              "      <td>0</td>\n",
              "      <td>No</td>\n",
              "      <td>No</td>\n",
              "      <td>62.000000</td>\n",
              "      <td>Yes</td>\n",
              "      <td>No</td>\n",
              "      <td>No</td>\n",
              "      <td>No internet service</td>\n",
              "      <td>No internet service</td>\n",
              "      <td>No internet service</td>\n",
              "      <td>No internet service</td>\n",
              "      <td>No internet service</td>\n",
              "      <td>No internet service</td>\n",
              "      <td>Two year</td>\n",
              "      <td>Yes</td>\n",
              "      <td>NaN</td>\n",
              "      <td>19.20</td>\n",
              "      <td>1123.65</td>\n",
              "      <td>0</td>\n",
              "    </tr>\n",
              "    <tr>\n",
              "      <th>5398</th>\n",
              "      <td>6004</td>\n",
              "      <td>Female</td>\n",
              "      <td>0</td>\n",
              "      <td>Yes</td>\n",
              "      <td>No</td>\n",
              "      <td>71.000000</td>\n",
              "      <td>Yes</td>\n",
              "      <td>Yes</td>\n",
              "      <td>DSL</td>\n",
              "      <td>Yes</td>\n",
              "      <td>Yes</td>\n",
              "      <td>Yes</td>\n",
              "      <td>Yes</td>\n",
              "      <td>Yes</td>\n",
              "      <td>Yes</td>\n",
              "      <td>Two year</td>\n",
              "      <td>No</td>\n",
              "      <td>NaN</td>\n",
              "      <td>93.20</td>\n",
              "      <td>6506.15</td>\n",
              "      <td>0</td>\n",
              "    </tr>\n",
              "    <tr>\n",
              "      <th>5470</th>\n",
              "      <td>2276</td>\n",
              "      <td>Male</td>\n",
              "      <td>0</td>\n",
              "      <td>Yes</td>\n",
              "      <td>Yes</td>\n",
              "      <td>1.000000</td>\n",
              "      <td>Yes</td>\n",
              "      <td>Yes</td>\n",
              "      <td>Fiber optic</td>\n",
              "      <td>No</td>\n",
              "      <td>No</td>\n",
              "      <td>No</td>\n",
              "      <td>No</td>\n",
              "      <td>No</td>\n",
              "      <td>No</td>\n",
              "      <td>Month-to-month</td>\n",
              "      <td>Yes</td>\n",
              "      <td>NaN</td>\n",
              "      <td>74.50</td>\n",
              "      <td>74.5</td>\n",
              "      <td>1</td>\n",
              "    </tr>\n",
              "    <tr>\n",
              "      <th>5484</th>\n",
              "      <td>6869</td>\n",
              "      <td>Male</td>\n",
              "      <td>0</td>\n",
              "      <td>No</td>\n",
              "      <td>No</td>\n",
              "      <td>13.000000</td>\n",
              "      <td>Yes</td>\n",
              "      <td>No</td>\n",
              "      <td>Fiber optic</td>\n",
              "      <td>No</td>\n",
              "      <td>No</td>\n",
              "      <td>No</td>\n",
              "      <td>No</td>\n",
              "      <td>Yes</td>\n",
              "      <td>Yes</td>\n",
              "      <td>Month-to-month</td>\n",
              "      <td>Yes</td>\n",
              "      <td>NaN</td>\n",
              "      <td>91.10</td>\n",
              "      <td>1135.7</td>\n",
              "      <td>1</td>\n",
              "    </tr>\n",
              "    <tr>\n",
              "      <th>5542</th>\n",
              "      <td>1067</td>\n",
              "      <td>Male</td>\n",
              "      <td>0</td>\n",
              "      <td>Yes</td>\n",
              "      <td>No</td>\n",
              "      <td>47.000000</td>\n",
              "      <td>Yes</td>\n",
              "      <td>No</td>\n",
              "      <td>No</td>\n",
              "      <td>No internet service</td>\n",
              "      <td>No internet service</td>\n",
              "      <td>No internet service</td>\n",
              "      <td>No internet service</td>\n",
              "      <td>No internet service</td>\n",
              "      <td>No internet service</td>\n",
              "      <td>Two year</td>\n",
              "      <td>No</td>\n",
              "      <td>NaN</td>\n",
              "      <td>19.65</td>\n",
              "      <td>973.1</td>\n",
              "      <td>0</td>\n",
              "    </tr>\n",
              "  </tbody>\n",
              "</table>\n",
              "<p>99 rows × 21 columns</p>\n",
              "</div>"
            ],
            "text/plain": [
              "        id  gender  seniorcitizen  ... monthlycharges totalcharges  churn\n",
              "0     4030  Female              0  ...          45.05       2560.1      0\n",
              "59    5899  Female              0  ...          24.15        800.3      0\n",
              "196   5036    Male              0  ...          78.80       1641.3      0\n",
              "247    704  Female              0  ...          20.55         33.6      0\n",
              "337   5747  Female              0  ...          81.00       818.05      1\n",
              "...    ...     ...            ...  ...            ...          ...    ...\n",
              "5325  5150  Female              0  ...          19.20      1123.65      0\n",
              "5398  6004  Female              0  ...          93.20      6506.15      0\n",
              "5470  2276    Male              0  ...          74.50         74.5      1\n",
              "5484  6869    Male              0  ...          91.10       1135.7      1\n",
              "5542  1067    Male              0  ...          19.65        973.1      0\n",
              "\n",
              "[99 rows x 21 columns]"
            ]
          },
          "metadata": {
            "tags": []
          },
          "execution_count": 150
        }
      ]
    },
    {
      "cell_type": "code",
      "metadata": {
        "id": "DDXT29__H88s",
        "outputId": "f137eb4b-9614-4315-e3de-c38778159638",
        "colab": {
          "base_uri": "https://localhost:8080/"
        }
      },
      "source": [
        "df_tra_pay[['paymentmethod', 'gender']]"
      ],
      "execution_count": 157,
      "outputs": [
        {
          "output_type": "execute_result",
          "data": {
            "text/plain": [
              "Series([], dtype: int64)"
            ]
          },
          "metadata": {
            "tags": []
          },
          "execution_count": 157
        }
      ]
    },
    {
      "cell_type": "code",
      "metadata": {
        "id": "Nv2Tba4DH9F6"
      },
      "source": [
        "#tratamento da feature dependents\n",
        "s = 0\n",
        "for c in l_index_na_pay:\n",
        "    if\n",
        "    df_churn_train['dependents'][c] = 'No'\n",
        "    s = s + 1\n",
        "    if  s >= 153:\n",
        "       df_dep_tra['dependents'][c] = 'Yes'"
      ],
      "execution_count": null,
      "outputs": []
    },
    {
      "cell_type": "code",
      "metadata": {
        "id": "Jesf_RpLH9J9"
      },
      "source": [
        ""
      ],
      "execution_count": null,
      "outputs": []
    },
    {
      "cell_type": "code",
      "metadata": {
        "id": "jtyE9SN4H9NN"
      },
      "source": [
        ""
      ],
      "execution_count": null,
      "outputs": []
    },
    {
      "cell_type": "code",
      "metadata": {
        "id": "gM_yLcr7H9Rq"
      },
      "source": [
        ""
      ],
      "execution_count": null,
      "outputs": []
    }
  ]
}