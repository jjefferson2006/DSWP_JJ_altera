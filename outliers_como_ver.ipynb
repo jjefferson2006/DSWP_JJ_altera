{
  "nbformat": 4,
  "nbformat_minor": 0,
  "metadata": {
    "colab": {
      "name": "Untitled8.ipynb",
      "provenance": [],
      "authorship_tag": "ABX9TyPSm0VAfBjEenw2xz6KG4eZ",
      "include_colab_link": true
    },
    "kernelspec": {
      "name": "python3",
      "display_name": "Python 3"
    }
  },
  "cells": [
    {
      "cell_type": "markdown",
      "metadata": {
        "id": "view-in-github",
        "colab_type": "text"
      },
      "source": [
        "<a href=\"https://colab.research.google.com/github/jjefferson2006/DSWP_JJ_altera/blob/main/outliers_como_ver.ipynb\" target=\"_parent\"><img src=\"https://colab.research.google.com/assets/colab-badge.svg\" alt=\"Open In Colab\"/></a>"
      ]
    },
    {
      "cell_type": "code",
      "metadata": {
        "id": "45zERfr8H4c0"
      },
      "source": [
        "import pandas as pd\n",
        "import numpy as np"
      ],
      "execution_count": 1,
      "outputs": []
    },
    {
      "cell_type": "code",
      "metadata": {
        "id": "06lywAQkIEGQ"
      },
      "source": [
        "l_colunas = ['ind01', 'ind02']\n",
        "l_valores = [(-20.0,0.0, 0.0, 0.0,0.35, 0.40, 0.25, 0.30, 0.70, 0.55, 0.45, 0.50, 0.75, 0.60, 0.65, 0.20, 10 , 12, 25), (-50.0,0.0, 0.0,0.0,0.15, 0.80, 0.75, 0.25, 0.30,0.45,0.55,0.55,0.60,0.40,0.50,0.45,23,40,50)]\n",
        "d_teste = dict(zip(l_colunas, l_valores))\n",
        "df_teste = pd.DataFrame(d_teste)\n"
      ],
      "execution_count": 23,
      "outputs": []
    },
    {
      "cell_type": "code",
      "metadata": {
        "colab": {
          "base_uri": "https://localhost:8080/",
          "height": 593
        },
        "id": "TUoe1p08JQBF",
        "outputId": "3b5cd1d2-124c-46ad-9ffa-d49bee83af95"
      },
      "source": [
        "df_teste"
      ],
      "execution_count": 24,
      "outputs": [
        {
          "output_type": "execute_result",
          "data": {
            "text/html": [
              "<div>\n",
              "<style scoped>\n",
              "    .dataframe tbody tr th:only-of-type {\n",
              "        vertical-align: middle;\n",
              "    }\n",
              "\n",
              "    .dataframe tbody tr th {\n",
              "        vertical-align: top;\n",
              "    }\n",
              "\n",
              "    .dataframe thead th {\n",
              "        text-align: right;\n",
              "    }\n",
              "</style>\n",
              "<table border=\"1\" class=\"dataframe\">\n",
              "  <thead>\n",
              "    <tr style=\"text-align: right;\">\n",
              "      <th></th>\n",
              "      <th>ind01</th>\n",
              "      <th>ind02</th>\n",
              "    </tr>\n",
              "  </thead>\n",
              "  <tbody>\n",
              "    <tr>\n",
              "      <th>0</th>\n",
              "      <td>-20.00</td>\n",
              "      <td>-50.00</td>\n",
              "    </tr>\n",
              "    <tr>\n",
              "      <th>1</th>\n",
              "      <td>0.00</td>\n",
              "      <td>0.00</td>\n",
              "    </tr>\n",
              "    <tr>\n",
              "      <th>2</th>\n",
              "      <td>0.00</td>\n",
              "      <td>0.00</td>\n",
              "    </tr>\n",
              "    <tr>\n",
              "      <th>3</th>\n",
              "      <td>0.00</td>\n",
              "      <td>0.00</td>\n",
              "    </tr>\n",
              "    <tr>\n",
              "      <th>4</th>\n",
              "      <td>0.35</td>\n",
              "      <td>0.15</td>\n",
              "    </tr>\n",
              "    <tr>\n",
              "      <th>5</th>\n",
              "      <td>0.40</td>\n",
              "      <td>0.80</td>\n",
              "    </tr>\n",
              "    <tr>\n",
              "      <th>6</th>\n",
              "      <td>0.25</td>\n",
              "      <td>0.75</td>\n",
              "    </tr>\n",
              "    <tr>\n",
              "      <th>7</th>\n",
              "      <td>0.30</td>\n",
              "      <td>0.25</td>\n",
              "    </tr>\n",
              "    <tr>\n",
              "      <th>8</th>\n",
              "      <td>0.70</td>\n",
              "      <td>0.30</td>\n",
              "    </tr>\n",
              "    <tr>\n",
              "      <th>9</th>\n",
              "      <td>0.55</td>\n",
              "      <td>0.45</td>\n",
              "    </tr>\n",
              "    <tr>\n",
              "      <th>10</th>\n",
              "      <td>0.45</td>\n",
              "      <td>0.55</td>\n",
              "    </tr>\n",
              "    <tr>\n",
              "      <th>11</th>\n",
              "      <td>0.50</td>\n",
              "      <td>0.55</td>\n",
              "    </tr>\n",
              "    <tr>\n",
              "      <th>12</th>\n",
              "      <td>0.75</td>\n",
              "      <td>0.60</td>\n",
              "    </tr>\n",
              "    <tr>\n",
              "      <th>13</th>\n",
              "      <td>0.60</td>\n",
              "      <td>0.40</td>\n",
              "    </tr>\n",
              "    <tr>\n",
              "      <th>14</th>\n",
              "      <td>0.65</td>\n",
              "      <td>0.50</td>\n",
              "    </tr>\n",
              "    <tr>\n",
              "      <th>15</th>\n",
              "      <td>0.20</td>\n",
              "      <td>0.45</td>\n",
              "    </tr>\n",
              "    <tr>\n",
              "      <th>16</th>\n",
              "      <td>10.00</td>\n",
              "      <td>23.00</td>\n",
              "    </tr>\n",
              "    <tr>\n",
              "      <th>17</th>\n",
              "      <td>12.00</td>\n",
              "      <td>40.00</td>\n",
              "    </tr>\n",
              "    <tr>\n",
              "      <th>18</th>\n",
              "      <td>25.00</td>\n",
              "      <td>50.00</td>\n",
              "    </tr>\n",
              "  </tbody>\n",
              "</table>\n",
              "</div>"
            ],
            "text/plain": [
              "    ind01  ind02\n",
              "0  -20.00 -50.00\n",
              "1    0.00   0.00\n",
              "2    0.00   0.00\n",
              "3    0.00   0.00\n",
              "4    0.35   0.15\n",
              "5    0.40   0.80\n",
              "6    0.25   0.75\n",
              "7    0.30   0.25\n",
              "8    0.70   0.30\n",
              "9    0.55   0.45\n",
              "10   0.45   0.55\n",
              "11   0.50   0.55\n",
              "12   0.75   0.60\n",
              "13   0.60   0.40\n",
              "14   0.65   0.50\n",
              "15   0.20   0.45\n",
              "16  10.00  23.00\n",
              "17  12.00  40.00\n",
              "18  25.00  50.00"
            ]
          },
          "metadata": {
            "tags": []
          },
          "execution_count": 24
        }
      ]
    },
    {
      "cell_type": "code",
      "metadata": {
        "id": "eUM0IMZEK_Zp"
      },
      "source": [
        "l_lista = list(df_teste.columns)"
      ],
      "execution_count": 25,
      "outputs": []
    },
    {
      "cell_type": "code",
      "metadata": {
        "colab": {
          "base_uri": "https://localhost:8080/",
          "height": 948
        },
        "id": "cmtK1V6eKdvf",
        "outputId": "cfd6135f-dbff-4f44-8a56-8085faa34369"
      },
      "source": [
        "#tenure não tem outliers\n",
        "\n",
        "for i in l_lista:\n",
        "    df_teste[[i]].plot(kind = 'box', showmeans = True, meanline = True, grid = True, figsize = (12,8), vert = False, ylabel = 'Features')"
      ],
      "execution_count": 26,
      "outputs": [
        {
          "output_type": "display_data",
          "data": {
            "image/png": "[encoded data removed]",
            "text/plain": [
              "<Figure size 864x576 with 1 Axes>"
            ]
          },
          "metadata": {
            "tags": [],
            "needs_background": "light"
          }
        },
        {
          "output_type": "display_data",
          "data": {
            "image/png": "[encoded data removed]",
            "text/plain": [
              "<Figure size 864x576 with 1 Axes>"
            ]
          },
          "metadata": {
            "tags": [],
            "needs_background": "light"
          }
        }
      ]
    },
    {
      "cell_type": "code",
      "metadata": {
        "colab": {
          "base_uri": "https://localhost:8080/"
        },
        "id": "ny7RZtoRKdyb",
        "outputId": "2b86c156-2410-489f-d9b2-e8802ce7968f"
      },
      "source": [
        "for i in l_lista:\n",
        "    \n",
        "    Q1 = np.percentile(df_teste[i], 25)\n",
        "    Q3 = np.percentile(df_teste[i], 75)\n",
        "    IQR = Q3 - Q1\n",
        "    print(f'++++++++')\n",
        "    print(f'coluna: {i}')\n",
        "    print(f'Q1:{Q1}')\n",
        "    print(f'Q3:{Q3}\\n')\n",
        "    # Cálculo dos limites inferiores e superiores para detecção de outliers:\n",
        "    lim_inf_out = Q1 - 1.5*IQR\n",
        "    lim_sup_out = Q3 + 1.5*IQR\n",
        "    print(f'Lim_inf_out: {lim_inf_out}')\n",
        "    print(f'Lim_sup_out: {lim_sup_out}\\n')\n",
        "        \n",
        "    #print(f\"coluna: {i}; Limite inferior para outlier: {limite_inferior_outliers}; Limite superior para outliers: {limite_superior_outliers}\")\n",
        "        #max e min\n",
        "    min = df_teste[i].min()\n",
        "    max = df_teste[i].max()\n",
        "    print(f'max_valor: {max}')\n",
        "    print(f'min_valor:{min}\\n')\n",
        "        \n",
        "    perc_max = df_teste[i].value_counts()[df_teste[i].max()]/df_teste.shape[0]*100\n",
        "    perc_min = df_teste[i].value_counts()[df_teste[i].min()]/df_teste.shape[0]*100\n",
        "    print(f'perc_max_valor: {perc_max}')\n",
        "    print(f'perc_min_valor:{perc_min}\\n')\n",
        "        \n",
        "    mean = df_teste[i].mean()\n",
        "    median = df_teste[i].median()\n",
        "    moda = df_teste[i].mode()\n",
        "    print(f'mean:{mean}')\n",
        "    print(f'median: {median}')\n",
        "    print(f'moda: {moda}')"
      ],
      "execution_count": 27,
      "outputs": [
        {
          "output_type": "stream",
          "text": [
            "++++++++\n",
            "coluna: ind01\n",
            "Q1:0.225\n",
            "Q3:0.675\n",
            "\n",
            "Lim_inf_out: -0.45000000000000007\n",
            "Lim_sup_out: 1.35\n",
            "\n",
            "max_valor: 25.0\n",
            "min_valor:-20.0\n",
            "\n",
            "perc_max_valor: 5.263157894736842\n",
            "perc_min_valor:5.263157894736842\n",
            "\n",
            "mean:1.7210526315789476\n",
            "median: 0.45\n",
            "moda: 0    0.0\n",
            "dtype: float64\n",
            "++++++++\n",
            "coluna: ind02\n",
            "Q1:0.2\n",
            "Q3:0.675\n",
            "\n",
            "Lim_inf_out: -0.5125\n",
            "Lim_sup_out: 1.3875000000000002\n",
            "\n",
            "max_valor: 50.0\n",
            "min_valor:-50.0\n",
            "\n",
            "perc_max_valor: 5.263157894736842\n",
            "perc_min_valor:5.263157894736842\n",
            "\n",
            "mean:3.6184210526315788\n",
            "median: 0.45\n",
            "moda: 0    0.0\n",
            "dtype: float64\n"
          ],
          "name": "stdout"
        }
      ]
    },
    {
      "cell_type": "code",
      "metadata": {
        "id": "iMsx-FYrKd12"
      },
      "source": [
        "def trata_outliers(df, coluna):\n",
        "    #sns.boxplot(x = coluna, data = df)\n",
        "    print(f'++++++++')\n",
        "    print(f'coluna: {coluna}')\n",
        "\n",
        "\n",
        "    # Cálculo de Q1, Q3 e IQR:\n",
        "    Q1 = np.percentile(df[coluna], 25)\n",
        "    Q3 = np.percentile(df[coluna], 75)\n",
        "    IQR = Q3 - Q1\n",
        "    print(f\"IQR: {IQR}\")\n",
        "\n",
        "    # Jeito mais fácil (menos trabalhoso).\n",
        "    #IQR2 = stats.iqr(df[coluna]) \n",
        "    #IQR2 \n",
        "\n",
        "    # Cálculo dos limites inferiores e superiores para detecção de outliers:\n",
        "    limite_inferior_outliers = Q1 - 1.5*IQR\n",
        "    limite_superior_outliers = Q3 + 1.5*IQR\n",
        "    print(f\"Limite inferior para outlier: {limite_inferior_outliers}; Limite superior para outliers: {limite_superior_outliers}\")\n",
        "\n",
        "    # Cálculo da mediana\n",
        "    media = df[coluna].mean()\n",
        "    print(f\"Media: {media}\")\n",
        "\n",
        "    # Substituição dos outliers:\n",
        "    df[coluna+'_o'] = df[coluna]\n",
        "\n",
        "    df.loc[(df[coluna] > limite_superior_outliers)|(df[coluna] < limite_inferior_outliers), coluna+'_o'] = np.nan\n",
        "    df[coluna+'_o'].fillna(media, inplace = True) # 'o' significa tratamento outlier --> indicação para mostrar que a coluna passou pelo tratamento dos outliers.\n",
        "\n",
        "    return df, limite_superior_outliers"
      ],
      "execution_count": 28,
      "outputs": []
    },
    {
      "cell_type": "code",
      "metadata": {
        "colab": {
          "base_uri": "https://localhost:8080/"
        },
        "id": "fqtTmTiRMhh6",
        "outputId": "35382cb2-8221-434c-a0d9-41a5fc37d15b"
      },
      "source": [
        "for h in l_lista:\n",
        "    df_teste, limite_superior_outliers = trata_outliers(df=df_teste, coluna=h)"
      ],
      "execution_count": 29,
      "outputs": [
        {
          "output_type": "stream",
          "text": [
            "++++++++\n",
            "coluna: ind01\n",
            "IQR: 0.45000000000000007\n",
            "Limite inferior para outlier: -0.45000000000000007; Limite superior para outliers: 1.35\n",
            "Media: 1.7210526315789476\n",
            "++++++++\n",
            "coluna: ind02\n",
            "IQR: 0.47500000000000003\n",
            "Limite inferior para outlier: -0.5125; Limite superior para outliers: 1.3875000000000002\n",
            "Media: 3.6184210526315788\n"
          ],
          "name": "stdout"
        }
      ]
    },
    {
      "cell_type": "code",
      "metadata": {
        "colab": {
          "base_uri": "https://localhost:8080/",
          "height": 593
        },
        "id": "hIA1xm1kNIiw",
        "outputId": "330c7383-30b5-4d3e-8000-191a95897272"
      },
      "source": [
        "df_teste"
      ],
      "execution_count": 30,
      "outputs": [
        {
          "output_type": "execute_result",
          "data": {
            "text/html": [
              "<div>\n",
              "<style scoped>\n",
              "    .dataframe tbody tr th:only-of-type {\n",
              "        vertical-align: middle;\n",
              "    }\n",
              "\n",
              "    .dataframe tbody tr th {\n",
              "        vertical-align: top;\n",
              "    }\n",
              "\n",
              "    .dataframe thead th {\n",
              "        text-align: right;\n",
              "    }\n",
              "</style>\n",
              "<table border=\"1\" class=\"dataframe\">\n",
              "  <thead>\n",
              "    <tr style=\"text-align: right;\">\n",
              "      <th></th>\n",
              "      <th>ind01</th>\n",
              "      <th>ind02</th>\n",
              "      <th>ind01_o</th>\n",
              "      <th>ind02_o</th>\n",
              "    </tr>\n",
              "  </thead>\n",
              "  <tbody>\n",
              "    <tr>\n",
              "      <th>0</th>\n",
              "      <td>-20.00</td>\n",
              "      <td>-50.00</td>\n",
              "      <td>1.721053</td>\n",
              "      <td>3.618421</td>\n",
              "    </tr>\n",
              "    <tr>\n",
              "      <th>1</th>\n",
              "      <td>0.00</td>\n",
              "      <td>0.00</td>\n",
              "      <td>0.000000</td>\n",
              "      <td>0.000000</td>\n",
              "    </tr>\n",
              "    <tr>\n",
              "      <th>2</th>\n",
              "      <td>0.00</td>\n",
              "      <td>0.00</td>\n",
              "      <td>0.000000</td>\n",
              "      <td>0.000000</td>\n",
              "    </tr>\n",
              "    <tr>\n",
              "      <th>3</th>\n",
              "      <td>0.00</td>\n",
              "      <td>0.00</td>\n",
              "      <td>0.000000</td>\n",
              "      <td>0.000000</td>\n",
              "    </tr>\n",
              "    <tr>\n",
              "      <th>4</th>\n",
              "      <td>0.35</td>\n",
              "      <td>0.15</td>\n",
              "      <td>0.350000</td>\n",
              "      <td>0.150000</td>\n",
              "    </tr>\n",
              "    <tr>\n",
              "      <th>5</th>\n",
              "      <td>0.40</td>\n",
              "      <td>0.80</td>\n",
              "      <td>0.400000</td>\n",
              "      <td>0.800000</td>\n",
              "    </tr>\n",
              "    <tr>\n",
              "      <th>6</th>\n",
              "      <td>0.25</td>\n",
              "      <td>0.75</td>\n",
              "      <td>0.250000</td>\n",
              "      <td>0.750000</td>\n",
              "    </tr>\n",
              "    <tr>\n",
              "      <th>7</th>\n",
              "      <td>0.30</td>\n",
              "      <td>0.25</td>\n",
              "      <td>0.300000</td>\n",
              "      <td>0.250000</td>\n",
              "    </tr>\n",
              "    <tr>\n",
              "      <th>8</th>\n",
              "      <td>0.70</td>\n",
              "      <td>0.30</td>\n",
              "      <td>0.700000</td>\n",
              "      <td>0.300000</td>\n",
              "    </tr>\n",
              "    <tr>\n",
              "      <th>9</th>\n",
              "      <td>0.55</td>\n",
              "      <td>0.45</td>\n",
              "      <td>0.550000</td>\n",
              "      <td>0.450000</td>\n",
              "    </tr>\n",
              "    <tr>\n",
              "      <th>10</th>\n",
              "      <td>0.45</td>\n",
              "      <td>0.55</td>\n",
              "      <td>0.450000</td>\n",
              "      <td>0.550000</td>\n",
              "    </tr>\n",
              "    <tr>\n",
              "      <th>11</th>\n",
              "      <td>0.50</td>\n",
              "      <td>0.55</td>\n",
              "      <td>0.500000</td>\n",
              "      <td>0.550000</td>\n",
              "    </tr>\n",
              "    <tr>\n",
              "      <th>12</th>\n",
              "      <td>0.75</td>\n",
              "      <td>0.60</td>\n",
              "      <td>0.750000</td>\n",
              "      <td>0.600000</td>\n",
              "    </tr>\n",
              "    <tr>\n",
              "      <th>13</th>\n",
              "      <td>0.60</td>\n",
              "      <td>0.40</td>\n",
              "      <td>0.600000</td>\n",
              "      <td>0.400000</td>\n",
              "    </tr>\n",
              "    <tr>\n",
              "      <th>14</th>\n",
              "      <td>0.65</td>\n",
              "      <td>0.50</td>\n",
              "      <td>0.650000</td>\n",
              "      <td>0.500000</td>\n",
              "    </tr>\n",
              "    <tr>\n",
              "      <th>15</th>\n",
              "      <td>0.20</td>\n",
              "      <td>0.45</td>\n",
              "      <td>0.200000</td>\n",
              "      <td>0.450000</td>\n",
              "    </tr>\n",
              "    <tr>\n",
              "      <th>16</th>\n",
              "      <td>10.00</td>\n",
              "      <td>23.00</td>\n",
              "      <td>1.721053</td>\n",
              "      <td>3.618421</td>\n",
              "    </tr>\n",
              "    <tr>\n",
              "      <th>17</th>\n",
              "      <td>12.00</td>\n",
              "      <td>40.00</td>\n",
              "      <td>1.721053</td>\n",
              "      <td>3.618421</td>\n",
              "    </tr>\n",
              "    <tr>\n",
              "      <th>18</th>\n",
              "      <td>25.00</td>\n",
              "      <td>50.00</td>\n",
              "      <td>1.721053</td>\n",
              "      <td>3.618421</td>\n",
              "    </tr>\n",
              "  </tbody>\n",
              "</table>\n",
              "</div>"
            ],
            "text/plain": [
              "    ind01  ind02   ind01_o   ind02_o\n",
              "0  -20.00 -50.00  1.721053  3.618421\n",
              "1    0.00   0.00  0.000000  0.000000\n",
              "2    0.00   0.00  0.000000  0.000000\n",
              "3    0.00   0.00  0.000000  0.000000\n",
              "4    0.35   0.15  0.350000  0.150000\n",
              "5    0.40   0.80  0.400000  0.800000\n",
              "6    0.25   0.75  0.250000  0.750000\n",
              "7    0.30   0.25  0.300000  0.250000\n",
              "8    0.70   0.30  0.700000  0.300000\n",
              "9    0.55   0.45  0.550000  0.450000\n",
              "10   0.45   0.55  0.450000  0.550000\n",
              "11   0.50   0.55  0.500000  0.550000\n",
              "12   0.75   0.60  0.750000  0.600000\n",
              "13   0.60   0.40  0.600000  0.400000\n",
              "14   0.65   0.50  0.650000  0.500000\n",
              "15   0.20   0.45  0.200000  0.450000\n",
              "16  10.00  23.00  1.721053  3.618421\n",
              "17  12.00  40.00  1.721053  3.618421\n",
              "18  25.00  50.00  1.721053  3.618421"
            ]
          },
          "metadata": {
            "tags": []
          },
          "execution_count": 30
        }
      ]
    },
    {
      "cell_type": "code",
      "metadata": {
        "id": "BeOL5etTNSM7"
      },
      "source": [
        "l_lista_out = list(df_teste.columns)"
      ],
      "execution_count": 31,
      "outputs": []
    },
    {
      "cell_type": "code",
      "metadata": {
        "id": "TQ-TOx81NMcX"
      },
      "source": [
        ""
      ],
      "execution_count": null,
      "outputs": []
    },
    {
      "cell_type": "code",
      "metadata": {
        "colab": {
          "base_uri": "https://localhost:8080/",
          "height": 1000
        },
        "id": "1c0Wqe0WMhk2",
        "outputId": "dd40c699-67f5-444a-c32d-2ae0acbbc7a2"
      },
      "source": [
        "#tenure não tem outliers\n",
        "\n",
        "for i in l_lista_out:\n",
        "    df_teste[[i]].plot(kind = 'box', showmeans = True, meanline = True, grid = True, figsize = (12,8), vert = False, ylabel = 'Features')"
      ],
      "execution_count": 32,
      "outputs": [
        {
          "output_type": "display_data",
          "data": {
            "image/png": "[encoded data removed]",
            "text/plain": [
              "<Figure size 864x576 with 1 Axes>"
            ]
          },
          "metadata": {
            "tags": [],
            "needs_background": "light"
          }
        },
        {
          "output_type": "display_data",
          "data": {
            "image/png": "[encoded data removed]",
            "text/plain": [
              "<Figure size 864x576 with 1 Axes>"
            ]
          },
          "metadata": {
            "tags": [],
            "needs_background": "light"
          }
        },
        {
          "output_type": "display_data",
          "data": {
            "image/png": "[encoded data removed]",
            "text/plain": [
              "<Figure size 864x576 with 1 Axes>"
            ]
          },
          "metadata": {
            "tags": [],
            "needs_background": "light"
          }
        },
        {
          "output_type": "display_data",
          "data": {
            "image/png": "[encoded data removed]",
            "text/plain": [
              "<Figure size 864x576 with 1 Axes>"
            ]
          },
          "metadata": {
            "tags": [],
            "needs_background": "light"
          }
        }
      ]
    },
    {
      "cell_type": "code",
      "metadata": {
        "id": "4buztsrFMhoZ"
      },
      "source": [
        ""
      ],
      "execution_count": null,
      "outputs": []
    }
  ]
}