{
  "nbformat": 4,
  "nbformat_minor": 0,
  "metadata": {
    "colab": {
      "name": "Untitled1.ipynb",
      "provenance": [],
      "authorship_tag": "ABX9TyMpn1lOEZWWiH4Fv3Dg5BhG",
      "include_colab_link": true
    },
    "kernelspec": {
      "name": "python3",
      "display_name": "Python 3"
    },
    "widgets": {
      "application/vnd.jupyter.widget-state+json": {
        "41ae8ef6fbf74b1295f6ed885ad3f33d": {
          "model_module": "@jupyter-widgets/controls",
          "model_name": "IntProgressModel",
          "state": {
            "_view_name": "ProgressView",
            "style": "IPY_MODEL_2336ce2073ae41f3980ead81a79bdd9c",
            "_dom_classes": [],
            "description": "Processing: ",
            "_model_name": "IntProgressModel",
            "bar_style": "",
            "max": 3,
            "_view_module": "@jupyter-widgets/controls",
            "_model_module_version": "1.5.0",
            "value": 3,
            "_view_count": null,
            "_view_module_version": "1.5.0",
            "orientation": "horizontal",
            "min": 0,
            "description_tooltip": null,
            "_model_module": "@jupyter-widgets/controls",
            "layout": "IPY_MODEL_7ef557fb01f3419db6f9b43f566306b5"
          }
        },
        "2336ce2073ae41f3980ead81a79bdd9c": {
          "model_module": "@jupyter-widgets/controls",
          "model_name": "ProgressStyleModel",
          "state": {
            "_view_name": "StyleView",
            "_model_name": "ProgressStyleModel",
            "description_width": "",
            "_view_module": "@jupyter-widgets/base",
            "_model_module_version": "1.5.0",
            "_view_count": null,
            "_view_module_version": "1.2.0",
            "bar_color": null,
            "_model_module": "@jupyter-widgets/controls"
          }
        },
        "7ef557fb01f3419db6f9b43f566306b5": {
          "model_module": "@jupyter-widgets/base",
          "model_name": "LayoutModel",
          "state": {
            "_view_name": "LayoutView",
            "grid_template_rows": null,
            "right": null,
            "justify_content": null,
            "_view_module": "@jupyter-widgets/base",
            "overflow": null,
            "_model_module_version": "1.2.0",
            "_view_count": null,
            "flex_flow": null,
            "width": null,
            "min_width": null,
            "border": null,
            "align_items": null,
            "bottom": null,
            "_model_module": "@jupyter-widgets/base",
            "top": null,
            "grid_column": null,
            "overflow_y": null,
            "overflow_x": null,
            "grid_auto_flow": null,
            "grid_area": null,
            "grid_template_columns": null,
            "flex": null,
            "_model_name": "LayoutModel",
            "justify_items": null,
            "grid_row": null,
            "max_height": null,
            "align_content": null,
            "visibility": null,
            "align_self": null,
            "height": null,
            "min_height": null,
            "padding": null,
            "grid_auto_rows": null,
            "grid_gap": null,
            "max_width": null,
            "order": null,
            "_view_module_version": "1.2.0",
            "grid_template_areas": null,
            "object_position": null,
            "object_fit": null,
            "grid_auto_columns": null,
            "margin": null,
            "display": null,
            "left": null
          }
        },
        "7f011bae75e0445daefd5f4a2281e59b": {
          "model_module": "@jupyter-widgets/controls",
          "model_name": "TextModel",
          "state": {
            "_view_name": "TextView",
            "style": "IPY_MODEL_728581de139f434895990dba8e2cdc27",
            "_dom_classes": [],
            "description": "",
            "_model_name": "TextModel",
            "placeholder": "​",
            "_view_module": "@jupyter-widgets/controls",
            "_model_module_version": "1.5.0",
            "value": "Following data types have been inferred automatically, if they are correct press enter to continue or type 'quit' otherwise.",
            "_view_count": null,
            "disabled": false,
            "_view_module_version": "1.5.0",
            "continuous_update": true,
            "description_tooltip": null,
            "_model_module": "@jupyter-widgets/controls",
            "layout": "IPY_MODEL_9be18a52a2ff4f1c99133d94dd7d2844"
          }
        },
        "728581de139f434895990dba8e2cdc27": {
          "model_module": "@jupyter-widgets/controls",
          "model_name": "DescriptionStyleModel",
          "state": {
            "_view_name": "StyleView",
            "_model_name": "DescriptionStyleModel",
            "description_width": "",
            "_view_module": "@jupyter-widgets/base",
            "_model_module_version": "1.5.0",
            "_view_count": null,
            "_view_module_version": "1.2.0",
            "_model_module": "@jupyter-widgets/controls"
          }
        },
        "9be18a52a2ff4f1c99133d94dd7d2844": {
          "model_module": "@jupyter-widgets/base",
          "model_name": "LayoutModel",
          "state": {
            "_view_name": "LayoutView",
            "grid_template_rows": null,
            "right": null,
            "justify_content": null,
            "_view_module": "@jupyter-widgets/base",
            "overflow": null,
            "_model_module_version": "1.2.0",
            "_view_count": null,
            "flex_flow": null,
            "width": "100%",
            "min_width": null,
            "border": null,
            "align_items": null,
            "bottom": null,
            "_model_module": "@jupyter-widgets/base",
            "top": null,
            "grid_column": null,
            "overflow_y": null,
            "overflow_x": null,
            "grid_auto_flow": null,
            "grid_area": null,
            "grid_template_columns": null,
            "flex": null,
            "_model_name": "LayoutModel",
            "justify_items": null,
            "grid_row": null,
            "max_height": null,
            "align_content": null,
            "visibility": null,
            "align_self": null,
            "height": null,
            "min_height": null,
            "padding": null,
            "grid_auto_rows": null,
            "grid_gap": null,
            "max_width": null,
            "order": null,
            "_view_module_version": "1.2.0",
            "grid_template_areas": null,
            "object_position": null,
            "object_fit": null,
            "grid_auto_columns": null,
            "margin": null,
            "display": null,
            "left": null
          }
        },
        "3d80e7a1afea4c86adae2fbc1bf444be": {
          "model_module": "@jupyter-widgets/controls",
          "model_name": "IntProgressModel",
          "state": {
            "_view_name": "ProgressView",
            "style": "IPY_MODEL_9987e84158d44c3abfedd4b75deb61cc",
            "_dom_classes": [],
            "description": "Processing: ",
            "_model_name": "IntProgressModel",
            "bar_style": "",
            "max": 79,
            "_view_module": "@jupyter-widgets/controls",
            "_model_module_version": "1.5.0",
            "value": 79,
            "_view_count": null,
            "_view_module_version": "1.5.0",
            "orientation": "horizontal",
            "min": 0,
            "description_tooltip": null,
            "_model_module": "@jupyter-widgets/controls",
            "layout": "IPY_MODEL_1bafdd4f1ef84540960acd4c097df679"
          }
        },
        "9987e84158d44c3abfedd4b75deb61cc": {
          "model_module": "@jupyter-widgets/controls",
          "model_name": "ProgressStyleModel",
          "state": {
            "_view_name": "StyleView",
            "_model_name": "ProgressStyleModel",
            "description_width": "",
            "_view_module": "@jupyter-widgets/base",
            "_model_module_version": "1.5.0",
            "_view_count": null,
            "_view_module_version": "1.2.0",
            "bar_color": null,
            "_model_module": "@jupyter-widgets/controls"
          }
        },
        "1bafdd4f1ef84540960acd4c097df679": {
          "model_module": "@jupyter-widgets/base",
          "model_name": "LayoutModel",
          "state": {
            "_view_name": "LayoutView",
            "grid_template_rows": null,
            "right": null,
            "justify_content": null,
            "_view_module": "@jupyter-widgets/base",
            "overflow": null,
            "_model_module_version": "1.2.0",
            "_view_count": null,
            "flex_flow": null,
            "width": null,
            "min_width": null,
            "border": null,
            "align_items": null,
            "bottom": null,
            "_model_module": "@jupyter-widgets/base",
            "top": null,
            "grid_column": null,
            "overflow_y": null,
            "overflow_x": null,
            "grid_auto_flow": null,
            "grid_area": null,
            "grid_template_columns": null,
            "flex": null,
            "_model_name": "LayoutModel",
            "justify_items": null,
            "grid_row": null,
            "max_height": null,
            "align_content": null,
            "visibility": null,
            "align_self": null,
            "height": null,
            "min_height": null,
            "padding": null,
            "grid_auto_rows": null,
            "grid_gap": null,
            "max_width": null,
            "order": null,
            "_view_module_version": "1.2.0",
            "grid_template_areas": null,
            "object_position": null,
            "object_fit": null,
            "grid_auto_columns": null,
            "margin": null,
            "display": null,
            "left": null
          }
        },
        "edf5a88087334fef99b6ff8320610a00": {
          "model_module": "@jupyter-widgets/controls",
          "model_name": "IntProgressModel",
          "state": {
            "_view_name": "ProgressView",
            "style": "IPY_MODEL_11a9173405a54e7980c3735dceb50207",
            "_dom_classes": [],
            "description": "Processing: ",
            "_model_name": "IntProgressModel",
            "bar_style": "",
            "max": 4,
            "_view_module": "@jupyter-widgets/controls",
            "_model_module_version": "1.5.0",
            "value": 4,
            "_view_count": null,
            "_view_module_version": "1.5.0",
            "orientation": "horizontal",
            "min": 0,
            "description_tooltip": null,
            "_model_module": "@jupyter-widgets/controls",
            "layout": "IPY_MODEL_0b0d666ff4c641bc8b3e4e7c4153e877"
          }
        },
        "11a9173405a54e7980c3735dceb50207": {
          "model_module": "@jupyter-widgets/controls",
          "model_name": "ProgressStyleModel",
          "state": {
            "_view_name": "StyleView",
            "_model_name": "ProgressStyleModel",
            "description_width": "",
            "_view_module": "@jupyter-widgets/base",
            "_model_module_version": "1.5.0",
            "_view_count": null,
            "_view_module_version": "1.2.0",
            "bar_color": null,
            "_model_module": "@jupyter-widgets/controls"
          }
        },
        "0b0d666ff4c641bc8b3e4e7c4153e877": {
          "model_module": "@jupyter-widgets/base",
          "model_name": "LayoutModel",
          "state": {
            "_view_name": "LayoutView",
            "grid_template_rows": null,
            "right": null,
            "justify_content": null,
            "_view_module": "@jupyter-widgets/base",
            "overflow": null,
            "_model_module_version": "1.2.0",
            "_view_count": null,
            "flex_flow": null,
            "width": null,
            "min_width": null,
            "border": null,
            "align_items": null,
            "bottom": null,
            "_model_module": "@jupyter-widgets/base",
            "top": null,
            "grid_column": null,
            "overflow_y": null,
            "overflow_x": null,
            "grid_auto_flow": null,
            "grid_area": null,
            "grid_template_columns": null,
            "flex": null,
            "_model_name": "LayoutModel",
            "justify_items": null,
            "grid_row": null,
            "max_height": null,
            "align_content": null,
            "visibility": null,
            "align_self": null,
            "height": null,
            "min_height": null,
            "padding": null,
            "grid_auto_rows": null,
            "grid_gap": null,
            "max_width": null,
            "order": null,
            "_view_module_version": "1.2.0",
            "grid_template_areas": null,
            "object_position": null,
            "object_fit": null,
            "grid_auto_columns": null,
            "margin": null,
            "display": null,
            "left": null
          }
        },
        "ed89e025c3214dce8515231a70e9b7ee": {
          "model_module": "@jupyter-widgets/controls",
          "model_name": "IntProgressModel",
          "state": {
            "_view_name": "ProgressView",
            "style": "IPY_MODEL_b6723bdf3b0d4f26b6ac1b67fb48f804",
            "_dom_classes": [],
            "description": "Processing: ",
            "_model_name": "IntProgressModel",
            "bar_style": "",
            "max": 7,
            "_view_module": "@jupyter-widgets/controls",
            "_model_module_version": "1.5.0",
            "value": 7,
            "_view_count": null,
            "_view_module_version": "1.5.0",
            "orientation": "horizontal",
            "min": 0,
            "description_tooltip": null,
            "_model_module": "@jupyter-widgets/controls",
            "layout": "IPY_MODEL_77a5e4cc68f342cb8c53075fbbefbbc7"
          }
        },
        "b6723bdf3b0d4f26b6ac1b67fb48f804": {
          "model_module": "@jupyter-widgets/controls",
          "model_name": "ProgressStyleModel",
          "state": {
            "_view_name": "StyleView",
            "_model_name": "ProgressStyleModel",
            "description_width": "",
            "_view_module": "@jupyter-widgets/base",
            "_model_module_version": "1.5.0",
            "_view_count": null,
            "_view_module_version": "1.2.0",
            "bar_color": null,
            "_model_module": "@jupyter-widgets/controls"
          }
        },
        "77a5e4cc68f342cb8c53075fbbefbbc7": {
          "model_module": "@jupyter-widgets/base",
          "model_name": "LayoutModel",
          "state": {
            "_view_name": "LayoutView",
            "grid_template_rows": null,
            "right": null,
            "justify_content": null,
            "_view_module": "@jupyter-widgets/base",
            "overflow": null,
            "_model_module_version": "1.2.0",
            "_view_count": null,
            "flex_flow": null,
            "width": null,
            "min_width": null,
            "border": null,
            "align_items": null,
            "bottom": null,
            "_model_module": "@jupyter-widgets/base",
            "top": null,
            "grid_column": null,
            "overflow_y": null,
            "overflow_x": null,
            "grid_auto_flow": null,
            "grid_area": null,
            "grid_template_columns": null,
            "flex": null,
            "_model_name": "LayoutModel",
            "justify_items": null,
            "grid_row": null,
            "max_height": null,
            "align_content": null,
            "visibility": null,
            "align_self": null,
            "height": null,
            "min_height": null,
            "padding": null,
            "grid_auto_rows": null,
            "grid_gap": null,
            "max_width": null,
            "order": null,
            "_view_module_version": "1.2.0",
            "grid_template_areas": null,
            "object_position": null,
            "object_fit": null,
            "grid_auto_columns": null,
            "margin": null,
            "display": null,
            "left": null
          }
        },
        "4405eb8034724d93b93546b87d8dc9e7": {
          "model_module": "@jupyter-widgets/controls",
          "model_name": "IntProgressModel",
          "state": {
            "_view_name": "ProgressView",
            "style": "IPY_MODEL_623b1629a27c4fdb99e0048207323801",
            "_dom_classes": [],
            "description": "Processing: ",
            "_model_name": "IntProgressModel",
            "bar_style": "",
            "max": 4,
            "_view_module": "@jupyter-widgets/controls",
            "_model_module_version": "1.5.0",
            "value": 4,
            "_view_count": null,
            "_view_module_version": "1.5.0",
            "orientation": "horizontal",
            "min": 0,
            "description_tooltip": null,
            "_model_module": "@jupyter-widgets/controls",
            "layout": "IPY_MODEL_63d1ca2ed39f47e98d8179655d604498"
          }
        },
        "623b1629a27c4fdb99e0048207323801": {
          "model_module": "@jupyter-widgets/controls",
          "model_name": "ProgressStyleModel",
          "state": {
            "_view_name": "StyleView",
            "_model_name": "ProgressStyleModel",
            "description_width": "",
            "_view_module": "@jupyter-widgets/base",
            "_model_module_version": "1.5.0",
            "_view_count": null,
            "_view_module_version": "1.2.0",
            "bar_color": null,
            "_model_module": "@jupyter-widgets/controls"
          }
        },
        "63d1ca2ed39f47e98d8179655d604498": {
          "model_module": "@jupyter-widgets/base",
          "model_name": "LayoutModel",
          "state": {
            "_view_name": "LayoutView",
            "grid_template_rows": null,
            "right": null,
            "justify_content": null,
            "_view_module": "@jupyter-widgets/base",
            "overflow": null,
            "_model_module_version": "1.2.0",
            "_view_count": null,
            "flex_flow": null,
            "width": null,
            "min_width": null,
            "border": null,
            "align_items": null,
            "bottom": null,
            "_model_module": "@jupyter-widgets/base",
            "top": null,
            "grid_column": null,
            "overflow_y": null,
            "overflow_x": null,
            "grid_auto_flow": null,
            "grid_area": null,
            "grid_template_columns": null,
            "flex": null,
            "_model_name": "LayoutModel",
            "justify_items": null,
            "grid_row": null,
            "max_height": null,
            "align_content": null,
            "visibility": null,
            "align_self": null,
            "height": null,
            "min_height": null,
            "padding": null,
            "grid_auto_rows": null,
            "grid_gap": null,
            "max_width": null,
            "order": null,
            "_view_module_version": "1.2.0",
            "grid_template_areas": null,
            "object_position": null,
            "object_fit": null,
            "grid_auto_columns": null,
            "margin": null,
            "display": null,
            "left": null
          }
        },
        "94e0f419e4194b57af77bdfe60a02e9d": {
          "model_module": "@jupyter-widgets/controls",
          "model_name": "IntProgressModel",
          "state": {
            "_view_name": "ProgressView",
            "style": "IPY_MODEL_5ab5aa9e64514c6f80a7f01e57ae4778",
            "_dom_classes": [],
            "description": "Processing: ",
            "_model_name": "IntProgressModel",
            "bar_style": "",
            "max": 7,
            "_view_module": "@jupyter-widgets/controls",
            "_model_module_version": "1.5.0",
            "value": 7,
            "_view_count": null,
            "_view_module_version": "1.5.0",
            "orientation": "horizontal",
            "min": 0,
            "description_tooltip": null,
            "_model_module": "@jupyter-widgets/controls",
            "layout": "IPY_MODEL_f8238623517c4e00ad70c705c419ce6d"
          }
        },
        "5ab5aa9e64514c6f80a7f01e57ae4778": {
          "model_module": "@jupyter-widgets/controls",
          "model_name": "ProgressStyleModel",
          "state": {
            "_view_name": "StyleView",
            "_model_name": "ProgressStyleModel",
            "description_width": "",
            "_view_module": "@jupyter-widgets/base",
            "_model_module_version": "1.5.0",
            "_view_count": null,
            "_view_module_version": "1.2.0",
            "bar_color": null,
            "_model_module": "@jupyter-widgets/controls"
          }
        },
        "f8238623517c4e00ad70c705c419ce6d": {
          "model_module": "@jupyter-widgets/base",
          "model_name": "LayoutModel",
          "state": {
            "_view_name": "LayoutView",
            "grid_template_rows": null,
            "right": null,
            "justify_content": null,
            "_view_module": "@jupyter-widgets/base",
            "overflow": null,
            "_model_module_version": "1.2.0",
            "_view_count": null,
            "flex_flow": null,
            "width": null,
            "min_width": null,
            "border": null,
            "align_items": null,
            "bottom": null,
            "_model_module": "@jupyter-widgets/base",
            "top": null,
            "grid_column": null,
            "overflow_y": null,
            "overflow_x": null,
            "grid_auto_flow": null,
            "grid_area": null,
            "grid_template_columns": null,
            "flex": null,
            "_model_name": "LayoutModel",
            "justify_items": null,
            "grid_row": null,
            "max_height": null,
            "align_content": null,
            "visibility": null,
            "align_self": null,
            "height": null,
            "min_height": null,
            "padding": null,
            "grid_auto_rows": null,
            "grid_gap": null,
            "max_width": null,
            "order": null,
            "_view_module_version": "1.2.0",
            "grid_template_areas": null,
            "object_position": null,
            "object_fit": null,
            "grid_auto_columns": null,
            "margin": null,
            "display": null,
            "left": null
          }
        },
        "a62523efd006404ea9e8679182c9f508": {
          "model_module": "@jupyter-widgets/controls",
          "model_name": "IntProgressModel",
          "state": {
            "_view_name": "ProgressView",
            "style": "IPY_MODEL_007a2a48788748cb9fbf14faf93f0aa1",
            "_dom_classes": [],
            "description": "Processing: ",
            "_model_name": "IntProgressModel",
            "bar_style": "",
            "max": 4,
            "_view_module": "@jupyter-widgets/controls",
            "_model_module_version": "1.5.0",
            "value": 4,
            "_view_count": null,
            "_view_module_version": "1.5.0",
            "orientation": "horizontal",
            "min": 0,
            "description_tooltip": null,
            "_model_module": "@jupyter-widgets/controls",
            "layout": "IPY_MODEL_734adad1d51843fc9080f45d8dff5dd3"
          }
        },
        "007a2a48788748cb9fbf14faf93f0aa1": {
          "model_module": "@jupyter-widgets/controls",
          "model_name": "ProgressStyleModel",
          "state": {
            "_view_name": "StyleView",
            "_model_name": "ProgressStyleModel",
            "description_width": "",
            "_view_module": "@jupyter-widgets/base",
            "_model_module_version": "1.5.0",
            "_view_count": null,
            "_view_module_version": "1.2.0",
            "bar_color": null,
            "_model_module": "@jupyter-widgets/controls"
          }
        },
        "734adad1d51843fc9080f45d8dff5dd3": {
          "model_module": "@jupyter-widgets/base",
          "model_name": "LayoutModel",
          "state": {
            "_view_name": "LayoutView",
            "grid_template_rows": null,
            "right": null,
            "justify_content": null,
            "_view_module": "@jupyter-widgets/base",
            "overflow": null,
            "_model_module_version": "1.2.0",
            "_view_count": null,
            "flex_flow": null,
            "width": null,
            "min_width": null,
            "border": null,
            "align_items": null,
            "bottom": null,
            "_model_module": "@jupyter-widgets/base",
            "top": null,
            "grid_column": null,
            "overflow_y": null,
            "overflow_x": null,
            "grid_auto_flow": null,
            "grid_area": null,
            "grid_template_columns": null,
            "flex": null,
            "_model_name": "LayoutModel",
            "justify_items": null,
            "grid_row": null,
            "max_height": null,
            "align_content": null,
            "visibility": null,
            "align_self": null,
            "height": null,
            "min_height": null,
            "padding": null,
            "grid_auto_rows": null,
            "grid_gap": null,
            "max_width": null,
            "order": null,
            "_view_module_version": "1.2.0",
            "grid_template_areas": null,
            "object_position": null,
            "object_fit": null,
            "grid_auto_columns": null,
            "margin": null,
            "display": null,
            "left": null
          }
        },
        "ca811a71393346978d2704cbb3a4f4df": {
          "model_module": "@jupyter-widgets/controls",
          "model_name": "IntProgressModel",
          "state": {
            "_view_name": "ProgressView",
            "style": "IPY_MODEL_c066fac316fc48889ca1645f41e39774",
            "_dom_classes": [],
            "description": "Processing: ",
            "_model_name": "IntProgressModel",
            "bar_style": "",
            "max": 7,
            "_view_module": "@jupyter-widgets/controls",
            "_model_module_version": "1.5.0",
            "value": 7,
            "_view_count": null,
            "_view_module_version": "1.5.0",
            "orientation": "horizontal",
            "min": 0,
            "description_tooltip": null,
            "_model_module": "@jupyter-widgets/controls",
            "layout": "IPY_MODEL_bf5b8c3ca07644688f329bc394fe9a26"
          }
        },
        "c066fac316fc48889ca1645f41e39774": {
          "model_module": "@jupyter-widgets/controls",
          "model_name": "ProgressStyleModel",
          "state": {
            "_view_name": "StyleView",
            "_model_name": "ProgressStyleModel",
            "description_width": "",
            "_view_module": "@jupyter-widgets/base",
            "_model_module_version": "1.5.0",
            "_view_count": null,
            "_view_module_version": "1.2.0",
            "bar_color": null,
            "_model_module": "@jupyter-widgets/controls"
          }
        },
        "bf5b8c3ca07644688f329bc394fe9a26": {
          "model_module": "@jupyter-widgets/base",
          "model_name": "LayoutModel",
          "state": {
            "_view_name": "LayoutView",
            "grid_template_rows": null,
            "right": null,
            "justify_content": null,
            "_view_module": "@jupyter-widgets/base",
            "overflow": null,
            "_model_module_version": "1.2.0",
            "_view_count": null,
            "flex_flow": null,
            "width": null,
            "min_width": null,
            "border": null,
            "align_items": null,
            "bottom": null,
            "_model_module": "@jupyter-widgets/base",
            "top": null,
            "grid_column": null,
            "overflow_y": null,
            "overflow_x": null,
            "grid_auto_flow": null,
            "grid_area": null,
            "grid_template_columns": null,
            "flex": null,
            "_model_name": "LayoutModel",
            "justify_items": null,
            "grid_row": null,
            "max_height": null,
            "align_content": null,
            "visibility": null,
            "align_self": null,
            "height": null,
            "min_height": null,
            "padding": null,
            "grid_auto_rows": null,
            "grid_gap": null,
            "max_width": null,
            "order": null,
            "_view_module_version": "1.2.0",
            "grid_template_areas": null,
            "object_position": null,
            "object_fit": null,
            "grid_auto_columns": null,
            "margin": null,
            "display": null,
            "left": null
          }
        },
        "714225fe59b643aa9918adedde41ebb7": {
          "model_module": "@jupyter-widgets/controls",
          "model_name": "IntProgressModel",
          "state": {
            "_view_name": "ProgressView",
            "style": "IPY_MODEL_430054a542ba4d9fa1c018de275f58b4",
            "_dom_classes": [],
            "description": "Processing: ",
            "_model_name": "IntProgressModel",
            "bar_style": "",
            "max": 4,
            "_view_module": "@jupyter-widgets/controls",
            "_model_module_version": "1.5.0",
            "value": 4,
            "_view_count": null,
            "_view_module_version": "1.5.0",
            "orientation": "horizontal",
            "min": 0,
            "description_tooltip": null,
            "_model_module": "@jupyter-widgets/controls",
            "layout": "IPY_MODEL_e4f5428aa50f4affaf502b7a30cb0412"
          }
        },
        "430054a542ba4d9fa1c018de275f58b4": {
          "model_module": "@jupyter-widgets/controls",
          "model_name": "ProgressStyleModel",
          "state": {
            "_view_name": "StyleView",
            "_model_name": "ProgressStyleModel",
            "description_width": "",
            "_view_module": "@jupyter-widgets/base",
            "_model_module_version": "1.5.0",
            "_view_count": null,
            "_view_module_version": "1.2.0",
            "bar_color": null,
            "_model_module": "@jupyter-widgets/controls"
          }
        },
        "e4f5428aa50f4affaf502b7a30cb0412": {
          "model_module": "@jupyter-widgets/base",
          "model_name": "LayoutModel",
          "state": {
            "_view_name": "LayoutView",
            "grid_template_rows": null,
            "right": null,
            "justify_content": null,
            "_view_module": "@jupyter-widgets/base",
            "overflow": null,
            "_model_module_version": "1.2.0",
            "_view_count": null,
            "flex_flow": null,
            "width": null,
            "min_width": null,
            "border": null,
            "align_items": null,
            "bottom": null,
            "_model_module": "@jupyter-widgets/base",
            "top": null,
            "grid_column": null,
            "overflow_y": null,
            "overflow_x": null,
            "grid_auto_flow": null,
            "grid_area": null,
            "grid_template_columns": null,
            "flex": null,
            "_model_name": "LayoutModel",
            "justify_items": null,
            "grid_row": null,
            "max_height": null,
            "align_content": null,
            "visibility": null,
            "align_self": null,
            "height": null,
            "min_height": null,
            "padding": null,
            "grid_auto_rows": null,
            "grid_gap": null,
            "max_width": null,
            "order": null,
            "_view_module_version": "1.2.0",
            "grid_template_areas": null,
            "object_position": null,
            "object_fit": null,
            "grid_auto_columns": null,
            "margin": null,
            "display": null,
            "left": null
          }
        },
        "a9103474a93b4ff4bee316fd7d7dd915": {
          "model_module": "@jupyter-widgets/controls",
          "model_name": "IntProgressModel",
          "state": {
            "_view_name": "ProgressView",
            "style": "IPY_MODEL_7141dcf14a8446089775fc089e624677",
            "_dom_classes": [],
            "description": "Processing: ",
            "_model_name": "IntProgressModel",
            "bar_style": "",
            "max": 7,
            "_view_module": "@jupyter-widgets/controls",
            "_model_module_version": "1.5.0",
            "value": 7,
            "_view_count": null,
            "_view_module_version": "1.5.0",
            "orientation": "horizontal",
            "min": 0,
            "description_tooltip": null,
            "_model_module": "@jupyter-widgets/controls",
            "layout": "IPY_MODEL_04b8bc46729142ecbaac25773c85bf7a"
          }
        },
        "7141dcf14a8446089775fc089e624677": {
          "model_module": "@jupyter-widgets/controls",
          "model_name": "ProgressStyleModel",
          "state": {
            "_view_name": "StyleView",
            "_model_name": "ProgressStyleModel",
            "description_width": "",
            "_view_module": "@jupyter-widgets/base",
            "_model_module_version": "1.5.0",
            "_view_count": null,
            "_view_module_version": "1.2.0",
            "bar_color": null,
            "_model_module": "@jupyter-widgets/controls"
          }
        },
        "04b8bc46729142ecbaac25773c85bf7a": {
          "model_module": "@jupyter-widgets/base",
          "model_name": "LayoutModel",
          "state": {
            "_view_name": "LayoutView",
            "grid_template_rows": null,
            "right": null,
            "justify_content": null,
            "_view_module": "@jupyter-widgets/base",
            "overflow": null,
            "_model_module_version": "1.2.0",
            "_view_count": null,
            "flex_flow": null,
            "width": null,
            "min_width": null,
            "border": null,
            "align_items": null,
            "bottom": null,
            "_model_module": "@jupyter-widgets/base",
            "top": null,
            "grid_column": null,
            "overflow_y": null,
            "overflow_x": null,
            "grid_auto_flow": null,
            "grid_area": null,
            "grid_template_columns": null,
            "flex": null,
            "_model_name": "LayoutModel",
            "justify_items": null,
            "grid_row": null,
            "max_height": null,
            "align_content": null,
            "visibility": null,
            "align_self": null,
            "height": null,
            "min_height": null,
            "padding": null,
            "grid_auto_rows": null,
            "grid_gap": null,
            "max_width": null,
            "order": null,
            "_view_module_version": "1.2.0",
            "grid_template_areas": null,
            "object_position": null,
            "object_fit": null,
            "grid_auto_columns": null,
            "margin": null,
            "display": null,
            "left": null
          }
        },
        "4f4933491a434565ac9fa5b9d79fe73c": {
          "model_module": "@jupyter-widgets/controls",
          "model_name": "IntProgressModel",
          "state": {
            "_view_name": "ProgressView",
            "style": "IPY_MODEL_fe5cc687f0924be0b72dc340de7949bf",
            "_dom_classes": [],
            "description": "Processing: ",
            "_model_name": "IntProgressModel",
            "bar_style": "",
            "max": 5,
            "_view_module": "@jupyter-widgets/controls",
            "_model_module_version": "1.5.0",
            "value": 5,
            "_view_count": null,
            "_view_module_version": "1.5.0",
            "orientation": "horizontal",
            "min": 0,
            "description_tooltip": null,
            "_model_module": "@jupyter-widgets/controls",
            "layout": "IPY_MODEL_1588653edba944f4a5f8559c7cf675e8"
          }
        },
        "fe5cc687f0924be0b72dc340de7949bf": {
          "model_module": "@jupyter-widgets/controls",
          "model_name": "ProgressStyleModel",
          "state": {
            "_view_name": "StyleView",
            "_model_name": "ProgressStyleModel",
            "description_width": "",
            "_view_module": "@jupyter-widgets/base",
            "_model_module_version": "1.5.0",
            "_view_count": null,
            "_view_module_version": "1.2.0",
            "bar_color": null,
            "_model_module": "@jupyter-widgets/controls"
          }
        },
        "1588653edba944f4a5f8559c7cf675e8": {
          "model_module": "@jupyter-widgets/base",
          "model_name": "LayoutModel",
          "state": {
            "_view_name": "LayoutView",
            "grid_template_rows": null,
            "right": null,
            "justify_content": null,
            "_view_module": "@jupyter-widgets/base",
            "overflow": null,
            "_model_module_version": "1.2.0",
            "_view_count": null,
            "flex_flow": null,
            "width": null,
            "min_width": null,
            "border": null,
            "align_items": null,
            "bottom": null,
            "_model_module": "@jupyter-widgets/base",
            "top": null,
            "grid_column": null,
            "overflow_y": null,
            "overflow_x": null,
            "grid_auto_flow": null,
            "grid_area": null,
            "grid_template_columns": null,
            "flex": null,
            "_model_name": "LayoutModel",
            "justify_items": null,
            "grid_row": null,
            "max_height": null,
            "align_content": null,
            "visibility": null,
            "align_self": null,
            "height": null,
            "min_height": null,
            "padding": null,
            "grid_auto_rows": null,
            "grid_gap": null,
            "max_width": null,
            "order": null,
            "_view_module_version": "1.2.0",
            "grid_template_areas": null,
            "object_position": null,
            "object_fit": null,
            "grid_auto_columns": null,
            "margin": null,
            "display": null,
            "left": null
          }
        }
      }
    }
  },
  "cells": [
    {
      "cell_type": "markdown",
      "metadata": {
        "id": "view-in-github",
        "colab_type": "text"
      },
      "source": [
        "<a href=\"https://colab.research.google.com/github/jjefferson2006/DSWP_JJ_altera/blob/main/desafio_kaggle_5_moda.ipynb\" target=\"_parent\"><img src=\"https://colab.research.google.com/assets/colab-badge.svg\" alt=\"Open In Colab\"/></a>"
      ]
    },
    {
      "cell_type": "code",
      "metadata": {
        "id": "8A7fyokUWMUE"
      },
      "source": [
        "!pip install pycaret"
      ],
      "execution_count": null,
      "outputs": []
    },
    {
      "cell_type": "code",
      "metadata": {
        "id": "aqYa5BNzhBwc",
        "outputId": "acda821d-490d-4607-c352-44ad83c3e1d5",
        "colab": {
          "base_uri": "https://localhost:8080/"
        }
      },
      "source": [
        "import pandas as pd\n",
        "import numpy as np\n",
        "import matplotlib.pyplot as plt\n",
        "import seaborn as sns\n",
        "%matplotlib inline\n",
        "\n",
        "from sklearn.preprocessing import MinMaxScaler\n",
        "import statsmodels.api as sm\n",
        "import statsmodels.formula.api as smf\n",
        "from sklearn.linear_model import LogisticRegression\n",
        "from sklearn.metrics import roc_auc_score, roc_curve, classification_report, accuracy_score, confusion_matrix"
      ],
      "execution_count": 2,
      "outputs": [
        {
          "output_type": "stream",
          "text": [
            "/usr/local/lib/python3.6/dist-packages/statsmodels/tools/_testing.py:19: FutureWarning: pandas.util.testing is deprecated. Use the functions in the public API at pandas.testing instead.\n",
            "  import pandas.util.testing as tm\n"
          ],
          "name": "stderr"
        }
      ]
    },
    {
      "cell_type": "code",
      "metadata": {
        "id": "pVh_nKkhqdwd"
      },
      "source": [
        "from pycaret.classification import *"
      ],
      "execution_count": 3,
      "outputs": []
    },
    {
      "cell_type": "code",
      "metadata": {
        "id": "lPJYMQjEhJIb",
        "outputId": "6878618b-7553-4b69-dabf-4b8abb813414",
        "colab": {
          "base_uri": "https://localhost:8080/",
          "height": 609
        }
      },
      "source": [
        "url = 'https://raw.githubusercontent.com/jjefferson2006/DSWP_JJ_altera/main/train.csv'\n",
        "df_churn_train = pd.read_csv(url)\n",
        "df_churn_train"
      ],
      "execution_count": 4,
      "outputs": [
        {
          "output_type": "execute_result",
          "data": {
            "text/html": [
              "<div>\n",
              "<style scoped>\n",
              "    .dataframe tbody tr th:only-of-type {\n",
              "        vertical-align: middle;\n",
              "    }\n",
              "\n",
              "    .dataframe tbody tr th {\n",
              "        vertical-align: top;\n",
              "    }\n",
              "\n",
              "    .dataframe thead th {\n",
              "        text-align: right;\n",
              "    }\n",
              "</style>\n",
              "<table border=\"1\" class=\"dataframe\">\n",
              "  <thead>\n",
              "    <tr style=\"text-align: right;\">\n",
              "      <th></th>\n",
              "      <th>id</th>\n",
              "      <th>gender</th>\n",
              "      <th>SeniorCitizen</th>\n",
              "      <th>Partner</th>\n",
              "      <th>Dependents</th>\n",
              "      <th>tenure</th>\n",
              "      <th>PhoneService</th>\n",
              "      <th>MultipleLines</th>\n",
              "      <th>InternetService</th>\n",
              "      <th>OnlineSecurity</th>\n",
              "      <th>OnlineBackup</th>\n",
              "      <th>DeviceProtection</th>\n",
              "      <th>TechSupport</th>\n",
              "      <th>StreamingTV</th>\n",
              "      <th>StreamingMovies</th>\n",
              "      <th>Contract</th>\n",
              "      <th>PaperlessBilling</th>\n",
              "      <th>PaymentMethod</th>\n",
              "      <th>MonthlyCharges</th>\n",
              "      <th>TotalCharges</th>\n",
              "      <th>Churn</th>\n",
              "    </tr>\n",
              "  </thead>\n",
              "  <tbody>\n",
              "    <tr>\n",
              "      <th>0</th>\n",
              "      <td>4030</td>\n",
              "      <td>Female</td>\n",
              "      <td>0</td>\n",
              "      <td>No</td>\n",
              "      <td>No</td>\n",
              "      <td>56.0</td>\n",
              "      <td>No</td>\n",
              "      <td>No phone service</td>\n",
              "      <td>DSL</td>\n",
              "      <td>Yes</td>\n",
              "      <td>Yes</td>\n",
              "      <td>Yes</td>\n",
              "      <td>Yes</td>\n",
              "      <td>No</td>\n",
              "      <td>No</td>\n",
              "      <td>Two year</td>\n",
              "      <td>No</td>\n",
              "      <td>NaN</td>\n",
              "      <td>45.05</td>\n",
              "      <td>2560.1</td>\n",
              "      <td>0</td>\n",
              "    </tr>\n",
              "    <tr>\n",
              "      <th>1</th>\n",
              "      <td>6731</td>\n",
              "      <td>Male</td>\n",
              "      <td>0</td>\n",
              "      <td>Yes</td>\n",
              "      <td>Yes</td>\n",
              "      <td>NaN</td>\n",
              "      <td>Yes</td>\n",
              "      <td>No</td>\n",
              "      <td>No</td>\n",
              "      <td>No internet service</td>\n",
              "      <td>No internet service</td>\n",
              "      <td>No internet service</td>\n",
              "      <td>No internet service</td>\n",
              "      <td>No internet service</td>\n",
              "      <td>No internet service</td>\n",
              "      <td>One year</td>\n",
              "      <td>No</td>\n",
              "      <td>Mailed check</td>\n",
              "      <td>19.65</td>\n",
              "      <td>332.65</td>\n",
              "      <td>0</td>\n",
              "    </tr>\n",
              "    <tr>\n",
              "      <th>2</th>\n",
              "      <td>6479</td>\n",
              "      <td>Female</td>\n",
              "      <td>0</td>\n",
              "      <td>Yes</td>\n",
              "      <td>No</td>\n",
              "      <td>60.0</td>\n",
              "      <td>Yes</td>\n",
              "      <td>Yes</td>\n",
              "      <td>Fiber optic</td>\n",
              "      <td>No</td>\n",
              "      <td>Yes</td>\n",
              "      <td>Yes</td>\n",
              "      <td>Yes</td>\n",
              "      <td>Yes</td>\n",
              "      <td>Yes</td>\n",
              "      <td>Two year</td>\n",
              "      <td>Yes</td>\n",
              "      <td>Credit card (automatic)</td>\n",
              "      <td>110.80</td>\n",
              "      <td>6640.7</td>\n",
              "      <td>0</td>\n",
              "    </tr>\n",
              "    <tr>\n",
              "      <th>3</th>\n",
              "      <td>6861</td>\n",
              "      <td>Female</td>\n",
              "      <td>0</td>\n",
              "      <td>No</td>\n",
              "      <td>No</td>\n",
              "      <td>37.0</td>\n",
              "      <td>Yes</td>\n",
              "      <td>Yes</td>\n",
              "      <td>Fiber optic</td>\n",
              "      <td>No</td>\n",
              "      <td>Yes</td>\n",
              "      <td>Yes</td>\n",
              "      <td>No</td>\n",
              "      <td>Yes</td>\n",
              "      <td>Yes</td>\n",
              "      <td>Month-to-month</td>\n",
              "      <td>Yes</td>\n",
              "      <td>Bank transfer (automatic)</td>\n",
              "      <td>101.90</td>\n",
              "      <td>3545.35</td>\n",
              "      <td>1</td>\n",
              "    </tr>\n",
              "    <tr>\n",
              "      <th>4</th>\n",
              "      <td>3266</td>\n",
              "      <td>Male</td>\n",
              "      <td>0</td>\n",
              "      <td>Yes</td>\n",
              "      <td>Yes</td>\n",
              "      <td>29.0</td>\n",
              "      <td>Yes</td>\n",
              "      <td>No</td>\n",
              "      <td>Fiber optic</td>\n",
              "      <td>No</td>\n",
              "      <td>No</td>\n",
              "      <td>No</td>\n",
              "      <td>No</td>\n",
              "      <td>No</td>\n",
              "      <td>No</td>\n",
              "      <td>Month-to-month</td>\n",
              "      <td>Yes</td>\n",
              "      <td>Electronic check</td>\n",
              "      <td>70.75</td>\n",
              "      <td>1974.8</td>\n",
              "      <td>1</td>\n",
              "    </tr>\n",
              "    <tr>\n",
              "      <th>...</th>\n",
              "      <td>...</td>\n",
              "      <td>...</td>\n",
              "      <td>...</td>\n",
              "      <td>...</td>\n",
              "      <td>...</td>\n",
              "      <td>...</td>\n",
              "      <td>...</td>\n",
              "      <td>...</td>\n",
              "      <td>...</td>\n",
              "      <td>...</td>\n",
              "      <td>...</td>\n",
              "      <td>...</td>\n",
              "      <td>...</td>\n",
              "      <td>...</td>\n",
              "      <td>...</td>\n",
              "      <td>...</td>\n",
              "      <td>...</td>\n",
              "      <td>...</td>\n",
              "      <td>...</td>\n",
              "      <td>...</td>\n",
              "      <td>...</td>\n",
              "    </tr>\n",
              "    <tr>\n",
              "      <th>5629</th>\n",
              "      <td>6684</td>\n",
              "      <td>Male</td>\n",
              "      <td>0</td>\n",
              "      <td>No</td>\n",
              "      <td>No</td>\n",
              "      <td>43.0</td>\n",
              "      <td>No</td>\n",
              "      <td>No phone service</td>\n",
              "      <td>DSL</td>\n",
              "      <td>No</td>\n",
              "      <td>No</td>\n",
              "      <td>Yes</td>\n",
              "      <td>Yes</td>\n",
              "      <td>No</td>\n",
              "      <td>Yes</td>\n",
              "      <td>One year</td>\n",
              "      <td>No</td>\n",
              "      <td>Electronic check</td>\n",
              "      <td>44.15</td>\n",
              "      <td>1931.3</td>\n",
              "      <td>0</td>\n",
              "    </tr>\n",
              "    <tr>\n",
              "      <th>5630</th>\n",
              "      <td>604</td>\n",
              "      <td>Male</td>\n",
              "      <td>0</td>\n",
              "      <td>No</td>\n",
              "      <td>No</td>\n",
              "      <td>NaN</td>\n",
              "      <td>Yes</td>\n",
              "      <td>Yes</td>\n",
              "      <td>Fiber optic</td>\n",
              "      <td>No</td>\n",
              "      <td>Yes</td>\n",
              "      <td>Yes</td>\n",
              "      <td>Yes</td>\n",
              "      <td>Yes</td>\n",
              "      <td>Yes</td>\n",
              "      <td>Two year</td>\n",
              "      <td>No</td>\n",
              "      <td>Electronic check</td>\n",
              "      <td>108.65</td>\n",
              "      <td>4903.2</td>\n",
              "      <td>0</td>\n",
              "    </tr>\n",
              "    <tr>\n",
              "      <th>5631</th>\n",
              "      <td>4803</td>\n",
              "      <td>Female</td>\n",
              "      <td>0</td>\n",
              "      <td>No</td>\n",
              "      <td>No</td>\n",
              "      <td>28.0</td>\n",
              "      <td>Yes</td>\n",
              "      <td>No</td>\n",
              "      <td>DSL</td>\n",
              "      <td>No</td>\n",
              "      <td>Yes</td>\n",
              "      <td>No</td>\n",
              "      <td>Yes</td>\n",
              "      <td>No</td>\n",
              "      <td>No</td>\n",
              "      <td>Month-to-month</td>\n",
              "      <td>No</td>\n",
              "      <td>Bank transfer (automatic)</td>\n",
              "      <td>54.65</td>\n",
              "      <td>1517.5</td>\n",
              "      <td>0</td>\n",
              "    </tr>\n",
              "    <tr>\n",
              "      <th>5632</th>\n",
              "      <td>6317</td>\n",
              "      <td>Male</td>\n",
              "      <td>0</td>\n",
              "      <td>Yes</td>\n",
              "      <td>Yes</td>\n",
              "      <td>63.0</td>\n",
              "      <td>Yes</td>\n",
              "      <td>Yes</td>\n",
              "      <td>No</td>\n",
              "      <td>No internet service</td>\n",
              "      <td>No internet service</td>\n",
              "      <td>No internet service</td>\n",
              "      <td>No internet service</td>\n",
              "      <td>No internet service</td>\n",
              "      <td>No internet service</td>\n",
              "      <td>Two year</td>\n",
              "      <td>No</td>\n",
              "      <td>Mailed check</td>\n",
              "      <td>25.25</td>\n",
              "      <td>1573.05</td>\n",
              "      <td>0</td>\n",
              "    </tr>\n",
              "    <tr>\n",
              "      <th>5633</th>\n",
              "      <td>103</td>\n",
              "      <td>Male</td>\n",
              "      <td>0</td>\n",
              "      <td>No</td>\n",
              "      <td>No</td>\n",
              "      <td>38.0</td>\n",
              "      <td>Yes</td>\n",
              "      <td>Yes</td>\n",
              "      <td>Fiber optic</td>\n",
              "      <td>No</td>\n",
              "      <td>No</td>\n",
              "      <td>Yes</td>\n",
              "      <td>Yes</td>\n",
              "      <td>Yes</td>\n",
              "      <td>No</td>\n",
              "      <td>One year</td>\n",
              "      <td>No</td>\n",
              "      <td>Bank transfer (automatic)</td>\n",
              "      <td>95.00</td>\n",
              "      <td>3605.6</td>\n",
              "      <td>0</td>\n",
              "    </tr>\n",
              "  </tbody>\n",
              "</table>\n",
              "<p>5634 rows × 21 columns</p>\n",
              "</div>"
            ],
            "text/plain": [
              "        id  gender  SeniorCitizen Partner Dependents  tenure PhoneService  \\\n",
              "0     4030  Female              0      No         No    56.0           No   \n",
              "1     6731    Male              0     Yes        Yes     NaN          Yes   \n",
              "2     6479  Female              0     Yes         No    60.0          Yes   \n",
              "3     6861  Female              0      No         No    37.0          Yes   \n",
              "4     3266    Male              0     Yes        Yes    29.0          Yes   \n",
              "...    ...     ...            ...     ...        ...     ...          ...   \n",
              "5629  6684    Male              0      No         No    43.0           No   \n",
              "5630   604    Male              0      No         No     NaN          Yes   \n",
              "5631  4803  Female              0      No         No    28.0          Yes   \n",
              "5632  6317    Male              0     Yes        Yes    63.0          Yes   \n",
              "5633   103    Male              0      No         No    38.0          Yes   \n",
              "\n",
              "         MultipleLines InternetService       OnlineSecurity  \\\n",
              "0     No phone service             DSL                  Yes   \n",
              "1                   No              No  No internet service   \n",
              "2                  Yes     Fiber optic                   No   \n",
              "3                  Yes     Fiber optic                   No   \n",
              "4                   No     Fiber optic                   No   \n",
              "...                ...             ...                  ...   \n",
              "5629  No phone service             DSL                   No   \n",
              "5630               Yes     Fiber optic                   No   \n",
              "5631                No             DSL                   No   \n",
              "5632               Yes              No  No internet service   \n",
              "5633               Yes     Fiber optic                   No   \n",
              "\n",
              "             OnlineBackup     DeviceProtection          TechSupport  \\\n",
              "0                     Yes                  Yes                  Yes   \n",
              "1     No internet service  No internet service  No internet service   \n",
              "2                     Yes                  Yes                  Yes   \n",
              "3                     Yes                  Yes                   No   \n",
              "4                      No                   No                   No   \n",
              "...                   ...                  ...                  ...   \n",
              "5629                   No                  Yes                  Yes   \n",
              "5630                  Yes                  Yes                  Yes   \n",
              "5631                  Yes                   No                  Yes   \n",
              "5632  No internet service  No internet service  No internet service   \n",
              "5633                   No                  Yes                  Yes   \n",
              "\n",
              "              StreamingTV      StreamingMovies        Contract  \\\n",
              "0                      No                   No        Two year   \n",
              "1     No internet service  No internet service        One year   \n",
              "2                     Yes                  Yes        Two year   \n",
              "3                     Yes                  Yes  Month-to-month   \n",
              "4                      No                   No  Month-to-month   \n",
              "...                   ...                  ...             ...   \n",
              "5629                   No                  Yes        One year   \n",
              "5630                  Yes                  Yes        Two year   \n",
              "5631                   No                   No  Month-to-month   \n",
              "5632  No internet service  No internet service        Two year   \n",
              "5633                  Yes                   No        One year   \n",
              "\n",
              "     PaperlessBilling              PaymentMethod  MonthlyCharges TotalCharges  \\\n",
              "0                  No                        NaN           45.05       2560.1   \n",
              "1                  No               Mailed check           19.65       332.65   \n",
              "2                 Yes    Credit card (automatic)          110.80       6640.7   \n",
              "3                 Yes  Bank transfer (automatic)          101.90      3545.35   \n",
              "4                 Yes           Electronic check           70.75       1974.8   \n",
              "...               ...                        ...             ...          ...   \n",
              "5629               No           Electronic check           44.15       1931.3   \n",
              "5630               No           Electronic check          108.65       4903.2   \n",
              "5631               No  Bank transfer (automatic)           54.65       1517.5   \n",
              "5632               No               Mailed check           25.25      1573.05   \n",
              "5633               No  Bank transfer (automatic)           95.00       3605.6   \n",
              "\n",
              "      Churn  \n",
              "0         0  \n",
              "1         0  \n",
              "2         0  \n",
              "3         1  \n",
              "4         1  \n",
              "...     ...  \n",
              "5629      0  \n",
              "5630      0  \n",
              "5631      0  \n",
              "5632      0  \n",
              "5633      0  \n",
              "\n",
              "[5634 rows x 21 columns]"
            ]
          },
          "metadata": {
            "tags": []
          },
          "execution_count": 4
        }
      ]
    },
    {
      "cell_type": "code",
      "metadata": {
        "id": "Pi081ZJ5hJO5"
      },
      "source": [
        "df_churn_train_copy = df_churn_train.copy()"
      ],
      "execution_count": 5,
      "outputs": []
    },
    {
      "cell_type": "code",
      "metadata": {
        "id": "wUslX6W7hbDj",
        "outputId": "4e6b21dd-085a-40d9-b6cd-e2c2fc82bc02",
        "colab": {
          "base_uri": "https://localhost:8080/",
          "height": 309
        }
      },
      "source": [
        "#Normalizar as colunas\n",
        "df_churn_train.columns = [col.lower() for col in df_churn_train.columns]\n",
        "df_churn_train.head()"
      ],
      "execution_count": 6,
      "outputs": [
        {
          "output_type": "execute_result",
          "data": {
            "text/html": [
              "<div>\n",
              "<style scoped>\n",
              "    .dataframe tbody tr th:only-of-type {\n",
              "        vertical-align: middle;\n",
              "    }\n",
              "\n",
              "    .dataframe tbody tr th {\n",
              "        vertical-align: top;\n",
              "    }\n",
              "\n",
              "    .dataframe thead th {\n",
              "        text-align: right;\n",
              "    }\n",
              "</style>\n",
              "<table border=\"1\" class=\"dataframe\">\n",
              "  <thead>\n",
              "    <tr style=\"text-align: right;\">\n",
              "      <th></th>\n",
              "      <th>id</th>\n",
              "      <th>gender</th>\n",
              "      <th>seniorcitizen</th>\n",
              "      <th>partner</th>\n",
              "      <th>dependents</th>\n",
              "      <th>tenure</th>\n",
              "      <th>phoneservice</th>\n",
              "      <th>multiplelines</th>\n",
              "      <th>internetservice</th>\n",
              "      <th>onlinesecurity</th>\n",
              "      <th>onlinebackup</th>\n",
              "      <th>deviceprotection</th>\n",
              "      <th>techsupport</th>\n",
              "      <th>streamingtv</th>\n",
              "      <th>streamingmovies</th>\n",
              "      <th>contract</th>\n",
              "      <th>paperlessbilling</th>\n",
              "      <th>paymentmethod</th>\n",
              "      <th>monthlycharges</th>\n",
              "      <th>totalcharges</th>\n",
              "      <th>churn</th>\n",
              "    </tr>\n",
              "  </thead>\n",
              "  <tbody>\n",
              "    <tr>\n",
              "      <th>0</th>\n",
              "      <td>4030</td>\n",
              "      <td>Female</td>\n",
              "      <td>0</td>\n",
              "      <td>No</td>\n",
              "      <td>No</td>\n",
              "      <td>56.0</td>\n",
              "      <td>No</td>\n",
              "      <td>No phone service</td>\n",
              "      <td>DSL</td>\n",
              "      <td>Yes</td>\n",
              "      <td>Yes</td>\n",
              "      <td>Yes</td>\n",
              "      <td>Yes</td>\n",
              "      <td>No</td>\n",
              "      <td>No</td>\n",
              "      <td>Two year</td>\n",
              "      <td>No</td>\n",
              "      <td>NaN</td>\n",
              "      <td>45.05</td>\n",
              "      <td>2560.1</td>\n",
              "      <td>0</td>\n",
              "    </tr>\n",
              "    <tr>\n",
              "      <th>1</th>\n",
              "      <td>6731</td>\n",
              "      <td>Male</td>\n",
              "      <td>0</td>\n",
              "      <td>Yes</td>\n",
              "      <td>Yes</td>\n",
              "      <td>NaN</td>\n",
              "      <td>Yes</td>\n",
              "      <td>No</td>\n",
              "      <td>No</td>\n",
              "      <td>No internet service</td>\n",
              "      <td>No internet service</td>\n",
              "      <td>No internet service</td>\n",
              "      <td>No internet service</td>\n",
              "      <td>No internet service</td>\n",
              "      <td>No internet service</td>\n",
              "      <td>One year</td>\n",
              "      <td>No</td>\n",
              "      <td>Mailed check</td>\n",
              "      <td>19.65</td>\n",
              "      <td>332.65</td>\n",
              "      <td>0</td>\n",
              "    </tr>\n",
              "    <tr>\n",
              "      <th>2</th>\n",
              "      <td>6479</td>\n",
              "      <td>Female</td>\n",
              "      <td>0</td>\n",
              "      <td>Yes</td>\n",
              "      <td>No</td>\n",
              "      <td>60.0</td>\n",
              "      <td>Yes</td>\n",
              "      <td>Yes</td>\n",
              "      <td>Fiber optic</td>\n",
              "      <td>No</td>\n",
              "      <td>Yes</td>\n",
              "      <td>Yes</td>\n",
              "      <td>Yes</td>\n",
              "      <td>Yes</td>\n",
              "      <td>Yes</td>\n",
              "      <td>Two year</td>\n",
              "      <td>Yes</td>\n",
              "      <td>Credit card (automatic)</td>\n",
              "      <td>110.80</td>\n",
              "      <td>6640.7</td>\n",
              "      <td>0</td>\n",
              "    </tr>\n",
              "    <tr>\n",
              "      <th>3</th>\n",
              "      <td>6861</td>\n",
              "      <td>Female</td>\n",
              "      <td>0</td>\n",
              "      <td>No</td>\n",
              "      <td>No</td>\n",
              "      <td>37.0</td>\n",
              "      <td>Yes</td>\n",
              "      <td>Yes</td>\n",
              "      <td>Fiber optic</td>\n",
              "      <td>No</td>\n",
              "      <td>Yes</td>\n",
              "      <td>Yes</td>\n",
              "      <td>No</td>\n",
              "      <td>Yes</td>\n",
              "      <td>Yes</td>\n",
              "      <td>Month-to-month</td>\n",
              "      <td>Yes</td>\n",
              "      <td>Bank transfer (automatic)</td>\n",
              "      <td>101.90</td>\n",
              "      <td>3545.35</td>\n",
              "      <td>1</td>\n",
              "    </tr>\n",
              "    <tr>\n",
              "      <th>4</th>\n",
              "      <td>3266</td>\n",
              "      <td>Male</td>\n",
              "      <td>0</td>\n",
              "      <td>Yes</td>\n",
              "      <td>Yes</td>\n",
              "      <td>29.0</td>\n",
              "      <td>Yes</td>\n",
              "      <td>No</td>\n",
              "      <td>Fiber optic</td>\n",
              "      <td>No</td>\n",
              "      <td>No</td>\n",
              "      <td>No</td>\n",
              "      <td>No</td>\n",
              "      <td>No</td>\n",
              "      <td>No</td>\n",
              "      <td>Month-to-month</td>\n",
              "      <td>Yes</td>\n",
              "      <td>Electronic check</td>\n",
              "      <td>70.75</td>\n",
              "      <td>1974.8</td>\n",
              "      <td>1</td>\n",
              "    </tr>\n",
              "  </tbody>\n",
              "</table>\n",
              "</div>"
            ],
            "text/plain": [
              "     id  gender  seniorcitizen partner dependents  tenure phoneservice  \\\n",
              "0  4030  Female              0      No         No    56.0           No   \n",
              "1  6731    Male              0     Yes        Yes     NaN          Yes   \n",
              "2  6479  Female              0     Yes         No    60.0          Yes   \n",
              "3  6861  Female              0      No         No    37.0          Yes   \n",
              "4  3266    Male              0     Yes        Yes    29.0          Yes   \n",
              "\n",
              "      multiplelines internetservice       onlinesecurity         onlinebackup  \\\n",
              "0  No phone service             DSL                  Yes                  Yes   \n",
              "1                No              No  No internet service  No internet service   \n",
              "2               Yes     Fiber optic                   No                  Yes   \n",
              "3               Yes     Fiber optic                   No                  Yes   \n",
              "4                No     Fiber optic                   No                   No   \n",
              "\n",
              "      deviceprotection          techsupport          streamingtv  \\\n",
              "0                  Yes                  Yes                   No   \n",
              "1  No internet service  No internet service  No internet service   \n",
              "2                  Yes                  Yes                  Yes   \n",
              "3                  Yes                   No                  Yes   \n",
              "4                   No                   No                   No   \n",
              "\n",
              "       streamingmovies        contract paperlessbilling  \\\n",
              "0                   No        Two year               No   \n",
              "1  No internet service        One year               No   \n",
              "2                  Yes        Two year              Yes   \n",
              "3                  Yes  Month-to-month              Yes   \n",
              "4                   No  Month-to-month              Yes   \n",
              "\n",
              "               paymentmethod  monthlycharges totalcharges  churn  \n",
              "0                        NaN           45.05       2560.1      0  \n",
              "1               Mailed check           19.65       332.65      0  \n",
              "2    Credit card (automatic)          110.80       6640.7      0  \n",
              "3  Bank transfer (automatic)          101.90      3545.35      1  \n",
              "4           Electronic check           70.75       1974.8      1  "
            ]
          },
          "metadata": {
            "tags": []
          },
          "execution_count": 6
        }
      ]
    },
    {
      "cell_type": "code",
      "metadata": {
        "id": "zwER-YlMhbIr",
        "outputId": "52405691-9326-4c49-90b8-d6bc6d176d25",
        "colab": {
          "base_uri": "https://localhost:8080/"
        }
      },
      "source": [
        "df_churn_train.dtypes\n"
      ],
      "execution_count": 7,
      "outputs": [
        {
          "output_type": "execute_result",
          "data": {
            "text/plain": [
              "id                    int64\n",
              "gender               object\n",
              "seniorcitizen         int64\n",
              "partner              object\n",
              "dependents           object\n",
              "tenure              float64\n",
              "phoneservice         object\n",
              "multiplelines        object\n",
              "internetservice      object\n",
              "onlinesecurity       object\n",
              "onlinebackup         object\n",
              "deviceprotection     object\n",
              "techsupport          object\n",
              "streamingtv          object\n",
              "streamingmovies      object\n",
              "contract             object\n",
              "paperlessbilling     object\n",
              "paymentmethod        object\n",
              "monthlycharges      float64\n",
              "totalcharges         object\n",
              "churn                 int64\n",
              "dtype: object"
            ]
          },
          "metadata": {
            "tags": []
          },
          "execution_count": 7
        }
      ]
    },
    {
      "cell_type": "code",
      "metadata": {
        "id": "lRA2RcVWTWlc",
        "outputId": "6fedf9a0-dc4d-4c32-9fa9-d77a72625be4",
        "colab": {
          "base_uri": "https://localhost:8080/"
        }
      },
      "source": [
        "df_churn_train.isna().sum()"
      ],
      "execution_count": 8,
      "outputs": [
        {
          "output_type": "execute_result",
          "data": {
            "text/plain": [
              "id                    0\n",
              "gender                0\n",
              "seniorcitizen         0\n",
              "partner               0\n",
              "dependents          218\n",
              "tenure              461\n",
              "phoneservice          0\n",
              "multiplelines         0\n",
              "internetservice       0\n",
              "onlinesecurity        0\n",
              "onlinebackup          0\n",
              "deviceprotection      0\n",
              "techsupport           0\n",
              "streamingtv           0\n",
              "streamingmovies       0\n",
              "contract              0\n",
              "paperlessbilling      0\n",
              "paymentmethod        99\n",
              "monthlycharges        0\n",
              "totalcharges          0\n",
              "churn                 0\n",
              "dtype: int64"
            ]
          },
          "metadata": {
            "tags": []
          },
          "execution_count": 8
        }
      ]
    },
    {
      "cell_type": "code",
      "metadata": {
        "id": "eGifmuL3VCeS",
        "outputId": "9b463522-1984-4348-c0fa-bd7932fd3637",
        "colab": {
          "base_uri": "https://localhost:8080/",
          "height": 309
        }
      },
      "source": [
        "#dropando 'id\n",
        "df_churn_train.drop(columns=['id'], inplace=True)\n",
        "df_churn_train.head()"
      ],
      "execution_count": 9,
      "outputs": [
        {
          "output_type": "execute_result",
          "data": {
            "text/html": [
              "<div>\n",
              "<style scoped>\n",
              "    .dataframe tbody tr th:only-of-type {\n",
              "        vertical-align: middle;\n",
              "    }\n",
              "\n",
              "    .dataframe tbody tr th {\n",
              "        vertical-align: top;\n",
              "    }\n",
              "\n",
              "    .dataframe thead th {\n",
              "        text-align: right;\n",
              "    }\n",
              "</style>\n",
              "<table border=\"1\" class=\"dataframe\">\n",
              "  <thead>\n",
              "    <tr style=\"text-align: right;\">\n",
              "      <th></th>\n",
              "      <th>gender</th>\n",
              "      <th>seniorcitizen</th>\n",
              "      <th>partner</th>\n",
              "      <th>dependents</th>\n",
              "      <th>tenure</th>\n",
              "      <th>phoneservice</th>\n",
              "      <th>multiplelines</th>\n",
              "      <th>internetservice</th>\n",
              "      <th>onlinesecurity</th>\n",
              "      <th>onlinebackup</th>\n",
              "      <th>deviceprotection</th>\n",
              "      <th>techsupport</th>\n",
              "      <th>streamingtv</th>\n",
              "      <th>streamingmovies</th>\n",
              "      <th>contract</th>\n",
              "      <th>paperlessbilling</th>\n",
              "      <th>paymentmethod</th>\n",
              "      <th>monthlycharges</th>\n",
              "      <th>totalcharges</th>\n",
              "      <th>churn</th>\n",
              "    </tr>\n",
              "  </thead>\n",
              "  <tbody>\n",
              "    <tr>\n",
              "      <th>0</th>\n",
              "      <td>Female</td>\n",
              "      <td>0</td>\n",
              "      <td>No</td>\n",
              "      <td>No</td>\n",
              "      <td>56.0</td>\n",
              "      <td>No</td>\n",
              "      <td>No phone service</td>\n",
              "      <td>DSL</td>\n",
              "      <td>Yes</td>\n",
              "      <td>Yes</td>\n",
              "      <td>Yes</td>\n",
              "      <td>Yes</td>\n",
              "      <td>No</td>\n",
              "      <td>No</td>\n",
              "      <td>Two year</td>\n",
              "      <td>No</td>\n",
              "      <td>NaN</td>\n",
              "      <td>45.05</td>\n",
              "      <td>2560.1</td>\n",
              "      <td>0</td>\n",
              "    </tr>\n",
              "    <tr>\n",
              "      <th>1</th>\n",
              "      <td>Male</td>\n",
              "      <td>0</td>\n",
              "      <td>Yes</td>\n",
              "      <td>Yes</td>\n",
              "      <td>NaN</td>\n",
              "      <td>Yes</td>\n",
              "      <td>No</td>\n",
              "      <td>No</td>\n",
              "      <td>No internet service</td>\n",
              "      <td>No internet service</td>\n",
              "      <td>No internet service</td>\n",
              "      <td>No internet service</td>\n",
              "      <td>No internet service</td>\n",
              "      <td>No internet service</td>\n",
              "      <td>One year</td>\n",
              "      <td>No</td>\n",
              "      <td>Mailed check</td>\n",
              "      <td>19.65</td>\n",
              "      <td>332.65</td>\n",
              "      <td>0</td>\n",
              "    </tr>\n",
              "    <tr>\n",
              "      <th>2</th>\n",
              "      <td>Female</td>\n",
              "      <td>0</td>\n",
              "      <td>Yes</td>\n",
              "      <td>No</td>\n",
              "      <td>60.0</td>\n",
              "      <td>Yes</td>\n",
              "      <td>Yes</td>\n",
              "      <td>Fiber optic</td>\n",
              "      <td>No</td>\n",
              "      <td>Yes</td>\n",
              "      <td>Yes</td>\n",
              "      <td>Yes</td>\n",
              "      <td>Yes</td>\n",
              "      <td>Yes</td>\n",
              "      <td>Two year</td>\n",
              "      <td>Yes</td>\n",
              "      <td>Credit card (automatic)</td>\n",
              "      <td>110.80</td>\n",
              "      <td>6640.7</td>\n",
              "      <td>0</td>\n",
              "    </tr>\n",
              "    <tr>\n",
              "      <th>3</th>\n",
              "      <td>Female</td>\n",
              "      <td>0</td>\n",
              "      <td>No</td>\n",
              "      <td>No</td>\n",
              "      <td>37.0</td>\n",
              "      <td>Yes</td>\n",
              "      <td>Yes</td>\n",
              "      <td>Fiber optic</td>\n",
              "      <td>No</td>\n",
              "      <td>Yes</td>\n",
              "      <td>Yes</td>\n",
              "      <td>No</td>\n",
              "      <td>Yes</td>\n",
              "      <td>Yes</td>\n",
              "      <td>Month-to-month</td>\n",
              "      <td>Yes</td>\n",
              "      <td>Bank transfer (automatic)</td>\n",
              "      <td>101.90</td>\n",
              "      <td>3545.35</td>\n",
              "      <td>1</td>\n",
              "    </tr>\n",
              "    <tr>\n",
              "      <th>4</th>\n",
              "      <td>Male</td>\n",
              "      <td>0</td>\n",
              "      <td>Yes</td>\n",
              "      <td>Yes</td>\n",
              "      <td>29.0</td>\n",
              "      <td>Yes</td>\n",
              "      <td>No</td>\n",
              "      <td>Fiber optic</td>\n",
              "      <td>No</td>\n",
              "      <td>No</td>\n",
              "      <td>No</td>\n",
              "      <td>No</td>\n",
              "      <td>No</td>\n",
              "      <td>No</td>\n",
              "      <td>Month-to-month</td>\n",
              "      <td>Yes</td>\n",
              "      <td>Electronic check</td>\n",
              "      <td>70.75</td>\n",
              "      <td>1974.8</td>\n",
              "      <td>1</td>\n",
              "    </tr>\n",
              "  </tbody>\n",
              "</table>\n",
              "</div>"
            ],
            "text/plain": [
              "   gender  seniorcitizen partner dependents  tenure phoneservice  \\\n",
              "0  Female              0      No         No    56.0           No   \n",
              "1    Male              0     Yes        Yes     NaN          Yes   \n",
              "2  Female              0     Yes         No    60.0          Yes   \n",
              "3  Female              0      No         No    37.0          Yes   \n",
              "4    Male              0     Yes        Yes    29.0          Yes   \n",
              "\n",
              "      multiplelines internetservice       onlinesecurity         onlinebackup  \\\n",
              "0  No phone service             DSL                  Yes                  Yes   \n",
              "1                No              No  No internet service  No internet service   \n",
              "2               Yes     Fiber optic                   No                  Yes   \n",
              "3               Yes     Fiber optic                   No                  Yes   \n",
              "4                No     Fiber optic                   No                   No   \n",
              "\n",
              "      deviceprotection          techsupport          streamingtv  \\\n",
              "0                  Yes                  Yes                   No   \n",
              "1  No internet service  No internet service  No internet service   \n",
              "2                  Yes                  Yes                  Yes   \n",
              "3                  Yes                   No                  Yes   \n",
              "4                   No                   No                   No   \n",
              "\n",
              "       streamingmovies        contract paperlessbilling  \\\n",
              "0                   No        Two year               No   \n",
              "1  No internet service        One year               No   \n",
              "2                  Yes        Two year              Yes   \n",
              "3                  Yes  Month-to-month              Yes   \n",
              "4                   No  Month-to-month              Yes   \n",
              "\n",
              "               paymentmethod  monthlycharges totalcharges  churn  \n",
              "0                        NaN           45.05       2560.1      0  \n",
              "1               Mailed check           19.65       332.65      0  \n",
              "2    Credit card (automatic)          110.80       6640.7      0  \n",
              "3  Bank transfer (automatic)          101.90      3545.35      1  \n",
              "4           Electronic check           70.75       1974.8      1  "
            ]
          },
          "metadata": {
            "tags": []
          },
          "execution_count": 9
        }
      ]
    },
    {
      "cell_type": "code",
      "metadata": {
        "id": "poYPMB4ITiY2",
        "outputId": "059440cc-2b00-4f79-95fa-38fcfd174565",
        "colab": {
          "base_uri": "https://localhost:8080/"
        }
      },
      "source": [
        "coluna_treino = df_churn_train.columns\n",
        "coluna_treino"
      ],
      "execution_count": 10,
      "outputs": [
        {
          "output_type": "execute_result",
          "data": {
            "text/plain": [
              "Index(['gender', 'seniorcitizen', 'partner', 'dependents', 'tenure',\n",
              "       'phoneservice', 'multiplelines', 'internetservice', 'onlinesecurity',\n",
              "       'onlinebackup', 'deviceprotection', 'techsupport', 'streamingtv',\n",
              "       'streamingmovies', 'contract', 'paperlessbilling', 'paymentmethod',\n",
              "       'monthlycharges', 'totalcharges', 'churn'],\n",
              "      dtype='object')"
            ]
          },
          "metadata": {
            "tags": []
          },
          "execution_count": 10
        }
      ]
    },
    {
      "cell_type": "code",
      "metadata": {
        "id": "aHlVe1-hVyYm",
        "outputId": "d7564208-f51f-4b7a-c673-6702c11d9518",
        "colab": {
          "base_uri": "https://localhost:8080/"
        }
      },
      "source": [
        "df_churn_train.shape"
      ],
      "execution_count": 11,
      "outputs": [
        {
          "output_type": "execute_result",
          "data": {
            "text/plain": [
              "(5634, 20)"
            ]
          },
          "metadata": {
            "tags": []
          },
          "execution_count": 11
        }
      ]
    },
    {
      "cell_type": "code",
      "metadata": {
        "id": "kX_50ndBT7A8",
        "outputId": "a798e3d6-39b5-4007-b672-7b9d90b27b38",
        "colab": {
          "base_uri": "https://localhost:8080/"
        }
      },
      "source": [
        "#vendo e contando os elementos de cada coluna\n",
        "for i in coluna_treino:\n",
        "    print(df_churn_train[i].value_counts())"
      ],
      "execution_count": 12,
      "outputs": [
        {
          "output_type": "stream",
          "text": [
            "Male      2849\n",
            "Female    2785\n",
            "Name: gender, dtype: int64\n",
            "0    4740\n",
            "1     894\n",
            "Name: seniorcitizen, dtype: int64\n",
            "No     2902\n",
            "Yes    2732\n",
            "Name: partner, dtype: int64\n",
            "No     3793\n",
            "Yes    1623\n",
            "Name: dependents, dtype: int64\n",
            "1.0     438\n",
            "72.0    259\n",
            "2.0     166\n",
            "3.0     149\n",
            "4.0     132\n",
            "71.0    129\n",
            "7.0     100\n",
            "5.0      99\n",
            "70.0     92\n",
            "8.0      90\n",
            "6.0      87\n",
            "10.0     85\n",
            "12.0     82\n",
            "9.0      81\n",
            "13.0     80\n",
            "68.0     78\n",
            "11.0     75\n",
            "17.0     72\n",
            "67.0     71\n",
            "22.0     71\n",
            "15.0     71\n",
            "18.0     70\n",
            "69.0     70\n",
            "24.0     69\n",
            "23.0     65\n",
            "56.0     64\n",
            "35.0     63\n",
            "25.0     63\n",
            "52.0     62\n",
            "26.0     61\n",
            "14.0     60\n",
            "66.0     56\n",
            "62.0     56\n",
            "16.0     56\n",
            "64.0     56\n",
            "30.0     56\n",
            "41.0     55\n",
            "63.0     54\n",
            "27.0     54\n",
            "47.0     54\n",
            "19.0     54\n",
            "65.0     54\n",
            "29.0     53\n",
            "46.0     52\n",
            "54.0     52\n",
            "51.0     51\n",
            "60.0     51\n",
            "53.0     51\n",
            "43.0     51\n",
            "49.0     50\n",
            "50.0     50\n",
            "32.0     49\n",
            "20.0     48\n",
            "55.0     48\n",
            "58.0     48\n",
            "21.0     48\n",
            "38.0     47\n",
            "45.0     47\n",
            "40.0     46\n",
            "42.0     46\n",
            "34.0     46\n",
            "37.0     46\n",
            "28.0     45\n",
            "31.0     45\n",
            "61.0     44\n",
            "48.0     44\n",
            "59.0     43\n",
            "57.0     43\n",
            "33.0     43\n",
            "39.0     40\n",
            "36.0     40\n",
            "44.0     39\n",
            "0.0       8\n",
            "Name: tenure, dtype: int64\n",
            "Yes    5082\n",
            "No      552\n",
            "Name: phoneservice, dtype: int64\n",
            "No                  2692\n",
            "Yes                 2390\n",
            "No phone service     552\n",
            "Name: multiplelines, dtype: int64\n",
            "Fiber optic    2451\n",
            "DSL            1959\n",
            "No             1224\n",
            "Name: internetservice, dtype: int64\n",
            "No                     2763\n",
            "Yes                    1647\n",
            "No internet service    1224\n",
            "Name: onlinesecurity, dtype: int64\n",
            "No                     2488\n",
            "Yes                    1922\n",
            "No internet service    1224\n",
            "Name: onlinebackup, dtype: int64\n",
            "No                     2480\n",
            "Yes                    1930\n",
            "No internet service    1224\n",
            "Name: deviceprotection, dtype: int64\n",
            "No                     2793\n",
            "Yes                    1617\n",
            "No internet service    1224\n",
            "Name: techsupport, dtype: int64\n",
            "No                     2240\n",
            "Yes                    2170\n",
            "No internet service    1224\n",
            "Name: streamingtv, dtype: int64\n",
            "No                     2218\n",
            "Yes                    2192\n",
            "No internet service    1224\n",
            "Name: streamingmovies, dtype: int64\n",
            "Month-to-month    3084\n",
            "Two year          1358\n",
            "One year          1192\n",
            "Name: contract, dtype: int64\n",
            "Yes    3312\n",
            "No     2322\n",
            "Name: paperlessbilling, dtype: int64\n",
            "Electronic check             1887\n",
            "Mailed check                 1272\n",
            "Bank transfer (automatic)    1212\n",
            "Credit card (automatic)      1164\n",
            "Name: paymentmethod, dtype: int64\n",
            "20.05     48\n",
            "19.85     38\n",
            "19.70     36\n",
            "19.65     36\n",
            "19.80     34\n",
            "          ..\n",
            "118.75     1\n",
            "63.75      1\n",
            "113.30     1\n",
            "86.95      1\n",
            "72.15      1\n",
            "Name: monthlycharges, Length: 1505, dtype: int64\n",
            "20.2       8\n",
            "           8\n",
            "19.55      7\n",
            "20.05      6\n",
            "19.75      6\n",
            "          ..\n",
            "755.4      1\n",
            "608.5      1\n",
            "633.85     1\n",
            "923.85     1\n",
            "5347.95    1\n",
            "Name: totalcharges, Length: 5286, dtype: int64\n",
            "0    4139\n",
            "1    1495\n",
            "Name: churn, dtype: int64\n"
          ],
          "name": "stdout"
        }
      ]
    },
    {
      "cell_type": "markdown",
      "metadata": {
        "id": "J4s8NBVb1CCC"
      },
      "source": [
        "###tratando o paymentmethod"
      ]
    },
    {
      "cell_type": "code",
      "metadata": {
        "id": "-sk1CadPhbNx",
        "outputId": "9fe374d4-6f77-4aad-827e-4a3d5a125d23",
        "colab": {
          "base_uri": "https://localhost:8080/"
        }
      },
      "source": [
        "#contar a variavel \n",
        "df_churn_train['paymentmethod'].value_counts()"
      ],
      "execution_count": 13,
      "outputs": [
        {
          "output_type": "execute_result",
          "data": {
            "text/plain": [
              "Electronic check             1887\n",
              "Mailed check                 1272\n",
              "Bank transfer (automatic)    1212\n",
              "Credit card (automatic)      1164\n",
              "Name: paymentmethod, dtype: int64"
            ]
          },
          "metadata": {
            "tags": []
          },
          "execution_count": 13
        }
      ]
    },
    {
      "cell_type": "code",
      "metadata": {
        "id": "ccMgG_rm0KrF"
      },
      "source": [
        "#preechendo os nan, criterio moda\n",
        "df_churn_train['paymentmethod'].fillna('Electronic check', inplace=True)"
      ],
      "execution_count": 14,
      "outputs": []
    },
    {
      "cell_type": "code",
      "metadata": {
        "id": "FGcA2y7Z0ZNk",
        "outputId": "787728a8-ec9f-4ea7-d3a3-cedd1add1202",
        "colab": {
          "base_uri": "https://localhost:8080/"
        }
      },
      "source": [
        "df_churn_train['paymentmethod'].value_counts()"
      ],
      "execution_count": 15,
      "outputs": [
        {
          "output_type": "execute_result",
          "data": {
            "text/plain": [
              "Electronic check             1986\n",
              "Mailed check                 1272\n",
              "Bank transfer (automatic)    1212\n",
              "Credit card (automatic)      1164\n",
              "Name: paymentmethod, dtype: int64"
            ]
          },
          "metadata": {
            "tags": []
          },
          "execution_count": 15
        }
      ]
    },
    {
      "cell_type": "code",
      "metadata": {
        "id": "nuL7-UR30ZSC",
        "outputId": "0b1f0292-52dc-4c09-a2de-9e2664c51f63",
        "colab": {
          "base_uri": "https://localhost:8080/"
        }
      },
      "source": [
        "df_churn_train.shape"
      ],
      "execution_count": 16,
      "outputs": [
        {
          "output_type": "execute_result",
          "data": {
            "text/plain": [
              "(5634, 20)"
            ]
          },
          "metadata": {
            "tags": []
          },
          "execution_count": 16
        }
      ]
    },
    {
      "cell_type": "code",
      "metadata": {
        "id": "VCP_2pGLyrFB"
      },
      "source": [
        "#df_pay.fillna('Electronic check', inplace=True)"
      ],
      "execution_count": null,
      "outputs": []
    },
    {
      "cell_type": "code",
      "metadata": {
        "id": "U0UJ0E6gf3VM"
      },
      "source": [
        "'''\n",
        "for h in l_index_pay:\n",
        "    df_pay.drop(index = h, inplace = True)'''\n",
        " \n",
        "    \n"
      ],
      "execution_count": null,
      "outputs": []
    },
    {
      "cell_type": "code",
      "metadata": {
        "id": "TNxgf_kGdp7R"
      },
      "source": [
        "#df_churn_train[] = df_churn_train['totalcharges'].str.replace(',', '.')"
      ],
      "execution_count": null,
      "outputs": []
    },
    {
      "cell_type": "markdown",
      "metadata": {
        "id": "P3aKg1Sh1Lag"
      },
      "source": [
        "###tratando o dependents\n"
      ]
    },
    {
      "cell_type": "code",
      "metadata": {
        "id": "HxeHs5KL3HSs",
        "outputId": "e6be507d-31a4-4b86-b0c7-75ba64bc6564",
        "colab": {
          "base_uri": "https://localhost:8080/"
        }
      },
      "source": [
        "df_churn_train['dependents'].isna().sum()"
      ],
      "execution_count": 17,
      "outputs": [
        {
          "output_type": "execute_result",
          "data": {
            "text/plain": [
              "218"
            ]
          },
          "metadata": {
            "tags": []
          },
          "execution_count": 17
        }
      ]
    },
    {
      "cell_type": "code",
      "metadata": {
        "id": "_lYbU0_0dp99",
        "outputId": "0361f218-e78b-40c0-c315-4f5247933496",
        "colab": {
          "base_uri": "https://localhost:8080/"
        }
      },
      "source": [
        "#contar a variavel \n",
        "df_churn_train['dependents'].value_counts()"
      ],
      "execution_count": 18,
      "outputs": [
        {
          "output_type": "execute_result",
          "data": {
            "text/plain": [
              "No     3793\n",
              "Yes    1623\n",
              "Name: dependents, dtype: int64"
            ]
          },
          "metadata": {
            "tags": []
          },
          "execution_count": 18
        }
      ]
    },
    {
      "cell_type": "code",
      "metadata": {
        "id": "L8uLGoww2OwY"
      },
      "source": [
        "#criterio = moda\n",
        "df_churn_train['dependents'].fillna('No', inplace=True)"
      ],
      "execution_count": 19,
      "outputs": []
    },
    {
      "cell_type": "code",
      "metadata": {
        "id": "coKoSH8Y2O0e",
        "outputId": "9d2c31a3-9879-40de-97ec-59b6ab8fe376",
        "colab": {
          "base_uri": "https://localhost:8080/"
        }
      },
      "source": [
        "df_churn_train['dependents'].isna().sum()"
      ],
      "execution_count": 20,
      "outputs": [
        {
          "output_type": "execute_result",
          "data": {
            "text/plain": [
              "0"
            ]
          },
          "metadata": {
            "tags": []
          },
          "execution_count": 20
        }
      ]
    },
    {
      "cell_type": "code",
      "metadata": {
        "id": "-YzenqMtdqAq",
        "outputId": "546e2e16-1f63-496a-fc6d-e019b986247a",
        "colab": {
          "base_uri": "https://localhost:8080/"
        }
      },
      "source": [
        "df_churn_train['dependents'].value_counts()"
      ],
      "execution_count": 21,
      "outputs": [
        {
          "output_type": "execute_result",
          "data": {
            "text/plain": [
              "No     4011\n",
              "Yes    1623\n",
              "Name: dependents, dtype: int64"
            ]
          },
          "metadata": {
            "tags": []
          },
          "execution_count": 21
        }
      ]
    },
    {
      "cell_type": "code",
      "metadata": {
        "id": "qsWUzlnT4D5j"
      },
      "source": [
        ""
      ],
      "execution_count": null,
      "outputs": []
    },
    {
      "cell_type": "code",
      "metadata": {
        "id": "thopBMWo3tSX"
      },
      "source": [
        ""
      ],
      "execution_count": null,
      "outputs": []
    },
    {
      "cell_type": "markdown",
      "metadata": {
        "id": "cyQG7P6miE_e"
      },
      "source": [
        "###análise tenure"
      ]
    },
    {
      "cell_type": "code",
      "metadata": {
        "id": "fkH0VxMeh7L1",
        "outputId": "a68e164d-a2b7-41df-ae51-aee91822ab24",
        "colab": {
          "base_uri": "https://localhost:8080/",
          "height": 500
        }
      },
      "source": [
        "#tenure não tem outliers \n",
        "df_churn_train[['tenure']].plot(kind = 'box', showmeans = True, meanline = True, grid = True, figsize = (12,8), vert = False, ylabel = 'Features')"
      ],
      "execution_count": 22,
      "outputs": [
        {
          "output_type": "execute_result",
          "data": {
            "text/plain": [
              "<matplotlib.axes._subplots.AxesSubplot at 0x7f300d56dcc0>"
            ]
          },
          "metadata": {
            "tags": []
          },
          "execution_count": 22
        },
        {
          "output_type": "display_data",
          "data": {
            "image/png": "[encoded data removed]",
            "text/plain": [
              "<Figure size 864x576 with 1 Axes>"
            ]
          },
          "metadata": {
            "tags": [],
            "needs_background": "light"
          }
        }
      ]
    },
    {
      "cell_type": "code",
      "metadata": {
        "id": "tgfA1KROh7Or",
        "outputId": "a71f047b-bd3c-4d65-f50e-26cba8ed1f13",
        "colab": {
          "base_uri": "https://localhost:8080/"
        }
      },
      "source": [
        "#isna para serie e df\n",
        "#no df é mais detalhada\n",
        "df_churn_train[['tenure']].isna().sum()"
      ],
      "execution_count": 23,
      "outputs": [
        {
          "output_type": "execute_result",
          "data": {
            "text/plain": [
              "tenure    461\n",
              "dtype: int64"
            ]
          },
          "metadata": {
            "tags": []
          },
          "execution_count": 23
        }
      ]
    },
    {
      "cell_type": "code",
      "metadata": {
        "id": "go6xiS7p4VQB",
        "outputId": "2910ea21-3d6f-4ab3-f817-44fd5a19f6b5",
        "colab": {
          "base_uri": "https://localhost:8080/"
        }
      },
      "source": [
        "df_churn_train['tenure'].value_counts()"
      ],
      "execution_count": 25,
      "outputs": [
        {
          "output_type": "execute_result",
          "data": {
            "text/plain": [
              "1.0     438\n",
              "72.0    259\n",
              "2.0     166\n",
              "3.0     149\n",
              "4.0     132\n",
              "71.0    129\n",
              "7.0     100\n",
              "5.0      99\n",
              "70.0     92\n",
              "8.0      90\n",
              "6.0      87\n",
              "10.0     85\n",
              "12.0     82\n",
              "9.0      81\n",
              "13.0     80\n",
              "68.0     78\n",
              "11.0     75\n",
              "17.0     72\n",
              "67.0     71\n",
              "22.0     71\n",
              "15.0     71\n",
              "18.0     70\n",
              "69.0     70\n",
              "24.0     69\n",
              "23.0     65\n",
              "56.0     64\n",
              "35.0     63\n",
              "25.0     63\n",
              "52.0     62\n",
              "26.0     61\n",
              "14.0     60\n",
              "66.0     56\n",
              "62.0     56\n",
              "16.0     56\n",
              "64.0     56\n",
              "30.0     56\n",
              "41.0     55\n",
              "63.0     54\n",
              "27.0     54\n",
              "47.0     54\n",
              "19.0     54\n",
              "65.0     54\n",
              "29.0     53\n",
              "46.0     52\n",
              "54.0     52\n",
              "51.0     51\n",
              "60.0     51\n",
              "53.0     51\n",
              "43.0     51\n",
              "49.0     50\n",
              "50.0     50\n",
              "32.0     49\n",
              "20.0     48\n",
              "55.0     48\n",
              "58.0     48\n",
              "21.0     48\n",
              "38.0     47\n",
              "45.0     47\n",
              "40.0     46\n",
              "42.0     46\n",
              "34.0     46\n",
              "37.0     46\n",
              "28.0     45\n",
              "31.0     45\n",
              "61.0     44\n",
              "48.0     44\n",
              "59.0     43\n",
              "57.0     43\n",
              "33.0     43\n",
              "39.0     40\n",
              "36.0     40\n",
              "44.0     39\n",
              "0.0       8\n",
              "Name: tenure, dtype: int64"
            ]
          },
          "metadata": {
            "tags": []
          },
          "execution_count": 25
        }
      ]
    },
    {
      "cell_type": "code",
      "metadata": {
        "id": "36SLSt6WLovt",
        "outputId": "bb2f9324-99d3-47be-e161-dbe93b8f1370",
        "colab": {
          "base_uri": "https://localhost:8080/",
          "height": 297
        }
      },
      "source": [
        "df_churn_train[['tenure']].describe()"
      ],
      "execution_count": 26,
      "outputs": [
        {
          "output_type": "execute_result",
          "data": {
            "text/html": [
              "<div>\n",
              "<style scoped>\n",
              "    .dataframe tbody tr th:only-of-type {\n",
              "        vertical-align: middle;\n",
              "    }\n",
              "\n",
              "    .dataframe tbody tr th {\n",
              "        vertical-align: top;\n",
              "    }\n",
              "\n",
              "    .dataframe thead th {\n",
              "        text-align: right;\n",
              "    }\n",
              "</style>\n",
              "<table border=\"1\" class=\"dataframe\">\n",
              "  <thead>\n",
              "    <tr style=\"text-align: right;\">\n",
              "      <th></th>\n",
              "      <th>tenure</th>\n",
              "    </tr>\n",
              "  </thead>\n",
              "  <tbody>\n",
              "    <tr>\n",
              "      <th>count</th>\n",
              "      <td>5173.000000</td>\n",
              "    </tr>\n",
              "    <tr>\n",
              "      <th>mean</th>\n",
              "      <td>32.332882</td>\n",
              "    </tr>\n",
              "    <tr>\n",
              "      <th>std</th>\n",
              "      <td>24.463607</td>\n",
              "    </tr>\n",
              "    <tr>\n",
              "      <th>min</th>\n",
              "      <td>0.000000</td>\n",
              "    </tr>\n",
              "    <tr>\n",
              "      <th>25%</th>\n",
              "      <td>9.000000</td>\n",
              "    </tr>\n",
              "    <tr>\n",
              "      <th>50%</th>\n",
              "      <td>29.000000</td>\n",
              "    </tr>\n",
              "    <tr>\n",
              "      <th>75%</th>\n",
              "      <td>55.000000</td>\n",
              "    </tr>\n",
              "    <tr>\n",
              "      <th>max</th>\n",
              "      <td>72.000000</td>\n",
              "    </tr>\n",
              "  </tbody>\n",
              "</table>\n",
              "</div>"
            ],
            "text/plain": [
              "            tenure\n",
              "count  5173.000000\n",
              "mean     32.332882\n",
              "std      24.463607\n",
              "min       0.000000\n",
              "25%       9.000000\n",
              "50%      29.000000\n",
              "75%      55.000000\n",
              "max      72.000000"
            ]
          },
          "metadata": {
            "tags": []
          },
          "execution_count": 26
        }
      ]
    },
    {
      "cell_type": "code",
      "metadata": {
        "id": "EWL92xZKLw4u",
        "outputId": "4029e45a-2828-4f4c-ab1b-f618adc3e72b",
        "colab": {
          "base_uri": "https://localhost:8080/"
        }
      },
      "source": [
        "df_churn_train['tenure'].mean(), df_churn_train['tenure'].median(), df_churn_train['tenure'].mode()"
      ],
      "execution_count": 27,
      "outputs": [
        {
          "output_type": "execute_result",
          "data": {
            "text/plain": [
              "(32.332882273342356, 29.0, 0    1.0\n",
              " dtype: float64)"
            ]
          },
          "metadata": {
            "tags": []
          },
          "execution_count": 27
        }
      ]
    },
    {
      "cell_type": "code",
      "metadata": {
        "id": "fbkOqmMUh7Rc",
        "outputId": "b5ba2b43-65d5-4ce3-b609-d02e36529c96",
        "colab": {
          "base_uri": "https://localhost:8080/"
        }
      },
      "source": [
        "#29(53); 9 (81); 55(48), substutir por 27\n",
        "#mp_q = (9*81+29*53+55*48)/(53+81+48)\n",
        "#mp_q"
      ],
      "execution_count": null,
      "outputs": [
        {
          "output_type": "execute_result",
          "data": {
            "text/plain": [
              "26.956043956043956"
            ]
          },
          "metadata": {
            "tags": []
          },
          "execution_count": 15
        }
      ]
    },
    {
      "cell_type": "code",
      "metadata": {
        "id": "EqfunJq_h7WY",
        "outputId": "450a7cbb-18bf-4214-d675-696da4b81f5e",
        "colab": {
          "base_uri": "https://localhost:8080/"
        }
      },
      "source": [
        "df_churn_train[df_churn_train['tenure']==55].count()"
      ],
      "execution_count": 28,
      "outputs": [
        {
          "output_type": "execute_result",
          "data": {
            "text/plain": [
              "gender              48\n",
              "seniorcitizen       48\n",
              "partner             48\n",
              "dependents          48\n",
              "tenure              48\n",
              "phoneservice        48\n",
              "multiplelines       48\n",
              "internetservice     48\n",
              "onlinesecurity      48\n",
              "onlinebackup        48\n",
              "deviceprotection    48\n",
              "techsupport         48\n",
              "streamingtv         48\n",
              "streamingmovies     48\n",
              "contract            48\n",
              "paperlessbilling    48\n",
              "paymentmethod       48\n",
              "monthlycharges      48\n",
              "totalcharges        48\n",
              "churn               48\n",
              "dtype: int64"
            ]
          },
          "metadata": {
            "tags": []
          },
          "execution_count": 28
        }
      ]
    },
    {
      "cell_type": "code",
      "metadata": {
        "id": "0UvvkIaVhbMp"
      },
      "source": [
        "#substituição pela moda = 1.0\n",
        "df_churn_train['tenure'].fillna(1.0, inplace = True)"
      ],
      "execution_count": 29,
      "outputs": []
    },
    {
      "cell_type": "code",
      "metadata": {
        "id": "tIAOm474inTk",
        "outputId": "29043614-4397-4dae-f111-b38dd850d28c",
        "colab": {
          "base_uri": "https://localhost:8080/",
          "height": 69
        }
      },
      "source": [
        "df_churn_train[df_churn_train['tenure'].isna()]"
      ],
      "execution_count": 30,
      "outputs": [
        {
          "output_type": "execute_result",
          "data": {
            "text/html": [
              "<div>\n",
              "<style scoped>\n",
              "    .dataframe tbody tr th:only-of-type {\n",
              "        vertical-align: middle;\n",
              "    }\n",
              "\n",
              "    .dataframe tbody tr th {\n",
              "        vertical-align: top;\n",
              "    }\n",
              "\n",
              "    .dataframe thead th {\n",
              "        text-align: right;\n",
              "    }\n",
              "</style>\n",
              "<table border=\"1\" class=\"dataframe\">\n",
              "  <thead>\n",
              "    <tr style=\"text-align: right;\">\n",
              "      <th></th>\n",
              "      <th>gender</th>\n",
              "      <th>seniorcitizen</th>\n",
              "      <th>partner</th>\n",
              "      <th>dependents</th>\n",
              "      <th>tenure</th>\n",
              "      <th>phoneservice</th>\n",
              "      <th>multiplelines</th>\n",
              "      <th>internetservice</th>\n",
              "      <th>onlinesecurity</th>\n",
              "      <th>onlinebackup</th>\n",
              "      <th>deviceprotection</th>\n",
              "      <th>techsupport</th>\n",
              "      <th>streamingtv</th>\n",
              "      <th>streamingmovies</th>\n",
              "      <th>contract</th>\n",
              "      <th>paperlessbilling</th>\n",
              "      <th>paymentmethod</th>\n",
              "      <th>monthlycharges</th>\n",
              "      <th>totalcharges</th>\n",
              "      <th>churn</th>\n",
              "    </tr>\n",
              "  </thead>\n",
              "  <tbody>\n",
              "  </tbody>\n",
              "</table>\n",
              "</div>"
            ],
            "text/plain": [
              "Empty DataFrame\n",
              "Columns: [gender, seniorcitizen, partner, dependents, tenure, phoneservice, multiplelines, internetservice, onlinesecurity, onlinebackup, deviceprotection, techsupport, streamingtv, streamingmovies, contract, paperlessbilling, paymentmethod, monthlycharges, totalcharges, churn]\n",
              "Index: []"
            ]
          },
          "metadata": {
            "tags": []
          },
          "execution_count": 30
        }
      ]
    },
    {
      "cell_type": "code",
      "metadata": {
        "id": "xmfDjrOZ7hh0",
        "outputId": "f99461a1-e945-48ba-f104-7d9c8cec6461",
        "colab": {
          "base_uri": "https://localhost:8080/",
          "height": 297
        }
      },
      "source": [
        "df_churn_train[['tenure']].describe()"
      ],
      "execution_count": 31,
      "outputs": [
        {
          "output_type": "execute_result",
          "data": {
            "text/html": [
              "<div>\n",
              "<style scoped>\n",
              "    .dataframe tbody tr th:only-of-type {\n",
              "        vertical-align: middle;\n",
              "    }\n",
              "\n",
              "    .dataframe tbody tr th {\n",
              "        vertical-align: top;\n",
              "    }\n",
              "\n",
              "    .dataframe thead th {\n",
              "        text-align: right;\n",
              "    }\n",
              "</style>\n",
              "<table border=\"1\" class=\"dataframe\">\n",
              "  <thead>\n",
              "    <tr style=\"text-align: right;\">\n",
              "      <th></th>\n",
              "      <th>tenure</th>\n",
              "    </tr>\n",
              "  </thead>\n",
              "  <tbody>\n",
              "    <tr>\n",
              "      <th>count</th>\n",
              "      <td>5634.000000</td>\n",
              "    </tr>\n",
              "    <tr>\n",
              "      <th>mean</th>\n",
              "      <td>29.769081</td>\n",
              "    </tr>\n",
              "    <tr>\n",
              "      <th>std</th>\n",
              "      <td>24.965201</td>\n",
              "    </tr>\n",
              "    <tr>\n",
              "      <th>min</th>\n",
              "      <td>0.000000</td>\n",
              "    </tr>\n",
              "    <tr>\n",
              "      <th>25%</th>\n",
              "      <td>5.000000</td>\n",
              "    </tr>\n",
              "    <tr>\n",
              "      <th>50%</th>\n",
              "      <td>24.500000</td>\n",
              "    </tr>\n",
              "    <tr>\n",
              "      <th>75%</th>\n",
              "      <td>53.000000</td>\n",
              "    </tr>\n",
              "    <tr>\n",
              "      <th>max</th>\n",
              "      <td>72.000000</td>\n",
              "    </tr>\n",
              "  </tbody>\n",
              "</table>\n",
              "</div>"
            ],
            "text/plain": [
              "            tenure\n",
              "count  5634.000000\n",
              "mean     29.769081\n",
              "std      24.965201\n",
              "min       0.000000\n",
              "25%       5.000000\n",
              "50%      24.500000\n",
              "75%      53.000000\n",
              "max      72.000000"
            ]
          },
          "metadata": {
            "tags": []
          },
          "execution_count": 31
        }
      ]
    },
    {
      "cell_type": "code",
      "metadata": {
        "id": "Ewnjrs22jWuk",
        "outputId": "e507808f-ae2e-4bcb-fa84-649582a4c3f9",
        "colab": {
          "base_uri": "https://localhost:8080/"
        }
      },
      "source": [
        "df_churn_train.isna().sum()"
      ],
      "execution_count": 32,
      "outputs": [
        {
          "output_type": "execute_result",
          "data": {
            "text/plain": [
              "gender              0\n",
              "seniorcitizen       0\n",
              "partner             0\n",
              "dependents          0\n",
              "tenure              0\n",
              "phoneservice        0\n",
              "multiplelines       0\n",
              "internetservice     0\n",
              "onlinesecurity      0\n",
              "onlinebackup        0\n",
              "deviceprotection    0\n",
              "techsupport         0\n",
              "streamingtv         0\n",
              "streamingmovies     0\n",
              "contract            0\n",
              "paperlessbilling    0\n",
              "paymentmethod       0\n",
              "monthlycharges      0\n",
              "totalcharges        0\n",
              "churn               0\n",
              "dtype: int64"
            ]
          },
          "metadata": {
            "tags": []
          },
          "execution_count": 32
        }
      ]
    },
    {
      "cell_type": "markdown",
      "metadata": {
        "id": "rly9gPYHkXrv"
      },
      "source": [
        "###totalcharges"
      ]
    },
    {
      "cell_type": "code",
      "metadata": {
        "id": "uWaZ3o5okWi6"
      },
      "source": [
        "df_churn_train['totalcharges'] = df_churn_train['totalcharges'].str.replace(',', '.')\n",
        "df_churn_train['totalcharges'] = pd.to_numeric(df_churn_train['totalcharges'], errors= 'coerce')"
      ],
      "execution_count": 33,
      "outputs": []
    },
    {
      "cell_type": "code",
      "metadata": {
        "id": "yo8FxnDlinWr",
        "outputId": "9e079212-9230-4ee7-9442-6655f8c4caac",
        "colab": {
          "base_uri": "https://localhost:8080/",
          "height": 309
        }
      },
      "source": [
        "df_churn_train.head()"
      ],
      "execution_count": 34,
      "outputs": [
        {
          "output_type": "execute_result",
          "data": {
            "text/html": [
              "<div>\n",
              "<style scoped>\n",
              "    .dataframe tbody tr th:only-of-type {\n",
              "        vertical-align: middle;\n",
              "    }\n",
              "\n",
              "    .dataframe tbody tr th {\n",
              "        vertical-align: top;\n",
              "    }\n",
              "\n",
              "    .dataframe thead th {\n",
              "        text-align: right;\n",
              "    }\n",
              "</style>\n",
              "<table border=\"1\" class=\"dataframe\">\n",
              "  <thead>\n",
              "    <tr style=\"text-align: right;\">\n",
              "      <th></th>\n",
              "      <th>gender</th>\n",
              "      <th>seniorcitizen</th>\n",
              "      <th>partner</th>\n",
              "      <th>dependents</th>\n",
              "      <th>tenure</th>\n",
              "      <th>phoneservice</th>\n",
              "      <th>multiplelines</th>\n",
              "      <th>internetservice</th>\n",
              "      <th>onlinesecurity</th>\n",
              "      <th>onlinebackup</th>\n",
              "      <th>deviceprotection</th>\n",
              "      <th>techsupport</th>\n",
              "      <th>streamingtv</th>\n",
              "      <th>streamingmovies</th>\n",
              "      <th>contract</th>\n",
              "      <th>paperlessbilling</th>\n",
              "      <th>paymentmethod</th>\n",
              "      <th>monthlycharges</th>\n",
              "      <th>totalcharges</th>\n",
              "      <th>churn</th>\n",
              "    </tr>\n",
              "  </thead>\n",
              "  <tbody>\n",
              "    <tr>\n",
              "      <th>0</th>\n",
              "      <td>Female</td>\n",
              "      <td>0</td>\n",
              "      <td>No</td>\n",
              "      <td>No</td>\n",
              "      <td>56.0</td>\n",
              "      <td>No</td>\n",
              "      <td>No phone service</td>\n",
              "      <td>DSL</td>\n",
              "      <td>Yes</td>\n",
              "      <td>Yes</td>\n",
              "      <td>Yes</td>\n",
              "      <td>Yes</td>\n",
              "      <td>No</td>\n",
              "      <td>No</td>\n",
              "      <td>Two year</td>\n",
              "      <td>No</td>\n",
              "      <td>Electronic check</td>\n",
              "      <td>45.05</td>\n",
              "      <td>2560.10</td>\n",
              "      <td>0</td>\n",
              "    </tr>\n",
              "    <tr>\n",
              "      <th>1</th>\n",
              "      <td>Male</td>\n",
              "      <td>0</td>\n",
              "      <td>Yes</td>\n",
              "      <td>Yes</td>\n",
              "      <td>1.0</td>\n",
              "      <td>Yes</td>\n",
              "      <td>No</td>\n",
              "      <td>No</td>\n",
              "      <td>No internet service</td>\n",
              "      <td>No internet service</td>\n",
              "      <td>No internet service</td>\n",
              "      <td>No internet service</td>\n",
              "      <td>No internet service</td>\n",
              "      <td>No internet service</td>\n",
              "      <td>One year</td>\n",
              "      <td>No</td>\n",
              "      <td>Mailed check</td>\n",
              "      <td>19.65</td>\n",
              "      <td>332.65</td>\n",
              "      <td>0</td>\n",
              "    </tr>\n",
              "    <tr>\n",
              "      <th>2</th>\n",
              "      <td>Female</td>\n",
              "      <td>0</td>\n",
              "      <td>Yes</td>\n",
              "      <td>No</td>\n",
              "      <td>60.0</td>\n",
              "      <td>Yes</td>\n",
              "      <td>Yes</td>\n",
              "      <td>Fiber optic</td>\n",
              "      <td>No</td>\n",
              "      <td>Yes</td>\n",
              "      <td>Yes</td>\n",
              "      <td>Yes</td>\n",
              "      <td>Yes</td>\n",
              "      <td>Yes</td>\n",
              "      <td>Two year</td>\n",
              "      <td>Yes</td>\n",
              "      <td>Credit card (automatic)</td>\n",
              "      <td>110.80</td>\n",
              "      <td>6640.70</td>\n",
              "      <td>0</td>\n",
              "    </tr>\n",
              "    <tr>\n",
              "      <th>3</th>\n",
              "      <td>Female</td>\n",
              "      <td>0</td>\n",
              "      <td>No</td>\n",
              "      <td>No</td>\n",
              "      <td>37.0</td>\n",
              "      <td>Yes</td>\n",
              "      <td>Yes</td>\n",
              "      <td>Fiber optic</td>\n",
              "      <td>No</td>\n",
              "      <td>Yes</td>\n",
              "      <td>Yes</td>\n",
              "      <td>No</td>\n",
              "      <td>Yes</td>\n",
              "      <td>Yes</td>\n",
              "      <td>Month-to-month</td>\n",
              "      <td>Yes</td>\n",
              "      <td>Bank transfer (automatic)</td>\n",
              "      <td>101.90</td>\n",
              "      <td>3545.35</td>\n",
              "      <td>1</td>\n",
              "    </tr>\n",
              "    <tr>\n",
              "      <th>4</th>\n",
              "      <td>Male</td>\n",
              "      <td>0</td>\n",
              "      <td>Yes</td>\n",
              "      <td>Yes</td>\n",
              "      <td>29.0</td>\n",
              "      <td>Yes</td>\n",
              "      <td>No</td>\n",
              "      <td>Fiber optic</td>\n",
              "      <td>No</td>\n",
              "      <td>No</td>\n",
              "      <td>No</td>\n",
              "      <td>No</td>\n",
              "      <td>No</td>\n",
              "      <td>No</td>\n",
              "      <td>Month-to-month</td>\n",
              "      <td>Yes</td>\n",
              "      <td>Electronic check</td>\n",
              "      <td>70.75</td>\n",
              "      <td>1974.80</td>\n",
              "      <td>1</td>\n",
              "    </tr>\n",
              "  </tbody>\n",
              "</table>\n",
              "</div>"
            ],
            "text/plain": [
              "   gender  seniorcitizen partner dependents  tenure phoneservice  \\\n",
              "0  Female              0      No         No    56.0           No   \n",
              "1    Male              0     Yes        Yes     1.0          Yes   \n",
              "2  Female              0     Yes         No    60.0          Yes   \n",
              "3  Female              0      No         No    37.0          Yes   \n",
              "4    Male              0     Yes        Yes    29.0          Yes   \n",
              "\n",
              "      multiplelines internetservice       onlinesecurity         onlinebackup  \\\n",
              "0  No phone service             DSL                  Yes                  Yes   \n",
              "1                No              No  No internet service  No internet service   \n",
              "2               Yes     Fiber optic                   No                  Yes   \n",
              "3               Yes     Fiber optic                   No                  Yes   \n",
              "4                No     Fiber optic                   No                   No   \n",
              "\n",
              "      deviceprotection          techsupport          streamingtv  \\\n",
              "0                  Yes                  Yes                   No   \n",
              "1  No internet service  No internet service  No internet service   \n",
              "2                  Yes                  Yes                  Yes   \n",
              "3                  Yes                   No                  Yes   \n",
              "4                   No                   No                   No   \n",
              "\n",
              "       streamingmovies        contract paperlessbilling  \\\n",
              "0                   No        Two year               No   \n",
              "1  No internet service        One year               No   \n",
              "2                  Yes        Two year              Yes   \n",
              "3                  Yes  Month-to-month              Yes   \n",
              "4                   No  Month-to-month              Yes   \n",
              "\n",
              "               paymentmethod  monthlycharges  totalcharges  churn  \n",
              "0           Electronic check           45.05       2560.10      0  \n",
              "1               Mailed check           19.65        332.65      0  \n",
              "2    Credit card (automatic)          110.80       6640.70      0  \n",
              "3  Bank transfer (automatic)          101.90       3545.35      1  \n",
              "4           Electronic check           70.75       1974.80      1  "
            ]
          },
          "metadata": {
            "tags": []
          },
          "execution_count": 34
        }
      ]
    },
    {
      "cell_type": "code",
      "metadata": {
        "id": "fnDgfE_c8Tyg",
        "outputId": "871ea42b-d123-479c-cf7d-58a532e82aad",
        "colab": {
          "base_uri": "https://localhost:8080/"
        }
      },
      "source": [
        "df_churn_train['totalcharges'].value_counts()"
      ],
      "execution_count": 35,
      "outputs": [
        {
          "output_type": "execute_result",
          "data": {
            "text/plain": [
              "20.20      8\n",
              "19.55      7\n",
              "19.75      6\n",
              "19.45      6\n",
              "19.65      6\n",
              "          ..\n",
              "1292.20    1\n",
              "153.30     1\n",
              "2659.45    1\n",
              "2460.55    1\n",
              "21.00      1\n",
              "Name: totalcharges, Length: 5285, dtype: int64"
            ]
          },
          "metadata": {
            "tags": []
          },
          "execution_count": 35
        }
      ]
    },
    {
      "cell_type": "code",
      "metadata": {
        "id": "Y6iSOso4kU4J",
        "outputId": "0c95a403-6558-45a1-b4ba-d3f3d512b5bd",
        "colab": {
          "base_uri": "https://localhost:8080/"
        }
      },
      "source": [
        "df_churn_train[['totalcharges']].isna().sum()"
      ],
      "execution_count": 36,
      "outputs": [
        {
          "output_type": "execute_result",
          "data": {
            "text/plain": [
              "totalcharges    8\n",
              "dtype: int64"
            ]
          },
          "metadata": {
            "tags": []
          },
          "execution_count": 36
        }
      ]
    },
    {
      "cell_type": "code",
      "metadata": {
        "id": "mILqie2YkU7y",
        "outputId": "377b9cbe-c3fc-4961-e839-9b47d9e08fbe",
        "colab": {
          "base_uri": "https://localhost:8080/"
        }
      },
      "source": [
        "c = list(df_churn_train[df_churn_train['totalcharges'].isna()].index)\n",
        "c"
      ],
      "execution_count": 37,
      "outputs": [
        {
          "output_type": "execute_result",
          "data": {
            "text/plain": [
              "[161, 416, 1766, 2145, 3375, 3404, 4008, 5151]"
            ]
          },
          "metadata": {
            "tags": []
          },
          "execution_count": 37
        }
      ]
    },
    {
      "cell_type": "code",
      "metadata": {
        "id": "5ua9ZV20kVAH",
        "outputId": "eaed3cc9-4c1e-4d17-dfc9-2edf92696c24",
        "colab": {
          "base_uri": "https://localhost:8080/"
        }
      },
      "source": [
        "df_churn_train['tenure'][161]"
      ],
      "execution_count": 38,
      "outputs": [
        {
          "output_type": "execute_result",
          "data": {
            "text/plain": [
              "0.0"
            ]
          },
          "metadata": {
            "tags": []
          },
          "execution_count": 38
        }
      ]
    },
    {
      "cell_type": "code",
      "metadata": {
        "id": "tGB9gwljOskg",
        "outputId": "8d4cc9f3-42a9-4eab-9094-cb56469b86af",
        "colab": {
          "base_uri": "https://localhost:8080/"
        }
      },
      "source": [
        "df_churn_train['totalcharges'].mode(), df_churn_train['totalcharges'].mean(), df_churn_train['totalcharges'].median()"
      ],
      "execution_count": 39,
      "outputs": [
        {
          "output_type": "execute_result",
          "data": {
            "text/plain": [
              "(0    20.2\n",
              " dtype: float64, 2273.513810878064, 1396.125)"
            ]
          },
          "metadata": {
            "tags": []
          },
          "execution_count": 39
        }
      ]
    },
    {
      "cell_type": "code",
      "metadata": {
        "id": "Bh4rm8M-mKUM"
      },
      "source": [
        "#df_churn_train['monthlycharges'][161] SUBT PELA MODA\n",
        "for i in c:\n",
        "    df_churn_train['totalcharges'][i] = 20.2\n"
      ],
      "execution_count": 40,
      "outputs": []
    },
    {
      "cell_type": "code",
      "metadata": {
        "id": "3JaUxbgCmKZb",
        "outputId": "2b7cdf36-894b-4ca4-e31d-7f6052dfff13",
        "colab": {
          "base_uri": "https://localhost:8080/"
        }
      },
      "source": [
        "df_churn_train['totalcharges'][5151]"
      ],
      "execution_count": 37,
      "outputs": [
        {
          "output_type": "execute_result",
          "data": {
            "text/plain": [
              "20.2"
            ]
          },
          "metadata": {
            "tags": []
          },
          "execution_count": 37
        }
      ]
    },
    {
      "cell_type": "markdown",
      "metadata": {
        "id": "q-mycDSkmhZV"
      },
      "source": [
        "###tratando as categoricas"
      ]
    },
    {
      "cell_type": "code",
      "metadata": {
        "id": "Iv1TcUeSmKh6"
      },
      "source": [
        "df_churn_train.gender.replace(['Female', 'Male'], [1, 0], inplace=True)\n",
        "df_churn_train.partner.replace(['Yes', 'No'], [1, 0], inplace=True)\n",
        "df_churn_train.phoneservice.replace(['Yes', 'No'], [1, 0], inplace=True)\n",
        "df_churn_train.paperlessbilling.replace(['Yes', 'No'], [1, 0], inplace=True)\n",
        "#df_churn_train.dependents.replace(['Yes', 'No'], [1, 0], inplace=True)"
      ],
      "execution_count": 41,
      "outputs": []
    },
    {
      "cell_type": "code",
      "metadata": {
        "id": "dESl41lXmKeg"
      },
      "source": [
        "df_churn_train.internetservice.replace(['Fiber optic', 'DSL', 'No'], [1,2,0], inplace=True)\n",
        "df_churn_train.paymentmethod.replace(['Electronic check', 'Bank transfer (automatic)', 'Mailed check', 'Credit card (automatic)'], [1,2,3,4], inplace=True)\n",
        "df_churn_train.contract.replace(['Two year', 'One year', 'Month-to-month'], [0,1,2], inplace=True)\n",
        "df_churn_train.multiplelines.replace(['No', 'Yes', 'No phone service'], [0,1,3], inplace=True)\n",
        "df_churn_train.onlinesecurity.replace(['No', 'Yes', 'No internet service'], [0,1,2], inplace=True) \n",
        "df_churn_train.onlinebackup.replace(['No', 'Yes', 'No internet service'], [0,1,2], inplace=True)\n",
        "df_churn_train.deviceprotection.replace(['No', 'Yes', 'No internet service'], [0,1,2], inplace=True)\n",
        "df_churn_train.techsupport.replace(['No', 'Yes', 'No internet service'], [0,1,2], inplace=True)\n",
        "df_churn_train.streamingtv.replace(['No', 'Yes', 'No internet service'], [0,1,2], inplace=True)\n",
        "df_churn_train.streamingmovies.replace(['No', 'Yes', 'No internet service'], [0,1,2], inplace=True) \n",
        "\n"
      ],
      "execution_count": 42,
      "outputs": []
    },
    {
      "cell_type": "code",
      "metadata": {
        "id": "-YfHw4QymKcq",
        "outputId": "44ffe7a9-6e52-44a1-881c-df5ac3096524",
        "colab": {
          "base_uri": "https://localhost:8080/"
        }
      },
      "source": [
        "df_churn_train.isna().sum()"
      ],
      "execution_count": 43,
      "outputs": [
        {
          "output_type": "execute_result",
          "data": {
            "text/plain": [
              "gender              0\n",
              "seniorcitizen       0\n",
              "partner             0\n",
              "dependents          0\n",
              "tenure              0\n",
              "phoneservice        0\n",
              "multiplelines       0\n",
              "internetservice     0\n",
              "onlinesecurity      0\n",
              "onlinebackup        0\n",
              "deviceprotection    0\n",
              "techsupport         0\n",
              "streamingtv         0\n",
              "streamingmovies     0\n",
              "contract            0\n",
              "paperlessbilling    0\n",
              "paymentmethod       0\n",
              "monthlycharges      0\n",
              "totalcharges        0\n",
              "churn               0\n",
              "dtype: int64"
            ]
          },
          "metadata": {
            "tags": []
          },
          "execution_count": 43
        }
      ]
    },
    {
      "cell_type": "code",
      "metadata": {
        "id": "sIlJEQGQmKX_",
        "outputId": "488f4f29-6e53-4e6e-e769-2e3dc7f3383e",
        "colab": {
          "base_uri": "https://localhost:8080/",
          "height": 224
        }
      },
      "source": [
        "df_churn_train.head()"
      ],
      "execution_count": 44,
      "outputs": [
        {
          "output_type": "execute_result",
          "data": {
            "text/html": [
              "<div>\n",
              "<style scoped>\n",
              "    .dataframe tbody tr th:only-of-type {\n",
              "        vertical-align: middle;\n",
              "    }\n",
              "\n",
              "    .dataframe tbody tr th {\n",
              "        vertical-align: top;\n",
              "    }\n",
              "\n",
              "    .dataframe thead th {\n",
              "        text-align: right;\n",
              "    }\n",
              "</style>\n",
              "<table border=\"1\" class=\"dataframe\">\n",
              "  <thead>\n",
              "    <tr style=\"text-align: right;\">\n",
              "      <th></th>\n",
              "      <th>gender</th>\n",
              "      <th>seniorcitizen</th>\n",
              "      <th>partner</th>\n",
              "      <th>dependents</th>\n",
              "      <th>tenure</th>\n",
              "      <th>phoneservice</th>\n",
              "      <th>multiplelines</th>\n",
              "      <th>internetservice</th>\n",
              "      <th>onlinesecurity</th>\n",
              "      <th>onlinebackup</th>\n",
              "      <th>deviceprotection</th>\n",
              "      <th>techsupport</th>\n",
              "      <th>streamingtv</th>\n",
              "      <th>streamingmovies</th>\n",
              "      <th>contract</th>\n",
              "      <th>paperlessbilling</th>\n",
              "      <th>paymentmethod</th>\n",
              "      <th>monthlycharges</th>\n",
              "      <th>totalcharges</th>\n",
              "      <th>churn</th>\n",
              "    </tr>\n",
              "  </thead>\n",
              "  <tbody>\n",
              "    <tr>\n",
              "      <th>0</th>\n",
              "      <td>1</td>\n",
              "      <td>0</td>\n",
              "      <td>0</td>\n",
              "      <td>No</td>\n",
              "      <td>56.0</td>\n",
              "      <td>0</td>\n",
              "      <td>3</td>\n",
              "      <td>2</td>\n",
              "      <td>1</td>\n",
              "      <td>1</td>\n",
              "      <td>1</td>\n",
              "      <td>1</td>\n",
              "      <td>0</td>\n",
              "      <td>0</td>\n",
              "      <td>0</td>\n",
              "      <td>0</td>\n",
              "      <td>1</td>\n",
              "      <td>45.05</td>\n",
              "      <td>2560.10</td>\n",
              "      <td>0</td>\n",
              "    </tr>\n",
              "    <tr>\n",
              "      <th>1</th>\n",
              "      <td>0</td>\n",
              "      <td>0</td>\n",
              "      <td>1</td>\n",
              "      <td>Yes</td>\n",
              "      <td>1.0</td>\n",
              "      <td>1</td>\n",
              "      <td>0</td>\n",
              "      <td>0</td>\n",
              "      <td>2</td>\n",
              "      <td>2</td>\n",
              "      <td>2</td>\n",
              "      <td>2</td>\n",
              "      <td>2</td>\n",
              "      <td>2</td>\n",
              "      <td>1</td>\n",
              "      <td>0</td>\n",
              "      <td>3</td>\n",
              "      <td>19.65</td>\n",
              "      <td>332.65</td>\n",
              "      <td>0</td>\n",
              "    </tr>\n",
              "    <tr>\n",
              "      <th>2</th>\n",
              "      <td>1</td>\n",
              "      <td>0</td>\n",
              "      <td>1</td>\n",
              "      <td>No</td>\n",
              "      <td>60.0</td>\n",
              "      <td>1</td>\n",
              "      <td>1</td>\n",
              "      <td>1</td>\n",
              "      <td>0</td>\n",
              "      <td>1</td>\n",
              "      <td>1</td>\n",
              "      <td>1</td>\n",
              "      <td>1</td>\n",
              "      <td>1</td>\n",
              "      <td>0</td>\n",
              "      <td>1</td>\n",
              "      <td>4</td>\n",
              "      <td>110.80</td>\n",
              "      <td>6640.70</td>\n",
              "      <td>0</td>\n",
              "    </tr>\n",
              "    <tr>\n",
              "      <th>3</th>\n",
              "      <td>1</td>\n",
              "      <td>0</td>\n",
              "      <td>0</td>\n",
              "      <td>No</td>\n",
              "      <td>37.0</td>\n",
              "      <td>1</td>\n",
              "      <td>1</td>\n",
              "      <td>1</td>\n",
              "      <td>0</td>\n",
              "      <td>1</td>\n",
              "      <td>1</td>\n",
              "      <td>0</td>\n",
              "      <td>1</td>\n",
              "      <td>1</td>\n",
              "      <td>2</td>\n",
              "      <td>1</td>\n",
              "      <td>2</td>\n",
              "      <td>101.90</td>\n",
              "      <td>3545.35</td>\n",
              "      <td>1</td>\n",
              "    </tr>\n",
              "    <tr>\n",
              "      <th>4</th>\n",
              "      <td>0</td>\n",
              "      <td>0</td>\n",
              "      <td>1</td>\n",
              "      <td>Yes</td>\n",
              "      <td>29.0</td>\n",
              "      <td>1</td>\n",
              "      <td>0</td>\n",
              "      <td>1</td>\n",
              "      <td>0</td>\n",
              "      <td>0</td>\n",
              "      <td>0</td>\n",
              "      <td>0</td>\n",
              "      <td>0</td>\n",
              "      <td>0</td>\n",
              "      <td>2</td>\n",
              "      <td>1</td>\n",
              "      <td>1</td>\n",
              "      <td>70.75</td>\n",
              "      <td>1974.80</td>\n",
              "      <td>1</td>\n",
              "    </tr>\n",
              "  </tbody>\n",
              "</table>\n",
              "</div>"
            ],
            "text/plain": [
              "   gender  seniorcitizen  partner dependents  tenure  phoneservice  \\\n",
              "0       1              0        0         No    56.0             0   \n",
              "1       0              0        1        Yes     1.0             1   \n",
              "2       1              0        1         No    60.0             1   \n",
              "3       1              0        0         No    37.0             1   \n",
              "4       0              0        1        Yes    29.0             1   \n",
              "\n",
              "   multiplelines  internetservice  onlinesecurity  onlinebackup  \\\n",
              "0              3                2               1             1   \n",
              "1              0                0               2             2   \n",
              "2              1                1               0             1   \n",
              "3              1                1               0             1   \n",
              "4              0                1               0             0   \n",
              "\n",
              "   deviceprotection  techsupport  streamingtv  streamingmovies  contract  \\\n",
              "0                 1            1            0                0         0   \n",
              "1                 2            2            2                2         1   \n",
              "2                 1            1            1                1         0   \n",
              "3                 1            0            1                1         2   \n",
              "4                 0            0            0                0         2   \n",
              "\n",
              "   paperlessbilling  paymentmethod  monthlycharges  totalcharges  churn  \n",
              "0                 0              1           45.05       2560.10      0  \n",
              "1                 0              3           19.65        332.65      0  \n",
              "2                 1              4          110.80       6640.70      0  \n",
              "3                 1              2          101.90       3545.35      1  \n",
              "4                 1              1           70.75       1974.80      1  "
            ]
          },
          "metadata": {
            "tags": []
          },
          "execution_count": 44
        }
      ]
    },
    {
      "cell_type": "code",
      "metadata": {
        "id": "h9Y9HGuQpohk"
      },
      "source": [
        "df_churn_train.dependents.replace(['Yes', 'No'], [1, 0], inplace=True)"
      ],
      "execution_count": 45,
      "outputs": []
    },
    {
      "cell_type": "code",
      "metadata": {
        "id": "3OQN9DiUpoln",
        "outputId": "f71806d3-39a5-427e-a86f-425c95456b83",
        "colab": {
          "base_uri": "https://localhost:8080/",
          "height": 224
        }
      },
      "source": [
        "df_churn_train.head()"
      ],
      "execution_count": 46,
      "outputs": [
        {
          "output_type": "execute_result",
          "data": {
            "text/html": [
              "<div>\n",
              "<style scoped>\n",
              "    .dataframe tbody tr th:only-of-type {\n",
              "        vertical-align: middle;\n",
              "    }\n",
              "\n",
              "    .dataframe tbody tr th {\n",
              "        vertical-align: top;\n",
              "    }\n",
              "\n",
              "    .dataframe thead th {\n",
              "        text-align: right;\n",
              "    }\n",
              "</style>\n",
              "<table border=\"1\" class=\"dataframe\">\n",
              "  <thead>\n",
              "    <tr style=\"text-align: right;\">\n",
              "      <th></th>\n",
              "      <th>gender</th>\n",
              "      <th>seniorcitizen</th>\n",
              "      <th>partner</th>\n",
              "      <th>dependents</th>\n",
              "      <th>tenure</th>\n",
              "      <th>phoneservice</th>\n",
              "      <th>multiplelines</th>\n",
              "      <th>internetservice</th>\n",
              "      <th>onlinesecurity</th>\n",
              "      <th>onlinebackup</th>\n",
              "      <th>deviceprotection</th>\n",
              "      <th>techsupport</th>\n",
              "      <th>streamingtv</th>\n",
              "      <th>streamingmovies</th>\n",
              "      <th>contract</th>\n",
              "      <th>paperlessbilling</th>\n",
              "      <th>paymentmethod</th>\n",
              "      <th>monthlycharges</th>\n",
              "      <th>totalcharges</th>\n",
              "      <th>churn</th>\n",
              "    </tr>\n",
              "  </thead>\n",
              "  <tbody>\n",
              "    <tr>\n",
              "      <th>0</th>\n",
              "      <td>1</td>\n",
              "      <td>0</td>\n",
              "      <td>0</td>\n",
              "      <td>0</td>\n",
              "      <td>56.0</td>\n",
              "      <td>0</td>\n",
              "      <td>3</td>\n",
              "      <td>2</td>\n",
              "      <td>1</td>\n",
              "      <td>1</td>\n",
              "      <td>1</td>\n",
              "      <td>1</td>\n",
              "      <td>0</td>\n",
              "      <td>0</td>\n",
              "      <td>0</td>\n",
              "      <td>0</td>\n",
              "      <td>1</td>\n",
              "      <td>45.05</td>\n",
              "      <td>2560.10</td>\n",
              "      <td>0</td>\n",
              "    </tr>\n",
              "    <tr>\n",
              "      <th>1</th>\n",
              "      <td>0</td>\n",
              "      <td>0</td>\n",
              "      <td>1</td>\n",
              "      <td>1</td>\n",
              "      <td>1.0</td>\n",
              "      <td>1</td>\n",
              "      <td>0</td>\n",
              "      <td>0</td>\n",
              "      <td>2</td>\n",
              "      <td>2</td>\n",
              "      <td>2</td>\n",
              "      <td>2</td>\n",
              "      <td>2</td>\n",
              "      <td>2</td>\n",
              "      <td>1</td>\n",
              "      <td>0</td>\n",
              "      <td>3</td>\n",
              "      <td>19.65</td>\n",
              "      <td>332.65</td>\n",
              "      <td>0</td>\n",
              "    </tr>\n",
              "    <tr>\n",
              "      <th>2</th>\n",
              "      <td>1</td>\n",
              "      <td>0</td>\n",
              "      <td>1</td>\n",
              "      <td>0</td>\n",
              "      <td>60.0</td>\n",
              "      <td>1</td>\n",
              "      <td>1</td>\n",
              "      <td>1</td>\n",
              "      <td>0</td>\n",
              "      <td>1</td>\n",
              "      <td>1</td>\n",
              "      <td>1</td>\n",
              "      <td>1</td>\n",
              "      <td>1</td>\n",
              "      <td>0</td>\n",
              "      <td>1</td>\n",
              "      <td>4</td>\n",
              "      <td>110.80</td>\n",
              "      <td>6640.70</td>\n",
              "      <td>0</td>\n",
              "    </tr>\n",
              "    <tr>\n",
              "      <th>3</th>\n",
              "      <td>1</td>\n",
              "      <td>0</td>\n",
              "      <td>0</td>\n",
              "      <td>0</td>\n",
              "      <td>37.0</td>\n",
              "      <td>1</td>\n",
              "      <td>1</td>\n",
              "      <td>1</td>\n",
              "      <td>0</td>\n",
              "      <td>1</td>\n",
              "      <td>1</td>\n",
              "      <td>0</td>\n",
              "      <td>1</td>\n",
              "      <td>1</td>\n",
              "      <td>2</td>\n",
              "      <td>1</td>\n",
              "      <td>2</td>\n",
              "      <td>101.90</td>\n",
              "      <td>3545.35</td>\n",
              "      <td>1</td>\n",
              "    </tr>\n",
              "    <tr>\n",
              "      <th>4</th>\n",
              "      <td>0</td>\n",
              "      <td>0</td>\n",
              "      <td>1</td>\n",
              "      <td>1</td>\n",
              "      <td>29.0</td>\n",
              "      <td>1</td>\n",
              "      <td>0</td>\n",
              "      <td>1</td>\n",
              "      <td>0</td>\n",
              "      <td>0</td>\n",
              "      <td>0</td>\n",
              "      <td>0</td>\n",
              "      <td>0</td>\n",
              "      <td>0</td>\n",
              "      <td>2</td>\n",
              "      <td>1</td>\n",
              "      <td>1</td>\n",
              "      <td>70.75</td>\n",
              "      <td>1974.80</td>\n",
              "      <td>1</td>\n",
              "    </tr>\n",
              "  </tbody>\n",
              "</table>\n",
              "</div>"
            ],
            "text/plain": [
              "   gender  seniorcitizen  partner  dependents  tenure  phoneservice  \\\n",
              "0       1              0        0           0    56.0             0   \n",
              "1       0              0        1           1     1.0             1   \n",
              "2       1              0        1           0    60.0             1   \n",
              "3       1              0        0           0    37.0             1   \n",
              "4       0              0        1           1    29.0             1   \n",
              "\n",
              "   multiplelines  internetservice  onlinesecurity  onlinebackup  \\\n",
              "0              3                2               1             1   \n",
              "1              0                0               2             2   \n",
              "2              1                1               0             1   \n",
              "3              1                1               0             1   \n",
              "4              0                1               0             0   \n",
              "\n",
              "   deviceprotection  techsupport  streamingtv  streamingmovies  contract  \\\n",
              "0                 1            1            0                0         0   \n",
              "1                 2            2            2                2         1   \n",
              "2                 1            1            1                1         0   \n",
              "3                 1            0            1                1         2   \n",
              "4                 0            0            0                0         2   \n",
              "\n",
              "   paperlessbilling  paymentmethod  monthlycharges  totalcharges  churn  \n",
              "0                 0              1           45.05       2560.10      0  \n",
              "1                 0              3           19.65        332.65      0  \n",
              "2                 1              4          110.80       6640.70      0  \n",
              "3                 1              2          101.90       3545.35      1  \n",
              "4                 1              1           70.75       1974.80      1  "
            ]
          },
          "metadata": {
            "tags": []
          },
          "execution_count": 46
        }
      ]
    },
    {
      "cell_type": "code",
      "metadata": {
        "id": "4gCi0vgJrh8z",
        "outputId": "e80b957a-68b0-4b5d-c654-9e0b5c5bee30",
        "colab": {
          "base_uri": "https://localhost:8080/"
        }
      },
      "source": [
        "df_churn_train.isna().sum()"
      ],
      "execution_count": 47,
      "outputs": [
        {
          "output_type": "execute_result",
          "data": {
            "text/plain": [
              "gender              0\n",
              "seniorcitizen       0\n",
              "partner             0\n",
              "dependents          0\n",
              "tenure              0\n",
              "phoneservice        0\n",
              "multiplelines       0\n",
              "internetservice     0\n",
              "onlinesecurity      0\n",
              "onlinebackup        0\n",
              "deviceprotection    0\n",
              "techsupport         0\n",
              "streamingtv         0\n",
              "streamingmovies     0\n",
              "contract            0\n",
              "paperlessbilling    0\n",
              "paymentmethod       0\n",
              "monthlycharges      0\n",
              "totalcharges        0\n",
              "churn               0\n",
              "dtype: int64"
            ]
          },
          "metadata": {
            "tags": []
          },
          "execution_count": 47
        }
      ]
    },
    {
      "cell_type": "code",
      "metadata": {
        "id": "OGAffJDRr2G5"
      },
      "source": [
        ""
      ],
      "execution_count": null,
      "outputs": []
    },
    {
      "cell_type": "code",
      "metadata": {
        "id": "UG_I2M_fQFI_"
      },
      "source": [
        ""
      ],
      "execution_count": null,
      "outputs": []
    },
    {
      "cell_type": "code",
      "metadata": {
        "id": "yDQyyTSXQFQl"
      },
      "source": [
        "#import pandas as pd\n",
        "#import numpy as np"
      ],
      "execution_count": null,
      "outputs": []
    },
    {
      "cell_type": "markdown",
      "metadata": {
        "id": "Csg-TuKFawzz"
      },
      "source": [
        "#####tratando o DF teste"
      ]
    },
    {
      "cell_type": "code",
      "metadata": {
        "id": "__YIJz9FaIiC",
        "outputId": "3c6cbd7a-f0e8-463d-b5ed-17dd67d55bdd",
        "colab": {
          "base_uri": "https://localhost:8080/",
          "height": 592
        }
      },
      "source": [
        "url = 'https://raw.githubusercontent.com/jjefferson2006/DSWP_JJ_altera/main/test.csv'\n",
        "df_churn_test = pd.read_csv(url)\n",
        "df_churn_test"
      ],
      "execution_count": 48,
      "outputs": [
        {
          "output_type": "execute_result",
          "data": {
            "text/html": [
              "<div>\n",
              "<style scoped>\n",
              "    .dataframe tbody tr th:only-of-type {\n",
              "        vertical-align: middle;\n",
              "    }\n",
              "\n",
              "    .dataframe tbody tr th {\n",
              "        vertical-align: top;\n",
              "    }\n",
              "\n",
              "    .dataframe thead th {\n",
              "        text-align: right;\n",
              "    }\n",
              "</style>\n",
              "<table border=\"1\" class=\"dataframe\">\n",
              "  <thead>\n",
              "    <tr style=\"text-align: right;\">\n",
              "      <th></th>\n",
              "      <th>id</th>\n",
              "      <th>gender</th>\n",
              "      <th>SeniorCitizen</th>\n",
              "      <th>Partner</th>\n",
              "      <th>Dependents</th>\n",
              "      <th>tenure</th>\n",
              "      <th>PhoneService</th>\n",
              "      <th>MultipleLines</th>\n",
              "      <th>InternetService</th>\n",
              "      <th>OnlineSecurity</th>\n",
              "      <th>OnlineBackup</th>\n",
              "      <th>DeviceProtection</th>\n",
              "      <th>TechSupport</th>\n",
              "      <th>StreamingTV</th>\n",
              "      <th>StreamingMovies</th>\n",
              "      <th>Contract</th>\n",
              "      <th>PaperlessBilling</th>\n",
              "      <th>PaymentMethod</th>\n",
              "      <th>MonthlyCharges</th>\n",
              "      <th>TotalCharges</th>\n",
              "    </tr>\n",
              "  </thead>\n",
              "  <tbody>\n",
              "    <tr>\n",
              "      <th>0</th>\n",
              "      <td>5027</td>\n",
              "      <td>Male</td>\n",
              "      <td>0</td>\n",
              "      <td>Yes</td>\n",
              "      <td>Yes</td>\n",
              "      <td>23.0</td>\n",
              "      <td>Yes</td>\n",
              "      <td>No</td>\n",
              "      <td>No</td>\n",
              "      <td>No internet service</td>\n",
              "      <td>No internet service</td>\n",
              "      <td>No internet service</td>\n",
              "      <td>No internet service</td>\n",
              "      <td>No internet service</td>\n",
              "      <td>No internet service</td>\n",
              "      <td>One year</td>\n",
              "      <td>Yes</td>\n",
              "      <td>Credit card (automatic)</td>\n",
              "      <td>20.00</td>\n",
              "      <td>445.3</td>\n",
              "    </tr>\n",
              "    <tr>\n",
              "      <th>1</th>\n",
              "      <td>1733</td>\n",
              "      <td>Male</td>\n",
              "      <td>1</td>\n",
              "      <td>Yes</td>\n",
              "      <td>Yes</td>\n",
              "      <td>61.0</td>\n",
              "      <td>Yes</td>\n",
              "      <td>Yes</td>\n",
              "      <td>Fiber optic</td>\n",
              "      <td>No</td>\n",
              "      <td>Yes</td>\n",
              "      <td>No</td>\n",
              "      <td>No</td>\n",
              "      <td>Yes</td>\n",
              "      <td>Yes</td>\n",
              "      <td>One year</td>\n",
              "      <td>No</td>\n",
              "      <td>NaN</td>\n",
              "      <td>99.00</td>\n",
              "      <td>5969.3</td>\n",
              "    </tr>\n",
              "    <tr>\n",
              "      <th>2</th>\n",
              "      <td>5384</td>\n",
              "      <td>Male</td>\n",
              "      <td>0</td>\n",
              "      <td>No</td>\n",
              "      <td>No</td>\n",
              "      <td>36.0</td>\n",
              "      <td>Yes</td>\n",
              "      <td>Yes</td>\n",
              "      <td>Fiber optic</td>\n",
              "      <td>No</td>\n",
              "      <td>No</td>\n",
              "      <td>No</td>\n",
              "      <td>No</td>\n",
              "      <td>No</td>\n",
              "      <td>Yes</td>\n",
              "      <td>Month-to-month</td>\n",
              "      <td>Yes</td>\n",
              "      <td>Electronic check</td>\n",
              "      <td>84.75</td>\n",
              "      <td>3050.15</td>\n",
              "    </tr>\n",
              "    <tr>\n",
              "      <th>3</th>\n",
              "      <td>6554</td>\n",
              "      <td>Female</td>\n",
              "      <td>0</td>\n",
              "      <td>Yes</td>\n",
              "      <td>Yes</td>\n",
              "      <td>61.0</td>\n",
              "      <td>No</td>\n",
              "      <td>No phone service</td>\n",
              "      <td>DSL</td>\n",
              "      <td>No</td>\n",
              "      <td>Yes</td>\n",
              "      <td>Yes</td>\n",
              "      <td>Yes</td>\n",
              "      <td>Yes</td>\n",
              "      <td>Yes</td>\n",
              "      <td>Two year</td>\n",
              "      <td>Yes</td>\n",
              "      <td>Bank transfer (automatic)</td>\n",
              "      <td>61.45</td>\n",
              "      <td>3751.15</td>\n",
              "    </tr>\n",
              "    <tr>\n",
              "      <th>4</th>\n",
              "      <td>364</td>\n",
              "      <td>Female</td>\n",
              "      <td>0</td>\n",
              "      <td>No</td>\n",
              "      <td>No</td>\n",
              "      <td>47.0</td>\n",
              "      <td>Yes</td>\n",
              "      <td>No</td>\n",
              "      <td>No</td>\n",
              "      <td>No internet service</td>\n",
              "      <td>No internet service</td>\n",
              "      <td>No internet service</td>\n",
              "      <td>No internet service</td>\n",
              "      <td>No internet service</td>\n",
              "      <td>No internet service</td>\n",
              "      <td>Two year</td>\n",
              "      <td>Yes</td>\n",
              "      <td>Mailed check</td>\n",
              "      <td>20.55</td>\n",
              "      <td>945.7</td>\n",
              "    </tr>\n",
              "    <tr>\n",
              "      <th>...</th>\n",
              "      <td>...</td>\n",
              "      <td>...</td>\n",
              "      <td>...</td>\n",
              "      <td>...</td>\n",
              "      <td>...</td>\n",
              "      <td>...</td>\n",
              "      <td>...</td>\n",
              "      <td>...</td>\n",
              "      <td>...</td>\n",
              "      <td>...</td>\n",
              "      <td>...</td>\n",
              "      <td>...</td>\n",
              "      <td>...</td>\n",
              "      <td>...</td>\n",
              "      <td>...</td>\n",
              "      <td>...</td>\n",
              "      <td>...</td>\n",
              "      <td>...</td>\n",
              "      <td>...</td>\n",
              "      <td>...</td>\n",
              "    </tr>\n",
              "    <tr>\n",
              "      <th>1404</th>\n",
              "      <td>4897</td>\n",
              "      <td>Male</td>\n",
              "      <td>0</td>\n",
              "      <td>No</td>\n",
              "      <td>NaN</td>\n",
              "      <td>24.0</td>\n",
              "      <td>Yes</td>\n",
              "      <td>No</td>\n",
              "      <td>DSL</td>\n",
              "      <td>No</td>\n",
              "      <td>No</td>\n",
              "      <td>Yes</td>\n",
              "      <td>No</td>\n",
              "      <td>No</td>\n",
              "      <td>No</td>\n",
              "      <td>Month-to-month</td>\n",
              "      <td>Yes</td>\n",
              "      <td>Mailed check</td>\n",
              "      <td>49.70</td>\n",
              "      <td>1167.8</td>\n",
              "    </tr>\n",
              "    <tr>\n",
              "      <th>1405</th>\n",
              "      <td>6940</td>\n",
              "      <td>Male</td>\n",
              "      <td>0</td>\n",
              "      <td>No</td>\n",
              "      <td>No</td>\n",
              "      <td>35.0</td>\n",
              "      <td>Yes</td>\n",
              "      <td>No</td>\n",
              "      <td>Fiber optic</td>\n",
              "      <td>Yes</td>\n",
              "      <td>No</td>\n",
              "      <td>No</td>\n",
              "      <td>Yes</td>\n",
              "      <td>No</td>\n",
              "      <td>Yes</td>\n",
              "      <td>One year</td>\n",
              "      <td>Yes</td>\n",
              "      <td>Electronic check</td>\n",
              "      <td>89.20</td>\n",
              "      <td>3251.3</td>\n",
              "    </tr>\n",
              "    <tr>\n",
              "      <th>1406</th>\n",
              "      <td>804</td>\n",
              "      <td>Female</td>\n",
              "      <td>0</td>\n",
              "      <td>Yes</td>\n",
              "      <td>No</td>\n",
              "      <td>46.0</td>\n",
              "      <td>Yes</td>\n",
              "      <td>No</td>\n",
              "      <td>DSL</td>\n",
              "      <td>No</td>\n",
              "      <td>Yes</td>\n",
              "      <td>No</td>\n",
              "      <td>Yes</td>\n",
              "      <td>Yes</td>\n",
              "      <td>No</td>\n",
              "      <td>Two year</td>\n",
              "      <td>Yes</td>\n",
              "      <td>Credit card (automatic)</td>\n",
              "      <td>64.20</td>\n",
              "      <td>3009.5</td>\n",
              "    </tr>\n",
              "    <tr>\n",
              "      <th>1407</th>\n",
              "      <td>1143</td>\n",
              "      <td>Male</td>\n",
              "      <td>1</td>\n",
              "      <td>Yes</td>\n",
              "      <td>Yes</td>\n",
              "      <td>11.0</td>\n",
              "      <td>Yes</td>\n",
              "      <td>Yes</td>\n",
              "      <td>Fiber optic</td>\n",
              "      <td>No</td>\n",
              "      <td>No</td>\n",
              "      <td>No</td>\n",
              "      <td>No</td>\n",
              "      <td>No</td>\n",
              "      <td>No</td>\n",
              "      <td>Month-to-month</td>\n",
              "      <td>Yes</td>\n",
              "      <td>Credit card (automatic)</td>\n",
              "      <td>75.20</td>\n",
              "      <td>775.3</td>\n",
              "    </tr>\n",
              "    <tr>\n",
              "      <th>1408</th>\n",
              "      <td>5773</td>\n",
              "      <td>Male</td>\n",
              "      <td>0</td>\n",
              "      <td>Yes</td>\n",
              "      <td>Yes</td>\n",
              "      <td>69.0</td>\n",
              "      <td>Yes</td>\n",
              "      <td>Yes</td>\n",
              "      <td>DSL</td>\n",
              "      <td>No</td>\n",
              "      <td>Yes</td>\n",
              "      <td>Yes</td>\n",
              "      <td>Yes</td>\n",
              "      <td>Yes</td>\n",
              "      <td>Yes</td>\n",
              "      <td>Two year</td>\n",
              "      <td>Yes</td>\n",
              "      <td>Bank transfer (automatic)</td>\n",
              "      <td>81.95</td>\n",
              "      <td>5601.4</td>\n",
              "    </tr>\n",
              "  </tbody>\n",
              "</table>\n",
              "<p>1409 rows × 20 columns</p>\n",
              "</div>"
            ],
            "text/plain": [
              "        id  gender  SeniorCitizen Partner Dependents  tenure PhoneService  \\\n",
              "0     5027    Male              0     Yes        Yes    23.0          Yes   \n",
              "1     1733    Male              1     Yes        Yes    61.0          Yes   \n",
              "2     5384    Male              0      No         No    36.0          Yes   \n",
              "3     6554  Female              0     Yes        Yes    61.0           No   \n",
              "4      364  Female              0      No         No    47.0          Yes   \n",
              "...    ...     ...            ...     ...        ...     ...          ...   \n",
              "1404  4897    Male              0      No        NaN    24.0          Yes   \n",
              "1405  6940    Male              0      No         No    35.0          Yes   \n",
              "1406   804  Female              0     Yes         No    46.0          Yes   \n",
              "1407  1143    Male              1     Yes        Yes    11.0          Yes   \n",
              "1408  5773    Male              0     Yes        Yes    69.0          Yes   \n",
              "\n",
              "         MultipleLines InternetService       OnlineSecurity  \\\n",
              "0                   No              No  No internet service   \n",
              "1                  Yes     Fiber optic                   No   \n",
              "2                  Yes     Fiber optic                   No   \n",
              "3     No phone service             DSL                   No   \n",
              "4                   No              No  No internet service   \n",
              "...                ...             ...                  ...   \n",
              "1404                No             DSL                   No   \n",
              "1405                No     Fiber optic                  Yes   \n",
              "1406                No             DSL                   No   \n",
              "1407               Yes     Fiber optic                   No   \n",
              "1408               Yes             DSL                   No   \n",
              "\n",
              "             OnlineBackup     DeviceProtection          TechSupport  \\\n",
              "0     No internet service  No internet service  No internet service   \n",
              "1                     Yes                   No                   No   \n",
              "2                      No                   No                   No   \n",
              "3                     Yes                  Yes                  Yes   \n",
              "4     No internet service  No internet service  No internet service   \n",
              "...                   ...                  ...                  ...   \n",
              "1404                   No                  Yes                   No   \n",
              "1405                   No                   No                  Yes   \n",
              "1406                  Yes                   No                  Yes   \n",
              "1407                   No                   No                   No   \n",
              "1408                  Yes                  Yes                  Yes   \n",
              "\n",
              "              StreamingTV      StreamingMovies        Contract  \\\n",
              "0     No internet service  No internet service        One year   \n",
              "1                     Yes                  Yes        One year   \n",
              "2                      No                  Yes  Month-to-month   \n",
              "3                     Yes                  Yes        Two year   \n",
              "4     No internet service  No internet service        Two year   \n",
              "...                   ...                  ...             ...   \n",
              "1404                   No                   No  Month-to-month   \n",
              "1405                   No                  Yes        One year   \n",
              "1406                  Yes                   No        Two year   \n",
              "1407                   No                   No  Month-to-month   \n",
              "1408                  Yes                  Yes        Two year   \n",
              "\n",
              "     PaperlessBilling              PaymentMethod  MonthlyCharges TotalCharges  \n",
              "0                 Yes    Credit card (automatic)           20.00        445.3  \n",
              "1                  No                        NaN           99.00       5969.3  \n",
              "2                 Yes           Electronic check           84.75      3050.15  \n",
              "3                 Yes  Bank transfer (automatic)           61.45      3751.15  \n",
              "4                 Yes               Mailed check           20.55        945.7  \n",
              "...               ...                        ...             ...          ...  \n",
              "1404              Yes               Mailed check           49.70       1167.8  \n",
              "1405              Yes           Electronic check           89.20       3251.3  \n",
              "1406              Yes    Credit card (automatic)           64.20       3009.5  \n",
              "1407              Yes    Credit card (automatic)           75.20        775.3  \n",
              "1408              Yes  Bank transfer (automatic)           81.95       5601.4  \n",
              "\n",
              "[1409 rows x 20 columns]"
            ]
          },
          "metadata": {
            "tags": []
          },
          "execution_count": 48
        }
      ]
    },
    {
      "cell_type": "code",
      "metadata": {
        "id": "eSEFwxkHaIlS",
        "outputId": "211850b5-d851-4735-ac5b-5fa6b3fa355b",
        "colab": {
          "base_uri": "https://localhost:8080/",
          "height": 292
        }
      },
      "source": [
        "#Normalizar as colunas\n",
        "df_churn_test.columns = [col.lower() for col in df_churn_test.columns]\n",
        "df_churn_test.head()"
      ],
      "execution_count": 49,
      "outputs": [
        {
          "output_type": "execute_result",
          "data": {
            "text/html": [
              "<div>\n",
              "<style scoped>\n",
              "    .dataframe tbody tr th:only-of-type {\n",
              "        vertical-align: middle;\n",
              "    }\n",
              "\n",
              "    .dataframe tbody tr th {\n",
              "        vertical-align: top;\n",
              "    }\n",
              "\n",
              "    .dataframe thead th {\n",
              "        text-align: right;\n",
              "    }\n",
              "</style>\n",
              "<table border=\"1\" class=\"dataframe\">\n",
              "  <thead>\n",
              "    <tr style=\"text-align: right;\">\n",
              "      <th></th>\n",
              "      <th>id</th>\n",
              "      <th>gender</th>\n",
              "      <th>seniorcitizen</th>\n",
              "      <th>partner</th>\n",
              "      <th>dependents</th>\n",
              "      <th>tenure</th>\n",
              "      <th>phoneservice</th>\n",
              "      <th>multiplelines</th>\n",
              "      <th>internetservice</th>\n",
              "      <th>onlinesecurity</th>\n",
              "      <th>onlinebackup</th>\n",
              "      <th>deviceprotection</th>\n",
              "      <th>techsupport</th>\n",
              "      <th>streamingtv</th>\n",
              "      <th>streamingmovies</th>\n",
              "      <th>contract</th>\n",
              "      <th>paperlessbilling</th>\n",
              "      <th>paymentmethod</th>\n",
              "      <th>monthlycharges</th>\n",
              "      <th>totalcharges</th>\n",
              "    </tr>\n",
              "  </thead>\n",
              "  <tbody>\n",
              "    <tr>\n",
              "      <th>0</th>\n",
              "      <td>5027</td>\n",
              "      <td>Male</td>\n",
              "      <td>0</td>\n",
              "      <td>Yes</td>\n",
              "      <td>Yes</td>\n",
              "      <td>23.0</td>\n",
              "      <td>Yes</td>\n",
              "      <td>No</td>\n",
              "      <td>No</td>\n",
              "      <td>No internet service</td>\n",
              "      <td>No internet service</td>\n",
              "      <td>No internet service</td>\n",
              "      <td>No internet service</td>\n",
              "      <td>No internet service</td>\n",
              "      <td>No internet service</td>\n",
              "      <td>One year</td>\n",
              "      <td>Yes</td>\n",
              "      <td>Credit card (automatic)</td>\n",
              "      <td>20.00</td>\n",
              "      <td>445.3</td>\n",
              "    </tr>\n",
              "    <tr>\n",
              "      <th>1</th>\n",
              "      <td>1733</td>\n",
              "      <td>Male</td>\n",
              "      <td>1</td>\n",
              "      <td>Yes</td>\n",
              "      <td>Yes</td>\n",
              "      <td>61.0</td>\n",
              "      <td>Yes</td>\n",
              "      <td>Yes</td>\n",
              "      <td>Fiber optic</td>\n",
              "      <td>No</td>\n",
              "      <td>Yes</td>\n",
              "      <td>No</td>\n",
              "      <td>No</td>\n",
              "      <td>Yes</td>\n",
              "      <td>Yes</td>\n",
              "      <td>One year</td>\n",
              "      <td>No</td>\n",
              "      <td>NaN</td>\n",
              "      <td>99.00</td>\n",
              "      <td>5969.3</td>\n",
              "    </tr>\n",
              "    <tr>\n",
              "      <th>2</th>\n",
              "      <td>5384</td>\n",
              "      <td>Male</td>\n",
              "      <td>0</td>\n",
              "      <td>No</td>\n",
              "      <td>No</td>\n",
              "      <td>36.0</td>\n",
              "      <td>Yes</td>\n",
              "      <td>Yes</td>\n",
              "      <td>Fiber optic</td>\n",
              "      <td>No</td>\n",
              "      <td>No</td>\n",
              "      <td>No</td>\n",
              "      <td>No</td>\n",
              "      <td>No</td>\n",
              "      <td>Yes</td>\n",
              "      <td>Month-to-month</td>\n",
              "      <td>Yes</td>\n",
              "      <td>Electronic check</td>\n",
              "      <td>84.75</td>\n",
              "      <td>3050.15</td>\n",
              "    </tr>\n",
              "    <tr>\n",
              "      <th>3</th>\n",
              "      <td>6554</td>\n",
              "      <td>Female</td>\n",
              "      <td>0</td>\n",
              "      <td>Yes</td>\n",
              "      <td>Yes</td>\n",
              "      <td>61.0</td>\n",
              "      <td>No</td>\n",
              "      <td>No phone service</td>\n",
              "      <td>DSL</td>\n",
              "      <td>No</td>\n",
              "      <td>Yes</td>\n",
              "      <td>Yes</td>\n",
              "      <td>Yes</td>\n",
              "      <td>Yes</td>\n",
              "      <td>Yes</td>\n",
              "      <td>Two year</td>\n",
              "      <td>Yes</td>\n",
              "      <td>Bank transfer (automatic)</td>\n",
              "      <td>61.45</td>\n",
              "      <td>3751.15</td>\n",
              "    </tr>\n",
              "    <tr>\n",
              "      <th>4</th>\n",
              "      <td>364</td>\n",
              "      <td>Female</td>\n",
              "      <td>0</td>\n",
              "      <td>No</td>\n",
              "      <td>No</td>\n",
              "      <td>47.0</td>\n",
              "      <td>Yes</td>\n",
              "      <td>No</td>\n",
              "      <td>No</td>\n",
              "      <td>No internet service</td>\n",
              "      <td>No internet service</td>\n",
              "      <td>No internet service</td>\n",
              "      <td>No internet service</td>\n",
              "      <td>No internet service</td>\n",
              "      <td>No internet service</td>\n",
              "      <td>Two year</td>\n",
              "      <td>Yes</td>\n",
              "      <td>Mailed check</td>\n",
              "      <td>20.55</td>\n",
              "      <td>945.7</td>\n",
              "    </tr>\n",
              "  </tbody>\n",
              "</table>\n",
              "</div>"
            ],
            "text/plain": [
              "     id  gender  seniorcitizen partner dependents  tenure phoneservice  \\\n",
              "0  5027    Male              0     Yes        Yes    23.0          Yes   \n",
              "1  1733    Male              1     Yes        Yes    61.0          Yes   \n",
              "2  5384    Male              0      No         No    36.0          Yes   \n",
              "3  6554  Female              0     Yes        Yes    61.0           No   \n",
              "4   364  Female              0      No         No    47.0          Yes   \n",
              "\n",
              "      multiplelines internetservice       onlinesecurity         onlinebackup  \\\n",
              "0                No              No  No internet service  No internet service   \n",
              "1               Yes     Fiber optic                   No                  Yes   \n",
              "2               Yes     Fiber optic                   No                   No   \n",
              "3  No phone service             DSL                   No                  Yes   \n",
              "4                No              No  No internet service  No internet service   \n",
              "\n",
              "      deviceprotection          techsupport          streamingtv  \\\n",
              "0  No internet service  No internet service  No internet service   \n",
              "1                   No                   No                  Yes   \n",
              "2                   No                   No                   No   \n",
              "3                  Yes                  Yes                  Yes   \n",
              "4  No internet service  No internet service  No internet service   \n",
              "\n",
              "       streamingmovies        contract paperlessbilling  \\\n",
              "0  No internet service        One year              Yes   \n",
              "1                  Yes        One year               No   \n",
              "2                  Yes  Month-to-month              Yes   \n",
              "3                  Yes        Two year              Yes   \n",
              "4  No internet service        Two year              Yes   \n",
              "\n",
              "               paymentmethod  monthlycharges totalcharges  \n",
              "0    Credit card (automatic)           20.00        445.3  \n",
              "1                        NaN           99.00       5969.3  \n",
              "2           Electronic check           84.75      3050.15  \n",
              "3  Bank transfer (automatic)           61.45      3751.15  \n",
              "4               Mailed check           20.55        945.7  "
            ]
          },
          "metadata": {
            "tags": []
          },
          "execution_count": 49
        }
      ]
    },
    {
      "cell_type": "code",
      "metadata": {
        "id": "Ajv8ruPSa6XK",
        "outputId": "5bf829f6-c321-4946-d7ce-7965bad1d07c",
        "colab": {
          "base_uri": "https://localhost:8080/"
        }
      },
      "source": [
        "df_churn_test.dtypes"
      ],
      "execution_count": 50,
      "outputs": [
        {
          "output_type": "execute_result",
          "data": {
            "text/plain": [
              "id                    int64\n",
              "gender               object\n",
              "seniorcitizen         int64\n",
              "partner              object\n",
              "dependents           object\n",
              "tenure              float64\n",
              "phoneservice         object\n",
              "multiplelines        object\n",
              "internetservice      object\n",
              "onlinesecurity       object\n",
              "onlinebackup         object\n",
              "deviceprotection     object\n",
              "techsupport          object\n",
              "streamingtv          object\n",
              "streamingmovies      object\n",
              "contract             object\n",
              "paperlessbilling     object\n",
              "paymentmethod        object\n",
              "monthlycharges      float64\n",
              "totalcharges         object\n",
              "dtype: object"
            ]
          },
          "metadata": {
            "tags": []
          },
          "execution_count": 50
        }
      ]
    },
    {
      "cell_type": "code",
      "metadata": {
        "id": "Lp6_xBFea6d8",
        "outputId": "5ead1bbc-5e34-490c-d444-8cf7627d35b5",
        "colab": {
          "base_uri": "https://localhost:8080/"
        }
      },
      "source": [
        "df_churn_test.shape"
      ],
      "execution_count": 51,
      "outputs": [
        {
          "output_type": "execute_result",
          "data": {
            "text/plain": [
              "(1409, 20)"
            ]
          },
          "metadata": {
            "tags": []
          },
          "execution_count": 51
        }
      ]
    },
    {
      "cell_type": "code",
      "metadata": {
        "id": "GNY0OKNk9i9G",
        "outputId": "ffa96197-14fb-4c77-d969-3d3d777959e0",
        "colab": {
          "base_uri": "https://localhost:8080/",
          "height": 292
        }
      },
      "source": [
        "#dropando 'id\n",
        "df_churn_test.drop(columns=['id'], inplace=True)\n",
        "df_churn_test.head()"
      ],
      "execution_count": 52,
      "outputs": [
        {
          "output_type": "execute_result",
          "data": {
            "text/html": [
              "<div>\n",
              "<style scoped>\n",
              "    .dataframe tbody tr th:only-of-type {\n",
              "        vertical-align: middle;\n",
              "    }\n",
              "\n",
              "    .dataframe tbody tr th {\n",
              "        vertical-align: top;\n",
              "    }\n",
              "\n",
              "    .dataframe thead th {\n",
              "        text-align: right;\n",
              "    }\n",
              "</style>\n",
              "<table border=\"1\" class=\"dataframe\">\n",
              "  <thead>\n",
              "    <tr style=\"text-align: right;\">\n",
              "      <th></th>\n",
              "      <th>gender</th>\n",
              "      <th>seniorcitizen</th>\n",
              "      <th>partner</th>\n",
              "      <th>dependents</th>\n",
              "      <th>tenure</th>\n",
              "      <th>phoneservice</th>\n",
              "      <th>multiplelines</th>\n",
              "      <th>internetservice</th>\n",
              "      <th>onlinesecurity</th>\n",
              "      <th>onlinebackup</th>\n",
              "      <th>deviceprotection</th>\n",
              "      <th>techsupport</th>\n",
              "      <th>streamingtv</th>\n",
              "      <th>streamingmovies</th>\n",
              "      <th>contract</th>\n",
              "      <th>paperlessbilling</th>\n",
              "      <th>paymentmethod</th>\n",
              "      <th>monthlycharges</th>\n",
              "      <th>totalcharges</th>\n",
              "    </tr>\n",
              "  </thead>\n",
              "  <tbody>\n",
              "    <tr>\n",
              "      <th>0</th>\n",
              "      <td>Male</td>\n",
              "      <td>0</td>\n",
              "      <td>Yes</td>\n",
              "      <td>Yes</td>\n",
              "      <td>23.0</td>\n",
              "      <td>Yes</td>\n",
              "      <td>No</td>\n",
              "      <td>No</td>\n",
              "      <td>No internet service</td>\n",
              "      <td>No internet service</td>\n",
              "      <td>No internet service</td>\n",
              "      <td>No internet service</td>\n",
              "      <td>No internet service</td>\n",
              "      <td>No internet service</td>\n",
              "      <td>One year</td>\n",
              "      <td>Yes</td>\n",
              "      <td>Credit card (automatic)</td>\n",
              "      <td>20.00</td>\n",
              "      <td>445.3</td>\n",
              "    </tr>\n",
              "    <tr>\n",
              "      <th>1</th>\n",
              "      <td>Male</td>\n",
              "      <td>1</td>\n",
              "      <td>Yes</td>\n",
              "      <td>Yes</td>\n",
              "      <td>61.0</td>\n",
              "      <td>Yes</td>\n",
              "      <td>Yes</td>\n",
              "      <td>Fiber optic</td>\n",
              "      <td>No</td>\n",
              "      <td>Yes</td>\n",
              "      <td>No</td>\n",
              "      <td>No</td>\n",
              "      <td>Yes</td>\n",
              "      <td>Yes</td>\n",
              "      <td>One year</td>\n",
              "      <td>No</td>\n",
              "      <td>NaN</td>\n",
              "      <td>99.00</td>\n",
              "      <td>5969.3</td>\n",
              "    </tr>\n",
              "    <tr>\n",
              "      <th>2</th>\n",
              "      <td>Male</td>\n",
              "      <td>0</td>\n",
              "      <td>No</td>\n",
              "      <td>No</td>\n",
              "      <td>36.0</td>\n",
              "      <td>Yes</td>\n",
              "      <td>Yes</td>\n",
              "      <td>Fiber optic</td>\n",
              "      <td>No</td>\n",
              "      <td>No</td>\n",
              "      <td>No</td>\n",
              "      <td>No</td>\n",
              "      <td>No</td>\n",
              "      <td>Yes</td>\n",
              "      <td>Month-to-month</td>\n",
              "      <td>Yes</td>\n",
              "      <td>Electronic check</td>\n",
              "      <td>84.75</td>\n",
              "      <td>3050.15</td>\n",
              "    </tr>\n",
              "    <tr>\n",
              "      <th>3</th>\n",
              "      <td>Female</td>\n",
              "      <td>0</td>\n",
              "      <td>Yes</td>\n",
              "      <td>Yes</td>\n",
              "      <td>61.0</td>\n",
              "      <td>No</td>\n",
              "      <td>No phone service</td>\n",
              "      <td>DSL</td>\n",
              "      <td>No</td>\n",
              "      <td>Yes</td>\n",
              "      <td>Yes</td>\n",
              "      <td>Yes</td>\n",
              "      <td>Yes</td>\n",
              "      <td>Yes</td>\n",
              "      <td>Two year</td>\n",
              "      <td>Yes</td>\n",
              "      <td>Bank transfer (automatic)</td>\n",
              "      <td>61.45</td>\n",
              "      <td>3751.15</td>\n",
              "    </tr>\n",
              "    <tr>\n",
              "      <th>4</th>\n",
              "      <td>Female</td>\n",
              "      <td>0</td>\n",
              "      <td>No</td>\n",
              "      <td>No</td>\n",
              "      <td>47.0</td>\n",
              "      <td>Yes</td>\n",
              "      <td>No</td>\n",
              "      <td>No</td>\n",
              "      <td>No internet service</td>\n",
              "      <td>No internet service</td>\n",
              "      <td>No internet service</td>\n",
              "      <td>No internet service</td>\n",
              "      <td>No internet service</td>\n",
              "      <td>No internet service</td>\n",
              "      <td>Two year</td>\n",
              "      <td>Yes</td>\n",
              "      <td>Mailed check</td>\n",
              "      <td>20.55</td>\n",
              "      <td>945.7</td>\n",
              "    </tr>\n",
              "  </tbody>\n",
              "</table>\n",
              "</div>"
            ],
            "text/plain": [
              "   gender  seniorcitizen partner dependents  tenure phoneservice  \\\n",
              "0    Male              0     Yes        Yes    23.0          Yes   \n",
              "1    Male              1     Yes        Yes    61.0          Yes   \n",
              "2    Male              0      No         No    36.0          Yes   \n",
              "3  Female              0     Yes        Yes    61.0           No   \n",
              "4  Female              0      No         No    47.0          Yes   \n",
              "\n",
              "      multiplelines internetservice       onlinesecurity         onlinebackup  \\\n",
              "0                No              No  No internet service  No internet service   \n",
              "1               Yes     Fiber optic                   No                  Yes   \n",
              "2               Yes     Fiber optic                   No                   No   \n",
              "3  No phone service             DSL                   No                  Yes   \n",
              "4                No              No  No internet service  No internet service   \n",
              "\n",
              "      deviceprotection          techsupport          streamingtv  \\\n",
              "0  No internet service  No internet service  No internet service   \n",
              "1                   No                   No                  Yes   \n",
              "2                   No                   No                   No   \n",
              "3                  Yes                  Yes                  Yes   \n",
              "4  No internet service  No internet service  No internet service   \n",
              "\n",
              "       streamingmovies        contract paperlessbilling  \\\n",
              "0  No internet service        One year              Yes   \n",
              "1                  Yes        One year               No   \n",
              "2                  Yes  Month-to-month              Yes   \n",
              "3                  Yes        Two year              Yes   \n",
              "4  No internet service        Two year              Yes   \n",
              "\n",
              "               paymentmethod  monthlycharges totalcharges  \n",
              "0    Credit card (automatic)           20.00        445.3  \n",
              "1                        NaN           99.00       5969.3  \n",
              "2           Electronic check           84.75      3050.15  \n",
              "3  Bank transfer (automatic)           61.45      3751.15  \n",
              "4               Mailed check           20.55        945.7  "
            ]
          },
          "metadata": {
            "tags": []
          },
          "execution_count": 52
        }
      ]
    },
    {
      "cell_type": "code",
      "metadata": {
        "id": "_6bjA8tFa6ko",
        "outputId": "f5577613-822c-4829-9c7e-27a02400d4e8",
        "colab": {
          "base_uri": "https://localhost:8080/"
        }
      },
      "source": [
        "df_churn_test.isna().sum()"
      ],
      "execution_count": 53,
      "outputs": [
        {
          "output_type": "execute_result",
          "data": {
            "text/plain": [
              "gender                0\n",
              "seniorcitizen         0\n",
              "partner               0\n",
              "dependents           41\n",
              "tenure              118\n",
              "phoneservice          0\n",
              "multiplelines         0\n",
              "internetservice       0\n",
              "onlinesecurity        0\n",
              "onlinebackup          0\n",
              "deviceprotection      0\n",
              "techsupport           0\n",
              "streamingtv           0\n",
              "streamingmovies       0\n",
              "contract              0\n",
              "paperlessbilling      0\n",
              "paymentmethod        30\n",
              "monthlycharges        0\n",
              "totalcharges          0\n",
              "dtype: int64"
            ]
          },
          "metadata": {
            "tags": []
          },
          "execution_count": 53
        }
      ]
    },
    {
      "cell_type": "code",
      "metadata": {
        "id": "PuILZ_QL94kB",
        "outputId": "4031a70c-b789-4698-a76e-29dccd32f556",
        "colab": {
          "base_uri": "https://localhost:8080/"
        }
      },
      "source": [
        "coluna_test = df_churn_test.columns\n",
        "coluna_test"
      ],
      "execution_count": 54,
      "outputs": [
        {
          "output_type": "execute_result",
          "data": {
            "text/plain": [
              "Index(['gender', 'seniorcitizen', 'partner', 'dependents', 'tenure',\n",
              "       'phoneservice', 'multiplelines', 'internetservice', 'onlinesecurity',\n",
              "       'onlinebackup', 'deviceprotection', 'techsupport', 'streamingtv',\n",
              "       'streamingmovies', 'contract', 'paperlessbilling', 'paymentmethod',\n",
              "       'monthlycharges', 'totalcharges'],\n",
              "      dtype='object')"
            ]
          },
          "metadata": {
            "tags": []
          },
          "execution_count": 54
        }
      ]
    },
    {
      "cell_type": "code",
      "metadata": {
        "id": "V6zNRD9v9TEk",
        "outputId": "131892b0-1d10-4187-f29c-711d7d7dfe54",
        "colab": {
          "base_uri": "https://localhost:8080/"
        }
      },
      "source": [
        "#vendo e contando os elementos de cada coluna\n",
        "for i in coluna_test:\n",
        "    print(df_churn_test[i].value_counts())"
      ],
      "execution_count": 55,
      "outputs": [
        {
          "output_type": "stream",
          "text": [
            "Male      706\n",
            "Female    703\n",
            "Name: gender, dtype: int64\n",
            "0    1161\n",
            "1     248\n",
            "Name: seniorcitizen, dtype: int64\n",
            "No     739\n",
            "Yes    670\n",
            "Name: partner, dtype: int64\n",
            "No     953\n",
            "Yes    415\n",
            "Name: dependents, dtype: int64\n",
            "1.0     122\n",
            "72.0     68\n",
            "2.0      50\n",
            "3.0      35\n",
            "4.0      32\n",
            "71.0     29\n",
            "12.0     25\n",
            "9.0      24\n",
            "67.0     23\n",
            "5.0      23\n",
            "66.0     23\n",
            "13.0     23\n",
            "70.0     22\n",
            "7.0      21\n",
            "10.0     21\n",
            "35.0     19\n",
            "18.0     19\n",
            "8.0      19\n",
            "64.0     19\n",
            "11.0     18\n",
            "68.0     18\n",
            "61.0     18\n",
            "24.0     18\n",
            "65.0     17\n",
            "58.0     17\n",
            "48.0     16\n",
            "20.0     16\n",
            "46.0     16\n",
            "22.0     16\n",
            "16.0     15\n",
            "26.0     15\n",
            "57.0     15\n",
            "34.0     15\n",
            "23.0     15\n",
            "15.0     15\n",
            "53.0     15\n",
            "19.0     14\n",
            "40.0     14\n",
            "56.0     14\n",
            "50.0     14\n",
            "6.0      14\n",
            "59.0     14\n",
            "33.0     14\n",
            "31.0     14\n",
            "42.0     13\n",
            "21.0     13\n",
            "60.0     13\n",
            "49.0     13\n",
            "29.0     13\n",
            "39.0     12\n",
            "25.0     12\n",
            "69.0     12\n",
            "51.0     12\n",
            "27.0     12\n",
            "14.0     12\n",
            "30.0     11\n",
            "62.0     11\n",
            "17.0     11\n",
            "32.0     11\n",
            "37.0     10\n",
            "55.0     10\n",
            "45.0      9\n",
            "52.0      9\n",
            "47.0      9\n",
            "36.0      9\n",
            "41.0      9\n",
            "54.0      8\n",
            "63.0      7\n",
            "43.0      7\n",
            "44.0      6\n",
            "28.0      5\n",
            "38.0      5\n",
            "0.0       3\n",
            "Name: tenure, dtype: int64\n",
            "Yes    1279\n",
            "No      130\n",
            "Name: phoneservice, dtype: int64\n",
            "No                  698\n",
            "Yes                 581\n",
            "No phone service    130\n",
            "Name: multiplelines, dtype: int64\n",
            "Fiber optic    645\n",
            "DSL            462\n",
            "No             302\n",
            "Name: internetservice, dtype: int64\n",
            "No                     735\n",
            "Yes                    372\n",
            "No internet service    302\n",
            "Name: onlinesecurity, dtype: int64\n",
            "No                     600\n",
            "Yes                    507\n",
            "No internet service    302\n",
            "Name: onlinebackup, dtype: int64\n",
            "No                     615\n",
            "Yes                    492\n",
            "No internet service    302\n",
            "Name: deviceprotection, dtype: int64\n",
            "No                     680\n",
            "Yes                    427\n",
            "No internet service    302\n",
            "Name: techsupport, dtype: int64\n",
            "No                     570\n",
            "Yes                    537\n",
            "No internet service    302\n",
            "Name: streamingtv, dtype: int64\n",
            "No                     567\n",
            "Yes                    540\n",
            "No internet service    302\n",
            "Name: streamingmovies, dtype: int64\n",
            "Month-to-month    791\n",
            "Two year          337\n",
            "One year          281\n",
            "Name: contract, dtype: int64\n",
            "Yes    859\n",
            "No     550\n",
            "Name: paperlessbilling, dtype: int64\n",
            "Electronic check             430\n",
            "Credit card (automatic)      329\n",
            "Mailed check                 313\n",
            "Bank transfer (automatic)    307\n",
            "Name: paymentmethod, dtype: int64\n",
            "20.05     13\n",
            "19.60     13\n",
            "20.00     12\n",
            "19.95     12\n",
            "20.15     10\n",
            "          ..\n",
            "104.30     1\n",
            "75.65      1\n",
            "55.35      1\n",
            "81.80      1\n",
            "67.20      1\n",
            "Name: monthlycharges, Length: 788, dtype: int64\n",
            "19.75      3\n",
            "20.2       3\n",
            "           3\n",
            "2317.1     2\n",
            "24.8       2\n",
            "          ..\n",
            "3431.75    1\n",
            "1281       1\n",
            "51.15      1\n",
            "1461.15    1\n",
            "987.95     1\n",
            "Name: totalcharges, Length: 1377, dtype: int64\n"
          ],
          "name": "stdout"
        }
      ]
    },
    {
      "cell_type": "code",
      "metadata": {
        "id": "hy5jBWUs9TI2"
      },
      "source": [
        ""
      ],
      "execution_count": null,
      "outputs": []
    },
    {
      "cell_type": "markdown",
      "metadata": {
        "id": "zsL_EuWC_e9P"
      },
      "source": [
        "###dependents"
      ]
    },
    {
      "cell_type": "code",
      "metadata": {
        "id": "8ee-ZY529TNJ",
        "outputId": "a55b07a9-9356-4087-9b97-5428e51cd499",
        "colab": {
          "base_uri": "https://localhost:8080/"
        }
      },
      "source": [
        "df_churn_test['dependents'].isna().sum()"
      ],
      "execution_count": 56,
      "outputs": [
        {
          "output_type": "execute_result",
          "data": {
            "text/plain": [
              "41"
            ]
          },
          "metadata": {
            "tags": []
          },
          "execution_count": 56
        }
      ]
    },
    {
      "cell_type": "code",
      "metadata": {
        "id": "8zXau4_I_02P",
        "outputId": "1607b745-38f9-4943-8f2d-285ff1a36b64",
        "colab": {
          "base_uri": "https://localhost:8080/"
        }
      },
      "source": [
        "df_churn_test['dependents'].value_counts()"
      ],
      "execution_count": 57,
      "outputs": [
        {
          "output_type": "execute_result",
          "data": {
            "text/plain": [
              "No     953\n",
              "Yes    415\n",
              "Name: dependents, dtype: int64"
            ]
          },
          "metadata": {
            "tags": []
          },
          "execution_count": 57
        }
      ]
    },
    {
      "cell_type": "code",
      "metadata": {
        "id": "8yHo2934_1C5"
      },
      "source": [
        "df_churn_test['dependents'].fillna('No', inplace=True)"
      ],
      "execution_count": 58,
      "outputs": []
    },
    {
      "cell_type": "code",
      "metadata": {
        "id": "K08X4dSN_1Ao",
        "outputId": "3112ed4a-6c77-43cd-fbab-eedff184e5ca",
        "colab": {
          "base_uri": "https://localhost:8080/"
        }
      },
      "source": [
        "df_churn_test['dependents'].isna().sum()"
      ],
      "execution_count": 59,
      "outputs": [
        {
          "output_type": "execute_result",
          "data": {
            "text/plain": [
              "0"
            ]
          },
          "metadata": {
            "tags": []
          },
          "execution_count": 59
        }
      ]
    },
    {
      "cell_type": "markdown",
      "metadata": {
        "id": "9VIdg4FSAOFr"
      },
      "source": [
        "###trata o pay"
      ]
    },
    {
      "cell_type": "code",
      "metadata": {
        "id": "sbkfsuCx_0-X",
        "outputId": "9cd77733-db8b-4586-acfa-fb41c15bcbfc",
        "colab": {
          "base_uri": "https://localhost:8080/"
        }
      },
      "source": [
        "df_churn_test['paymentmethod'].value_counts()"
      ],
      "execution_count": 60,
      "outputs": [
        {
          "output_type": "execute_result",
          "data": {
            "text/plain": [
              "Electronic check             430\n",
              "Credit card (automatic)      329\n",
              "Mailed check                 313\n",
              "Bank transfer (automatic)    307\n",
              "Name: paymentmethod, dtype: int64"
            ]
          },
          "metadata": {
            "tags": []
          },
          "execution_count": 60
        }
      ]
    },
    {
      "cell_type": "code",
      "metadata": {
        "id": "RBF_Z5oH_07F",
        "outputId": "9d6e45b6-c793-43b1-9944-b093998f0c1e",
        "colab": {
          "base_uri": "https://localhost:8080/"
        }
      },
      "source": [
        "df_churn_test['paymentmethod'].isna().sum()"
      ],
      "execution_count": 61,
      "outputs": [
        {
          "output_type": "execute_result",
          "data": {
            "text/plain": [
              "30"
            ]
          },
          "metadata": {
            "tags": []
          },
          "execution_count": 61
        }
      ]
    },
    {
      "cell_type": "code",
      "metadata": {
        "id": "69anJdfnAwTj"
      },
      "source": [
        "df_churn_test['paymentmethod'].fillna('Electronic check', inplace=True)"
      ],
      "execution_count": 62,
      "outputs": []
    },
    {
      "cell_type": "code",
      "metadata": {
        "id": "URJdhsoHAwbZ",
        "outputId": "459f772e-8fb6-4b19-b777-478b9038ffc3",
        "colab": {
          "base_uri": "https://localhost:8080/"
        }
      },
      "source": [
        "df_churn_test['paymentmethod'].isna().sum()"
      ],
      "execution_count": 63,
      "outputs": [
        {
          "output_type": "execute_result",
          "data": {
            "text/plain": [
              "0"
            ]
          },
          "metadata": {
            "tags": []
          },
          "execution_count": 63
        }
      ]
    },
    {
      "cell_type": "markdown",
      "metadata": {
        "id": "jdcPPfLCBmn-"
      },
      "source": [
        "##tenure"
      ]
    },
    {
      "cell_type": "code",
      "metadata": {
        "id": "to7RPbNBAwf0",
        "outputId": "0e0927cb-fa19-45a9-eb89-ebc9318a7b0e",
        "colab": {
          "base_uri": "https://localhost:8080/"
        }
      },
      "source": [
        "df_churn_test[['tenure']].isna().sum()"
      ],
      "execution_count": 64,
      "outputs": [
        {
          "output_type": "execute_result",
          "data": {
            "text/plain": [
              "tenure    118\n",
              "dtype: int64"
            ]
          },
          "metadata": {
            "tags": []
          },
          "execution_count": 64
        }
      ]
    },
    {
      "cell_type": "code",
      "metadata": {
        "id": "aeCqGUjsAwZl",
        "outputId": "d66590de-40a8-4729-e381-1cefce3c8e21",
        "colab": {
          "base_uri": "https://localhost:8080/",
          "height": 297
        }
      },
      "source": [
        "df_churn_test[['tenure']].describe()"
      ],
      "execution_count": 65,
      "outputs": [
        {
          "output_type": "execute_result",
          "data": {
            "text/html": [
              "<div>\n",
              "<style scoped>\n",
              "    .dataframe tbody tr th:only-of-type {\n",
              "        vertical-align: middle;\n",
              "    }\n",
              "\n",
              "    .dataframe tbody tr th {\n",
              "        vertical-align: top;\n",
              "    }\n",
              "\n",
              "    .dataframe thead th {\n",
              "        text-align: right;\n",
              "    }\n",
              "</style>\n",
              "<table border=\"1\" class=\"dataframe\">\n",
              "  <thead>\n",
              "    <tr style=\"text-align: right;\">\n",
              "      <th></th>\n",
              "      <th>tenure</th>\n",
              "    </tr>\n",
              "  </thead>\n",
              "  <tbody>\n",
              "    <tr>\n",
              "      <th>count</th>\n",
              "      <td>1291.000000</td>\n",
              "    </tr>\n",
              "    <tr>\n",
              "      <th>mean</th>\n",
              "      <td>32.460883</td>\n",
              "    </tr>\n",
              "    <tr>\n",
              "      <th>std</th>\n",
              "      <td>24.843710</td>\n",
              "    </tr>\n",
              "    <tr>\n",
              "      <th>min</th>\n",
              "      <td>0.000000</td>\n",
              "    </tr>\n",
              "    <tr>\n",
              "      <th>25%</th>\n",
              "      <td>9.000000</td>\n",
              "    </tr>\n",
              "    <tr>\n",
              "      <th>50%</th>\n",
              "      <td>29.000000</td>\n",
              "    </tr>\n",
              "    <tr>\n",
              "      <th>75%</th>\n",
              "      <td>57.000000</td>\n",
              "    </tr>\n",
              "    <tr>\n",
              "      <th>max</th>\n",
              "      <td>72.000000</td>\n",
              "    </tr>\n",
              "  </tbody>\n",
              "</table>\n",
              "</div>"
            ],
            "text/plain": [
              "            tenure\n",
              "count  1291.000000\n",
              "mean     32.460883\n",
              "std      24.843710\n",
              "min       0.000000\n",
              "25%       9.000000\n",
              "50%      29.000000\n",
              "75%      57.000000\n",
              "max      72.000000"
            ]
          },
          "metadata": {
            "tags": []
          },
          "execution_count": 65
        }
      ]
    },
    {
      "cell_type": "code",
      "metadata": {
        "id": "i7k6rINLB09w",
        "outputId": "94775efa-52f1-4ccc-cf4d-d7f529b9cb08",
        "colab": {
          "base_uri": "https://localhost:8080/"
        }
      },
      "source": [
        "df_churn_test['tenure'].mean(), df_churn_test['tenure'].median(), df_churn_test['tenure'].mode()"
      ],
      "execution_count": 66,
      "outputs": [
        {
          "output_type": "execute_result",
          "data": {
            "text/plain": [
              "(32.46088303640589, 29.0, 0    1.0\n",
              " dtype: float64)"
            ]
          },
          "metadata": {
            "tags": []
          },
          "execution_count": 66
        }
      ]
    },
    {
      "cell_type": "code",
      "metadata": {
        "id": "OW1wucpLB1C4"
      },
      "source": [
        "#substituição pela moda = 1.0\n",
        "df_churn_test['tenure'].fillna(1.0, inplace = True)"
      ],
      "execution_count": 67,
      "outputs": []
    },
    {
      "cell_type": "markdown",
      "metadata": {
        "id": "xFXIlHXLCyAF"
      },
      "source": [
        "###totalcharges\n"
      ]
    },
    {
      "cell_type": "code",
      "metadata": {
        "id": "T9KlFoIGB1HB"
      },
      "source": [
        ""
      ],
      "execution_count": null,
      "outputs": []
    },
    {
      "cell_type": "code",
      "metadata": {
        "id": "WObKGQhKaI84"
      },
      "source": [
        "df_churn_test['totalcharges'] = df_churn_test['totalcharges'].str.replace(',', '.')\n",
        "df_churn_test['totalcharges'] = pd.to_numeric(df_churn_test['totalcharges'], errors= 'coerce')"
      ],
      "execution_count": 68,
      "outputs": []
    },
    {
      "cell_type": "code",
      "metadata": {
        "id": "CmvxOdD2c02G",
        "outputId": "e42e5f16-a3e8-4fd0-b8f0-f54d7e4539e6",
        "colab": {
          "base_uri": "https://localhost:8080/"
        }
      },
      "source": [
        "df_churn_test[['totalcharges']].isna().sum()"
      ],
      "execution_count": 69,
      "outputs": [
        {
          "output_type": "execute_result",
          "data": {
            "text/plain": [
              "totalcharges    3\n",
              "dtype: int64"
            ]
          },
          "metadata": {
            "tags": []
          },
          "execution_count": 69
        }
      ]
    },
    {
      "cell_type": "code",
      "metadata": {
        "id": "rqR4rRTnc1Bm",
        "outputId": "bab2966b-2538-49ae-f336-52f41254baf9",
        "colab": {
          "base_uri": "https://localhost:8080/"
        }
      },
      "source": [
        "l_index_charg = list(df_churn_test[df_churn_test['totalcharges'].isna()].index)\n",
        "l_index_charg"
      ],
      "execution_count": 70,
      "outputs": [
        {
          "output_type": "execute_result",
          "data": {
            "text/plain": [
              "[313, 1063, 1297]"
            ]
          },
          "metadata": {
            "tags": []
          },
          "execution_count": 70
        }
      ]
    },
    {
      "cell_type": "code",
      "metadata": {
        "id": "owuvLpOxc1OJ",
        "outputId": "774f0c9b-baec-4ca5-a28f-d5128d154892",
        "colab": {
          "base_uri": "https://localhost:8080/"
        }
      },
      "source": [
        "df_churn_test['totalcharges'].mode()"
      ],
      "execution_count": 71,
      "outputs": [
        {
          "output_type": "execute_result",
          "data": {
            "text/plain": [
              "0    19.75\n",
              "1    20.20\n",
              "dtype: float64"
            ]
          },
          "metadata": {
            "tags": []
          },
          "execution_count": 71
        }
      ]
    },
    {
      "cell_type": "code",
      "metadata": {
        "id": "k5Ueqndmc1K5"
      },
      "source": [
        "#df_churn_test['monthlycharges'][313]\n",
        "for i in l_index_charg:\n",
        "    df_churn_test['totalcharges'][i] =20.20\n"
      ],
      "execution_count": 72,
      "outputs": []
    },
    {
      "cell_type": "code",
      "metadata": {
        "id": "FP-kRqoac1Ii",
        "outputId": "af48aa12-77f8-4853-8a43-522e3105598a",
        "colab": {
          "base_uri": "https://localhost:8080/"
        }
      },
      "source": [
        "df_churn_test.isna().sum()"
      ],
      "execution_count": 74,
      "outputs": [
        {
          "output_type": "execute_result",
          "data": {
            "text/plain": [
              "gender              0\n",
              "seniorcitizen       0\n",
              "partner             0\n",
              "dependents          0\n",
              "tenure              0\n",
              "phoneservice        0\n",
              "multiplelines       0\n",
              "internetservice     0\n",
              "onlinesecurity      0\n",
              "onlinebackup        0\n",
              "deviceprotection    0\n",
              "techsupport         0\n",
              "streamingtv         0\n",
              "streamingmovies     0\n",
              "contract            0\n",
              "paperlessbilling    0\n",
              "paymentmethod       0\n",
              "monthlycharges      0\n",
              "totalcharges        0\n",
              "dtype: int64"
            ]
          },
          "metadata": {
            "tags": []
          },
          "execution_count": 74
        }
      ]
    },
    {
      "cell_type": "code",
      "metadata": {
        "id": "egujnfluc1G8"
      },
      "source": [
        "df_churn_test.gender.replace(['Female', 'Male'], [1, 0], inplace=True)\n",
        "df_churn_test.partner.replace(['Yes', 'No'], [1, 0], inplace=True)\n",
        "df_churn_test.phoneservice.replace(['Yes', 'No'], [1, 0], inplace=True)\n",
        "df_churn_test.paperlessbilling.replace(['Yes', 'No'], [1, 0], inplace=True)\n"
      ],
      "execution_count": 73,
      "outputs": []
    },
    {
      "cell_type": "code",
      "metadata": {
        "id": "p45kj77hc0_b"
      },
      "source": [
        "df_churn_test.internetservice.replace(['Fiber optic', 'DSL', 'No'], [1,2,0], inplace=True)\n",
        "df_churn_test.paymentmethod.replace(['Electronic check', 'Bank transfer (automatic)', 'Mailed check', 'Credit card (automatic)'], [1,2,3,4], inplace=True)\n",
        "df_churn_test.contract.replace(['Two year', 'One year', 'Month-to-month'], [0,1,2], inplace=True)\n",
        "df_churn_test.multiplelines.replace(['No', 'Yes', 'No phone service'], [0,1,3], inplace=True)\n",
        "df_churn_test.onlinesecurity.replace(['No', 'Yes', 'No internet service'], [0,1,2], inplace=True) \n",
        "df_churn_test.onlinebackup.replace(['No', 'Yes', 'No internet service'], [0,1,2], inplace=True)\n",
        "df_churn_test.deviceprotection.replace(['No', 'Yes', 'No internet service'], [0,1,2], inplace=True)\n",
        "df_churn_test.techsupport.replace(['No', 'Yes', 'No internet service'], [0,1,2], inplace=True)\n",
        "df_churn_test.streamingtv.replace(['No', 'Yes', 'No internet service'], [0,1,2], inplace=True)\n",
        "df_churn_test.streamingmovies.replace(['No', 'Yes', 'No internet service'], [0,1,2], inplace=True) \n"
      ],
      "execution_count": 75,
      "outputs": []
    },
    {
      "cell_type": "code",
      "metadata": {
        "id": "No4FSDmwc08M",
        "outputId": "e720ea34-a50f-4a54-e36b-9b810b69f1bb",
        "colab": {
          "base_uri": "https://localhost:8080/",
          "height": 224
        }
      },
      "source": [
        "df_churn_test.head()"
      ],
      "execution_count": 76,
      "outputs": [
        {
          "output_type": "execute_result",
          "data": {
            "text/html": [
              "<div>\n",
              "<style scoped>\n",
              "    .dataframe tbody tr th:only-of-type {\n",
              "        vertical-align: middle;\n",
              "    }\n",
              "\n",
              "    .dataframe tbody tr th {\n",
              "        vertical-align: top;\n",
              "    }\n",
              "\n",
              "    .dataframe thead th {\n",
              "        text-align: right;\n",
              "    }\n",
              "</style>\n",
              "<table border=\"1\" class=\"dataframe\">\n",
              "  <thead>\n",
              "    <tr style=\"text-align: right;\">\n",
              "      <th></th>\n",
              "      <th>gender</th>\n",
              "      <th>seniorcitizen</th>\n",
              "      <th>partner</th>\n",
              "      <th>dependents</th>\n",
              "      <th>tenure</th>\n",
              "      <th>phoneservice</th>\n",
              "      <th>multiplelines</th>\n",
              "      <th>internetservice</th>\n",
              "      <th>onlinesecurity</th>\n",
              "      <th>onlinebackup</th>\n",
              "      <th>deviceprotection</th>\n",
              "      <th>techsupport</th>\n",
              "      <th>streamingtv</th>\n",
              "      <th>streamingmovies</th>\n",
              "      <th>contract</th>\n",
              "      <th>paperlessbilling</th>\n",
              "      <th>paymentmethod</th>\n",
              "      <th>monthlycharges</th>\n",
              "      <th>totalcharges</th>\n",
              "    </tr>\n",
              "  </thead>\n",
              "  <tbody>\n",
              "    <tr>\n",
              "      <th>0</th>\n",
              "      <td>0</td>\n",
              "      <td>0</td>\n",
              "      <td>1</td>\n",
              "      <td>Yes</td>\n",
              "      <td>23.0</td>\n",
              "      <td>1</td>\n",
              "      <td>0</td>\n",
              "      <td>0</td>\n",
              "      <td>2</td>\n",
              "      <td>2</td>\n",
              "      <td>2</td>\n",
              "      <td>2</td>\n",
              "      <td>2</td>\n",
              "      <td>2</td>\n",
              "      <td>1</td>\n",
              "      <td>1</td>\n",
              "      <td>4</td>\n",
              "      <td>20.00</td>\n",
              "      <td>445.30</td>\n",
              "    </tr>\n",
              "    <tr>\n",
              "      <th>1</th>\n",
              "      <td>0</td>\n",
              "      <td>1</td>\n",
              "      <td>1</td>\n",
              "      <td>Yes</td>\n",
              "      <td>61.0</td>\n",
              "      <td>1</td>\n",
              "      <td>1</td>\n",
              "      <td>1</td>\n",
              "      <td>0</td>\n",
              "      <td>1</td>\n",
              "      <td>0</td>\n",
              "      <td>0</td>\n",
              "      <td>1</td>\n",
              "      <td>1</td>\n",
              "      <td>1</td>\n",
              "      <td>0</td>\n",
              "      <td>1</td>\n",
              "      <td>99.00</td>\n",
              "      <td>5969.30</td>\n",
              "    </tr>\n",
              "    <tr>\n",
              "      <th>2</th>\n",
              "      <td>0</td>\n",
              "      <td>0</td>\n",
              "      <td>0</td>\n",
              "      <td>No</td>\n",
              "      <td>36.0</td>\n",
              "      <td>1</td>\n",
              "      <td>1</td>\n",
              "      <td>1</td>\n",
              "      <td>0</td>\n",
              "      <td>0</td>\n",
              "      <td>0</td>\n",
              "      <td>0</td>\n",
              "      <td>0</td>\n",
              "      <td>1</td>\n",
              "      <td>2</td>\n",
              "      <td>1</td>\n",
              "      <td>1</td>\n",
              "      <td>84.75</td>\n",
              "      <td>3050.15</td>\n",
              "    </tr>\n",
              "    <tr>\n",
              "      <th>3</th>\n",
              "      <td>1</td>\n",
              "      <td>0</td>\n",
              "      <td>1</td>\n",
              "      <td>Yes</td>\n",
              "      <td>61.0</td>\n",
              "      <td>0</td>\n",
              "      <td>3</td>\n",
              "      <td>2</td>\n",
              "      <td>0</td>\n",
              "      <td>1</td>\n",
              "      <td>1</td>\n",
              "      <td>1</td>\n",
              "      <td>1</td>\n",
              "      <td>1</td>\n",
              "      <td>0</td>\n",
              "      <td>1</td>\n",
              "      <td>2</td>\n",
              "      <td>61.45</td>\n",
              "      <td>3751.15</td>\n",
              "    </tr>\n",
              "    <tr>\n",
              "      <th>4</th>\n",
              "      <td>1</td>\n",
              "      <td>0</td>\n",
              "      <td>0</td>\n",
              "      <td>No</td>\n",
              "      <td>47.0</td>\n",
              "      <td>1</td>\n",
              "      <td>0</td>\n",
              "      <td>0</td>\n",
              "      <td>2</td>\n",
              "      <td>2</td>\n",
              "      <td>2</td>\n",
              "      <td>2</td>\n",
              "      <td>2</td>\n",
              "      <td>2</td>\n",
              "      <td>0</td>\n",
              "      <td>1</td>\n",
              "      <td>3</td>\n",
              "      <td>20.55</td>\n",
              "      <td>945.70</td>\n",
              "    </tr>\n",
              "  </tbody>\n",
              "</table>\n",
              "</div>"
            ],
            "text/plain": [
              "   gender  seniorcitizen  partner dependents  tenure  phoneservice  \\\n",
              "0       0              0        1        Yes    23.0             1   \n",
              "1       0              1        1        Yes    61.0             1   \n",
              "2       0              0        0         No    36.0             1   \n",
              "3       1              0        1        Yes    61.0             0   \n",
              "4       1              0        0         No    47.0             1   \n",
              "\n",
              "   multiplelines  internetservice  onlinesecurity  onlinebackup  \\\n",
              "0              0                0               2             2   \n",
              "1              1                1               0             1   \n",
              "2              1                1               0             0   \n",
              "3              3                2               0             1   \n",
              "4              0                0               2             2   \n",
              "\n",
              "   deviceprotection  techsupport  streamingtv  streamingmovies  contract  \\\n",
              "0                 2            2            2                2         1   \n",
              "1                 0            0            1                1         1   \n",
              "2                 0            0            0                1         2   \n",
              "3                 1            1            1                1         0   \n",
              "4                 2            2            2                2         0   \n",
              "\n",
              "   paperlessbilling  paymentmethod  monthlycharges  totalcharges  \n",
              "0                 1              4           20.00        445.30  \n",
              "1                 0              1           99.00       5969.30  \n",
              "2                 1              1           84.75       3050.15  \n",
              "3                 1              2           61.45       3751.15  \n",
              "4                 1              3           20.55        945.70  "
            ]
          },
          "metadata": {
            "tags": []
          },
          "execution_count": 76
        }
      ]
    },
    {
      "cell_type": "code",
      "metadata": {
        "id": "zxq2JRkdc058"
      },
      "source": [
        "df_churn_test.dependents.replace(['Yes', 'No'], [1, 0], inplace=True)"
      ],
      "execution_count": 77,
      "outputs": []
    },
    {
      "cell_type": "code",
      "metadata": {
        "id": "J6RcKTJXdg7w",
        "outputId": "08ab6f31-0b61-4cbd-f43d-596f290b9578",
        "colab": {
          "base_uri": "https://localhost:8080/",
          "height": 224
        }
      },
      "source": [
        "df_churn_test.head()"
      ],
      "execution_count": 78,
      "outputs": [
        {
          "output_type": "execute_result",
          "data": {
            "text/html": [
              "<div>\n",
              "<style scoped>\n",
              "    .dataframe tbody tr th:only-of-type {\n",
              "        vertical-align: middle;\n",
              "    }\n",
              "\n",
              "    .dataframe tbody tr th {\n",
              "        vertical-align: top;\n",
              "    }\n",
              "\n",
              "    .dataframe thead th {\n",
              "        text-align: right;\n",
              "    }\n",
              "</style>\n",
              "<table border=\"1\" class=\"dataframe\">\n",
              "  <thead>\n",
              "    <tr style=\"text-align: right;\">\n",
              "      <th></th>\n",
              "      <th>gender</th>\n",
              "      <th>seniorcitizen</th>\n",
              "      <th>partner</th>\n",
              "      <th>dependents</th>\n",
              "      <th>tenure</th>\n",
              "      <th>phoneservice</th>\n",
              "      <th>multiplelines</th>\n",
              "      <th>internetservice</th>\n",
              "      <th>onlinesecurity</th>\n",
              "      <th>onlinebackup</th>\n",
              "      <th>deviceprotection</th>\n",
              "      <th>techsupport</th>\n",
              "      <th>streamingtv</th>\n",
              "      <th>streamingmovies</th>\n",
              "      <th>contract</th>\n",
              "      <th>paperlessbilling</th>\n",
              "      <th>paymentmethod</th>\n",
              "      <th>monthlycharges</th>\n",
              "      <th>totalcharges</th>\n",
              "    </tr>\n",
              "  </thead>\n",
              "  <tbody>\n",
              "    <tr>\n",
              "      <th>0</th>\n",
              "      <td>0</td>\n",
              "      <td>0</td>\n",
              "      <td>1</td>\n",
              "      <td>1</td>\n",
              "      <td>23.0</td>\n",
              "      <td>1</td>\n",
              "      <td>0</td>\n",
              "      <td>0</td>\n",
              "      <td>2</td>\n",
              "      <td>2</td>\n",
              "      <td>2</td>\n",
              "      <td>2</td>\n",
              "      <td>2</td>\n",
              "      <td>2</td>\n",
              "      <td>1</td>\n",
              "      <td>1</td>\n",
              "      <td>4</td>\n",
              "      <td>20.00</td>\n",
              "      <td>445.30</td>\n",
              "    </tr>\n",
              "    <tr>\n",
              "      <th>1</th>\n",
              "      <td>0</td>\n",
              "      <td>1</td>\n",
              "      <td>1</td>\n",
              "      <td>1</td>\n",
              "      <td>61.0</td>\n",
              "      <td>1</td>\n",
              "      <td>1</td>\n",
              "      <td>1</td>\n",
              "      <td>0</td>\n",
              "      <td>1</td>\n",
              "      <td>0</td>\n",
              "      <td>0</td>\n",
              "      <td>1</td>\n",
              "      <td>1</td>\n",
              "      <td>1</td>\n",
              "      <td>0</td>\n",
              "      <td>1</td>\n",
              "      <td>99.00</td>\n",
              "      <td>5969.30</td>\n",
              "    </tr>\n",
              "    <tr>\n",
              "      <th>2</th>\n",
              "      <td>0</td>\n",
              "      <td>0</td>\n",
              "      <td>0</td>\n",
              "      <td>0</td>\n",
              "      <td>36.0</td>\n",
              "      <td>1</td>\n",
              "      <td>1</td>\n",
              "      <td>1</td>\n",
              "      <td>0</td>\n",
              "      <td>0</td>\n",
              "      <td>0</td>\n",
              "      <td>0</td>\n",
              "      <td>0</td>\n",
              "      <td>1</td>\n",
              "      <td>2</td>\n",
              "      <td>1</td>\n",
              "      <td>1</td>\n",
              "      <td>84.75</td>\n",
              "      <td>3050.15</td>\n",
              "    </tr>\n",
              "    <tr>\n",
              "      <th>3</th>\n",
              "      <td>1</td>\n",
              "      <td>0</td>\n",
              "      <td>1</td>\n",
              "      <td>1</td>\n",
              "      <td>61.0</td>\n",
              "      <td>0</td>\n",
              "      <td>3</td>\n",
              "      <td>2</td>\n",
              "      <td>0</td>\n",
              "      <td>1</td>\n",
              "      <td>1</td>\n",
              "      <td>1</td>\n",
              "      <td>1</td>\n",
              "      <td>1</td>\n",
              "      <td>0</td>\n",
              "      <td>1</td>\n",
              "      <td>2</td>\n",
              "      <td>61.45</td>\n",
              "      <td>3751.15</td>\n",
              "    </tr>\n",
              "    <tr>\n",
              "      <th>4</th>\n",
              "      <td>1</td>\n",
              "      <td>0</td>\n",
              "      <td>0</td>\n",
              "      <td>0</td>\n",
              "      <td>47.0</td>\n",
              "      <td>1</td>\n",
              "      <td>0</td>\n",
              "      <td>0</td>\n",
              "      <td>2</td>\n",
              "      <td>2</td>\n",
              "      <td>2</td>\n",
              "      <td>2</td>\n",
              "      <td>2</td>\n",
              "      <td>2</td>\n",
              "      <td>0</td>\n",
              "      <td>1</td>\n",
              "      <td>3</td>\n",
              "      <td>20.55</td>\n",
              "      <td>945.70</td>\n",
              "    </tr>\n",
              "  </tbody>\n",
              "</table>\n",
              "</div>"
            ],
            "text/plain": [
              "   gender  seniorcitizen  partner  dependents  tenure  phoneservice  \\\n",
              "0       0              0        1           1    23.0             1   \n",
              "1       0              1        1           1    61.0             1   \n",
              "2       0              0        0           0    36.0             1   \n",
              "3       1              0        1           1    61.0             0   \n",
              "4       1              0        0           0    47.0             1   \n",
              "\n",
              "   multiplelines  internetservice  onlinesecurity  onlinebackup  \\\n",
              "0              0                0               2             2   \n",
              "1              1                1               0             1   \n",
              "2              1                1               0             0   \n",
              "3              3                2               0             1   \n",
              "4              0                0               2             2   \n",
              "\n",
              "   deviceprotection  techsupport  streamingtv  streamingmovies  contract  \\\n",
              "0                 2            2            2                2         1   \n",
              "1                 0            0            1                1         1   \n",
              "2                 0            0            0                1         2   \n",
              "3                 1            1            1                1         0   \n",
              "4                 2            2            2                2         0   \n",
              "\n",
              "   paperlessbilling  paymentmethod  monthlycharges  totalcharges  \n",
              "0                 1              4           20.00        445.30  \n",
              "1                 0              1           99.00       5969.30  \n",
              "2                 1              1           84.75       3050.15  \n",
              "3                 1              2           61.45       3751.15  \n",
              "4                 1              3           20.55        945.70  "
            ]
          },
          "metadata": {
            "tags": []
          },
          "execution_count": 78
        }
      ]
    },
    {
      "cell_type": "code",
      "metadata": {
        "id": "AfrgT3HrdgtA",
        "outputId": "4c99c446-c43a-4657-e2ec-9de445269a2c",
        "colab": {
          "base_uri": "https://localhost:8080/"
        }
      },
      "source": [
        "df_churn_test.isna().sum()"
      ],
      "execution_count": 79,
      "outputs": [
        {
          "output_type": "execute_result",
          "data": {
            "text/plain": [
              "gender              0\n",
              "seniorcitizen       0\n",
              "partner             0\n",
              "dependents          0\n",
              "tenure              0\n",
              "phoneservice        0\n",
              "multiplelines       0\n",
              "internetservice     0\n",
              "onlinesecurity      0\n",
              "onlinebackup        0\n",
              "deviceprotection    0\n",
              "techsupport         0\n",
              "streamingtv         0\n",
              "streamingmovies     0\n",
              "contract            0\n",
              "paperlessbilling    0\n",
              "paymentmethod       0\n",
              "monthlycharges      0\n",
              "totalcharges        0\n",
              "dtype: int64"
            ]
          },
          "metadata": {
            "tags": []
          },
          "execution_count": 79
        }
      ]
    },
    {
      "cell_type": "code",
      "metadata": {
        "id": "-BAb3JP_dgqJ"
      },
      "source": [
        ""
      ],
      "execution_count": null,
      "outputs": []
    },
    {
      "cell_type": "code",
      "metadata": {
        "id": "4gMhUo8CMr2T"
      },
      "source": [
        ""
      ],
      "execution_count": null,
      "outputs": []
    },
    {
      "cell_type": "markdown",
      "metadata": {
        "id": "TOQe2-MxNJ-z"
      },
      "source": [
        "###aplicando o MinMaxScaler"
      ]
    },
    {
      "cell_type": "code",
      "metadata": {
        "id": "42f4jMd_Mr7a",
        "outputId": "0b99b1f9-ebbd-469e-c56a-aa5f52d38645",
        "colab": {
          "base_uri": "https://localhost:8080/",
          "height": 500
        }
      },
      "source": [
        "df_churn_train.plot(kind = 'kde', figsize=(12,8))"
      ],
      "execution_count": 80,
      "outputs": [
        {
          "output_type": "execute_result",
          "data": {
            "text/plain": [
              "<matplotlib.axes._subplots.AxesSubplot at 0x7f300c543f60>"
            ]
          },
          "metadata": {
            "tags": []
          },
          "execution_count": 80
        },
        {
          "output_type": "display_data",
          "data": {
            "image/png": "[encoded data removed]",
            "text/plain": [
              "<Figure size 864x576 with 1 Axes>"
            ]
          },
          "metadata": {
            "tags": [],
            "needs_background": "light"
          }
        }
      ]
    },
    {
      "cell_type": "code",
      "metadata": {
        "id": "RSUVfu4DOVgG",
        "outputId": "53e37c61-bb74-47bc-a514-031fd5241446",
        "colab": {
          "base_uri": "https://localhost:8080/"
        }
      },
      "source": [
        "df_churn_train.columns"
      ],
      "execution_count": 81,
      "outputs": [
        {
          "output_type": "execute_result",
          "data": {
            "text/plain": [
              "Index(['gender', 'seniorcitizen', 'partner', 'dependents', 'tenure',\n",
              "       'phoneservice', 'multiplelines', 'internetservice', 'onlinesecurity',\n",
              "       'onlinebackup', 'deviceprotection', 'techsupport', 'streamingtv',\n",
              "       'streamingmovies', 'contract', 'paperlessbilling', 'paymentmethod',\n",
              "       'monthlycharges', 'totalcharges', 'churn'],\n",
              "      dtype='object')"
            ]
          },
          "metadata": {
            "tags": []
          },
          "execution_count": 81
        }
      ]
    },
    {
      "cell_type": "code",
      "metadata": {
        "id": "lqK_SKblNOz2",
        "outputId": "e108662e-e938-4d71-e899-00d5847f09d0",
        "colab": {
          "base_uri": "https://localhost:8080/",
          "height": 500
        }
      },
      "source": [
        "treino_MinMaxScaler = MinMaxScaler().fit_transform(df_churn_train)\n",
        "df_treino_MinMaxScaler = pd.DataFrame(treino_MinMaxScaler, columns= ['gender', 'seniorcitizen', 'partner', 'dependents', 'tenure',\n",
        "       'phoneservice', 'multiplelines', 'internetservice', 'onlinesecurity',\n",
        "       'onlinebackup', 'deviceprotection', 'techsupport', 'streamingtv',\n",
        "       'streamingmovies', 'contract', 'paperlessbilling', 'paymentmethod',\n",
        "       'monthlycharges', 'totalcharges', 'churn'])\n",
        "df_treino_MinMaxScaler.plot(kind = 'kde', figsize=(12,8))"
      ],
      "execution_count": 82,
      "outputs": [
        {
          "output_type": "execute_result",
          "data": {
            "text/plain": [
              "<matplotlib.axes._subplots.AxesSubplot at 0x7f300c543cf8>"
            ]
          },
          "metadata": {
            "tags": []
          },
          "execution_count": 82
        },
        {
          "output_type": "display_data",
          "data": {
            "image/png": "[encoded data removed]",
            "text/plain": [
              "<Figure size 864x576 with 1 Axes>"
            ]
          },
          "metadata": {
            "tags": [],
            "needs_background": "light"
          }
        }
      ]
    },
    {
      "cell_type": "code",
      "metadata": {
        "id": "hBPzER56NO3h"
      },
      "source": [
        ""
      ],
      "execution_count": null,
      "outputs": []
    },
    {
      "cell_type": "code",
      "metadata": {
        "id": "bjshdFf_PA7C",
        "outputId": "67fed6d5-126d-41dc-8f2c-c1ef43a7f1bb",
        "colab": {
          "base_uri": "https://localhost:8080/",
          "height": 500
        }
      },
      "source": [
        "df_churn_test.plot(kind = 'kde', figsize=(12,8))"
      ],
      "execution_count": 83,
      "outputs": [
        {
          "output_type": "execute_result",
          "data": {
            "text/plain": [
              "<matplotlib.axes._subplots.AxesSubplot at 0x7f300c36eda0>"
            ]
          },
          "metadata": {
            "tags": []
          },
          "execution_count": 83
        },
        {
          "output_type": "display_data",
          "data": {
            "image/png": "[encoded data removed]",
            "text/plain": [
              "<Figure size 864x576 with 1 Axes>"
            ]
          },
          "metadata": {
            "tags": [],
            "needs_background": "light"
          }
        }
      ]
    },
    {
      "cell_type": "code",
      "metadata": {
        "id": "f2S0bY3yPA_c",
        "outputId": "bbcc707a-9d46-412d-b04b-b9060e5d533e",
        "colab": {
          "base_uri": "https://localhost:8080/"
        }
      },
      "source": [
        "df_churn_test.columns"
      ],
      "execution_count": 84,
      "outputs": [
        {
          "output_type": "execute_result",
          "data": {
            "text/plain": [
              "Index(['gender', 'seniorcitizen', 'partner', 'dependents', 'tenure',\n",
              "       'phoneservice', 'multiplelines', 'internetservice', 'onlinesecurity',\n",
              "       'onlinebackup', 'deviceprotection', 'techsupport', 'streamingtv',\n",
              "       'streamingmovies', 'contract', 'paperlessbilling', 'paymentmethod',\n",
              "       'monthlycharges', 'totalcharges'],\n",
              "      dtype='object')"
            ]
          },
          "metadata": {
            "tags": []
          },
          "execution_count": 84
        }
      ]
    },
    {
      "cell_type": "code",
      "metadata": {
        "id": "1B0SA_v-c0y9",
        "outputId": "c5273e10-28ac-4e47-ae8f-1e9bca4fe761",
        "colab": {
          "base_uri": "https://localhost:8080/",
          "height": 500
        }
      },
      "source": [
        "test_MinMaxScaler = MinMaxScaler().fit_transform(df_churn_test)\n",
        "df_test_MinMaxScaler = pd.DataFrame(test_MinMaxScaler, columns= ['gender', 'seniorcitizen', 'partner', 'dependents', 'tenure',\n",
        "       'phoneservice', 'multiplelines', 'internetservice', 'onlinesecurity',\n",
        "       'onlinebackup', 'deviceprotection', 'techsupport', 'streamingtv',\n",
        "       'streamingmovies', 'contract', 'paperlessbilling', 'paymentmethod',\n",
        "       'monthlycharges', 'totalcharges'])\n",
        "df_test_MinMaxScaler.plot(kind = 'kde', figsize=(12,8))"
      ],
      "execution_count": 85,
      "outputs": [
        {
          "output_type": "execute_result",
          "data": {
            "text/plain": [
              "<matplotlib.axes._subplots.AxesSubplot at 0x7f300aa3f898>"
            ]
          },
          "metadata": {
            "tags": []
          },
          "execution_count": 85
        },
        {
          "output_type": "display_data",
          "data": {
            "image/png": "[encoded data removed]",
            "text/plain": [
              "<Figure size 864x576 with 1 Axes>"
            ]
          },
          "metadata": {
            "tags": [],
            "needs_background": "light"
          }
        }
      ]
    },
    {
      "cell_type": "code",
      "metadata": {
        "id": "FNwziC5paI6m"
      },
      "source": [
        ""
      ],
      "execution_count": null,
      "outputs": []
    },
    {
      "cell_type": "code",
      "metadata": {
        "id": "Gizh5lYLPpga"
      },
      "source": [
        ""
      ],
      "execution_count": null,
      "outputs": []
    },
    {
      "cell_type": "code",
      "metadata": {
        "id": "1v2Dm8emPpkm"
      },
      "source": [
        ""
      ],
      "execution_count": null,
      "outputs": []
    },
    {
      "cell_type": "markdown",
      "metadata": {
        "id": "rKwZtYYbrnHy"
      },
      "source": [
        "###aplicando o autolml"
      ]
    },
    {
      "cell_type": "code",
      "metadata": {
        "id": "sf9wGRIwLiA_"
      },
      "source": [
        "'''\n",
        "clf = setup(data = df_churn_train,\n",
        "            target = 'churn',\n",
        "            #numeric_features = ['tenure', 'monthlycharges', 'totalcharges'] \n",
        "            #numeric_imputation = 'mean'\n",
        "            categorical_features = ['gender', 'seniorcitizen', 'partner', 'dependents',\n",
        "            'phoneservice', 'multiplelines', 'internetservice', 'onlinesecurity',\n",
        "            'onlinebackup', 'deviceprotection', 'techsupport', 'streamingtv',\n",
        "            'streamingmovies', 'contract', 'paperlessbilling', 'paymentmethod'], # lista das variáveis categóricas\n",
        "            ignore_features = ['id'], \n",
        "            silent = False)'''"
      ],
      "execution_count": null,
      "outputs": []
    },
    {
      "cell_type": "code",
      "metadata": {
        "id": "furBfHxNriDf",
        "outputId": "23d3592b-8b3d-4ffb-d7dc-90cb35475411",
        "colab": {
          "base_uri": "https://localhost:8080/",
          "height": 1000,
          "referenced_widgets": [
            "41ae8ef6fbf74b1295f6ed885ad3f33d",
            "2336ce2073ae41f3980ead81a79bdd9c",
            "7ef557fb01f3419db6f9b43f566306b5",
            "7f011bae75e0445daefd5f4a2281e59b",
            "728581de139f434895990dba8e2cdc27",
            "9be18a52a2ff4f1c99133d94dd7d2844"
          ]
        }
      },
      "source": [
        "clf = setup(data = df_churn_train,\n",
        "            target = 'churn',\n",
        "            #numeric_features = ['tenure', 'monthlycharges', 'totalcharges'] \n",
        "            #numeric_imputation = 'mean'\n",
        "            categorical_features = ['gender', 'seniorcitizen', 'partner', 'dependents',\n",
        "            'phoneservice', 'multiplelines', 'internetservice', 'onlinesecurity',\n",
        "            'onlinebackup', 'deviceprotection', 'techsupport', 'streamingtv',\n",
        "            'streamingmovies', 'contract', 'paperlessbilling', 'paymentmethod'], # lista das variáveis categóricas\n",
        "            ignore_features = [], \n",
        "            silent = False)"
      ],
      "execution_count": 93,
      "outputs": [
        {
          "output_type": "display_data",
          "data": {
            "text/html": [
              "<div>\n",
              "<style scoped>\n",
              "    .dataframe tbody tr th:only-of-type {\n",
              "        vertical-align: middle;\n",
              "    }\n",
              "\n",
              "    .dataframe tbody tr th {\n",
              "        vertical-align: top;\n",
              "    }\n",
              "\n",
              "    .dataframe thead th {\n",
              "        text-align: right;\n",
              "    }\n",
              "</style>\n",
              "<table border=\"1\" class=\"dataframe\">\n",
              "  <thead>\n",
              "    <tr style=\"text-align: right;\">\n",
              "      <th></th>\n",
              "      <th>Description</th>\n",
              "      <th>Value</th>\n",
              "    </tr>\n",
              "  </thead>\n",
              "  <tbody>\n",
              "    <tr>\n",
              "      <th>0</th>\n",
              "      <td>session_id</td>\n",
              "      <td>6402</td>\n",
              "    </tr>\n",
              "    <tr>\n",
              "      <th>1</th>\n",
              "      <td>Target</td>\n",
              "      <td>churn</td>\n",
              "    </tr>\n",
              "    <tr>\n",
              "      <th>2</th>\n",
              "      <td>Target Type</td>\n",
              "      <td>Binary</td>\n",
              "    </tr>\n",
              "    <tr>\n",
              "      <th>3</th>\n",
              "      <td>Label Encoded</td>\n",
              "      <td>0: 0, 1: 1</td>\n",
              "    </tr>\n",
              "    <tr>\n",
              "      <th>4</th>\n",
              "      <td>Original Data</td>\n",
              "      <td>(5634, 20)</td>\n",
              "    </tr>\n",
              "    <tr>\n",
              "      <th>5</th>\n",
              "      <td>Missing Values</td>\n",
              "      <td>False</td>\n",
              "    </tr>\n",
              "    <tr>\n",
              "      <th>6</th>\n",
              "      <td>Numeric Features</td>\n",
              "      <td>3</td>\n",
              "    </tr>\n",
              "    <tr>\n",
              "      <th>7</th>\n",
              "      <td>Categorical Features</td>\n",
              "      <td>16</td>\n",
              "    </tr>\n",
              "    <tr>\n",
              "      <th>8</th>\n",
              "      <td>Ordinal Features</td>\n",
              "      <td>False</td>\n",
              "    </tr>\n",
              "    <tr>\n",
              "      <th>9</th>\n",
              "      <td>High Cardinality Features</td>\n",
              "      <td>False</td>\n",
              "    </tr>\n",
              "    <tr>\n",
              "      <th>10</th>\n",
              "      <td>High Cardinality Method</td>\n",
              "      <td>None</td>\n",
              "    </tr>\n",
              "    <tr>\n",
              "      <th>11</th>\n",
              "      <td>Transformed Train Set</td>\n",
              "      <td>(3943, 33)</td>\n",
              "    </tr>\n",
              "    <tr>\n",
              "      <th>12</th>\n",
              "      <td>Transformed Test Set</td>\n",
              "      <td>(1691, 33)</td>\n",
              "    </tr>\n",
              "    <tr>\n",
              "      <th>13</th>\n",
              "      <td>Shuffle Train-Test</td>\n",
              "      <td>True</td>\n",
              "    </tr>\n",
              "    <tr>\n",
              "      <th>14</th>\n",
              "      <td>Stratify Train-Test</td>\n",
              "      <td>False</td>\n",
              "    </tr>\n",
              "    <tr>\n",
              "      <th>15</th>\n",
              "      <td>Fold Generator</td>\n",
              "      <td>StratifiedKFold</td>\n",
              "    </tr>\n",
              "    <tr>\n",
              "      <th>16</th>\n",
              "      <td>Fold Number</td>\n",
              "      <td>10</td>\n",
              "    </tr>\n",
              "    <tr>\n",
              "      <th>17</th>\n",
              "      <td>CPU Jobs</td>\n",
              "      <td>-1</td>\n",
              "    </tr>\n",
              "    <tr>\n",
              "      <th>18</th>\n",
              "      <td>Use GPU</td>\n",
              "      <td>False</td>\n",
              "    </tr>\n",
              "    <tr>\n",
              "      <th>19</th>\n",
              "      <td>Log Experiment</td>\n",
              "      <td>False</td>\n",
              "    </tr>\n",
              "    <tr>\n",
              "      <th>20</th>\n",
              "      <td>Experiment Name</td>\n",
              "      <td>clf-default-name</td>\n",
              "    </tr>\n",
              "    <tr>\n",
              "      <th>21</th>\n",
              "      <td>USI</td>\n",
              "      <td>411e</td>\n",
              "    </tr>\n",
              "    <tr>\n",
              "      <th>22</th>\n",
              "      <td>Imputation Type</td>\n",
              "      <td>simple</td>\n",
              "    </tr>\n",
              "    <tr>\n",
              "      <th>23</th>\n",
              "      <td>Iterative Imputation Iteration</td>\n",
              "      <td>None</td>\n",
              "    </tr>\n",
              "    <tr>\n",
              "      <th>24</th>\n",
              "      <td>Numeric Imputer</td>\n",
              "      <td>mean</td>\n",
              "    </tr>\n",
              "    <tr>\n",
              "      <th>25</th>\n",
              "      <td>Iterative Imputation Numeric Model</td>\n",
              "      <td>None</td>\n",
              "    </tr>\n",
              "    <tr>\n",
              "      <th>26</th>\n",
              "      <td>Categorical Imputer</td>\n",
              "      <td>constant</td>\n",
              "    </tr>\n",
              "    <tr>\n",
              "      <th>27</th>\n",
              "      <td>Iterative Imputation Categorical Model</td>\n",
              "      <td>None</td>\n",
              "    </tr>\n",
              "    <tr>\n",
              "      <th>28</th>\n",
              "      <td>Unknown Categoricals Handling</td>\n",
              "      <td>least_frequent</td>\n",
              "    </tr>\n",
              "    <tr>\n",
              "      <th>29</th>\n",
              "      <td>Normalize</td>\n",
              "      <td>False</td>\n",
              "    </tr>\n",
              "    <tr>\n",
              "      <th>30</th>\n",
              "      <td>Normalize Method</td>\n",
              "      <td>None</td>\n",
              "    </tr>\n",
              "    <tr>\n",
              "      <th>31</th>\n",
              "      <td>Transformation</td>\n",
              "      <td>False</td>\n",
              "    </tr>\n",
              "    <tr>\n",
              "      <th>32</th>\n",
              "      <td>Transformation Method</td>\n",
              "      <td>None</td>\n",
              "    </tr>\n",
              "    <tr>\n",
              "      <th>33</th>\n",
              "      <td>PCA</td>\n",
              "      <td>False</td>\n",
              "    </tr>\n",
              "    <tr>\n",
              "      <th>34</th>\n",
              "      <td>PCA Method</td>\n",
              "      <td>None</td>\n",
              "    </tr>\n",
              "    <tr>\n",
              "      <th>35</th>\n",
              "      <td>PCA Components</td>\n",
              "      <td>None</td>\n",
              "    </tr>\n",
              "    <tr>\n",
              "      <th>36</th>\n",
              "      <td>Ignore Low Variance</td>\n",
              "      <td>False</td>\n",
              "    </tr>\n",
              "    <tr>\n",
              "      <th>37</th>\n",
              "      <td>Combine Rare Levels</td>\n",
              "      <td>False</td>\n",
              "    </tr>\n",
              "    <tr>\n",
              "      <th>38</th>\n",
              "      <td>Rare Level Threshold</td>\n",
              "      <td>None</td>\n",
              "    </tr>\n",
              "    <tr>\n",
              "      <th>39</th>\n",
              "      <td>Numeric Binning</td>\n",
              "      <td>False</td>\n",
              "    </tr>\n",
              "    <tr>\n",
              "      <th>40</th>\n",
              "      <td>Remove Outliers</td>\n",
              "      <td>False</td>\n",
              "    </tr>\n",
              "    <tr>\n",
              "      <th>41</th>\n",
              "      <td>Outliers Threshold</td>\n",
              "      <td>None</td>\n",
              "    </tr>\n",
              "    <tr>\n",
              "      <th>42</th>\n",
              "      <td>Remove Multicollinearity</td>\n",
              "      <td>False</td>\n",
              "    </tr>\n",
              "    <tr>\n",
              "      <th>43</th>\n",
              "      <td>Multicollinearity Threshold</td>\n",
              "      <td>None</td>\n",
              "    </tr>\n",
              "    <tr>\n",
              "      <th>44</th>\n",
              "      <td>Clustering</td>\n",
              "      <td>False</td>\n",
              "    </tr>\n",
              "    <tr>\n",
              "      <th>45</th>\n",
              "      <td>Clustering Iteration</td>\n",
              "      <td>None</td>\n",
              "    </tr>\n",
              "    <tr>\n",
              "      <th>46</th>\n",
              "      <td>Polynomial Features</td>\n",
              "      <td>False</td>\n",
              "    </tr>\n",
              "    <tr>\n",
              "      <th>47</th>\n",
              "      <td>Polynomial Degree</td>\n",
              "      <td>None</td>\n",
              "    </tr>\n",
              "    <tr>\n",
              "      <th>48</th>\n",
              "      <td>Trignometry Features</td>\n",
              "      <td>False</td>\n",
              "    </tr>\n",
              "    <tr>\n",
              "      <th>49</th>\n",
              "      <td>Polynomial Threshold</td>\n",
              "      <td>None</td>\n",
              "    </tr>\n",
              "    <tr>\n",
              "      <th>50</th>\n",
              "      <td>Group Features</td>\n",
              "      <td>False</td>\n",
              "    </tr>\n",
              "    <tr>\n",
              "      <th>51</th>\n",
              "      <td>Feature Selection</td>\n",
              "      <td>False</td>\n",
              "    </tr>\n",
              "    <tr>\n",
              "      <th>52</th>\n",
              "      <td>Features Selection Threshold</td>\n",
              "      <td>None</td>\n",
              "    </tr>\n",
              "    <tr>\n",
              "      <th>53</th>\n",
              "      <td>Feature Interaction</td>\n",
              "      <td>False</td>\n",
              "    </tr>\n",
              "    <tr>\n",
              "      <th>54</th>\n",
              "      <td>Feature Ratio</td>\n",
              "      <td>False</td>\n",
              "    </tr>\n",
              "    <tr>\n",
              "      <th>55</th>\n",
              "      <td>Interaction Threshold</td>\n",
              "      <td>None</td>\n",
              "    </tr>\n",
              "    <tr>\n",
              "      <th>56</th>\n",
              "      <td>Fix Imbalance</td>\n",
              "      <td>False</td>\n",
              "    </tr>\n",
              "    <tr>\n",
              "      <th>57</th>\n",
              "      <td>Fix Imbalance Method</td>\n",
              "      <td>SMOTE</td>\n",
              "    </tr>\n",
              "  </tbody>\n",
              "</table>\n",
              "</div>"
            ],
            "text/plain": [
              "                               Description             Value\n",
              "0                               session_id              6402\n",
              "1                                   Target             churn\n",
              "2                              Target Type            Binary\n",
              "3                            Label Encoded        0: 0, 1: 1\n",
              "4                            Original Data        (5634, 20)\n",
              "5                           Missing Values             False\n",
              "6                         Numeric Features                 3\n",
              "7                     Categorical Features                16\n",
              "8                         Ordinal Features             False\n",
              "9                High Cardinality Features             False\n",
              "10                 High Cardinality Method              None\n",
              "11                   Transformed Train Set        (3943, 33)\n",
              "12                    Transformed Test Set        (1691, 33)\n",
              "13                      Shuffle Train-Test              True\n",
              "14                     Stratify Train-Test             False\n",
              "15                          Fold Generator   StratifiedKFold\n",
              "16                             Fold Number                10\n",
              "17                                CPU Jobs                -1\n",
              "18                                 Use GPU             False\n",
              "19                          Log Experiment             False\n",
              "20                         Experiment Name  clf-default-name\n",
              "21                                     USI              411e\n",
              "22                         Imputation Type            simple\n",
              "23          Iterative Imputation Iteration              None\n",
              "24                         Numeric Imputer              mean\n",
              "25      Iterative Imputation Numeric Model              None\n",
              "26                     Categorical Imputer          constant\n",
              "27  Iterative Imputation Categorical Model              None\n",
              "28           Unknown Categoricals Handling    least_frequent\n",
              "29                               Normalize             False\n",
              "30                        Normalize Method              None\n",
              "31                          Transformation             False\n",
              "32                   Transformation Method              None\n",
              "33                                     PCA             False\n",
              "34                              PCA Method              None\n",
              "35                          PCA Components              None\n",
              "36                     Ignore Low Variance             False\n",
              "37                     Combine Rare Levels             False\n",
              "38                    Rare Level Threshold              None\n",
              "39                         Numeric Binning             False\n",
              "40                         Remove Outliers             False\n",
              "41                      Outliers Threshold              None\n",
              "42                Remove Multicollinearity             False\n",
              "43             Multicollinearity Threshold              None\n",
              "44                              Clustering             False\n",
              "45                    Clustering Iteration              None\n",
              "46                     Polynomial Features             False\n",
              "47                       Polynomial Degree              None\n",
              "48                    Trignometry Features             False\n",
              "49                    Polynomial Threshold              None\n",
              "50                          Group Features             False\n",
              "51                       Feature Selection             False\n",
              "52            Features Selection Threshold              None\n",
              "53                     Feature Interaction             False\n",
              "54                           Feature Ratio             False\n",
              "55                   Interaction Threshold              None\n",
              "56                           Fix Imbalance             False\n",
              "57                    Fix Imbalance Method             SMOTE"
            ]
          },
          "metadata": {
            "tags": []
          }
        }
      ]
    },
    {
      "cell_type": "code",
      "metadata": {
        "id": "Irk50e-8riIG",
        "outputId": "312f1224-96d2-4523-dafd-34049459d51e",
        "colab": {
          "base_uri": "https://localhost:8080/",
          "height": 548,
          "referenced_widgets": [
            "3d80e7a1afea4c86adae2fbc1bf444be",
            "9987e84158d44c3abfedd4b75deb61cc",
            "1bafdd4f1ef84540960acd4c097df679"
          ]
        }
      },
      "source": [
        "compare_models()"
      ],
      "execution_count": 94,
      "outputs": [
        {
          "output_type": "display_data",
          "data": {
            "text/html": [
              "<div>\n",
              "<style scoped>\n",
              "    .dataframe tbody tr th:only-of-type {\n",
              "        vertical-align: middle;\n",
              "    }\n",
              "\n",
              "    .dataframe tbody tr th {\n",
              "        vertical-align: top;\n",
              "    }\n",
              "\n",
              "    .dataframe thead th {\n",
              "        text-align: right;\n",
              "    }\n",
              "</style>\n",
              "<table border=\"1\" class=\"dataframe\">\n",
              "  <thead>\n",
              "    <tr style=\"text-align: right;\">\n",
              "      <th></th>\n",
              "      <th>Model</th>\n",
              "      <th>Accuracy</th>\n",
              "      <th>AUC</th>\n",
              "      <th>Recall</th>\n",
              "      <th>Prec.</th>\n",
              "      <th>F1</th>\n",
              "      <th>Kappa</th>\n",
              "      <th>MCC</th>\n",
              "      <th>TT (Sec)</th>\n",
              "    </tr>\n",
              "  </thead>\n",
              "  <tbody>\n",
              "    <tr>\n",
              "      <th>ada</th>\n",
              "      <td>Ada Boost Classifier</td>\n",
              "      <td>0.8123</td>\n",
              "      <td>0.8527</td>\n",
              "      <td>0.7345</td>\n",
              "      <td>0.8055</td>\n",
              "      <td>0.8071</td>\n",
              "      <td>0.4914</td>\n",
              "      <td>0.4947</td>\n",
              "      <td>0.232</td>\n",
              "    </tr>\n",
              "    <tr>\n",
              "      <th>gbc</th>\n",
              "      <td>Gradient Boosting Classifier</td>\n",
              "      <td>0.8116</td>\n",
              "      <td>0.8554</td>\n",
              "      <td>0.7315</td>\n",
              "      <td>0.8045</td>\n",
              "      <td>0.8060</td>\n",
              "      <td>0.4876</td>\n",
              "      <td>0.4915</td>\n",
              "      <td>0.552</td>\n",
              "    </tr>\n",
              "    <tr>\n",
              "      <th>lr</th>\n",
              "      <td>Logistic Regression</td>\n",
              "      <td>0.8103</td>\n",
              "      <td>0.8491</td>\n",
              "      <td>0.7300</td>\n",
              "      <td>0.8032</td>\n",
              "      <td>0.8048</td>\n",
              "      <td>0.4846</td>\n",
              "      <td>0.4883</td>\n",
              "      <td>0.142</td>\n",
              "    </tr>\n",
              "    <tr>\n",
              "      <th>lightgbm</th>\n",
              "      <td>Light Gradient Boosting Machine</td>\n",
              "      <td>0.8098</td>\n",
              "      <td>0.8471</td>\n",
              "      <td>0.7309</td>\n",
              "      <td>0.8026</td>\n",
              "      <td>0.8044</td>\n",
              "      <td>0.4839</td>\n",
              "      <td>0.4871</td>\n",
              "      <td>0.118</td>\n",
              "    </tr>\n",
              "    <tr>\n",
              "      <th>ridge</th>\n",
              "      <td>Ridge Classifier</td>\n",
              "      <td>0.8078</td>\n",
              "      <td>0.0000</td>\n",
              "      <td>0.7196</td>\n",
              "      <td>0.7989</td>\n",
              "      <td>0.8003</td>\n",
              "      <td>0.4696</td>\n",
              "      <td>0.4751</td>\n",
              "      <td>0.020</td>\n",
              "    </tr>\n",
              "    <tr>\n",
              "      <th>catboost</th>\n",
              "      <td>CatBoost Classifier</td>\n",
              "      <td>0.8055</td>\n",
              "      <td>0.8478</td>\n",
              "      <td>0.7233</td>\n",
              "      <td>0.7975</td>\n",
              "      <td>0.7996</td>\n",
              "      <td>0.4703</td>\n",
              "      <td>0.4738</td>\n",
              "      <td>3.586</td>\n",
              "    </tr>\n",
              "    <tr>\n",
              "      <th>lda</th>\n",
              "      <td>Linear Discriminant Analysis</td>\n",
              "      <td>0.8037</td>\n",
              "      <td>0.8451</td>\n",
              "      <td>0.7271</td>\n",
              "      <td>0.7975</td>\n",
              "      <td>0.7994</td>\n",
              "      <td>0.4727</td>\n",
              "      <td>0.4749</td>\n",
              "      <td>0.037</td>\n",
              "    </tr>\n",
              "    <tr>\n",
              "      <th>rf</th>\n",
              "      <td>Random Forest Classifier</td>\n",
              "      <td>0.7989</td>\n",
              "      <td>0.8356</td>\n",
              "      <td>0.7089</td>\n",
              "      <td>0.7889</td>\n",
              "      <td>0.7910</td>\n",
              "      <td>0.4448</td>\n",
              "      <td>0.4499</td>\n",
              "      <td>0.705</td>\n",
              "    </tr>\n",
              "    <tr>\n",
              "      <th>xgboost</th>\n",
              "      <td>Extreme Gradient Boosting</td>\n",
              "      <td>0.7933</td>\n",
              "      <td>0.8344</td>\n",
              "      <td>0.7076</td>\n",
              "      <td>0.7848</td>\n",
              "      <td>0.7870</td>\n",
              "      <td>0.4371</td>\n",
              "      <td>0.4407</td>\n",
              "      <td>0.820</td>\n",
              "    </tr>\n",
              "    <tr>\n",
              "      <th>et</th>\n",
              "      <td>Extra Trees Classifier</td>\n",
              "      <td>0.7826</td>\n",
              "      <td>0.8094</td>\n",
              "      <td>0.6898</td>\n",
              "      <td>0.7719</td>\n",
              "      <td>0.7748</td>\n",
              "      <td>0.4029</td>\n",
              "      <td>0.4071</td>\n",
              "      <td>0.669</td>\n",
              "    </tr>\n",
              "    <tr>\n",
              "      <th>knn</th>\n",
              "      <td>K Neighbors Classifier</td>\n",
              "      <td>0.7608</td>\n",
              "      <td>0.7568</td>\n",
              "      <td>0.6549</td>\n",
              "      <td>0.7457</td>\n",
              "      <td>0.7501</td>\n",
              "      <td>0.3338</td>\n",
              "      <td>0.3387</td>\n",
              "      <td>0.132</td>\n",
              "    </tr>\n",
              "    <tr>\n",
              "      <th>nb</th>\n",
              "      <td>Naive Bayes</td>\n",
              "      <td>0.7487</td>\n",
              "      <td>0.8389</td>\n",
              "      <td>0.7646</td>\n",
              "      <td>0.8068</td>\n",
              "      <td>0.7620</td>\n",
              "      <td>0.4493</td>\n",
              "      <td>0.4745</td>\n",
              "      <td>0.020</td>\n",
              "    </tr>\n",
              "    <tr>\n",
              "      <th>dt</th>\n",
              "      <td>Decision Tree Classifier</td>\n",
              "      <td>0.7380</td>\n",
              "      <td>0.6626</td>\n",
              "      <td>0.6617</td>\n",
              "      <td>0.7382</td>\n",
              "      <td>0.7377</td>\n",
              "      <td>0.3231</td>\n",
              "      <td>0.3236</td>\n",
              "      <td>0.035</td>\n",
              "    </tr>\n",
              "    <tr>\n",
              "      <th>svm</th>\n",
              "      <td>SVM - Linear Kernel</td>\n",
              "      <td>0.6830</td>\n",
              "      <td>0.0000</td>\n",
              "      <td>0.6179</td>\n",
              "      <td>0.7572</td>\n",
              "      <td>0.6495</td>\n",
              "      <td>0.2509</td>\n",
              "      <td>0.2917</td>\n",
              "      <td>0.049</td>\n",
              "    </tr>\n",
              "    <tr>\n",
              "      <th>qda</th>\n",
              "      <td>Quadratic Discriminant Analysis</td>\n",
              "      <td>0.5288</td>\n",
              "      <td>0.6002</td>\n",
              "      <td>0.6002</td>\n",
              "      <td>0.7160</td>\n",
              "      <td>0.5374</td>\n",
              "      <td>0.1431</td>\n",
              "      <td>0.1917</td>\n",
              "      <td>0.025</td>\n",
              "    </tr>\n",
              "  </tbody>\n",
              "</table>\n",
              "</div>"
            ],
            "text/plain": [
              "                                    Model  Accuracy     AUC  Recall   Prec.  \\\n",
              "ada                  Ada Boost Classifier    0.8123  0.8527  0.7345  0.8055   \n",
              "gbc          Gradient Boosting Classifier    0.8116  0.8554  0.7315  0.8045   \n",
              "lr                    Logistic Regression    0.8103  0.8491  0.7300  0.8032   \n",
              "lightgbm  Light Gradient Boosting Machine    0.8098  0.8471  0.7309  0.8026   \n",
              "ridge                    Ridge Classifier    0.8078  0.0000  0.7196  0.7989   \n",
              "catboost              CatBoost Classifier    0.8055  0.8478  0.7233  0.7975   \n",
              "lda          Linear Discriminant Analysis    0.8037  0.8451  0.7271  0.7975   \n",
              "rf               Random Forest Classifier    0.7989  0.8356  0.7089  0.7889   \n",
              "xgboost         Extreme Gradient Boosting    0.7933  0.8344  0.7076  0.7848   \n",
              "et                 Extra Trees Classifier    0.7826  0.8094  0.6898  0.7719   \n",
              "knn                K Neighbors Classifier    0.7608  0.7568  0.6549  0.7457   \n",
              "nb                            Naive Bayes    0.7487  0.8389  0.7646  0.8068   \n",
              "dt               Decision Tree Classifier    0.7380  0.6626  0.6617  0.7382   \n",
              "svm                   SVM - Linear Kernel    0.6830  0.0000  0.6179  0.7572   \n",
              "qda       Quadratic Discriminant Analysis    0.5288  0.6002  0.6002  0.7160   \n",
              "\n",
              "              F1   Kappa     MCC  TT (Sec)  \n",
              "ada       0.8071  0.4914  0.4947     0.232  \n",
              "gbc       0.8060  0.4876  0.4915     0.552  \n",
              "lr        0.8048  0.4846  0.4883     0.142  \n",
              "lightgbm  0.8044  0.4839  0.4871     0.118  \n",
              "ridge     0.8003  0.4696  0.4751     0.020  \n",
              "catboost  0.7996  0.4703  0.4738     3.586  \n",
              "lda       0.7994  0.4727  0.4749     0.037  \n",
              "rf        0.7910  0.4448  0.4499     0.705  \n",
              "xgboost   0.7870  0.4371  0.4407     0.820  \n",
              "et        0.7748  0.4029  0.4071     0.669  \n",
              "knn       0.7501  0.3338  0.3387     0.132  \n",
              "nb        0.7620  0.4493  0.4745     0.020  \n",
              "dt        0.7377  0.3231  0.3236     0.035  \n",
              "svm       0.6495  0.2509  0.2917     0.049  \n",
              "qda       0.5374  0.1431  0.1917     0.025  "
            ]
          },
          "metadata": {
            "tags": []
          }
        },
        {
          "output_type": "execute_result",
          "data": {
            "text/plain": [
              "AdaBoostClassifier(algorithm='SAMME.R', base_estimator=None, learning_rate=1.0,\n",
              "                   n_estimators=50, random_state=6402)"
            ]
          },
          "metadata": {
            "tags": []
          },
          "execution_count": 94
        }
      ]
    },
    {
      "cell_type": "code",
      "metadata": {
        "id": "XnZkWzWHsZBZ",
        "outputId": "15688a81-42a9-4068-ca16-ebd129bf27a8",
        "colab": {
          "base_uri": "https://localhost:8080/",
          "height": 421,
          "referenced_widgets": [
            "edf5a88087334fef99b6ff8320610a00",
            "11a9173405a54e7980c3735dceb50207",
            "0b0d666ff4c641bc8b3e4e7c4153e877"
          ]
        }
      },
      "source": [
        "ada = create_model('ada') "
      ],
      "execution_count": 95,
      "outputs": [
        {
          "output_type": "display_data",
          "data": {
            "text/html": [
              "<div>\n",
              "<style scoped>\n",
              "    .dataframe tbody tr th:only-of-type {\n",
              "        vertical-align: middle;\n",
              "    }\n",
              "\n",
              "    .dataframe tbody tr th {\n",
              "        vertical-align: top;\n",
              "    }\n",
              "\n",
              "    .dataframe thead th {\n",
              "        text-align: right;\n",
              "    }\n",
              "</style>\n",
              "<table border=\"1\" class=\"dataframe\">\n",
              "  <thead>\n",
              "    <tr style=\"text-align: right;\">\n",
              "      <th></th>\n",
              "      <th>Accuracy</th>\n",
              "      <th>AUC</th>\n",
              "      <th>Recall</th>\n",
              "      <th>Prec.</th>\n",
              "      <th>F1</th>\n",
              "      <th>Kappa</th>\n",
              "      <th>MCC</th>\n",
              "    </tr>\n",
              "  </thead>\n",
              "  <tbody>\n",
              "    <tr>\n",
              "      <th>0</th>\n",
              "      <td>0.8127</td>\n",
              "      <td>0.8723</td>\n",
              "      <td>0.7276</td>\n",
              "      <td>0.8040</td>\n",
              "      <td>0.8058</td>\n",
              "      <td>0.4853</td>\n",
              "      <td>0.4900</td>\n",
              "    </tr>\n",
              "    <tr>\n",
              "      <th>1</th>\n",
              "      <td>0.8278</td>\n",
              "      <td>0.8826</td>\n",
              "      <td>0.7658</td>\n",
              "      <td>0.8241</td>\n",
              "      <td>0.8256</td>\n",
              "      <td>0.5450</td>\n",
              "      <td>0.5458</td>\n",
              "    </tr>\n",
              "    <tr>\n",
              "      <th>2</th>\n",
              "      <td>0.8025</td>\n",
              "      <td>0.8326</td>\n",
              "      <td>0.6991</td>\n",
              "      <td>0.7907</td>\n",
              "      <td>0.7907</td>\n",
              "      <td>0.4390</td>\n",
              "      <td>0.4496</td>\n",
              "    </tr>\n",
              "    <tr>\n",
              "      <th>3</th>\n",
              "      <td>0.8046</td>\n",
              "      <td>0.8454</td>\n",
              "      <td>0.7297</td>\n",
              "      <td>0.7986</td>\n",
              "      <td>0.8009</td>\n",
              "      <td>0.4758</td>\n",
              "      <td>0.4772</td>\n",
              "    </tr>\n",
              "    <tr>\n",
              "      <th>4</th>\n",
              "      <td>0.8274</td>\n",
              "      <td>0.8566</td>\n",
              "      <td>0.7703</td>\n",
              "      <td>0.8254</td>\n",
              "      <td>0.8263</td>\n",
              "      <td>0.5474</td>\n",
              "      <td>0.5476</td>\n",
              "    </tr>\n",
              "    <tr>\n",
              "      <th>5</th>\n",
              "      <td>0.7843</td>\n",
              "      <td>0.8355</td>\n",
              "      <td>0.7034</td>\n",
              "      <td>0.7775</td>\n",
              "      <td>0.7802</td>\n",
              "      <td>0.4214</td>\n",
              "      <td>0.4226</td>\n",
              "    </tr>\n",
              "    <tr>\n",
              "      <th>6</th>\n",
              "      <td>0.8223</td>\n",
              "      <td>0.8470</td>\n",
              "      <td>0.7574</td>\n",
              "      <td>0.8184</td>\n",
              "      <td>0.8200</td>\n",
              "      <td>0.5281</td>\n",
              "      <td>0.5288</td>\n",
              "    </tr>\n",
              "    <tr>\n",
              "      <th>7</th>\n",
              "      <td>0.8147</td>\n",
              "      <td>0.8541</td>\n",
              "      <td>0.7354</td>\n",
              "      <td>0.8072</td>\n",
              "      <td>0.8091</td>\n",
              "      <td>0.4968</td>\n",
              "      <td>0.5002</td>\n",
              "    </tr>\n",
              "    <tr>\n",
              "      <th>8</th>\n",
              "      <td>0.8173</td>\n",
              "      <td>0.8295</td>\n",
              "      <td>0.7371</td>\n",
              "      <td>0.8096</td>\n",
              "      <td>0.8114</td>\n",
              "      <td>0.5021</td>\n",
              "      <td>0.5060</td>\n",
              "    </tr>\n",
              "    <tr>\n",
              "      <th>9</th>\n",
              "      <td>0.8096</td>\n",
              "      <td>0.8711</td>\n",
              "      <td>0.7196</td>\n",
              "      <td>0.8000</td>\n",
              "      <td>0.8014</td>\n",
              "      <td>0.4727</td>\n",
              "      <td>0.4790</td>\n",
              "    </tr>\n",
              "    <tr>\n",
              "      <th>Mean</th>\n",
              "      <td>0.8123</td>\n",
              "      <td>0.8527</td>\n",
              "      <td>0.7345</td>\n",
              "      <td>0.8055</td>\n",
              "      <td>0.8071</td>\n",
              "      <td>0.4914</td>\n",
              "      <td>0.4947</td>\n",
              "    </tr>\n",
              "    <tr>\n",
              "      <th>SD</th>\n",
              "      <td>0.0124</td>\n",
              "      <td>0.0172</td>\n",
              "      <td>0.0230</td>\n",
              "      <td>0.0142</td>\n",
              "      <td>0.0140</td>\n",
              "      <td>0.0397</td>\n",
              "      <td>0.0381</td>\n",
              "    </tr>\n",
              "  </tbody>\n",
              "</table>\n",
              "</div>"
            ],
            "text/plain": [
              "      Accuracy     AUC  Recall   Prec.      F1   Kappa     MCC\n",
              "0       0.8127  0.8723  0.7276  0.8040  0.8058  0.4853  0.4900\n",
              "1       0.8278  0.8826  0.7658  0.8241  0.8256  0.5450  0.5458\n",
              "2       0.8025  0.8326  0.6991  0.7907  0.7907  0.4390  0.4496\n",
              "3       0.8046  0.8454  0.7297  0.7986  0.8009  0.4758  0.4772\n",
              "4       0.8274  0.8566  0.7703  0.8254  0.8263  0.5474  0.5476\n",
              "5       0.7843  0.8355  0.7034  0.7775  0.7802  0.4214  0.4226\n",
              "6       0.8223  0.8470  0.7574  0.8184  0.8200  0.5281  0.5288\n",
              "7       0.8147  0.8541  0.7354  0.8072  0.8091  0.4968  0.5002\n",
              "8       0.8173  0.8295  0.7371  0.8096  0.8114  0.5021  0.5060\n",
              "9       0.8096  0.8711  0.7196  0.8000  0.8014  0.4727  0.4790\n",
              "Mean    0.8123  0.8527  0.7345  0.8055  0.8071  0.4914  0.4947\n",
              "SD      0.0124  0.0172  0.0230  0.0142  0.0140  0.0397  0.0381"
            ]
          },
          "metadata": {
            "tags": []
          }
        }
      ]
    },
    {
      "cell_type": "code",
      "metadata": {
        "id": "-o9zDxFtSusS",
        "outputId": "d0d48d8c-28a2-48b7-8682-6b7d51bf7e27",
        "colab": {
          "base_uri": "https://localhost:8080/",
          "height": 421,
          "referenced_widgets": [
            "ed89e025c3214dce8515231a70e9b7ee",
            "b6723bdf3b0d4f26b6ac1b67fb48f804",
            "77a5e4cc68f342cb8c53075fbbefbbc7"
          ]
        }
      },
      "source": [
        "tuned_ada = tune_model(ada)"
      ],
      "execution_count": 96,
      "outputs": [
        {
          "output_type": "display_data",
          "data": {
            "text/html": [
              "<div>\n",
              "<style scoped>\n",
              "    .dataframe tbody tr th:only-of-type {\n",
              "        vertical-align: middle;\n",
              "    }\n",
              "\n",
              "    .dataframe tbody tr th {\n",
              "        vertical-align: top;\n",
              "    }\n",
              "\n",
              "    .dataframe thead th {\n",
              "        text-align: right;\n",
              "    }\n",
              "</style>\n",
              "<table border=\"1\" class=\"dataframe\">\n",
              "  <thead>\n",
              "    <tr style=\"text-align: right;\">\n",
              "      <th></th>\n",
              "      <th>Accuracy</th>\n",
              "      <th>AUC</th>\n",
              "      <th>Recall</th>\n",
              "      <th>Prec.</th>\n",
              "      <th>F1</th>\n",
              "      <th>Kappa</th>\n",
              "      <th>MCC</th>\n",
              "    </tr>\n",
              "  </thead>\n",
              "  <tbody>\n",
              "    <tr>\n",
              "      <th>0</th>\n",
              "      <td>0.8228</td>\n",
              "      <td>0.8697</td>\n",
              "      <td>0.7438</td>\n",
              "      <td>0.8155</td>\n",
              "      <td>0.8170</td>\n",
              "      <td>0.5163</td>\n",
              "      <td>0.5203</td>\n",
              "    </tr>\n",
              "    <tr>\n",
              "      <th>1</th>\n",
              "      <td>0.8278</td>\n",
              "      <td>0.8893</td>\n",
              "      <td>0.7596</td>\n",
              "      <td>0.8226</td>\n",
              "      <td>0.8243</td>\n",
              "      <td>0.5392</td>\n",
              "      <td>0.5409</td>\n",
              "    </tr>\n",
              "    <tr>\n",
              "      <th>2</th>\n",
              "      <td>0.7975</td>\n",
              "      <td>0.8406</td>\n",
              "      <td>0.6957</td>\n",
              "      <td>0.7852</td>\n",
              "      <td>0.7864</td>\n",
              "      <td>0.4285</td>\n",
              "      <td>0.4373</td>\n",
              "    </tr>\n",
              "    <tr>\n",
              "      <th>3</th>\n",
              "      <td>0.8071</td>\n",
              "      <td>0.8462</td>\n",
              "      <td>0.7346</td>\n",
              "      <td>0.8017</td>\n",
              "      <td>0.8038</td>\n",
              "      <td>0.4843</td>\n",
              "      <td>0.4854</td>\n",
              "    </tr>\n",
              "    <tr>\n",
              "      <th>4</th>\n",
              "      <td>0.8249</td>\n",
              "      <td>0.8614</td>\n",
              "      <td>0.7623</td>\n",
              "      <td>0.8214</td>\n",
              "      <td>0.8228</td>\n",
              "      <td>0.5363</td>\n",
              "      <td>0.5369</td>\n",
              "    </tr>\n",
              "    <tr>\n",
              "      <th>5</th>\n",
              "      <td>0.7868</td>\n",
              "      <td>0.8351</td>\n",
              "      <td>0.6957</td>\n",
              "      <td>0.7766</td>\n",
              "      <td>0.7798</td>\n",
              "      <td>0.4149</td>\n",
              "      <td>0.4182</td>\n",
              "    </tr>\n",
              "    <tr>\n",
              "      <th>6</th>\n",
              "      <td>0.8198</td>\n",
              "      <td>0.8489</td>\n",
              "      <td>0.7432</td>\n",
              "      <td>0.8130</td>\n",
              "      <td>0.8150</td>\n",
              "      <td>0.5103</td>\n",
              "      <td>0.5131</td>\n",
              "    </tr>\n",
              "    <tr>\n",
              "      <th>7</th>\n",
              "      <td>0.8122</td>\n",
              "      <td>0.8583</td>\n",
              "      <td>0.7337</td>\n",
              "      <td>0.8048</td>\n",
              "      <td>0.8069</td>\n",
              "      <td>0.4916</td>\n",
              "      <td>0.4946</td>\n",
              "    </tr>\n",
              "    <tr>\n",
              "      <th>8</th>\n",
              "      <td>0.8122</td>\n",
              "      <td>0.8308</td>\n",
              "      <td>0.7306</td>\n",
              "      <td>0.8041</td>\n",
              "      <td>0.8061</td>\n",
              "      <td>0.4882</td>\n",
              "      <td>0.4921</td>\n",
              "    </tr>\n",
              "    <tr>\n",
              "      <th>9</th>\n",
              "      <td>0.8122</td>\n",
              "      <td>0.8752</td>\n",
              "      <td>0.7275</td>\n",
              "      <td>0.8036</td>\n",
              "      <td>0.8053</td>\n",
              "      <td>0.4849</td>\n",
              "      <td>0.4896</td>\n",
              "    </tr>\n",
              "    <tr>\n",
              "      <th>Mean</th>\n",
              "      <td>0.8123</td>\n",
              "      <td>0.8556</td>\n",
              "      <td>0.7327</td>\n",
              "      <td>0.8049</td>\n",
              "      <td>0.8067</td>\n",
              "      <td>0.4894</td>\n",
              "      <td>0.4928</td>\n",
              "    </tr>\n",
              "    <tr>\n",
              "      <th>SD</th>\n",
              "      <td>0.0121</td>\n",
              "      <td>0.0178</td>\n",
              "      <td>0.0214</td>\n",
              "      <td>0.0140</td>\n",
              "      <td>0.0138</td>\n",
              "      <td>0.0389</td>\n",
              "      <td>0.0376</td>\n",
              "    </tr>\n",
              "  </tbody>\n",
              "</table>\n",
              "</div>"
            ],
            "text/plain": [
              "      Accuracy     AUC  Recall   Prec.      F1   Kappa     MCC\n",
              "0       0.8228  0.8697  0.7438  0.8155  0.8170  0.5163  0.5203\n",
              "1       0.8278  0.8893  0.7596  0.8226  0.8243  0.5392  0.5409\n",
              "2       0.7975  0.8406  0.6957  0.7852  0.7864  0.4285  0.4373\n",
              "3       0.8071  0.8462  0.7346  0.8017  0.8038  0.4843  0.4854\n",
              "4       0.8249  0.8614  0.7623  0.8214  0.8228  0.5363  0.5369\n",
              "5       0.7868  0.8351  0.6957  0.7766  0.7798  0.4149  0.4182\n",
              "6       0.8198  0.8489  0.7432  0.8130  0.8150  0.5103  0.5131\n",
              "7       0.8122  0.8583  0.7337  0.8048  0.8069  0.4916  0.4946\n",
              "8       0.8122  0.8308  0.7306  0.8041  0.8061  0.4882  0.4921\n",
              "9       0.8122  0.8752  0.7275  0.8036  0.8053  0.4849  0.4896\n",
              "Mean    0.8123  0.8556  0.7327  0.8049  0.8067  0.4894  0.4928\n",
              "SD      0.0121  0.0178  0.0214  0.0140  0.0138  0.0389  0.0376"
            ]
          },
          "metadata": {
            "tags": []
          }
        }
      ]
    },
    {
      "cell_type": "code",
      "metadata": {
        "id": "N_C6Mx1oTOmY",
        "outputId": "82168c21-f8e1-4e54-bbba-2dd0c1cb6a17",
        "colab": {
          "base_uri": "https://localhost:8080/",
          "height": 421,
          "referenced_widgets": [
            "4405eb8034724d93b93546b87d8dc9e7",
            "623b1629a27c4fdb99e0048207323801",
            "63d1ca2ed39f47e98d8179655d604498"
          ]
        }
      },
      "source": [
        "gbc = create_model('gbc')"
      ],
      "execution_count": 103,
      "outputs": [
        {
          "output_type": "display_data",
          "data": {
            "text/html": [
              "<div>\n",
              "<style scoped>\n",
              "    .dataframe tbody tr th:only-of-type {\n",
              "        vertical-align: middle;\n",
              "    }\n",
              "\n",
              "    .dataframe tbody tr th {\n",
              "        vertical-align: top;\n",
              "    }\n",
              "\n",
              "    .dataframe thead th {\n",
              "        text-align: right;\n",
              "    }\n",
              "</style>\n",
              "<table border=\"1\" class=\"dataframe\">\n",
              "  <thead>\n",
              "    <tr style=\"text-align: right;\">\n",
              "      <th></th>\n",
              "      <th>Accuracy</th>\n",
              "      <th>AUC</th>\n",
              "      <th>Recall</th>\n",
              "      <th>Prec.</th>\n",
              "      <th>F1</th>\n",
              "      <th>Kappa</th>\n",
              "      <th>MCC</th>\n",
              "    </tr>\n",
              "  </thead>\n",
              "  <tbody>\n",
              "    <tr>\n",
              "      <th>0</th>\n",
              "      <td>0.8228</td>\n",
              "      <td>0.8664</td>\n",
              "      <td>0.7376</td>\n",
              "      <td>0.8147</td>\n",
              "      <td>0.8155</td>\n",
              "      <td>0.5099</td>\n",
              "      <td>0.5160</td>\n",
              "    </tr>\n",
              "    <tr>\n",
              "      <th>1</th>\n",
              "      <td>0.8152</td>\n",
              "      <td>0.8854</td>\n",
              "      <td>0.7448</td>\n",
              "      <td>0.8098</td>\n",
              "      <td>0.8117</td>\n",
              "      <td>0.5068</td>\n",
              "      <td>0.5083</td>\n",
              "    </tr>\n",
              "    <tr>\n",
              "      <th>2</th>\n",
              "      <td>0.8152</td>\n",
              "      <td>0.8445</td>\n",
              "      <td>0.7201</td>\n",
              "      <td>0.8055</td>\n",
              "      <td>0.8055</td>\n",
              "      <td>0.4803</td>\n",
              "      <td>0.4894</td>\n",
              "    </tr>\n",
              "    <tr>\n",
              "      <th>3</th>\n",
              "      <td>0.7893</td>\n",
              "      <td>0.8501</td>\n",
              "      <td>0.7037</td>\n",
              "      <td>0.7807</td>\n",
              "      <td>0.7837</td>\n",
              "      <td>0.4275</td>\n",
              "      <td>0.4299</td>\n",
              "    </tr>\n",
              "    <tr>\n",
              "      <th>4</th>\n",
              "      <td>0.8122</td>\n",
              "      <td>0.8575</td>\n",
              "      <td>0.7537</td>\n",
              "      <td>0.8110</td>\n",
              "      <td>0.8116</td>\n",
              "      <td>0.5106</td>\n",
              "      <td>0.5106</td>\n",
              "    </tr>\n",
              "    <tr>\n",
              "      <th>5</th>\n",
              "      <td>0.7766</td>\n",
              "      <td>0.8268</td>\n",
              "      <td>0.6920</td>\n",
              "      <td>0.7690</td>\n",
              "      <td>0.7720</td>\n",
              "      <td>0.3990</td>\n",
              "      <td>0.4003</td>\n",
              "    </tr>\n",
              "    <tr>\n",
              "      <th>6</th>\n",
              "      <td>0.8376</td>\n",
              "      <td>0.8477</td>\n",
              "      <td>0.7709</td>\n",
              "      <td>0.8327</td>\n",
              "      <td>0.8342</td>\n",
              "      <td>0.5629</td>\n",
              "      <td>0.5648</td>\n",
              "    </tr>\n",
              "    <tr>\n",
              "      <th>7</th>\n",
              "      <td>0.8198</td>\n",
              "      <td>0.8633</td>\n",
              "      <td>0.7388</td>\n",
              "      <td>0.8121</td>\n",
              "      <td>0.8136</td>\n",
              "      <td>0.5074</td>\n",
              "      <td>0.5118</td>\n",
              "    </tr>\n",
              "    <tr>\n",
              "      <th>8</th>\n",
              "      <td>0.8198</td>\n",
              "      <td>0.8438</td>\n",
              "      <td>0.7296</td>\n",
              "      <td>0.8110</td>\n",
              "      <td>0.8112</td>\n",
              "      <td>0.4975</td>\n",
              "      <td>0.5055</td>\n",
              "    </tr>\n",
              "    <tr>\n",
              "      <th>9</th>\n",
              "      <td>0.8071</td>\n",
              "      <td>0.8684</td>\n",
              "      <td>0.7240</td>\n",
              "      <td>0.7987</td>\n",
              "      <td>0.8009</td>\n",
              "      <td>0.4744</td>\n",
              "      <td>0.4781</td>\n",
              "    </tr>\n",
              "    <tr>\n",
              "      <th>Mean</th>\n",
              "      <td>0.8116</td>\n",
              "      <td>0.8554</td>\n",
              "      <td>0.7315</td>\n",
              "      <td>0.8045</td>\n",
              "      <td>0.8060</td>\n",
              "      <td>0.4876</td>\n",
              "      <td>0.4915</td>\n",
              "    </tr>\n",
              "    <tr>\n",
              "      <th>SD</th>\n",
              "      <td>0.0164</td>\n",
              "      <td>0.0155</td>\n",
              "      <td>0.0220</td>\n",
              "      <td>0.0171</td>\n",
              "      <td>0.0165</td>\n",
              "      <td>0.0439</td>\n",
              "      <td>0.0442</td>\n",
              "    </tr>\n",
              "  </tbody>\n",
              "</table>\n",
              "</div>"
            ],
            "text/plain": [
              "      Accuracy     AUC  Recall   Prec.      F1   Kappa     MCC\n",
              "0       0.8228  0.8664  0.7376  0.8147  0.8155  0.5099  0.5160\n",
              "1       0.8152  0.8854  0.7448  0.8098  0.8117  0.5068  0.5083\n",
              "2       0.8152  0.8445  0.7201  0.8055  0.8055  0.4803  0.4894\n",
              "3       0.7893  0.8501  0.7037  0.7807  0.7837  0.4275  0.4299\n",
              "4       0.8122  0.8575  0.7537  0.8110  0.8116  0.5106  0.5106\n",
              "5       0.7766  0.8268  0.6920  0.7690  0.7720  0.3990  0.4003\n",
              "6       0.8376  0.8477  0.7709  0.8327  0.8342  0.5629  0.5648\n",
              "7       0.8198  0.8633  0.7388  0.8121  0.8136  0.5074  0.5118\n",
              "8       0.8198  0.8438  0.7296  0.8110  0.8112  0.4975  0.5055\n",
              "9       0.8071  0.8684  0.7240  0.7987  0.8009  0.4744  0.4781\n",
              "Mean    0.8116  0.8554  0.7315  0.8045  0.8060  0.4876  0.4915\n",
              "SD      0.0164  0.0155  0.0220  0.0171  0.0165  0.0439  0.0442"
            ]
          },
          "metadata": {
            "tags": []
          }
        }
      ]
    },
    {
      "cell_type": "code",
      "metadata": {
        "id": "W-aBwib-TUcb",
        "outputId": "93ec0d4b-4146-4ae9-a8fa-21d873527b45",
        "colab": {
          "base_uri": "https://localhost:8080/",
          "height": 421,
          "referenced_widgets": [
            "94e0f419e4194b57af77bdfe60a02e9d",
            "5ab5aa9e64514c6f80a7f01e57ae4778",
            "f8238623517c4e00ad70c705c419ce6d"
          ]
        }
      },
      "source": [
        "tuned_gbc = tune_model(gbc)"
      ],
      "execution_count": 104,
      "outputs": [
        {
          "output_type": "display_data",
          "data": {
            "text/html": [
              "<div>\n",
              "<style scoped>\n",
              "    .dataframe tbody tr th:only-of-type {\n",
              "        vertical-align: middle;\n",
              "    }\n",
              "\n",
              "    .dataframe tbody tr th {\n",
              "        vertical-align: top;\n",
              "    }\n",
              "\n",
              "    .dataframe thead th {\n",
              "        text-align: right;\n",
              "    }\n",
              "</style>\n",
              "<table border=\"1\" class=\"dataframe\">\n",
              "  <thead>\n",
              "    <tr style=\"text-align: right;\">\n",
              "      <th></th>\n",
              "      <th>Accuracy</th>\n",
              "      <th>AUC</th>\n",
              "      <th>Recall</th>\n",
              "      <th>Prec.</th>\n",
              "      <th>F1</th>\n",
              "      <th>Kappa</th>\n",
              "      <th>MCC</th>\n",
              "    </tr>\n",
              "  </thead>\n",
              "  <tbody>\n",
              "    <tr>\n",
              "      <th>0</th>\n",
              "      <td>0.8127</td>\n",
              "      <td>0.8549</td>\n",
              "      <td>0.7153</td>\n",
              "      <td>0.8025</td>\n",
              "      <td>0.8024</td>\n",
              "      <td>0.4714</td>\n",
              "      <td>0.4811</td>\n",
              "    </tr>\n",
              "    <tr>\n",
              "      <th>1</th>\n",
              "      <td>0.8354</td>\n",
              "      <td>0.8896</td>\n",
              "      <td>0.7616</td>\n",
              "      <td>0.8293</td>\n",
              "      <td>0.8305</td>\n",
              "      <td>0.5523</td>\n",
              "      <td>0.5561</td>\n",
              "    </tr>\n",
              "    <tr>\n",
              "      <th>2</th>\n",
              "      <td>0.7975</td>\n",
              "      <td>0.8377</td>\n",
              "      <td>0.6895</td>\n",
              "      <td>0.7845</td>\n",
              "      <td>0.7843</td>\n",
              "      <td>0.4207</td>\n",
              "      <td>0.4324</td>\n",
              "    </tr>\n",
              "    <tr>\n",
              "      <th>3</th>\n",
              "      <td>0.8096</td>\n",
              "      <td>0.8475</td>\n",
              "      <td>0.7300</td>\n",
              "      <td>0.8023</td>\n",
              "      <td>0.8046</td>\n",
              "      <td>0.4827</td>\n",
              "      <td>0.4853</td>\n",
              "    </tr>\n",
              "    <tr>\n",
              "      <th>4</th>\n",
              "      <td>0.8198</td>\n",
              "      <td>0.8518</td>\n",
              "      <td>0.7369</td>\n",
              "      <td>0.8119</td>\n",
              "      <td>0.8135</td>\n",
              "      <td>0.5038</td>\n",
              "      <td>0.5083</td>\n",
              "    </tr>\n",
              "    <tr>\n",
              "      <th>5</th>\n",
              "      <td>0.7919</td>\n",
              "      <td>0.8251</td>\n",
              "      <td>0.7117</td>\n",
              "      <td>0.7849</td>\n",
              "      <td>0.7875</td>\n",
              "      <td>0.4400</td>\n",
              "      <td>0.4415</td>\n",
              "    </tr>\n",
              "    <tr>\n",
              "      <th>6</th>\n",
              "      <td>0.8223</td>\n",
              "      <td>0.8489</td>\n",
              "      <td>0.7386</td>\n",
              "      <td>0.8144</td>\n",
              "      <td>0.8157</td>\n",
              "      <td>0.5091</td>\n",
              "      <td>0.5142</td>\n",
              "    </tr>\n",
              "    <tr>\n",
              "      <th>7</th>\n",
              "      <td>0.8020</td>\n",
              "      <td>0.8531</td>\n",
              "      <td>0.7021</td>\n",
              "      <td>0.7905</td>\n",
              "      <td>0.7912</td>\n",
              "      <td>0.4424</td>\n",
              "      <td>0.4515</td>\n",
              "    </tr>\n",
              "    <tr>\n",
              "      <th>8</th>\n",
              "      <td>0.8046</td>\n",
              "      <td>0.8517</td>\n",
              "      <td>0.7131</td>\n",
              "      <td>0.7944</td>\n",
              "      <td>0.7961</td>\n",
              "      <td>0.4587</td>\n",
              "      <td>0.4648</td>\n",
              "    </tr>\n",
              "    <tr>\n",
              "      <th>9</th>\n",
              "      <td>0.8071</td>\n",
              "      <td>0.8670</td>\n",
              "      <td>0.7055</td>\n",
              "      <td>0.7961</td>\n",
              "      <td>0.7956</td>\n",
              "      <td>0.4530</td>\n",
              "      <td>0.4639</td>\n",
              "    </tr>\n",
              "    <tr>\n",
              "      <th>Mean</th>\n",
              "      <td>0.8103</td>\n",
              "      <td>0.8527</td>\n",
              "      <td>0.7204</td>\n",
              "      <td>0.8011</td>\n",
              "      <td>0.8021</td>\n",
              "      <td>0.4734</td>\n",
              "      <td>0.4799</td>\n",
              "    </tr>\n",
              "    <tr>\n",
              "      <th>SD</th>\n",
              "      <td>0.0122</td>\n",
              "      <td>0.0161</td>\n",
              "      <td>0.0202</td>\n",
              "      <td>0.0135</td>\n",
              "      <td>0.0136</td>\n",
              "      <td>0.0374</td>\n",
              "      <td>0.0358</td>\n",
              "    </tr>\n",
              "  </tbody>\n",
              "</table>\n",
              "</div>"
            ],
            "text/plain": [
              "      Accuracy     AUC  Recall   Prec.      F1   Kappa     MCC\n",
              "0       0.8127  0.8549  0.7153  0.8025  0.8024  0.4714  0.4811\n",
              "1       0.8354  0.8896  0.7616  0.8293  0.8305  0.5523  0.5561\n",
              "2       0.7975  0.8377  0.6895  0.7845  0.7843  0.4207  0.4324\n",
              "3       0.8096  0.8475  0.7300  0.8023  0.8046  0.4827  0.4853\n",
              "4       0.8198  0.8518  0.7369  0.8119  0.8135  0.5038  0.5083\n",
              "5       0.7919  0.8251  0.7117  0.7849  0.7875  0.4400  0.4415\n",
              "6       0.8223  0.8489  0.7386  0.8144  0.8157  0.5091  0.5142\n",
              "7       0.8020  0.8531  0.7021  0.7905  0.7912  0.4424  0.4515\n",
              "8       0.8046  0.8517  0.7131  0.7944  0.7961  0.4587  0.4648\n",
              "9       0.8071  0.8670  0.7055  0.7961  0.7956  0.4530  0.4639\n",
              "Mean    0.8103  0.8527  0.7204  0.8011  0.8021  0.4734  0.4799\n",
              "SD      0.0122  0.0161  0.0202  0.0135  0.0136  0.0374  0.0358"
            ]
          },
          "metadata": {
            "tags": []
          }
        }
      ]
    },
    {
      "cell_type": "code",
      "metadata": {
        "id": "LHUyK5u0sZFP",
        "outputId": "fbb822b2-306d-4b8f-e468-9007f2f96ae8",
        "colab": {
          "base_uri": "https://localhost:8080/",
          "height": 421,
          "referenced_widgets": [
            "a62523efd006404ea9e8679182c9f508",
            "007a2a48788748cb9fbf14faf93f0aa1",
            "734adad1d51843fc9080f45d8dff5dd3"
          ]
        }
      },
      "source": [
        "lr = create_model('lr') "
      ],
      "execution_count": 107,
      "outputs": [
        {
          "output_type": "display_data",
          "data": {
            "text/html": [
              "<div>\n",
              "<style scoped>\n",
              "    .dataframe tbody tr th:only-of-type {\n",
              "        vertical-align: middle;\n",
              "    }\n",
              "\n",
              "    .dataframe tbody tr th {\n",
              "        vertical-align: top;\n",
              "    }\n",
              "\n",
              "    .dataframe thead th {\n",
              "        text-align: right;\n",
              "    }\n",
              "</style>\n",
              "<table border=\"1\" class=\"dataframe\">\n",
              "  <thead>\n",
              "    <tr style=\"text-align: right;\">\n",
              "      <th></th>\n",
              "      <th>Accuracy</th>\n",
              "      <th>AUC</th>\n",
              "      <th>Recall</th>\n",
              "      <th>Prec.</th>\n",
              "      <th>F1</th>\n",
              "      <th>Kappa</th>\n",
              "      <th>MCC</th>\n",
              "    </tr>\n",
              "  </thead>\n",
              "  <tbody>\n",
              "    <tr>\n",
              "      <th>0</th>\n",
              "      <td>0.8101</td>\n",
              "      <td>0.8603</td>\n",
              "      <td>0.7259</td>\n",
              "      <td>0.8016</td>\n",
              "      <td>0.8036</td>\n",
              "      <td>0.4800</td>\n",
              "      <td>0.4843</td>\n",
              "    </tr>\n",
              "    <tr>\n",
              "      <th>1</th>\n",
              "      <td>0.8127</td>\n",
              "      <td>0.8754</td>\n",
              "      <td>0.7307</td>\n",
              "      <td>0.8046</td>\n",
              "      <td>0.8066</td>\n",
              "      <td>0.4886</td>\n",
              "      <td>0.4925</td>\n",
              "    </tr>\n",
              "    <tr>\n",
              "      <th>2</th>\n",
              "      <td>0.8177</td>\n",
              "      <td>0.8332</td>\n",
              "      <td>0.7187</td>\n",
              "      <td>0.8082</td>\n",
              "      <td>0.8068</td>\n",
              "      <td>0.4821</td>\n",
              "      <td>0.4938</td>\n",
              "    </tr>\n",
              "    <tr>\n",
              "      <th>3</th>\n",
              "      <td>0.7944</td>\n",
              "      <td>0.8408</td>\n",
              "      <td>0.7228</td>\n",
              "      <td>0.7902</td>\n",
              "      <td>0.7920</td>\n",
              "      <td>0.4557</td>\n",
              "      <td>0.4562</td>\n",
              "    </tr>\n",
              "    <tr>\n",
              "      <th>4</th>\n",
              "      <td>0.8249</td>\n",
              "      <td>0.8646</td>\n",
              "      <td>0.7529</td>\n",
              "      <td>0.8191</td>\n",
              "      <td>0.8209</td>\n",
              "      <td>0.5272</td>\n",
              "      <td>0.5293</td>\n",
              "    </tr>\n",
              "    <tr>\n",
              "      <th>5</th>\n",
              "      <td>0.7817</td>\n",
              "      <td>0.8277</td>\n",
              "      <td>0.7017</td>\n",
              "      <td>0.7754</td>\n",
              "      <td>0.7780</td>\n",
              "      <td>0.4165</td>\n",
              "      <td>0.4174</td>\n",
              "    </tr>\n",
              "    <tr>\n",
              "      <th>6</th>\n",
              "      <td>0.8096</td>\n",
              "      <td>0.8388</td>\n",
              "      <td>0.7394</td>\n",
              "      <td>0.8048</td>\n",
              "      <td>0.8067</td>\n",
              "      <td>0.4927</td>\n",
              "      <td>0.4937</td>\n",
              "    </tr>\n",
              "    <tr>\n",
              "      <th>7</th>\n",
              "      <td>0.8173</td>\n",
              "      <td>0.8504</td>\n",
              "      <td>0.7402</td>\n",
              "      <td>0.8102</td>\n",
              "      <td>0.8121</td>\n",
              "      <td>0.5053</td>\n",
              "      <td>0.5084</td>\n",
              "    </tr>\n",
              "    <tr>\n",
              "      <th>8</th>\n",
              "      <td>0.8071</td>\n",
              "      <td>0.8349</td>\n",
              "      <td>0.7210</td>\n",
              "      <td>0.7980</td>\n",
              "      <td>0.8001</td>\n",
              "      <td>0.4710</td>\n",
              "      <td>0.4756</td>\n",
              "    </tr>\n",
              "    <tr>\n",
              "      <th>9</th>\n",
              "      <td>0.8274</td>\n",
              "      <td>0.8651</td>\n",
              "      <td>0.7471</td>\n",
              "      <td>0.8201</td>\n",
              "      <td>0.8211</td>\n",
              "      <td>0.5266</td>\n",
              "      <td>0.5318</td>\n",
              "    </tr>\n",
              "    <tr>\n",
              "      <th>Mean</th>\n",
              "      <td>0.8103</td>\n",
              "      <td>0.8491</td>\n",
              "      <td>0.7300</td>\n",
              "      <td>0.8032</td>\n",
              "      <td>0.8048</td>\n",
              "      <td>0.4846</td>\n",
              "      <td>0.4883</td>\n",
              "    </tr>\n",
              "    <tr>\n",
              "      <th>SD</th>\n",
              "      <td>0.0130</td>\n",
              "      <td>0.0155</td>\n",
              "      <td>0.0144</td>\n",
              "      <td>0.0126</td>\n",
              "      <td>0.0122</td>\n",
              "      <td>0.0313</td>\n",
              "      <td>0.0321</td>\n",
              "    </tr>\n",
              "  </tbody>\n",
              "</table>\n",
              "</div>"
            ],
            "text/plain": [
              "      Accuracy     AUC  Recall   Prec.      F1   Kappa     MCC\n",
              "0       0.8101  0.8603  0.7259  0.8016  0.8036  0.4800  0.4843\n",
              "1       0.8127  0.8754  0.7307  0.8046  0.8066  0.4886  0.4925\n",
              "2       0.8177  0.8332  0.7187  0.8082  0.8068  0.4821  0.4938\n",
              "3       0.7944  0.8408  0.7228  0.7902  0.7920  0.4557  0.4562\n",
              "4       0.8249  0.8646  0.7529  0.8191  0.8209  0.5272  0.5293\n",
              "5       0.7817  0.8277  0.7017  0.7754  0.7780  0.4165  0.4174\n",
              "6       0.8096  0.8388  0.7394  0.8048  0.8067  0.4927  0.4937\n",
              "7       0.8173  0.8504  0.7402  0.8102  0.8121  0.5053  0.5084\n",
              "8       0.8071  0.8349  0.7210  0.7980  0.8001  0.4710  0.4756\n",
              "9       0.8274  0.8651  0.7471  0.8201  0.8211  0.5266  0.5318\n",
              "Mean    0.8103  0.8491  0.7300  0.8032  0.8048  0.4846  0.4883\n",
              "SD      0.0130  0.0155  0.0144  0.0126  0.0122  0.0313  0.0321"
            ]
          },
          "metadata": {
            "tags": []
          }
        }
      ]
    },
    {
      "cell_type": "code",
      "metadata": {
        "id": "JjcqnA2iUhtS",
        "outputId": "7880c550-c9f9-42fc-a39b-227320b7fdd4",
        "colab": {
          "base_uri": "https://localhost:8080/",
          "height": 421,
          "referenced_widgets": [
            "ca811a71393346978d2704cbb3a4f4df",
            "c066fac316fc48889ca1645f41e39774",
            "bf5b8c3ca07644688f329bc394fe9a26"
          ]
        }
      },
      "source": [
        "tuned_lr = tune_model(lr)"
      ],
      "execution_count": 108,
      "outputs": [
        {
          "output_type": "display_data",
          "data": {
            "text/html": [
              "<div>\n",
              "<style scoped>\n",
              "    .dataframe tbody tr th:only-of-type {\n",
              "        vertical-align: middle;\n",
              "    }\n",
              "\n",
              "    .dataframe tbody tr th {\n",
              "        vertical-align: top;\n",
              "    }\n",
              "\n",
              "    .dataframe thead th {\n",
              "        text-align: right;\n",
              "    }\n",
              "</style>\n",
              "<table border=\"1\" class=\"dataframe\">\n",
              "  <thead>\n",
              "    <tr style=\"text-align: right;\">\n",
              "      <th></th>\n",
              "      <th>Accuracy</th>\n",
              "      <th>AUC</th>\n",
              "      <th>Recall</th>\n",
              "      <th>Prec.</th>\n",
              "      <th>F1</th>\n",
              "      <th>Kappa</th>\n",
              "      <th>MCC</th>\n",
              "    </tr>\n",
              "  </thead>\n",
              "  <tbody>\n",
              "    <tr>\n",
              "      <th>0</th>\n",
              "      <td>0.8127</td>\n",
              "      <td>0.8622</td>\n",
              "      <td>0.7307</td>\n",
              "      <td>0.8046</td>\n",
              "      <td>0.8066</td>\n",
              "      <td>0.4886</td>\n",
              "      <td>0.4925</td>\n",
              "    </tr>\n",
              "    <tr>\n",
              "      <th>1</th>\n",
              "      <td>0.8203</td>\n",
              "      <td>0.8738</td>\n",
              "      <td>0.7452</td>\n",
              "      <td>0.8136</td>\n",
              "      <td>0.8155</td>\n",
              "      <td>0.5141</td>\n",
              "      <td>0.5169</td>\n",
              "    </tr>\n",
              "    <tr>\n",
              "      <th>2</th>\n",
              "      <td>0.8152</td>\n",
              "      <td>0.8386</td>\n",
              "      <td>0.7201</td>\n",
              "      <td>0.8055</td>\n",
              "      <td>0.8055</td>\n",
              "      <td>0.4803</td>\n",
              "      <td>0.4894</td>\n",
              "    </tr>\n",
              "    <tr>\n",
              "      <th>3</th>\n",
              "      <td>0.7944</td>\n",
              "      <td>0.8405</td>\n",
              "      <td>0.7228</td>\n",
              "      <td>0.7902</td>\n",
              "      <td>0.7920</td>\n",
              "      <td>0.4557</td>\n",
              "      <td>0.4562</td>\n",
              "    </tr>\n",
              "    <tr>\n",
              "      <th>4</th>\n",
              "      <td>0.8274</td>\n",
              "      <td>0.8666</td>\n",
              "      <td>0.7577</td>\n",
              "      <td>0.8221</td>\n",
              "      <td>0.8238</td>\n",
              "      <td>0.5356</td>\n",
              "      <td>0.5374</td>\n",
              "    </tr>\n",
              "    <tr>\n",
              "      <th>5</th>\n",
              "      <td>0.7843</td>\n",
              "      <td>0.8279</td>\n",
              "      <td>0.7066</td>\n",
              "      <td>0.7786</td>\n",
              "      <td>0.7810</td>\n",
              "      <td>0.4251</td>\n",
              "      <td>0.4259</td>\n",
              "    </tr>\n",
              "    <tr>\n",
              "      <th>6</th>\n",
              "      <td>0.8096</td>\n",
              "      <td>0.8382</td>\n",
              "      <td>0.7394</td>\n",
              "      <td>0.8048</td>\n",
              "      <td>0.8067</td>\n",
              "      <td>0.4927</td>\n",
              "      <td>0.4937</td>\n",
              "    </tr>\n",
              "    <tr>\n",
              "      <th>7</th>\n",
              "      <td>0.8122</td>\n",
              "      <td>0.8493</td>\n",
              "      <td>0.7337</td>\n",
              "      <td>0.8048</td>\n",
              "      <td>0.8069</td>\n",
              "      <td>0.4916</td>\n",
              "      <td>0.4946</td>\n",
              "    </tr>\n",
              "    <tr>\n",
              "      <th>8</th>\n",
              "      <td>0.8071</td>\n",
              "      <td>0.8333</td>\n",
              "      <td>0.7240</td>\n",
              "      <td>0.7987</td>\n",
              "      <td>0.8009</td>\n",
              "      <td>0.4744</td>\n",
              "      <td>0.4781</td>\n",
              "    </tr>\n",
              "    <tr>\n",
              "      <th>9</th>\n",
              "      <td>0.8274</td>\n",
              "      <td>0.8650</td>\n",
              "      <td>0.7471</td>\n",
              "      <td>0.8201</td>\n",
              "      <td>0.8211</td>\n",
              "      <td>0.5266</td>\n",
              "      <td>0.5318</td>\n",
              "    </tr>\n",
              "    <tr>\n",
              "      <th>Mean</th>\n",
              "      <td>0.8111</td>\n",
              "      <td>0.8495</td>\n",
              "      <td>0.7327</td>\n",
              "      <td>0.8043</td>\n",
              "      <td>0.8060</td>\n",
              "      <td>0.4885</td>\n",
              "      <td>0.4916</td>\n",
              "    </tr>\n",
              "    <tr>\n",
              "      <th>SD</th>\n",
              "      <td>0.0129</td>\n",
              "      <td>0.0153</td>\n",
              "      <td>0.0143</td>\n",
              "      <td>0.0124</td>\n",
              "      <td>0.0122</td>\n",
              "      <td>0.0312</td>\n",
              "      <td>0.0318</td>\n",
              "    </tr>\n",
              "  </tbody>\n",
              "</table>\n",
              "</div>"
            ],
            "text/plain": [
              "      Accuracy     AUC  Recall   Prec.      F1   Kappa     MCC\n",
              "0       0.8127  0.8622  0.7307  0.8046  0.8066  0.4886  0.4925\n",
              "1       0.8203  0.8738  0.7452  0.8136  0.8155  0.5141  0.5169\n",
              "2       0.8152  0.8386  0.7201  0.8055  0.8055  0.4803  0.4894\n",
              "3       0.7944  0.8405  0.7228  0.7902  0.7920  0.4557  0.4562\n",
              "4       0.8274  0.8666  0.7577  0.8221  0.8238  0.5356  0.5374\n",
              "5       0.7843  0.8279  0.7066  0.7786  0.7810  0.4251  0.4259\n",
              "6       0.8096  0.8382  0.7394  0.8048  0.8067  0.4927  0.4937\n",
              "7       0.8122  0.8493  0.7337  0.8048  0.8069  0.4916  0.4946\n",
              "8       0.8071  0.8333  0.7240  0.7987  0.8009  0.4744  0.4781\n",
              "9       0.8274  0.8650  0.7471  0.8201  0.8211  0.5266  0.5318\n",
              "Mean    0.8111  0.8495  0.7327  0.8043  0.8060  0.4885  0.4916\n",
              "SD      0.0129  0.0153  0.0143  0.0124  0.0122  0.0312  0.0318"
            ]
          },
          "metadata": {
            "tags": []
          }
        }
      ]
    },
    {
      "cell_type": "code",
      "metadata": {
        "id": "53I02okQezC2",
        "outputId": "6dcc9df4-5ac7-4119-cd93-d09400a48dca",
        "colab": {
          "base_uri": "https://localhost:8080/",
          "height": 439
        }
      },
      "source": [
        "predic = predict_model(tuned_lr, data = df_churn_test)\n",
        "predic"
      ],
      "execution_count": 109,
      "outputs": [
        {
          "output_type": "execute_result",
          "data": {
            "text/html": [
              "<div>\n",
              "<style scoped>\n",
              "    .dataframe tbody tr th:only-of-type {\n",
              "        vertical-align: middle;\n",
              "    }\n",
              "\n",
              "    .dataframe tbody tr th {\n",
              "        vertical-align: top;\n",
              "    }\n",
              "\n",
              "    .dataframe thead th {\n",
              "        text-align: right;\n",
              "    }\n",
              "</style>\n",
              "<table border=\"1\" class=\"dataframe\">\n",
              "  <thead>\n",
              "    <tr style=\"text-align: right;\">\n",
              "      <th></th>\n",
              "      <th>gender</th>\n",
              "      <th>seniorcitizen</th>\n",
              "      <th>partner</th>\n",
              "      <th>dependents</th>\n",
              "      <th>tenure</th>\n",
              "      <th>phoneservice</th>\n",
              "      <th>multiplelines</th>\n",
              "      <th>internetservice</th>\n",
              "      <th>onlinesecurity</th>\n",
              "      <th>onlinebackup</th>\n",
              "      <th>deviceprotection</th>\n",
              "      <th>techsupport</th>\n",
              "      <th>streamingtv</th>\n",
              "      <th>streamingmovies</th>\n",
              "      <th>contract</th>\n",
              "      <th>paperlessbilling</th>\n",
              "      <th>paymentmethod</th>\n",
              "      <th>monthlycharges</th>\n",
              "      <th>totalcharges</th>\n",
              "      <th>Label</th>\n",
              "      <th>Score</th>\n",
              "    </tr>\n",
              "  </thead>\n",
              "  <tbody>\n",
              "    <tr>\n",
              "      <th>0</th>\n",
              "      <td>0</td>\n",
              "      <td>0</td>\n",
              "      <td>1</td>\n",
              "      <td>1</td>\n",
              "      <td>23.0</td>\n",
              "      <td>1</td>\n",
              "      <td>0</td>\n",
              "      <td>0</td>\n",
              "      <td>2</td>\n",
              "      <td>2</td>\n",
              "      <td>2</td>\n",
              "      <td>2</td>\n",
              "      <td>2</td>\n",
              "      <td>2</td>\n",
              "      <td>1</td>\n",
              "      <td>1</td>\n",
              "      <td>4</td>\n",
              "      <td>20.00</td>\n",
              "      <td>445.30</td>\n",
              "      <td>0</td>\n",
              "      <td>0.9514</td>\n",
              "    </tr>\n",
              "    <tr>\n",
              "      <th>1</th>\n",
              "      <td>0</td>\n",
              "      <td>1</td>\n",
              "      <td>1</td>\n",
              "      <td>1</td>\n",
              "      <td>61.0</td>\n",
              "      <td>1</td>\n",
              "      <td>1</td>\n",
              "      <td>1</td>\n",
              "      <td>0</td>\n",
              "      <td>1</td>\n",
              "      <td>0</td>\n",
              "      <td>0</td>\n",
              "      <td>1</td>\n",
              "      <td>1</td>\n",
              "      <td>1</td>\n",
              "      <td>0</td>\n",
              "      <td>1</td>\n",
              "      <td>99.00</td>\n",
              "      <td>5969.30</td>\n",
              "      <td>0</td>\n",
              "      <td>0.8622</td>\n",
              "    </tr>\n",
              "    <tr>\n",
              "      <th>2</th>\n",
              "      <td>0</td>\n",
              "      <td>0</td>\n",
              "      <td>0</td>\n",
              "      <td>0</td>\n",
              "      <td>36.0</td>\n",
              "      <td>1</td>\n",
              "      <td>1</td>\n",
              "      <td>1</td>\n",
              "      <td>0</td>\n",
              "      <td>0</td>\n",
              "      <td>0</td>\n",
              "      <td>0</td>\n",
              "      <td>0</td>\n",
              "      <td>1</td>\n",
              "      <td>2</td>\n",
              "      <td>1</td>\n",
              "      <td>1</td>\n",
              "      <td>84.75</td>\n",
              "      <td>3050.15</td>\n",
              "      <td>1</td>\n",
              "      <td>0.5472</td>\n",
              "    </tr>\n",
              "    <tr>\n",
              "      <th>3</th>\n",
              "      <td>1</td>\n",
              "      <td>0</td>\n",
              "      <td>1</td>\n",
              "      <td>1</td>\n",
              "      <td>61.0</td>\n",
              "      <td>0</td>\n",
              "      <td>3</td>\n",
              "      <td>2</td>\n",
              "      <td>0</td>\n",
              "      <td>1</td>\n",
              "      <td>1</td>\n",
              "      <td>1</td>\n",
              "      <td>1</td>\n",
              "      <td>1</td>\n",
              "      <td>0</td>\n",
              "      <td>1</td>\n",
              "      <td>2</td>\n",
              "      <td>61.45</td>\n",
              "      <td>3751.15</td>\n",
              "      <td>0</td>\n",
              "      <td>0.9557</td>\n",
              "    </tr>\n",
              "    <tr>\n",
              "      <th>4</th>\n",
              "      <td>1</td>\n",
              "      <td>0</td>\n",
              "      <td>0</td>\n",
              "      <td>0</td>\n",
              "      <td>47.0</td>\n",
              "      <td>1</td>\n",
              "      <td>0</td>\n",
              "      <td>0</td>\n",
              "      <td>2</td>\n",
              "      <td>2</td>\n",
              "      <td>2</td>\n",
              "      <td>2</td>\n",
              "      <td>2</td>\n",
              "      <td>2</td>\n",
              "      <td>0</td>\n",
              "      <td>1</td>\n",
              "      <td>3</td>\n",
              "      <td>20.55</td>\n",
              "      <td>945.70</td>\n",
              "      <td>0</td>\n",
              "      <td>0.9790</td>\n",
              "    </tr>\n",
              "    <tr>\n",
              "      <th>...</th>\n",
              "      <td>...</td>\n",
              "      <td>...</td>\n",
              "      <td>...</td>\n",
              "      <td>...</td>\n",
              "      <td>...</td>\n",
              "      <td>...</td>\n",
              "      <td>...</td>\n",
              "      <td>...</td>\n",
              "      <td>...</td>\n",
              "      <td>...</td>\n",
              "      <td>...</td>\n",
              "      <td>...</td>\n",
              "      <td>...</td>\n",
              "      <td>...</td>\n",
              "      <td>...</td>\n",
              "      <td>...</td>\n",
              "      <td>...</td>\n",
              "      <td>...</td>\n",
              "      <td>...</td>\n",
              "      <td>...</td>\n",
              "      <td>...</td>\n",
              "    </tr>\n",
              "    <tr>\n",
              "      <th>1404</th>\n",
              "      <td>0</td>\n",
              "      <td>0</td>\n",
              "      <td>0</td>\n",
              "      <td>0</td>\n",
              "      <td>24.0</td>\n",
              "      <td>1</td>\n",
              "      <td>0</td>\n",
              "      <td>2</td>\n",
              "      <td>0</td>\n",
              "      <td>0</td>\n",
              "      <td>1</td>\n",
              "      <td>0</td>\n",
              "      <td>0</td>\n",
              "      <td>0</td>\n",
              "      <td>2</td>\n",
              "      <td>1</td>\n",
              "      <td>3</td>\n",
              "      <td>49.70</td>\n",
              "      <td>1167.80</td>\n",
              "      <td>0</td>\n",
              "      <td>0.7782</td>\n",
              "    </tr>\n",
              "    <tr>\n",
              "      <th>1405</th>\n",
              "      <td>0</td>\n",
              "      <td>0</td>\n",
              "      <td>0</td>\n",
              "      <td>0</td>\n",
              "      <td>35.0</td>\n",
              "      <td>1</td>\n",
              "      <td>0</td>\n",
              "      <td>1</td>\n",
              "      <td>1</td>\n",
              "      <td>0</td>\n",
              "      <td>0</td>\n",
              "      <td>1</td>\n",
              "      <td>0</td>\n",
              "      <td>1</td>\n",
              "      <td>1</td>\n",
              "      <td>1</td>\n",
              "      <td>1</td>\n",
              "      <td>89.20</td>\n",
              "      <td>3251.30</td>\n",
              "      <td>0</td>\n",
              "      <td>0.8450</td>\n",
              "    </tr>\n",
              "    <tr>\n",
              "      <th>1406</th>\n",
              "      <td>1</td>\n",
              "      <td>0</td>\n",
              "      <td>1</td>\n",
              "      <td>0</td>\n",
              "      <td>46.0</td>\n",
              "      <td>1</td>\n",
              "      <td>0</td>\n",
              "      <td>2</td>\n",
              "      <td>0</td>\n",
              "      <td>1</td>\n",
              "      <td>0</td>\n",
              "      <td>1</td>\n",
              "      <td>1</td>\n",
              "      <td>0</td>\n",
              "      <td>0</td>\n",
              "      <td>1</td>\n",
              "      <td>4</td>\n",
              "      <td>64.20</td>\n",
              "      <td>3009.50</td>\n",
              "      <td>0</td>\n",
              "      <td>0.9715</td>\n",
              "    </tr>\n",
              "    <tr>\n",
              "      <th>1407</th>\n",
              "      <td>0</td>\n",
              "      <td>1</td>\n",
              "      <td>1</td>\n",
              "      <td>1</td>\n",
              "      <td>11.0</td>\n",
              "      <td>1</td>\n",
              "      <td>1</td>\n",
              "      <td>1</td>\n",
              "      <td>0</td>\n",
              "      <td>0</td>\n",
              "      <td>0</td>\n",
              "      <td>0</td>\n",
              "      <td>0</td>\n",
              "      <td>0</td>\n",
              "      <td>2</td>\n",
              "      <td>1</td>\n",
              "      <td>4</td>\n",
              "      <td>75.20</td>\n",
              "      <td>775.30</td>\n",
              "      <td>1</td>\n",
              "      <td>0.6209</td>\n",
              "    </tr>\n",
              "    <tr>\n",
              "      <th>1408</th>\n",
              "      <td>0</td>\n",
              "      <td>0</td>\n",
              "      <td>1</td>\n",
              "      <td>1</td>\n",
              "      <td>69.0</td>\n",
              "      <td>1</td>\n",
              "      <td>1</td>\n",
              "      <td>2</td>\n",
              "      <td>0</td>\n",
              "      <td>1</td>\n",
              "      <td>1</td>\n",
              "      <td>1</td>\n",
              "      <td>1</td>\n",
              "      <td>1</td>\n",
              "      <td>0</td>\n",
              "      <td>1</td>\n",
              "      <td>2</td>\n",
              "      <td>81.95</td>\n",
              "      <td>5601.40</td>\n",
              "      <td>0</td>\n",
              "      <td>0.9792</td>\n",
              "    </tr>\n",
              "  </tbody>\n",
              "</table>\n",
              "<p>1409 rows × 21 columns</p>\n",
              "</div>"
            ],
            "text/plain": [
              "      gender  seniorcitizen  partner  ...  totalcharges  Label   Score\n",
              "0          0              0        1  ...        445.30      0  0.9514\n",
              "1          0              1        1  ...       5969.30      0  0.8622\n",
              "2          0              0        0  ...       3050.15      1  0.5472\n",
              "3          1              0        1  ...       3751.15      0  0.9557\n",
              "4          1              0        0  ...        945.70      0  0.9790\n",
              "...      ...            ...      ...  ...           ...    ...     ...\n",
              "1404       0              0        0  ...       1167.80      0  0.7782\n",
              "1405       0              0        0  ...       3251.30      0  0.8450\n",
              "1406       1              0        1  ...       3009.50      0  0.9715\n",
              "1407       0              1        1  ...        775.30      1  0.6209\n",
              "1408       0              0        1  ...       5601.40      0  0.9792\n",
              "\n",
              "[1409 rows x 21 columns]"
            ]
          },
          "metadata": {
            "tags": []
          },
          "execution_count": 109
        }
      ]
    },
    {
      "cell_type": "code",
      "metadata": {
        "id": "rq012KeiT3E6",
        "outputId": "7b52041f-8ba1-4e4e-ac6d-1db11d70371a",
        "colab": {
          "base_uri": "https://localhost:8080/"
        }
      },
      "source": [
        "predic['Score'].mean()"
      ],
      "execution_count": 110,
      "outputs": [
        {
          "output_type": "execute_result",
          "data": {
            "text/plain": [
              "0.8056340667139804"
            ]
          },
          "metadata": {
            "tags": []
          },
          "execution_count": 110
        }
      ]
    },
    {
      "cell_type": "code",
      "metadata": {
        "id": "4YFx3kxvezLI",
        "outputId": "8e232d3a-c673-4240-d65a-f31b801f3c4d",
        "colab": {
          "base_uri": "https://localhost:8080/"
        }
      },
      "source": [
        "#predic['Score'].mean() 1 tent"
      ],
      "execution_count": null,
      "outputs": [
        {
          "output_type": "execute_result",
          "data": {
            "text/plain": [
              "0.7986972320794897"
            ]
          },
          "metadata": {
            "tags": []
          },
          "execution_count": 83
        }
      ]
    },
    {
      "cell_type": "code",
      "metadata": {
        "id": "zh2CspbJezH-"
      },
      "source": [
        "pred_val = predic['Label']"
      ],
      "execution_count": 111,
      "outputs": []
    },
    {
      "cell_type": "code",
      "metadata": {
        "id": "ps8xJyhRlmuS",
        "outputId": "886da709-48d1-4da7-bc4a-87fcae083f8e",
        "colab": {
          "base_uri": "https://localhost:8080/",
          "height": 416
        }
      },
      "source": [
        "#ids = df_churn_test.index\n",
        "#sol = pd.DataFrame({'id': ids, 'Churn':pred_val})\n",
        "#sol"
      ],
      "execution_count": null,
      "outputs": [
        {
          "output_type": "execute_result",
          "data": {
            "text/html": [
              "<div>\n",
              "<style scoped>\n",
              "    .dataframe tbody tr th:only-of-type {\n",
              "        vertical-align: middle;\n",
              "    }\n",
              "\n",
              "    .dataframe tbody tr th {\n",
              "        vertical-align: top;\n",
              "    }\n",
              "\n",
              "    .dataframe thead th {\n",
              "        text-align: right;\n",
              "    }\n",
              "</style>\n",
              "<table border=\"1\" class=\"dataframe\">\n",
              "  <thead>\n",
              "    <tr style=\"text-align: right;\">\n",
              "      <th></th>\n",
              "      <th>id</th>\n",
              "      <th>Churn</th>\n",
              "    </tr>\n",
              "  </thead>\n",
              "  <tbody>\n",
              "    <tr>\n",
              "      <th>0</th>\n",
              "      <td>0</td>\n",
              "      <td>0</td>\n",
              "    </tr>\n",
              "    <tr>\n",
              "      <th>1</th>\n",
              "      <td>1</td>\n",
              "      <td>0</td>\n",
              "    </tr>\n",
              "    <tr>\n",
              "      <th>2</th>\n",
              "      <td>2</td>\n",
              "      <td>0</td>\n",
              "    </tr>\n",
              "    <tr>\n",
              "      <th>3</th>\n",
              "      <td>3</td>\n",
              "      <td>0</td>\n",
              "    </tr>\n",
              "    <tr>\n",
              "      <th>4</th>\n",
              "      <td>4</td>\n",
              "      <td>0</td>\n",
              "    </tr>\n",
              "    <tr>\n",
              "      <th>...</th>\n",
              "      <td>...</td>\n",
              "      <td>...</td>\n",
              "    </tr>\n",
              "    <tr>\n",
              "      <th>1404</th>\n",
              "      <td>1404</td>\n",
              "      <td>0</td>\n",
              "    </tr>\n",
              "    <tr>\n",
              "      <th>1405</th>\n",
              "      <td>1405</td>\n",
              "      <td>0</td>\n",
              "    </tr>\n",
              "    <tr>\n",
              "      <th>1406</th>\n",
              "      <td>1406</td>\n",
              "      <td>0</td>\n",
              "    </tr>\n",
              "    <tr>\n",
              "      <th>1407</th>\n",
              "      <td>1407</td>\n",
              "      <td>1</td>\n",
              "    </tr>\n",
              "    <tr>\n",
              "      <th>1408</th>\n",
              "      <td>1408</td>\n",
              "      <td>0</td>\n",
              "    </tr>\n",
              "  </tbody>\n",
              "</table>\n",
              "<p>1409 rows × 2 columns</p>\n",
              "</div>"
            ],
            "text/plain": [
              "        id  Churn\n",
              "0        0      0\n",
              "1        1      0\n",
              "2        2      0\n",
              "3        3      0\n",
              "4        4      0\n",
              "...    ...    ...\n",
              "1404  1404      0\n",
              "1405  1405      0\n",
              "1406  1406      0\n",
              "1407  1407      1\n",
              "1408  1408      0\n",
              "\n",
              "[1409 rows x 2 columns]"
            ]
          },
          "metadata": {
            "tags": []
          },
          "execution_count": 90
        }
      ]
    },
    {
      "cell_type": "code",
      "metadata": {
        "id": "T0dmBFBbnzz3"
      },
      "source": [
        "#sol.to_csv('submis2.csv')"
      ],
      "execution_count": null,
      "outputs": []
    },
    {
      "cell_type": "code",
      "metadata": {
        "id": "y8vR0iuYpSBN",
        "outputId": "26bf799a-a109-45e7-87ae-bce19089f44c",
        "colab": {
          "base_uri": "https://localhost:8080/",
          "height": 17
        }
      },
      "source": [
        "#files.download('submis2.csv')"
      ],
      "execution_count": null,
      "outputs": [
        {
          "output_type": "display_data",
          "data": {
            "application/javascript": [
              "\n",
              "    async function download(id, filename, size) {\n",
              "      if (!google.colab.kernel.accessAllowed) {\n",
              "        return;\n",
              "      }\n",
              "      const div = document.createElement('div');\n",
              "      const label = document.createElement('label');\n",
              "      label.textContent = `Downloading \"${filename}\": `;\n",
              "      div.appendChild(label);\n",
              "      const progress = document.createElement('progress');\n",
              "      progress.max = size;\n",
              "      div.appendChild(progress);\n",
              "      document.body.appendChild(div);\n",
              "\n",
              "      const buffers = [];\n",
              "      let downloaded = 0;\n",
              "\n",
              "      const channel = await google.colab.kernel.comms.open(id);\n",
              "      // Send a message to notify the kernel that we're ready.\n",
              "      channel.send({})\n",
              "\n",
              "      for await (const message of channel.messages) {\n",
              "        // Send a message to notify the kernel that we're ready.\n",
              "        channel.send({})\n",
              "        if (message.buffers) {\n",
              "          for (const buffer of message.buffers) {\n",
              "            buffers.push(buffer);\n",
              "            downloaded += buffer.byteLength;\n",
              "            progress.value = downloaded;\n",
              "          }\n",
              "        }\n",
              "      }\n",
              "      const blob = new Blob(buffers, {type: 'application/binary'});\n",
              "      const a = document.createElement('a');\n",
              "      a.href = window.URL.createObjectURL(blob);\n",
              "      a.download = filename;\n",
              "      div.appendChild(a);\n",
              "      a.click();\n",
              "      div.remove();\n",
              "    }\n",
              "  "
            ],
            "text/plain": [
              "<IPython.core.display.Javascript object>"
            ]
          },
          "metadata": {
            "tags": []
          }
        },
        {
          "output_type": "display_data",
          "data": {
            "application/javascript": [
              "download(\"download_a7bd9d9b-44ab-4c86-a357-0a9537185874\", \"submis2.csv\", 14698)"
            ],
            "text/plain": [
              "<IPython.core.display.Javascript object>"
            ]
          },
          "metadata": {
            "tags": []
          }
        }
      ]
    },
    {
      "cell_type": "code",
      "metadata": {
        "id": "RHano9fIfmmr"
      },
      "source": [
        "from google.colab import files"
      ],
      "execution_count": 112,
      "outputs": []
    },
    {
      "cell_type": "code",
      "metadata": {
        "id": "1xsbI6q4fmi8",
        "outputId": "53803b76-77f1-4346-c574-add6d2d36b46",
        "colab": {
          "base_uri": "https://localhost:8080/",
          "height": 561
        }
      },
      "source": [
        "ids = df_churn_test['id']\n",
        "output = pd.DataFrame({'id': ids, 'Churn': pred_val})\n",
        "output.to_csv('submission7.csv', index=False)\n",
        "files.download('submission7.csv')"
      ],
      "execution_count": 113,
      "outputs": [
        {
          "output_type": "error",
          "ename": "KeyError",
          "evalue": "ignored",
          "traceback": [
            "\u001b[0;31m---------------------------------------------------------------------------\u001b[0m",
            "\u001b[0;31mKeyError\u001b[0m                                  Traceback (most recent call last)",
            "\u001b[0;32m/usr/local/lib/python3.6/dist-packages/pandas/core/indexes/base.py\u001b[0m in \u001b[0;36mget_loc\u001b[0;34m(self, key, method, tolerance)\u001b[0m\n\u001b[1;32m   2894\u001b[0m             \u001b[0;32mtry\u001b[0m\u001b[0;34m:\u001b[0m\u001b[0;34m\u001b[0m\u001b[0;34m\u001b[0m\u001b[0m\n\u001b[0;32m-> 2895\u001b[0;31m                 \u001b[0;32mreturn\u001b[0m \u001b[0mself\u001b[0m\u001b[0;34m.\u001b[0m\u001b[0m_engine\u001b[0m\u001b[0;34m.\u001b[0m\u001b[0mget_loc\u001b[0m\u001b[0;34m(\u001b[0m\u001b[0mcasted_key\u001b[0m\u001b[0;34m)\u001b[0m\u001b[0;34m\u001b[0m\u001b[0;34m\u001b[0m\u001b[0m\n\u001b[0m\u001b[1;32m   2896\u001b[0m             \u001b[0;32mexcept\u001b[0m \u001b[0mKeyError\u001b[0m \u001b[0;32mas\u001b[0m \u001b[0merr\u001b[0m\u001b[0;34m:\u001b[0m\u001b[0;34m\u001b[0m\u001b[0;34m\u001b[0m\u001b[0m\n",
            "\u001b[0;32mpandas/_libs/index.pyx\u001b[0m in \u001b[0;36mpandas._libs.index.IndexEngine.get_loc\u001b[0;34m()\u001b[0m\n",
            "\u001b[0;32mpandas/_libs/index.pyx\u001b[0m in \u001b[0;36mpandas._libs.index.IndexEngine.get_loc\u001b[0;34m()\u001b[0m\n",
            "\u001b[0;32mpandas/_libs/hashtable_class_helper.pxi\u001b[0m in \u001b[0;36mpandas._libs.hashtable.PyObjectHashTable.get_item\u001b[0;34m()\u001b[0m\n",
            "\u001b[0;32mpandas/_libs/hashtable_class_helper.pxi\u001b[0m in \u001b[0;36mpandas._libs.hashtable.PyObjectHashTable.get_item\u001b[0;34m()\u001b[0m\n",
            "\u001b[0;31mKeyError\u001b[0m: 'id'",
            "\nThe above exception was the direct cause of the following exception:\n",
            "\u001b[0;31mKeyError\u001b[0m                                  Traceback (most recent call last)",
            "\u001b[0;32m<ipython-input-113-fce81d2099e9>\u001b[0m in \u001b[0;36m<module>\u001b[0;34m()\u001b[0m\n\u001b[0;32m----> 1\u001b[0;31m \u001b[0mids\u001b[0m \u001b[0;34m=\u001b[0m \u001b[0mdf_churn_test\u001b[0m\u001b[0;34m[\u001b[0m\u001b[0;34m'id'\u001b[0m\u001b[0;34m]\u001b[0m\u001b[0;34m\u001b[0m\u001b[0;34m\u001b[0m\u001b[0m\n\u001b[0m\u001b[1;32m      2\u001b[0m \u001b[0moutput\u001b[0m \u001b[0;34m=\u001b[0m \u001b[0mpd\u001b[0m\u001b[0;34m.\u001b[0m\u001b[0mDataFrame\u001b[0m\u001b[0;34m(\u001b[0m\u001b[0;34m{\u001b[0m\u001b[0;34m'id'\u001b[0m\u001b[0;34m:\u001b[0m \u001b[0mids\u001b[0m\u001b[0;34m,\u001b[0m \u001b[0;34m'Churn'\u001b[0m\u001b[0;34m:\u001b[0m \u001b[0mpred_val\u001b[0m\u001b[0;34m}\u001b[0m\u001b[0;34m)\u001b[0m\u001b[0;34m\u001b[0m\u001b[0;34m\u001b[0m\u001b[0m\n\u001b[1;32m      3\u001b[0m \u001b[0moutput\u001b[0m\u001b[0;34m.\u001b[0m\u001b[0mto_csv\u001b[0m\u001b[0;34m(\u001b[0m\u001b[0;34m'submission7.csv'\u001b[0m\u001b[0;34m,\u001b[0m \u001b[0mindex\u001b[0m\u001b[0;34m=\u001b[0m\u001b[0;32mFalse\u001b[0m\u001b[0;34m)\u001b[0m\u001b[0;34m\u001b[0m\u001b[0;34m\u001b[0m\u001b[0m\n\u001b[1;32m      4\u001b[0m \u001b[0mfiles\u001b[0m\u001b[0;34m.\u001b[0m\u001b[0mdownload\u001b[0m\u001b[0;34m(\u001b[0m\u001b[0;34m'submission7.csv'\u001b[0m\u001b[0;34m)\u001b[0m\u001b[0;34m\u001b[0m\u001b[0;34m\u001b[0m\u001b[0m\n",
            "\u001b[0;32m/usr/local/lib/python3.6/dist-packages/pandas/core/frame.py\u001b[0m in \u001b[0;36m__getitem__\u001b[0;34m(self, key)\u001b[0m\n\u001b[1;32m   2904\u001b[0m             \u001b[0;32mif\u001b[0m \u001b[0mself\u001b[0m\u001b[0;34m.\u001b[0m\u001b[0mcolumns\u001b[0m\u001b[0;34m.\u001b[0m\u001b[0mnlevels\u001b[0m \u001b[0;34m>\u001b[0m \u001b[0;36m1\u001b[0m\u001b[0;34m:\u001b[0m\u001b[0;34m\u001b[0m\u001b[0;34m\u001b[0m\u001b[0m\n\u001b[1;32m   2905\u001b[0m                 \u001b[0;32mreturn\u001b[0m \u001b[0mself\u001b[0m\u001b[0;34m.\u001b[0m\u001b[0m_getitem_multilevel\u001b[0m\u001b[0;34m(\u001b[0m\u001b[0mkey\u001b[0m\u001b[0;34m)\u001b[0m\u001b[0;34m\u001b[0m\u001b[0;34m\u001b[0m\u001b[0m\n\u001b[0;32m-> 2906\u001b[0;31m             \u001b[0mindexer\u001b[0m \u001b[0;34m=\u001b[0m \u001b[0mself\u001b[0m\u001b[0;34m.\u001b[0m\u001b[0mcolumns\u001b[0m\u001b[0;34m.\u001b[0m\u001b[0mget_loc\u001b[0m\u001b[0;34m(\u001b[0m\u001b[0mkey\u001b[0m\u001b[0;34m)\u001b[0m\u001b[0;34m\u001b[0m\u001b[0;34m\u001b[0m\u001b[0m\n\u001b[0m\u001b[1;32m   2907\u001b[0m             \u001b[0;32mif\u001b[0m \u001b[0mis_integer\u001b[0m\u001b[0;34m(\u001b[0m\u001b[0mindexer\u001b[0m\u001b[0;34m)\u001b[0m\u001b[0;34m:\u001b[0m\u001b[0;34m\u001b[0m\u001b[0;34m\u001b[0m\u001b[0m\n\u001b[1;32m   2908\u001b[0m                 \u001b[0mindexer\u001b[0m \u001b[0;34m=\u001b[0m \u001b[0;34m[\u001b[0m\u001b[0mindexer\u001b[0m\u001b[0;34m]\u001b[0m\u001b[0;34m\u001b[0m\u001b[0;34m\u001b[0m\u001b[0m\n",
            "\u001b[0;32m/usr/local/lib/python3.6/dist-packages/pandas/core/indexes/base.py\u001b[0m in \u001b[0;36mget_loc\u001b[0;34m(self, key, method, tolerance)\u001b[0m\n\u001b[1;32m   2895\u001b[0m                 \u001b[0;32mreturn\u001b[0m \u001b[0mself\u001b[0m\u001b[0;34m.\u001b[0m\u001b[0m_engine\u001b[0m\u001b[0;34m.\u001b[0m\u001b[0mget_loc\u001b[0m\u001b[0;34m(\u001b[0m\u001b[0mcasted_key\u001b[0m\u001b[0;34m)\u001b[0m\u001b[0;34m\u001b[0m\u001b[0;34m\u001b[0m\u001b[0m\n\u001b[1;32m   2896\u001b[0m             \u001b[0;32mexcept\u001b[0m \u001b[0mKeyError\u001b[0m \u001b[0;32mas\u001b[0m \u001b[0merr\u001b[0m\u001b[0;34m:\u001b[0m\u001b[0;34m\u001b[0m\u001b[0;34m\u001b[0m\u001b[0m\n\u001b[0;32m-> 2897\u001b[0;31m                 \u001b[0;32mraise\u001b[0m \u001b[0mKeyError\u001b[0m\u001b[0;34m(\u001b[0m\u001b[0mkey\u001b[0m\u001b[0;34m)\u001b[0m \u001b[0;32mfrom\u001b[0m \u001b[0merr\u001b[0m\u001b[0;34m\u001b[0m\u001b[0;34m\u001b[0m\u001b[0m\n\u001b[0m\u001b[1;32m   2898\u001b[0m \u001b[0;34m\u001b[0m\u001b[0m\n\u001b[1;32m   2899\u001b[0m         \u001b[0;32mif\u001b[0m \u001b[0mtolerance\u001b[0m \u001b[0;32mis\u001b[0m \u001b[0;32mnot\u001b[0m \u001b[0;32mNone\u001b[0m\u001b[0;34m:\u001b[0m\u001b[0;34m\u001b[0m\u001b[0;34m\u001b[0m\u001b[0m\n",
            "\u001b[0;31mKeyError\u001b[0m: 'id'"
          ]
        }
      ]
    },
    {
      "cell_type": "code",
      "metadata": {
        "id": "hVby71NluMta",
        "outputId": "2a262a48-2347-43c3-fc3a-9f79207fa8ad",
        "colab": {
          "base_uri": "https://localhost:8080/",
          "height": 416
        }
      },
      "source": [
        "output"
      ],
      "execution_count": null,
      "outputs": [
        {
          "output_type": "execute_result",
          "data": {
            "text/html": [
              "<div>\n",
              "<style scoped>\n",
              "    .dataframe tbody tr th:only-of-type {\n",
              "        vertical-align: middle;\n",
              "    }\n",
              "\n",
              "    .dataframe tbody tr th {\n",
              "        vertical-align: top;\n",
              "    }\n",
              "\n",
              "    .dataframe thead th {\n",
              "        text-align: right;\n",
              "    }\n",
              "</style>\n",
              "<table border=\"1\" class=\"dataframe\">\n",
              "  <thead>\n",
              "    <tr style=\"text-align: right;\">\n",
              "      <th></th>\n",
              "      <th>id</th>\n",
              "      <th>Churn</th>\n",
              "    </tr>\n",
              "  </thead>\n",
              "  <tbody>\n",
              "    <tr>\n",
              "      <th>0</th>\n",
              "      <td>0</td>\n",
              "      <td>0</td>\n",
              "    </tr>\n",
              "    <tr>\n",
              "      <th>1</th>\n",
              "      <td>1</td>\n",
              "      <td>0</td>\n",
              "    </tr>\n",
              "    <tr>\n",
              "      <th>2</th>\n",
              "      <td>2</td>\n",
              "      <td>0</td>\n",
              "    </tr>\n",
              "    <tr>\n",
              "      <th>3</th>\n",
              "      <td>3</td>\n",
              "      <td>0</td>\n",
              "    </tr>\n",
              "    <tr>\n",
              "      <th>4</th>\n",
              "      <td>4</td>\n",
              "      <td>0</td>\n",
              "    </tr>\n",
              "    <tr>\n",
              "      <th>...</th>\n",
              "      <td>...</td>\n",
              "      <td>...</td>\n",
              "    </tr>\n",
              "    <tr>\n",
              "      <th>1404</th>\n",
              "      <td>1404</td>\n",
              "      <td>0</td>\n",
              "    </tr>\n",
              "    <tr>\n",
              "      <th>1405</th>\n",
              "      <td>1405</td>\n",
              "      <td>0</td>\n",
              "    </tr>\n",
              "    <tr>\n",
              "      <th>1406</th>\n",
              "      <td>1406</td>\n",
              "      <td>0</td>\n",
              "    </tr>\n",
              "    <tr>\n",
              "      <th>1407</th>\n",
              "      <td>1407</td>\n",
              "      <td>1</td>\n",
              "    </tr>\n",
              "    <tr>\n",
              "      <th>1408</th>\n",
              "      <td>1408</td>\n",
              "      <td>0</td>\n",
              "    </tr>\n",
              "  </tbody>\n",
              "</table>\n",
              "<p>1409 rows × 2 columns</p>\n",
              "</div>"
            ],
            "text/plain": [
              "        id  Churn\n",
              "0        0      0\n",
              "1        1      0\n",
              "2        2      0\n",
              "3        3      0\n",
              "4        4      0\n",
              "...    ...    ...\n",
              "1404  1404      0\n",
              "1405  1405      0\n",
              "1406  1406      0\n",
              "1407  1407      1\n",
              "1408  1408      0\n",
              "\n",
              "[1409 rows x 2 columns]"
            ]
          },
          "metadata": {
            "tags": []
          },
          "execution_count": 101
        }
      ]
    },
    {
      "cell_type": "code",
      "metadata": {
        "id": "utjoxV39iKuc",
        "outputId": "fec869b4-bf80-4983-e5ac-5351eabd4922",
        "colab": {
          "base_uri": "https://localhost:8080/",
          "height": 286
        }
      },
      "source": [
        "#files.download('submission.csv')"
      ],
      "execution_count": null,
      "outputs": [
        {
          "output_type": "error",
          "ename": "FileNotFoundError",
          "evalue": "ignored",
          "traceback": [
            "\u001b[0;31m---------------------------------------------------------------------------\u001b[0m",
            "\u001b[0;31mFileNotFoundError\u001b[0m                         Traceback (most recent call last)",
            "\u001b[0;32m<ipython-input-100-bf2d7505626d>\u001b[0m in \u001b[0;36m<module>\u001b[0;34m()\u001b[0m\n\u001b[0;32m----> 1\u001b[0;31m \u001b[0mfiles\u001b[0m\u001b[0;34m.\u001b[0m\u001b[0mdownload\u001b[0m\u001b[0;34m(\u001b[0m\u001b[0;34m'submission.csv'\u001b[0m\u001b[0;34m)\u001b[0m\u001b[0;34m\u001b[0m\u001b[0;34m\u001b[0m\u001b[0m\n\u001b[0m",
            "\u001b[0;32m/usr/local/lib/python3.6/dist-packages/google/colab/files.py\u001b[0m in \u001b[0;36mdownload\u001b[0;34m(filename)\u001b[0m\n\u001b[1;32m    141\u001b[0m       \u001b[0;32mraise\u001b[0m \u001b[0mOSError\u001b[0m\u001b[0;34m(\u001b[0m\u001b[0mmsg\u001b[0m\u001b[0;34m)\u001b[0m\u001b[0;34m\u001b[0m\u001b[0;34m\u001b[0m\u001b[0m\n\u001b[1;32m    142\u001b[0m     \u001b[0;32melse\u001b[0m\u001b[0;34m:\u001b[0m\u001b[0;34m\u001b[0m\u001b[0;34m\u001b[0m\u001b[0m\n\u001b[0;32m--> 143\u001b[0;31m       \u001b[0;32mraise\u001b[0m \u001b[0mFileNotFoundError\u001b[0m\u001b[0;34m(\u001b[0m\u001b[0mmsg\u001b[0m\u001b[0;34m)\u001b[0m  \u001b[0;31m# pylint: disable=undefined-variable\u001b[0m\u001b[0;34m\u001b[0m\u001b[0;34m\u001b[0m\u001b[0m\n\u001b[0m\u001b[1;32m    144\u001b[0m \u001b[0;34m\u001b[0m\u001b[0m\n\u001b[1;32m    145\u001b[0m   \u001b[0mcomm_manager\u001b[0m \u001b[0;34m=\u001b[0m \u001b[0m_IPython\u001b[0m\u001b[0;34m.\u001b[0m\u001b[0mget_ipython\u001b[0m\u001b[0;34m(\u001b[0m\u001b[0;34m)\u001b[0m\u001b[0;34m.\u001b[0m\u001b[0mkernel\u001b[0m\u001b[0;34m.\u001b[0m\u001b[0mcomm_manager\u001b[0m\u001b[0;34m\u001b[0m\u001b[0;34m\u001b[0m\u001b[0m\n",
            "\u001b[0;31mFileNotFoundError\u001b[0m: Cannot find file: submission.csv"
          ]
        }
      ]
    },
    {
      "cell_type": "code",
      "metadata": {
        "id": "7Z0P9Zw2iK1n"
      },
      "source": [
        ""
      ],
      "execution_count": null,
      "outputs": []
    },
    {
      "cell_type": "code",
      "metadata": {
        "id": "jZFV1GpEey_J"
      },
      "source": [
        ""
      ],
      "execution_count": null,
      "outputs": []
    },
    {
      "cell_type": "code",
      "metadata": {
        "id": "BHbGwKgs4t4C",
        "outputId": "bd5235c0-2785-4549-f1b6-a3628badf09c",
        "colab": {
          "base_uri": "https://localhost:8080/",
          "height": 477
        }
      },
      "source": [
        "plot_model(estimator = tuned_gbc, plot = 'feature')"
      ],
      "execution_count": null,
      "outputs": [
        {
          "output_type": "display_data",
          "data": {
            "image/png": "[encoded data removed]",
            "text/plain": [
              "<Figure size 800x500 with 1 Axes>"
            ]
          },
          "metadata": {
            "tags": []
          }
        }
      ]
    },
    {
      "cell_type": "code",
      "metadata": {
        "id": "DHmuU_y34uKD",
        "outputId": "c2a1f234-59a5-4422-ebd6-7c1c0b6cbb13",
        "colab": {
          "base_uri": "https://localhost:8080/",
          "height": 392,
          "referenced_widgets": [
            "714225fe59b643aa9918adedde41ebb7",
            "430054a542ba4d9fa1c018de275f58b4",
            "e4f5428aa50f4affaf502b7a30cb0412"
          ]
        }
      },
      "source": [
        "catb = create_model('catboost')\n"
      ],
      "execution_count": null,
      "outputs": [
        {
          "output_type": "display_data",
          "data": {
            "text/html": [
              "<div>\n",
              "<style scoped>\n",
              "    .dataframe tbody tr th:only-of-type {\n",
              "        vertical-align: middle;\n",
              "    }\n",
              "\n",
              "    .dataframe tbody tr th {\n",
              "        vertical-align: top;\n",
              "    }\n",
              "\n",
              "    .dataframe thead th {\n",
              "        text-align: right;\n",
              "    }\n",
              "</style>\n",
              "<table border=\"1\" class=\"dataframe\">\n",
              "  <thead>\n",
              "    <tr style=\"text-align: right;\">\n",
              "      <th></th>\n",
              "      <th>Accuracy</th>\n",
              "      <th>AUC</th>\n",
              "      <th>Recall</th>\n",
              "      <th>Prec.</th>\n",
              "      <th>F1</th>\n",
              "      <th>Kappa</th>\n",
              "      <th>MCC</th>\n",
              "    </tr>\n",
              "  </thead>\n",
              "  <tbody>\n",
              "    <tr>\n",
              "      <th>0</th>\n",
              "      <td>0.8051</td>\n",
              "      <td>0.8404</td>\n",
              "      <td>0.7173</td>\n",
              "      <td>0.7959</td>\n",
              "      <td>0.7982</td>\n",
              "      <td>0.4623</td>\n",
              "      <td>0.4664</td>\n",
              "    </tr>\n",
              "    <tr>\n",
              "      <th>1</th>\n",
              "      <td>0.8228</td>\n",
              "      <td>0.8651</td>\n",
              "      <td>0.7105</td>\n",
              "      <td>0.8148</td>\n",
              "      <td>0.8082</td>\n",
              "      <td>0.4780</td>\n",
              "      <td>0.4984</td>\n",
              "    </tr>\n",
              "    <tr>\n",
              "      <th>2</th>\n",
              "      <td>0.7924</td>\n",
              "      <td>0.8294</td>\n",
              "      <td>0.7025</td>\n",
              "      <td>0.7826</td>\n",
              "      <td>0.7856</td>\n",
              "      <td>0.4293</td>\n",
              "      <td>0.4327</td>\n",
              "    </tr>\n",
              "    <tr>\n",
              "      <th>3</th>\n",
              "      <td>0.8299</td>\n",
              "      <td>0.8799</td>\n",
              "      <td>0.7406</td>\n",
              "      <td>0.8221</td>\n",
              "      <td>0.8217</td>\n",
              "      <td>0.5222</td>\n",
              "      <td>0.5307</td>\n",
              "    </tr>\n",
              "    <tr>\n",
              "      <th>4</th>\n",
              "      <td>0.8071</td>\n",
              "      <td>0.8514</td>\n",
              "      <td>0.7136</td>\n",
              "      <td>0.7970</td>\n",
              "      <td>0.7989</td>\n",
              "      <td>0.4594</td>\n",
              "      <td>0.4651</td>\n",
              "    </tr>\n",
              "    <tr>\n",
              "      <th>5</th>\n",
              "      <td>0.8249</td>\n",
              "      <td>0.8555</td>\n",
              "      <td>0.7479</td>\n",
              "      <td>0.8183</td>\n",
              "      <td>0.8201</td>\n",
              "      <td>0.5207</td>\n",
              "      <td>0.5235</td>\n",
              "    </tr>\n",
              "    <tr>\n",
              "      <th>6</th>\n",
              "      <td>0.8096</td>\n",
              "      <td>0.8649</td>\n",
              "      <td>0.7376</td>\n",
              "      <td>0.8047</td>\n",
              "      <td>0.8067</td>\n",
              "      <td>0.4893</td>\n",
              "      <td>0.4902</td>\n",
              "    </tr>\n",
              "    <tr>\n",
              "      <th>7</th>\n",
              "      <td>0.8020</td>\n",
              "      <td>0.8548</td>\n",
              "      <td>0.7165</td>\n",
              "      <td>0.7936</td>\n",
              "      <td>0.7962</td>\n",
              "      <td>0.4563</td>\n",
              "      <td>0.4592</td>\n",
              "    </tr>\n",
              "    <tr>\n",
              "      <th>8</th>\n",
              "      <td>0.8274</td>\n",
              "      <td>0.8660</td>\n",
              "      <td>0.7592</td>\n",
              "      <td>0.8227</td>\n",
              "      <td>0.8244</td>\n",
              "      <td>0.5354</td>\n",
              "      <td>0.5367</td>\n",
              "    </tr>\n",
              "    <tr>\n",
              "      <th>9</th>\n",
              "      <td>0.8198</td>\n",
              "      <td>0.8416</td>\n",
              "      <td>0.7508</td>\n",
              "      <td>0.8152</td>\n",
              "      <td>0.8170</td>\n",
              "      <td>0.5165</td>\n",
              "      <td>0.5175</td>\n",
              "    </tr>\n",
              "    <tr>\n",
              "      <th>Mean</th>\n",
              "      <td>0.8141</td>\n",
              "      <td>0.8549</td>\n",
              "      <td>0.7297</td>\n",
              "      <td>0.8067</td>\n",
              "      <td>0.8077</td>\n",
              "      <td>0.4869</td>\n",
              "      <td>0.4920</td>\n",
              "    </tr>\n",
              "    <tr>\n",
              "      <th>SD</th>\n",
              "      <td>0.0119</td>\n",
              "      <td>0.0142</td>\n",
              "      <td>0.0188</td>\n",
              "      <td>0.0132</td>\n",
              "      <td>0.0123</td>\n",
              "      <td>0.0336</td>\n",
              "      <td>0.0334</td>\n",
              "    </tr>\n",
              "  </tbody>\n",
              "</table>\n",
              "</div>"
            ],
            "text/plain": [
              "      Accuracy     AUC  Recall   Prec.      F1   Kappa     MCC\n",
              "0       0.8051  0.8404  0.7173  0.7959  0.7982  0.4623  0.4664\n",
              "1       0.8228  0.8651  0.7105  0.8148  0.8082  0.4780  0.4984\n",
              "2       0.7924  0.8294  0.7025  0.7826  0.7856  0.4293  0.4327\n",
              "3       0.8299  0.8799  0.7406  0.8221  0.8217  0.5222  0.5307\n",
              "4       0.8071  0.8514  0.7136  0.7970  0.7989  0.4594  0.4651\n",
              "5       0.8249  0.8555  0.7479  0.8183  0.8201  0.5207  0.5235\n",
              "6       0.8096  0.8649  0.7376  0.8047  0.8067  0.4893  0.4902\n",
              "7       0.8020  0.8548  0.7165  0.7936  0.7962  0.4563  0.4592\n",
              "8       0.8274  0.8660  0.7592  0.8227  0.8244  0.5354  0.5367\n",
              "9       0.8198  0.8416  0.7508  0.8152  0.8170  0.5165  0.5175\n",
              "Mean    0.8141  0.8549  0.7297  0.8067  0.8077  0.4869  0.4920\n",
              "SD      0.0119  0.0142  0.0188  0.0132  0.0123  0.0336  0.0334"
            ]
          },
          "metadata": {
            "tags": []
          }
        }
      ]
    },
    {
      "cell_type": "code",
      "metadata": {
        "id": "BsH0ktKz6RHD",
        "outputId": "bc3c09de-5f5d-431b-a745-2d0079cd3801",
        "colab": {
          "base_uri": "https://localhost:8080/",
          "height": 392,
          "referenced_widgets": [
            "a9103474a93b4ff4bee316fd7d7dd915",
            "7141dcf14a8446089775fc089e624677",
            "04b8bc46729142ecbaac25773c85bf7a"
          ]
        }
      },
      "source": [
        "tuned_catb = tune_model(catb)"
      ],
      "execution_count": null,
      "outputs": [
        {
          "output_type": "display_data",
          "data": {
            "text/html": [
              "<div>\n",
              "<style scoped>\n",
              "    .dataframe tbody tr th:only-of-type {\n",
              "        vertical-align: middle;\n",
              "    }\n",
              "\n",
              "    .dataframe tbody tr th {\n",
              "        vertical-align: top;\n",
              "    }\n",
              "\n",
              "    .dataframe thead th {\n",
              "        text-align: right;\n",
              "    }\n",
              "</style>\n",
              "<table border=\"1\" class=\"dataframe\">\n",
              "  <thead>\n",
              "    <tr style=\"text-align: right;\">\n",
              "      <th></th>\n",
              "      <th>Accuracy</th>\n",
              "      <th>AUC</th>\n",
              "      <th>Recall</th>\n",
              "      <th>Prec.</th>\n",
              "      <th>F1</th>\n",
              "      <th>Kappa</th>\n",
              "      <th>MCC</th>\n",
              "    </tr>\n",
              "  </thead>\n",
              "  <tbody>\n",
              "    <tr>\n",
              "      <th>0</th>\n",
              "      <td>0.8177</td>\n",
              "      <td>0.8445</td>\n",
              "      <td>0.7290</td>\n",
              "      <td>0.8089</td>\n",
              "      <td>0.8101</td>\n",
              "      <td>0.4921</td>\n",
              "      <td>0.4981</td>\n",
              "    </tr>\n",
              "    <tr>\n",
              "      <th>1</th>\n",
              "      <td>0.8228</td>\n",
              "      <td>0.8693</td>\n",
              "      <td>0.7105</td>\n",
              "      <td>0.8148</td>\n",
              "      <td>0.8082</td>\n",
              "      <td>0.4780</td>\n",
              "      <td>0.4984</td>\n",
              "    </tr>\n",
              "    <tr>\n",
              "      <th>2</th>\n",
              "      <td>0.7924</td>\n",
              "      <td>0.8402</td>\n",
              "      <td>0.7088</td>\n",
              "      <td>0.7844</td>\n",
              "      <td>0.7873</td>\n",
              "      <td>0.4368</td>\n",
              "      <td>0.4388</td>\n",
              "    </tr>\n",
              "    <tr>\n",
              "      <th>3</th>\n",
              "      <td>0.8376</td>\n",
              "      <td>0.8794</td>\n",
              "      <td>0.7552</td>\n",
              "      <td>0.8308</td>\n",
              "      <td>0.8308</td>\n",
              "      <td>0.5482</td>\n",
              "      <td>0.5549</td>\n",
              "    </tr>\n",
              "    <tr>\n",
              "      <th>4</th>\n",
              "      <td>0.8046</td>\n",
              "      <td>0.8464</td>\n",
              "      <td>0.7214</td>\n",
              "      <td>0.7967</td>\n",
              "      <td>0.7993</td>\n",
              "      <td>0.4651</td>\n",
              "      <td>0.4677</td>\n",
              "    </tr>\n",
              "    <tr>\n",
              "      <th>5</th>\n",
              "      <td>0.8274</td>\n",
              "      <td>0.8530</td>\n",
              "      <td>0.7496</td>\n",
              "      <td>0.8207</td>\n",
              "      <td>0.8224</td>\n",
              "      <td>0.5260</td>\n",
              "      <td>0.5293</td>\n",
              "    </tr>\n",
              "    <tr>\n",
              "      <th>6</th>\n",
              "      <td>0.8122</td>\n",
              "      <td>0.8697</td>\n",
              "      <td>0.7266</td>\n",
              "      <td>0.8037</td>\n",
              "      <td>0.8059</td>\n",
              "      <td>0.4807</td>\n",
              "      <td>0.4846</td>\n",
              "    </tr>\n",
              "    <tr>\n",
              "      <th>7</th>\n",
              "      <td>0.8274</td>\n",
              "      <td>0.8569</td>\n",
              "      <td>0.7592</td>\n",
              "      <td>0.8227</td>\n",
              "      <td>0.8244</td>\n",
              "      <td>0.5354</td>\n",
              "      <td>0.5367</td>\n",
              "    </tr>\n",
              "    <tr>\n",
              "      <th>8</th>\n",
              "      <td>0.8299</td>\n",
              "      <td>0.8621</td>\n",
              "      <td>0.7481</td>\n",
              "      <td>0.8227</td>\n",
              "      <td>0.8239</td>\n",
              "      <td>0.5283</td>\n",
              "      <td>0.5330</td>\n",
              "    </tr>\n",
              "    <tr>\n",
              "      <th>9</th>\n",
              "      <td>0.7995</td>\n",
              "      <td>0.8398</td>\n",
              "      <td>0.7244</td>\n",
              "      <td>0.7942</td>\n",
              "      <td>0.7964</td>\n",
              "      <td>0.4620</td>\n",
              "      <td>0.4629</td>\n",
              "    </tr>\n",
              "    <tr>\n",
              "      <th>Mean</th>\n",
              "      <td>0.8171</td>\n",
              "      <td>0.8562</td>\n",
              "      <td>0.7333</td>\n",
              "      <td>0.8100</td>\n",
              "      <td>0.8109</td>\n",
              "      <td>0.4953</td>\n",
              "      <td>0.5004</td>\n",
              "    </tr>\n",
              "    <tr>\n",
              "      <th>SD</th>\n",
              "      <td>0.0139</td>\n",
              "      <td>0.0130</td>\n",
              "      <td>0.0174</td>\n",
              "      <td>0.0142</td>\n",
              "      <td>0.0135</td>\n",
              "      <td>0.0352</td>\n",
              "      <td>0.0357</td>\n",
              "    </tr>\n",
              "  </tbody>\n",
              "</table>\n",
              "</div>"
            ],
            "text/plain": [
              "      Accuracy     AUC  Recall   Prec.      F1   Kappa     MCC\n",
              "0       0.8177  0.8445  0.7290  0.8089  0.8101  0.4921  0.4981\n",
              "1       0.8228  0.8693  0.7105  0.8148  0.8082  0.4780  0.4984\n",
              "2       0.7924  0.8402  0.7088  0.7844  0.7873  0.4368  0.4388\n",
              "3       0.8376  0.8794  0.7552  0.8308  0.8308  0.5482  0.5549\n",
              "4       0.8046  0.8464  0.7214  0.7967  0.7993  0.4651  0.4677\n",
              "5       0.8274  0.8530  0.7496  0.8207  0.8224  0.5260  0.5293\n",
              "6       0.8122  0.8697  0.7266  0.8037  0.8059  0.4807  0.4846\n",
              "7       0.8274  0.8569  0.7592  0.8227  0.8244  0.5354  0.5367\n",
              "8       0.8299  0.8621  0.7481  0.8227  0.8239  0.5283  0.5330\n",
              "9       0.7995  0.8398  0.7244  0.7942  0.7964  0.4620  0.4629\n",
              "Mean    0.8171  0.8562  0.7333  0.8100  0.8109  0.4953  0.5004\n",
              "SD      0.0139  0.0130  0.0174  0.0142  0.0135  0.0352  0.0357"
            ]
          },
          "metadata": {
            "tags": []
          }
        }
      ]
    },
    {
      "cell_type": "code",
      "metadata": {
        "id": "NUYhLgLS6RKU",
        "outputId": "65086d2c-2c5d-4451-fca6-adaf4b548c83",
        "colab": {
          "base_uri": "https://localhost:8080/",
          "height": 376,
          "referenced_widgets": [
            "4f4933491a434565ac9fa5b9d79fe73c",
            "fe5cc687f0924be0b72dc340de7949bf",
            "1588653edba944f4a5f8559c7cf675e8"
          ]
        }
      },
      "source": [
        "plot_model(estimator = tuned_catb, plot = 'learning')"
      ],
      "execution_count": null,
      "outputs": [
        {
          "output_type": "display_data",
          "data": {
            "image/png": "[encoded data removed]",
            "text/plain": [
              "<Figure size 576x396 with 1 Axes>"
            ]
          },
          "metadata": {
            "tags": []
          }
        }
      ]
    },
    {
      "cell_type": "code",
      "metadata": {
        "id": "b2peoxI86tUs",
        "outputId": "8312ced2-3906-438b-cce2-7a7646301651",
        "colab": {
          "base_uri": "https://localhost:8080/",
          "height": 376
        }
      },
      "source": [
        "plot_model(estimator = tuned_catb, plot = 'auc')"
      ],
      "execution_count": null,
      "outputs": [
        {
          "output_type": "display_data",
          "data": {
            "image/png": "[encoded data removed]",
            "text/plain": [
              "<Figure size 576x396 with 1 Axes>"
            ]
          },
          "metadata": {
            "tags": []
          }
        }
      ]
    },
    {
      "cell_type": "code",
      "metadata": {
        "id": "LGhlRTa86tdp",
        "outputId": "c65de384-3842-49fc-8c49-564cd83aa4ab",
        "colab": {
          "base_uri": "https://localhost:8080/",
          "height": 401
        }
      },
      "source": [
        "plot_model(estimator = tuned_catb, plot = 'confusion_matrix')"
      ],
      "execution_count": null,
      "outputs": [
        {
          "output_type": "display_data",
          "data": {
            "image/png": "[encoded data removed]",
            "text/plain": [
              "<Figure size 576x396 with 1 Axes>"
            ]
          },
          "metadata": {
            "tags": []
          }
        }
      ]
    },
    {
      "cell_type": "code",
      "metadata": {
        "id": "okyZNlwI7-6l",
        "outputId": "c5e16c0a-5f7c-4a31-e923-f23da7acf789",
        "colab": {
          "base_uri": "https://localhost:8080/",
          "height": 477
        }
      },
      "source": [
        "plot_model(estimator = tuned_gbc, plot = 'feature')"
      ],
      "execution_count": null,
      "outputs": [
        {
          "output_type": "display_data",
          "data": {
            "image/png": "[encoded data removed]",
            "text/plain": [
              "<Figure size 800x500 with 1 Axes>"
            ]
          },
          "metadata": {
            "tags": []
          }
        }
      ]
    },
    {
      "cell_type": "code",
      "metadata": {
        "id": "uh7QhaJI7--8"
      },
      "source": [
        ""
      ],
      "execution_count": null,
      "outputs": []
    },
    {
      "cell_type": "code",
      "metadata": {
        "id": "-_8HHaAD6RQa"
      },
      "source": [
        ""
      ],
      "execution_count": null,
      "outputs": []
    }
  ]
}